{
 "cells": [
  {
   "cell_type": "code",
   "execution_count": 279,
   "metadata": {},
   "outputs": [],
   "source": [
    "import numpy as np\n",
    "import pandas as pd\n",
    "\n",
    "from time import process_time\n",
    "import time\n",
    "\n",
    "import datetime \n",
    "import arrow\n",
    "\n",
    "import sys\n",
    "import os\n",
    "import re \n",
    "import math\n",
    "\n",
    "import tensorflow as tf\n",
    "from scipy.linalg import norm"
   ]
  },
  {
   "cell_type": "code",
   "execution_count": 280,
   "metadata": {},
   "outputs": [],
   "source": [
    "import matplotlib.pyplot as plt\n",
    "plt.style.use('seaborn-darkgrid')\n",
    "plt.rcParams[\"axes.unicode_minus\"]=False #用來正常顯示負號\n",
    "\n",
    "from matplotlib.font_manager import FontProperties\n",
    "myfont = FontProperties(fname=\"C:/Users/s0970/python/113碩二上讀書會/吳蒨芸/TaipeiSansTCBeta-Regular.ttf\")\n",
    "\n",
    "import seaborn as sns\n",
    "sns.set(font=\"Microsoft JhengHei\") #正常顯示中文"
   ]
  },
  {
   "cell_type": "code",
   "execution_count": 281,
   "metadata": {},
   "outputs": [],
   "source": [
    "from nltk.tokenize import RegexpTokenizer #正則化斷詞\n",
    "from nltk.tokenize import word_tokenize #斷詞\n",
    "\n",
    "from sklearn.feature_extraction.text import CountVectorizer\n",
    "from sklearn.feature_extraction.text import TfidfVectorizer\n",
    "from gensim.models.word2vec import Word2Vec\n",
    "\n",
    "from sklearn.model_selection import train_test_split\n",
    "from sklearn import metrics \n",
    "from sklearn.metrics import confusion_matrix\n",
    "\n",
    "from sklearn.naive_bayes import MultinomialNB\n",
    "from sklearn.ensemble import RandomForestClassifier\n",
    "from sklearn.svm import SVC\n",
    "from sklearn.ensemble import GradientBoostingClassifier\n",
    "\n",
    "from imblearn.over_sampling import SMOTE"
   ]
  },
  {
   "cell_type": "code",
   "execution_count": 282,
   "metadata": {},
   "outputs": [],
   "source": [
    "iceland = pd.read_csv(\"iceland_real.csv\",index_col=0)\n",
    "greece = pd.read_csv(\"greece_real.csv\",index_col=0)"
   ]
  },
  {
   "cell_type": "code",
   "execution_count": 277,
   "metadata": {},
   "outputs": [
    {
     "data": {
      "text/plain": [
       "84"
      ]
     },
     "execution_count": 277,
     "metadata": {},
     "output_type": "execute_result"
    }
   ],
   "source": [
    "len(iceland[\"name\"].value_counts())"
   ]
  },
  {
   "cell_type": "code",
   "execution_count": 278,
   "metadata": {},
   "outputs": [
    {
     "data": {
      "text/plain": [
       "70"
      ]
     },
     "execution_count": 278,
     "metadata": {},
     "output_type": "execute_result"
    }
   ],
   "source": [
    "len(greece[\"name\"].value_counts())"
   ]
  },
  {
   "cell_type": "code",
   "execution_count": 274,
   "metadata": {},
   "outputs": [],
   "source": [
    "iceland[\"reviews_clear\"] = iceland[\"reviews_clear\"].apply(lambda x : np.str(x))"
   ]
  },
  {
   "cell_type": "code",
   "execution_count": 406,
   "metadata": {},
   "outputs": [],
   "source": [
    "greece[\"reviews_clear\"] = greece[\"reviews_clear\"].apply(lambda x : np.str(x))"
   ]
  },
  {
   "cell_type": "code",
   "execution_count": 76,
   "metadata": {},
   "outputs": [],
   "source": [
    "cbow = Word2Vec.load('cbow_iceland.model')"
   ]
  },
  {
   "cell_type": "code",
   "execution_count": 396,
   "metadata": {},
   "outputs": [],
   "source": [
    "skip = Word2Vec.load('skip_greece.model')"
   ]
  },
  {
   "cell_type": "markdown",
   "metadata": {},
   "source": [
    "## 算向量"
   ]
  },
  {
   "cell_type": "code",
   "execution_count": 401,
   "metadata": {},
   "outputs": [],
   "source": [
    "def vector_similarity(s1, s2):\n",
    "    def sentence_vector(s):\n",
    "        v = np.zeros(1000)\n",
    "        for word in word_tokenize(s):\n",
    "            try:\n",
    "                v += cbow.wv[word.lower()]\n",
    "            except:\n",
    "                continue\n",
    "        v /= len(s)\n",
    "        return v\n",
    "\n",
    "    v1, v2 = sentence_vector(s1), sentence_vector(s2)\n",
    "    return np.dot(v1, v2) / (norm(v1) * norm(v2))"
   ]
  },
  {
   "cell_type": "code",
   "execution_count": 408,
   "metadata": {},
   "outputs": [],
   "source": [
    "def vector_similarity2(s1, s2):\n",
    "    def sentence_vector(s):\n",
    "        v = np.zeros(1000)\n",
    "        for word in word_tokenize(s):\n",
    "            try:\n",
    "                v += skip.wv[word.lower()]\n",
    "            except:\n",
    "                continue\n",
    "        v /= len(s)\n",
    "        return v\n",
    "\n",
    "    v1, v2 = sentence_vector(s1), sentence_vector(s2)\n",
    "    return np.dot(v1, v2) / (norm(v1) * norm(v2))"
   ]
  },
  {
   "cell_type": "code",
   "execution_count": 405,
   "metadata": {},
   "outputs": [
    {
     "data": {
      "text/plain": [
       "0.12808228886087877"
      ]
     },
     "execution_count": 405,
     "metadata": {},
     "output_type": "execute_result"
    }
   ],
   "source": [
    "vector_similarity2(\"hotel\", \"room\")"
   ]
  },
  {
   "cell_type": "code",
   "execution_count": 415,
   "metadata": {},
   "outputs": [
    {
     "data": {
      "text/plain": [
       "0.26757553085193997"
      ]
     },
     "execution_count": 415,
     "metadata": {},
     "output_type": "execute_result"
    }
   ],
   "source": [
    "vector_similarity2(\"hotel\", re.sub(\"\\n\",\"\",greece.loc[(greece.sentiment==1)&(greece[\"name\"]==\"Metropolis Hotel（大都市酒店）\"),:].translate_reviews[147]))"
   ]
  },
  {
   "cell_type": "markdown",
   "metadata": {},
   "source": [
    "## 特徵字"
   ]
  },
  {
   "cell_type": "code",
   "execution_count": 409,
   "metadata": {},
   "outputs": [],
   "source": [
    "token_re = RegexpTokenizer(r'[a-zA-Z0-9]+')\n",
    "\n",
    "def keyword_20_1(text):\n",
    "    tfc = TfidfVectorizer(max_features=20,stop_words=\"english\",max_df=0.3,ngram_range = (1,1),tokenizer = token_re.tokenize,smooth_idf=True, norm='l2')\n",
    "    text_tfc= tfc.fit_transform(text)\n",
    "    \n",
    "    return tfc.vocabulary_.keys()\n",
    "\n",
    "def keyword_20_2(text):\n",
    "    tfc = TfidfVectorizer(max_features=20,stop_words=\"english\",max_df=0.3,ngram_range = (2,2),tokenizer = token_re.tokenize,smooth_idf=True, norm='l2')\n",
    "    text_tfc= tfc.fit_transform(text)\n",
    "    \n",
    "    return tfc.vocabulary_.keys()\n",
    "\n",
    "def keyword_50_1(text):\n",
    "    tfc = TfidfVectorizer(max_features=50,stop_words=\"english\",max_df=0.3,ngram_range = (1,1),tokenizer = token_re.tokenize,smooth_idf=True, norm='l2')\n",
    "    text_tfc= tfc.fit_transform(text)\n",
    "    \n",
    "    return tfc.vocabulary_.keys()\n",
    "\n",
    "def keyword_50_2(text):\n",
    "    tfc = TfidfVectorizer(max_features=50,stop_words=\"english\",max_df=0.3,ngram_range = (2,2),tokenizer = token_re.tokenize,smooth_idf=True, norm='l2')\n",
    "    text_tfc= tfc.fit_transform(text)\n",
    "    \n",
    "    return tfc.vocabulary_.keys()\n",
    "\n",
    "def keyword_50_23(text):\n",
    "    tfc = TfidfVectorizer(max_features=50,stop_words=\"english\",max_df=0.3,ngram_range = (2,3),tokenizer = token_re.tokenize,smooth_idf=True, norm='l2')\n",
    "    text_tfc= tfc.fit_transform(text)\n",
    "    \n",
    "    return tfc.vocabulary_.keys()"
   ]
  },
  {
   "cell_type": "code",
   "execution_count": 410,
   "metadata": {},
   "outputs": [],
   "source": [
    "def hotel_keyword(country_data,hotel_name):\n",
    "    \n",
    "    df = country_data.loc[country_data[\"name\"]==hotel_name,:].reviews_clear\n",
    "    df_n = country_data.loc[(country_data[\"name\"]==hotel_name)&(country_data.sentiment==1),:].reviews_clear\n",
    "    df_p = country_data.loc[(country_data[\"name\"]==hotel_name)&(country_data.sentiment==0),:].reviews_clear\n",
    "\n",
    "    def cond_entropy(word):\n",
    "        \n",
    "        count = 0\n",
    "        for text in df:\n",
    "            if word in str(text):\n",
    "                count+=1\n",
    "                \n",
    "        count_1 = 0\n",
    "        for text in df_n:\n",
    "            if word in str(text):\n",
    "                count_1+=1\n",
    "        \n",
    "        count_2 = 0\n",
    "        for text in df_p:\n",
    "            if word in str(text):\n",
    "                count_2+=1\n",
    "\n",
    "        n1 = len(df_n)\n",
    "        n2 = len(df_p)\n",
    "\n",
    "        p1 = (count_1/n1)/(count_1/n1+count_2/n2)\n",
    "        p2 = (count_2/n2)/(count_1/n1+count_2/n2)\n",
    "\n",
    "        ans =  abs (- (p1 * math.log(p1+0.0000000001,2) + p2 * math.log(p2+0.0000000001,2)))\n",
    "\n",
    "        return ans\n",
    "\n",
    "    mean_keypoint = {}\n",
    "    for i in keyword_50_23(df_n):\n",
    "        try:\n",
    "            mean_keypoint.update({i:round(cond_entropy((i)),5)})\n",
    "        except:\n",
    "            continue\n",
    "\n",
    "    sorted(mean_keypoint.items(), key = lambda x : x[1] )\n",
    "\n",
    "\n",
    "    return list(dict(sorted(mean_keypoint.items(), key = lambda x : x[1])).keys())[:30]\n",
    "\n",
    "    "
   ]
  },
  {
   "cell_type": "markdown",
   "metadata": {},
   "source": [
    "## 每個旅館得分"
   ]
  },
  {
   "cell_type": "code",
   "execution_count": 416,
   "metadata": {},
   "outputs": [],
   "source": [
    "def Recommended_hotel(hotel_list,negative_reviews):\n",
    "\n",
    "    hotel_score = {}\n",
    "    for name in hotel_list:\n",
    "\n",
    "        try:\n",
    "            strings = hotel_keyword(greece,name)\n",
    "            target = negative_reviews \n",
    "\n",
    "            score = {}\n",
    "            for string in strings:\n",
    "                score.update({string:vector_similarity2(string, target)})\n",
    "\n",
    "            score_mean = np.mean([i[1] for i in list(sorted(score.items(), key = lambda x : x[1],reverse=True))[:5]])\n",
    "\n",
    "            hotel_score.update({name:score_mean})\n",
    "        except:\n",
    "            continue\n",
    "        \n",
    "    return sorted(hotel_score.items(), key = lambda x : x[1] )"
   ]
  },
  {
   "cell_type": "markdown",
   "metadata": {},
   "source": [
    "### 冰島"
   ]
  },
  {
   "cell_type": "code",
   "execution_count": 381,
   "metadata": {},
   "outputs": [
    {
     "data": {
      "text/plain": [
       "'When we arrived they gave us two rooms. One of them was not cleaned from the previous client. After that, we complained to the night swift receptionist and she gave us another room which was underground. The second room was totally different from the first one, there were two single beds instead of one double ( which we asked when we booked the rooms), the room was full of flies and the wifi connection was weak! !  The worst part of our experience was the rude behaviour of the receptionist. When we complained about the room condition she told us \"go away\". Unfortunately the behaviour was totally unprofessional. I strongly not recommend the hotel not for the flies neither for the dirty room as mistakes happen  but for the rude behavior.'"
      ]
     },
     "execution_count": 381,
     "metadata": {},
     "output_type": "execute_result"
    }
   ],
   "source": [
    "re.sub(\"\\n\",\"\",iceland.loc[(iceland.sentiment==1)&(iceland[\"name\"]==\"Hotel Kjarnalundur（賈爾納倫杜酒店）\"),:].translate_reviews[7968])"
   ]
  },
  {
   "cell_type": "code",
   "execution_count": 382,
   "metadata": {},
   "outputs": [
    {
     "name": "stdout",
     "output_type": "stream",
     "text": [
      "0.23143411523420696\n",
      "-0.15019424415830568\n",
      "0.06375268754530987\n",
      "0.28184846590156454\n",
      "-0.021777759775452717\n",
      "-0.07548941166533191\n",
      "-0.07792186026741661\n"
     ]
    }
   ],
   "source": [
    "n_list = [\"The room is dirty\",\"The hotel is very good and highly recommended\",\"Bad wifi signal\",\"There is a rude receptionist\",\"The location of this hotel is good\",\"The weather today is good\",\"Breakfast is really bad\"]\n",
    "\n",
    "score = {}\n",
    "for string in n_list:\n",
    "    print(vector_similarity(string, iceland.loc[(iceland.sentiment==1)&(iceland[\"name\"]==\"Hotel Kjarnalundur（賈爾納倫杜酒店）\"),:].translate_reviews[7968]))\n"
   ]
  },
  {
   "cell_type": "code",
   "execution_count": 383,
   "metadata": {},
   "outputs": [
    {
     "name": "stderr",
     "output_type": "stream",
     "text": [
      "<ipython-input-283-fc6bebd61ad7>:13: RuntimeWarning: invalid value encountered in double_scalars\n",
      "  return np.dot(v1, v2) / (norm(v1) * norm(v2))\n"
     ]
    },
    {
     "data": {
      "text/plain": [
       "[('Hótel Kría（科里亞酒店）', 0.05993370986338185),\n",
       " ('Eyja Guldsmeden Hotel（艾加古斯米登酒店）', 0.06719243757300408),\n",
       " ('Midgardur by Center Hotels', 0.09090616478287031),\n",
       " ('Reykjavik Residence Apartment Hotel（雷克雅未克公寓酒店）', 0.09829398531618319),\n",
       " ('Icelandair Hotel Myvatn（米湖冰島之空酒店）', 0.09986855384373382),\n",
       " ('Hali Country Hotel（哈利鄉村酒店）', 0.10310890344094152),\n",
       " ('Fosshotel Glacier Lagoon（冰河潟湖福斯酒店）', 0.10336931477076339),\n",
       " ('Eric the Red Guesthouse（埃里克紅旅館）', 0.10487298258358058),\n",
       " ('Guesthouse Carina（卡瑞納旅館）', 0.1100183986846102),\n",
       " ('Lilja Guesthouse（麗杰旅館）', 0.11315874837534427),\n",
       " ('BB Hótel by Reykjavik Keflavik Airport', 0.12934515398824545),\n",
       " ('The Barn', 0.15821502679147503),\n",
       " ('ODDSSON Hotel', 0.16226036328651017),\n",
       " ('Aurora Hotel at Reykjavik-Keflavik Airport Terminal KEF',\n",
       "  0.16860603701959714),\n",
       " ('Center Hotels Plaza', nan),\n",
       " ('Nupan Deluxe（豪華努潘住宿加早餐旅館）', 0.09645825947041427),\n",
       " ('Hótel Laxá（拉夏酒店）', 0.11497367970406266),\n",
       " ('Icelandair Hotel Reykjavik Natura（雷克雅未克納圖拉冰島航空酒店）', 0.1208440093314759),\n",
       " ('Klausturhof Guesthouse（克勞斯托霍夫旅館）', 0.13520340394640248),\n",
       " ('Galaxy Pod Hostel（銀河波德旅舍）', 0.14547751035292328),\n",
       " ('Hörgsland Cottages（霍斯蘭德度假屋）', 0.14553693034068718),\n",
       " ('B&B Guesthouse - Bed and Breakfast Keflavik Centre（凱夫拉維克中心食宿酒店）',\n",
       "  0.14870148648502365),\n",
       " ('Seljavellir Guesthouse（瑟爾杰維利酒店）', 0.14999863932058094),\n",
       " ('Hotel South Coast', 0.1527310342869725),\n",
       " ('Stay Apartments Bolholt（博爾霍爾特公寓酒店）', 0.16703067644095965),\n",
       " ('201 Hotel', 0.167153331765899),\n",
       " ('Adventure Hotel Hof', 0.1706935029602754),\n",
       " ('Skútustadir Guesthouse（斯庫圖斯塔德農家樂）', 0.17778617193513166),\n",
       " ('Hotel Frón（芙蓉酒店）', 0.17808548795509277),\n",
       " ('Kex Hostel（客可思旅舍）', 0.1841714672059429),\n",
       " ('Reykjavik Downtown Hotel', 0.18549622434034568),\n",
       " ('Guesthouse Nypugardar（尼部卡搭賓館）', 0.18670752387750614),\n",
       " ('Black Beach Suites（黑色海灘套房公寓式酒店）', 0.22010998222837488),\n",
       " ('Hotel Katla by Keahotels', nan),\n",
       " ('Downtown Reykjavík Apartments（雷克雅未克中心公寓）', nan),\n",
       " ('Hotel Berg by Keflavik Airport', 0.0530743037053798),\n",
       " ('Hotel Jökull（冰川酒店）', 0.12090845178756424),\n",
       " ('Bakki Apartments & Hostel', 0.18137478476799823),\n",
       " ('Skyrhúsid Guest House（斯吉琥西旅館）', 0.18222366538573817),\n",
       " ('Guesthouse Aurora（極光賓館）', nan),\n",
       " ('Skuggi Hotel by Keahotels', 0.0906084530614325),\n",
       " ('22 Hill Hotel（22山酒店）', 0.0933730579144544),\n",
       " ('Höfn Hostel（霍芬旅館）', 0.11793916082180844),\n",
       " ('Centrum Hotel', 0.11988110172282018),\n",
       " ('Lyngás Guesthouse（林佳斯賓館）', 0.12086911588524685),\n",
       " ('KEF Guesthouse by Keflavík airport', 0.12264600040087545),\n",
       " ('Apotek Guesthouse（阿伯特科賓館）', 0.12823985909786334),\n",
       " ('Fossatun Camping Pods & Cottages - Sleeping Bag Accommodation（福薩頓睡袋露營地）',\n",
       "  0.13100871875799078),\n",
       " ('Nordurey Hotel City Garden（北歐城市花園酒店）', 0.13220300449327602),\n",
       " ('Dimmuborgir Guesthouse（迪姆波賈尼賓館）', 0.13312256803681832),\n",
       " ('Icelandair Hotel Reykjavik Marina（冰島雷克雅未克濱海酒店）', 0.1344611668285489),\n",
       " ('Hotel Asbru by Reykjavik Keflavik Airport', 0.13721352603889098),\n",
       " ('Hotel Klaustur', 0.14148137978756373),\n",
       " ('Vogar Travel Service（沃加爾旅行服務旅館）', 0.14155704909998784),\n",
       " ('Hotel Viking（維京酒店）', 0.1502881577248106),\n",
       " ('Hotel Laki（拉基酒店）', 0.15175511406901437),\n",
       " ('Við Hafið Guesthouse（維德哈菲德旅館）', 0.1518717086268137),\n",
       " ('Akureyri Hostel', 0.15516113210546364),\n",
       " ('Hotel Höfn（赫本酒店）', 0.15683873004167426),\n",
       " ('Hotel Vík í Mýrdal', 0.15881836220721873),\n",
       " ('Hvoll Hostel', 0.1604078031674601),\n",
       " ('B59 Hotel（B59酒店）', 0.16168158213937636),\n",
       " ('Guesthouse Galtafell（加爾塔弗爾酒店）', 0.16534695270369423),\n",
       " ('Selfoss Hostel（塞爾福斯旅館）', 0.17021198412519398),\n",
       " ('Sel - Hótel Mývatn（賽爾-米瓦特酒店）', 0.17141579752510963),\n",
       " ('Igdlo Guesthouse（伊格德羅旅館）', 0.17261546851471027),\n",
       " ('Hotel Kea by Keahotels（凱亞凱亞酒店）', 0.17355719584931584),\n",
       " ('Baldursbrá Guesthouse Laufásvegur（樂法維格寶德斯巴旅館）', 0.1755017674756588),\n",
       " ('Grand Hotel Reykjavík（雷克雅未克大酒店）', 0.18455597980617006),\n",
       " ('Guesthouse Fludir - Grund（弗洛蒂爾大地旅館）', 0.19636915155087),\n",
       " ('Center Hotels Arnarhvoll', 0.2082561477549127),\n",
       " ('Hotel Hafnarfjall（哈芬納爾福爾酒店）', 0.208764060115449),\n",
       " ('Hotel Ísland – Spa & Wellness Hotel', 0.20893446300110813),\n",
       " ('Sólheimahjáleiga Guesthouse（索爾海馬夏列卡農家樂）', 0.2098064276197667),\n",
       " ('Stay Apartments Einholt（埃因霍特公寓酒店）', 0.21220183193728953),\n",
       " ('Hotel Kjarnalundur（賈爾納倫杜酒店）', 0.21360043641379717),\n",
       " ('Guesthouse Bitra B&B（比特拉住宿加早餐旅館）', 0.22482975484879297),\n",
       " ('Loft - HI Hostel（閣樓- HI旅舍）', 0.23192457503625138),\n",
       " ('Puffin Hotel Vík（維克普費因酒店）', 0.24648960041721132),\n",
       " ('Icelandair Hotel Herad（赫德冰島航空酒店）', nan)]"
      ]
     },
     "execution_count": 383,
     "metadata": {},
     "output_type": "execute_result"
    }
   ],
   "source": [
    "Recommended_hotel(iceland[\"name\"].value_counts().keys(),re.sub(\"\\n\",\"\",iceland.loc[(iceland.sentiment==1)&(iceland[\"name\"]==\"Hotel Kjarnalundur（賈爾納倫杜酒店）\"),:].translate_reviews[7968]))"
   ]
  },
  {
   "cell_type": "markdown",
   "metadata": {},
   "source": [
    "### 希臘"
   ]
  },
  {
   "cell_type": "code",
   "execution_count": 412,
   "metadata": {},
   "outputs": [
    {
     "data": {
      "text/plain": [
       "'Clean Very small rooms and shower room \\nFamily room with 3 beds given so had even less room. No breakfast due to covid and staff shortage'"
      ]
     },
     "execution_count": 412,
     "metadata": {},
     "output_type": "execute_result"
    }
   ],
   "source": [
    "greece.loc[(greece.sentiment==1)&(greece[\"name\"]==\"Metropolis Hotel（大都市酒店）\"),:].translate_reviews[147]"
   ]
  },
  {
   "cell_type": "code",
   "execution_count": 413,
   "metadata": {},
   "outputs": [
    {
     "data": {
      "text/plain": [
       "'Clean Very small rooms and shower room Family room with 3 beds given so had even less room. No breakfast due to covid and staff shortage'"
      ]
     },
     "execution_count": 413,
     "metadata": {},
     "output_type": "execute_result"
    }
   ],
   "source": [
    "re.sub(\"\\n\",\"\",greece.loc[(greece.sentiment==1)&(greece[\"name\"]==\"Metropolis Hotel（大都市酒店）\"),:].translate_reviews[147])"
   ]
  },
  {
   "cell_type": "code",
   "execution_count": 417,
   "metadata": {},
   "outputs": [
    {
     "name": "stderr",
     "output_type": "stream",
     "text": [
      "<ipython-input-408-e43d84d39ac6>:13: RuntimeWarning: invalid value encountered in double_scalars\n",
      "  return np.dot(v1, v2) / (norm(v1) * norm(v2))\n"
     ]
    },
    {
     "data": {
      "text/plain": [
       "[('Athens Hawks', 0.2751253206337004),\n",
       " ('Athinaiko Hotel（阿西恩尼克酒店）', 0.2831278183561404),\n",
       " ('The Athens Gate Hotel（雅典門酒店）', 0.2842053500925553),\n",
       " ('Minoa Athens Hotel（雅典彌諾阿酒店）', 0.29753424000272377),\n",
       " ('Centrotel Hotel（薩特洛泰酒店）', 0.2996051224202073),\n",
       " ('Babis Hotel（巴比酒店）', 0.30310625553214565),\n",
       " ('Evripides Hotel（艾弗瑞派德酒店）', 0.313341780411199),\n",
       " ('Hotel Fresh（弗萊士酒店）', 0.3223388182313867),\n",
       " (\"Adam's Hotel（亞當酒店）\", 0.32247320927331624),\n",
       " ('Infinity City Boutique Hotel（無限城精品酒店）', 0.3274004804878092),\n",
       " ('Metropolis Hotel（大都市酒店）', 0.3367421323613418),\n",
       " ('Athens Studios（雅典一室公寓）', 0.3426597255604416),\n",
       " ('Cecil Hotel（塞西爾酒店）', 0.3451081573811564),\n",
       " ('Plaka Hotel（普拉卡酒店）', 0.349030467561228),\n",
       " ('Nea Metropolis（尼梅特波利斯酒店）', 0.3490803931783789),\n",
       " ('Hotel London（倫敦酒店）', 0.3503594087269247),\n",
       " ('Hotel Lozenge（菱形酒店）', 0.35267514679439105),\n",
       " ('Moxy Patra Marina', 0.356414215986862),\n",
       " ('Athens21', 0.3576697261582492),\n",
       " ('Attalos Hotel（阿塔洛斯酒店）', 0.35786931368292696),\n",
       " ('Amazon Hotel', 0.3628661567922961),\n",
       " ('Arethusa Hotel（阿瑞圖薩酒店）', 0.36435226458808173),\n",
       " ('Apollo Hotel（阿波羅酒店）', 0.37804902447408206),\n",
       " ('Amalia Hotel（阿瑪里亞酒店）', 0.3812441276223944),\n",
       " ('Piraeus Acropole Hotel', 0.3816807821122096),\n",
       " ('Lilia Hotel（莉利亞酒店）', 0.3831150122776369),\n",
       " ('Kentrikon（肯翠康酒店）', 0.3892560674952885),\n",
       " ('Crafoord Place Hostel Athens', 0.3963743866368076),\n",
       " ('Infinity Blue Boutique Hotel & Spa - Adults Only（無限藍精品酒店及Spa - 僅限成人）',\n",
       "  0.3974174552128568),\n",
       " ('Piraeus City Hotel', 0.40274046847473544),\n",
       " ('Ambrosia Suites（豚草套房酒店）', 0.40313051501030195),\n",
       " ('Athens Choice（艾森查爾斯旅館）', 0.4059427101751276),\n",
       " ('Blue Bottle Boutique Hotel（藍瓶精品酒店）', 0.40969349506688807),\n",
       " ('Anita Hotel（安尼塔酒店）', 0.41449082469525667),\n",
       " ('Volos Palace（沃洛斯宮殿酒店）', 0.41539648575321736),\n",
       " ('Golden Age Athens Hotel（雅典黃金時代酒店）', 0.41564989421905124),\n",
       " ('Plaza Hotel, Philian Hotels and Resorts（廣場酒店、菲律賓酒店及度假村）',\n",
       "  0.4180468924573149),\n",
       " ('Electra Hotel Athens（雅典伊萊克特拉酒店）', 0.4205004066386174),\n",
       " ('Acropolis House（衛城酒店）', 0.4245691167331006),\n",
       " ('Hotel Orfeas（奧菲斯酒店）', 0.4252478779237416),\n",
       " ('Hotel El Greco（埃爾格雷柯酒店）', 0.42563578719072404),\n",
       " ('Triton Hotel Piraeus（特里同比雷埃弗斯酒店）', 0.4287142773414825),\n",
       " ('Agamemnon Hotel（阿伽門農酒店）', 0.43100352567036404),\n",
       " ('Cosmopolit（凱帆酒店）', 0.431937382767935),\n",
       " ('Omiros Hotel（奧米洛斯酒店）', 0.4336188070608461),\n",
       " ('City Hotel Thessaloniki（城市酒店）', 0.4344189361150126),\n",
       " ('Titania Hotel（泰坦尼亞酒店）', 0.43451844515955707),\n",
       " ('Acropolis View Hotel（衛城景色酒店）', 0.4358508896512093),\n",
       " ('The Stanley（斯坦利酒店）', 0.440332456457129),\n",
       " ('Pella Inn Hostel（佩拉旅館）', 0.44183806378855),\n",
       " ('Coco-Mat Hotel Athens（雅典可可瑪特酒店）', 0.44314976888365687),\n",
       " ('Mandrino Hotel（曼德利諾酒店）', 0.44370420546084643),\n",
       " ('Phidias Piraeus Hotel（菲迪亞斯比雷埃弗斯酒店）', 0.4489445607603965),\n",
       " ('Mediterranee（地中海酒店）', 0.4657095900611791),\n",
       " ('Tempi Hotel（坦普酒店）', 0.47560316909947725),\n",
       " ('Airotel Alexandros（愛若特亞里山德斯酒店）', 0.48422276969837574),\n",
       " ('El Greco Hotel（格列柯酒店）', 0.5213410227157624),\n",
       " ('Adrian Hotel（阿德里安酒店）', nan),\n",
       " ('Athens Raise Acropolis Project', nan),\n",
       " ('Athens Mirabello（雅典米蘭貝洛酒店）', nan),\n",
       " ('Pan Hotel（泛酒店）', nan)]"
      ]
     },
     "execution_count": 417,
     "metadata": {},
     "output_type": "execute_result"
    }
   ],
   "source": [
    "Recommended_hotel(greece[\"name\"].value_counts().keys(),re.sub(\"\\n\",\"\",greece.loc[(greece.sentiment==1)&(greece[\"name\"]==\"Metropolis Hotel（大都市酒店）\"),:].translate_reviews[147]))"
   ]
  },
  {
   "cell_type": "code",
   "execution_count": 395,
   "metadata": {},
   "outputs": [
    {
     "data": {
      "text/plain": [
       "'Clean Very small rooms and shower room Family room with 3 beds given so had even less room. No breakfast due to covid and staff shortage'"
      ]
     },
     "execution_count": 395,
     "metadata": {},
     "output_type": "execute_result"
    }
   ],
   "source": [
    "re.sub(\"\\n\",\"\",greece.loc[(greece.sentiment==1)&(greece[\"name\"]==\"Metropolis Hotel（大都市酒店）\"),:].translate_reviews[147])"
   ]
  },
  {
   "cell_type": "code",
   "execution_count": null,
   "metadata": {},
   "outputs": [],
   "source": []
  }
 ],
 "metadata": {
  "interpreter": {
   "hash": "e880b6a5c7a5f4b142d9f445d0f040070dabb42b7abdaabc6906731dc44ddb78"
  },
  "kernelspec": {
   "display_name": "Python 3.8.10 ('tensorflow')",
   "language": "python",
   "name": "python3"
  },
  "language_info": {
   "codemirror_mode": {
    "name": "ipython",
    "version": 3
   },
   "file_extension": ".py",
   "mimetype": "text/x-python",
   "name": "python",
   "nbconvert_exporter": "python",
   "pygments_lexer": "ipython3",
   "version": "3.8.10"
  },
  "orig_nbformat": 4
 },
 "nbformat": 4,
 "nbformat_minor": 2
}
