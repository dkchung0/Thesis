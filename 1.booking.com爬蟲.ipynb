{
 "cells": [
  {
   "cell_type": "code",
   "execution_count": 1,
   "metadata": {},
   "outputs": [],
   "source": [
    "import numpy as np\n",
    "import pandas as pd\n",
    "\n",
    "from time import process_time\n",
    "import time\n",
    "\n",
    "import datetime \n",
    "import arrow\n",
    "\n",
    "import sys\n",
    "import os\n",
    "import re \n"
   ]
  },
  {
   "cell_type": "code",
   "execution_count": 2,
   "metadata": {},
   "outputs": [],
   "source": [
    "import requests\n",
    "from bs4 import BeautifulSoup \n",
    "from selenium import webdriver\n",
    "from webdriver_manager.chrome import ChromeDriverManager\n",
    "\n",
    "from selenium.webdriver.common.by import By\n",
    "from selenium.webdriver.support.ui import WebDriverWait\n",
    "from selenium.webdriver.support import expected_conditions as EC\n",
    "\n",
    "from selenium.webdriver.common.keys import Keys"
   ]
  },
  {
   "cell_type": "code",
   "execution_count": 3,
   "metadata": {},
   "outputs": [],
   "source": [
    "path = 'C:/Users/s0970/python/701網路爬蟲/chromedriver.exe'"
   ]
  },
  {
   "cell_type": "code",
   "execution_count": 4,
   "metadata": {},
   "outputs": [
    {
     "name": "stderr",
     "output_type": "stream",
     "text": [
      "<ipython-input-4-60bd7adf2b89>:1: DeprecationWarning: executable_path has been deprecated, please pass in a Service object\n",
      "  driver = webdriver.Chrome(path) #開啟\n"
     ]
    }
   ],
   "source": [
    "driver = webdriver.Chrome(path) #開啟"
   ]
  },
  {
   "cell_type": "code",
   "execution_count": 319,
   "metadata": {},
   "outputs": [],
   "source": [
    "url = 'https://www.booking.com/hotel/is/b59.zh-tw.html?label=gen173bo-1DCAEoggI46AdIMFgDaOcBiAEBmAEwuAEXyAEM2AED6AEB-AEDiAIBmAICqAIDuALMrZiRBsACAdICJDA4MWM3ODVkLWU3YjYtNGUwNC1hOGMzLWJiMzJhYjZlODBhNdgCBOACAQ&sid=e12b90519bab632c3ffdcb360924a5c1&aid=304142&ucfs=1&arphpl=1&dest_id=97&dest_type=country&group_adults=2&req_adults=2&no_rooms=1&group_children=0&req_children=0&hpos=2&hapos=127&sr_order=popularity&srpvid=87685bc4d8ff0154&srepoch=1646831010&from=searchresults#hotelTmpl'\n",
    "driver.get(url)"
   ]
  },
  {
   "cell_type": "markdown",
   "metadata": {},
   "source": [
    "### 旅館類型"
   ]
  },
  {
   "cell_type": "code",
   "execution_count": 310,
   "metadata": {},
   "outputs": [],
   "source": [
    "html = BeautifulSoup(driver.page_source, 'html.parser')"
   ]
  },
  {
   "cell_type": "code",
   "execution_count": 311,
   "metadata": {},
   "outputs": [
    {
     "data": {
      "text/plain": [
       "'飯店'"
      ]
     },
     "execution_count": 311,
     "metadata": {},
     "output_type": "execute_result"
    }
   ],
   "source": [
    "category = html.select(\"h2.hp__hotel-name span\")[0].text\n",
    "category"
   ]
  },
  {
   "cell_type": "markdown",
   "metadata": {},
   "source": [
    "### 旅館名稱"
   ]
  },
  {
   "cell_type": "code",
   "execution_count": 312,
   "metadata": {},
   "outputs": [
    {
     "data": {
      "text/plain": [
       "'B59 Hotel（B59酒店）'"
      ]
     },
     "execution_count": 312,
     "metadata": {},
     "output_type": "execute_result"
    }
   ],
   "source": [
    "name = html.select_one(\"h2#hp_hotel_name\")\n",
    "[s.extract() for s in name.select_one(\"span\")] ##移除某標籤\n",
    "name = re.sub(\"\\n\",\"\",name.text)\n",
    "name"
   ]
  },
  {
   "cell_type": "code",
   "execution_count": 297,
   "metadata": {},
   "outputs": [
    {
     "name": "stderr",
     "output_type": "stream",
     "text": [
      "<ipython-input-297-ad353ae6f5ca>:1: DeprecationWarning: find_element_by_* commands are deprecated. Please use find_element() instead\n",
      "  driver.find_element_by_xpath('//*[@id=\"guest-featured_reviews__horizontal-block\"]/div/div[8]/button/span').click()\n"
     ]
    }
   ],
   "source": [
    "driver.find_element_by_xpath('//*[@id=\"guest-featured_reviews__horizontal-block\"]/div/div[8]/button/span').click()"
   ]
  },
  {
   "cell_type": "code",
   "execution_count": 281,
   "metadata": {},
   "outputs": [],
   "source": [
    "html = BeautifulSoup(driver.page_source, 'html.parser')"
   ]
  },
  {
   "cell_type": "markdown",
   "metadata": {},
   "source": [
    "### 旅客國家"
   ]
  },
  {
   "cell_type": "code",
   "execution_count": 282,
   "metadata": {},
   "outputs": [
    {
     "data": {
      "text/plain": [
       "'\\n\\n臺灣'"
      ]
     },
     "execution_count": 282,
     "metadata": {},
     "output_type": "execute_result"
    }
   ],
   "source": [
    "html.select(\"#review_list_page_container > ul > li\")[1].select(\"span.bui-avatar-block__subtitle\")[0].text"
   ]
  },
  {
   "cell_type": "code",
   "execution_count": 284,
   "metadata": {},
   "outputs": [
    {
     "data": {
      "text/plain": [
       "'臺灣'"
      ]
     },
     "execution_count": 284,
     "metadata": {},
     "output_type": "execute_result"
    }
   ],
   "source": [
    "country = html.select(\"#review_list_page_container > ul > li\")[1].select(\"span.bui-avatar-block__subtitle\")[0].text\n",
    "pattern = re.compile(r'\\w+')\n",
    "country = pattern.findall(country)[0]\n",
    "country"
   ]
  },
  {
   "cell_type": "markdown",
   "metadata": {},
   "source": [
    "### 旅客評論時間"
   ]
  },
  {
   "cell_type": "code",
   "execution_count": 285,
   "metadata": {},
   "outputs": [
    {
     "data": {
      "text/plain": [
       "'2019 年 10 月 8 日'"
      ]
     },
     "execution_count": 285,
     "metadata": {},
     "output_type": "execute_result"
    }
   ],
   "source": [
    "reviews_time = html.select(\"#review_list_page_container > ul > li\")[3].select(\"span.c-review-block__date\")[1].text\n",
    "pattern = re.compile(r'(\\d+) 年 (\\d+) 月 (\\d+) 日')\n",
    "pattern.search(reviews_time).group(0)"
   ]
  },
  {
   "cell_type": "code",
   "execution_count": 286,
   "metadata": {},
   "outputs": [
    {
     "data": {
      "text/plain": [
       "'2019-10-08'"
      ]
     },
     "execution_count": 286,
     "metadata": {},
     "output_type": "execute_result"
    }
   ],
   "source": [
    "reviews_time = arrow.get(int(pattern.search(reviews_time).group(1)),int(pattern.search(reviews_time).group(2)),int(pattern.search(reviews_time).group(3))).format(\"YYYY-MM-DD\")\n",
    "reviews_time"
   ]
  },
  {
   "cell_type": "markdown",
   "metadata": {},
   "source": [
    "### 旅客評論標題"
   ]
  },
  {
   "cell_type": "code",
   "execution_count": 287,
   "metadata": {},
   "outputs": [
    {
     "data": {
      "text/plain": [
       "'非常好'"
      ]
     },
     "execution_count": 287,
     "metadata": {},
     "output_type": "execute_result"
    }
   ],
   "source": [
    "title = html.select(\"#review_list_page_container > ul > li\")[3].select(\"h3.c-review-block__title\")[0].text\n",
    "title = re.sub(\"\\n\",\"\",title)\n",
    "title"
   ]
  },
  {
   "cell_type": "markdown",
   "metadata": {},
   "source": [
    "### 旅客評論"
   ]
  },
  {
   "cell_type": "code",
   "execution_count": 288,
   "metadata": {},
   "outputs": [
    {
     "data": {
      "text/plain": [
       "'zh'"
      ]
     },
     "execution_count": 288,
     "metadata": {},
     "output_type": "execute_result"
    }
   ],
   "source": [
    "html.select(\"#review_list_page_container > ul > li\")[0].select('span.c-review__body')[0].get(\"lang\")"
   ]
  },
  {
   "cell_type": "code",
   "execution_count": 272,
   "metadata": {},
   "outputs": [],
   "source": [
    "html = BeautifulSoup(driver.page_source, 'html.parser')"
   ]
  },
  {
   "cell_type": "code",
   "execution_count": 192,
   "metadata": {},
   "outputs": [
    {
     "data": {
      "text/plain": [
       "[<span class=\"c-review__body\" lang=\"zh\">服务 房间都还不错. 运气很好 在那边晚上还看到了极光.</span>]"
      ]
     },
     "execution_count": 192,
     "metadata": {},
     "output_type": "execute_result"
    }
   ],
   "source": [
    "#html.select(\"#review_list_page_container > ul > li\")[3].select('span.c-review__body--original')\n",
    "html.select(\"#review_list_page_container > ul > li\")[0].select('span.c-review__body') #>>> 中文"
   ]
  },
  {
   "cell_type": "code",
   "execution_count": 120,
   "metadata": {},
   "outputs": [
    {
     "data": {
      "text/plain": [
       "'Modern, location and very good breakfastRoom was next to reconstruction area'"
      ]
     },
     "execution_count": 120,
     "metadata": {},
     "output_type": "execute_result"
    }
   ],
   "source": [
    "reviews =  html.select(\"#review_list_page_container > ul > li\")[3].select('span.c-review__body--original')[0].text +  html.select(\"#review_list_page_container > ul > li\")[3].select('span.c-review__body--original')[1].text\n",
    "reviews"
   ]
  },
  {
   "cell_type": "markdown",
   "metadata": {},
   "source": [
    "### 旅客評分"
   ]
  },
  {
   "cell_type": "code",
   "execution_count": 198,
   "metadata": {},
   "outputs": [],
   "source": [
    "score = html.select(\"#review_list_page_container > ul > li\")[3].select('div.bui-review-score__badge')[0].text\n",
    "score"
   ]
  },
  {
   "cell_type": "code",
   "execution_count": 103,
   "metadata": {},
   "outputs": [],
   "source": [
    "df = pd.DataFrame([],columns=[\"name\",\"category\",\"from_country\",\"reviews_time\",\"title\",\"reviews\",\"score\"])"
   ]
  },
  {
   "cell_type": "code",
   "execution_count": 357,
   "metadata": {},
   "outputs": [
    {
     "data": {
      "text/html": [
       "<div>\n",
       "<style scoped>\n",
       "    .dataframe tbody tr th:only-of-type {\n",
       "        vertical-align: middle;\n",
       "    }\n",
       "\n",
       "    .dataframe tbody tr th {\n",
       "        vertical-align: top;\n",
       "    }\n",
       "\n",
       "    .dataframe thead th {\n",
       "        text-align: right;\n",
       "    }\n",
       "</style>\n",
       "<table border=\"1\" class=\"dataframe\">\n",
       "  <thead>\n",
       "    <tr style=\"text-align: right;\">\n",
       "      <th></th>\n",
       "      <th>name</th>\n",
       "      <th>category</th>\n",
       "      <th>from_country</th>\n",
       "      <th>reviews_time</th>\n",
       "      <th>title</th>\n",
       "      <th>reviews</th>\n",
       "      <th>score</th>\n",
       "    </tr>\n",
       "  </thead>\n",
       "  <tbody>\n",
       "    <tr>\n",
       "      <th>0</th>\n",
       "      <td>Grandi by Center Hotels</td>\n",
       "      <td>飯店</td>\n",
       "      <td>愛爾蘭</td>\n",
       "      <td>2022-03-06</td>\n",
       "      <td>Nice hotel, very good base for all of the acti...</td>\n",
       "      <td>Hotel was fine, its a great base just 10-15 mi...</td>\n",
       "      <td>8.0</td>\n",
       "    </tr>\n",
       "  </tbody>\n",
       "</table>\n",
       "</div>"
      ],
      "text/plain": [
       "                      name category from_country reviews_time  \\\n",
       "0  Grandi by Center Hotels       飯店          愛爾蘭   2022-03-06   \n",
       "\n",
       "                                               title  \\\n",
       "0  Nice hotel, very good base for all of the acti...   \n",
       "\n",
       "                                             reviews  score  \n",
       "0  Hotel was fine, its a great base just 10-15 mi...   8.0   "
      ]
     },
     "execution_count": 357,
     "metadata": {},
     "output_type": "execute_result"
    }
   ],
   "source": [
    "df.append({\"name\":name,\"category\":category,\"from_country\":country,\"reviews_time\":reviews_time,\"title\":title,\"reviews\":reviews,\"score\":score},ignore_index=True)"
   ]
  },
  {
   "cell_type": "markdown",
   "metadata": {},
   "source": [
    "### 旅館對應的url和留言次數"
   ]
  },
  {
   "cell_type": "code",
   "execution_count": 370,
   "metadata": {},
   "outputs": [
    {
     "name": "stderr",
     "output_type": "stream",
     "text": [
      "<ipython-input-370-43e6425a9f8f>:1: DeprecationWarning: executable_path has been deprecated, please pass in a Service object\n",
      "  driver = webdriver.Chrome(path) #開啟\n"
     ]
    }
   ],
   "source": [
    "driver = webdriver.Chrome(path) #開啟\n",
    "\n",
    "url = \"https://www.booking.com/searchresults.zh-tw.html?label=gen173bo-1DCAEoggI46AdIMFgDaOcBiAEBmAEwuAEXyAEM2AED6AEB-AEDiAIBmAICqAIDuALMrZiRBsACAdICJDA4MWM3ODVkLWU3YjYtNGUwNC1hOGMzLWJiMzJhYjZlODBhNdgCBOACAQ&sid=e12b90519bab632c3ffdcb360924a5c1&aid=304142&tmpl=searchresults&ac_click_type=b&ac_position=0&class_interval=1&dest_id=97&dest_type=country&dtdisc=0&from_sf=1&group_adults=2&group_children=0&inac=0&index_postcard=0&label_click=undef&lang=zh-tw&no_rooms=1&offset=975&postcard=0&raw_dest_type=country&room1=A%2CA&sb_price_type=total&search_selected=1&shw_aparth=1&slp_r_match=0&soz=1&src=index&src_elem=sb&srpvid=f96c6fe9d0dd0096&ss=Iceland&ss_all=0&ss_raw=iceland&ssb=empty&sshis=0&lang_click=other&cdl=en-us&lang_changed=1\"\n",
    "driver.get(url)"
   ]
  },
  {
   "cell_type": "code",
   "execution_count": 379,
   "metadata": {},
   "outputs": [],
   "source": [
    "hrefs = []\n",
    "n_reviews = []\n",
    "data_ = {}\n",
    "html = BeautifulSoup(driver.page_source, 'html.parser')\n",
    "\n",
    "\n",
    "for i in html.select(\"div[data-testid='property-card']\"):\n",
    "    if i.select(\"div._f8ff3180e div._4abc4c3d5\")!=[]:\n",
    "        hrefs.append(i.select(\"h3._23bf57b84 a\")[0].attrs[\"href\"])\n",
    "\n",
    "\n",
    "pattern = re.compile(r'(\\d+)')\n",
    "for i in html.select(\"div._f8ff3180e div._4abc4c3d5\"):\n",
    "    if len(pattern.findall(i.text))>1:\n",
    "        n_reviews.append(int(pattern.findall(i.text)[0])*1000 + int(pattern.findall(i.text)[1]))\n",
    "    else:\n",
    "        n_reviews.append(int(pattern.findall(i.text)[0]))\n",
    "\n",
    "\n",
    "data_.update(dict(zip(hrefs,n_reviews)))"
   ]
  },
  {
   "cell_type": "code",
   "execution_count": 380,
   "metadata": {},
   "outputs": [
    {
     "data": {
      "text/plain": [
       "{'https://www.booking.com/hotel/is/nortia-luxury-apartments.zh-tw.html?label=gen173bo-1DCAEoggI46AdIMFgDaOcBiAEBmAEwuAEXyAEM2AED6AEB-AEDiAIBmAICqAIDuALMrZiRBsACAdICJDA4MWM3ODVkLWU3YjYtNGUwNC1hOGMzLWJiMzJhYjZlODBhNdgCBOACAQ&sid=e12b90519bab632c3ffdcb360924a5c1&aid=304142&ucfs=1&arphpl=1&dest_id=97&dest_type=country&group_adults=2&req_adults=2&no_rooms=1&group_children=0&req_children=0&hpos=1&hapos=976&sr_order=popularity&srpvid=993698a31a7201b3&srepoch=1646689352&from=searchresults#hotelTmpl': 69,\n",
       " 'https://www.booking.com/hotel/is/welcome-apartment.zh-tw.html?label=gen173bo-1DCAEoggI46AdIMFgDaOcBiAEBmAEwuAEXyAEM2AED6AEB-AEDiAIBmAICqAIDuALMrZiRBsACAdICJDA4MWM3ODVkLWU3YjYtNGUwNC1hOGMzLWJiMzJhYjZlODBhNdgCBOACAQ&sid=e12b90519bab632c3ffdcb360924a5c1&aid=304142&ucfs=1&arphpl=1&dest_id=97&dest_type=country&group_adults=2&req_adults=2&no_rooms=1&group_children=0&req_children=0&hpos=2&hapos=977&sr_order=popularity&srpvid=993698a31a7201b3&srepoch=1646689352&from=searchresults#hotelTmpl': 369,\n",
       " 'https://www.booking.com/hotel/is/prestshus-2-guesthouse.zh-tw.html?label=gen173bo-1DCAEoggI46AdIMFgDaOcBiAEBmAEwuAEXyAEM2AED6AEB-AEDiAIBmAICqAIDuALMrZiRBsACAdICJDA4MWM3ODVkLWU3YjYtNGUwNC1hOGMzLWJiMzJhYjZlODBhNdgCBOACAQ&sid=e12b90519bab632c3ffdcb360924a5c1&aid=304142&ucfs=1&arphpl=1&dest_id=97&dest_type=country&group_adults=2&req_adults=2&no_rooms=1&group_children=0&req_children=0&hpos=3&hapos=978&sr_order=popularity&srpvid=993698a31a7201b3&srepoch=1646689352&from=searchresults#hotelTmpl': 60,\n",
       " 'https://www.booking.com/hotel/is/akurgerdi-guesthouse-6-country-life-style.zh-tw.html?label=gen173bo-1DCAEoggI46AdIMFgDaOcBiAEBmAEwuAEXyAEM2AED6AEB-AEDiAIBmAICqAIDuALMrZiRBsACAdICJDA4MWM3ODVkLWU3YjYtNGUwNC1hOGMzLWJiMzJhYjZlODBhNdgCBOACAQ&sid=e12b90519bab632c3ffdcb360924a5c1&aid=304142&ucfs=1&arphpl=1&dest_id=97&dest_type=country&group_adults=2&req_adults=2&no_rooms=1&group_children=0&req_children=0&hpos=4&hapos=979&sr_order=popularity&srpvid=993698a31a7201b3&srepoch=1646689352&from=searchresults#hotelTmpl': 56,\n",
       " 'https://www.booking.com/hotel/is/tjorn-1.zh-tw.html?label=gen173bo-1DCAEoggI46AdIMFgDaOcBiAEBmAEwuAEXyAEM2AED6AEB-AEDiAIBmAICqAIDuALMrZiRBsACAdICJDA4MWM3ODVkLWU3YjYtNGUwNC1hOGMzLWJiMzJhYjZlODBhNdgCBOACAQ&sid=e12b90519bab632c3ffdcb360924a5c1&aid=304142&ucfs=1&arphpl=1&dest_id=97&dest_type=country&group_adults=2&req_adults=2&no_rooms=1&group_children=0&req_children=0&hpos=5&hapos=980&sr_order=popularity&srpvid=993698a31a7201b3&srepoch=1646689352&from=searchresults#hotelTmpl': 26,\n",
       " 'https://www.booking.com/hotel/is/hestasport-apartment.zh-tw.html?label=gen173bo-1DCAEoggI46AdIMFgDaOcBiAEBmAEwuAEXyAEM2AED6AEB-AEDiAIBmAICqAIDuALMrZiRBsACAdICJDA4MWM3ODVkLWU3YjYtNGUwNC1hOGMzLWJiMzJhYjZlODBhNdgCBOACAQ&sid=e12b90519bab632c3ffdcb360924a5c1&aid=304142&ucfs=1&arphpl=1&dest_id=97&dest_type=country&group_adults=2&req_adults=2&no_rooms=1&group_children=0&req_children=0&hpos=6&hapos=981&sr_order=popularity&srpvid=993698a31a7201b3&srepoch=1646689352&from=searchresults#hotelTmpl': 35,\n",
       " 'https://www.booking.com/hotel/is/apartment-tungata.zh-tw.html?label=gen173bo-1DCAEoggI46AdIMFgDaOcBiAEBmAEwuAEXyAEM2AED6AEB-AEDiAIBmAICqAIDuALMrZiRBsACAdICJDA4MWM3ODVkLWU3YjYtNGUwNC1hOGMzLWJiMzJhYjZlODBhNdgCBOACAQ&sid=e12b90519bab632c3ffdcb360924a5c1&aid=304142&ucfs=1&arphpl=1&dest_id=97&dest_type=country&group_adults=2&req_adults=2&no_rooms=1&group_children=0&req_children=0&hpos=7&hapos=982&sr_order=popularity&srpvid=993698a31a7201b3&srepoch=1646689352&from=searchresults#hotelTmpl': 67,\n",
       " 'https://www.booking.com/hotel/is/townhall-square.zh-tw.html?label=gen173bo-1DCAEoggI46AdIMFgDaOcBiAEBmAEwuAEXyAEM2AED6AEB-AEDiAIBmAICqAIDuALMrZiRBsACAdICJDA4MWM3ODVkLWU3YjYtNGUwNC1hOGMzLWJiMzJhYjZlODBhNdgCBOACAQ&sid=e12b90519bab632c3ffdcb360924a5c1&aid=304142&ucfs=1&arphpl=1&dest_id=97&dest_type=country&group_adults=2&req_adults=2&no_rooms=1&group_children=0&req_children=0&hpos=8&hapos=983&sr_order=popularity&srpvid=993698a31a7201b3&srepoch=1646689352&from=searchresults#hotelTmpl': 9,\n",
       " 'https://www.booking.com/hotel/is/olafsvik.zh-tw.html?label=gen173bo-1DCAEoggI46AdIMFgDaOcBiAEBmAEwuAEXyAEM2AED6AEB-AEDiAIBmAICqAIDuALMrZiRBsACAdICJDA4MWM3ODVkLWU3YjYtNGUwNC1hOGMzLWJiMzJhYjZlODBhNdgCBOACAQ&sid=e12b90519bab632c3ffdcb360924a5c1&aid=304142&ucfs=1&arphpl=1&dest_id=97&dest_type=country&group_adults=2&req_adults=2&no_rooms=1&group_children=0&req_children=0&hpos=9&hapos=984&sr_order=popularity&srpvid=993698a31a7201b3&srepoch=1646689352&from=searchresults#hotelTmpl': 250,\n",
       " 'https://www.booking.com/hotel/is/the-apartment-obbuhus.zh-tw.html?label=gen173bo-1DCAEoggI46AdIMFgDaOcBiAEBmAEwuAEXyAEM2AED6AEB-AEDiAIBmAICqAIDuALMrZiRBsACAdICJDA4MWM3ODVkLWU3YjYtNGUwNC1hOGMzLWJiMzJhYjZlODBhNdgCBOACAQ&sid=e12b90519bab632c3ffdcb360924a5c1&aid=304142&ucfs=1&arphpl=1&dest_id=97&dest_type=country&group_adults=2&req_adults=2&no_rooms=1&group_children=0&req_children=0&hpos=10&hapos=985&sr_order=popularity&srpvid=993698a31a7201b3&srepoch=1646689352&from=searchresults#hotelTmpl': 30,\n",
       " 'https://www.booking.com/hotel/is/dima-studio-apartments.zh-tw.html?label=gen173bo-1DCAEoggI46AdIMFgDaOcBiAEBmAEwuAEXyAEM2AED6AEB-AEDiAIBmAICqAIDuALMrZiRBsACAdICJDA4MWM3ODVkLWU3YjYtNGUwNC1hOGMzLWJiMzJhYjZlODBhNdgCBOACAQ&sid=e12b90519bab632c3ffdcb360924a5c1&aid=304142&ucfs=1&arphpl=1&dest_id=97&dest_type=country&group_adults=2&req_adults=2&no_rooms=1&group_children=0&req_children=0&hpos=11&hapos=986&sr_order=popularity&srpvid=993698a31a7201b3&srepoch=1646689352&from=searchresults#hotelTmpl': 134,\n",
       " 'https://www.booking.com/hotel/is/audsholt-2.zh-tw.html?label=gen173bo-1DCAEoggI46AdIMFgDaOcBiAEBmAEwuAEXyAEM2AED6AEB-AEDiAIBmAICqAIDuALMrZiRBsACAdICJDA4MWM3ODVkLWU3YjYtNGUwNC1hOGMzLWJiMzJhYjZlODBhNdgCBOACAQ&sid=e12b90519bab632c3ffdcb360924a5c1&aid=304142&ucfs=1&arphpl=1&dest_id=97&dest_type=country&group_adults=2&req_adults=2&no_rooms=1&group_children=0&req_children=0&hpos=12&hapos=987&sr_order=popularity&srpvid=993698a31a7201b3&srepoch=1646689352&from=searchresults#hotelTmpl': 101,\n",
       " 'https://www.booking.com/hotel/is/guesthouse-neadegra-vatnshorn.zh-tw.html?label=gen173bo-1DCAEoggI46AdIMFgDaOcBiAEBmAEwuAEXyAEM2AED6AEB-AEDiAIBmAICqAIDuALMrZiRBsACAdICJDA4MWM3ODVkLWU3YjYtNGUwNC1hOGMzLWJiMzJhYjZlODBhNdgCBOACAQ&sid=e12b90519bab632c3ffdcb360924a5c1&aid=304142&ucfs=1&arphpl=1&dest_id=97&dest_type=country&group_adults=2&req_adults=2&no_rooms=1&group_children=0&req_children=0&hpos=13&hapos=988&sr_order=popularity&srpvid=993698a31a7201b3&srepoch=1646689352&from=searchresults#hotelTmpl': 132,\n",
       " 'https://www.booking.com/hotel/is/vindheimar-holiday-home.zh-tw.html?label=gen173bo-1DCAEoggI46AdIMFgDaOcBiAEBmAEwuAEXyAEM2AED6AEB-AEDiAIBmAICqAIDuALMrZiRBsACAdICJDA4MWM3ODVkLWU3YjYtNGUwNC1hOGMzLWJiMzJhYjZlODBhNdgCBOACAQ&sid=e12b90519bab632c3ffdcb360924a5c1&aid=304142&ucfs=1&arphpl=1&dest_id=97&dest_type=country&group_adults=2&req_adults=2&no_rooms=1&group_children=0&req_children=0&hpos=14&hapos=989&sr_order=popularity&srpvid=993698a31a7201b3&srepoch=1646689352&from_sustainable_property_sr=1&from=searchresults#hotelTmpl': 13,\n",
       " 'https://www.booking.com/hotel/is/reynisstadir.zh-tw.html?label=gen173bo-1DCAEoggI46AdIMFgDaOcBiAEBmAEwuAEXyAEM2AED6AEB-AEDiAIBmAICqAIDuALMrZiRBsACAdICJDA4MWM3ODVkLWU3YjYtNGUwNC1hOGMzLWJiMzJhYjZlODBhNdgCBOACAQ&sid=e12b90519bab632c3ffdcb360924a5c1&aid=304142&ucfs=1&arphpl=1&dest_id=97&dest_type=country&group_adults=2&req_adults=2&no_rooms=1&group_children=0&req_children=0&hpos=15&hapos=990&sr_order=popularity&srpvid=993698a31a7201b3&srepoch=1646689352&from=searchresults#hotelTmpl': 154,\n",
       " 'https://www.booking.com/hotel/is/black-pearl-reykjavik-finest-apartments.zh-tw.html?label=gen173bo-1DCAEoggI46AdIMFgDaOcBiAEBmAEwuAEXyAEM2AED6AEB-AEDiAIBmAICqAIDuALMrZiRBsACAdICJDA4MWM3ODVkLWU3YjYtNGUwNC1hOGMzLWJiMzJhYjZlODBhNdgCBOACAQ&sid=e12b90519bab632c3ffdcb360924a5c1&aid=304142&ucfs=1&arphpl=1&dest_id=97&dest_type=country&group_adults=2&req_adults=2&no_rooms=1&group_children=0&req_children=0&hpos=16&hapos=991&sr_order=popularity&srpvid=993698a31a7201b3&srepoch=1646689352&from=searchresults#hotelTmpl': 277,\n",
       " 'https://www.booking.com/hotel/is/midsker-1.zh-tw.html?label=gen173bo-1DCAEoggI46AdIMFgDaOcBiAEBmAEwuAEXyAEM2AED6AEB-AEDiAIBmAICqAIDuALMrZiRBsACAdICJDA4MWM3ODVkLWU3YjYtNGUwNC1hOGMzLWJiMzJhYjZlODBhNdgCBOACAQ&sid=e12b90519bab632c3ffdcb360924a5c1&aid=304142&ucfs=1&arphpl=1&dest_id=97&dest_type=country&group_adults=2&req_adults=2&no_rooms=1&group_children=0&req_children=0&hpos=17&hapos=992&sr_order=popularity&srpvid=993698a31a7201b3&srepoch=1646689352&from=searchresults#hotelTmpl': 319,\n",
       " 'https://www.booking.com/hotel/is/gunnlaugsgata-3.zh-tw.html?label=gen173bo-1DCAEoggI46AdIMFgDaOcBiAEBmAEwuAEXyAEM2AED6AEB-AEDiAIBmAICqAIDuALMrZiRBsACAdICJDA4MWM3ODVkLWU3YjYtNGUwNC1hOGMzLWJiMzJhYjZlODBhNdgCBOACAQ&sid=e12b90519bab632c3ffdcb360924a5c1&aid=304142&ucfs=1&arphpl=1&dest_id=97&dest_type=country&group_adults=2&req_adults=2&no_rooms=1&group_children=0&req_children=0&hpos=18&hapos=993&sr_order=popularity&srpvid=993698a31a7201b3&srepoch=1646689352&from=searchresults#hotelTmpl': 36,\n",
       " 'https://www.booking.com/hotel/is/siddy-apartment.zh-tw.html?label=gen173bo-1DCAEoggI46AdIMFgDaOcBiAEBmAEwuAEXyAEM2AED6AEB-AEDiAIBmAICqAIDuALMrZiRBsACAdICJDA4MWM3ODVkLWU3YjYtNGUwNC1hOGMzLWJiMzJhYjZlODBhNdgCBOACAQ&sid=e12b90519bab632c3ffdcb360924a5c1&aid=304142&ucfs=1&arphpl=1&dest_id=97&dest_type=country&group_adults=2&req_adults=2&no_rooms=1&group_children=0&req_children=0&hpos=19&hapos=994&sr_order=popularity&srpvid=993698a31a7201b3&srepoch=1646689352&from_sustainable_property_sr=1&from=searchresults#hotelTmpl': 25,\n",
       " 'https://www.booking.com/hotel/is/bjarnabud.zh-tw.html?label=gen173bo-1DCAEoggI46AdIMFgDaOcBiAEBmAEwuAEXyAEM2AED6AEB-AEDiAIBmAICqAIDuALMrZiRBsACAdICJDA4MWM3ODVkLWU3YjYtNGUwNC1hOGMzLWJiMzJhYjZlODBhNdgCBOACAQ&sid=e12b90519bab632c3ffdcb360924a5c1&aid=304142&ucfs=1&arphpl=1&dest_id=97&dest_type=country&group_adults=2&req_adults=2&no_rooms=1&group_children=0&req_children=0&hpos=20&hapos=995&sr_order=popularity&srpvid=993698a31a7201b3&srepoch=1646689352&from=searchresults#hotelTmpl': 444,\n",
       " 'https://www.booking.com/hotel/is/hrismoar-4.zh-tw.html?label=gen173bo-1DCAEoggI46AdIMFgDaOcBiAEBmAEwuAEXyAEM2AED6AEB-AEDiAIBmAICqAIDuALMrZiRBsACAdICJDA4MWM3ODVkLWU3YjYtNGUwNC1hOGMzLWJiMzJhYjZlODBhNdgCBOACAQ&sid=e12b90519bab632c3ffdcb360924a5c1&aid=304142&ucfs=1&arphpl=1&dest_id=97&dest_type=country&group_adults=2&req_adults=2&no_rooms=1&group_children=0&req_children=0&hpos=22&hapos=997&sr_order=popularity&srpvid=993698a31a7201b3&srepoch=1646689352&from=searchresults#hotelTmpl': 76,\n",
       " 'https://www.booking.com/hotel/is/mar-guesthouse-grindavik1.zh-tw.html?label=gen173bo-1DCAEoggI46AdIMFgDaOcBiAEBmAEwuAEXyAEM2AED6AEB-AEDiAIBmAICqAIDuALMrZiRBsACAdICJDA4MWM3ODVkLWU3YjYtNGUwNC1hOGMzLWJiMzJhYjZlODBhNdgCBOACAQ&sid=e12b90519bab632c3ffdcb360924a5c1&aid=304142&ucfs=1&arphpl=1&dest_id=97&dest_type=country&group_adults=2&req_adults=2&no_rooms=1&group_children=0&req_children=0&hpos=23&hapos=998&sr_order=popularity&srpvid=993698a31a7201b3&srepoch=1646689352&from=searchresults#hotelTmpl': 172,\n",
       " 'https://www.booking.com/hotel/is/natthagi-luxury-cottage.zh-tw.html?label=gen173bo-1DCAEoggI46AdIMFgDaOcBiAEBmAEwuAEXyAEM2AED6AEB-AEDiAIBmAICqAIDuALMrZiRBsACAdICJDA4MWM3ODVkLWU3YjYtNGUwNC1hOGMzLWJiMzJhYjZlODBhNdgCBOACAQ&sid=e12b90519bab632c3ffdcb360924a5c1&aid=304142&ucfs=1&arphpl=1&dest_id=97&dest_type=country&group_adults=2&req_adults=2&no_rooms=1&group_children=0&req_children=0&hpos=24&hapos=999&sr_order=popularity&srpvid=993698a31a7201b3&srepoch=1646689352&from=searchresults#hotelTmpl': 112,\n",
       " 'https://www.booking.com/hotel/is/blue-view-cabin-4b.zh-tw.html?label=gen173bo-1DCAEoggI46AdIMFgDaOcBiAEBmAEwuAEXyAEM2AED6AEB-AEDiAIBmAICqAIDuALMrZiRBsACAdICJDA4MWM3ODVkLWU3YjYtNGUwNC1hOGMzLWJiMzJhYjZlODBhNdgCBOACAQ&sid=e12b90519bab632c3ffdcb360924a5c1&aid=304142&ucfs=1&arphpl=1&dest_id=97&dest_type=country&group_adults=2&req_adults=2&no_rooms=1&group_children=0&req_children=0&hpos=25&hapos=1000&sr_order=popularity&srpvid=993698a31a7201b3&srepoch=1646689352&from=searchresults#hotelTmpl': 21}"
      ]
     },
     "execution_count": 380,
     "metadata": {},
     "output_type": "execute_result"
    }
   ],
   "source": [
    "data_\n"
   ]
  },
  {
   "cell_type": "code",
   "execution_count": 381,
   "metadata": {},
   "outputs": [
    {
     "name": "stderr",
     "output_type": "stream",
     "text": [
      "<ipython-input-381-4ae0c91f44c2>:26: DeprecationWarning: find_element_by_* commands are deprecated. Please use find_element() instead\n",
      "  driver.find_element_by_xpath('//*[@id=\"search_results_table\"]/div/div/div/div/div[7]/div[2]/nav/div/div[3]/button/span').click()\n"
     ]
    }
   ],
   "source": [
    "hrefs = []\n",
    "n_reviews = []\n",
    "data_ = {}\n",
    "for i in range(40):\n",
    "    try:\n",
    "        html = BeautifulSoup(driver.page_source, 'html.parser')\n",
    "\n",
    "\n",
    "        for i in html.select(\"div[data-testid='property-card']\"):\n",
    "            if i.select(\"div._f8ff3180e div._4abc4c3d5\")!=[]:\n",
    "                hrefs.append(i.select(\"h3._23bf57b84 a\")[0].attrs[\"href\"])\n",
    "\n",
    "\n",
    "        pattern = re.compile(r'(\\d+)')\n",
    "        for i in html.select(\"div._f8ff3180e div._4abc4c3d5\"):\n",
    "            if len(pattern.findall(i.text))>1:\n",
    "                n_reviews.append(int(pattern.findall(i.text)[0])*1000 + int(pattern.findall(i.text)[1]))\n",
    "            else:\n",
    "                n_reviews.append(int(pattern.findall(i.text)[0]))\n",
    "\n",
    "\n",
    "        data_.update(dict(zip(hrefs,n_reviews)))\n",
    "\n",
    "        driver.find_element_by_xpath('//*[@id=\"search_results_table\"]/div/div/div/div/div[7]/div[2]/nav/div/div[3]/button/span').click()\n",
    "        time.sleep(3)\n",
    "    except:\n",
    "        break\n"
   ]
  },
  {
   "cell_type": "markdown",
   "metadata": {},
   "source": [
    "# 爬蟲函數"
   ]
  },
  {
   "cell_type": "code",
   "execution_count": 318,
   "metadata": {},
   "outputs": [],
   "source": [
    "def hotel_url(country_url):\n",
    "\n",
    "    driver = webdriver.Chrome(path) #開啟\n",
    "    driver.get(url)\n",
    "    \n",
    "    hrefs = []\n",
    "    n_reviews = []\n",
    "    hotel_data = {}\n",
    "    for i in range(40):\n",
    "        try:\n",
    "            html = BeautifulSoup(driver.page_source, 'html.parser')\n",
    "\n",
    "            for i in html.select(\"div[data-testid='property-card']\"):\n",
    "                if i.select(\"div._f8ff3180e div._4abc4c3d5\")!=[]:\n",
    "                    hrefs.append(i.select(\"h3._23bf57b84 a\")[0].attrs[\"href\"])\n",
    "\n",
    "\n",
    "            pattern = re.compile(r'(\\d+)')\n",
    "            for i in html.select(\"div._f8ff3180e div._4abc4c3d5\"):\n",
    "                if len(pattern.findall(i.text))>1:\n",
    "                    n_reviews.append(int(pattern.findall(i.text)[0])*1000 + int(pattern.findall(i.text)[1]))\n",
    "                else:\n",
    "                    n_reviews.append(int(pattern.findall(i.text)[0]))\n",
    "\n",
    "\n",
    "\n",
    "            hotel_data.update(dict(zip(hrefs,n_reviews)))\n",
    "\n",
    "            driver.find_element_by_xpath('//*[@id=\"search_results_table\"]/div/div/div/div/div[7]/div[2]/nav/div/div[3]/button/span').click()\n",
    "            time.sleep(3)\n",
    "        except:\n",
    "            break\n",
    "    \n",
    "    return  hotel_data\n",
    "    "
   ]
  },
  {
   "cell_type": "code",
   "execution_count": 319,
   "metadata": {},
   "outputs": [
    {
     "name": "stderr",
     "output_type": "stream",
     "text": [
      "<ipython-input-318-79887280f515>:3: DeprecationWarning: executable_path has been deprecated, please pass in a Service object\n",
      "  driver = webdriver.Chrome(path) #開啟\n",
      "<ipython-input-318-79887280f515>:28: DeprecationWarning: find_element_by_* commands are deprecated. Please use find_element() instead\n",
      "  driver.find_element_by_xpath('//*[@id=\"search_results_table\"]/div/div/div/div/div[7]/div[2]/nav/div/div[3]/button/span').click()\n"
     ]
    }
   ],
   "source": [
    "url = \"https://www.booking.com/searchresults.zh-tw.html?label=gen173bo-1DCAEoggI46AdIMFgDaOcBiAEBmAEwuAEXyAEM2AED6AEB-AEDiAIBmAICqAIDuALMrZiRBsACAdICJDA4MWM3ODVkLWU3YjYtNGUwNC1hOGMzLWJiMzJhYjZlODBhNdgCBOACAQ&sid=e12b90519bab632c3ffdcb360924a5c1&tmpl=searchresults&ac_click_type=b&ac_position=0&class_interval=1&dest_id=97&dest_type=country&dtdisc=0&from_sf=1&group_adults=2&group_children=0&inac=0&index_postcard=0&label_click=undef&lang=zh-tw&no_rooms=1&offset=0&postcard=0&raw_dest_type=country&room1=A%2CA&sb_price_type=total&search_selected=1&shw_aparth=1&slp_r_match=0&soz=1&src=index&src_elem=sb&srpvid=f96c6fe9d0dd0096&ss=Iceland&ss_all=0&ss_raw=iceland&ssb=empty&sshis=0&lang_click=other;cdl=en-us;lang_changed=1\"\n",
    "urls = hotel_url(url)"
   ]
  },
  {
   "cell_type": "code",
   "execution_count": 347,
   "metadata": {},
   "outputs": [
    {
     "data": {
      "text/plain": [
       "{'https://www.booking.com/hotel/is/grandi-by-center-hotels.zh-tw.html?label=gen173bo-1DCAEoggI46AdIMFgDaOcBiAEBmAEwuAEXyAEM2AED6AEB-AEDiAIBmAICqAIDuALMrZiRBsACAdICJDA4MWM3ODVkLWU3YjYtNGUwNC1hOGMzLWJiMzJhYjZlODBhNdgCBOACAQ&sid=e12b90519bab632c3ffdcb360924a5c1&aid=304142&ucfs=1&arphpl=1&dest_id=97&dest_type=country&group_adults=2&req_adults=2&no_rooms=1&group_children=0&req_children=0&hpos=1&hapos=1&sr_order=popularity&srpvid=e74992fcebb600ae&srepoch=1646686458&from=searchresults#hotelTmpl': 574,\n",
       " 'https://www.booking.com/hotel/is/centerhotel-laugavegur.zh-tw.html?label=gen173bo-1DCAEoggI46AdIMFgDaOcBiAEBmAEwuAEXyAEM2AED6AEB-AEDiAIBmAICqAIDuALMrZiRBsACAdICJDA4MWM3ODVkLWU3YjYtNGUwNC1hOGMzLWJiMzJhYjZlODBhNdgCBOACAQ&sid=e12b90519bab632c3ffdcb360924a5c1&aid=304142&ucfs=1&arphpl=1&dest_id=97&dest_type=country&group_adults=2&req_adults=2&no_rooms=1&group_children=0&req_children=0&hpos=2&hapos=2&sr_order=popularity&srpvid=e74992fcebb600ae&srepoch=1646686458&from=searchresults#hotelTmpl': 589,\n",
       " 'https://www.booking.com/hotel/is/oddsson.zh-tw.html?label=gen173bo-1DCAEoggI46AdIMFgDaOcBiAEBmAEwuAEXyAEM2AED6AEB-AEDiAIBmAICqAIDuALMrZiRBsACAdICJDA4MWM3ODVkLWU3YjYtNGUwNC1hOGMzLWJiMzJhYjZlODBhNdgCBOACAQ&sid=e12b90519bab632c3ffdcb360924a5c1&aid=304142&ucfs=1&arphpl=1&dest_id=97&dest_type=country&group_adults=2&req_adults=2&no_rooms=1&group_children=0&req_children=0&hpos=3&hapos=3&sr_order=popularity&srpvid=e74992fcebb600ae&srepoch=1646686458&from_sustainable_property_sr=1&from=searchresults#hotelTmpl': 2135,\n",
       " 'https://www.booking.com/hotel/is/reykjavik-residence.zh-tw.html?label=gen173bo-1DCAEoggI46AdIMFgDaOcBiAEBmAEwuAEXyAEM2AED6AEB-AEDiAIBmAICqAIDuALMrZiRBsACAdICJDA4MWM3ODVkLWU3YjYtNGUwNC1hOGMzLWJiMzJhYjZlODBhNdgCBOACAQ&sid=e12b90519bab632c3ffdcb360924a5c1&aid=304142&ucfs=1&arphpl=1&dest_id=97&dest_type=country&group_adults=2&req_adults=2&no_rooms=1&group_children=0&req_children=0&hpos=4&hapos=4&sr_order=popularity&srpvid=e74992fcebb600ae&srepoch=1646686458&from=searchresults#hotelTmpl': 1494,\n",
       " 'https://www.booking.com/hotel/is/blue-fagrilundur.zh-tw.html?label=gen173bo-1DCAEoggI46AdIMFgDaOcBiAEBmAEwuAEXyAEM2AED6AEB-AEDiAIBmAICqAIDuALMrZiRBsACAdICJDA4MWM3ODVkLWU3YjYtNGUwNC1hOGMzLWJiMzJhYjZlODBhNdgCBOACAQ&sid=e12b90519bab632c3ffdcb360924a5c1&aid=304142&ucfs=1&arphpl=1&dest_id=97&dest_type=country&group_adults=2&req_adults=2&no_rooms=1&group_children=0&req_children=0&hpos=5&hapos=5&sr_order=popularity&srpvid=e74992fcebb600ae&srepoch=1646686458&from=searchresults#hotelTmpl': 404,\n",
       " 'https://www.booking.com/hotel/is/gistiheimilid-hvita.zh-tw.html?label=gen173bo-1DCAEoggI46AdIMFgDaOcBiAEBmAEwuAEXyAEM2AED6AEB-AEDiAIBmAICqAIDuALMrZiRBsACAdICJDA4MWM3ODVkLWU3YjYtNGUwNC1hOGMzLWJiMzJhYjZlODBhNdgCBOACAQ&sid=e12b90519bab632c3ffdcb360924a5c1&aid=304142&ucfs=1&arphpl=1&dest_id=97&dest_type=country&group_adults=2&req_adults=2&no_rooms=1&group_children=0&req_children=0&hpos=6&hapos=6&sr_order=popularity&srpvid=e74992fcebb600ae&srepoch=1646686458&from=searchresults#hotelTmpl': 191,\n",
       " 'https://www.booking.com/hotel/is/stora-mork.zh-tw.html?label=gen173bo-1DCAEoggI46AdIMFgDaOcBiAEBmAEwuAEXyAEM2AED6AEB-AEDiAIBmAICqAIDuALMrZiRBsACAdICJDA4MWM3ODVkLWU3YjYtNGUwNC1hOGMzLWJiMzJhYjZlODBhNdgCBOACAQ&sid=e12b90519bab632c3ffdcb360924a5c1&aid=304142&ucfs=1&arphpl=1&dest_id=97&dest_type=country&group_adults=2&req_adults=2&no_rooms=1&group_children=0&req_children=0&hpos=7&hapos=7&sr_order=popularity&srpvid=e74992fcebb600ae&srepoch=1646686458&from_sustainable_property_sr=1&from=searchresults#hotelTmpl': 885,\n",
       " 'https://www.booking.com/hotel/is/laxnes.zh-tw.html?label=gen173bo-1DCAEoggI46AdIMFgDaOcBiAEBmAEwuAEXyAEM2AED6AEB-AEDiAIBmAICqAIDuALMrZiRBsACAdICJDA4MWM3ODVkLWU3YjYtNGUwNC1hOGMzLWJiMzJhYjZlODBhNdgCBOACAQ&sid=e12b90519bab632c3ffdcb360924a5c1&aid=304142&ucfs=1&arphpl=1&dest_id=97&dest_type=country&group_adults=2&req_adults=2&no_rooms=1&group_children=0&req_children=0&hpos=8&hapos=8&sr_order=popularity&srpvid=e74992fcebb600ae&srepoch=1646686458&from_sustainable_property_sr=1&from=searchresults#hotelTmpl': 535,\n",
       " 'https://www.booking.com/hotel/is/von.zh-tw.html?label=gen173bo-1DCAEoggI46AdIMFgDaOcBiAEBmAEwuAEXyAEM2AED6AEB-AEDiAIBmAICqAIDuALMrZiRBsACAdICJDA4MWM3ODVkLWU3YjYtNGUwNC1hOGMzLWJiMzJhYjZlODBhNdgCBOACAQ&sid=e12b90519bab632c3ffdcb360924a5c1&aid=304142&ucfs=1&arphpl=1&dest_id=97&dest_type=country&group_adults=2&req_adults=2&no_rooms=1&group_children=0&req_children=0&hpos=9&hapos=9&sr_order=popularity&srpvid=e74992fcebb600ae&srepoch=1646686458&from=searchresults#hotelTmpl': 1068,\n",
       " 'https://www.booking.com/hotel/is/siglo.zh-tw.html?label=gen173bo-1DCAEoggI46AdIMFgDaOcBiAEBmAEwuAEXyAEM2AED6AEB-AEDiAIBmAICqAIDuALMrZiRBsACAdICJDA4MWM3ODVkLWU3YjYtNGUwNC1hOGMzLWJiMzJhYjZlODBhNdgCBOACAQ&sid=e12b90519bab632c3ffdcb360924a5c1&aid=304142&ucfs=1&arphpl=1&dest_id=97&dest_type=country&group_adults=2&req_adults=2&no_rooms=1&group_children=0&req_children=0&hpos=10&hapos=10&sr_order=popularity&srpvid=e74992fcebb600ae&srepoch=1646686458&from=searchresults#hotelTmpl': 1067,\n",
       " 'https://www.booking.com/hotel/is/guesthouse-sandafell.zh-tw.html?label=gen173bo-1DCAEoggI46AdIMFgDaOcBiAEBmAEwuAEXyAEM2AED6AEB-AEDiAIBmAICqAIDuALMrZiRBsACAdICJDA4MWM3ODVkLWU3YjYtNGUwNC1hOGMzLWJiMzJhYjZlODBhNdgCBOACAQ&sid=e12b90519bab632c3ffdcb360924a5c1&aid=304142&ucfs=1&arphpl=1&dest_id=97&dest_type=country&group_adults=2&req_adults=2&no_rooms=1&group_children=0&req_children=0&hpos=11&hapos=11&sr_order=popularity&srpvid=e74992fcebb600ae&srepoch=1646686458&from=searchresults#hotelTmpl': 313,\n",
       " 'https://www.booking.com/hotel/is/kvika.zh-tw.html?label=gen173bo-1DCAEoggI46AdIMFgDaOcBiAEBmAEwuAEXyAEM2AED6AEB-AEDiAIBmAICqAIDuALMrZiRBsACAdICJDA4MWM3ODVkLWU3YjYtNGUwNC1hOGMzLWJiMzJhYjZlODBhNdgCBOACAQ&sid=e12b90519bab632c3ffdcb360924a5c1&aid=304142&ucfs=1&arphpl=1&dest_id=97&dest_type=country&group_adults=2&req_adults=2&no_rooms=1&group_children=0&req_children=0&hpos=12&hapos=12&sr_order=popularity&srpvid=e74992fcebb600ae&srepoch=1646686458&from=searchresults#hotelTmpl': 73,\n",
       " 'https://www.booking.com/hotel/is/hotel-laugarbakki.zh-tw.html?label=gen173bo-1DCAEoggI46AdIMFgDaOcBiAEBmAEwuAEXyAEM2AED6AEB-AEDiAIBmAICqAIDuALMrZiRBsACAdICJDA4MWM3ODVkLWU3YjYtNGUwNC1hOGMzLWJiMzJhYjZlODBhNdgCBOACAQ&sid=e12b90519bab632c3ffdcb360924a5c1&aid=304142&ucfs=1&arphpl=1&dest_id=97&dest_type=country&group_adults=2&req_adults=2&no_rooms=1&group_children=0&req_children=0&hpos=13&hapos=13&sr_order=popularity&srpvid=e74992fcebb600ae&srepoch=1646686458&from=searchresults#hotelTmpl': 673,\n",
       " 'https://www.booking.com/hotel/is/hraunsnef-sveitahotel.zh-tw.html?label=gen173bo-1DCAEoggI46AdIMFgDaOcBiAEBmAEwuAEXyAEM2AED6AEB-AEDiAIBmAICqAIDuALMrZiRBsACAdICJDA4MWM3ODVkLWU3YjYtNGUwNC1hOGMzLWJiMzJhYjZlODBhNdgCBOACAQ&sid=e12b90519bab632c3ffdcb360924a5c1&aid=304142&ucfs=1&arphpl=1&dest_id=97&dest_type=country&group_adults=2&req_adults=2&no_rooms=1&group_children=0&req_children=0&hpos=14&hapos=14&sr_order=popularity&srpvid=e74992fcebb600ae&srepoch=1646686458&from_sustainable_property_sr=1&from=searchresults#hotelTmpl': 486,\n",
       " 'https://www.booking.com/hotel/is/stadarhus-countryside-guesthouse.zh-tw.html?label=gen173bo-1DCAEoggI46AdIMFgDaOcBiAEBmAEwuAEXyAEM2AED6AEB-AEDiAIBmAICqAIDuALMrZiRBsACAdICJDA4MWM3ODVkLWU3YjYtNGUwNC1hOGMzLWJiMzJhYjZlODBhNdgCBOACAQ&sid=e12b90519bab632c3ffdcb360924a5c1&aid=304142&ucfs=1&arphpl=1&dest_id=97&dest_type=country&group_adults=2&req_adults=2&no_rooms=1&group_children=0&req_children=0&hpos=15&hapos=15&sr_order=popularity&srpvid=e74992fcebb600ae&srepoch=1646686458&from=searchresults#hotelTmpl': 178,\n",
       " 'https://www.booking.com/hotel/is/gilitrutt.zh-tw.html?label=gen173bo-1DCAEoggI46AdIMFgDaOcBiAEBmAEwuAEXyAEM2AED6AEB-AEDiAIBmAICqAIDuALMrZiRBsACAdICJDA4MWM3ODVkLWU3YjYtNGUwNC1hOGMzLWJiMzJhYjZlODBhNdgCBOACAQ&sid=e12b90519bab632c3ffdcb360924a5c1&aid=304142&ucfs=1&arphpl=1&dest_id=97&dest_type=country&group_adults=2&req_adults=2&no_rooms=1&group_children=0&req_children=0&hpos=16&hapos=16&sr_order=popularity&srpvid=e74992fcebb600ae&srepoch=1646686458&from=searchresults#hotelTmpl': 561,\n",
       " 'https://www.booking.com/hotel/is/hotel-bifrost.zh-tw.html?label=gen173bo-1DCAEoggI46AdIMFgDaOcBiAEBmAEwuAEXyAEM2AED6AEB-AEDiAIBmAICqAIDuALMrZiRBsACAdICJDA4MWM3ODVkLWU3YjYtNGUwNC1hOGMzLWJiMzJhYjZlODBhNdgCBOACAQ&sid=e12b90519bab632c3ffdcb360924a5c1&aid=304142&ucfs=1&arphpl=1&dest_id=97&dest_type=country&group_adults=2&req_adults=2&no_rooms=1&group_children=0&req_children=0&hpos=17&hapos=17&sr_order=popularity&srpvid=e74992fcebb600ae&srepoch=1646686458&from=searchresults#hotelTmpl': 168,\n",
       " 'https://www.booking.com/hotel/is/the-freezer-hostel.zh-tw.html?label=gen173bo-1DCAEoggI46AdIMFgDaOcBiAEBmAEwuAEXyAEM2AED6AEB-AEDiAIBmAICqAIDuALMrZiRBsACAdICJDA4MWM3ODVkLWU3YjYtNGUwNC1hOGMzLWJiMzJhYjZlODBhNdgCBOACAQ&sid=e12b90519bab632c3ffdcb360924a5c1&aid=304142&ucfs=1&arphpl=1&dest_id=97&dest_type=country&group_adults=2&req_adults=2&no_rooms=1&group_children=0&req_children=0&hpos=18&hapos=18&sr_order=popularity&srpvid=e74992fcebb600ae&srepoch=1646686458&from=searchresults#hotelTmpl': 572,\n",
       " 'https://www.booking.com/hotel/is/brekkugerdi-guesthouse.zh-tw.html?label=gen173bo-1DCAEoggI46AdIMFgDaOcBiAEBmAEwuAEXyAEM2AED6AEB-AEDiAIBmAICqAIDuALMrZiRBsACAdICJDA4MWM3ODVkLWU3YjYtNGUwNC1hOGMzLWJiMzJhYjZlODBhNdgCBOACAQ&sid=e12b90519bab632c3ffdcb360924a5c1&aid=304142&ucfs=1&arphpl=1&dest_id=97&dest_type=country&group_adults=2&req_adults=2&no_rooms=1&group_children=0&req_children=0&hpos=19&hapos=19&sr_order=popularity&srpvid=e74992fcebb600ae&srepoch=1646686458&from=searchresults#hotelTmpl': 525,\n",
       " 'https://www.booking.com/hotel/is/bakki-hostel-amp-apartments.zh-tw.html?label=gen173bo-1DCAEoggI46AdIMFgDaOcBiAEBmAEwuAEXyAEM2AED6AEB-AEDiAIBmAICqAIDuALMrZiRBsACAdICJDA4MWM3ODVkLWU3YjYtNGUwNC1hOGMzLWJiMzJhYjZlODBhNdgCBOACAQ&sid=e12b90519bab632c3ffdcb360924a5c1&aid=304142&ucfs=1&arphpl=1&dest_id=97&dest_type=country&group_adults=2&req_adults=2&no_rooms=1&group_children=0&req_children=0&hpos=20&hapos=20&sr_order=popularity&srpvid=e74992fcebb600ae&srepoch=1646686458&from_sustainable_property_sr=1&from=searchresults#hotelTmpl': 1277,\n",
       " 'https://www.booking.com/hotel/is/saxa-guesthouse-and-cafe.zh-tw.html?label=gen173bo-1DCAEoggI46AdIMFgDaOcBiAEBmAEwuAEXyAEM2AED6AEB-AEDiAIBmAICqAIDuALMrZiRBsACAdICJDA4MWM3ODVkLWU3YjYtNGUwNC1hOGMzLWJiMzJhYjZlODBhNdgCBOACAQ&sid=e12b90519bab632c3ffdcb360924a5c1&aid=304142&ucfs=1&arphpl=1&dest_id=97&dest_type=country&group_adults=2&req_adults=2&no_rooms=1&group_children=0&req_children=0&hpos=21&hapos=21&sr_order=popularity&srpvid=e74992fcebb600ae&srepoch=1646686458&from_sustainable_property_sr=1&from=searchresults#hotelTmpl': 256,\n",
       " 'https://www.booking.com/hotel/is/umi.zh-tw.html?label=gen173bo-1DCAEoggI46AdIMFgDaOcBiAEBmAEwuAEXyAEM2AED6AEB-AEDiAIBmAICqAIDuALMrZiRBsACAdICJDA4MWM3ODVkLWU3YjYtNGUwNC1hOGMzLWJiMzJhYjZlODBhNdgCBOACAQ&sid=e12b90519bab632c3ffdcb360924a5c1&aid=304142&ucfs=1&arphpl=1&dest_id=97&dest_type=country&group_adults=2&req_adults=2&no_rooms=1&group_children=0&req_children=0&hpos=22&hapos=22&sr_order=popularity&srpvid=e74992fcebb600ae&srepoch=1646686458&from_sustainable_property_sr=1&from=searchresults#hotelTmpl': 345,\n",
       " 'https://www.booking.com/hotel/is/husafell.zh-tw.html?label=gen173bo-1DCAEoggI46AdIMFgDaOcBiAEBmAEwuAEXyAEM2AED6AEB-AEDiAIBmAICqAIDuALMrZiRBsACAdICJDA4MWM3ODVkLWU3YjYtNGUwNC1hOGMzLWJiMzJhYjZlODBhNdgCBOACAQ&sid=e12b90519bab632c3ffdcb360924a5c1&aid=304142&ucfs=1&arphpl=1&dest_id=97&dest_type=country&group_adults=2&req_adults=2&no_rooms=1&group_children=0&req_children=0&hpos=23&hapos=23&sr_order=popularity&srpvid=e74992fcebb600ae&srepoch=1646686458&from_sustainable_property_sr=1&from=searchresults#hotelTmpl': 449,\n",
       " 'https://www.booking.com/hotel/is/arnarstapi-cottages.zh-tw.html?label=gen173bo-1DCAEoggI46AdIMFgDaOcBiAEBmAEwuAEXyAEM2AED6AEB-AEDiAIBmAICqAIDuALMrZiRBsACAdICJDA4MWM3ODVkLWU3YjYtNGUwNC1hOGMzLWJiMzJhYjZlODBhNdgCBOACAQ&sid=e12b90519bab632c3ffdcb360924a5c1&aid=304142&ucfs=1&arphpl=1&dest_id=97&dest_type=country&group_adults=2&req_adults=2&no_rooms=1&group_children=0&req_children=0&hpos=24&hapos=24&sr_order=popularity&srpvid=e74992fcebb600ae&srepoch=1646686458&from=searchresults#hotelTmpl': 658,\n",
       " 'https://www.booking.com/hotel/is/vatnsholt.zh-tw.html?label=gen173bo-1DCAEoggI46AdIMFgDaOcBiAEBmAEwuAEXyAEM2AED6AEB-AEDiAIBmAICqAIDuALMrZiRBsACAdICJDA4MWM3ODVkLWU3YjYtNGUwNC1hOGMzLWJiMzJhYjZlODBhNdgCBOACAQ&sid=e12b90519bab632c3ffdcb360924a5c1&aid=304142&ucfs=1&arphpl=1&dest_id=97&dest_type=country&group_adults=2&req_adults=2&no_rooms=1&group_children=0&req_children=0&hpos=25&hapos=25&sr_order=popularity&srpvid=e74992fcebb600ae&srepoch=1646686458&from_sustainable_property_sr=1&from=searchresults#hotelTmpl': 803,\n",
       " 'https://www.booking.com/hotel/is/ta-rgesen.zh-tw.html?label=gen173bo-1DCAEoggI46AdIMFgDaOcBiAEBmAEwuAEXyAEM2AED6AEB-AEDiAIBmAICqAIDuALMrZiRBsACAdICJDA4MWM3ODVkLWU3YjYtNGUwNC1hOGMzLWJiMzJhYjZlODBhNdgCBOACAQ&sid=e12b90519bab632c3ffdcb360924a5c1&aid=304142&ucfs=1&arphpl=1&dest_id=97&dest_type=country&group_adults=2&req_adults=2&no_rooms=1&group_children=0&req_children=0&hpos=1&hapos=26&sr_order=popularity&srpvid=e74992fcebb600ae&srepoch=1646686462&from=searchresults#hotelTmpl': 238,\n",
       " 'https://www.booking.com/hotel/is/horn.zh-tw.html?label=gen173bo-1DCAEoggI46AdIMFgDaOcBiAEBmAEwuAEXyAEM2AED6AEB-AEDiAIBmAICqAIDuALMrZiRBsACAdICJDA4MWM3ODVkLWU3YjYtNGUwNC1hOGMzLWJiMzJhYjZlODBhNdgCBOACAQ&sid=e12b90519bab632c3ffdcb360924a5c1&aid=304142&ucfs=1&arphpl=1&dest_id=97&dest_type=country&group_adults=2&req_adults=2&no_rooms=1&group_children=0&req_children=0&hpos=2&hapos=27&sr_order=popularity&srpvid=e74992fcebb600ae&srepoch=1646686462&from=searchresults#hotelTmpl': 314,\n",
       " 'https://www.booking.com/hotel/is/sunnuberg-guesthouse.zh-tw.html?label=gen173bo-1DCAEoggI46AdIMFgDaOcBiAEBmAEwuAEXyAEM2AED6AEB-AEDiAIBmAICqAIDuALMrZiRBsACAdICJDA4MWM3ODVkLWU3YjYtNGUwNC1hOGMzLWJiMzJhYjZlODBhNdgCBOACAQ&sid=e12b90519bab632c3ffdcb360924a5c1&aid=304142&ucfs=1&arphpl=1&dest_id=97&dest_type=country&group_adults=2&req_adults=2&no_rooms=1&group_children=0&req_children=0&hpos=3&hapos=28&sr_order=popularity&srpvid=e74992fcebb600ae&srepoch=1646686462&from=searchresults#hotelTmpl': 253,\n",
       " 'https://www.booking.com/hotel/is/laxarbakki-apartments.zh-tw.html?label=gen173bo-1DCAEoggI46AdIMFgDaOcBiAEBmAEwuAEXyAEM2AED6AEB-AEDiAIBmAICqAIDuALMrZiRBsACAdICJDA4MWM3ODVkLWU3YjYtNGUwNC1hOGMzLWJiMzJhYjZlODBhNdgCBOACAQ&sid=e12b90519bab632c3ffdcb360924a5c1&aid=304142&ucfs=1&arphpl=1&dest_id=97&dest_type=country&group_adults=2&req_adults=2&no_rooms=1&group_children=0&req_children=0&hpos=4&hapos=29&sr_order=popularity&srpvid=e74992fcebb600ae&srepoch=1646686462&from_sustainable_property_sr=1&from=searchresults#hotelTmpl': 613,\n",
       " 'https://www.booking.com/hotel/is/djupavik.zh-tw.html?label=gen173bo-1DCAEoggI46AdIMFgDaOcBiAEBmAEwuAEXyAEM2AED6AEB-AEDiAIBmAICqAIDuALMrZiRBsACAdICJDA4MWM3ODVkLWU3YjYtNGUwNC1hOGMzLWJiMzJhYjZlODBhNdgCBOACAQ&sid=e12b90519bab632c3ffdcb360924a5c1&aid=304142&ucfs=1&arphpl=1&dest_id=97&dest_type=country&group_adults=2&req_adults=2&no_rooms=1&group_children=0&req_children=0&hpos=5&hapos=30&sr_order=popularity&srpvid=e74992fcebb600ae&srepoch=1646686462&from=searchresults#hotelTmpl': 292,\n",
       " 'https://www.booking.com/hotel/is/fosshotel-hengill.zh-tw.html?label=gen173bo-1DCAEoggI46AdIMFgDaOcBiAEBmAEwuAEXyAEM2AED6AEB-AEDiAIBmAICqAIDuALMrZiRBsACAdICJDA4MWM3ODVkLWU3YjYtNGUwNC1hOGMzLWJiMzJhYjZlODBhNdgCBOACAQ&sid=e12b90519bab632c3ffdcb360924a5c1&aid=304142&ucfs=1&arphpl=1&dest_id=97&dest_type=country&group_adults=2&req_adults=2&no_rooms=1&group_children=0&req_children=0&hpos=6&hapos=31&sr_order=popularity&srpvid=e74992fcebb600ae&srepoch=1646686462&from=searchresults#hotelTmpl': 482,\n",
       " 'https://www.booking.com/hotel/is/hallormsstadur.zh-tw.html?label=gen173bo-1DCAEoggI46AdIMFgDaOcBiAEBmAEwuAEXyAEM2AED6AEB-AEDiAIBmAICqAIDuALMrZiRBsACAdICJDA4MWM3ODVkLWU3YjYtNGUwNC1hOGMzLWJiMzJhYjZlODBhNdgCBOACAQ&sid=e12b90519bab632c3ffdcb360924a5c1&aid=304142&ucfs=1&arphpl=1&dest_id=97&dest_type=country&group_adults=2&req_adults=2&no_rooms=1&group_children=0&req_children=0&hpos=7&hapos=32&sr_order=popularity&srpvid=e74992fcebb600ae&srepoch=1646686462&from=searchresults#hotelTmpl': 298,\n",
       " 'https://www.booking.com/hotel/is/apotek-hostel-amp-guesthouse-akranes.zh-tw.html?label=gen173bo-1DCAEoggI46AdIMFgDaOcBiAEBmAEwuAEXyAEM2AED6AEB-AEDiAIBmAICqAIDuALMrZiRBsACAdICJDA4MWM3ODVkLWU3YjYtNGUwNC1hOGMzLWJiMzJhYjZlODBhNdgCBOACAQ&sid=e12b90519bab632c3ffdcb360924a5c1&aid=304142&ucfs=1&arphpl=1&dest_id=97&dest_type=country&group_adults=2&req_adults=2&no_rooms=1&group_children=0&req_children=0&hpos=8&hapos=33&sr_order=popularity&srpvid=e74992fcebb600ae&srepoch=1646686462&from_sustainable_property_sr=1&from=searchresults#hotelTmpl': 286,\n",
       " 'https://www.booking.com/hotel/is/exeter-by-keahotels.zh-tw.html?label=gen173bo-1DCAEoggI46AdIMFgDaOcBiAEBmAEwuAEXyAEM2AED6AEB-AEDiAIBmAICqAIDuALMrZiRBsACAdICJDA4MWM3ODVkLWU3YjYtNGUwNC1hOGMzLWJiMzJhYjZlODBhNdgCBOACAQ&sid=e12b90519bab632c3ffdcb360924a5c1&aid=304142&ucfs=1&arphpl=1&dest_id=97&dest_type=country&group_adults=2&req_adults=2&no_rooms=1&group_children=0&req_children=0&hpos=9&hapos=34&sr_order=popularity&srpvid=e74992fcebb600ae&srepoch=1646686462&from_sustainable_property_sr=1&from=searchresults#hotelTmpl': 1849,\n",
       " 'https://www.booking.com/hotel/is/noradegurlja3s.zh-tw.html?label=gen173bo-1DCAEoggI46AdIMFgDaOcBiAEBmAEwuAEXyAEM2AED6AEB-AEDiAIBmAICqAIDuALMrZiRBsACAdICJDA4MWM3ODVkLWU3YjYtNGUwNC1hOGMzLWJiMzJhYjZlODBhNdgCBOACAQ&sid=e12b90519bab632c3ffdcb360924a5c1&aid=304142&ucfs=1&arphpl=1&dest_id=97&dest_type=country&group_adults=2&req_adults=2&no_rooms=1&group_children=0&req_children=0&hpos=10&hapos=35&sr_order=popularity&srpvid=e74992fcebb600ae&srepoch=1646686462&from=searchresults#hotelTmpl': 110,\n",
       " 'https://www.booking.com/hotel/is/hlid-alftanes.zh-tw.html?label=gen173bo-1DCAEoggI46AdIMFgDaOcBiAEBmAEwuAEXyAEM2AED6AEB-AEDiAIBmAICqAIDuALMrZiRBsACAdICJDA4MWM3ODVkLWU3YjYtNGUwNC1hOGMzLWJiMzJhYjZlODBhNdgCBOACAQ&sid=e12b90519bab632c3ffdcb360924a5c1&aid=304142&ucfs=1&arphpl=1&dest_id=97&dest_type=country&group_adults=2&req_adults=2&no_rooms=1&group_children=0&req_children=0&hpos=11&hapos=36&sr_order=popularity&srpvid=e74992fcebb600ae&srepoch=1646686462&from=searchresults#hotelTmpl': 683,\n",
       " 'https://www.booking.com/hotel/is/guesthouse-lyngholt.zh-tw.html?label=gen173bo-1DCAEoggI46AdIMFgDaOcBiAEBmAEwuAEXyAEM2AED6AEB-AEDiAIBmAICqAIDuALMrZiRBsACAdICJDA4MWM3ODVkLWU3YjYtNGUwNC1hOGMzLWJiMzJhYjZlODBhNdgCBOACAQ&sid=e12b90519bab632c3ffdcb360924a5c1&aid=304142&ucfs=1&arphpl=1&dest_id=97&dest_type=country&group_adults=2&req_adults=2&no_rooms=1&group_children=0&req_children=0&hpos=12&hapos=37&sr_order=popularity&srpvid=e74992fcebb600ae&srepoch=1646686462&from=searchresults#hotelTmpl': 156,\n",
       " 'https://www.booking.com/hotel/is/budir-snaefellsbaer.zh-tw.html?label=gen173bo-1DCAEoggI46AdIMFgDaOcBiAEBmAEwuAEXyAEM2AED6AEB-AEDiAIBmAICqAIDuALMrZiRBsACAdICJDA4MWM3ODVkLWU3YjYtNGUwNC1hOGMzLWJiMzJhYjZlODBhNdgCBOACAQ&sid=e12b90519bab632c3ffdcb360924a5c1&aid=304142&ucfs=1&arphpl=1&dest_id=97&dest_type=country&group_adults=2&req_adults=2&no_rooms=1&group_children=0&req_children=0&hpos=13&hapos=38&sr_order=popularity&srpvid=e74992fcebb600ae&srepoch=1646686462&from=searchresults#hotelTmpl': 383,\n",
       " 'https://www.booking.com/hotel/is/grimsborgir-luxury-guest-house.zh-tw.html?label=gen173bo-1DCAEoggI46AdIMFgDaOcBiAEBmAEwuAEXyAEM2AED6AEB-AEDiAIBmAICqAIDuALMrZiRBsACAdICJDA4MWM3ODVkLWU3YjYtNGUwNC1hOGMzLWJiMzJhYjZlODBhNdgCBOACAQ&sid=e12b90519bab632c3ffdcb360924a5c1&aid=304142&ucfs=1&arphpl=1&dest_id=97&dest_type=country&group_adults=2&req_adults=2&no_rooms=1&group_children=0&req_children=0&hpos=14&hapos=39&sr_order=popularity&srpvid=e74992fcebb600ae&srepoch=1646686462&from_sustainable_property_sr=1&from=searchresults#hotelTmpl': 268,\n",
       " 'https://www.booking.com/hotel/is/rjupnavellir-4.zh-tw.html?label=gen173bo-1DCAEoggI46AdIMFgDaOcBiAEBmAEwuAEXyAEM2AED6AEB-AEDiAIBmAICqAIDuALMrZiRBsACAdICJDA4MWM3ODVkLWU3YjYtNGUwNC1hOGMzLWJiMzJhYjZlODBhNdgCBOACAQ&sid=e12b90519bab632c3ffdcb360924a5c1&aid=304142&ucfs=1&arphpl=1&dest_id=97&dest_type=country&group_adults=2&req_adults=2&no_rooms=1&group_children=0&req_children=0&hpos=15&hapos=40&sr_order=popularity&srpvid=e74992fcebb600ae&srepoch=1646686462&from=searchresults#hotelTmpl': 155,\n",
       " 'https://www.booking.com/hotel/is/havari-hostel.zh-tw.html?label=gen173bo-1DCAEoggI46AdIMFgDaOcBiAEBmAEwuAEXyAEM2AED6AEB-AEDiAIBmAICqAIDuALMrZiRBsACAdICJDA4MWM3ODVkLWU3YjYtNGUwNC1hOGMzLWJiMzJhYjZlODBhNdgCBOACAQ&sid=e12b90519bab632c3ffdcb360924a5c1&aid=304142&ucfs=1&arphpl=1&dest_id=97&dest_type=country&group_adults=2&req_adults=2&no_rooms=1&group_children=0&req_children=0&hpos=16&hapos=41&sr_order=popularity&srpvid=e74992fcebb600ae&srepoch=1646686462&from_sustainable_property_sr=1&from=searchresults#hotelTmpl': 232,\n",
       " 'https://www.booking.com/hotel/is/hamraborg.zh-tw.html?label=gen173bo-1DCAEoggI46AdIMFgDaOcBiAEBmAEwuAEXyAEM2AED6AEB-AEDiAIBmAICqAIDuALMrZiRBsACAdICJDA4MWM3ODVkLWU3YjYtNGUwNC1hOGMzLWJiMzJhYjZlODBhNdgCBOACAQ&sid=e12b90519bab632c3ffdcb360924a5c1&aid=304142&ucfs=1&arphpl=1&dest_id=97&dest_type=country&group_adults=2&req_adults=2&no_rooms=1&group_children=0&req_children=0&hpos=17&hapos=42&sr_order=popularity&srpvid=e74992fcebb600ae&srepoch=1646686462&from=searchresults#hotelTmpl': 111,\n",
       " 'https://www.booking.com/hotel/is/puffin-hotel.zh-tw.html?label=gen173bo-1DCAEoggI46AdIMFgDaOcBiAEBmAEwuAEXyAEM2AED6AEB-AEDiAIBmAICqAIDuALMrZiRBsACAdICJDA4MWM3ODVkLWU3YjYtNGUwNC1hOGMzLWJiMzJhYjZlODBhNdgCBOACAQ&sid=e12b90519bab632c3ffdcb360924a5c1&aid=304142&ucfs=1&arphpl=1&dest_id=97&dest_type=country&group_adults=2&req_adults=2&no_rooms=1&group_children=0&req_children=0&hpos=18&hapos=43&sr_order=popularity&srpvid=e74992fcebb600ae&srepoch=1646686462&from=searchresults#hotelTmpl': 137,\n",
       " 'https://www.booking.com/hotel/is/berunes-hostel.zh-tw.html?label=gen173bo-1DCAEoggI46AdIMFgDaOcBiAEBmAEwuAEXyAEM2AED6AEB-AEDiAIBmAICqAIDuALMrZiRBsACAdICJDA4MWM3ODVkLWU3YjYtNGUwNC1hOGMzLWJiMzJhYjZlODBhNdgCBOACAQ&sid=e12b90519bab632c3ffdcb360924a5c1&aid=304142&ucfs=1&arphpl=1&dest_id=97&dest_type=country&group_adults=2&req_adults=2&no_rooms=1&group_children=0&req_children=0&hpos=19&hapos=44&sr_order=popularity&srpvid=e74992fcebb600ae&srepoch=1646686462&from=searchresults#hotelTmpl': 598,\n",
       " 'https://www.booking.com/hotel/is/glacier-view-guesthouse-hrifunes.zh-tw.html?label=gen173bo-1DCAEoggI46AdIMFgDaOcBiAEBmAEwuAEXyAEM2AED6AEB-AEDiAIBmAICqAIDuALMrZiRBsACAdICJDA4MWM3ODVkLWU3YjYtNGUwNC1hOGMzLWJiMzJhYjZlODBhNdgCBOACAQ&sid=e12b90519bab632c3ffdcb360924a5c1&aid=304142&ucfs=1&arphpl=1&dest_id=97&dest_type=country&group_adults=2&req_adults=2&no_rooms=1&group_children=0&req_children=0&hpos=20&hapos=45&sr_order=popularity&srpvid=e74992fcebb600ae&srepoch=1646686462&from=searchresults#hotelTmpl': 364,\n",
       " 'https://www.booking.com/hotel/is/kirkjuhvoll-guesthouse.zh-tw.html?label=gen173bo-1DCAEoggI46AdIMFgDaOcBiAEBmAEwuAEXyAEM2AED6AEB-AEDiAIBmAICqAIDuALMrZiRBsACAdICJDA4MWM3ODVkLWU3YjYtNGUwNC1hOGMzLWJiMzJhYjZlODBhNdgCBOACAQ&sid=e12b90519bab632c3ffdcb360924a5c1&aid=304142&ucfs=1&arphpl=1&dest_id=97&dest_type=country&group_adults=2&req_adults=2&no_rooms=1&group_children=0&req_children=0&hpos=21&hapos=46&sr_order=popularity&srpvid=e74992fcebb600ae&srepoch=1646686462&from_sustainable_property_sr=1&from=searchresults#hotelTmpl': 220,\n",
       " 'https://www.booking.com/hotel/is/vogur-farmhouse.zh-tw.html?label=gen173bo-1DCAEoggI46AdIMFgDaOcBiAEBmAEwuAEXyAEM2AED6AEB-AEDiAIBmAICqAIDuALMrZiRBsACAdICJDA4MWM3ODVkLWU3YjYtNGUwNC1hOGMzLWJiMzJhYjZlODBhNdgCBOACAQ&sid=e12b90519bab632c3ffdcb360924a5c1&aid=304142&ucfs=1&arphpl=1&dest_id=97&dest_type=country&group_adults=2&req_adults=2&no_rooms=1&group_children=0&req_children=0&hpos=22&hapos=47&sr_order=popularity&srpvid=e74992fcebb600ae&srepoch=1646686462&from=searchresults#hotelTmpl': 186,\n",
       " 'https://www.booking.com/hotel/is/blafell.zh-tw.html?label=gen173bo-1DCAEoggI46AdIMFgDaOcBiAEBmAEwuAEXyAEM2AED6AEB-AEDiAIBmAICqAIDuALMrZiRBsACAdICJDA4MWM3ODVkLWU3YjYtNGUwNC1hOGMzLWJiMzJhYjZlODBhNdgCBOACAQ&sid=e12b90519bab632c3ffdcb360924a5c1&aid=304142&ucfs=1&arphpl=1&dest_id=97&dest_type=country&group_adults=2&req_adults=2&no_rooms=1&group_children=0&req_children=0&hpos=23&hapos=48&sr_order=popularity&srpvid=e74992fcebb600ae&srepoch=1646686462&from=searchresults#hotelTmpl': 555,\n",
       " 'https://www.booking.com/hotel/is/guesthouse-brekka.zh-tw.html?label=gen173bo-1DCAEoggI46AdIMFgDaOcBiAEBmAEwuAEXyAEM2AED6AEB-AEDiAIBmAICqAIDuALMrZiRBsACAdICJDA4MWM3ODVkLWU3YjYtNGUwNC1hOGMzLWJiMzJhYjZlODBhNdgCBOACAQ&sid=e12b90519bab632c3ffdcb360924a5c1&aid=304142&ucfs=1&arphpl=1&dest_id=97&dest_type=country&group_adults=2&req_adults=2&no_rooms=1&group_children=0&req_children=0&hpos=24&hapos=49&sr_order=popularity&srpvid=e74992fcebb600ae&srepoch=1646686462&from=searchresults#hotelTmpl': 505,\n",
       " 'https://www.booking.com/hotel/is/camp-boutique-gaulverjabaer.zh-tw.html?label=gen173bo-1DCAEoggI46AdIMFgDaOcBiAEBmAEwuAEXyAEM2AED6AEB-AEDiAIBmAICqAIDuALMrZiRBsACAdICJDA4MWM3ODVkLWU3YjYtNGUwNC1hOGMzLWJiMzJhYjZlODBhNdgCBOACAQ&sid=e12b90519bab632c3ffdcb360924a5c1&aid=304142&ucfs=1&arphpl=1&dest_id=97&dest_type=country&group_adults=2&req_adults=2&no_rooms=1&group_children=0&req_children=0&hpos=25&hapos=50&sr_order=popularity&srpvid=e74992fcebb600ae&srepoch=1646686462&from=searchresults#hotelTmpl': 458,\n",
       " 'https://www.booking.com/hotel/is/kria-cottages.zh-tw.html?label=gen173bo-1DCAEoggI46AdIMFgDaOcBiAEBmAEwuAEXyAEM2AED6AEB-AEDiAIBmAICqAIDuALMrZiRBsACAdICJDA4MWM3ODVkLWU3YjYtNGUwNC1hOGMzLWJiMzJhYjZlODBhNdgCBOACAQ&sid=e12b90519bab632c3ffdcb360924a5c1&aid=304142&ucfs=1&arphpl=1&dest_id=97&dest_type=country&group_adults=2&req_adults=2&no_rooms=1&group_children=0&req_children=0&hpos=1&hapos=51&sr_order=popularity&srpvid=e74992fcebb600ae&srepoch=1646686466&from=searchresults#hotelTmpl': 198,\n",
       " 'https://www.booking.com/hotel/is/eyjar-fishing-lodge.zh-tw.html?label=gen173bo-1DCAEoggI46AdIMFgDaOcBiAEBmAEwuAEXyAEM2AED6AEB-AEDiAIBmAICqAIDuALMrZiRBsACAdICJDA4MWM3ODVkLWU3YjYtNGUwNC1hOGMzLWJiMzJhYjZlODBhNdgCBOACAQ&sid=e12b90519bab632c3ffdcb360924a5c1&aid=304142&ucfs=1&arphpl=1&dest_id=97&dest_type=country&group_adults=2&req_adults=2&no_rooms=1&group_children=0&req_children=0&hpos=2&hapos=52&sr_order=popularity&srpvid=e74992fcebb600ae&srepoch=1646686466&from=searchresults#hotelTmpl': 117,\n",
       " 'https://www.booking.com/hotel/is/lindartun-guesthouse.zh-tw.html?label=gen173bo-1DCAEoggI46AdIMFgDaOcBiAEBmAEwuAEXyAEM2AED6AEB-AEDiAIBmAICqAIDuALMrZiRBsACAdICJDA4MWM3ODVkLWU3YjYtNGUwNC1hOGMzLWJiMzJhYjZlODBhNdgCBOACAQ&sid=e12b90519bab632c3ffdcb360924a5c1&aid=304142&ucfs=1&arphpl=1&dest_id=97&dest_type=country&group_adults=2&req_adults=2&no_rooms=1&group_children=0&req_children=0&hpos=3&hapos=53&sr_order=popularity&srpvid=e74992fcebb600ae&srepoch=1646686466&from=searchresults#hotelTmpl': 371,\n",
       " 'https://www.booking.com/hotel/is/setberg-guesthouse.zh-tw.html?label=gen173bo-1DCAEoggI46AdIMFgDaOcBiAEBmAEwuAEXyAEM2AED6AEB-AEDiAIBmAICqAIDuALMrZiRBsACAdICJDA4MWM3ODVkLWU3YjYtNGUwNC1hOGMzLWJiMzJhYjZlODBhNdgCBOACAQ&sid=e12b90519bab632c3ffdcb360924a5c1&aid=304142&ucfs=1&arphpl=1&dest_id=97&dest_type=country&group_adults=2&req_adults=2&no_rooms=1&group_children=0&req_children=0&hpos=4&hapos=54&sr_order=popularity&srpvid=e74992fcebb600ae&srepoch=1646686466&from=searchresults#hotelTmpl': 210,\n",
       " 'https://www.booking.com/hotel/is/fossatun-guesthouse-borgarnes.zh-tw.html?label=gen173bo-1DCAEoggI46AdIMFgDaOcBiAEBmAEwuAEXyAEM2AED6AEB-AEDiAIBmAICqAIDuALMrZiRBsACAdICJDA4MWM3ODVkLWU3YjYtNGUwNC1hOGMzLWJiMzJhYjZlODBhNdgCBOACAQ&sid=e12b90519bab632c3ffdcb360924a5c1&aid=304142&ucfs=1&arphpl=1&dest_id=97&dest_type=country&group_adults=2&req_adults=2&no_rooms=1&group_children=0&req_children=0&hpos=5&hapos=55&sr_order=popularity&srpvid=e74992fcebb600ae&srepoch=1646686466&from=searchresults#hotelTmpl': 461,\n",
       " 'https://www.booking.com/hotel/is/ferdathjonustan-geitaskardi.zh-tw.html?label=gen173bo-1DCAEoggI46AdIMFgDaOcBiAEBmAEwuAEXyAEM2AED6AEB-AEDiAIBmAICqAIDuALMrZiRBsACAdICJDA4MWM3ODVkLWU3YjYtNGUwNC1hOGMzLWJiMzJhYjZlODBhNdgCBOACAQ&sid=e12b90519bab632c3ffdcb360924a5c1&aid=304142&ucfs=1&arphpl=1&dest_id=97&dest_type=country&group_adults=2&req_adults=2&no_rooms=1&group_children=0&req_children=0&hpos=6&hapos=56&sr_order=popularity&srpvid=e74992fcebb600ae&srepoch=1646686466&from=searchresults#hotelTmpl': 30,\n",
       " 'https://www.booking.com/hotel/is/country-hotel-anna.zh-tw.html?label=gen173bo-1DCAEoggI46AdIMFgDaOcBiAEBmAEwuAEXyAEM2AED6AEB-AEDiAIBmAICqAIDuALMrZiRBsACAdICJDA4MWM3ODVkLWU3YjYtNGUwNC1hOGMzLWJiMzJhYjZlODBhNdgCBOACAQ&sid=e12b90519bab632c3ffdcb360924a5c1&aid=304142&ucfs=1&arphpl=1&dest_id=97&dest_type=country&group_adults=2&req_adults=2&no_rooms=1&group_children=0&req_children=0&hpos=7&hapos=57&sr_order=popularity&srpvid=e74992fcebb600ae&srepoch=1646686466&from=searchresults#hotelTmpl': 242,\n",
       " 'https://www.booking.com/hotel/is/coras-house-amp-horses.zh-tw.html?label=gen173bo-1DCAEoggI46AdIMFgDaOcBiAEBmAEwuAEXyAEM2AED6AEB-AEDiAIBmAICqAIDuALMrZiRBsACAdICJDA4MWM3ODVkLWU3YjYtNGUwNC1hOGMzLWJiMzJhYjZlODBhNdgCBOACAQ&sid=e12b90519bab632c3ffdcb360924a5c1&aid=304142&ucfs=1&arphpl=1&dest_id=97&dest_type=country&group_adults=2&req_adults=2&no_rooms=1&group_children=0&req_children=0&hpos=8&hapos=58&sr_order=popularity&srpvid=e74992fcebb600ae&srepoch=1646686466&from_sustainable_property_sr=1&from=searchresults#hotelTmpl': 136,\n",
       " 'https://www.booking.com/hotel/is/skalatjorn-homestay.zh-tw.html?label=gen173bo-1DCAEoggI46AdIMFgDaOcBiAEBmAEwuAEXyAEM2AED6AEB-AEDiAIBmAICqAIDuALMrZiRBsACAdICJDA4MWM3ODVkLWU3YjYtNGUwNC1hOGMzLWJiMzJhYjZlODBhNdgCBOACAQ&sid=e12b90519bab632c3ffdcb360924a5c1&aid=304142&ucfs=1&arphpl=1&dest_id=97&dest_type=country&group_adults=2&req_adults=2&no_rooms=1&group_children=0&req_children=0&hpos=9&hapos=59&sr_order=popularity&srpvid=e74992fcebb600ae&srepoch=1646686466&from_sustainable_property_sr=1&from=searchresults#hotelTmpl': 320,\n",
       " 'https://www.booking.com/hotel/is/midhop-guesthouse.zh-tw.html?label=gen173bo-1DCAEoggI46AdIMFgDaOcBiAEBmAEwuAEXyAEM2AED6AEB-AEDiAIBmAICqAIDuALMrZiRBsACAdICJDA4MWM3ODVkLWU3YjYtNGUwNC1hOGMzLWJiMzJhYjZlODBhNdgCBOACAQ&sid=e12b90519bab632c3ffdcb360924a5c1&aid=304142&ucfs=1&arphpl=1&dest_id=97&dest_type=country&group_adults=2&req_adults=2&no_rooms=1&group_children=0&req_children=0&hpos=10&hapos=60&sr_order=popularity&srpvid=e74992fcebb600ae&srepoch=1646686466&from=searchresults#hotelTmpl': 72,\n",
       " 'https://www.booking.com/hotel/is/guesthouse-fljotsdalsgrund.zh-tw.html?label=gen173bo-1DCAEoggI46AdIMFgDaOcBiAEBmAEwuAEXyAEM2AED6AEB-AEDiAIBmAICqAIDuALMrZiRBsACAdICJDA4MWM3ODVkLWU3YjYtNGUwNC1hOGMzLWJiMzJhYjZlODBhNdgCBOACAQ&sid=e12b90519bab632c3ffdcb360924a5c1&aid=304142&ucfs=1&arphpl=1&dest_id=97&dest_type=country&group_adults=2&req_adults=2&no_rooms=1&group_children=0&req_children=0&hpos=11&hapos=61&sr_order=popularity&srpvid=e74992fcebb600ae&srepoch=1646686466&from_sustainable_property_sr=1&from=searchresults#hotelTmpl': 233,\n",
       " 'https://www.booking.com/hotel/is/fishing-lodge-halsakot.zh-tw.html?label=gen173bo-1DCAEoggI46AdIMFgDaOcBiAEBmAEwuAEXyAEM2AED6AEB-AEDiAIBmAICqAIDuALMrZiRBsACAdICJDA4MWM3ODVkLWU3YjYtNGUwNC1hOGMzLWJiMzJhYjZlODBhNdgCBOACAQ&sid=e12b90519bab632c3ffdcb360924a5c1&aid=304142&ucfs=1&arphpl=1&dest_id=97&dest_type=country&group_adults=2&req_adults=2&no_rooms=1&group_children=0&req_children=0&hpos=12&hapos=62&sr_order=popularity&srpvid=e74992fcebb600ae&srepoch=1646686466&from=searchresults#hotelTmpl': 6,\n",
       " 'https://www.booking.com/hotel/is/blabjorg-guesthouse.zh-tw.html?label=gen173bo-1DCAEoggI46AdIMFgDaOcBiAEBmAEwuAEXyAEM2AED6AEB-AEDiAIBmAICqAIDuALMrZiRBsACAdICJDA4MWM3ODVkLWU3YjYtNGUwNC1hOGMzLWJiMzJhYjZlODBhNdgCBOACAQ&sid=e12b90519bab632c3ffdcb360924a5c1&aid=304142&ucfs=1&arphpl=1&dest_id=97&dest_type=country&group_adults=2&req_adults=2&no_rooms=1&group_children=0&req_children=0&hpos=13&hapos=63&sr_order=popularity&srpvid=e74992fcebb600ae&srepoch=1646686466&from_sustainable_property_sr=1&from=searchresults#hotelTmpl': 860,\n",
       " 'https://www.booking.com/hotel/is/kvoldstjarnan-guesthouse.zh-tw.html?label=gen173bo-1DCAEoggI46AdIMFgDaOcBiAEBmAEwuAEXyAEM2AED6AEB-AEDiAIBmAICqAIDuALMrZiRBsACAdICJDA4MWM3ODVkLWU3YjYtNGUwNC1hOGMzLWJiMzJhYjZlODBhNdgCBOACAQ&sid=e12b90519bab632c3ffdcb360924a5c1&aid=304142&ucfs=1&arphpl=1&dest_id=97&dest_type=country&group_adults=2&req_adults=2&no_rooms=1&group_children=0&req_children=0&hpos=14&hapos=64&sr_order=popularity&srpvid=e74992fcebb600ae&srepoch=1646686466&from=searchresults#hotelTmpl': 96,\n",
       " 'https://www.booking.com/hotel/is/langaholt.zh-tw.html?label=gen173bo-1DCAEoggI46AdIMFgDaOcBiAEBmAEwuAEXyAEM2AED6AEB-AEDiAIBmAICqAIDuALMrZiRBsACAdICJDA4MWM3ODVkLWU3YjYtNGUwNC1hOGMzLWJiMzJhYjZlODBhNdgCBOACAQ&sid=e12b90519bab632c3ffdcb360924a5c1&aid=304142&ucfs=1&arphpl=1&dest_id=97&dest_type=country&group_adults=2&req_adults=2&no_rooms=1&group_children=0&req_children=0&hpos=15&hapos=65&sr_order=popularity&srpvid=e74992fcebb600ae&srepoch=1646686466&from=searchresults#hotelTmpl': 555,\n",
       " 'https://www.booking.com/hotel/is/plaza.zh-tw.html?label=gen173bo-1DCAEoggI46AdIMFgDaOcBiAEBmAEwuAEXyAEM2AED6AEB-AEDiAIBmAICqAIDuALMrZiRBsACAdICJDA4MWM3ODVkLWU3YjYtNGUwNC1hOGMzLWJiMzJhYjZlODBhNdgCBOACAQ&sid=e12b90519bab632c3ffdcb360924a5c1&aid=304142&ucfs=1&arphpl=1&dest_id=97&dest_type=country&group_adults=2&req_adults=2&no_rooms=1&group_children=0&req_children=0&hpos=16&hapos=66&sr_order=popularity&srpvid=e74992fcebb600ae&srepoch=1646686466&from=searchresults#hotelTmpl': 3269,\n",
       " 'https://www.booking.com/hotel/is/asolfsskali-cottage.zh-tw.html?label=gen173bo-1DCAEoggI46AdIMFgDaOcBiAEBmAEwuAEXyAEM2AED6AEB-AEDiAIBmAICqAIDuALMrZiRBsACAdICJDA4MWM3ODVkLWU3YjYtNGUwNC1hOGMzLWJiMzJhYjZlODBhNdgCBOACAQ&sid=e12b90519bab632c3ffdcb360924a5c1&aid=304142&ucfs=1&arphpl=1&dest_id=97&dest_type=country&group_adults=2&req_adults=2&no_rooms=1&group_children=0&req_children=0&hpos=17&hapos=67&sr_order=popularity&srpvid=e74992fcebb600ae&srepoch=1646686466&from=searchresults#hotelTmpl': 257,\n",
       " 'https://www.booking.com/hotel/is/esjan.zh-tw.html?label=gen173bo-1DCAEoggI46AdIMFgDaOcBiAEBmAEwuAEXyAEM2AED6AEB-AEDiAIBmAICqAIDuALMrZiRBsACAdICJDA4MWM3ODVkLWU3YjYtNGUwNC1hOGMzLWJiMzJhYjZlODBhNdgCBOACAQ&sid=e12b90519bab632c3ffdcb360924a5c1&aid=304142&ucfs=1&arphpl=1&dest_id=97&dest_type=country&group_adults=2&req_adults=2&no_rooms=1&group_children=0&req_children=0&hpos=18&hapos=68&sr_order=popularity&srpvid=e74992fcebb600ae&srepoch=1646686467&from=searchresults#hotelTmpl': 294,\n",
       " 'https://www.booking.com/hotel/is/hellisholar-cottages.zh-tw.html?label=gen173bo-1DCAEoggI46AdIMFgDaOcBiAEBmAEwuAEXyAEM2AED6AEB-AEDiAIBmAICqAIDuALMrZiRBsACAdICJDA4MWM3ODVkLWU3YjYtNGUwNC1hOGMzLWJiMzJhYjZlODBhNdgCBOACAQ&sid=e12b90519bab632c3ffdcb360924a5c1&aid=304142&ucfs=1&arphpl=1&dest_id=97&dest_type=country&group_adults=2&req_adults=2&no_rooms=1&group_children=0&req_children=0&hpos=19&hapos=69&sr_order=popularity&srpvid=e74992fcebb600ae&srepoch=1646686467&from_sustainable_property_sr=1&from=searchresults#hotelTmpl': 581,\n",
       " 'https://www.booking.com/hotel/is/karuna-guesthouse.zh-tw.html?label=gen173bo-1DCAEoggI46AdIMFgDaOcBiAEBmAEwuAEXyAEM2AED6AEB-AEDiAIBmAICqAIDuALMrZiRBsACAdICJDA4MWM3ODVkLWU3YjYtNGUwNC1hOGMzLWJiMzJhYjZlODBhNdgCBOACAQ&sid=e12b90519bab632c3ffdcb360924a5c1&aid=304142&ucfs=1&arphpl=1&dest_id=97&dest_type=country&group_adults=2&req_adults=2&no_rooms=1&group_children=0&req_children=0&hpos=20&hapos=70&sr_order=popularity&srpvid=e74992fcebb600ae&srepoch=1646686467&from=searchresults#hotelTmpl': 434,\n",
       " 'https://www.booking.com/hotel/is/kast-guesthouse.zh-tw.html?label=gen173bo-1DCAEoggI46AdIMFgDaOcBiAEBmAEwuAEXyAEM2AED6AEB-AEDiAIBmAICqAIDuALMrZiRBsACAdICJDA4MWM3ODVkLWU3YjYtNGUwNC1hOGMzLWJiMzJhYjZlODBhNdgCBOACAQ&sid=e12b90519bab632c3ffdcb360924a5c1&aid=304142&ucfs=1&arphpl=1&dest_id=97&dest_type=country&group_adults=2&req_adults=2&no_rooms=1&group_children=0&req_children=0&hpos=21&hapos=71&sr_order=popularity&srpvid=e74992fcebb600ae&srepoch=1646686467&from=searchresults#hotelTmpl': 540,\n",
       " 'https://www.booking.com/hotel/is/laxardalur-cabin.zh-tw.html?label=gen173bo-1DCAEoggI46AdIMFgDaOcBiAEBmAEwuAEXyAEM2AED6AEB-AEDiAIBmAICqAIDuALMrZiRBsACAdICJDA4MWM3ODVkLWU3YjYtNGUwNC1hOGMzLWJiMzJhYjZlODBhNdgCBOACAQ&sid=e12b90519bab632c3ffdcb360924a5c1&aid=304142&ucfs=1&arphpl=1&dest_id=97&dest_type=country&group_adults=2&req_adults=2&no_rooms=1&group_children=0&req_children=0&hpos=22&hapos=72&sr_order=popularity&srpvid=e74992fcebb600ae&srepoch=1646686467&from=searchresults#hotelTmpl': 177,\n",
       " 'https://www.booking.com/hotel/is/edda-akureyri.zh-tw.html?label=gen173bo-1DCAEoggI46AdIMFgDaOcBiAEBmAEwuAEXyAEM2AED6AEB-AEDiAIBmAICqAIDuALMrZiRBsACAdICJDA4MWM3ODVkLWU3YjYtNGUwNC1hOGMzLWJiMzJhYjZlODBhNdgCBOACAQ&sid=e12b90519bab632c3ffdcb360924a5c1&aid=304142&ucfs=1&arphpl=1&dest_id=97&dest_type=country&group_adults=2&req_adults=2&no_rooms=1&group_children=0&req_children=0&hpos=23&hapos=73&sr_order=popularity&srpvid=e74992fcebb600ae&srepoch=1646686467&from_sustainable_property_sr=1&from=searchresults#hotelTmpl': 938,\n",
       " 'https://www.booking.com/hotel/is/first-kopavogur.zh-tw.html?label=gen173bo-1DCAEoggI46AdIMFgDaOcBiAEBmAEwuAEXyAEM2AED6AEB-AEDiAIBmAICqAIDuALMrZiRBsACAdICJDA4MWM3ODVkLWU3YjYtNGUwNC1hOGMzLWJiMzJhYjZlODBhNdgCBOACAQ&sid=e12b90519bab632c3ffdcb360924a5c1&aid=304142&ucfs=1&arphpl=1&dest_id=97&dest_type=country&group_adults=2&req_adults=2&no_rooms=1&group_children=0&req_children=0&hpos=24&hapos=74&sr_order=popularity&srpvid=e74992fcebb600ae&srepoch=1646686467&from_sustainable_property_sr=1&from=searchresults#hotelTmpl': 3440,\n",
       " 'https://www.booking.com/hotel/is/stafafell-sacred-garden.zh-tw.html?label=gen173bo-1DCAEoggI46AdIMFgDaOcBiAEBmAEwuAEXyAEM2AED6AEB-AEDiAIBmAICqAIDuALMrZiRBsACAdICJDA4MWM3ODVkLWU3YjYtNGUwNC1hOGMzLWJiMzJhYjZlODBhNdgCBOACAQ&sid=e12b90519bab632c3ffdcb360924a5c1&aid=304142&ucfs=1&arphpl=1&dest_id=97&dest_type=country&group_adults=2&req_adults=2&no_rooms=1&group_children=0&req_children=0&hpos=25&hapos=75&sr_order=popularity&srpvid=e74992fcebb600ae&srepoch=1646686467&from=searchresults#hotelTmpl': 42,\n",
       " 'https://www.booking.com/hotel/is/hjartarstadir-guesthouse.zh-tw.html?label=gen173bo-1DCAEoggI46AdIMFgDaOcBiAEBmAEwuAEXyAEM2AED6AEB-AEDiAIBmAICqAIDuALMrZiRBsACAdICJDA4MWM3ODVkLWU3YjYtNGUwNC1hOGMzLWJiMzJhYjZlODBhNdgCBOACAQ&sid=e12b90519bab632c3ffdcb360924a5c1&aid=304142&ucfs=1&arphpl=1&dest_id=97&dest_type=country&group_adults=2&req_adults=2&no_rooms=1&group_children=0&req_children=0&hpos=1&hapos=76&sr_order=popularity&srpvid=e74992fcebb600ae&srepoch=1646686470&from=searchresults#hotelTmpl': 422,\n",
       " 'https://www.booking.com/hotel/is/grimstunga-1.zh-tw.html?label=gen173bo-1DCAEoggI46AdIMFgDaOcBiAEBmAEwuAEXyAEM2AED6AEB-AEDiAIBmAICqAIDuALMrZiRBsACAdICJDA4MWM3ODVkLWU3YjYtNGUwNC1hOGMzLWJiMzJhYjZlODBhNdgCBOACAQ&sid=e12b90519bab632c3ffdcb360924a5c1&aid=304142&ucfs=1&arphpl=1&dest_id=97&dest_type=country&group_adults=2&req_adults=2&no_rooms=1&group_children=0&req_children=0&hpos=2&hapos=77&sr_order=popularity&srpvid=e74992fcebb600ae&srepoch=1646686470&from=searchresults#hotelTmpl': 447,\n",
       " 'https://www.booking.com/hotel/is/hotel-fljotshlid.zh-tw.html?label=gen173bo-1DCAEoggI46AdIMFgDaOcBiAEBmAEwuAEXyAEM2AED6AEB-AEDiAIBmAICqAIDuALMrZiRBsACAdICJDA4MWM3ODVkLWU3YjYtNGUwNC1hOGMzLWJiMzJhYjZlODBhNdgCBOACAQ&sid=e12b90519bab632c3ffdcb360924a5c1&aid=304142&ucfs=1&arphpl=1&dest_id=97&dest_type=country&group_adults=2&req_adults=2&no_rooms=1&group_children=0&req_children=0&hpos=3&hapos=78&sr_order=popularity&srpvid=e74992fcebb600ae&srepoch=1646686470&from_sustainable_property_sr=1&from=searchresults#hotelTmpl': 278,\n",
       " 'https://www.booking.com/hotel/is/kjarnalundur.zh-tw.html?label=gen173bo-1DCAEoggI46AdIMFgDaOcBiAEBmAEwuAEXyAEM2AED6AEB-AEDiAIBmAICqAIDuALMrZiRBsACAdICJDA4MWM3ODVkLWU3YjYtNGUwNC1hOGMzLWJiMzJhYjZlODBhNdgCBOACAQ&sid=e12b90519bab632c3ffdcb360924a5c1&aid=304142&ucfs=1&arphpl=1&dest_id=97&dest_type=country&group_adults=2&req_adults=2&no_rooms=1&group_children=0&req_children=0&hpos=4&hapos=79&sr_order=popularity&srpvid=e74992fcebb600ae&srepoch=1646686470&from_sustainable_property_sr=1&from=searchresults#hotelTmpl': 2028,\n",
       " 'https://www.booking.com/hotel/is/icelandairhotel-akureyri.zh-tw.html?label=gen173bo-1DCAEoggI46AdIMFgDaOcBiAEBmAEwuAEXyAEM2AED6AEB-AEDiAIBmAICqAIDuALMrZiRBsACAdICJDA4MWM3ODVkLWU3YjYtNGUwNC1hOGMzLWJiMzJhYjZlODBhNdgCBOACAQ&sid=e12b90519bab632c3ffdcb360924a5c1&aid=304142&ucfs=1&arphpl=1&dest_id=97&dest_type=country&group_adults=2&req_adults=2&no_rooms=1&group_children=0&req_children=0&hpos=5&hapos=80&sr_order=popularity&srpvid=e74992fcebb600ae&srepoch=1646686470&from_sustainable_property_sr=1&from=searchresults#hotelTmpl': 898,\n",
       " 'https://www.booking.com/hotel/is/camp-boutique-original-north.zh-tw.html?label=gen173bo-1DCAEoggI46AdIMFgDaOcBiAEBmAEwuAEXyAEM2AED6AEB-AEDiAIBmAICqAIDuALMrZiRBsACAdICJDA4MWM3ODVkLWU3YjYtNGUwNC1hOGMzLWJiMzJhYjZlODBhNdgCBOACAQ&sid=e12b90519bab632c3ffdcb360924a5c1&aid=304142&ucfs=1&arphpl=1&dest_id=97&dest_type=country&group_adults=2&req_adults=2&no_rooms=1&group_children=0&req_children=0&hpos=6&hapos=81&sr_order=popularity&srpvid=e74992fcebb600ae&srepoch=1646686470&from=searchresults#hotelTmpl': 348,\n",
       " 'https://www.booking.com/hotel/is/arnarnes-paradise.zh-tw.html?label=gen173bo-1DCAEoggI46AdIMFgDaOcBiAEBmAEwuAEXyAEM2AED6AEB-AEDiAIBmAICqAIDuALMrZiRBsACAdICJDA4MWM3ODVkLWU3YjYtNGUwNC1hOGMzLWJiMzJhYjZlODBhNdgCBOACAQ&sid=e12b90519bab632c3ffdcb360924a5c1&aid=304142&ucfs=1&arphpl=1&dest_id=97&dest_type=country&group_adults=2&req_adults=2&no_rooms=1&group_children=0&req_children=0&hpos=7&hapos=82&sr_order=popularity&srpvid=e74992fcebb600ae&srepoch=1646686470&from_sustainable_property_sr=1&from=searchresults#hotelTmpl': 195,\n",
       " 'https://www.booking.com/hotel/is/klopp.zh-tw.html?label=gen173bo-1DCAEoggI46AdIMFgDaOcBiAEBmAEwuAEXyAEM2AED6AEB-AEDiAIBmAICqAIDuALMrZiRBsACAdICJDA4MWM3ODVkLWU3YjYtNGUwNC1hOGMzLWJiMzJhYjZlODBhNdgCBOACAQ&sid=e12b90519bab632c3ffdcb360924a5c1&aid=304142&ucfs=1&arphpl=1&dest_id=97&dest_type=country&group_adults=2&req_adults=2&no_rooms=1&group_children=0&req_children=0&hpos=8&hapos=83&sr_order=popularity&srpvid=e74992fcebb600ae&srepoch=1646686470&from=searchresults#hotelTmpl': 802,\n",
       " 'https://www.booking.com/hotel/is/north.zh-tw.html?label=gen173bo-1DCAEoggI46AdIMFgDaOcBiAEBmAEwuAEXyAEM2AED6AEB-AEDiAIBmAICqAIDuALMrZiRBsACAdICJDA4MWM3ODVkLWU3YjYtNGUwNC1hOGMzLWJiMzJhYjZlODBhNdgCBOACAQ&sid=e12b90519bab632c3ffdcb360924a5c1&aid=304142&ucfs=1&arphpl=1&dest_id=97&dest_type=country&group_adults=2&req_adults=2&no_rooms=1&group_children=0&req_children=0&hpos=9&hapos=84&sr_order=popularity&srpvid=e74992fcebb600ae&srepoch=1646686470&from=searchresults#hotelTmpl': 708,\n",
       " 'https://www.booking.com/hotel/is/alftrod.zh-tw.html?label=gen173bo-1DCAEoggI46AdIMFgDaOcBiAEBmAEwuAEXyAEM2AED6AEB-AEDiAIBmAICqAIDuALMrZiRBsACAdICJDA4MWM3ODVkLWU3YjYtNGUwNC1hOGMzLWJiMzJhYjZlODBhNdgCBOACAQ&sid=e12b90519bab632c3ffdcb360924a5c1&aid=304142&ucfs=1&arphpl=1&dest_id=97&dest_type=country&group_adults=2&req_adults=2&no_rooms=1&group_children=0&req_children=0&hpos=10&hapos=85&sr_order=popularity&srpvid=e74992fcebb600ae&srepoch=1646686470&from_sustainable_property_sr=1&from=searchresults#hotelTmpl': 67,\n",
       " 'https://www.booking.com/hotel/is/kalfafellsstadur-bed-amp-breakfast.zh-tw.html?label=gen173bo-1DCAEoggI46AdIMFgDaOcBiAEBmAEwuAEXyAEM2AED6AEB-AEDiAIBmAICqAIDuALMrZiRBsACAdICJDA4MWM3ODVkLWU3YjYtNGUwNC1hOGMzLWJiMzJhYjZlODBhNdgCBOACAQ&sid=e12b90519bab632c3ffdcb360924a5c1&aid=304142&ucfs=1&arphpl=1&dest_id=97&dest_type=country&group_adults=2&req_adults=2&no_rooms=1&group_children=0&req_children=0&hpos=11&hapos=86&sr_order=popularity&srpvid=e74992fcebb600ae&srepoch=1646686470&from=searchresults#hotelTmpl': 402,\n",
       " 'https://www.booking.com/hotel/is/reykjavik-downtown-hotel.zh-tw.html?label=gen173bo-1DCAEoggI46AdIMFgDaOcBiAEBmAEwuAEXyAEM2AED6AEB-AEDiAIBmAICqAIDuALMrZiRBsACAdICJDA4MWM3ODVkLWU3YjYtNGUwNC1hOGMzLWJiMzJhYjZlODBhNdgCBOACAQ&sid=e12b90519bab632c3ffdcb360924a5c1&aid=304142&ucfs=1&arphpl=1&dest_id=97&dest_type=country&group_adults=2&req_adults=2&no_rooms=1&group_children=0&req_children=0&hpos=12&hapos=87&sr_order=popularity&srpvid=e74992fcebb600ae&srepoch=1646686470&from_sustainable_property_sr=1&from=searchresults#hotelTmpl': 1335,\n",
       " 'https://www.booking.com/hotel/is/raudaberg-ii.zh-tw.html?label=gen173bo-1DCAEoggI46AdIMFgDaOcBiAEBmAEwuAEXyAEM2AED6AEB-AEDiAIBmAICqAIDuALMrZiRBsACAdICJDA4MWM3ODVkLWU3YjYtNGUwNC1hOGMzLWJiMzJhYjZlODBhNdgCBOACAQ&sid=e12b90519bab632c3ffdcb360924a5c1&aid=304142&ucfs=1&arphpl=1&dest_id=97&dest_type=country&group_adults=2&req_adults=2&no_rooms=1&group_children=0&req_children=0&hpos=13&hapos=88&sr_order=popularity&srpvid=e74992fcebb600ae&srepoch=1646686470&from=searchresults#hotelTmpl': 693,\n",
       " 'https://www.booking.com/hotel/is/solheimahjaleiga-guesthouse.zh-tw.html?label=gen173bo-1DCAEoggI46AdIMFgDaOcBiAEBmAEwuAEXyAEM2AED6AEB-AEDiAIBmAICqAIDuALMrZiRBsACAdICJDA4MWM3ODVkLWU3YjYtNGUwNC1hOGMzLWJiMzJhYjZlODBhNdgCBOACAQ&sid=e12b90519bab632c3ffdcb360924a5c1&aid=304142&ucfs=1&arphpl=1&dest_id=97&dest_type=country&group_adults=2&req_adults=2&no_rooms=1&group_children=0&req_children=0&hpos=14&hapos=89&sr_order=popularity&srpvid=e74992fcebb600ae&srepoch=1646686470&from=searchresults#hotelTmpl': 1170,\n",
       " 'https://www.booking.com/hotel/is/bru.zh-tw.html?label=gen173bo-1DCAEoggI46AdIMFgDaOcBiAEBmAEwuAEXyAEM2AED6AEB-AEDiAIBmAICqAIDuALMrZiRBsACAdICJDA4MWM3ODVkLWU3YjYtNGUwNC1hOGMzLWJiMzJhYjZlODBhNdgCBOACAQ&sid=e12b90519bab632c3ffdcb360924a5c1&aid=304142&ucfs=1&arphpl=1&dest_id=97&dest_type=country&group_adults=2&req_adults=2&no_rooms=1&group_children=0&req_children=0&hpos=15&hapos=90&sr_order=popularity&srpvid=e74992fcebb600ae&srepoch=1646686470&from=searchresults#hotelTmpl': 1691,\n",
       " 'https://www.booking.com/hotel/is/guesthouse-77.zh-tw.html?label=gen173bo-1DCAEoggI46AdIMFgDaOcBiAEBmAEwuAEXyAEM2AED6AEB-AEDiAIBmAICqAIDuALMrZiRBsACAdICJDA4MWM3ODVkLWU3YjYtNGUwNC1hOGMzLWJiMzJhYjZlODBhNdgCBOACAQ&sid=e12b90519bab632c3ffdcb360924a5c1&aid=304142&ucfs=1&arphpl=1&dest_id=97&dest_type=country&group_adults=2&req_adults=2&no_rooms=1&group_children=0&req_children=0&hpos=16&hapos=91&sr_order=popularity&srpvid=e74992fcebb600ae&srepoch=1646686470&from=searchresults#hotelTmpl': 114,\n",
       " 'https://www.booking.com/hotel/is/the-viking-country-club.zh-tw.html?label=gen173bo-1DCAEoggI46AdIMFgDaOcBiAEBmAEwuAEXyAEM2AED6AEB-AEDiAIBmAICqAIDuALMrZiRBsACAdICJDA4MWM3ODVkLWU3YjYtNGUwNC1hOGMzLWJiMzJhYjZlODBhNdgCBOACAQ&sid=e12b90519bab632c3ffdcb360924a5c1&aid=304142&ucfs=1&arphpl=1&dest_id=97&dest_type=country&group_adults=2&req_adults=2&no_rooms=1&group_children=0&req_children=0&hpos=17&hapos=92&sr_order=popularity&srpvid=e74992fcebb600ae&srepoch=1646686470&from_sustainable_property_sr=1&from=searchresults#hotelTmpl': 415,\n",
       " 'https://www.booking.com/hotel/is/the-volcano-huts-thorsmork.zh-tw.html?label=gen173bo-1DCAEoggI46AdIMFgDaOcBiAEBmAEwuAEXyAEM2AED6AEB-AEDiAIBmAICqAIDuALMrZiRBsACAdICJDA4MWM3ODVkLWU3YjYtNGUwNC1hOGMzLWJiMzJhYjZlODBhNdgCBOACAQ&sid=e12b90519bab632c3ffdcb360924a5c1&aid=304142&ucfs=1&arphpl=1&dest_id=97&dest_type=country&group_adults=2&req_adults=2&no_rooms=1&group_children=0&req_children=0&hpos=18&hapos=93&sr_order=popularity&srpvid=e74992fcebb600ae&srepoch=1646686470&from_sustainable_property_sr=1&from=searchresults#hotelTmpl': 217,\n",
       " 'https://www.booking.com/hotel/is/tangahus-guesthouse.zh-tw.html?label=gen173bo-1DCAEoggI46AdIMFgDaOcBiAEBmAEwuAEXyAEM2AED6AEB-AEDiAIBmAICqAIDuALMrZiRBsACAdICJDA4MWM3ODVkLWU3YjYtNGUwNC1hOGMzLWJiMzJhYjZlODBhNdgCBOACAQ&sid=e12b90519bab632c3ffdcb360924a5c1&aid=304142&ucfs=1&arphpl=1&dest_id=97&dest_type=country&group_adults=2&req_adults=2&no_rooms=1&group_children=0&req_children=0&hpos=19&hapos=94&sr_order=popularity&srpvid=e74992fcebb600ae&srepoch=1646686470&from=searchresults#hotelTmpl': 330,\n",
       " 'https://www.booking.com/hotel/is/south-coast.zh-tw.html?label=gen173bo-1DCAEoggI46AdIMFgDaOcBiAEBmAEwuAEXyAEM2AED6AEB-AEDiAIBmAICqAIDuALMrZiRBsACAdICJDA4MWM3ODVkLWU3YjYtNGUwNC1hOGMzLWJiMzJhYjZlODBhNdgCBOACAQ&sid=e12b90519bab632c3ffdcb360924a5c1&aid=304142&ucfs=1&arphpl=1&dest_id=97&dest_type=country&group_adults=2&req_adults=2&no_rooms=1&group_children=0&req_children=0&hpos=20&hapos=95&sr_order=popularity&srpvid=e74992fcebb600ae&srepoch=1646686470&from_sustainable_property_sr=1&from=searchresults#hotelTmpl': 1641,\n",
       " 'https://www.booking.com/hotel/is/hafnarstraeti-hostel.zh-tw.html?label=gen173bo-1DCAEoggI46AdIMFgDaOcBiAEBmAEwuAEXyAEM2AED6AEB-AEDiAIBmAICqAIDuALMrZiRBsACAdICJDA4MWM3ODVkLWU3YjYtNGUwNC1hOGMzLWJiMzJhYjZlODBhNdgCBOACAQ&sid=e12b90519bab632c3ffdcb360924a5c1&aid=304142&ucfs=1&arphpl=1&dest_id=97&dest_type=country&group_adults=2&req_adults=2&no_rooms=1&group_children=0&req_children=0&hpos=21&hapos=96&sr_order=popularity&srpvid=e74992fcebb600ae&srepoch=1646686470&from_sustainable_property_sr=1&from=searchresults#hotelTmpl': 983,\n",
       " 'https://www.booking.com/hotel/is/hjalteyri.zh-tw.html?label=gen173bo-1DCAEoggI46AdIMFgDaOcBiAEBmAEwuAEXyAEM2AED6AEB-AEDiAIBmAICqAIDuALMrZiRBsACAdICJDA4MWM3ODVkLWU3YjYtNGUwNC1hOGMzLWJiMzJhYjZlODBhNdgCBOACAQ&sid=e12b90519bab632c3ffdcb360924a5c1&aid=304142&ucfs=1&arphpl=1&dest_id=97&dest_type=country&group_adults=2&req_adults=2&no_rooms=1&group_children=0&req_children=0&hpos=22&hapos=97&sr_order=popularity&srpvid=e74992fcebb600ae&srepoch=1646686470&from=searchresults#hotelTmpl': 442,\n",
       " 'https://www.booking.com/hotel/is/dyrholaey.zh-tw.html?label=gen173bo-1DCAEoggI46AdIMFgDaOcBiAEBmAEwuAEXyAEM2AED6AEB-AEDiAIBmAICqAIDuALMrZiRBsACAdICJDA4MWM3ODVkLWU3YjYtNGUwNC1hOGMzLWJiMzJhYjZlODBhNdgCBOACAQ&sid=e12b90519bab632c3ffdcb360924a5c1&aid=304142&ucfs=1&arphpl=1&dest_id=97&dest_type=country&group_adults=2&req_adults=2&no_rooms=1&group_children=0&req_children=0&hpos=23&hapos=98&sr_order=popularity&srpvid=e74992fcebb600ae&srepoch=1646686470&from_sustainable_property_sr=1&from=searchresults#hotelTmpl': 1584,\n",
       " 'https://www.booking.com/hotel/is/guesthouse-pavi.zh-tw.html?label=gen173bo-1DCAEoggI46AdIMFgDaOcBiAEBmAEwuAEXyAEM2AED6AEB-AEDiAIBmAICqAIDuALMrZiRBsACAdICJDA4MWM3ODVkLWU3YjYtNGUwNC1hOGMzLWJiMzJhYjZlODBhNdgCBOACAQ&sid=e12b90519bab632c3ffdcb360924a5c1&aid=304142&ucfs=1&arphpl=1&dest_id=97&dest_type=country&group_adults=2&req_adults=2&no_rooms=1&group_children=0&req_children=0&hpos=24&hapos=99&sr_order=popularity&srpvid=e74992fcebb600ae&srepoch=1646686470&from_sustainable_property_sr=1&from=searchresults#hotelTmpl': 2005,\n",
       " 'https://www.booking.com/hotel/is/sudavik-guesthouse.zh-tw.html?label=gen173bo-1DCAEoggI46AdIMFgDaOcBiAEBmAEwuAEXyAEM2AED6AEB-AEDiAIBmAICqAIDuALMrZiRBsACAdICJDA4MWM3ODVkLWU3YjYtNGUwNC1hOGMzLWJiMzJhYjZlODBhNdgCBOACAQ&sid=e12b90519bab632c3ffdcb360924a5c1&aid=304142&ucfs=1&arphpl=1&dest_id=97&dest_type=country&group_adults=2&req_adults=2&no_rooms=1&group_children=0&req_children=0&hpos=25&hapos=100&sr_order=popularity&srpvid=e74992fcebb600ae&srepoch=1646686470&from_sustainable_property_sr=1&from=searchresults#hotelTmpl': 258,\n",
       " 'https://www.booking.com/hotel/is/centrum-hostel.zh-tw.html?label=gen173bo-1DCAEoggI46AdIMFgDaOcBiAEBmAEwuAEXyAEM2AED6AEB-AEDiAIBmAICqAIDuALMrZiRBsACAdICJDA4MWM3ODVkLWU3YjYtNGUwNC1hOGMzLWJiMzJhYjZlODBhNdgCBOACAQ&sid=e12b90519bab632c3ffdcb360924a5c1&aid=304142&ucfs=1&arphpl=1&dest_id=97&dest_type=country&group_adults=2&req_adults=2&no_rooms=1&group_children=0&req_children=0&hpos=1&hapos=101&sr_order=popularity&srpvid=e74992fcebb600ae&srepoch=1646686474&from=searchresults#hotelTmpl': 1392,\n",
       " 'https://www.booking.com/hotel/is/guesthouse-heba.zh-tw.html?label=gen173bo-1DCAEoggI46AdIMFgDaOcBiAEBmAEwuAEXyAEM2AED6AEB-AEDiAIBmAICqAIDuALMrZiRBsACAdICJDA4MWM3ODVkLWU3YjYtNGUwNC1hOGMzLWJiMzJhYjZlODBhNdgCBOACAQ&sid=e12b90519bab632c3ffdcb360924a5c1&aid=304142&ucfs=1&arphpl=1&dest_id=97&dest_type=country&group_adults=2&req_adults=2&no_rooms=1&group_children=0&req_children=0&hpos=2&hapos=102&sr_order=popularity&srpvid=e74992fcebb600ae&srepoch=1646686474&from_sustainable_property_sr=1&from=searchresults#hotelTmpl': 92,\n",
       " 'https://www.booking.com/hotel/is/guesthouse-skalafell.zh-tw.html?label=gen173bo-1DCAEoggI46AdIMFgDaOcBiAEBmAEwuAEXyAEM2AED6AEB-AEDiAIBmAICqAIDuALMrZiRBsACAdICJDA4MWM3ODVkLWU3YjYtNGUwNC1hOGMzLWJiMzJhYjZlODBhNdgCBOACAQ&sid=e12b90519bab632c3ffdcb360924a5c1&aid=304142&ucfs=1&arphpl=1&dest_id=97&dest_type=country&group_adults=2&req_adults=2&no_rooms=1&group_children=0&req_children=0&hpos=3&hapos=103&sr_order=popularity&srpvid=e74992fcebb600ae&srepoch=1646686474&from=searchresults#hotelTmpl': 669,\n",
       " 'https://www.booking.com/hotel/is/hotel-eldhestar.zh-tw.html?label=gen173bo-1DCAEoggI46AdIMFgDaOcBiAEBmAEwuAEXyAEM2AED6AEB-AEDiAIBmAICqAIDuALMrZiRBsACAdICJDA4MWM3ODVkLWU3YjYtNGUwNC1hOGMzLWJiMzJhYjZlODBhNdgCBOACAQ&sid=e12b90519bab632c3ffdcb360924a5c1&aid=304142&ucfs=1&arphpl=1&dest_id=97&dest_type=country&group_adults=2&req_adults=2&no_rooms=1&group_children=0&req_children=0&hpos=4&hapos=104&sr_order=popularity&srpvid=e74992fcebb600ae&srepoch=1646686474&from_sustainable_property_sr=1&from=searchresults#hotelTmpl': 733,\n",
       " 'https://www.booking.com/hotel/is/sireksstadir-farm-holiday-iceland-vopnafjordur.zh-tw.html?label=gen173bo-1DCAEoggI46AdIMFgDaOcBiAEBmAEwuAEXyAEM2AED6AEB-AEDiAIBmAICqAIDuALMrZiRBsACAdICJDA4MWM3ODVkLWU3YjYtNGUwNC1hOGMzLWJiMzJhYjZlODBhNdgCBOACAQ&sid=e12b90519bab632c3ffdcb360924a5c1&aid=304142&ucfs=1&arphpl=1&dest_id=97&dest_type=country&group_adults=2&req_adults=2&no_rooms=1&group_children=0&req_children=0&hpos=5&hapos=105&sr_order=popularity&srpvid=e74992fcebb600ae&srepoch=1646686474&from=searchresults#hotelTmpl': 174,\n",
       " 'https://www.booking.com/hotel/is/gistiheimilid-nypugordum.zh-tw.html?label=gen173bo-1DCAEoggI46AdIMFgDaOcBiAEBmAEwuAEXyAEM2AED6AEB-AEDiAIBmAICqAIDuALMrZiRBsACAdICJDA4MWM3ODVkLWU3YjYtNGUwNC1hOGMzLWJiMzJhYjZlODBhNdgCBOACAQ&sid=e12b90519bab632c3ffdcb360924a5c1&aid=304142&ucfs=1&arphpl=1&dest_id=97&dest_type=country&group_adults=2&req_adults=2&no_rooms=1&group_children=0&req_children=0&hpos=6&hapos=106&sr_order=popularity&srpvid=e74992fcebb600ae&srepoch=1646686474&from=searchresults#hotelTmpl': 1756,\n",
       " 'https://www.booking.com/hotel/is/herad.zh-tw.html?label=gen173bo-1DCAEoggI46AdIMFgDaOcBiAEBmAEwuAEXyAEM2AED6AEB-AEDiAIBmAICqAIDuALMrZiRBsACAdICJDA4MWM3ODVkLWU3YjYtNGUwNC1hOGMzLWJiMzJhYjZlODBhNdgCBOACAQ&sid=e12b90519bab632c3ffdcb360924a5c1&aid=304142&ucfs=1&arphpl=1&dest_id=97&dest_type=country&group_adults=2&req_adults=2&no_rooms=1&group_children=0&req_children=0&hpos=7&hapos=107&sr_order=popularity&srpvid=e74992fcebb600ae&srepoch=1646686474&from_sustainable_property_sr=1&from=searchresults#hotelTmpl': 1124,\n",
       " 'https://www.booking.com/hotel/is/eystri-ranga-lodge.zh-tw.html?label=gen173bo-1DCAEoggI46AdIMFgDaOcBiAEBmAEwuAEXyAEM2AED6AEB-AEDiAIBmAICqAIDuALMrZiRBsACAdICJDA4MWM3ODVkLWU3YjYtNGUwNC1hOGMzLWJiMzJhYjZlODBhNdgCBOACAQ&sid=e12b90519bab632c3ffdcb360924a5c1&aid=304142&ucfs=1&arphpl=1&dest_id=97&dest_type=country&group_adults=2&req_adults=2&no_rooms=1&group_children=0&req_children=0&hpos=8&hapos=108&sr_order=popularity&srpvid=e74992fcebb600ae&srepoch=1646686474&from=searchresults#hotelTmpl': 385,\n",
       " 'https://www.booking.com/hotel/is/centerhotel-midgardur.zh-tw.html?label=gen173bo-1DCAEoggI46AdIMFgDaOcBiAEBmAEwuAEXyAEM2AED6AEB-AEDiAIBmAICqAIDuALMrZiRBsACAdICJDA4MWM3ODVkLWU3YjYtNGUwNC1hOGMzLWJiMzJhYjZlODBhNdgCBOACAQ&sid=e12b90519bab632c3ffdcb360924a5c1&aid=304142&ucfs=1&arphpl=1&dest_id=97&dest_type=country&group_adults=2&req_adults=2&no_rooms=1&group_children=0&req_children=0&hpos=9&hapos=109&sr_order=popularity&srpvid=e74992fcebb600ae&srepoch=1646686474&from=searchresults#hotelTmpl': 2595,\n",
       " 'https://www.booking.com/hotel/is/eyvindarholt-guesthouse.zh-tw.html?label=gen173bo-1DCAEoggI46AdIMFgDaOcBiAEBmAEwuAEXyAEM2AED6AEB-AEDiAIBmAICqAIDuALMrZiRBsACAdICJDA4MWM3ODVkLWU3YjYtNGUwNC1hOGMzLWJiMzJhYjZlODBhNdgCBOACAQ&sid=e12b90519bab632c3ffdcb360924a5c1&aid=304142&ucfs=1&arphpl=1&dest_id=97&dest_type=country&group_adults=2&req_adults=2&no_rooms=1&group_children=0&req_children=0&hpos=10&hapos=110&sr_order=popularity&srpvid=e74992fcebb600ae&srepoch=1646686474&from_sustainable_property_sr=1&from=searchresults#hotelTmpl': 95,\n",
       " 'https://www.booking.com/hotel/is/eyja-guldsmeden.zh-tw.html?label=gen173bo-1DCAEoggI46AdIMFgDaOcBiAEBmAEwuAEXyAEM2AED6AEB-AEDiAIBmAICqAIDuALMrZiRBsACAdICJDA4MWM3ODVkLWU3YjYtNGUwNC1hOGMzLWJiMzJhYjZlODBhNdgCBOACAQ&sid=e12b90519bab632c3ffdcb360924a5c1&aid=304142&ucfs=1&arphpl=1&dest_id=97&dest_type=country&group_adults=2&req_adults=2&no_rooms=1&group_children=0&req_children=0&hpos=11&hapos=111&sr_order=popularity&srpvid=e74992fcebb600ae&srepoch=1646686474&from_sustainable_property_sr=1&from=searchresults#hotelTmpl': 1409,\n",
       " 'https://www.booking.com/hotel/is/lambastadir-guesthouse.zh-tw.html?label=gen173bo-1DCAEoggI46AdIMFgDaOcBiAEBmAEwuAEXyAEM2AED6AEB-AEDiAIBmAICqAIDuALMrZiRBsACAdICJDA4MWM3ODVkLWU3YjYtNGUwNC1hOGMzLWJiMzJhYjZlODBhNdgCBOACAQ&sid=e12b90519bab632c3ffdcb360924a5c1&aid=304142&ucfs=1&arphpl=1&dest_id=97&dest_type=country&group_adults=2&req_adults=2&no_rooms=1&group_children=0&req_children=0&hpos=12&hapos=112&sr_order=popularity&srpvid=e74992fcebb600ae&srepoch=1646686474&from_sustainable_property_sr=1&from=searchresults#hotelTmpl': 750,\n",
       " 'https://www.booking.com/hotel/is/fron.zh-tw.html?label=gen173bo-1DCAEoggI46AdIMFgDaOcBiAEBmAEwuAEXyAEM2AED6AEB-AEDiAIBmAICqAIDuALMrZiRBsACAdICJDA4MWM3ODVkLWU3YjYtNGUwNC1hOGMzLWJiMzJhYjZlODBhNdgCBOACAQ&sid=e12b90519bab632c3ffdcb360924a5c1&aid=304142&ucfs=1&arphpl=1&dest_id=97&dest_type=country&group_adults=2&req_adults=2&no_rooms=1&group_children=0&req_children=0&hpos=13&hapos=113&sr_order=popularity&srpvid=e74992fcebb600ae&srepoch=1646686474&from_sustainable_property_sr=1&from=searchresults#hotelTmpl': 1984,\n",
       " 'https://www.booking.com/hotel/is/englendingavik-homestay.zh-tw.html?label=gen173bo-1DCAEoggI46AdIMFgDaOcBiAEBmAEwuAEXyAEM2AED6AEB-AEDiAIBmAICqAIDuALMrZiRBsACAdICJDA4MWM3ODVkLWU3YjYtNGUwNC1hOGMzLWJiMzJhYjZlODBhNdgCBOACAQ&sid=e12b90519bab632c3ffdcb360924a5c1&aid=304142&ucfs=1&arphpl=1&dest_id=97&dest_type=country&group_adults=2&req_adults=2&no_rooms=1&group_children=0&req_children=0&hpos=14&hapos=114&sr_order=popularity&srpvid=e74992fcebb600ae&srepoch=1646686474&from=searchresults#hotelTmpl': 394,\n",
       " 'https://www.booking.com/hotel/is/borgarnes-hostel.zh-tw.html?label=gen173bo-1DCAEoggI46AdIMFgDaOcBiAEBmAEwuAEXyAEM2AED6AEB-AEDiAIBmAICqAIDuALMrZiRBsACAdICJDA4MWM3ODVkLWU3YjYtNGUwNC1hOGMzLWJiMzJhYjZlODBhNdgCBOACAQ&sid=e12b90519bab632c3ffdcb360924a5c1&aid=304142&ucfs=1&arphpl=1&dest_id=97&dest_type=country&group_adults=2&req_adults=2&no_rooms=1&group_children=0&req_children=0&hpos=15&hapos=115&sr_order=popularity&srpvid=e74992fcebb600ae&srepoch=1646686474&from_sustainable_property_sr=1&from=searchresults#hotelTmpl': 992,\n",
       " 'https://www.booking.com/hotel/is/midgard.zh-tw.html?label=gen173bo-1DCAEoggI46AdIMFgDaOcBiAEBmAEwuAEXyAEM2AED6AEB-AEDiAIBmAICqAIDuALMrZiRBsACAdICJDA4MWM3ODVkLWU3YjYtNGUwNC1hOGMzLWJiMzJhYjZlODBhNdgCBOACAQ&sid=e12b90519bab632c3ffdcb360924a5c1&aid=304142&ucfs=1&arphpl=1&dest_id=97&dest_type=country&group_adults=2&req_adults=2&no_rooms=1&group_children=0&req_children=0&hpos=16&hapos=116&sr_order=popularity&srpvid=e74992fcebb600ae&srepoch=1646686474&from_sustainable_property_sr=1&from=searchresults#hotelTmpl': 533,\n",
       " 'https://www.booking.com/hotel/is/guesthouse-milli-vina.zh-tw.html?label=gen173bo-1DCAEoggI46AdIMFgDaOcBiAEBmAEwuAEXyAEM2AED6AEB-AEDiAIBmAICqAIDuALMrZiRBsACAdICJDA4MWM3ODVkLWU3YjYtNGUwNC1hOGMzLWJiMzJhYjZlODBhNdgCBOACAQ&sid=e12b90519bab632c3ffdcb360924a5c1&aid=304142&ucfs=1&arphpl=1&dest_id=97&dest_type=country&group_adults=2&req_adults=2&no_rooms=1&group_children=0&req_children=0&hpos=17&hapos=117&sr_order=popularity&srpvid=e74992fcebb600ae&srepoch=1646686474&from=searchresults#hotelTmpl': 97,\n",
       " 'https://www.booking.com/hotel/is/centerhotel-arnarhvoll.zh-tw.html?label=gen173bo-1DCAEoggI46AdIMFgDaOcBiAEBmAEwuAEXyAEM2AED6AEB-AEDiAIBmAICqAIDuALMrZiRBsACAdICJDA4MWM3ODVkLWU3YjYtNGUwNC1hOGMzLWJiMzJhYjZlODBhNdgCBOACAQ&sid=e12b90519bab632c3ffdcb360924a5c1&aid=304142&ucfs=1&arphpl=1&dest_id=97&dest_type=country&group_adults=2&req_adults=2&no_rooms=1&group_children=0&req_children=0&hpos=18&hapos=118&sr_order=popularity&srpvid=e74992fcebb600ae&srepoch=1646686474&from=searchresults#hotelTmpl': 1542,\n",
       " 'https://www.booking.com/hotel/is/akureyri-backpackers.zh-tw.html?label=gen173bo-1DCAEoggI46AdIMFgDaOcBiAEBmAEwuAEXyAEM2AED6AEB-AEDiAIBmAICqAIDuALMrZiRBsACAdICJDA4MWM3ODVkLWU3YjYtNGUwNC1hOGMzLWJiMzJhYjZlODBhNdgCBOACAQ&sid=e12b90519bab632c3ffdcb360924a5c1&aid=304142&ucfs=1&arphpl=1&dest_id=97&dest_type=country&group_adults=2&req_adults=2&no_rooms=1&group_children=0&req_children=0&hpos=19&hapos=119&sr_order=popularity&srpvid=e74992fcebb600ae&srepoch=1646686474&from_sustainable_property_sr=1&from=searchresults#hotelTmpl': 489,\n",
       " 'https://www.booking.com/hotel/is/b59.zh-tw.html?label=gen173bo-1DCAEoggI46AdIMFgDaOcBiAEBmAEwuAEXyAEM2AED6AEB-AEDiAIBmAICqAIDuALMrZiRBsACAdICJDA4MWM3ODVkLWU3YjYtNGUwNC1hOGMzLWJiMzJhYjZlODBhNdgCBOACAQ&sid=e12b90519bab632c3ffdcb360924a5c1&aid=304142&ucfs=1&arphpl=1&dest_id=97&dest_type=country&group_adults=2&req_adults=2&no_rooms=1&group_children=0&req_children=0&hpos=20&hapos=120&sr_order=popularity&srpvid=e74992fcebb600ae&srepoch=1646686474&from=searchresults#hotelTmpl': 1029,\n",
       " 'https://www.booking.com/hotel/is/nicehostel-seljaland.zh-tw.html?label=gen173bo-1DCAEoggI46AdIMFgDaOcBiAEBmAEwuAEXyAEM2AED6AEB-AEDiAIBmAICqAIDuALMrZiRBsACAdICJDA4MWM3ODVkLWU3YjYtNGUwNC1hOGMzLWJiMzJhYjZlODBhNdgCBOACAQ&sid=e12b90519bab632c3ffdcb360924a5c1&aid=304142&ucfs=1&arphpl=1&dest_id=97&dest_type=country&group_adults=2&req_adults=2&no_rooms=1&group_children=0&req_children=0&hpos=21&hapos=121&sr_order=popularity&srpvid=e74992fcebb600ae&srepoch=1646686474&from_sustainable_property_sr=1&from=searchresults#hotelTmpl': 706,\n",
       " 'https://www.booking.com/hotel/is/galaxy-pod-hostel.zh-tw.html?label=gen173bo-1DCAEoggI46AdIMFgDaOcBiAEBmAEwuAEXyAEM2AED6AEB-AEDiAIBmAICqAIDuALMrZiRBsACAdICJDA4MWM3ODVkLWU3YjYtNGUwNC1hOGMzLWJiMzJhYjZlODBhNdgCBOACAQ&sid=e12b90519bab632c3ffdcb360924a5c1&aid=304142&ucfs=1&arphpl=1&dest_id=97&dest_type=country&group_adults=2&req_adults=2&no_rooms=1&group_children=0&req_children=0&hpos=22&hapos=122&sr_order=popularity&srpvid=e74992fcebb600ae&srepoch=1646686474&from_sustainable_property_sr=1&from=searchresults#hotelTmpl': 1571,\n",
       " 'https://www.booking.com/hotel/is/skjaldbreid.zh-tw.html?label=gen173bo-1DCAEoggI46AdIMFgDaOcBiAEBmAEwuAEXyAEM2AED6AEB-AEDiAIBmAICqAIDuALMrZiRBsACAdICJDA4MWM3ODVkLWU3YjYtNGUwNC1hOGMzLWJiMzJhYjZlODBhNdgCBOACAQ&sid=e12b90519bab632c3ffdcb360924a5c1&aid=304142&ucfs=1&arphpl=1&dest_id=97&dest_type=country&group_adults=2&req_adults=2&no_rooms=1&group_children=0&req_children=0&hpos=23&hapos=123&sr_order=popularity&srpvid=e74992fcebb600ae&srepoch=1646686474&from=searchresults#hotelTmpl': 719,\n",
       " 'https://www.booking.com/hotel/is/langavatn-and-klambrasel-farm-holiday.zh-tw.html?label=gen173bo-1DCAEoggI46AdIMFgDaOcBiAEBmAEwuAEXyAEM2AED6AEB-AEDiAIBmAICqAIDuALMrZiRBsACAdICJDA4MWM3ODVkLWU3YjYtNGUwNC1hOGMzLWJiMzJhYjZlODBhNdgCBOACAQ&sid=e12b90519bab632c3ffdcb360924a5c1&aid=304142&ucfs=1&arphpl=1&dest_id=97&dest_type=country&group_adults=2&req_adults=2&no_rooms=1&group_children=0&req_children=0&hpos=24&hapos=124&sr_order=popularity&srpvid=e74992fcebb600ae&srepoch=1646686474&from=searchresults#hotelTmpl': 139,\n",
       " 'https://www.booking.com/hotel/is/hamar.zh-tw.html?label=gen173bo-1DCAEoggI46AdIMFgDaOcBiAEBmAEwuAEXyAEM2AED6AEB-AEDiAIBmAICqAIDuALMrZiRBsACAdICJDA4MWM3ODVkLWU3YjYtNGUwNC1hOGMzLWJiMzJhYjZlODBhNdgCBOACAQ&sid=e12b90519bab632c3ffdcb360924a5c1&aid=304142&ucfs=1&arphpl=1&dest_id=97&dest_type=country&group_adults=2&req_adults=2&no_rooms=1&group_children=0&req_children=0&hpos=25&hapos=125&sr_order=popularity&srpvid=e74992fcebb600ae&srepoch=1646686474&from_sustainable_property_sr=1&from=searchresults#hotelTmpl': 765,\n",
       " 'https://www.booking.com/hotel/is/hoffell-guesthouse-glacierworld.zh-tw.html?label=gen173bo-1DCAEoggI46AdIMFgDaOcBiAEBmAEwuAEXyAEM2AED6AEB-AEDiAIBmAICqAIDuALMrZiRBsACAdICJDA4MWM3ODVkLWU3YjYtNGUwNC1hOGMzLWJiMzJhYjZlODBhNdgCBOACAQ&sid=e12b90519bab632c3ffdcb360924a5c1&aid=304142&ucfs=1&arphpl=1&dest_id=97&dest_type=country&group_adults=2&req_adults=2&no_rooms=1&group_children=0&req_children=0&hpos=1&hapos=126&sr_order=popularity&srpvid=e74992fcebb600ae&srepoch=1646686477&from=searchresults#hotelTmpl': 392,\n",
       " 'https://www.booking.com/hotel/is/a1-guesthouse.zh-tw.html?label=gen173bo-1DCAEoggI46AdIMFgDaOcBiAEBmAEwuAEXyAEM2AED6AEB-AEDiAIBmAICqAIDuALMrZiRBsACAdICJDA4MWM3ODVkLWU3YjYtNGUwNC1hOGMzLWJiMzJhYjZlODBhNdgCBOACAQ&sid=e12b90519bab632c3ffdcb360924a5c1&aid=304142&ucfs=1&arphpl=1&dest_id=97&dest_type=country&group_adults=2&req_adults=2&no_rooms=1&group_children=0&req_children=0&hpos=2&hapos=127&sr_order=popularity&srpvid=e74992fcebb600ae&srepoch=1646686477&from_sustainable_property_sr=1&from=searchresults#hotelTmpl': 875,\n",
       " 'https://www.booking.com/hotel/is/city-center-reykjavik.zh-tw.html?label=gen173bo-1DCAEoggI46AdIMFgDaOcBiAEBmAEwuAEXyAEM2AED6AEB-AEDiAIBmAICqAIDuALMrZiRBsACAdICJDA4MWM3ODVkLWU3YjYtNGUwNC1hOGMzLWJiMzJhYjZlODBhNdgCBOACAQ&sid=e12b90519bab632c3ffdcb360924a5c1&aid=304142&ucfs=1&arphpl=1&dest_id=97&dest_type=country&group_adults=2&req_adults=2&no_rooms=1&group_children=0&req_children=0&hpos=3&hapos=128&sr_order=popularity&srpvid=e74992fcebb600ae&srepoch=1646686477&from_sustainable_property_sr=1&from=searchresults#hotelTmpl': 328,\n",
       " 'https://www.booking.com/hotel/is/glaesibaer.zh-tw.html?label=gen173bo-1DCAEoggI46AdIMFgDaOcBiAEBmAEwuAEXyAEM2AED6AEB-AEDiAIBmAICqAIDuALMrZiRBsACAdICJDA4MWM3ODVkLWU3YjYtNGUwNC1hOGMzLWJiMzJhYjZlODBhNdgCBOACAQ&sid=e12b90519bab632c3ffdcb360924a5c1&aid=304142&ucfs=1&arphpl=1&dest_id=97&dest_type=country&group_adults=2&req_adults=2&no_rooms=1&group_children=0&req_children=0&hpos=4&hapos=129&sr_order=popularity&srpvid=e74992fcebb600ae&srepoch=1646686477&from=searchresults#hotelTmpl': 86,\n",
       " 'https://www.booking.com/hotel/is/bella-guesthouse.zh-tw.html?label=gen173bo-1DCAEoggI46AdIMFgDaOcBiAEBmAEwuAEXyAEM2AED6AEB-AEDiAIBmAICqAIDuALMrZiRBsACAdICJDA4MWM3ODVkLWU3YjYtNGUwNC1hOGMzLWJiMzJhYjZlODBhNdgCBOACAQ&sid=e12b90519bab632c3ffdcb360924a5c1&aid=304142&ucfs=1&arphpl=1&dest_id=97&dest_type=country&group_adults=2&req_adults=2&no_rooms=1&group_children=0&req_children=0&hpos=5&hapos=130&sr_order=popularity&srpvid=e74992fcebb600ae&srepoch=1646686477&from_sustainable_property_sr=1&from=searchresults#hotelTmpl': 951,\n",
       " 'https://www.booking.com/hotel/is/stracta.zh-tw.html?label=gen173bo-1DCAEoggI46AdIMFgDaOcBiAEBmAEwuAEXyAEM2AED6AEB-AEDiAIBmAICqAIDuALMrZiRBsACAdICJDA4MWM3ODVkLWU3YjYtNGUwNC1hOGMzLWJiMzJhYjZlODBhNdgCBOACAQ&sid=e12b90519bab632c3ffdcb360924a5c1&aid=304142&ucfs=1&arphpl=1&dest_id=97&dest_type=country&group_adults=2&req_adults=2&no_rooms=1&group_children=0&req_children=0&hpos=6&hapos=131&sr_order=popularity&srpvid=e74992fcebb600ae&srepoch=1646686477&from_sustainable_property_sr=1&from=searchresults#hotelTmpl': 810,\n",
       " 'https://www.booking.com/hotel/is/icelandair-reykjavik-marina.zh-tw.html?label=gen173bo-1DCAEoggI46AdIMFgDaOcBiAEBmAEwuAEXyAEM2AED6AEB-AEDiAIBmAICqAIDuALMrZiRBsACAdICJDA4MWM3ODVkLWU3YjYtNGUwNC1hOGMzLWJiMzJhYjZlODBhNdgCBOACAQ&sid=e12b90519bab632c3ffdcb360924a5c1&aid=304142&ucfs=1&arphpl=1&dest_id=97&dest_type=country&group_adults=2&req_adults=2&no_rooms=1&group_children=0&req_children=0&hpos=7&hapos=132&sr_order=popularity&srpvid=e74992fcebb600ae&srepoch=1646686477&from_sustainable_property_sr=1&from=searchresults#hotelTmpl': 1171,\n",
       " 'https://www.booking.com/hotel/is/alda-reykjavik.zh-tw.html?label=gen173bo-1DCAEoggI46AdIMFgDaOcBiAEBmAEwuAEXyAEM2AED6AEB-AEDiAIBmAICqAIDuALMrZiRBsACAdICJDA4MWM3ODVkLWU3YjYtNGUwNC1hOGMzLWJiMzJhYjZlODBhNdgCBOACAQ&sid=e12b90519bab632c3ffdcb360924a5c1&aid=304142&ucfs=1&arphpl=1&dest_id=97&dest_type=country&group_adults=2&req_adults=2&no_rooms=1&group_children=0&req_children=0&hpos=8&hapos=133&sr_order=popularity&srpvid=e74992fcebb600ae&srepoch=1646686477&from_sustainable_property_sr=1&from=searchresults#hotelTmpl': 611,\n",
       " 'https://www.booking.com/hotel/is/akureyri.zh-tw.html?label=gen173bo-1DCAEoggI46AdIMFgDaOcBiAEBmAEwuAEXyAEM2AED6AEB-AEDiAIBmAICqAIDuALMrZiRBsACAdICJDA4MWM3ODVkLWU3YjYtNGUwNC1hOGMzLWJiMzJhYjZlODBhNdgCBOACAQ&sid=e12b90519bab632c3ffdcb360924a5c1&aid=304142&ucfs=1&arphpl=1&dest_id=97&dest_type=country&group_adults=2&req_adults=2&no_rooms=1&group_children=0&req_children=0&hpos=9&hapos=134&sr_order=popularity&srpvid=e74992fcebb600ae&srepoch=1646686477&from_sustainable_property_sr=1&from=searchresults#hotelTmpl': 877,\n",
       " 'https://www.booking.com/hotel/is/centerhotel-thingholt.zh-tw.html?label=gen173bo-1DCAEoggI46AdIMFgDaOcBiAEBmAEwuAEXyAEM2AED6AEB-AEDiAIBmAICqAIDuALMrZiRBsACAdICJDA4MWM3ODVkLWU3YjYtNGUwNC1hOGMzLWJiMzJhYjZlODBhNdgCBOACAQ&sid=e12b90519bab632c3ffdcb360924a5c1&aid=304142&ucfs=1&arphpl=1&dest_id=97&dest_type=country&group_adults=2&req_adults=2&no_rooms=1&group_children=0&req_children=0&hpos=10&hapos=135&sr_order=popularity&srpvid=e74992fcebb600ae&srepoch=1646686477&from=searchresults#hotelTmpl': 552,\n",
       " 'https://www.booking.com/hotel/is/eric-the-red-guesthouse.zh-tw.html?label=gen173bo-1DCAEoggI46AdIMFgDaOcBiAEBmAEwuAEXyAEM2AED6AEB-AEDiAIBmAICqAIDuALMrZiRBsACAdICJDA4MWM3ODVkLWU3YjYtNGUwNC1hOGMzLWJiMzJhYjZlODBhNdgCBOACAQ&sid=e12b90519bab632c3ffdcb360924a5c1&aid=304142&ucfs=1&arphpl=1&dest_id=97&dest_type=country&group_adults=2&req_adults=2&no_rooms=1&group_children=0&req_children=0&hpos=11&hapos=136&sr_order=popularity&srpvid=e74992fcebb600ae&srepoch=1646686477&from=searchresults#hotelTmpl': 1346,\n",
       " 'https://www.booking.com/hotel/is/igdlo-guesthouse.zh-tw.html?label=gen173bo-1DCAEoggI46AdIMFgDaOcBiAEBmAEwuAEXyAEM2AED6AEB-AEDiAIBmAICqAIDuALMrZiRBsACAdICJDA4MWM3ODVkLWU3YjYtNGUwNC1hOGMzLWJiMzJhYjZlODBhNdgCBOACAQ&sid=e12b90519bab632c3ffdcb360924a5c1&aid=304142&ucfs=1&arphpl=1&dest_id=97&dest_type=country&group_adults=2&req_adults=2&no_rooms=1&group_children=0&req_children=0&hpos=12&hapos=137&sr_order=popularity&srpvid=e74992fcebb600ae&srepoch=1646686477&from_sustainable_property_sr=1&from=searchresults#hotelTmpl': 1039,\n",
       " 'https://www.booking.com/hotel/is/guesthouse-hamar.zh-tw.html?label=gen173bo-1DCAEoggI46AdIMFgDaOcBiAEBmAEwuAEXyAEM2AED6AEB-AEDiAIBmAICqAIDuALMrZiRBsACAdICJDA4MWM3ODVkLWU3YjYtNGUwNC1hOGMzLWJiMzJhYjZlODBhNdgCBOACAQ&sid=e12b90519bab632c3ffdcb360924a5c1&aid=304142&ucfs=1&arphpl=1&dest_id=97&dest_type=country&group_adults=2&req_adults=2&no_rooms=1&group_children=0&req_children=0&hpos=13&hapos=138&sr_order=popularity&srpvid=e74992fcebb600ae&srepoch=1646686477&from=searchresults#hotelTmpl': 515,\n",
       " 'https://www.booking.com/hotel/is/gesthus-selfoss.zh-tw.html?label=gen173bo-1DCAEoggI46AdIMFgDaOcBiAEBmAEwuAEXyAEM2AED6AEB-AEDiAIBmAICqAIDuALMrZiRBsACAdICJDA4MWM3ODVkLWU3YjYtNGUwNC1hOGMzLWJiMzJhYjZlODBhNdgCBOACAQ&sid=e12b90519bab632c3ffdcb360924a5c1&aid=304142&ucfs=1&arphpl=1&dest_id=97&dest_type=country&group_adults=2&req_adults=2&no_rooms=1&group_children=0&req_children=0&hpos=14&hapos=139&sr_order=popularity&srpvid=e74992fcebb600ae&srepoch=1646686477&from_sustainable_property_sr=1&from=searchresults#hotelTmpl': 792,\n",
       " 'https://www.booking.com/hotel/is/sel-ha3tel-ma1-2vatn.zh-tw.html?label=gen173bo-1DCAEoggI46AdIMFgDaOcBiAEBmAEwuAEXyAEM2AED6AEB-AEDiAIBmAICqAIDuALMrZiRBsACAdICJDA4MWM3ODVkLWU3YjYtNGUwNC1hOGMzLWJiMzJhYjZlODBhNdgCBOACAQ&sid=e12b90519bab632c3ffdcb360924a5c1&aid=304142&ucfs=1&arphpl=1&dest_id=97&dest_type=country&group_adults=2&req_adults=2&no_rooms=1&group_children=0&req_children=0&hpos=15&hapos=140&sr_order=popularity&srpvid=e74992fcebb600ae&srepoch=1646686477&from=searchresults#hotelTmpl': 1075,\n",
       " 'https://www.booking.com/hotel/is/minniborgir-cottages.zh-tw.html?label=gen173bo-1DCAEoggI46AdIMFgDaOcBiAEBmAEwuAEXyAEM2AED6AEB-AEDiAIBmAICqAIDuALMrZiRBsACAdICJDA4MWM3ODVkLWU3YjYtNGUwNC1hOGMzLWJiMzJhYjZlODBhNdgCBOACAQ&sid=e12b90519bab632c3ffdcb360924a5c1&aid=304142&ucfs=1&arphpl=1&dest_id=97&dest_type=country&group_adults=2&req_adults=2&no_rooms=1&group_children=0&req_children=0&hpos=16&hapos=141&sr_order=popularity&srpvid=e74992fcebb600ae&srepoch=1646686477&from=searchresults#hotelTmpl': 605,\n",
       " 'https://www.booking.com/hotel/is/hotel-edda-hofn.zh-tw.html?label=gen173bo-1DCAEoggI46AdIMFgDaOcBiAEBmAEwuAEXyAEM2AED6AEB-AEDiAIBmAICqAIDuALMrZiRBsACAdICJDA4MWM3ODVkLWU3YjYtNGUwNC1hOGMzLWJiMzJhYjZlODBhNdgCBOACAQ&sid=e12b90519bab632c3ffdcb360924a5c1&aid=304142&ucfs=1&arphpl=1&dest_id=97&dest_type=country&group_adults=2&req_adults=2&no_rooms=1&group_children=0&req_children=0&hpos=17&hapos=142&sr_order=popularity&srpvid=e74992fcebb600ae&srepoch=1646686477&from_sustainable_property_sr=1&from=searchresults#hotelTmpl': 876,\n",
       " 'https://www.booking.com/hotel/is/gistihus-keflavikur-bed-and-breakfast-keflavik.zh-tw.html?label=gen173bo-1DCAEoggI46AdIMFgDaOcBiAEBmAEwuAEXyAEM2AED6AEB-AEDiAIBmAICqAIDuALMrZiRBsACAdICJDA4MWM3ODVkLWU3YjYtNGUwNC1hOGMzLWJiMzJhYjZlODBhNdgCBOACAQ&sid=e12b90519bab632c3ffdcb360924a5c1&aid=304142&ucfs=1&arphpl=1&dest_id=97&dest_type=country&group_adults=2&req_adults=2&no_rooms=1&group_children=0&req_children=0&hpos=18&hapos=143&sr_order=popularity&srpvid=e74992fcebb600ae&srepoch=1646686477&from_sustainable_property_sr=1&from=searchresults#hotelTmpl': 3913,\n",
       " 'https://www.booking.com/hotel/is/akureyri-dynheimar.zh-tw.html?label=gen173bo-1DCAEoggI46AdIMFgDaOcBiAEBmAEwuAEXyAEM2AED6AEB-AEDiAIBmAICqAIDuALMrZiRBsACAdICJDA4MWM3ODVkLWU3YjYtNGUwNC1hOGMzLWJiMzJhYjZlODBhNdgCBOACAQ&sid=e12b90519bab632c3ffdcb360924a5c1&aid=304142&ucfs=1&arphpl=1&dest_id=97&dest_type=country&group_adults=2&req_adults=2&no_rooms=1&group_children=0&req_children=0&hpos=19&hapos=144&sr_order=popularity&srpvid=e74992fcebb600ae&srepoch=1646686477&from=searchresults#hotelTmpl': 463,\n",
       " 'https://www.booking.com/hotel/is/von-guldsmeden.zh-tw.html?label=gen173bo-1DCAEoggI46AdIMFgDaOcBiAEBmAEwuAEXyAEM2AED6AEB-AEDiAIBmAICqAIDuALMrZiRBsACAdICJDA4MWM3ODVkLWU3YjYtNGUwNC1hOGMzLWJiMzJhYjZlODBhNdgCBOACAQ&sid=e12b90519bab632c3ffdcb360924a5c1&aid=304142&ucfs=1&arphpl=1&dest_id=97&dest_type=country&group_adults=2&req_adults=2&no_rooms=1&group_children=0&req_children=0&hpos=20&hapos=145&sr_order=popularity&srpvid=e74992fcebb600ae&srepoch=1646686477&from=searchresults#hotelTmpl': 487,\n",
       " 'https://www.booking.com/hotel/is/blomasetrid-guesthouse.zh-tw.html?label=gen173bo-1DCAEoggI46AdIMFgDaOcBiAEBmAEwuAEXyAEM2AED6AEB-AEDiAIBmAICqAIDuALMrZiRBsACAdICJDA4MWM3ODVkLWU3YjYtNGUwNC1hOGMzLWJiMzJhYjZlODBhNdgCBOACAQ&sid=e12b90519bab632c3ffdcb360924a5c1&aid=304142&ucfs=1&arphpl=1&dest_id=97&dest_type=country&group_adults=2&req_adults=2&no_rooms=1&group_children=0&req_children=0&hpos=21&hapos=146&sr_order=popularity&srpvid=e74992fcebb600ae&srepoch=1646686477&from=searchresults#hotelTmpl': 358,\n",
       " 'https://www.booking.com/hotel/is/tehusid-hostel.zh-tw.html?label=gen173bo-1DCAEoggI46AdIMFgDaOcBiAEBmAEwuAEXyAEM2AED6AEB-AEDiAIBmAICqAIDuALMrZiRBsACAdICJDA4MWM3ODVkLWU3YjYtNGUwNC1hOGMzLWJiMzJhYjZlODBhNdgCBOACAQ&sid=e12b90519bab632c3ffdcb360924a5c1&aid=304142&ucfs=1&arphpl=1&dest_id=97&dest_type=country&group_adults=2&req_adults=2&no_rooms=1&group_children=0&req_children=0&hpos=22&hapos=147&sr_order=popularity&srpvid=e74992fcebb600ae&srepoch=1646686477&from_sustainable_property_sr=1&from=searchresults#hotelTmpl': 596,\n",
       " 'https://www.booking.com/hotel/is/loftleidir.zh-tw.html?label=gen173bo-1DCAEoggI46AdIMFgDaOcBiAEBmAEwuAEXyAEM2AED6AEB-AEDiAIBmAICqAIDuALMrZiRBsACAdICJDA4MWM3ODVkLWU3YjYtNGUwNC1hOGMzLWJiMzJhYjZlODBhNdgCBOACAQ&sid=e12b90519bab632c3ffdcb360924a5c1&aid=304142&ucfs=1&arphpl=1&dest_id=97&dest_type=country&group_adults=2&req_adults=2&no_rooms=1&group_children=0&req_children=0&hpos=23&hapos=148&sr_order=popularity&srpvid=e74992fcebb600ae&srepoch=1646686477&from_sustainable_property_sr=1&from=searchresults#hotelTmpl': 1871,\n",
       " 'https://www.booking.com/hotel/is/guesthouse-sunna.zh-tw.html?label=gen173bo-1DCAEoggI46AdIMFgDaOcBiAEBmAEwuAEXyAEM2AED6AEB-AEDiAIBmAICqAIDuALMrZiRBsACAdICJDA4MWM3ODVkLWU3YjYtNGUwNC1hOGMzLWJiMzJhYjZlODBhNdgCBOACAQ&sid=e12b90519bab632c3ffdcb360924a5c1&aid=304142&ucfs=1&arphpl=1&dest_id=97&dest_type=country&group_adults=2&req_adults=2&no_rooms=1&group_children=0&req_children=0&hpos=24&hapos=149&sr_order=popularity&srpvid=e74992fcebb600ae&srepoch=1646686477&from_sustainable_property_sr=1&from=searchresults#hotelTmpl': 835,\n",
       " 'https://www.booking.com/hotel/is/100-iceland.zh-tw.html?label=gen173bo-1DCAEoggI46AdIMFgDaOcBiAEBmAEwuAEXyAEM2AED6AEB-AEDiAIBmAICqAIDuALMrZiRBsACAdICJDA4MWM3ODVkLWU3YjYtNGUwNC1hOGMzLWJiMzJhYjZlODBhNdgCBOACAQ&sid=e12b90519bab632c3ffdcb360924a5c1&aid=304142&ucfs=1&arphpl=1&dest_id=97&dest_type=country&group_adults=2&req_adults=2&no_rooms=1&group_children=0&req_children=0&hpos=25&hapos=150&sr_order=popularity&srpvid=e74992fcebb600ae&srepoch=1646686477&from_sustainable_property_sr=1&from=searchresults#hotelTmpl': 533,\n",
       " 'https://www.booking.com/hotel/is/hrafninn-guesthouse.zh-tw.html?label=gen173bo-1DCAEoggI46AdIMFgDaOcBiAEBmAEwuAEXyAEM2AED6AEB-AEDiAIBmAICqAIDuALMrZiRBsACAdICJDA4MWM3ODVkLWU3YjYtNGUwNC1hOGMzLWJiMzJhYjZlODBhNdgCBOACAQ&sid=e12b90519bab632c3ffdcb360924a5c1&aid=304142&ucfs=1&arphpl=1&dest_id=97&dest_type=country&group_adults=2&req_adults=2&no_rooms=1&group_children=0&req_children=0&hpos=1&hapos=151&sr_order=popularity&srpvid=e74992fcebb600ae&srepoch=1646686481&from_sustainable_property_sr=1&from=searchresults#hotelTmpl': 471,\n",
       " 'https://www.booking.com/hotel/is/storaborg.zh-tw.html?label=gen173bo-1DCAEoggI46AdIMFgDaOcBiAEBmAEwuAEXyAEM2AED6AEB-AEDiAIBmAICqAIDuALMrZiRBsACAdICJDA4MWM3ODVkLWU3YjYtNGUwNC1hOGMzLWJiMzJhYjZlODBhNdgCBOACAQ&sid=e12b90519bab632c3ffdcb360924a5c1&aid=304142&ucfs=1&arphpl=1&dest_id=97&dest_type=country&group_adults=2&req_adults=2&no_rooms=1&group_children=0&req_children=0&hpos=2&hapos=152&sr_order=popularity&srpvid=e74992fcebb600ae&srepoch=1646686481&from_sustainable_property_sr=1&from=searchresults#hotelTmpl': 25,\n",
       " 'https://www.booking.com/hotel/is/vik.zh-tw.html?label=gen173bo-1DCAEoggI46AdIMFgDaOcBiAEBmAEwuAEXyAEM2AED6AEB-AEDiAIBmAICqAIDuALMrZiRBsACAdICJDA4MWM3ODVkLWU3YjYtNGUwNC1hOGMzLWJiMzJhYjZlODBhNdgCBOACAQ&sid=e12b90519bab632c3ffdcb360924a5c1&aid=304142&ucfs=1&arphpl=1&dest_id=97&dest_type=country&group_adults=2&req_adults=2&no_rooms=1&group_children=0&req_children=0&hpos=3&hapos=153&sr_order=popularity&srpvid=e74992fcebb600ae&srepoch=1646686481&from=searchresults#hotelTmpl': 1347,\n",
       " 'https://www.booking.com/hotel/is/guesthouse-storu-laugar.zh-tw.html?label=gen173bo-1DCAEoggI46AdIMFgDaOcBiAEBmAEwuAEXyAEM2AED6AEB-AEDiAIBmAICqAIDuALMrZiRBsACAdICJDA4MWM3ODVkLWU3YjYtNGUwNC1hOGMzLWJiMzJhYjZlODBhNdgCBOACAQ&sid=e12b90519bab632c3ffdcb360924a5c1&aid=304142&ucfs=1&arphpl=1&dest_id=97&dest_type=country&group_adults=2&req_adults=2&no_rooms=1&group_children=0&req_children=0&hpos=4&hapos=154&sr_order=popularity&srpvid=e74992fcebb600ae&srepoch=1646686481&from=searchresults#hotelTmpl': 876,\n",
       " 'https://www.booking.com/hotel/is/reykjavik-apartments.zh-tw.html?label=gen173bo-1DCAEoggI46AdIMFgDaOcBiAEBmAEwuAEXyAEM2AED6AEB-AEDiAIBmAICqAIDuALMrZiRBsACAdICJDA4MWM3ODVkLWU3YjYtNGUwNC1hOGMzLWJiMzJhYjZlODBhNdgCBOACAQ&sid=e12b90519bab632c3ffdcb360924a5c1&aid=304142&ucfs=1&arphpl=1&dest_id=97&dest_type=country&group_adults=2&req_adults=2&no_rooms=1&group_children=0&req_children=0&hpos=5&hapos=155&sr_order=popularity&srpvid=e74992fcebb600ae&srepoch=1646686481&from=searchresults#hotelTmpl': 344,\n",
       " 'https://www.booking.com/hotel/is/ytri-vik.zh-tw.html?label=gen173bo-1DCAEoggI46AdIMFgDaOcBiAEBmAEwuAEXyAEM2AED6AEB-AEDiAIBmAICqAIDuALMrZiRBsACAdICJDA4MWM3ODVkLWU3YjYtNGUwNC1hOGMzLWJiMzJhYjZlODBhNdgCBOACAQ&sid=e12b90519bab632c3ffdcb360924a5c1&aid=304142&ucfs=1&arphpl=1&dest_id=97&dest_type=country&group_adults=2&req_adults=2&no_rooms=1&group_children=0&req_children=0&hpos=6&hapos=156&sr_order=popularity&srpvid=e74992fcebb600ae&srepoch=1646686481&from_sustainable_property_sr=1&from=searchresults#hotelTmpl': 258,\n",
       " 'https://www.booking.com/hotel/is/vestri-petursey.zh-tw.html?label=gen173bo-1DCAEoggI46AdIMFgDaOcBiAEBmAEwuAEXyAEM2AED6AEB-AEDiAIBmAICqAIDuALMrZiRBsACAdICJDA4MWM3ODVkLWU3YjYtNGUwNC1hOGMzLWJiMzJhYjZlODBhNdgCBOACAQ&sid=e12b90519bab632c3ffdcb360924a5c1&aid=304142&ucfs=1&arphpl=1&dest_id=97&dest_type=country&group_adults=2&req_adults=2&no_rooms=1&group_children=0&req_children=0&hpos=7&hapos=157&sr_order=popularity&srpvid=e74992fcebb600ae&srepoch=1646686481&from=searchresults#hotelTmpl': 505,\n",
       " 'https://www.booking.com/hotel/is/skipalaekur-cottages.zh-tw.html?label=gen173bo-1DCAEoggI46AdIMFgDaOcBiAEBmAEwuAEXyAEM2AED6AEB-AEDiAIBmAICqAIDuALMrZiRBsACAdICJDA4MWM3ODVkLWU3YjYtNGUwNC1hOGMzLWJiMzJhYjZlODBhNdgCBOACAQ&sid=e12b90519bab632c3ffdcb360924a5c1&aid=304142&ucfs=1&arphpl=1&dest_id=97&dest_type=country&group_adults=2&req_adults=2&no_rooms=1&group_children=0&req_children=0&hpos=8&hapos=158&sr_order=popularity&srpvid=e74992fcebb600ae&srepoch=1646686481&from=searchresults#hotelTmpl': 919,\n",
       " 'https://www.booking.com/hotel/is/kvosin-downtown.zh-tw.html?label=gen173bo-1DCAEoggI46AdIMFgDaOcBiAEBmAEwuAEXyAEM2AED6AEB-AEDiAIBmAICqAIDuALMrZiRBsACAdICJDA4MWM3ODVkLWU3YjYtNGUwNC1hOGMzLWJiMzJhYjZlODBhNdgCBOACAQ&sid=e12b90519bab632c3ffdcb360924a5c1&aid=304142&ucfs=1&arphpl=1&dest_id=97&dest_type=country&group_adults=2&req_adults=2&no_rooms=1&group_children=0&req_children=0&hpos=9&hapos=159&sr_order=popularity&srpvid=e74992fcebb600ae&srepoch=1646686481&from_sustainable_property_sr=1&from=searchresults#hotelTmpl': 591,\n",
       " 'https://www.booking.com/hotel/is/radisson-blu-1919.zh-tw.html?label=gen173bo-1DCAEoggI46AdIMFgDaOcBiAEBmAEwuAEXyAEM2AED6AEB-AEDiAIBmAICqAIDuALMrZiRBsACAdICJDA4MWM3ODVkLWU3YjYtNGUwNC1hOGMzLWJiMzJhYjZlODBhNdgCBOACAQ&sid=e12b90519bab632c3ffdcb360924a5c1&aid=304142&ucfs=1&arphpl=1&dest_id=97&dest_type=country&group_adults=2&req_adults=2&no_rooms=1&group_children=0&req_children=0&hpos=10&hapos=160&sr_order=popularity&srpvid=e74992fcebb600ae&srepoch=1646686481&from_sustainable_property_sr=1&from=searchresults#hotelTmpl': 454,\n",
       " 'https://www.booking.com/hotel/is/uthlid-cottages.zh-tw.html?label=gen173bo-1DCAEoggI46AdIMFgDaOcBiAEBmAEwuAEXyAEM2AED6AEB-AEDiAIBmAICqAIDuALMrZiRBsACAdICJDA4MWM3ODVkLWU3YjYtNGUwNC1hOGMzLWJiMzJhYjZlODBhNdgCBOACAQ&sid=e12b90519bab632c3ffdcb360924a5c1&aid=304142&ucfs=1&arphpl=1&dest_id=97&dest_type=country&group_adults=2&req_adults=2&no_rooms=1&group_children=0&req_children=0&hpos=11&hapos=161&sr_order=popularity&srpvid=e74992fcebb600ae&srepoch=1646686481&from=searchresults#hotelTmpl': 929,\n",
       " 'https://www.booking.com/hotel/is/guesthouse-bitra-gistiheimilid-bitra.zh-tw.html?label=gen173bo-1DCAEoggI46AdIMFgDaOcBiAEBmAEwuAEXyAEM2AED6AEB-AEDiAIBmAICqAIDuALMrZiRBsACAdICJDA4MWM3ODVkLWU3YjYtNGUwNC1hOGMzLWJiMzJhYjZlODBhNdgCBOACAQ&sid=e12b90519bab632c3ffdcb360924a5c1&aid=304142&ucfs=1&arphpl=1&dest_id=97&dest_type=country&group_adults=2&req_adults=2&no_rooms=1&group_children=0&req_children=0&hpos=12&hapos=162&sr_order=popularity&srpvid=e74992fcebb600ae&srepoch=1646686481&from=searchresults#hotelTmpl': 1018,\n",
       " 'https://www.booking.com/hotel/is/hjaradegarba3l-guesthouse.zh-tw.html?label=gen173bo-1DCAEoggI46AdIMFgDaOcBiAEBmAEwuAEXyAEM2AED6AEB-AEDiAIBmAICqAIDuALMrZiRBsACAdICJDA4MWM3ODVkLWU3YjYtNGUwNC1hOGMzLWJiMzJhYjZlODBhNdgCBOACAQ&sid=e12b90519bab632c3ffdcb360924a5c1&aid=304142&ucfs=1&arphpl=1&dest_id=97&dest_type=country&group_adults=2&req_adults=2&no_rooms=1&group_children=0&req_children=0&hpos=13&hapos=163&sr_order=popularity&srpvid=e74992fcebb600ae&srepoch=1646686481&from=searchresults#hotelTmpl': 547,\n",
       " 'https://www.booking.com/hotel/is/hotel-aldan.zh-tw.html?label=gen173bo-1DCAEoggI46AdIMFgDaOcBiAEBmAEwuAEXyAEM2AED6AEB-AEDiAIBmAICqAIDuALMrZiRBsACAdICJDA4MWM3ODVkLWU3YjYtNGUwNC1hOGMzLWJiMzJhYjZlODBhNdgCBOACAQ&sid=e12b90519bab632c3ffdcb360924a5c1&aid=304142&ucfs=1&arphpl=1&dest_id=97&dest_type=country&group_adults=2&req_adults=2&no_rooms=1&group_children=0&req_children=0&hpos=14&hapos=164&sr_order=popularity&srpvid=e74992fcebb600ae&srepoch=1646686481&from=searchresults#hotelTmpl': 443,\n",
       " 'https://www.booking.com/hotel/is/heradsskolinn.zh-tw.html?label=gen173bo-1DCAEoggI46AdIMFgDaOcBiAEBmAEwuAEXyAEM2AED6AEB-AEDiAIBmAICqAIDuALMrZiRBsACAdICJDA4MWM3ODVkLWU3YjYtNGUwNC1hOGMzLWJiMzJhYjZlODBhNdgCBOACAQ&sid=e12b90519bab632c3ffdcb360924a5c1&aid=304142&ucfs=1&arphpl=1&dest_id=97&dest_type=country&group_adults=2&req_adults=2&no_rooms=1&group_children=0&req_children=0&hpos=15&hapos=165&sr_order=popularity&srpvid=e74992fcebb600ae&srepoch=1646686481&from_sustainable_property_sr=1&from=searchresults#hotelTmpl': 689,\n",
       " 'https://www.booking.com/hotel/is/guesthouse-carina.zh-tw.html?label=gen173bo-1DCAEoggI46AdIMFgDaOcBiAEBmAEwuAEXyAEM2AED6AEB-AEDiAIBmAICqAIDuALMrZiRBsACAdICJDA4MWM3ODVkLWU3YjYtNGUwNC1hOGMzLWJiMzJhYjZlODBhNdgCBOACAQ&sid=e12b90519bab632c3ffdcb360924a5c1&aid=304142&ucfs=1&arphpl=1&dest_id=97&dest_type=country&group_adults=2&req_adults=2&no_rooms=1&group_children=0&req_children=0&hpos=16&hapos=166&sr_order=popularity&srpvid=e74992fcebb600ae&srepoch=1646686481&from=searchresults#hotelTmpl': 1676,\n",
       " 'https://www.booking.com/hotel/is/fransiskus-stykkisholmi.zh-tw.html?label=gen173bo-1DCAEoggI46AdIMFgDaOcBiAEBmAEwuAEXyAEM2AED6AEB-AEDiAIBmAICqAIDuALMrZiRBsACAdICJDA4MWM3ODVkLWU3YjYtNGUwNC1hOGMzLWJiMzJhYjZlODBhNdgCBOACAQ&sid=e12b90519bab632c3ffdcb360924a5c1&aid=304142&ucfs=1&arphpl=1&dest_id=97&dest_type=country&group_adults=2&req_adults=2&no_rooms=1&group_children=0&req_children=0&hpos=17&hapos=167&sr_order=popularity&srpvid=e74992fcebb600ae&srepoch=1646686481&from_sustainable_property_sr=1&from=searchresults#hotelTmpl': 910,\n",
       " 'https://www.booking.com/hotel/is/room-11-a-townhouse.zh-tw.html?label=gen173bo-1DCAEoggI46AdIMFgDaOcBiAEBmAEwuAEXyAEM2AED6AEB-AEDiAIBmAICqAIDuALMrZiRBsACAdICJDA4MWM3ODVkLWU3YjYtNGUwNC1hOGMzLWJiMzJhYjZlODBhNdgCBOACAQ&sid=e12b90519bab632c3ffdcb360924a5c1&aid=304142&ucfs=1&arphpl=1&dest_id=97&dest_type=country&group_adults=2&req_adults=2&no_rooms=1&group_children=0&req_children=0&hpos=18&hapos=168&sr_order=popularity&srpvid=e74992fcebb600ae&srepoch=1646686481&from_sustainable_property_sr=1&from=searchresults#hotelTmpl': 1551,\n",
       " 'https://www.booking.com/hotel/is/lava-apartments.zh-tw.html?label=gen173bo-1DCAEoggI46AdIMFgDaOcBiAEBmAEwuAEXyAEM2AED6AEB-AEDiAIBmAICqAIDuALMrZiRBsACAdICJDA4MWM3ODVkLWU3YjYtNGUwNC1hOGMzLWJiMzJhYjZlODBhNdgCBOACAQ&sid=e12b90519bab632c3ffdcb360924a5c1&aid=304142&ucfs=1&arphpl=1&dest_id=97&dest_type=country&group_adults=2&req_adults=2&no_rooms=1&group_children=0&req_children=0&hpos=19&hapos=169&sr_order=popularity&srpvid=e74992fcebb600ae&srepoch=1646686481&from=searchresults#hotelTmpl': 940,\n",
       " 'https://www.booking.com/hotel/is/leifur-eiriksson-reykjavik.zh-tw.html?label=gen173bo-1DCAEoggI46AdIMFgDaOcBiAEBmAEwuAEXyAEM2AED6AEB-AEDiAIBmAICqAIDuALMrZiRBsACAdICJDA4MWM3ODVkLWU3YjYtNGUwNC1hOGMzLWJiMzJhYjZlODBhNdgCBOACAQ&sid=e12b90519bab632c3ffdcb360924a5c1&aid=304142&ucfs=1&arphpl=1&dest_id=97&dest_type=country&group_adults=2&req_adults=2&no_rooms=1&group_children=0&req_children=0&hpos=20&hapos=170&sr_order=popularity&srpvid=e74992fcebb600ae&srepoch=1646686481&from_sustainable_property_sr=1&from=searchresults#hotelTmpl': 946,\n",
       " 'https://www.booking.com/hotel/is/tumabrekka.zh-tw.html?label=gen173bo-1DCAEoggI46AdIMFgDaOcBiAEBmAEwuAEXyAEM2AED6AEB-AEDiAIBmAICqAIDuALMrZiRBsACAdICJDA4MWM3ODVkLWU3YjYtNGUwNC1hOGMzLWJiMzJhYjZlODBhNdgCBOACAQ&sid=e12b90519bab632c3ffdcb360924a5c1&aid=304142&ucfs=1&arphpl=1&dest_id=97&dest_type=country&group_adults=2&req_adults=2&no_rooms=1&group_children=0&req_children=0&hpos=21&hapos=171&sr_order=popularity&srpvid=e74992fcebb600ae&srepoch=1646686481&from=searchresults#hotelTmpl': 15,\n",
       " 'https://www.booking.com/hotel/is/orkin.zh-tw.html?label=gen173bo-1DCAEoggI46AdIMFgDaOcBiAEBmAEwuAEXyAEM2AED6AEB-AEDiAIBmAICqAIDuALMrZiRBsACAdICJDA4MWM3ODVkLWU3YjYtNGUwNC1hOGMzLWJiMzJhYjZlODBhNdgCBOACAQ&sid=e12b90519bab632c3ffdcb360924a5c1&aid=304142&ucfs=1&arphpl=1&dest_id=97&dest_type=country&group_adults=2&req_adults=2&no_rooms=1&group_children=0&req_children=0&hpos=22&hapos=172&sr_order=popularity&srpvid=e74992fcebb600ae&srepoch=1646686481&from=searchresults#hotelTmpl': 749,\n",
       " 'https://www.booking.com/hotel/is/gemlufall-gisting.zh-tw.html?label=gen173bo-1DCAEoggI46AdIMFgDaOcBiAEBmAEwuAEXyAEM2AED6AEB-AEDiAIBmAICqAIDuALMrZiRBsACAdICJDA4MWM3ODVkLWU3YjYtNGUwNC1hOGMzLWJiMzJhYjZlODBhNdgCBOACAQ&sid=e12b90519bab632c3ffdcb360924a5c1&aid=304142&ucfs=1&arphpl=1&dest_id=97&dest_type=country&group_adults=2&req_adults=2&no_rooms=1&group_children=0&req_children=0&hpos=23&hapos=173&sr_order=popularity&srpvid=e74992fcebb600ae&srepoch=1646686481&from_sustainable_property_sr=1&from=searchresults#hotelTmpl': 25,\n",
       " 'https://www.booking.com/hotel/is/icelandic-cottages.zh-tw.html?label=gen173bo-1DCAEoggI46AdIMFgDaOcBiAEBmAEwuAEXyAEM2AED6AEB-AEDiAIBmAICqAIDuALMrZiRBsACAdICJDA4MWM3ODVkLWU3YjYtNGUwNC1hOGMzLWJiMzJhYjZlODBhNdgCBOACAQ&sid=e12b90519bab632c3ffdcb360924a5c1&aid=304142&ucfs=1&arphpl=1&dest_id=97&dest_type=country&group_adults=2&req_adults=2&no_rooms=1&group_children=0&req_children=0&hpos=24&hapos=174&sr_order=popularity&srpvid=e74992fcebb600ae&srepoch=1646686481&from=searchresults#hotelTmpl': 70,\n",
       " 'https://www.booking.com/hotel/is/asgeirsstadir.zh-tw.html?label=gen173bo-1DCAEoggI46AdIMFgDaOcBiAEBmAEwuAEXyAEM2AED6AEB-AEDiAIBmAICqAIDuALMrZiRBsACAdICJDA4MWM3ODVkLWU3YjYtNGUwNC1hOGMzLWJiMzJhYjZlODBhNdgCBOACAQ&sid=e12b90519bab632c3ffdcb360924a5c1&aid=304142&ucfs=1&arphpl=1&dest_id=97&dest_type=country&group_adults=2&req_adults=2&no_rooms=1&group_children=0&req_children=0&hpos=25&hapos=175&sr_order=popularity&srpvid=e74992fcebb600ae&srepoch=1646686481&from_sustainable_property_sr=1&from=searchresults#hotelTmpl': 258,\n",
       " 'https://www.booking.com/hotel/is/ekra-cottages.zh-tw.html?label=gen173bo-1DCAEoggI46AdIMFgDaOcBiAEBmAEwuAEXyAEM2AED6AEB-AEDiAIBmAICqAIDuALMrZiRBsACAdICJDA4MWM3ODVkLWU3YjYtNGUwNC1hOGMzLWJiMzJhYjZlODBhNdgCBOACAQ&sid=e12b90519bab632c3ffdcb360924a5c1&aid=304142&ucfs=1&arphpl=1&dest_id=97&dest_type=country&group_adults=2&req_adults=2&no_rooms=1&group_children=0&req_children=0&hpos=1&hapos=176&sr_order=popularity&srpvid=e74992fcebb600ae&srepoch=1646686485&from_sustainable_property_sr=1&from=searchresults#hotelTmpl': 60,\n",
       " 'https://www.booking.com/hotel/is/abc.zh-tw.html?label=gen173bo-1DCAEoggI46AdIMFgDaOcBiAEBmAEwuAEXyAEM2AED6AEB-AEDiAIBmAICqAIDuALMrZiRBsACAdICJDA4MWM3ODVkLWU3YjYtNGUwNC1hOGMzLWJiMzJhYjZlODBhNdgCBOACAQ&sid=e12b90519bab632c3ffdcb360924a5c1&aid=304142&ucfs=1&arphpl=1&dest_id=97&dest_type=country&group_adults=2&req_adults=2&no_rooms=1&group_children=0&req_children=0&hpos=2&hapos=177&sr_order=popularity&srpvid=e74992fcebb600ae&srepoch=1646686485&from=searchresults#hotelTmpl': 250,\n",
       " 'https://www.booking.com/hotel/is/grasteinn.zh-tw.html?label=gen173bo-1DCAEoggI46AdIMFgDaOcBiAEBmAEwuAEXyAEM2AED6AEB-AEDiAIBmAICqAIDuALMrZiRBsACAdICJDA4MWM3ODVkLWU3YjYtNGUwNC1hOGMzLWJiMzJhYjZlODBhNdgCBOACAQ&sid=e12b90519bab632c3ffdcb360924a5c1&aid=304142&ucfs=1&arphpl=1&dest_id=97&dest_type=country&group_adults=2&req_adults=2&no_rooms=1&group_children=0&req_children=0&hpos=3&hapos=178&sr_order=popularity&srpvid=e74992fcebb600ae&srepoch=1646686485&from_sustainable_property_sr=1&from=searchresults#hotelTmpl': 561,\n",
       " 'https://www.booking.com/hotel/is/nupakot.zh-tw.html?label=gen173bo-1DCAEoggI46AdIMFgDaOcBiAEBmAEwuAEXyAEM2AED6AEB-AEDiAIBmAICqAIDuALMrZiRBsACAdICJDA4MWM3ODVkLWU3YjYtNGUwNC1hOGMzLWJiMzJhYjZlODBhNdgCBOACAQ&sid=e12b90519bab632c3ffdcb360924a5c1&aid=304142&ucfs=1&arphpl=1&dest_id=97&dest_type=country&group_adults=2&req_adults=2&no_rooms=1&group_children=0&req_children=0&hpos=4&hapos=179&sr_order=popularity&srpvid=e74992fcebb600ae&srepoch=1646686485&from=searchresults#hotelTmpl': 100,\n",
       " 'https://www.booking.com/hotel/is/thoristun-apartments.zh-tw.html?label=gen173bo-1DCAEoggI46AdIMFgDaOcBiAEBmAEwuAEXyAEM2AED6AEB-AEDiAIBmAICqAIDuALMrZiRBsACAdICJDA4MWM3ODVkLWU3YjYtNGUwNC1hOGMzLWJiMzJhYjZlODBhNdgCBOACAQ&sid=e12b90519bab632c3ffdcb360924a5c1&aid=304142&ucfs=1&arphpl=1&dest_id=97&dest_type=country&group_adults=2&req_adults=2&no_rooms=1&group_children=0&req_children=0&hpos=5&hapos=180&sr_order=popularity&srpvid=e74992fcebb600ae&srepoch=1646686485&from=searchresults#hotelTmpl': 644,\n",
       " 'https://www.booking.com/hotel/is/kirkjufell-guesthouse.zh-tw.html?label=gen173bo-1DCAEoggI46AdIMFgDaOcBiAEBmAEwuAEXyAEM2AED6AEB-AEDiAIBmAICqAIDuALMrZiRBsACAdICJDA4MWM3ODVkLWU3YjYtNGUwNC1hOGMzLWJiMzJhYjZlODBhNdgCBOACAQ&sid=e12b90519bab632c3ffdcb360924a5c1&aid=304142&ucfs=1&arphpl=1&dest_id=97&dest_type=country&group_adults=2&req_adults=2&no_rooms=1&group_children=0&req_children=0&hpos=6&hapos=181&sr_order=popularity&srpvid=e74992fcebb600ae&srepoch=1646686485&from=searchresults#hotelTmpl': 1300,\n",
       " 'https://www.booking.com/hotel/is/guesthouse-egilsstadir.zh-tw.html?label=gen173bo-1DCAEoggI46AdIMFgDaOcBiAEBmAEwuAEXyAEM2AED6AEB-AEDiAIBmAICqAIDuALMrZiRBsACAdICJDA4MWM3ODVkLWU3YjYtNGUwNC1hOGMzLWJiMzJhYjZlODBhNdgCBOACAQ&sid=e12b90519bab632c3ffdcb360924a5c1&aid=304142&ucfs=1&arphpl=1&dest_id=97&dest_type=country&group_adults=2&req_adults=2&no_rooms=1&group_children=0&req_children=0&hpos=7&hapos=182&sr_order=popularity&srpvid=e74992fcebb600ae&srepoch=1646686485&from_sustainable_property_sr=1&from=searchresults#hotelTmpl': 749,\n",
       " 'https://www.booking.com/hotel/is/holt.zh-tw.html?label=gen173bo-1DCAEoggI46AdIMFgDaOcBiAEBmAEwuAEXyAEM2AED6AEB-AEDiAIBmAICqAIDuALMrZiRBsACAdICJDA4MWM3ODVkLWU3YjYtNGUwNC1hOGMzLWJiMzJhYjZlODBhNdgCBOACAQ&sid=e12b90519bab632c3ffdcb360924a5c1&aid=304142&ucfs=1&arphpl=1&dest_id=97&dest_type=country&group_adults=2&req_adults=2&no_rooms=1&group_children=0&req_children=0&hpos=8&hapos=183&sr_order=popularity&srpvid=e74992fcebb600ae&srepoch=1646686485&from_sustainable_property_sr=1&from=searchresults#hotelTmpl': 350,\n",
       " 'https://www.booking.com/hotel/is/hofn-inn.zh-tw.html?label=gen173bo-1DCAEoggI46AdIMFgDaOcBiAEBmAEwuAEXyAEM2AED6AEB-AEDiAIBmAICqAIDuALMrZiRBsACAdICJDA4MWM3ODVkLWU3YjYtNGUwNC1hOGMzLWJiMzJhYjZlODBhNdgCBOACAQ&sid=e12b90519bab632c3ffdcb360924a5c1&aid=304142&ucfs=1&arphpl=1&dest_id=97&dest_type=country&group_adults=2&req_adults=2&no_rooms=1&group_children=0&req_children=0&hpos=9&hapos=184&sr_order=popularity&srpvid=e74992fcebb600ae&srepoch=1646686485&from=searchresults#hotelTmpl': 810,\n",
       " 'https://www.booking.com/hotel/is/heidmork.zh-tw.html?label=gen173bo-1DCAEoggI46AdIMFgDaOcBiAEBmAEwuAEXyAEM2AED6AEB-AEDiAIBmAICqAIDuALMrZiRBsACAdICJDA4MWM3ODVkLWU3YjYtNGUwNC1hOGMzLWJiMzJhYjZlODBhNdgCBOACAQ&sid=e12b90519bab632c3ffdcb360924a5c1&aid=304142&ucfs=1&arphpl=1&dest_id=97&dest_type=country&group_adults=2&req_adults=2&no_rooms=1&group_children=0&req_children=0&hpos=10&hapos=185&sr_order=popularity&srpvid=e74992fcebb600ae&srepoch=1646686485&from=searchresults#hotelTmpl': 759,\n",
       " 'https://www.booking.com/hotel/is/canopy-by-hilton-reykjavik-city-centre.zh-tw.html?label=gen173bo-1DCAEoggI46AdIMFgDaOcBiAEBmAEwuAEXyAEM2AED6AEB-AEDiAIBmAICqAIDuALMrZiRBsACAdICJDA4MWM3ODVkLWU3YjYtNGUwNC1hOGMzLWJiMzJhYjZlODBhNdgCBOACAQ&sid=e12b90519bab632c3ffdcb360924a5c1&aid=304142&ucfs=1&arphpl=1&dest_id=97&dest_type=country&group_adults=2&req_adults=2&no_rooms=1&group_children=0&req_children=0&hpos=11&hapos=186&sr_order=popularity&srpvid=e74992fcebb600ae&srepoch=1646686485&from=searchresults#hotelTmpl': 467,\n",
       " 'https://www.booking.com/hotel/is/beindalsholt.zh-tw.html?label=gen173bo-1DCAEoggI46AdIMFgDaOcBiAEBmAEwuAEXyAEM2AED6AEB-AEDiAIBmAICqAIDuALMrZiRBsACAdICJDA4MWM3ODVkLWU3YjYtNGUwNC1hOGMzLWJiMzJhYjZlODBhNdgCBOACAQ&sid=e12b90519bab632c3ffdcb360924a5c1&aid=304142&ucfs=1&arphpl=1&dest_id=97&dest_type=country&group_adults=2&req_adults=2&no_rooms=1&group_children=0&req_children=0&hpos=12&hapos=187&sr_order=popularity&srpvid=e74992fcebb600ae&srepoch=1646686485&from=searchresults#hotelTmpl': 185,\n",
       " 'https://www.booking.com/hotel/is/vellir.zh-tw.html?label=gen173bo-1DCAEoggI46AdIMFgDaOcBiAEBmAEwuAEXyAEM2AED6AEB-AEDiAIBmAICqAIDuALMrZiRBsACAdICJDA4MWM3ODVkLWU3YjYtNGUwNC1hOGMzLWJiMzJhYjZlODBhNdgCBOACAQ&sid=e12b90519bab632c3ffdcb360924a5c1&aid=304142&ucfs=1&arphpl=1&dest_id=97&dest_type=country&group_adults=2&req_adults=2&no_rooms=1&group_children=0&req_children=0&hpos=13&hapos=188&sr_order=popularity&srpvid=e74992fcebb600ae&srepoch=1646686485&from_sustainable_property_sr=1&from=searchresults#hotelTmpl': 475,\n",
       " 'https://www.booking.com/hotel/is/room-with-a-view-reykjavik12.zh-tw.html?label=gen173bo-1DCAEoggI46AdIMFgDaOcBiAEBmAEwuAEXyAEM2AED6AEB-AEDiAIBmAICqAIDuALMrZiRBsACAdICJDA4MWM3ODVkLWU3YjYtNGUwNC1hOGMzLWJiMzJhYjZlODBhNdgCBOACAQ&sid=e12b90519bab632c3ffdcb360924a5c1&aid=304142&ucfs=1&arphpl=1&dest_id=97&dest_type=country&group_adults=2&req_adults=2&no_rooms=1&group_children=0&req_children=0&hpos=14&hapos=189&sr_order=popularity&srpvid=e74992fcebb600ae&srepoch=1646686485&from=searchresults#hotelTmpl': 479,\n",
       " 'https://www.booking.com/hotel/is/house-of-the-snowbird.zh-tw.html?label=gen173bo-1DCAEoggI46AdIMFgDaOcBiAEBmAEwuAEXyAEM2AED6AEB-AEDiAIBmAICqAIDuALMrZiRBsACAdICJDA4MWM3ODVkLWU3YjYtNGUwNC1hOGMzLWJiMzJhYjZlODBhNdgCBOACAQ&sid=e12b90519bab632c3ffdcb360924a5c1&aid=304142&ucfs=1&arphpl=1&dest_id=97&dest_type=country&group_adults=2&req_adults=2&no_rooms=1&group_children=0&req_children=0&hpos=15&hapos=190&sr_order=popularity&srpvid=e74992fcebb600ae&srepoch=1646686485&from_sustainable_property_sr=1&from=searchresults#hotelTmpl': 284,\n",
       " 'https://www.booking.com/hotel/is/101-guesthouse-reykjavik.zh-tw.html?label=gen173bo-1DCAEoggI46AdIMFgDaOcBiAEBmAEwuAEXyAEM2AED6AEB-AEDiAIBmAICqAIDuALMrZiRBsACAdICJDA4MWM3ODVkLWU3YjYtNGUwNC1hOGMzLWJiMzJhYjZlODBhNdgCBOACAQ&sid=e12b90519bab632c3ffdcb360924a5c1&aid=304142&ucfs=1&arphpl=1&dest_id=97&dest_type=country&group_adults=2&req_adults=2&no_rooms=1&group_children=0&req_children=0&hpos=16&hapos=191&sr_order=popularity&srpvid=e74992fcebb600ae&srepoch=1646686485&from=searchresults#hotelTmpl': 312,\n",
       " 'https://www.booking.com/hotel/is/sindrastadir-beautiful-apartment-with-mountain-view.zh-tw.html?label=gen173bo-1DCAEoggI46AdIMFgDaOcBiAEBmAEwuAEXyAEM2AED6AEB-AEDiAIBmAICqAIDuALMrZiRBsACAdICJDA4MWM3ODVkLWU3YjYtNGUwNC1hOGMzLWJiMzJhYjZlODBhNdgCBOACAQ&sid=e12b90519bab632c3ffdcb360924a5c1&aid=304142&ucfs=1&arphpl=1&dest_id=97&dest_type=country&group_adults=2&req_adults=2&no_rooms=1&group_children=0&req_children=0&hpos=17&hapos=192&sr_order=popularity&srpvid=e74992fcebb600ae&srepoch=1646686485&from_sustainable_property_sr=1&from=searchresults#hotelTmpl': 227,\n",
       " 'https://www.booking.com/hotel/is/guesthouse-seljavellir.zh-tw.html?label=gen173bo-1DCAEoggI46AdIMFgDaOcBiAEBmAEwuAEXyAEM2AED6AEB-AEDiAIBmAICqAIDuALMrZiRBsACAdICJDA4MWM3ODVkLWU3YjYtNGUwNC1hOGMzLWJiMzJhYjZlODBhNdgCBOACAQ&sid=e12b90519bab632c3ffdcb360924a5c1&aid=304142&ucfs=1&arphpl=1&dest_id=97&dest_type=country&group_adults=2&req_adults=2&no_rooms=1&group_children=0&req_children=0&hpos=18&hapos=193&sr_order=popularity&srpvid=e74992fcebb600ae&srepoch=1646686485&from_sustainable_property_sr=1&from=searchresults#hotelTmpl': 1597,\n",
       " 'https://www.booking.com/hotel/is/odinsve.zh-tw.html?label=gen173bo-1DCAEoggI46AdIMFgDaOcBiAEBmAEwuAEXyAEM2AED6AEB-AEDiAIBmAICqAIDuALMrZiRBsACAdICJDA4MWM3ODVkLWU3YjYtNGUwNC1hOGMzLWJiMzJhYjZlODBhNdgCBOACAQ&sid=e12b90519bab632c3ffdcb360924a5c1&aid=304142&ucfs=1&arphpl=1&dest_id=97&dest_type=country&group_adults=2&req_adults=2&no_rooms=1&group_children=0&req_children=0&hpos=19&hapos=194&sr_order=popularity&srpvid=e74992fcebb600ae&srepoch=1646686485&from=searchresults#hotelTmpl': 745,\n",
       " 'https://www.booking.com/hotel/is/freyja-reykjavik8.zh-tw.html?label=gen173bo-1DCAEoggI46AdIMFgDaOcBiAEBmAEwuAEXyAEM2AED6AEB-AEDiAIBmAICqAIDuALMrZiRBsACAdICJDA4MWM3ODVkLWU3YjYtNGUwNC1hOGMzLWJiMzJhYjZlODBhNdgCBOACAQ&sid=e12b90519bab632c3ffdcb360924a5c1&aid=304142&ucfs=1&arphpl=1&dest_id=97&dest_type=country&group_adults=2&req_adults=2&no_rooms=1&group_children=0&req_children=0&hpos=20&hapos=195&sr_order=popularity&srpvid=e74992fcebb600ae&srepoch=1646686485&from=searchresults#hotelTmpl': 305,\n",
       " 'https://www.booking.com/hotel/is/stafafell-cottages.zh-tw.html?label=gen173bo-1DCAEoggI46AdIMFgDaOcBiAEBmAEwuAEXyAEM2AED6AEB-AEDiAIBmAICqAIDuALMrZiRBsACAdICJDA4MWM3ODVkLWU3YjYtNGUwNC1hOGMzLWJiMzJhYjZlODBhNdgCBOACAQ&sid=e12b90519bab632c3ffdcb360924a5c1&aid=304142&ucfs=1&arphpl=1&dest_id=97&dest_type=country&group_adults=2&req_adults=2&no_rooms=1&group_children=0&req_children=0&hpos=21&hapos=196&sr_order=popularity&srpvid=e74992fcebb600ae&srepoch=1646686485&from=searchresults#hotelTmpl': 302,\n",
       " 'https://www.booking.com/hotel/is/22hillhotel.zh-tw.html?label=gen173bo-1DCAEoggI46AdIMFgDaOcBiAEBmAEwuAEXyAEM2AED6AEB-AEDiAIBmAICqAIDuALMrZiRBsACAdICJDA4MWM3ODVkLWU3YjYtNGUwNC1hOGMzLWJiMzJhYjZlODBhNdgCBOACAQ&sid=e12b90519bab632c3ffdcb360924a5c1&aid=304142&ucfs=1&arphpl=1&dest_id=97&dest_type=country&group_adults=2&req_adults=2&no_rooms=1&group_children=0&req_children=0&hpos=22&hapos=197&sr_order=popularity&srpvid=e74992fcebb600ae&srepoch=1646686485&from=searchresults#hotelTmpl': 1224,\n",
       " 'https://www.booking.com/hotel/is/lava-water-accommodation-apartments.zh-tw.html?label=gen173bo-1DCAEoggI46AdIMFgDaOcBiAEBmAEwuAEXyAEM2AED6AEB-AEDiAIBmAICqAIDuALMrZiRBsACAdICJDA4MWM3ODVkLWU3YjYtNGUwNC1hOGMzLWJiMzJhYjZlODBhNdgCBOACAQ&sid=e12b90519bab632c3ffdcb360924a5c1&aid=304142&ucfs=1&arphpl=1&dest_id=97&dest_type=country&group_adults=2&req_adults=2&no_rooms=1&group_children=0&req_children=0&hpos=23&hapos=198&sr_order=popularity&srpvid=e74992fcebb600ae&srepoch=1646686485&from=searchresults#hotelTmpl': 492,\n",
       " 'https://www.booking.com/hotel/is/cabin.zh-tw.html?label=gen173bo-1DCAEoggI46AdIMFgDaOcBiAEBmAEwuAEXyAEM2AED6AEB-AEDiAIBmAICqAIDuALMrZiRBsACAdICJDA4MWM3ODVkLWU3YjYtNGUwNC1hOGMzLWJiMzJhYjZlODBhNdgCBOACAQ&sid=e12b90519bab632c3ffdcb360924a5c1&aid=304142&ucfs=1&arphpl=1&dest_id=97&dest_type=country&group_adults=2&req_adults=2&no_rooms=1&group_children=0&req_children=0&hpos=24&hapos=199&sr_order=popularity&srpvid=e74992fcebb600ae&srepoch=1646686485&from=searchresults#hotelTmpl': 1206,\n",
       " 'https://www.booking.com/hotel/is/jazz.zh-tw.html?label=gen173bo-1DCAEoggI46AdIMFgDaOcBiAEBmAEwuAEXyAEM2AED6AEB-AEDiAIBmAICqAIDuALMrZiRBsACAdICJDA4MWM3ODVkLWU3YjYtNGUwNC1hOGMzLWJiMzJhYjZlODBhNdgCBOACAQ&sid=e12b90519bab632c3ffdcb360924a5c1&aid=304142&ucfs=1&arphpl=1&dest_id=97&dest_type=country&group_adults=2&req_adults=2&no_rooms=1&group_children=0&req_children=0&hpos=25&hapos=200&sr_order=popularity&srpvid=e74992fcebb600ae&srepoch=1646686485&from=searchresults#hotelTmpl': 969,\n",
       " 'https://www.booking.com/hotel/is/eyjolfssstadir-guesthouse.zh-tw.html?label=gen173bo-1DCAEoggI46AdIMFgDaOcBiAEBmAEwuAEXyAEM2AED6AEB-AEDiAIBmAICqAIDuALMrZiRBsACAdICJDA4MWM3ODVkLWU3YjYtNGUwNC1hOGMzLWJiMzJhYjZlODBhNdgCBOACAQ&sid=e12b90519bab632c3ffdcb360924a5c1&aid=304142&ucfs=1&arphpl=1&dest_id=97&dest_type=country&group_adults=2&req_adults=2&no_rooms=1&group_children=0&req_children=0&hpos=1&hapos=201&sr_order=popularity&srpvid=e74992fcebb600ae&srepoch=1646686488&from_sustainable_property_sr=1&from=searchresults#hotelTmpl': 697,\n",
       " 'https://www.booking.com/hotel/is/starmyri-2a.zh-tw.html?label=gen173bo-1DCAEoggI46AdIMFgDaOcBiAEBmAEwuAEXyAEM2AED6AEB-AEDiAIBmAICqAIDuALMrZiRBsACAdICJDA4MWM3ODVkLWU3YjYtNGUwNC1hOGMzLWJiMzJhYjZlODBhNdgCBOACAQ&sid=e12b90519bab632c3ffdcb360924a5c1&aid=304142&ucfs=1&arphpl=1&dest_id=97&dest_type=country&group_adults=2&req_adults=2&no_rooms=1&group_children=0&req_children=0&hpos=2&hapos=202&sr_order=popularity&srpvid=e74992fcebb600ae&srepoch=1646686488&from=searchresults#hotelTmpl': 223,\n",
       " 'https://www.booking.com/hotel/is/consulate-reykjavik-curio-collection-by-hilton.zh-tw.html?label=gen173bo-1DCAEoggI46AdIMFgDaOcBiAEBmAEwuAEXyAEM2AED6AEB-AEDiAIBmAICqAIDuALMrZiRBsACAdICJDA4MWM3ODVkLWU3YjYtNGUwNC1hOGMzLWJiMzJhYjZlODBhNdgCBOACAQ&sid=e12b90519bab632c3ffdcb360924a5c1&aid=304142&ucfs=1&arphpl=1&dest_id=97&dest_type=country&group_adults=2&req_adults=2&no_rooms=1&group_children=0&req_children=0&hpos=3&hapos=203&sr_order=popularity&srpvid=e74992fcebb600ae&srepoch=1646686488&from=searchresults#hotelTmpl': 255,\n",
       " 'https://www.booking.com/hotel/is/hotel-island.zh-tw.html?label=gen173bo-1DCAEoggI46AdIMFgDaOcBiAEBmAEwuAEXyAEM2AED6AEB-AEDiAIBmAICqAIDuALMrZiRBsACAdICJDA4MWM3ODVkLWU3YjYtNGUwNC1hOGMzLWJiMzJhYjZlODBhNdgCBOACAQ&sid=e12b90519bab632c3ffdcb360924a5c1&aid=304142&ucfs=1&arphpl=1&dest_id=97&dest_type=country&group_adults=2&req_adults=2&no_rooms=1&group_children=0&req_children=0&hpos=4&hapos=204&sr_order=popularity&srpvid=e74992fcebb600ae&srepoch=1646686488&from=searchresults#hotelTmpl': 1896,\n",
       " 'https://www.booking.com/hotel/is/hofn-guesthouse.zh-tw.html?label=gen173bo-1DCAEoggI46AdIMFgDaOcBiAEBmAEwuAEXyAEM2AED6AEB-AEDiAIBmAICqAIDuALMrZiRBsACAdICJDA4MWM3ODVkLWU3YjYtNGUwNC1hOGMzLWJiMzJhYjZlODBhNdgCBOACAQ&sid=e12b90519bab632c3ffdcb360924a5c1&aid=304142&ucfs=1&arphpl=1&dest_id=97&dest_type=country&group_adults=2&req_adults=2&no_rooms=1&group_children=0&req_children=0&hpos=5&hapos=205&sr_order=popularity&srpvid=e74992fcebb600ae&srepoch=1646686488&from=searchresults#hotelTmpl': 924,\n",
       " 'https://www.booking.com/hotel/is/skjaldarvik-guest-house.zh-tw.html?label=gen173bo-1DCAEoggI46AdIMFgDaOcBiAEBmAEwuAEXyAEM2AED6AEB-AEDiAIBmAICqAIDuALMrZiRBsACAdICJDA4MWM3ODVkLWU3YjYtNGUwNC1hOGMzLWJiMzJhYjZlODBhNdgCBOACAQ&sid=e12b90519bab632c3ffdcb360924a5c1&aid=304142&ucfs=1&arphpl=1&dest_id=97&dest_type=country&group_adults=2&req_adults=2&no_rooms=1&group_children=0&req_children=0&hpos=6&hapos=206&sr_order=popularity&srpvid=e74992fcebb600ae&srepoch=1646686488&from=searchresults#hotelTmpl': 669,\n",
       " 'https://www.booking.com/hotel/is/nordurey.zh-tw.html?label=gen173bo-1DCAEoggI46AdIMFgDaOcBiAEBmAEwuAEXyAEM2AED6AEB-AEDiAIBmAICqAIDuALMrZiRBsACAdICJDA4MWM3ODVkLWU3YjYtNGUwNC1hOGMzLWJiMzJhYjZlODBhNdgCBOACAQ&sid=e12b90519bab632c3ffdcb360924a5c1&aid=304142&ucfs=1&arphpl=1&dest_id=97&dest_type=country&group_adults=2&req_adults=2&no_rooms=1&group_children=0&req_children=0&hpos=7&hapos=207&sr_order=popularity&srpvid=e74992fcebb600ae&srepoch=1646686489&from=searchresults#hotelTmpl': 1053,\n",
       " 'https://www.booking.com/hotel/is/edda-egilsstadir.zh-tw.html?label=gen173bo-1DCAEoggI46AdIMFgDaOcBiAEBmAEwuAEXyAEM2AED6AEB-AEDiAIBmAICqAIDuALMrZiRBsACAdICJDA4MWM3ODVkLWU3YjYtNGUwNC1hOGMzLWJiMzJhYjZlODBhNdgCBOACAQ&sid=e12b90519bab632c3ffdcb360924a5c1&aid=304142&ucfs=1&arphpl=1&dest_id=97&dest_type=country&group_adults=2&req_adults=2&no_rooms=1&group_children=0&req_children=0&hpos=8&hapos=208&sr_order=popularity&srpvid=e74992fcebb600ae&srepoch=1646686489&from_sustainable_property_sr=1&from=searchresults#hotelTmpl': 394,\n",
       " 'https://www.booking.com/hotel/is/ork.zh-tw.html?label=gen173bo-1DCAEoggI46AdIMFgDaOcBiAEBmAEwuAEXyAEM2AED6AEB-AEDiAIBmAICqAIDuALMrZiRBsACAdICJDA4MWM3ODVkLWU3YjYtNGUwNC1hOGMzLWJiMzJhYjZlODBhNdgCBOACAQ&sid=e12b90519bab632c3ffdcb360924a5c1&aid=304142&ucfs=1&arphpl=1&dest_id=97&dest_type=country&group_adults=2&req_adults=2&no_rooms=1&group_children=0&req_children=0&hpos=9&hapos=209&sr_order=popularity&srpvid=e74992fcebb600ae&srepoch=1646686489&from=searchresults#hotelTmpl': 924,\n",
       " 'https://www.booking.com/hotel/is/geysir.zh-tw.html?label=gen173bo-1DCAEoggI46AdIMFgDaOcBiAEBmAEwuAEXyAEM2AED6AEB-AEDiAIBmAICqAIDuALMrZiRBsACAdICJDA4MWM3ODVkLWU3YjYtNGUwNC1hOGMzLWJiMzJhYjZlODBhNdgCBOACAQ&sid=e12b90519bab632c3ffdcb360924a5c1&aid=304142&ucfs=1&arphpl=1&dest_id=97&dest_type=country&group_adults=2&req_adults=2&no_rooms=1&group_children=0&req_children=0&hpos=10&hapos=210&sr_order=popularity&srpvid=e74992fcebb600ae&srepoch=1646686489&from=searchresults#hotelTmpl': 976,\n",
       " 'https://www.booking.com/hotel/is/alba-guesthouse.zh-tw.html?label=gen173bo-1DCAEoggI46AdIMFgDaOcBiAEBmAEwuAEXyAEM2AED6AEB-AEDiAIBmAICqAIDuALMrZiRBsACAdICJDA4MWM3ODVkLWU3YjYtNGUwNC1hOGMzLWJiMzJhYjZlODBhNdgCBOACAQ&sid=e12b90519bab632c3ffdcb360924a5c1&aid=304142&ucfs=1&arphpl=1&dest_id=97&dest_type=country&group_adults=2&req_adults=2&no_rooms=1&group_children=0&req_children=0&hpos=11&hapos=211&sr_order=popularity&srpvid=e74992fcebb600ae&srepoch=1646686489&from_sustainable_property_sr=1&from=searchresults#hotelTmpl': 944,\n",
       " 'https://www.booking.com/hotel/is/ha3tel-la-kur.zh-tw.html?label=gen173bo-1DCAEoggI46AdIMFgDaOcBiAEBmAEwuAEXyAEM2AED6AEB-AEDiAIBmAICqAIDuALMrZiRBsACAdICJDA4MWM3ODVkLWU3YjYtNGUwNC1hOGMzLWJiMzJhYjZlODBhNdgCBOACAQ&sid=e12b90519bab632c3ffdcb360924a5c1&aid=304142&ucfs=1&arphpl=1&dest_id=97&dest_type=country&group_adults=2&req_adults=2&no_rooms=1&group_children=0&req_children=0&hpos=12&hapos=212&sr_order=popularity&srpvid=e74992fcebb600ae&srepoch=1646686489&from=searchresults#hotelTmpl': 605,\n",
       " 'https://www.booking.com/hotel/is/icelandair-nordica.zh-tw.html?label=gen173bo-1DCAEoggI46AdIMFgDaOcBiAEBmAEwuAEXyAEM2AED6AEB-AEDiAIBmAICqAIDuALMrZiRBsACAdICJDA4MWM3ODVkLWU3YjYtNGUwNC1hOGMzLWJiMzJhYjZlODBhNdgCBOACAQ&sid=e12b90519bab632c3ffdcb360924a5c1&aid=304142&ucfs=1&arphpl=1&dest_id=97&dest_type=country&group_adults=2&req_adults=2&no_rooms=1&group_children=0&req_children=0&hpos=13&hapos=213&sr_order=popularity&srpvid=e74992fcebb600ae&srepoch=1646686489&from=searchresults#hotelTmpl': 445,\n",
       " 'https://www.booking.com/hotel/is/jokull.zh-tw.html?label=gen173bo-1DCAEoggI46AdIMFgDaOcBiAEBmAEwuAEXyAEM2AED6AEB-AEDiAIBmAICqAIDuALMrZiRBsACAdICJDA4MWM3ODVkLWU3YjYtNGUwNC1hOGMzLWJiMzJhYjZlODBhNdgCBOACAQ&sid=e12b90519bab632c3ffdcb360924a5c1&aid=304142&ucfs=1&arphpl=1&dest_id=97&dest_type=country&group_adults=2&req_adults=2&no_rooms=1&group_children=0&req_children=0&hpos=14&hapos=214&sr_order=popularity&srpvid=e74992fcebb600ae&srepoch=1646686489&from_sustainable_property_sr=1&from=searchresults#hotelTmpl': 1363,\n",
       " 'https://www.booking.com/hotel/is/guesthouse-galtafell-reykjavik.zh-tw.html?label=gen173bo-1DCAEoggI46AdIMFgDaOcBiAEBmAEwuAEXyAEM2AED6AEB-AEDiAIBmAICqAIDuALMrZiRBsACAdICJDA4MWM3ODVkLWU3YjYtNGUwNC1hOGMzLWJiMzJhYjZlODBhNdgCBOACAQ&sid=e12b90519bab632c3ffdcb360924a5c1&aid=304142&ucfs=1&arphpl=1&dest_id=97&dest_type=country&group_adults=2&req_adults=2&no_rooms=1&group_children=0&req_children=0&hpos=15&hapos=215&sr_order=popularity&srpvid=e74992fcebb600ae&srepoch=1646686489&from=searchresults#hotelTmpl': 1234,\n",
       " 'https://www.booking.com/hotel/is/the-freezer-apartments.zh-tw.html?label=gen173bo-1DCAEoggI46AdIMFgDaOcBiAEBmAEwuAEXyAEM2AED6AEB-AEDiAIBmAICqAIDuALMrZiRBsACAdICJDA4MWM3ODVkLWU3YjYtNGUwNC1hOGMzLWJiMzJhYjZlODBhNdgCBOACAQ&sid=e12b90519bab632c3ffdcb360924a5c1&aid=304142&ucfs=1&arphpl=1&dest_id=97&dest_type=country&group_adults=2&req_adults=2&no_rooms=1&group_children=0&req_children=0&hpos=16&hapos=216&sr_order=popularity&srpvid=e74992fcebb600ae&srepoch=1646686489&from_sustainable_property_sr=1&from=searchresults#hotelTmpl': 78,\n",
       " 'https://www.booking.com/hotel/is/farmer-39-s-guest-house.zh-tw.html?label=gen173bo-1DCAEoggI46AdIMFgDaOcBiAEBmAEwuAEXyAEM2AED6AEB-AEDiAIBmAICqAIDuALMrZiRBsACAdICJDA4MWM3ODVkLWU3YjYtNGUwNC1hOGMzLWJiMzJhYjZlODBhNdgCBOACAQ&sid=e12b90519bab632c3ffdcb360924a5c1&aid=304142&ucfs=1&arphpl=1&dest_id=97&dest_type=country&group_adults=2&req_adults=2&no_rooms=1&group_children=0&req_children=0&hpos=17&hapos=217&sr_order=popularity&srpvid=e74992fcebb600ae&srepoch=1646686489&from=searchresults#hotelTmpl': 456,\n",
       " 'https://www.booking.com/hotel/is/hotel-snaefell.zh-tw.html?label=gen173bo-1DCAEoggI46AdIMFgDaOcBiAEBmAEwuAEXyAEM2AED6AEB-AEDiAIBmAICqAIDuALMrZiRBsACAdICJDA4MWM3ODVkLWU3YjYtNGUwNC1hOGMzLWJiMzJhYjZlODBhNdgCBOACAQ&sid=e12b90519bab632c3ffdcb360924a5c1&aid=304142&ucfs=1&arphpl=1&dest_id=97&dest_type=country&group_adults=2&req_adults=2&no_rooms=1&group_children=0&req_children=0&hpos=18&hapos=218&sr_order=popularity&srpvid=e74992fcebb600ae&srepoch=1646686489&from=searchresults#hotelTmpl': 506,\n",
       " 'https://www.booking.com/hotel/is/b14-luxury-apartments-down-town.zh-tw.html?label=gen173bo-1DCAEoggI46AdIMFgDaOcBiAEBmAEwuAEXyAEM2AED6AEB-AEDiAIBmAICqAIDuALMrZiRBsACAdICJDA4MWM3ODVkLWU3YjYtNGUwNC1hOGMzLWJiMzJhYjZlODBhNdgCBOACAQ&sid=e12b90519bab632c3ffdcb360924a5c1&aid=304142&ucfs=1&arphpl=1&dest_id=97&dest_type=country&group_adults=2&req_adults=2&no_rooms=1&group_children=0&req_children=0&hpos=19&hapos=219&sr_order=popularity&srpvid=e74992fcebb600ae&srepoch=1646686489&from=searchresults#hotelTmpl': 193,\n",
       " 'https://www.booking.com/hotel/is/courtyard-reykjavik-keflavik-airport.zh-tw.html?label=gen173bo-1DCAEoggI46AdIMFgDaOcBiAEBmAEwuAEXyAEM2AED6AEB-AEDiAIBmAICqAIDuALMrZiRBsACAdICJDA4MWM3ODVkLWU3YjYtNGUwNC1hOGMzLWJiMzJhYjZlODBhNdgCBOACAQ&sid=e12b90519bab632c3ffdcb360924a5c1&aid=304142&ucfs=1&arphpl=1&dest_id=97&dest_type=country&group_adults=2&req_adults=2&no_rooms=1&group_children=0&req_children=0&hpos=20&hapos=220&sr_order=popularity&srpvid=e74992fcebb600ae&srepoch=1646686489&from=searchresults#hotelTmpl': 331,\n",
       " 'https://www.booking.com/hotel/is/park-inn-reykjavik-keflavik-airport.zh-tw.html?label=gen173bo-1DCAEoggI46AdIMFgDaOcBiAEBmAEwuAEXyAEM2AED6AEB-AEDiAIBmAICqAIDuALMrZiRBsACAdICJDA4MWM3ODVkLWU3YjYtNGUwNC1hOGMzLWJiMzJhYjZlODBhNdgCBOACAQ&sid=e12b90519bab632c3ffdcb360924a5c1&aid=304142&ucfs=1&arphpl=1&dest_id=97&dest_type=country&group_adults=2&req_adults=2&no_rooms=1&group_children=0&req_children=0&hpos=21&hapos=221&sr_order=popularity&srpvid=e74992fcebb600ae&srepoch=1646686489&from_sustainable_property_sr=1&from=searchresults#hotelTmpl': 388,\n",
       " 'https://www.booking.com/hotel/is/lilja-guesthouse.zh-tw.html?label=gen173bo-1DCAEoggI46AdIMFgDaOcBiAEBmAEwuAEXyAEM2AED6AEB-AEDiAIBmAICqAIDuALMrZiRBsACAdICJDA4MWM3ODVkLWU3YjYtNGUwNC1hOGMzLWJiMzJhYjZlODBhNdgCBOACAQ&sid=e12b90519bab632c3ffdcb360924a5c1&aid=304142&ucfs=1&arphpl=1&dest_id=97&dest_type=country&group_adults=2&req_adults=2&no_rooms=1&group_children=0&req_children=0&hpos=22&hapos=222&sr_order=popularity&srpvid=e74992fcebb600ae&srepoch=1646686489&from=searchresults#hotelTmpl': 1503,\n",
       " 'https://www.booking.com/hotel/is/k16apartments.zh-tw.html?label=gen173bo-1DCAEoggI46AdIMFgDaOcBiAEBmAEwuAEXyAEM2AED6AEB-AEDiAIBmAICqAIDuALMrZiRBsACAdICJDA4MWM3ODVkLWU3YjYtNGUwNC1hOGMzLWJiMzJhYjZlODBhNdgCBOACAQ&sid=e12b90519bab632c3ffdcb360924a5c1&aid=304142&ucfs=1&arphpl=1&dest_id=97&dest_type=country&group_adults=2&req_adults=2&no_rooms=1&group_children=0&req_children=0&hpos=23&hapos=223&sr_order=popularity&srpvid=e74992fcebb600ae&srepoch=1646686489&from=searchresults#hotelTmpl': 626,\n",
       " 'https://www.booking.com/hotel/is/hotel-eyvindara.zh-tw.html?label=gen173bo-1DCAEoggI46AdIMFgDaOcBiAEBmAEwuAEXyAEM2AED6AEB-AEDiAIBmAICqAIDuALMrZiRBsACAdICJDA4MWM3ODVkLWU3YjYtNGUwNC1hOGMzLWJiMzJhYjZlODBhNdgCBOACAQ&sid=e12b90519bab632c3ffdcb360924a5c1&aid=304142&ucfs=1&arphpl=1&dest_id=97&dest_type=country&group_adults=2&req_adults=2&no_rooms=1&group_children=0&req_children=0&hpos=24&hapos=224&sr_order=popularity&srpvid=e74992fcebb600ae&srepoch=1646686489&from_sustainable_property_sr=1&from=searchresults#hotelTmpl': 402,\n",
       " 'https://www.booking.com/hotel/is/myvo.zh-tw.html?label=gen173bo-1DCAEoggI46AdIMFgDaOcBiAEBmAEwuAEXyAEM2AED6AEB-AEDiAIBmAICqAIDuALMrZiRBsACAdICJDA4MWM3ODVkLWU3YjYtNGUwNC1hOGMzLWJiMzJhYjZlODBhNdgCBOACAQ&sid=e12b90519bab632c3ffdcb360924a5c1&aid=304142&ucfs=1&arphpl=1&dest_id=97&dest_type=country&group_adults=2&req_adults=2&no_rooms=1&group_children=0&req_children=0&hpos=25&hapos=225&sr_order=popularity&srpvid=e74992fcebb600ae&srepoch=1646686489&from=searchresults#hotelTmpl': 10,\n",
       " 'https://www.booking.com/hotel/is/kef-guesthouse.zh-tw.html?label=gen173bo-1DCAEoggI46AdIMFgDaOcBiAEBmAEwuAEXyAEM2AED6AEB-AEDiAIBmAICqAIDuALMrZiRBsACAdICJDA4MWM3ODVkLWU3YjYtNGUwNC1hOGMzLWJiMzJhYjZlODBhNdgCBOACAQ&sid=e12b90519bab632c3ffdcb360924a5c1&aid=304142&ucfs=1&arphpl=1&dest_id=97&dest_type=country&group_adults=2&req_adults=2&no_rooms=1&group_children=0&req_children=0&hpos=1&hapos=226&sr_order=popularity&srpvid=e74992fcebb600ae&srepoch=1646686492&from=searchresults#hotelTmpl': 1231,\n",
       " 'https://www.booking.com/hotel/is/vatnsas-10-stykkisholmur.zh-tw.html?label=gen173bo-1DCAEoggI46AdIMFgDaOcBiAEBmAEwuAEXyAEM2AED6AEB-AEDiAIBmAICqAIDuALMrZiRBsACAdICJDA4MWM3ODVkLWU3YjYtNGUwNC1hOGMzLWJiMzJhYjZlODBhNdgCBOACAQ&sid=e12b90519bab632c3ffdcb360924a5c1&aid=304142&ucfs=1&arphpl=1&dest_id=97&dest_type=country&group_adults=2&req_adults=2&no_rooms=1&group_children=0&req_children=0&hpos=2&hapos=227&sr_order=popularity&srpvid=e74992fcebb600ae&srepoch=1646686492&from=searchresults#hotelTmpl': 784,\n",
       " 'https://www.booking.com/hotel/is/our-guesthouse-akureyri.zh-tw.html?label=gen173bo-1DCAEoggI46AdIMFgDaOcBiAEBmAEwuAEXyAEM2AED6AEB-AEDiAIBmAICqAIDuALMrZiRBsACAdICJDA4MWM3ODVkLWU3YjYtNGUwNC1hOGMzLWJiMzJhYjZlODBhNdgCBOACAQ&sid=e12b90519bab632c3ffdcb360924a5c1&aid=304142&ucfs=1&arphpl=1&dest_id=97&dest_type=country&group_adults=2&req_adults=2&no_rooms=1&group_children=0&req_children=0&hpos=3&hapos=228&sr_order=popularity&srpvid=e74992fcebb600ae&srepoch=1646686492&from=searchresults#hotelTmpl': 402,\n",
       " 'https://www.booking.com/hotel/is/360deg.zh-tw.html?label=gen173bo-1DCAEoggI46AdIMFgDaOcBiAEBmAEwuAEXyAEM2AED6AEB-AEDiAIBmAICqAIDuALMrZiRBsACAdICJDA4MWM3ODVkLWU3YjYtNGUwNC1hOGMzLWJiMzJhYjZlODBhNdgCBOACAQ&sid=e12b90519bab632c3ffdcb360924a5c1&aid=304142&ucfs=1&arphpl=1&dest_id=97&dest_type=country&group_adults=2&req_adults=2&no_rooms=1&group_children=0&req_children=0&hpos=4&hapos=229&sr_order=popularity&srpvid=e74992fcebb600ae&srepoch=1646686492&from_sustainable_property_sr=1&from=searchresults#hotelTmpl': 319,\n",
       " 'https://www.booking.com/hotel/is/puffin-nest-capsule-hostel.zh-tw.html?label=gen173bo-1DCAEoggI46AdIMFgDaOcBiAEBmAEwuAEXyAEM2AED6AEB-AEDiAIBmAICqAIDuALMrZiRBsACAdICJDA4MWM3ODVkLWU3YjYtNGUwNC1hOGMzLWJiMzJhYjZlODBhNdgCBOACAQ&sid=e12b90519bab632c3ffdcb360924a5c1&aid=304142&ucfs=1&arphpl=1&dest_id=97&dest_type=country&group_adults=2&req_adults=2&no_rooms=1&group_children=0&req_children=0&hpos=5&hapos=230&sr_order=popularity&srpvid=e74992fcebb600ae&srepoch=1646686492&from=searchresults#hotelTmpl': 178,\n",
       " 'https://www.booking.com/hotel/is/milk-factory.zh-tw.html?label=gen173bo-1DCAEoggI46AdIMFgDaOcBiAEBmAEwuAEXyAEM2AED6AEB-AEDiAIBmAICqAIDuALMrZiRBsACAdICJDA4MWM3ODVkLWU3YjYtNGUwNC1hOGMzLWJiMzJhYjZlODBhNdgCBOACAQ&sid=e12b90519bab632c3ffdcb360924a5c1&aid=304142&ucfs=1&arphpl=1&dest_id=97&dest_type=country&group_adults=2&req_adults=2&no_rooms=1&group_children=0&req_children=0&hpos=6&hapos=231&sr_order=popularity&srpvid=e74992fcebb600ae&srepoch=1646686492&from=searchresults#hotelTmpl': 1350,\n",
       " 'https://www.booking.com/hotel/is/hellissandur.zh-tw.html?label=gen173bo-1DCAEoggI46AdIMFgDaOcBiAEBmAEwuAEXyAEM2AED6AEB-AEDiAIBmAICqAIDuALMrZiRBsACAdICJDA4MWM3ODVkLWU3YjYtNGUwNC1hOGMzLWJiMzJhYjZlODBhNdgCBOACAQ&sid=e12b90519bab632c3ffdcb360924a5c1&aid=304142&ucfs=1&arphpl=1&dest_id=97&dest_type=country&group_adults=2&req_adults=2&no_rooms=1&group_children=0&req_children=0&hpos=7&hapos=232&sr_order=popularity&srpvid=e74992fcebb600ae&srepoch=1646686492&from=searchresults#hotelTmpl': 294,\n",
       " 'https://www.booking.com/hotel/is/guesthouse-kiljan.zh-tw.html?label=gen173bo-1DCAEoggI46AdIMFgDaOcBiAEBmAEwuAEXyAEM2AED6AEB-AEDiAIBmAICqAIDuALMrZiRBsACAdICJDA4MWM3ODVkLWU3YjYtNGUwNC1hOGMzLWJiMzJhYjZlODBhNdgCBOACAQ&sid=e12b90519bab632c3ffdcb360924a5c1&aid=304142&ucfs=1&arphpl=1&dest_id=97&dest_type=country&group_adults=2&req_adults=2&no_rooms=1&group_children=0&req_children=0&hpos=8&hapos=233&sr_order=popularity&srpvid=e74992fcebb600ae&srepoch=1646686492&from=searchresults#hotelTmpl': 505,\n",
       " 'https://www.booking.com/hotel/is/valaskjalf.zh-tw.html?label=gen173bo-1DCAEoggI46AdIMFgDaOcBiAEBmAEwuAEXyAEM2AED6AEB-AEDiAIBmAICqAIDuALMrZiRBsACAdICJDA4MWM3ODVkLWU3YjYtNGUwNC1hOGMzLWJiMzJhYjZlODBhNdgCBOACAQ&sid=e12b90519bab632c3ffdcb360924a5c1&aid=304142&ucfs=1&arphpl=1&dest_id=97&dest_type=country&group_adults=2&req_adults=2&no_rooms=1&group_children=0&req_children=0&hpos=9&hapos=234&sr_order=popularity&srpvid=e74992fcebb600ae&srepoch=1646686492&from=searchresults#hotelTmpl': 736,\n",
       " 'https://www.booking.com/hotel/is/ranga-hella.zh-tw.html?label=gen173bo-1DCAEoggI46AdIMFgDaOcBiAEBmAEwuAEXyAEM2AED6AEB-AEDiAIBmAICqAIDuALMrZiRBsACAdICJDA4MWM3ODVkLWU3YjYtNGUwNC1hOGMzLWJiMzJhYjZlODBhNdgCBOACAQ&sid=e12b90519bab632c3ffdcb360924a5c1&aid=304142&ucfs=1&arphpl=1&dest_id=97&dest_type=country&group_adults=2&req_adults=2&no_rooms=1&group_children=0&req_children=0&hpos=10&hapos=235&sr_order=popularity&srpvid=e74992fcebb600ae&srepoch=1646686492&from=searchresults#hotelTmpl': 246,\n",
       " 'https://www.booking.com/hotel/is/post-hostel.zh-tw.html?label=gen173bo-1DCAEoggI46AdIMFgDaOcBiAEBmAEwuAEXyAEM2AED6AEB-AEDiAIBmAICqAIDuALMrZiRBsACAdICJDA4MWM3ODVkLWU3YjYtNGUwNC1hOGMzLWJiMzJhYjZlODBhNdgCBOACAQ&sid=e12b90519bab632c3ffdcb360924a5c1&aid=304142&ucfs=1&arphpl=1&dest_id=97&dest_type=country&group_adults=2&req_adults=2&no_rooms=1&group_children=0&req_children=0&hpos=11&hapos=236&sr_order=popularity&srpvid=e74992fcebb600ae&srepoch=1646686492&from_sustainable_property_sr=1&from=searchresults#hotelTmpl': 669,\n",
       " 'https://www.booking.com/hotel/is/start-hostel.zh-tw.html?label=gen173bo-1DCAEoggI46AdIMFgDaOcBiAEBmAEwuAEXyAEM2AED6AEB-AEDiAIBmAICqAIDuALMrZiRBsACAdICJDA4MWM3ODVkLWU3YjYtNGUwNC1hOGMzLWJiMzJhYjZlODBhNdgCBOACAQ&sid=e12b90519bab632c3ffdcb360924a5c1&aid=304142&ucfs=1&arphpl=1&dest_id=97&dest_type=country&group_adults=2&req_adults=2&no_rooms=1&group_children=0&req_children=0&hpos=12&hapos=237&sr_order=popularity&srpvid=e74992fcebb600ae&srepoch=1646686492&from=searchresults#hotelTmpl': 848,\n",
       " 'https://www.booking.com/hotel/is/blue-view-cabin-1a.zh-tw.html?label=gen173bo-1DCAEoggI46AdIMFgDaOcBiAEBmAEwuAEXyAEM2AED6AEB-AEDiAIBmAICqAIDuALMrZiRBsACAdICJDA4MWM3ODVkLWU3YjYtNGUwNC1hOGMzLWJiMzJhYjZlODBhNdgCBOACAQ&sid=e12b90519bab632c3ffdcb360924a5c1&aid=304142&ucfs=1&arphpl=1&dest_id=97&dest_type=country&group_adults=2&req_adults=2&no_rooms=1&group_children=0&req_children=0&hpos=13&hapos=238&sr_order=popularity&srpvid=e74992fcebb600ae&srepoch=1646686492&from=searchresults#hotelTmpl': 50,\n",
       " 'https://www.booking.com/hotel/is/hvammstangi-chalets.zh-tw.html?label=gen173bo-1DCAEoggI46AdIMFgDaOcBiAEBmAEwuAEXyAEM2AED6AEB-AEDiAIBmAICqAIDuALMrZiRBsACAdICJDA4MWM3ODVkLWU3YjYtNGUwNC1hOGMzLWJiMzJhYjZlODBhNdgCBOACAQ&sid=e12b90519bab632c3ffdcb360924a5c1&aid=304142&ucfs=1&arphpl=1&dest_id=97&dest_type=country&group_adults=2&req_adults=2&no_rooms=1&group_children=0&req_children=0&hpos=14&hapos=239&sr_order=popularity&srpvid=e74992fcebb600ae&srepoch=1646686492&from=searchresults#hotelTmpl': 716,\n",
       " 'https://www.booking.com/hotel/is/post-plaza-guesthouse.zh-tw.html?label=gen173bo-1DCAEoggI46AdIMFgDaOcBiAEBmAEwuAEXyAEM2AED6AEB-AEDiAIBmAICqAIDuALMrZiRBsACAdICJDA4MWM3ODVkLWU3YjYtNGUwNC1hOGMzLWJiMzJhYjZlODBhNdgCBOACAQ&sid=e12b90519bab632c3ffdcb360924a5c1&aid=304142&ucfs=1&arphpl=1&dest_id=97&dest_type=country&group_adults=2&req_adults=2&no_rooms=1&group_children=0&req_children=0&hpos=15&hapos=240&sr_order=popularity&srpvid=e74992fcebb600ae&srepoch=1646686492&from=searchresults#hotelTmpl': 493,\n",
       " 'https://www.booking.com/hotel/is/akureyri-luxury-apartments.zh-tw.html?label=gen173bo-1DCAEoggI46AdIMFgDaOcBiAEBmAEwuAEXyAEM2AED6AEB-AEDiAIBmAICqAIDuALMrZiRBsACAdICJDA4MWM3ODVkLWU3YjYtNGUwNC1hOGMzLWJiMzJhYjZlODBhNdgCBOACAQ&sid=e12b90519bab632c3ffdcb360924a5c1&aid=304142&ucfs=1&arphpl=1&dest_id=97&dest_type=country&group_adults=2&req_adults=2&no_rooms=1&group_children=0&req_children=0&hpos=16&hapos=241&sr_order=popularity&srpvid=e74992fcebb600ae&srepoch=1646686492&from_sustainable_property_sr=1&from=searchresults#hotelTmpl': 65,\n",
       " 'https://www.booking.com/hotel/is/dis-cottages.zh-tw.html?label=gen173bo-1DCAEoggI46AdIMFgDaOcBiAEBmAEwuAEXyAEM2AED6AEB-AEDiAIBmAICqAIDuALMrZiRBsACAdICJDA4MWM3ODVkLWU3YjYtNGUwNC1hOGMzLWJiMzJhYjZlODBhNdgCBOACAQ&sid=e12b90519bab632c3ffdcb360924a5c1&aid=304142&ucfs=1&arphpl=1&dest_id=97&dest_type=country&group_adults=2&req_adults=2&no_rooms=1&group_children=0&req_children=0&hpos=17&hapos=242&sr_order=popularity&srpvid=e74992fcebb600ae&srepoch=1646686492&from=searchresults#hotelTmpl': 429,\n",
       " 'https://www.booking.com/hotel/is/ha3tel-framtaadeg.zh-tw.html?label=gen173bo-1DCAEoggI46AdIMFgDaOcBiAEBmAEwuAEXyAEM2AED6AEB-AEDiAIBmAICqAIDuALMrZiRBsACAdICJDA4MWM3ODVkLWU3YjYtNGUwNC1hOGMzLWJiMzJhYjZlODBhNdgCBOACAQ&sid=e12b90519bab632c3ffdcb360924a5c1&aid=304142&ucfs=1&arphpl=1&dest_id=97&dest_type=country&group_adults=2&req_adults=2&no_rooms=1&group_children=0&req_children=0&hpos=18&hapos=243&sr_order=popularity&srpvid=e74992fcebb600ae&srepoch=1646686492&from=searchresults#hotelTmpl': 469,\n",
       " 'https://www.booking.com/hotel/is/gladheimar.zh-tw.html?label=gen173bo-1DCAEoggI46AdIMFgDaOcBiAEBmAEwuAEXyAEM2AED6AEB-AEDiAIBmAICqAIDuALMrZiRBsACAdICJDA4MWM3ODVkLWU3YjYtNGUwNC1hOGMzLWJiMzJhYjZlODBhNdgCBOACAQ&sid=e12b90519bab632c3ffdcb360924a5c1&aid=304142&ucfs=1&arphpl=1&dest_id=97&dest_type=country&group_adults=2&req_adults=2&no_rooms=1&group_children=0&req_children=0&hpos=19&hapos=244&sr_order=popularity&srpvid=e74992fcebb600ae&srepoch=1646686492&from=searchresults#hotelTmpl': 508,\n",
       " 'https://www.booking.com/hotel/is/helgugata.zh-tw.html?label=gen173bo-1DCAEoggI46AdIMFgDaOcBiAEBmAEwuAEXyAEM2AED6AEB-AEDiAIBmAICqAIDuALMrZiRBsACAdICJDA4MWM3ODVkLWU3YjYtNGUwNC1hOGMzLWJiMzJhYjZlODBhNdgCBOACAQ&sid=e12b90519bab632c3ffdcb360924a5c1&aid=304142&ucfs=1&arphpl=1&dest_id=97&dest_type=country&group_adults=2&req_adults=2&no_rooms=1&group_children=0&req_children=0&hpos=20&hapos=245&sr_order=popularity&srpvid=e74992fcebb600ae&srepoch=1646686492&from=searchresults#hotelTmpl': 189,\n",
       " 'https://www.booking.com/hotel/is/grey-apartments.zh-tw.html?label=gen173bo-1DCAEoggI46AdIMFgDaOcBiAEBmAEwuAEXyAEM2AED6AEB-AEDiAIBmAICqAIDuALMrZiRBsACAdICJDA4MWM3ODVkLWU3YjYtNGUwNC1hOGMzLWJiMzJhYjZlODBhNdgCBOACAQ&sid=e12b90519bab632c3ffdcb360924a5c1&aid=304142&ucfs=1&arphpl=1&dest_id=97&dest_type=country&group_adults=2&req_adults=2&no_rooms=1&group_children=0&req_children=0&hpos=21&hapos=246&sr_order=popularity&srpvid=e74992fcebb600ae&srepoch=1646686492&from=searchresults#hotelTmpl': 255,\n",
       " 'https://www.booking.com/hotel/is/downtown-rekjavik-apartment.zh-tw.html?label=gen173bo-1DCAEoggI46AdIMFgDaOcBiAEBmAEwuAEXyAEM2AED6AEB-AEDiAIBmAICqAIDuALMrZiRBsACAdICJDA4MWM3ODVkLWU3YjYtNGUwNC1hOGMzLWJiMzJhYjZlODBhNdgCBOACAQ&sid=e12b90519bab632c3ffdcb360924a5c1&aid=304142&ucfs=1&arphpl=1&dest_id=97&dest_type=country&group_adults=2&req_adults=2&no_rooms=1&group_children=0&req_children=0&hpos=22&hapos=247&sr_order=popularity&srpvid=e74992fcebb600ae&srepoch=1646686492&from_sustainable_property_sr=1&from=searchresults#hotelTmpl': 1853,\n",
       " 'https://www.booking.com/hotel/is/guesthouse-hof-in-vatnsdalur.zh-tw.html?label=gen173bo-1DCAEoggI46AdIMFgDaOcBiAEBmAEwuAEXyAEM2AED6AEB-AEDiAIBmAICqAIDuALMrZiRBsACAdICJDA4MWM3ODVkLWU3YjYtNGUwNC1hOGMzLWJiMzJhYjZlODBhNdgCBOACAQ&sid=e12b90519bab632c3ffdcb360924a5c1&aid=304142&ucfs=1&arphpl=1&dest_id=97&dest_type=country&group_adults=2&req_adults=2&no_rooms=1&group_children=0&req_children=0&hpos=23&hapos=248&sr_order=popularity&srpvid=e74992fcebb600ae&srepoch=1646686492&from=searchresults#hotelTmpl': 42,\n",
       " 'https://www.booking.com/hotel/is/hotelviking.zh-tw.html?label=gen173bo-1DCAEoggI46AdIMFgDaOcBiAEBmAEwuAEXyAEM2AED6AEB-AEDiAIBmAICqAIDuALMrZiRBsACAdICJDA4MWM3ODVkLWU3YjYtNGUwNC1hOGMzLWJiMzJhYjZlODBhNdgCBOACAQ&sid=e12b90519bab632c3ffdcb360924a5c1&aid=304142&ucfs=1&arphpl=1&dest_id=97&dest_type=country&group_adults=2&req_adults=2&no_rooms=1&group_children=0&req_children=0&hpos=24&hapos=249&sr_order=popularity&srpvid=e74992fcebb600ae&srepoch=1646686492&from=searchresults#hotelTmpl': 1001,\n",
       " 'https://www.booking.com/hotel/is/midholl-guesthouse.zh-tw.html?label=gen173bo-1DCAEoggI46AdIMFgDaOcBiAEBmAEwuAEXyAEM2AED6AEB-AEDiAIBmAICqAIDuALMrZiRBsACAdICJDA4MWM3ODVkLWU3YjYtNGUwNC1hOGMzLWJiMzJhYjZlODBhNdgCBOACAQ&sid=e12b90519bab632c3ffdcb360924a5c1&aid=304142&ucfs=1&arphpl=1&dest_id=97&dest_type=country&group_adults=2&req_adults=2&no_rooms=1&group_children=0&req_children=0&hpos=25&hapos=250&sr_order=popularity&srpvid=e74992fcebb600ae&srepoch=1646686492&from=searchresults#hotelTmpl': 59,\n",
       " 'https://www.booking.com/hotel/is/blue-view-3a.zh-tw.html?label=gen173bo-1DCAEoggI46AdIMFgDaOcBiAEBmAEwuAEXyAEM2AED6AEB-AEDiAIBmAICqAIDuALMrZiRBsACAdICJDA4MWM3ODVkLWU3YjYtNGUwNC1hOGMzLWJiMzJhYjZlODBhNdgCBOACAQ&sid=e12b90519bab632c3ffdcb360924a5c1&aid=304142&ucfs=1&arphpl=1&dest_id=97&dest_type=country&group_adults=2&req_adults=2&no_rooms=1&group_children=0&req_children=0&hpos=1&hapos=251&sr_order=popularity&srpvid=e74992fcebb600ae&srepoch=1646686496&from=searchresults#hotelTmpl': 82,\n",
       " 'https://www.booking.com/hotel/is/einholt-guesthouse.zh-tw.html?label=gen173bo-1DCAEoggI46AdIMFgDaOcBiAEBmAEwuAEXyAEM2AED6AEB-AEDiAIBmAICqAIDuALMrZiRBsACAdICJDA4MWM3ODVkLWU3YjYtNGUwNC1hOGMzLWJiMzJhYjZlODBhNdgCBOACAQ&sid=e12b90519bab632c3ffdcb360924a5c1&aid=304142&ucfs=1&arphpl=1&dest_id=97&dest_type=country&group_adults=2&req_adults=2&no_rooms=1&group_children=0&req_children=0&hpos=2&hapos=252&sr_order=popularity&srpvid=e74992fcebb600ae&srepoch=1646686496&from=searchresults#hotelTmpl': 1271,\n",
       " 'https://www.booking.com/hotel/is/baenir-og-braud-stykkisholmur.zh-tw.html?label=gen173bo-1DCAEoggI46AdIMFgDaOcBiAEBmAEwuAEXyAEM2AED6AEB-AEDiAIBmAICqAIDuALMrZiRBsACAdICJDA4MWM3ODVkLWU3YjYtNGUwNC1hOGMzLWJiMzJhYjZlODBhNdgCBOACAQ&sid=e12b90519bab632c3ffdcb360924a5c1&aid=304142&ucfs=1&arphpl=1&dest_id=97&dest_type=country&group_adults=2&req_adults=2&no_rooms=1&group_children=0&req_children=0&hpos=3&hapos=253&sr_order=popularity&srpvid=e74992fcebb600ae&srepoch=1646686496&from=searchresults#hotelTmpl': 323,\n",
       " 'https://www.booking.com/hotel/is/hof-1-hotel.zh-tw.html?label=gen173bo-1DCAEoggI46AdIMFgDaOcBiAEBmAEwuAEXyAEM2AED6AEB-AEDiAIBmAICqAIDuALMrZiRBsACAdICJDA4MWM3ODVkLWU3YjYtNGUwNC1hOGMzLWJiMzJhYjZlODBhNdgCBOACAQ&sid=e12b90519bab632c3ffdcb360924a5c1&aid=304142&ucfs=1&arphpl=1&dest_id=97&dest_type=country&group_adults=2&req_adults=2&no_rooms=1&group_children=0&req_children=0&hpos=4&hapos=254&sr_order=popularity&srpvid=e74992fcebb600ae&srepoch=1646686496&from=searchresults#hotelTmpl': 2542,\n",
       " 'https://www.booking.com/hotel/is/hitarnesfjorur.zh-tw.html?label=gen173bo-1DCAEoggI46AdIMFgDaOcBiAEBmAEwuAEXyAEM2AED6AEB-AEDiAIBmAICqAIDuALMrZiRBsACAdICJDA4MWM3ODVkLWU3YjYtNGUwNC1hOGMzLWJiMzJhYjZlODBhNdgCBOACAQ&sid=e12b90519bab632c3ffdcb360924a5c1&aid=304142&ucfs=1&arphpl=1&dest_id=97&dest_type=country&group_adults=2&req_adults=2&no_rooms=1&group_children=0&req_children=0&hpos=5&hapos=255&sr_order=popularity&srpvid=e74992fcebb600ae&srepoch=1646686496&from=searchresults#hotelTmpl': 90,\n",
       " 'https://www.booking.com/hotel/is/armot.zh-tw.html?label=gen173bo-1DCAEoggI46AdIMFgDaOcBiAEBmAEwuAEXyAEM2AED6AEB-AEDiAIBmAICqAIDuALMrZiRBsACAdICJDA4MWM3ODVkLWU3YjYtNGUwNC1hOGMzLWJiMzJhYjZlODBhNdgCBOACAQ&sid=e12b90519bab632c3ffdcb360924a5c1&aid=304142&ucfs=1&arphpl=1&dest_id=97&dest_type=country&group_adults=2&req_adults=2&no_rooms=1&group_children=0&req_children=0&hpos=6&hapos=256&sr_order=popularity&srpvid=e74992fcebb600ae&srepoch=1646686496&from=searchresults#hotelTmpl': 230,\n",
       " 'https://www.booking.com/hotel/is/vikinkcafe.zh-tw.html?label=gen173bo-1DCAEoggI46AdIMFgDaOcBiAEBmAEwuAEXyAEM2AED6AEB-AEDiAIBmAICqAIDuALMrZiRBsACAdICJDA4MWM3ODVkLWU3YjYtNGUwNC1hOGMzLWJiMzJhYjZlODBhNdgCBOACAQ&sid=e12b90519bab632c3ffdcb360924a5c1&aid=304142&ucfs=1&arphpl=1&dest_id=97&dest_type=country&group_adults=2&req_adults=2&no_rooms=1&group_children=0&req_children=0&hpos=7&hapos=257&sr_order=popularity&srpvid=e74992fcebb600ae&srepoch=1646686496&from=searchresults#hotelTmpl': 781,\n",
       " 'https://www.booking.com/hotel/is/helgafell-2-helgafellssveit.zh-tw.html?label=gen173bo-1DCAEoggI46AdIMFgDaOcBiAEBmAEwuAEXyAEM2AED6AEB-AEDiAIBmAICqAIDuALMrZiRBsACAdICJDA4MWM3ODVkLWU3YjYtNGUwNC1hOGMzLWJiMzJhYjZlODBhNdgCBOACAQ&sid=e12b90519bab632c3ffdcb360924a5c1&aid=304142&ucfs=1&arphpl=1&dest_id=97&dest_type=country&group_adults=2&req_adults=2&no_rooms=1&group_children=0&req_children=0&hpos=8&hapos=258&sr_order=popularity&srpvid=e74992fcebb600ae&srepoch=1646686496&from=searchresults#hotelTmpl': 602,\n",
       " 'https://www.booking.com/hotel/is/sudurgisting.zh-tw.html?label=gen173bo-1DCAEoggI46AdIMFgDaOcBiAEBmAEwuAEXyAEM2AED6AEB-AEDiAIBmAICqAIDuALMrZiRBsACAdICJDA4MWM3ODVkLWU3YjYtNGUwNC1hOGMzLWJiMzJhYjZlODBhNdgCBOACAQ&sid=e12b90519bab632c3ffdcb360924a5c1&aid=304142&ucfs=1&arphpl=1&dest_id=97&dest_type=country&group_adults=2&req_adults=2&no_rooms=1&group_children=0&req_children=0&hpos=9&hapos=259&sr_order=popularity&srpvid=e74992fcebb600ae&srepoch=1646686496&from=searchresults#hotelTmpl': 69,\n",
       " 'https://www.booking.com/hotel/is/seljalandsfoss-horizons.zh-tw.html?label=gen173bo-1DCAEoggI46AdIMFgDaOcBiAEBmAEwuAEXyAEM2AED6AEB-AEDiAIBmAICqAIDuALMrZiRBsACAdICJDA4MWM3ODVkLWU3YjYtNGUwNC1hOGMzLWJiMzJhYjZlODBhNdgCBOACAQ&sid=e12b90519bab632c3ffdcb360924a5c1&aid=304142&ucfs=1&arphpl=1&dest_id=97&dest_type=country&group_adults=2&req_adults=2&no_rooms=1&group_children=0&req_children=0&hpos=10&hapos=260&sr_order=popularity&srpvid=e74992fcebb600ae&srepoch=1646686496&from=searchresults#hotelTmpl': 178,\n",
       " 'https://www.booking.com/hotel/is/island-apartments.zh-tw.html?label=gen173bo-1DCAEoggI46AdIMFgDaOcBiAEBmAEwuAEXyAEM2AED6AEB-AEDiAIBmAICqAIDuALMrZiRBsACAdICJDA4MWM3ODVkLWU3YjYtNGUwNC1hOGMzLWJiMzJhYjZlODBhNdgCBOACAQ&sid=e12b90519bab632c3ffdcb360924a5c1&aid=304142&ucfs=1&arphpl=1&dest_id=97&dest_type=country&group_adults=2&req_adults=2&no_rooms=1&group_children=0&req_children=0&hpos=11&hapos=261&sr_order=popularity&srpvid=e74992fcebb600ae&srepoch=1646686496&from_sustainable_property_sr=1&from=searchresults#hotelTmpl': 467,\n",
       " 'https://www.booking.com/hotel/is/raven-b-and-b.zh-tw.html?label=gen173bo-1DCAEoggI46AdIMFgDaOcBiAEBmAEwuAEXyAEM2AED6AEB-AEDiAIBmAICqAIDuALMrZiRBsACAdICJDA4MWM3ODVkLWU3YjYtNGUwNC1hOGMzLWJiMzJhYjZlODBhNdgCBOACAQ&sid=e12b90519bab632c3ffdcb360924a5c1&aid=304142&ucfs=1&arphpl=1&dest_id=97&dest_type=country&group_adults=2&req_adults=2&no_rooms=1&group_children=0&req_children=0&hpos=12&hapos=262&sr_order=popularity&srpvid=e74992fcebb600ae&srepoch=1646686496&from=searchresults#hotelTmpl': 377,\n",
       " 'https://www.booking.com/hotel/is/varmaland-villa.zh-tw.html?label=gen173bo-1DCAEoggI46AdIMFgDaOcBiAEBmAEwuAEXyAEM2AED6AEB-AEDiAIBmAICqAIDuALMrZiRBsACAdICJDA4MWM3ODVkLWU3YjYtNGUwNC1hOGMzLWJiMzJhYjZlODBhNdgCBOACAQ&sid=e12b90519bab632c3ffdcb360924a5c1&aid=304142&ucfs=1&arphpl=1&dest_id=97&dest_type=country&group_adults=2&req_adults=2&no_rooms=1&group_children=0&req_children=0&hpos=13&hapos=263&sr_order=popularity&srpvid=e74992fcebb600ae&srepoch=1646686496&from_sustainable_property_sr=1&from=searchresults#hotelTmpl': 17,\n",
       " 'https://www.booking.com/hotel/is/ava-apartments.zh-tw.html?label=gen173bo-1DCAEoggI46AdIMFgDaOcBiAEBmAEwuAEXyAEM2AED6AEB-AEDiAIBmAICqAIDuALMrZiRBsACAdICJDA4MWM3ODVkLWU3YjYtNGUwNC1hOGMzLWJiMzJhYjZlODBhNdgCBOACAQ&sid=e12b90519bab632c3ffdcb360924a5c1&aid=304142&ucfs=1&arphpl=1&dest_id=97&dest_type=country&group_adults=2&req_adults=2&no_rooms=1&group_children=0&req_children=0&hpos=14&hapos=264&sr_order=popularity&srpvid=e74992fcebb600ae&srepoch=1646686496&from=searchresults#hotelTmpl': 193,\n",
       " 'https://www.booking.com/hotel/is/hvassahraun-cabin-by-the-sea-vogar.zh-tw.html?label=gen173bo-1DCAEoggI46AdIMFgDaOcBiAEBmAEwuAEXyAEM2AED6AEB-AEDiAIBmAICqAIDuALMrZiRBsACAdICJDA4MWM3ODVkLWU3YjYtNGUwNC1hOGMzLWJiMzJhYjZlODBhNdgCBOACAQ&sid=e12b90519bab632c3ffdcb360924a5c1&aid=304142&ucfs=1&arphpl=1&dest_id=97&dest_type=country&group_adults=2&req_adults=2&no_rooms=1&group_children=0&req_children=0&hpos=15&hapos=265&sr_order=popularity&srpvid=e74992fcebb600ae&srepoch=1646686496&from=searchresults#hotelTmpl': 52,\n",
       " 'https://www.booking.com/hotel/is/alfreds-apartments.zh-tw.html?label=gen173bo-1DCAEoggI46AdIMFgDaOcBiAEBmAEwuAEXyAEM2AED6AEB-AEDiAIBmAICqAIDuALMrZiRBsACAdICJDA4MWM3ODVkLWU3YjYtNGUwNC1hOGMzLWJiMzJhYjZlODBhNdgCBOACAQ&sid=e12b90519bab632c3ffdcb360924a5c1&aid=304142&ucfs=1&arphpl=1&dest_id=97&dest_type=country&group_adults=2&req_adults=2&no_rooms=1&group_children=0&req_children=0&hpos=16&hapos=266&sr_order=popularity&srpvid=e74992fcebb600ae&srepoch=1646686496&from_sustainable_property_sr=1&from=searchresults#hotelTmpl': 427,\n",
       " 'https://www.booking.com/hotel/is/svartiskogur.zh-tw.html?label=gen173bo-1DCAEoggI46AdIMFgDaOcBiAEBmAEwuAEXyAEM2AED6AEB-AEDiAIBmAICqAIDuALMrZiRBsACAdICJDA4MWM3ODVkLWU3YjYtNGUwNC1hOGMzLWJiMzJhYjZlODBhNdgCBOACAQ&sid=e12b90519bab632c3ffdcb360924a5c1&aid=304142&ucfs=1&arphpl=1&dest_id=97&dest_type=country&group_adults=2&req_adults=2&no_rooms=1&group_children=0&req_children=0&hpos=17&hapos=267&sr_order=popularity&srpvid=e74992fcebb600ae&srepoch=1646686496&from=searchresults#hotelTmpl': 114,\n",
       " 'https://www.booking.com/hotel/is/hafdals-gistiheimili.zh-tw.html?label=gen173bo-1DCAEoggI46AdIMFgDaOcBiAEBmAEwuAEXyAEM2AED6AEB-AEDiAIBmAICqAIDuALMrZiRBsACAdICJDA4MWM3ODVkLWU3YjYtNGUwNC1hOGMzLWJiMzJhYjZlODBhNdgCBOACAQ&sid=e12b90519bab632c3ffdcb360924a5c1&aid=304142&ucfs=1&arphpl=1&dest_id=97&dest_type=country&group_adults=2&req_adults=2&no_rooms=1&group_children=0&req_children=0&hpos=18&hapos=268&sr_order=popularity&srpvid=e74992fcebb600ae&srepoch=1646686496&from_sustainable_property_sr=1&from=searchresults#hotelTmpl': 255,\n",
       " 'https://www.booking.com/hotel/is/bolholt.zh-tw.html?label=gen173bo-1DCAEoggI46AdIMFgDaOcBiAEBmAEwuAEXyAEM2AED6AEB-AEDiAIBmAICqAIDuALMrZiRBsACAdICJDA4MWM3ODVkLWU3YjYtNGUwNC1hOGMzLWJiMzJhYjZlODBhNdgCBOACAQ&sid=e12b90519bab632c3ffdcb360924a5c1&aid=304142&ucfs=1&arphpl=1&dest_id=97&dest_type=country&group_adults=2&req_adults=2&no_rooms=1&group_children=0&req_children=0&hpos=19&hapos=269&sr_order=popularity&srpvid=e74992fcebb600ae&srepoch=1646686496&from=searchresults#hotelTmpl': 1899,\n",
       " 'https://www.booking.com/hotel/is/art-centrum-apartments.zh-tw.html?label=gen173bo-1DCAEoggI46AdIMFgDaOcBiAEBmAEwuAEXyAEM2AED6AEB-AEDiAIBmAICqAIDuALMrZiRBsACAdICJDA4MWM3ODVkLWU3YjYtNGUwNC1hOGMzLWJiMzJhYjZlODBhNdgCBOACAQ&sid=e12b90519bab632c3ffdcb360924a5c1&aid=304142&ucfs=1&arphpl=1&dest_id=97&dest_type=country&group_adults=2&req_adults=2&no_rooms=1&group_children=0&req_children=0&hpos=20&hapos=270&sr_order=popularity&srpvid=e74992fcebb600ae&srepoch=1646686496&from=searchresults#hotelTmpl': 94,\n",
       " 'https://www.booking.com/hotel/is/berg.zh-tw.html?label=gen173bo-1DCAEoggI46AdIMFgDaOcBiAEBmAEwuAEXyAEM2AED6AEB-AEDiAIBmAICqAIDuALMrZiRBsACAdICJDA4MWM3ODVkLWU3YjYtNGUwNC1hOGMzLWJiMzJhYjZlODBhNdgCBOACAQ&sid=e12b90519bab632c3ffdcb360924a5c1&aid=304142&ucfs=1&arphpl=1&dest_id=97&dest_type=country&group_adults=2&req_adults=2&no_rooms=1&group_children=0&req_children=0&hpos=21&hapos=271&sr_order=popularity&srpvid=e74992fcebb600ae&srepoch=1646686496&from=searchresults#hotelTmpl': 1164,\n",
       " 'https://www.booking.com/hotel/is/hali-country.zh-tw.html?label=gen173bo-1DCAEoggI46AdIMFgDaOcBiAEBmAEwuAEXyAEM2AED6AEB-AEDiAIBmAICqAIDuALMrZiRBsACAdICJDA4MWM3ODVkLWU3YjYtNGUwNC1hOGMzLWJiMzJhYjZlODBhNdgCBOACAQ&sid=e12b90519bab632c3ffdcb360924a5c1&aid=304142&ucfs=1&arphpl=1&dest_id=97&dest_type=country&group_adults=2&req_adults=2&no_rooms=1&group_children=0&req_children=0&hpos=22&hapos=272&sr_order=popularity&srpvid=e74992fcebb600ae&srepoch=1646686496&from=searchresults#hotelTmpl': 1722,\n",
       " 'https://www.booking.com/hotel/is/breidamyri-farm-apartments.zh-tw.html?label=gen173bo-1DCAEoggI46AdIMFgDaOcBiAEBmAEwuAEXyAEM2AED6AEB-AEDiAIBmAICqAIDuALMrZiRBsACAdICJDA4MWM3ODVkLWU3YjYtNGUwNC1hOGMzLWJiMzJhYjZlODBhNdgCBOACAQ&sid=e12b90519bab632c3ffdcb360924a5c1&aid=304142&ucfs=1&arphpl=1&dest_id=97&dest_type=country&group_adults=2&req_adults=2&no_rooms=1&group_children=0&req_children=0&hpos=23&hapos=273&sr_order=popularity&srpvid=e74992fcebb600ae&srepoch=1646686496&from=searchresults#hotelTmpl': 318,\n",
       " 'https://www.booking.com/hotel/is/guesthouse-flying-viking.zh-tw.html?label=gen173bo-1DCAEoggI46AdIMFgDaOcBiAEBmAEwuAEXyAEM2AED6AEB-AEDiAIBmAICqAIDuALMrZiRBsACAdICJDA4MWM3ODVkLWU3YjYtNGUwNC1hOGMzLWJiMzJhYjZlODBhNdgCBOACAQ&sid=e12b90519bab632c3ffdcb360924a5c1&aid=304142&ucfs=1&arphpl=1&dest_id=97&dest_type=country&group_adults=2&req_adults=2&no_rooms=1&group_children=0&req_children=0&hpos=24&hapos=274&sr_order=popularity&srpvid=e74992fcebb600ae&srepoch=1646686496&from=searchresults#hotelTmpl': 550,\n",
       " 'https://www.booking.com/hotel/is/sem-apartments.zh-tw.html?label=gen173bo-1DCAEoggI46AdIMFgDaOcBiAEBmAEwuAEXyAEM2AED6AEB-AEDiAIBmAICqAIDuALMrZiRBsACAdICJDA4MWM3ODVkLWU3YjYtNGUwNC1hOGMzLWJiMzJhYjZlODBhNdgCBOACAQ&sid=e12b90519bab632c3ffdcb360924a5c1&aid=304142&ucfs=1&arphpl=1&dest_id=97&dest_type=country&group_adults=2&req_adults=2&no_rooms=1&group_children=0&req_children=0&hpos=25&hapos=275&sr_order=popularity&srpvid=e74992fcebb600ae&srepoch=1646686496&from_sustainable_property_sr=1&from=searchresults#hotelTmpl': 218,\n",
       " 'https://www.booking.com/hotel/is/guesthouse-galleri-vik.zh-tw.html?label=gen173bo-1DCAEoggI46AdIMFgDaOcBiAEBmAEwuAEXyAEM2AED6AEB-AEDiAIBmAICqAIDuALMrZiRBsACAdICJDA4MWM3ODVkLWU3YjYtNGUwNC1hOGMzLWJiMzJhYjZlODBhNdgCBOACAQ&sid=e12b90519bab632c3ffdcb360924a5c1&aid=304142&ucfs=1&arphpl=1&dest_id=97&dest_type=country&group_adults=2&req_adults=2&no_rooms=1&group_children=0&req_children=0&hpos=1&hapos=276&sr_order=popularity&srpvid=e74992fcebb600ae&srepoch=1646686500&from_sustainable_property_sr=1&from=searchresults#hotelTmpl': 655,\n",
       " 'https://www.booking.com/hotel/is/arbot-hostel-husavik12.zh-tw.html?label=gen173bo-1DCAEoggI46AdIMFgDaOcBiAEBmAEwuAEXyAEM2AED6AEB-AEDiAIBmAICqAIDuALMrZiRBsACAdICJDA4MWM3ODVkLWU3YjYtNGUwNC1hOGMzLWJiMzJhYjZlODBhNdgCBOACAQ&sid=e12b90519bab632c3ffdcb360924a5c1&aid=304142&ucfs=1&arphpl=1&dest_id=97&dest_type=country&group_adults=2&req_adults=2&no_rooms=1&group_children=0&req_children=0&hpos=2&hapos=277&sr_order=popularity&srpvid=e74992fcebb600ae&srepoch=1646686500&from=searchresults#hotelTmpl': 192,\n",
       " 'https://www.booking.com/hotel/is/framnes.zh-tw.html?label=gen173bo-1DCAEoggI46AdIMFgDaOcBiAEBmAEwuAEXyAEM2AED6AEB-AEDiAIBmAICqAIDuALMrZiRBsACAdICJDA4MWM3ODVkLWU3YjYtNGUwNC1hOGMzLWJiMzJhYjZlODBhNdgCBOACAQ&sid=e12b90519bab632c3ffdcb360924a5c1&aid=304142&ucfs=1&arphpl=1&dest_id=97&dest_type=country&group_adults=2&req_adults=2&no_rooms=1&group_children=0&req_children=0&hpos=3&hapos=278&sr_order=popularity&srpvid=e74992fcebb600ae&srepoch=1646686500&from=searchresults#hotelTmpl': 410,\n",
       " 'https://www.booking.com/hotel/is/hotelvik.zh-tw.html?label=gen173bo-1DCAEoggI46AdIMFgDaOcBiAEBmAEwuAEXyAEM2AED6AEB-AEDiAIBmAICqAIDuALMrZiRBsACAdICJDA4MWM3ODVkLWU3YjYtNGUwNC1hOGMzLWJiMzJhYjZlODBhNdgCBOACAQ&sid=e12b90519bab632c3ffdcb360924a5c1&aid=304142&ucfs=1&arphpl=1&dest_id=97&dest_type=country&group_adults=2&req_adults=2&no_rooms=1&group_children=0&req_children=0&hpos=4&hapos=279&sr_order=popularity&srpvid=e74992fcebb600ae&srepoch=1646686500&from=searchresults#hotelTmpl': 53,\n",
       " 'https://www.booking.com/hotel/is/b14-guest-house.zh-tw.html?label=gen173bo-1DCAEoggI46AdIMFgDaOcBiAEBmAEwuAEXyAEM2AED6AEB-AEDiAIBmAICqAIDuALMrZiRBsACAdICJDA4MWM3ODVkLWU3YjYtNGUwNC1hOGMzLWJiMzJhYjZlODBhNdgCBOACAQ&sid=e12b90519bab632c3ffdcb360924a5c1&aid=304142&ucfs=1&arphpl=1&dest_id=97&dest_type=country&group_adults=2&req_adults=2&no_rooms=1&group_children=0&req_children=0&hpos=5&hapos=280&sr_order=popularity&srpvid=e74992fcebb600ae&srepoch=1646686500&from=searchresults#hotelTmpl': 93,\n",
       " 'https://www.booking.com/hotel/is/brunnholl-country-guesthouse.zh-tw.html?label=gen173bo-1DCAEoggI46AdIMFgDaOcBiAEBmAEwuAEXyAEM2AED6AEB-AEDiAIBmAICqAIDuALMrZiRBsACAdICJDA4MWM3ODVkLWU3YjYtNGUwNC1hOGMzLWJiMzJhYjZlODBhNdgCBOACAQ&sid=e12b90519bab632c3ffdcb360924a5c1&aid=304142&ucfs=1&arphpl=1&dest_id=97&dest_type=country&group_adults=2&req_adults=2&no_rooms=1&group_children=0&req_children=0&hpos=6&hapos=281&sr_order=popularity&srpvid=e74992fcebb600ae&srepoch=1646686500&from=searchresults#hotelTmpl': 686,\n",
       " 'https://www.booking.com/hotel/is/ice-apartments-reykjavik.zh-tw.html?label=gen173bo-1DCAEoggI46AdIMFgDaOcBiAEBmAEwuAEXyAEM2AED6AEB-AEDiAIBmAICqAIDuALMrZiRBsACAdICJDA4MWM3ODVkLWU3YjYtNGUwNC1hOGMzLWJiMzJhYjZlODBhNdgCBOACAQ&sid=e12b90519bab632c3ffdcb360924a5c1&aid=304142&ucfs=1&arphpl=1&dest_id=97&dest_type=country&group_adults=2&req_adults=2&no_rooms=1&group_children=0&req_children=0&hpos=7&hapos=282&sr_order=popularity&srpvid=e74992fcebb600ae&srepoch=1646686500&from=searchresults#hotelTmpl': 204,\n",
       " 'https://www.booking.com/hotel/is/skogafoss.zh-tw.html?label=gen173bo-1DCAEoggI46AdIMFgDaOcBiAEBmAEwuAEXyAEM2AED6AEB-AEDiAIBmAICqAIDuALMrZiRBsACAdICJDA4MWM3ODVkLWU3YjYtNGUwNC1hOGMzLWJiMzJhYjZlODBhNdgCBOACAQ&sid=e12b90519bab632c3ffdcb360924a5c1&aid=304142&ucfs=1&arphpl=1&dest_id=97&dest_type=country&group_adults=2&req_adults=2&no_rooms=1&group_children=0&req_children=0&hpos=8&hapos=283&sr_order=popularity&srpvid=e74992fcebb600ae&srepoch=1646686500&from=searchresults#hotelTmpl': 900,\n",
       " 'https://www.booking.com/hotel/is/bsg-apartments.zh-tw.html?label=gen173bo-1DCAEoggI46AdIMFgDaOcBiAEBmAEwuAEXyAEM2AED6AEB-AEDiAIBmAICqAIDuALMrZiRBsACAdICJDA4MWM3ODVkLWU3YjYtNGUwNC1hOGMzLWJiMzJhYjZlODBhNdgCBOACAQ&sid=e12b90519bab632c3ffdcb360924a5c1&aid=304142&ucfs=1&arphpl=1&dest_id=97&dest_type=country&group_adults=2&req_adults=2&no_rooms=1&group_children=0&req_children=0&hpos=9&hapos=284&sr_order=popularity&srpvid=e74992fcebb600ae&srepoch=1646686500&from=searchresults#hotelTmpl': 229,\n",
       " 'https://www.booking.com/hotel/is/kriunes-hotel.zh-tw.html?label=gen173bo-1DCAEoggI46AdIMFgDaOcBiAEBmAEwuAEXyAEM2AED6AEB-AEDiAIBmAICqAIDuALMrZiRBsACAdICJDA4MWM3ODVkLWU3YjYtNGUwNC1hOGMzLWJiMzJhYjZlODBhNdgCBOACAQ&sid=e12b90519bab632c3ffdcb360924a5c1&aid=304142&ucfs=1&arphpl=1&dest_id=97&dest_type=country&group_adults=2&req_adults=2&no_rooms=1&group_children=0&req_children=0&hpos=10&hapos=285&sr_order=popularity&srpvid=e74992fcebb600ae&srepoch=1646686500&from_sustainable_property_sr=1&from=searchresults#hotelTmpl': 769,\n",
       " 'https://www.booking.com/hotel/is/grindavik.zh-tw.html?label=gen173bo-1DCAEoggI46AdIMFgDaOcBiAEBmAEwuAEXyAEM2AED6AEB-AEDiAIBmAICqAIDuALMrZiRBsACAdICJDA4MWM3ODVkLWU3YjYtNGUwNC1hOGMzLWJiMzJhYjZlODBhNdgCBOACAQ&sid=e12b90519bab632c3ffdcb360924a5c1&aid=304142&ucfs=1&arphpl=1&dest_id=97&dest_type=country&group_adults=2&req_adults=2&no_rooms=1&group_children=0&req_children=0&hpos=11&hapos=286&sr_order=popularity&srpvid=e74992fcebb600ae&srepoch=1646686500&from_sustainable_property_sr=1&from=searchresults#hotelTmpl': 921,\n",
       " 'https://www.booking.com/hotel/is/hlid-bed-and-breakfast.zh-tw.html?label=gen173bo-1DCAEoggI46AdIMFgDaOcBiAEBmAEwuAEXyAEM2AED6AEB-AEDiAIBmAICqAIDuALMrZiRBsACAdICJDA4MWM3ODVkLWU3YjYtNGUwNC1hOGMzLWJiMzJhYjZlODBhNdgCBOACAQ&sid=e12b90519bab632c3ffdcb360924a5c1&aid=304142&ucfs=1&arphpl=1&dest_id=97&dest_type=country&group_adults=2&req_adults=2&no_rooms=1&group_children=0&req_children=0&hpos=12&hapos=287&sr_order=popularity&srpvid=e74992fcebb600ae&srepoch=1646686500&from_sustainable_property_sr=1&from=searchresults#hotelTmpl': 436,\n",
       " 'https://www.booking.com/hotel/is/aadeginsva-c-apartments.zh-tw.html?label=gen173bo-1DCAEoggI46AdIMFgDaOcBiAEBmAEwuAEXyAEM2AED6AEB-AEDiAIBmAICqAIDuALMrZiRBsACAdICJDA4MWM3ODVkLWU3YjYtNGUwNC1hOGMzLWJiMzJhYjZlODBhNdgCBOACAQ&sid=e12b90519bab632c3ffdcb360924a5c1&aid=304142&ucfs=1&arphpl=1&dest_id=97&dest_type=country&group_adults=2&req_adults=2&no_rooms=1&group_children=0&req_children=0&hpos=13&hapos=288&sr_order=popularity&srpvid=e74992fcebb600ae&srepoch=1646686500&from=searchresults#hotelTmpl': 439,\n",
       " 'https://www.booking.com/hotel/is/t10-iceland.zh-tw.html?label=gen173bo-1DCAEoggI46AdIMFgDaOcBiAEBmAEwuAEXyAEM2AED6AEB-AEDiAIBmAICqAIDuALMrZiRBsACAdICJDA4MWM3ODVkLWU3YjYtNGUwNC1hOGMzLWJiMzJhYjZlODBhNdgCBOACAQ&sid=e12b90519bab632c3ffdcb360924a5c1&aid=304142&ucfs=1&arphpl=1&dest_id=97&dest_type=country&group_adults=2&req_adults=2&no_rooms=1&group_children=0&req_children=0&hpos=14&hapos=289&sr_order=popularity&srpvid=e74992fcebb600ae&srepoch=1646686500&from=searchresults#hotelTmpl': 786,\n",
       " 'https://www.booking.com/hotel/is/lynghagi-house.zh-tw.html?label=gen173bo-1DCAEoggI46AdIMFgDaOcBiAEBmAEwuAEXyAEM2AED6AEB-AEDiAIBmAICqAIDuALMrZiRBsACAdICJDA4MWM3ODVkLWU3YjYtNGUwNC1hOGMzLWJiMzJhYjZlODBhNdgCBOACAQ&sid=e12b90519bab632c3ffdcb360924a5c1&aid=304142&ucfs=1&arphpl=1&dest_id=97&dest_type=country&group_adults=2&req_adults=2&no_rooms=1&group_children=0&req_children=0&hpos=15&hapos=290&sr_order=popularity&srpvid=e74992fcebb600ae&srepoch=1646686500&from=searchresults#hotelTmpl': 47,\n",
       " 'https://www.booking.com/hotel/is/klettar-tower.zh-tw.html?label=gen173bo-1DCAEoggI46AdIMFgDaOcBiAEBmAEwuAEXyAEM2AED6AEB-AEDiAIBmAICqAIDuALMrZiRBsACAdICJDA4MWM3ODVkLWU3YjYtNGUwNC1hOGMzLWJiMzJhYjZlODBhNdgCBOACAQ&sid=e12b90519bab632c3ffdcb360924a5c1&aid=304142&ucfs=1&arphpl=1&dest_id=97&dest_type=country&group_adults=2&req_adults=2&no_rooms=1&group_children=0&req_children=0&hpos=16&hapos=291&sr_order=popularity&srpvid=e74992fcebb600ae&srepoch=1646686500&from=searchresults#hotelTmpl': 157,\n",
       " 'https://www.booking.com/hotel/is/borgir-the-house-by-the-sea.zh-tw.html?label=gen173bo-1DCAEoggI46AdIMFgDaOcBiAEBmAEwuAEXyAEM2AED6AEB-AEDiAIBmAICqAIDuALMrZiRBsACAdICJDA4MWM3ODVkLWU3YjYtNGUwNC1hOGMzLWJiMzJhYjZlODBhNdgCBOACAQ&sid=e12b90519bab632c3ffdcb360924a5c1&aid=304142&ucfs=1&arphpl=1&dest_id=97&dest_type=country&group_adults=2&req_adults=2&no_rooms=1&group_children=0&req_children=0&hpos=17&hapos=292&sr_order=popularity&srpvid=e74992fcebb600ae&srepoch=1646686500&from=searchresults#hotelTmpl': 46,\n",
       " 'https://www.booking.com/hotel/is/inni-boutique-apartments.zh-tw.html?label=gen173bo-1DCAEoggI46AdIMFgDaOcBiAEBmAEwuAEXyAEM2AED6AEB-AEDiAIBmAICqAIDuALMrZiRBsACAdICJDA4MWM3ODVkLWU3YjYtNGUwNC1hOGMzLWJiMzJhYjZlODBhNdgCBOACAQ&sid=e12b90519bab632c3ffdcb360924a5c1&aid=304142&ucfs=1&arphpl=1&dest_id=97&dest_type=country&group_adults=2&req_adults=2&no_rooms=1&group_children=0&req_children=0&hpos=18&hapos=293&sr_order=popularity&srpvid=e74992fcebb600ae&srepoch=1646686500&from_sustainable_property_sr=1&from=searchresults#hotelTmpl': 506,\n",
       " 'https://www.booking.com/hotel/is/einishaos.zh-tw.html?label=gen173bo-1DCAEoggI46AdIMFgDaOcBiAEBmAEwuAEXyAEM2AED6AEB-AEDiAIBmAICqAIDuALMrZiRBsACAdICJDA4MWM3ODVkLWU3YjYtNGUwNC1hOGMzLWJiMzJhYjZlODBhNdgCBOACAQ&sid=e12b90519bab632c3ffdcb360924a5c1&aid=304142&ucfs=1&arphpl=1&dest_id=97&dest_type=country&group_adults=2&req_adults=2&no_rooms=1&group_children=0&req_children=0&hpos=19&hapos=294&sr_order=popularity&srpvid=e74992fcebb600ae&srepoch=1646686500&from_sustainable_property_sr=1&from=searchresults#hotelTmpl': 294,\n",
       " 'https://www.booking.com/hotel/is/guesthouse-keflavik.zh-tw.html?label=gen173bo-1DCAEoggI46AdIMFgDaOcBiAEBmAEwuAEXyAEM2AED6AEB-AEDiAIBmAICqAIDuALMrZiRBsACAdICJDA4MWM3ODVkLWU3YjYtNGUwNC1hOGMzLWJiMzJhYjZlODBhNdgCBOACAQ&sid=e12b90519bab632c3ffdcb360924a5c1&aid=304142&ucfs=1&arphpl=1&dest_id=97&dest_type=country&group_adults=2&req_adults=2&no_rooms=1&group_children=0&req_children=0&hpos=20&hapos=295&sr_order=popularity&srpvid=e74992fcebb600ae&srepoch=1646686500&from=searchresults#hotelTmpl': 105,\n",
       " 'https://www.booking.com/hotel/is/guesthouse-odinn.zh-tw.html?label=gen173bo-1DCAEoggI46AdIMFgDaOcBiAEBmAEwuAEXyAEM2AED6AEB-AEDiAIBmAICqAIDuALMrZiRBsACAdICJDA4MWM3ODVkLWU3YjYtNGUwNC1hOGMzLWJiMzJhYjZlODBhNdgCBOACAQ&sid=e12b90519bab632c3ffdcb360924a5c1&aid=304142&ucfs=1&arphpl=1&dest_id=97&dest_type=country&group_adults=2&req_adults=2&no_rooms=1&group_children=0&req_children=0&hpos=21&hapos=296&sr_order=popularity&srpvid=e74992fcebb600ae&srepoch=1646686500&from=searchresults#hotelTmpl': 138,\n",
       " 'https://www.booking.com/hotel/is/old-charm-reykjavik-apartments.zh-tw.html?label=gen173bo-1DCAEoggI46AdIMFgDaOcBiAEBmAEwuAEXyAEM2AED6AEB-AEDiAIBmAICqAIDuALMrZiRBsACAdICJDA4MWM3ODVkLWU3YjYtNGUwNC1hOGMzLWJiMzJhYjZlODBhNdgCBOACAQ&sid=e12b90519bab632c3ffdcb360924a5c1&aid=304142&ucfs=1&arphpl=1&dest_id=97&dest_type=country&group_adults=2&req_adults=2&no_rooms=1&group_children=0&req_children=0&hpos=22&hapos=297&sr_order=popularity&srpvid=e74992fcebb600ae&srepoch=1646686500&from_sustainable_property_sr=1&from=searchresults#hotelTmpl': 594,\n",
       " 'https://www.booking.com/hotel/is/vorsabaer-2-holiday-home.zh-tw.html?label=gen173bo-1DCAEoggI46AdIMFgDaOcBiAEBmAEwuAEXyAEM2AED6AEB-AEDiAIBmAICqAIDuALMrZiRBsACAdICJDA4MWM3ODVkLWU3YjYtNGUwNC1hOGMzLWJiMzJhYjZlODBhNdgCBOACAQ&sid=e12b90519bab632c3ffdcb360924a5c1&aid=304142&ucfs=1&arphpl=1&dest_id=97&dest_type=country&group_adults=2&req_adults=2&no_rooms=1&group_children=0&req_children=0&hpos=23&hapos=298&sr_order=popularity&srpvid=e74992fcebb600ae&srepoch=1646686500&from_sustainable_property_sr=1&from=searchresults#hotelTmpl': 47,\n",
       " 'https://www.booking.com/hotel/is/snorrastadir-farm-holidays.zh-tw.html?label=gen173bo-1DCAEoggI46AdIMFgDaOcBiAEBmAEwuAEXyAEM2AED6AEB-AEDiAIBmAICqAIDuALMrZiRBsACAdICJDA4MWM3ODVkLWU3YjYtNGUwNC1hOGMzLWJiMzJhYjZlODBhNdgCBOACAQ&sid=e12b90519bab632c3ffdcb360924a5c1&aid=304142&ucfs=1&arphpl=1&dest_id=97&dest_type=country&group_adults=2&req_adults=2&no_rooms=1&group_children=0&req_children=0&hpos=24&hapos=299&sr_order=popularity&srpvid=e74992fcebb600ae&srepoch=1646686500&from=searchresults#hotelTmpl': 314,\n",
       " 'https://www.booking.com/hotel/is/hrifunes-park-cabins.zh-tw.html?label=gen173bo-1DCAEoggI46AdIMFgDaOcBiAEBmAEwuAEXyAEM2AED6AEB-AEDiAIBmAICqAIDuALMrZiRBsACAdICJDA4MWM3ODVkLWU3YjYtNGUwNC1hOGMzLWJiMzJhYjZlODBhNdgCBOACAQ&sid=e12b90519bab632c3ffdcb360924a5c1&aid=304142&ucfs=1&arphpl=1&dest_id=97&dest_type=country&group_adults=2&req_adults=2&no_rooms=1&group_children=0&req_children=0&hpos=25&hapos=300&sr_order=popularity&srpvid=e74992fcebb600ae&srepoch=1646686500&from=searchresults#hotelTmpl': 116,\n",
       " 'https://www.booking.com/hotel/is/laugar.zh-tw.html?label=gen173bo-1DCAEoggI46AdIMFgDaOcBiAEBmAEwuAEXyAEM2AED6AEB-AEDiAIBmAICqAIDuALMrZiRBsACAdICJDA4MWM3ODVkLWU3YjYtNGUwNC1hOGMzLWJiMzJhYjZlODBhNdgCBOACAQ&sid=e12b90519bab632c3ffdcb360924a5c1&aid=304142&ucfs=1&arphpl=1&dest_id=97&dest_type=country&group_adults=2&req_adults=2&no_rooms=1&group_children=0&req_children=0&hpos=1&hapos=301&sr_order=popularity&srpvid=e74992fcebb600ae&srepoch=1646686504&from=searchresults#hotelTmpl': 143,\n",
       " 'https://www.booking.com/hotel/is/brunastadir-holiday-home.zh-tw.html?label=gen173bo-1DCAEoggI46AdIMFgDaOcBiAEBmAEwuAEXyAEM2AED6AEB-AEDiAIBmAICqAIDuALMrZiRBsACAdICJDA4MWM3ODVkLWU3YjYtNGUwNC1hOGMzLWJiMzJhYjZlODBhNdgCBOACAQ&sid=e12b90519bab632c3ffdcb360924a5c1&aid=304142&ucfs=1&arphpl=1&dest_id=97&dest_type=country&group_adults=2&req_adults=2&no_rooms=1&group_children=0&req_children=0&hpos=2&hapos=302&sr_order=popularity&srpvid=e74992fcebb600ae&srepoch=1646686504&from=searchresults#hotelTmpl': 25,\n",
       " 'https://www.booking.com/hotel/is/middalskot-cottages.zh-tw.html?label=gen173bo-1DCAEoggI46AdIMFgDaOcBiAEBmAEwuAEXyAEM2AED6AEB-AEDiAIBmAICqAIDuALMrZiRBsACAdICJDA4MWM3ODVkLWU3YjYtNGUwNC1hOGMzLWJiMzJhYjZlODBhNdgCBOACAQ&sid=e12b90519bab632c3ffdcb360924a5c1&aid=304142&ucfs=1&arphpl=1&dest_id=97&dest_type=country&group_adults=2&req_adults=2&no_rooms=1&group_children=0&req_children=0&hpos=3&hapos=303&sr_order=popularity&srpvid=e74992fcebb600ae&srepoch=1646686504&from=searchresults#hotelTmpl': 424,\n",
       " 'https://www.booking.com/hotel/is/ion-city.zh-tw.html?label=gen173bo-1DCAEoggI46AdIMFgDaOcBiAEBmAEwuAEXyAEM2AED6AEB-AEDiAIBmAICqAIDuALMrZiRBsACAdICJDA4MWM3ODVkLWU3YjYtNGUwNC1hOGMzLWJiMzJhYjZlODBhNdgCBOACAQ&sid=e12b90519bab632c3ffdcb360924a5c1&aid=304142&ucfs=1&arphpl=1&dest_id=97&dest_type=country&group_adults=2&req_adults=2&no_rooms=1&group_children=0&req_children=0&hpos=4&hapos=304&sr_order=popularity&srpvid=e74992fcebb600ae&srepoch=1646686504&from=searchresults#hotelTmpl': 67,\n",
       " 'https://www.booking.com/hotel/is/idunn-apartments.zh-tw.html?label=gen173bo-1DCAEoggI46AdIMFgDaOcBiAEBmAEwuAEXyAEM2AED6AEB-AEDiAIBmAICqAIDuALMrZiRBsACAdICJDA4MWM3ODVkLWU3YjYtNGUwNC1hOGMzLWJiMzJhYjZlODBhNdgCBOACAQ&sid=e12b90519bab632c3ffdcb360924a5c1&aid=304142&ucfs=1&arphpl=1&dest_id=97&dest_type=country&group_adults=2&req_adults=2&no_rooms=1&group_children=0&req_children=0&hpos=5&hapos=305&sr_order=popularity&srpvid=e74992fcebb600ae&srepoch=1646686504&from=searchresults#hotelTmpl': 143,\n",
       " 'https://www.booking.com/hotel/is/egilsen.zh-tw.html?label=gen173bo-1DCAEoggI46AdIMFgDaOcBiAEBmAEwuAEXyAEM2AED6AEB-AEDiAIBmAICqAIDuALMrZiRBsACAdICJDA4MWM3ODVkLWU3YjYtNGUwNC1hOGMzLWJiMzJhYjZlODBhNdgCBOACAQ&sid=e12b90519bab632c3ffdcb360924a5c1&aid=304142&ucfs=1&arphpl=1&dest_id=97&dest_type=country&group_adults=2&req_adults=2&no_rooms=1&group_children=0&req_children=0&hpos=6&hapos=306&sr_order=popularity&srpvid=e74992fcebb600ae&srepoch=1646686504&from=searchresults#hotelTmpl': 190,\n",
       " 'https://www.booking.com/hotel/is/nest-apartments.zh-tw.html?label=gen173bo-1DCAEoggI46AdIMFgDaOcBiAEBmAEwuAEXyAEM2AED6AEB-AEDiAIBmAICqAIDuALMrZiRBsACAdICJDA4MWM3ODVkLWU3YjYtNGUwNC1hOGMzLWJiMzJhYjZlODBhNdgCBOACAQ&sid=e12b90519bab632c3ffdcb360924a5c1&aid=304142&ucfs=1&arphpl=1&dest_id=97&dest_type=country&group_adults=2&req_adults=2&no_rooms=1&group_children=0&req_children=0&hpos=7&hapos=307&sr_order=popularity&srpvid=e74992fcebb600ae&srepoch=1646686504&from=searchresults#hotelTmpl': 59,\n",
       " 'https://www.booking.com/hotel/is/acco-luxury-apartments.zh-tw.html?label=gen173bo-1DCAEoggI46AdIMFgDaOcBiAEBmAEwuAEXyAEM2AED6AEB-AEDiAIBmAICqAIDuALMrZiRBsACAdICJDA4MWM3ODVkLWU3YjYtNGUwNC1hOGMzLWJiMzJhYjZlODBhNdgCBOACAQ&sid=e12b90519bab632c3ffdcb360924a5c1&aid=304142&ucfs=1&arphpl=1&dest_id=97&dest_type=country&group_adults=2&req_adults=2&no_rooms=1&group_children=0&req_children=0&hpos=8&hapos=308&sr_order=popularity&srpvid=e74992fcebb600ae&srepoch=1646686504&from=searchresults#hotelTmpl': 319,\n",
       " 'https://www.booking.com/hotel/is/hellnar-snaefellsnes.zh-tw.html?label=gen173bo-1DCAEoggI46AdIMFgDaOcBiAEBmAEwuAEXyAEM2AED6AEB-AEDiAIBmAICqAIDuALMrZiRBsACAdICJDA4MWM3ODVkLWU3YjYtNGUwNC1hOGMzLWJiMzJhYjZlODBhNdgCBOACAQ&sid=e12b90519bab632c3ffdcb360924a5c1&aid=304142&ucfs=1&arphpl=1&dest_id=97&dest_type=country&group_adults=2&req_adults=2&no_rooms=1&group_children=0&req_children=0&hpos=9&hapos=309&sr_order=popularity&srpvid=e74992fcebb600ae&srepoch=1646686504&from=searchresults#hotelTmpl': 23,\n",
       " 'https://www.booking.com/hotel/is/blue-view-cabin-6a.zh-tw.html?label=gen173bo-1DCAEoggI46AdIMFgDaOcBiAEBmAEwuAEXyAEM2AED6AEB-AEDiAIBmAICqAIDuALMrZiRBsACAdICJDA4MWM3ODVkLWU3YjYtNGUwNC1hOGMzLWJiMzJhYjZlODBhNdgCBOACAQ&sid=e12b90519bab632c3ffdcb360924a5c1&aid=304142&ucfs=1&arphpl=1&dest_id=97&dest_type=country&group_adults=2&req_adults=2&no_rooms=1&group_children=0&req_children=0&hpos=10&hapos=310&sr_order=popularity&srpvid=e74992fcebb600ae&srepoch=1646686504&from=searchresults#hotelTmpl': 18,\n",
       " 'https://www.booking.com/hotel/is/101.zh-tw.html?label=gen173bo-1DCAEoggI46AdIMFgDaOcBiAEBmAEwuAEXyAEM2AED6AEB-AEDiAIBmAICqAIDuALMrZiRBsACAdICJDA4MWM3ODVkLWU3YjYtNGUwNC1hOGMzLWJiMzJhYjZlODBhNdgCBOACAQ&sid=e12b90519bab632c3ffdcb360924a5c1&aid=304142&ucfs=1&arphpl=1&dest_id=97&dest_type=country&group_adults=2&req_adults=2&no_rooms=1&group_children=0&req_children=0&hpos=11&hapos=311&sr_order=popularity&srpvid=e74992fcebb600ae&srepoch=1646686504&from=searchresults#hotelTmpl': 49,\n",
       " 'https://www.booking.com/hotel/is/tower-suites-reykjavik.zh-tw.html?label=gen173bo-1DCAEoggI46AdIMFgDaOcBiAEBmAEwuAEXyAEM2AED6AEB-AEDiAIBmAICqAIDuALMrZiRBsACAdICJDA4MWM3ODVkLWU3YjYtNGUwNC1hOGMzLWJiMzJhYjZlODBhNdgCBOACAQ&sid=e12b90519bab632c3ffdcb360924a5c1&aid=304142&ucfs=1&arphpl=1&dest_id=97&dest_type=country&group_adults=2&req_adults=2&no_rooms=1&group_children=0&req_children=0&hpos=12&hapos=312&sr_order=popularity&srpvid=e74992fcebb600ae&srepoch=1646686504&from_sustainable_property_sr=1&from=searchresults#hotelTmpl': 133,\n",
       " 'https://www.booking.com/hotel/is/hildibrand.zh-tw.html?label=gen173bo-1DCAEoggI46AdIMFgDaOcBiAEBmAEwuAEXyAEM2AED6AEB-AEDiAIBmAICqAIDuALMrZiRBsACAdICJDA4MWM3ODVkLWU3YjYtNGUwNC1hOGMzLWJiMzJhYjZlODBhNdgCBOACAQ&sid=e12b90519bab632c3ffdcb360924a5c1&aid=304142&ucfs=1&arphpl=1&dest_id=97&dest_type=country&group_adults=2&req_adults=2&no_rooms=1&group_children=0&req_children=0&hpos=13&hapos=313&sr_order=popularity&srpvid=e74992fcebb600ae&srepoch=1646686504&from=searchresults#hotelTmpl': 165,\n",
       " 'https://www.booking.com/hotel/is/arabaer-holiday-home.zh-tw.html?label=gen173bo-1DCAEoggI46AdIMFgDaOcBiAEBmAEwuAEXyAEM2AED6AEB-AEDiAIBmAICqAIDuALMrZiRBsACAdICJDA4MWM3ODVkLWU3YjYtNGUwNC1hOGMzLWJiMzJhYjZlODBhNdgCBOACAQ&sid=e12b90519bab632c3ffdcb360924a5c1&aid=304142&ucfs=1&arphpl=1&dest_id=97&dest_type=country&group_adults=2&req_adults=2&no_rooms=1&group_children=0&req_children=0&hpos=14&hapos=314&sr_order=popularity&srpvid=e74992fcebb600ae&srepoch=1646686504&from=searchresults#hotelTmpl': 31,\n",
       " 'https://www.booking.com/hotel/is/felicias-flat.zh-tw.html?label=gen173bo-1DCAEoggI46AdIMFgDaOcBiAEBmAEwuAEXyAEM2AED6AEB-AEDiAIBmAICqAIDuALMrZiRBsACAdICJDA4MWM3ODVkLWU3YjYtNGUwNC1hOGMzLWJiMzJhYjZlODBhNdgCBOACAQ&sid=e12b90519bab632c3ffdcb360924a5c1&aid=304142&ucfs=1&arphpl=1&dest_id=97&dest_type=country&group_adults=2&req_adults=2&no_rooms=1&group_children=0&req_children=0&hpos=15&hapos=315&sr_order=popularity&srpvid=e74992fcebb600ae&srepoch=1646686504&from=searchresults#hotelTmpl': 18,\n",
       " 'https://www.booking.com/hotel/is/reykjanes-guesthouse.zh-tw.html?label=gen173bo-1DCAEoggI46AdIMFgDaOcBiAEBmAEwuAEXyAEM2AED6AEB-AEDiAIBmAICqAIDuALMrZiRBsACAdICJDA4MWM3ODVkLWU3YjYtNGUwNC1hOGMzLWJiMzJhYjZlODBhNdgCBOACAQ&sid=e12b90519bab632c3ffdcb360924a5c1&aid=304142&ucfs=1&arphpl=1&dest_id=97&dest_type=country&group_adults=2&req_adults=2&no_rooms=1&group_children=0&req_children=0&hpos=16&hapos=316&sr_order=popularity&srpvid=e74992fcebb600ae&srepoch=1646686504&from_sustainable_property_sr=1&from=searchresults#hotelTmpl': 377,\n",
       " 'https://www.booking.com/hotel/is/mork-homestay.zh-tw.html?label=gen173bo-1DCAEoggI46AdIMFgDaOcBiAEBmAEwuAEXyAEM2AED6AEB-AEDiAIBmAICqAIDuALMrZiRBsACAdICJDA4MWM3ODVkLWU3YjYtNGUwNC1hOGMzLWJiMzJhYjZlODBhNdgCBOACAQ&sid=e12b90519bab632c3ffdcb360924a5c1&aid=304142&ucfs=1&arphpl=1&dest_id=97&dest_type=country&group_adults=2&req_adults=2&no_rooms=1&group_children=0&req_children=0&hpos=17&hapos=317&sr_order=popularity&srpvid=e74992fcebb600ae&srepoch=1646686504&from=searchresults#hotelTmpl': 303,\n",
       " 'https://www.booking.com/hotel/is/room-with-a-view-reykjavik.zh-tw.html?label=gen173bo-1DCAEoggI46AdIMFgDaOcBiAEBmAEwuAEXyAEM2AED6AEB-AEDiAIBmAICqAIDuALMrZiRBsACAdICJDA4MWM3ODVkLWU3YjYtNGUwNC1hOGMzLWJiMzJhYjZlODBhNdgCBOACAQ&sid=e12b90519bab632c3ffdcb360924a5c1&aid=304142&ucfs=1&arphpl=1&dest_id=97&dest_type=country&group_adults=2&req_adults=2&no_rooms=1&group_children=0&req_children=0&hpos=18&hapos=318&sr_order=popularity&srpvid=e74992fcebb600ae&srepoch=1646686504&from=searchresults#hotelTmpl': 903,\n",
       " 'https://www.booking.com/hotel/is/villa-south-iceland.zh-tw.html?label=gen173bo-1DCAEoggI46AdIMFgDaOcBiAEBmAEwuAEXyAEM2AED6AEB-AEDiAIBmAICqAIDuALMrZiRBsACAdICJDA4MWM3ODVkLWU3YjYtNGUwNC1hOGMzLWJiMzJhYjZlODBhNdgCBOACAQ&sid=e12b90519bab632c3ffdcb360924a5c1&aid=304142&ucfs=1&arphpl=1&dest_id=97&dest_type=country&group_adults=2&req_adults=2&no_rooms=1&group_children=0&req_children=0&hpos=19&hapos=319&sr_order=popularity&srpvid=e74992fcebb600ae&srepoch=1646686504&from=searchresults#hotelTmpl': 29,\n",
       " 'https://www.booking.com/hotel/is/hekla-cottage.zh-tw.html?label=gen173bo-1DCAEoggI46AdIMFgDaOcBiAEBmAEwuAEXyAEM2AED6AEB-AEDiAIBmAICqAIDuALMrZiRBsACAdICJDA4MWM3ODVkLWU3YjYtNGUwNC1hOGMzLWJiMzJhYjZlODBhNdgCBOACAQ&sid=e12b90519bab632c3ffdcb360924a5c1&aid=304142&ucfs=1&arphpl=1&dest_id=97&dest_type=country&group_adults=2&req_adults=2&no_rooms=1&group_children=0&req_children=0&hpos=20&hapos=320&sr_order=popularity&srpvid=e74992fcebb600ae&srepoch=1646686504&from_sustainable_property_sr=1&from=searchresults#hotelTmpl': 200,\n",
       " 'https://www.booking.com/hotel/is/guesthouse-asgardur.zh-tw.html?label=gen173bo-1DCAEoggI46AdIMFgDaOcBiAEBmAEwuAEXyAEM2AED6AEB-AEDiAIBmAICqAIDuALMrZiRBsACAdICJDA4MWM3ODVkLWU3YjYtNGUwNC1hOGMzLWJiMzJhYjZlODBhNdgCBOACAQ&sid=e12b90519bab632c3ffdcb360924a5c1&aid=304142&ucfs=1&arphpl=1&dest_id=97&dest_type=country&group_adults=2&req_adults=2&no_rooms=1&group_children=0&req_children=0&hpos=21&hapos=321&sr_order=popularity&srpvid=e74992fcebb600ae&srepoch=1646686504&from=searchresults#hotelTmpl': 18,\n",
       " 'https://www.booking.com/hotel/is/vik-apartments.zh-tw.html?label=gen173bo-1DCAEoggI46AdIMFgDaOcBiAEBmAEwuAEXyAEM2AED6AEB-AEDiAIBmAICqAIDuALMrZiRBsACAdICJDA4MWM3ODVkLWU3YjYtNGUwNC1hOGMzLWJiMzJhYjZlODBhNdgCBOACAQ&sid=e12b90519bab632c3ffdcb360924a5c1&aid=304142&ucfs=1&arphpl=1&dest_id=97&dest_type=country&group_adults=2&req_adults=2&no_rooms=1&group_children=0&req_children=0&hpos=22&hapos=322&sr_order=popularity&srpvid=e74992fcebb600ae&srepoch=1646686504&from=searchresults#hotelTmpl': 978,\n",
       " 'https://www.booking.com/hotel/is/hotelkeflavik.zh-tw.html?label=gen173bo-1DCAEoggI46AdIMFgDaOcBiAEBmAEwuAEXyAEM2AED6AEB-AEDiAIBmAICqAIDuALMrZiRBsACAdICJDA4MWM3ODVkLWU3YjYtNGUwNC1hOGMzLWJiMzJhYjZlODBhNdgCBOACAQ&sid=e12b90519bab632c3ffdcb360924a5c1&aid=304142&ucfs=1&arphpl=1&dest_id=97&dest_type=country&group_adults=2&req_adults=2&no_rooms=1&group_children=0&req_children=0&hpos=23&hapos=323&sr_order=popularity&srpvid=e74992fcebb600ae&srepoch=1646686504&from=searchresults#hotelTmpl': 484,\n",
       " 'https://www.booking.com/hotel/is/silva-holiday-home.zh-tw.html?label=gen173bo-1DCAEoggI46AdIMFgDaOcBiAEBmAEwuAEXyAEM2AED6AEB-AEDiAIBmAICqAIDuALMrZiRBsACAdICJDA4MWM3ODVkLWU3YjYtNGUwNC1hOGMzLWJiMzJhYjZlODBhNdgCBOACAQ&sid=e12b90519bab632c3ffdcb360924a5c1&aid=304142&ucfs=1&arphpl=1&dest_id=97&dest_type=country&group_adults=2&req_adults=2&no_rooms=1&group_children=0&req_children=0&hpos=24&hapos=324&sr_order=popularity&srpvid=e74992fcebb600ae&srepoch=1646686504&from_sustainable_property_sr=1&from=searchresults#hotelTmpl': 60,\n",
       " 'https://www.booking.com/hotel/is/golden-circle-apartments.zh-tw.html?label=gen173bo-1DCAEoggI46AdIMFgDaOcBiAEBmAEwuAEXyAEM2AED6AEB-AEDiAIBmAICqAIDuALMrZiRBsACAdICJDA4MWM3ODVkLWU3YjYtNGUwNC1hOGMzLWJiMzJhYjZlODBhNdgCBOACAQ&sid=e12b90519bab632c3ffdcb360924a5c1&aid=304142&ucfs=1&arphpl=1&dest_id=97&dest_type=country&group_adults=2&req_adults=2&no_rooms=1&group_children=0&req_children=0&hpos=25&hapos=325&sr_order=popularity&srpvid=e74992fcebb600ae&srepoch=1646686504&from=searchresults#hotelTmpl': 335,\n",
       " 'https://www.booking.com/hotel/is/fosssel-country-house.zh-tw.html?label=gen173bo-1DCAEoggI46AdIMFgDaOcBiAEBmAEwuAEXyAEM2AED6AEB-AEDiAIBmAICqAIDuALMrZiRBsACAdICJDA4MWM3ODVkLWU3YjYtNGUwNC1hOGMzLWJiMzJhYjZlODBhNdgCBOACAQ&sid=e12b90519bab632c3ffdcb360924a5c1&aid=304142&ucfs=1&arphpl=1&dest_id=97&dest_type=country&group_adults=2&req_adults=2&no_rooms=1&group_children=0&req_children=0&hpos=1&hapos=326&sr_order=popularity&srpvid=e74992fcebb600ae&srepoch=1646686507&from=searchresults#hotelTmpl': 31,\n",
       " 'https://www.booking.com/hotel/is/stryta-guesthouse.zh-tw.html?label=gen173bo-1DCAEoggI46AdIMFgDaOcBiAEBmAEwuAEXyAEM2AED6AEB-AEDiAIBmAICqAIDuALMrZiRBsACAdICJDA4MWM3ODVkLWU3YjYtNGUwNC1hOGMzLWJiMzJhYjZlODBhNdgCBOACAQ&sid=e12b90519bab632c3ffdcb360924a5c1&aid=304142&ucfs=1&arphpl=1&dest_id=97&dest_type=country&group_adults=2&req_adults=2&no_rooms=1&group_children=0&req_children=0&hpos=2&hapos=327&sr_order=popularity&srpvid=e74992fcebb600ae&srepoch=1646686507&from=searchresults#hotelTmpl': 52,\n",
       " 'https://www.booking.com/hotel/is/blue-view-cabin-7a.zh-tw.html?label=gen173bo-1DCAEoggI46AdIMFgDaOcBiAEBmAEwuAEXyAEM2AED6AEB-AEDiAIBmAICqAIDuALMrZiRBsACAdICJDA4MWM3ODVkLWU3YjYtNGUwNC1hOGMzLWJiMzJhYjZlODBhNdgCBOACAQ&sid=e12b90519bab632c3ffdcb360924a5c1&aid=304142&ucfs=1&arphpl=1&dest_id=97&dest_type=country&group_adults=2&req_adults=2&no_rooms=1&group_children=0&req_children=0&hpos=3&hapos=328&sr_order=popularity&srpvid=e74992fcebb600ae&srepoch=1646686507&from=searchresults#hotelTmpl': 47,\n",
       " 'https://www.booking.com/hotel/is/bragdavellir-cottages.zh-tw.html?label=gen173bo-1DCAEoggI46AdIMFgDaOcBiAEBmAEwuAEXyAEM2AED6AEB-AEDiAIBmAICqAIDuALMrZiRBsACAdICJDA4MWM3ODVkLWU3YjYtNGUwNC1hOGMzLWJiMzJhYjZlODBhNdgCBOACAQ&sid=e12b90519bab632c3ffdcb360924a5c1&aid=304142&ucfs=1&arphpl=1&dest_id=97&dest_type=country&group_adults=2&req_adults=2&no_rooms=1&group_children=0&req_children=0&hpos=4&hapos=329&sr_order=popularity&srpvid=e74992fcebb600ae&srepoch=1646686507&from=searchresults#hotelTmpl': 316,\n",
       " 'https://www.booking.com/hotel/is/vindheimar-holiday-home.zh-tw.html?label=gen173bo-1DCAEoggI46AdIMFgDaOcBiAEBmAEwuAEXyAEM2AED6AEB-AEDiAIBmAICqAIDuALMrZiRBsACAdICJDA4MWM3ODVkLWU3YjYtNGUwNC1hOGMzLWJiMzJhYjZlODBhNdgCBOACAQ&sid=e12b90519bab632c3ffdcb360924a5c1&aid=304142&ucfs=1&arphpl=1&dest_id=97&dest_type=country&group_adults=2&req_adults=2&no_rooms=1&group_children=0&req_children=0&hpos=5&hapos=330&sr_order=popularity&srpvid=e74992fcebb600ae&srepoch=1646686507&from_sustainable_property_sr=1&from=searchresults#hotelTmpl': 13,\n",
       " 'https://www.booking.com/hotel/is/hellatun-guest-house.zh-tw.html?label=gen173bo-1DCAEoggI46AdIMFgDaOcBiAEBmAEwuAEXyAEM2AED6AEB-AEDiAIBmAICqAIDuALMrZiRBsACAdICJDA4MWM3ODVkLWU3YjYtNGUwNC1hOGMzLWJiMzJhYjZlODBhNdgCBOACAQ&sid=e12b90519bab632c3ffdcb360924a5c1&aid=304142&ucfs=1&arphpl=1&dest_id=97&dest_type=country&group_adults=2&req_adults=2&no_rooms=1&group_children=0&req_children=0&hpos=6&hapos=331&sr_order=popularity&srpvid=e74992fcebb600ae&srepoch=1646686507&from=searchresults#hotelTmpl': 134,\n",
       " 'https://www.booking.com/hotel/is/byggdarhorn.zh-tw.html?label=gen173bo-1DCAEoggI46AdIMFgDaOcBiAEBmAEwuAEXyAEM2AED6AEB-AEDiAIBmAICqAIDuALMrZiRBsACAdICJDA4MWM3ODVkLWU3YjYtNGUwNC1hOGMzLWJiMzJhYjZlODBhNdgCBOACAQ&sid=e12b90519bab632c3ffdcb360924a5c1&aid=304142&ucfs=1&arphpl=1&dest_id=97&dest_type=country&group_adults=2&req_adults=2&no_rooms=1&group_children=0&req_children=0&hpos=7&hapos=332&sr_order=popularity&srpvid=e74992fcebb600ae&srepoch=1646686507&from_sustainable_property_sr=1&from=searchresults#hotelTmpl': 48,\n",
       " 'https://www.booking.com/hotel/is/kiljan-apartments.zh-tw.html?label=gen173bo-1DCAEoggI46AdIMFgDaOcBiAEBmAEwuAEXyAEM2AED6AEB-AEDiAIBmAICqAIDuALMrZiRBsACAdICJDA4MWM3ODVkLWU3YjYtNGUwNC1hOGMzLWJiMzJhYjZlODBhNdgCBOACAQ&sid=e12b90519bab632c3ffdcb360924a5c1&aid=304142&ucfs=1&arphpl=1&dest_id=97&dest_type=country&group_adults=2&req_adults=2&no_rooms=1&group_children=0&req_children=0&hpos=8&hapos=333&sr_order=popularity&srpvid=e74992fcebb600ae&srepoch=1646686507&from=searchresults#hotelTmpl': 177,\n",
       " 'https://www.booking.com/hotel/is/theater-row-apartments.zh-tw.html?label=gen173bo-1DCAEoggI46AdIMFgDaOcBiAEBmAEwuAEXyAEM2AED6AEB-AEDiAIBmAICqAIDuALMrZiRBsACAdICJDA4MWM3ODVkLWU3YjYtNGUwNC1hOGMzLWJiMzJhYjZlODBhNdgCBOACAQ&sid=e12b90519bab632c3ffdcb360924a5c1&aid=304142&ucfs=1&arphpl=1&dest_id=97&dest_type=country&group_adults=2&req_adults=2&no_rooms=1&group_children=0&req_children=0&hpos=9&hapos=334&sr_order=popularity&srpvid=e74992fcebb600ae&srepoch=1646686507&from=searchresults#hotelTmpl': 131,\n",
       " 'https://www.booking.com/hotel/is/gislaholt.zh-tw.html?label=gen173bo-1DCAEoggI46AdIMFgDaOcBiAEBmAEwuAEXyAEM2AED6AEB-AEDiAIBmAICqAIDuALMrZiRBsACAdICJDA4MWM3ODVkLWU3YjYtNGUwNC1hOGMzLWJiMzJhYjZlODBhNdgCBOACAQ&sid=e12b90519bab632c3ffdcb360924a5c1&aid=304142&ucfs=1&arphpl=1&dest_id=97&dest_type=country&group_adults=2&req_adults=2&no_rooms=1&group_children=0&req_children=0&hpos=10&hapos=335&sr_order=popularity&srpvid=e74992fcebb600ae&srepoch=1646686507&from_sustainable_property_sr=1&from=searchresults#hotelTmpl': 104,\n",
       " 'https://www.booking.com/hotel/is/kornholl.zh-tw.html?label=gen173bo-1DCAEoggI46AdIMFgDaOcBiAEBmAEwuAEXyAEM2AED6AEB-AEDiAIBmAICqAIDuALMrZiRBsACAdICJDA4MWM3ODVkLWU3YjYtNGUwNC1hOGMzLWJiMzJhYjZlODBhNdgCBOACAQ&sid=e12b90519bab632c3ffdcb360924a5c1&aid=304142&ucfs=1&arphpl=1&dest_id=97&dest_type=country&group_adults=2&req_adults=2&no_rooms=1&group_children=0&req_children=0&hpos=11&hapos=336&sr_order=popularity&srpvid=e74992fcebb600ae&srepoch=1646686507&from_sustainable_property_sr=1&from=searchresults#hotelTmpl': 71,\n",
       " 'https://www.booking.com/hotel/is/om-apartments.zh-tw.html?label=gen173bo-1DCAEoggI46AdIMFgDaOcBiAEBmAEwuAEXyAEM2AED6AEB-AEDiAIBmAICqAIDuALMrZiRBsACAdICJDA4MWM3ODVkLWU3YjYtNGUwNC1hOGMzLWJiMzJhYjZlODBhNdgCBOACAQ&sid=e12b90519bab632c3ffdcb360924a5c1&aid=304142&ucfs=1&arphpl=1&dest_id=97&dest_type=country&group_adults=2&req_adults=2&no_rooms=1&group_children=0&req_children=0&hpos=12&hapos=337&sr_order=popularity&srpvid=e74992fcebb600ae&srepoch=1646686507&from=searchresults#hotelTmpl': 25,\n",
       " 'https://www.booking.com/hotel/is/skjaldvararfoss-sumarhus.zh-tw.html?label=gen173bo-1DCAEoggI46AdIMFgDaOcBiAEBmAEwuAEXyAEM2AED6AEB-AEDiAIBmAICqAIDuALMrZiRBsACAdICJDA4MWM3ODVkLWU3YjYtNGUwNC1hOGMzLWJiMzJhYjZlODBhNdgCBOACAQ&sid=e12b90519bab632c3ffdcb360924a5c1&aid=304142&ucfs=1&arphpl=1&dest_id=97&dest_type=country&group_adults=2&req_adults=2&no_rooms=1&group_children=0&req_children=0&hpos=13&hapos=338&sr_order=popularity&srpvid=e74992fcebb600ae&srepoch=1646686507&from=searchresults#hotelTmpl': 51,\n",
       " 'https://www.booking.com/hotel/is/hilltop-cabin-hekla-golden-circle-mountain-view.zh-tw.html?label=gen173bo-1DCAEoggI46AdIMFgDaOcBiAEBmAEwuAEXyAEM2AED6AEB-AEDiAIBmAICqAIDuALMrZiRBsACAdICJDA4MWM3ODVkLWU3YjYtNGUwNC1hOGMzLWJiMzJhYjZlODBhNdgCBOACAQ&sid=e12b90519bab632c3ffdcb360924a5c1&aid=304142&ucfs=1&arphpl=1&dest_id=97&dest_type=country&group_adults=2&req_adults=2&no_rooms=1&group_children=0&req_children=0&hpos=14&hapos=339&sr_order=popularity&srpvid=e74992fcebb600ae&srepoch=1646686507&from=searchresults#hotelTmpl': 59,\n",
       " 'https://www.booking.com/hotel/is/anchor-in-olafsvik.zh-tw.html?label=gen173bo-1DCAEoggI46AdIMFgDaOcBiAEBmAEwuAEXyAEM2AED6AEB-AEDiAIBmAICqAIDuALMrZiRBsACAdICJDA4MWM3ODVkLWU3YjYtNGUwNC1hOGMzLWJiMzJhYjZlODBhNdgCBOACAQ&sid=e12b90519bab632c3ffdcb360924a5c1&aid=304142&ucfs=1&arphpl=1&dest_id=97&dest_type=country&group_adults=2&req_adults=2&no_rooms=1&group_children=0&req_children=0&hpos=15&hapos=340&sr_order=popularity&srpvid=e74992fcebb600ae&srepoch=1646686507&from=searchresults#hotelTmpl': 71,\n",
       " 'https://www.booking.com/hotel/is/gamli-skoli.zh-tw.html?label=gen173bo-1DCAEoggI46AdIMFgDaOcBiAEBmAEwuAEXyAEM2AED6AEB-AEDiAIBmAICqAIDuALMrZiRBsACAdICJDA4MWM3ODVkLWU3YjYtNGUwNC1hOGMzLWJiMzJhYjZlODBhNdgCBOACAQ&sid=e12b90519bab632c3ffdcb360924a5c1&aid=304142&ucfs=1&arphpl=1&dest_id=97&dest_type=country&group_adults=2&req_adults=2&no_rooms=1&group_children=0&req_children=0&hpos=16&hapos=341&sr_order=popularity&srpvid=e74992fcebb600ae&srepoch=1646686507&from=searchresults#hotelTmpl': 190,\n",
       " 'https://www.booking.com/hotel/is/vordufell-selfoss.zh-tw.html?label=gen173bo-1DCAEoggI46AdIMFgDaOcBiAEBmAEwuAEXyAEM2AED6AEB-AEDiAIBmAICqAIDuALMrZiRBsACAdICJDA4MWM3ODVkLWU3YjYtNGUwNC1hOGMzLWJiMzJhYjZlODBhNdgCBOACAQ&sid=e12b90519bab632c3ffdcb360924a5c1&aid=304142&ucfs=1&arphpl=1&dest_id=97&dest_type=country&group_adults=2&req_adults=2&no_rooms=1&group_children=0&req_children=0&hpos=17&hapos=342&sr_order=popularity&srpvid=e74992fcebb600ae&srepoch=1646686507&from=searchresults#hotelTmpl': 77,\n",
       " 'https://www.booking.com/hotel/is/fermata-north.zh-tw.html?label=gen173bo-1DCAEoggI46AdIMFgDaOcBiAEBmAEwuAEXyAEM2AED6AEB-AEDiAIBmAICqAIDuALMrZiRBsACAdICJDA4MWM3ODVkLWU3YjYtNGUwNC1hOGMzLWJiMzJhYjZlODBhNdgCBOACAQ&sid=e12b90519bab632c3ffdcb360924a5c1&aid=304142&ucfs=1&arphpl=1&dest_id=97&dest_type=country&group_adults=2&req_adults=2&no_rooms=1&group_children=0&req_children=0&hpos=18&hapos=343&sr_order=popularity&srpvid=e74992fcebb600ae&srepoch=1646686507&from=searchresults#hotelTmpl': 71,\n",
       " 'https://www.booking.com/hotel/is/kjarnagerdi.zh-tw.html?label=gen173bo-1DCAEoggI46AdIMFgDaOcBiAEBmAEwuAEXyAEM2AED6AEB-AEDiAIBmAICqAIDuALMrZiRBsACAdICJDA4MWM3ODVkLWU3YjYtNGUwNC1hOGMzLWJiMzJhYjZlODBhNdgCBOACAQ&sid=e12b90519bab632c3ffdcb360924a5c1&aid=304142&ucfs=1&arphpl=1&dest_id=97&dest_type=country&group_adults=2&req_adults=2&no_rooms=1&group_children=0&req_children=0&hpos=19&hapos=344&sr_order=popularity&srpvid=e74992fcebb600ae&srepoch=1646686507&from=searchresults#hotelTmpl': 122,\n",
       " 'https://www.booking.com/hotel/is/hellnafell.zh-tw.html?label=gen173bo-1DCAEoggI46AdIMFgDaOcBiAEBmAEwuAEXyAEM2AED6AEB-AEDiAIBmAICqAIDuALMrZiRBsACAdICJDA4MWM3ODVkLWU3YjYtNGUwNC1hOGMzLWJiMzJhYjZlODBhNdgCBOACAQ&sid=e12b90519bab632c3ffdcb360924a5c1&aid=304142&ucfs=1&arphpl=1&dest_id=97&dest_type=country&group_adults=2&req_adults=2&no_rooms=1&group_children=0&req_children=0&hpos=20&hapos=345&sr_order=popularity&srpvid=e74992fcebb600ae&srepoch=1646686507&from=searchresults#hotelTmpl': 111,\n",
       " 'https://www.booking.com/hotel/is/kalfafell-guesthouse.zh-tw.html?label=gen173bo-1DCAEoggI46AdIMFgDaOcBiAEBmAEwuAEXyAEM2AED6AEB-AEDiAIBmAICqAIDuALMrZiRBsACAdICJDA4MWM3ODVkLWU3YjYtNGUwNC1hOGMzLWJiMzJhYjZlODBhNdgCBOACAQ&sid=e12b90519bab632c3ffdcb360924a5c1&aid=304142&ucfs=1&arphpl=1&dest_id=97&dest_type=country&group_adults=2&req_adults=2&no_rooms=1&group_children=0&req_children=0&hpos=21&hapos=346&sr_order=popularity&srpvid=e74992fcebb600ae&srepoch=1646686507&from=searchresults#hotelTmpl': 230,\n",
       " 'https://www.booking.com/hotel/is/torfhus-retreat.zh-tw.html?label=gen173bo-1DCAEoggI46AdIMFgDaOcBiAEBmAEwuAEXyAEM2AED6AEB-AEDiAIBmAICqAIDuALMrZiRBsACAdICJDA4MWM3ODVkLWU3YjYtNGUwNC1hOGMzLWJiMzJhYjZlODBhNdgCBOACAQ&sid=e12b90519bab632c3ffdcb360924a5c1&aid=304142&ucfs=1&arphpl=1&dest_id=97&dest_type=country&group_adults=2&req_adults=2&no_rooms=1&group_children=0&req_children=0&hpos=22&hapos=347&sr_order=popularity&srpvid=e74992fcebb600ae&srepoch=1646686507&from=searchresults#hotelTmpl': 14,\n",
       " 'https://www.booking.com/hotel/is/lax-a-asgardur-cottage.zh-tw.html?label=gen173bo-1DCAEoggI46AdIMFgDaOcBiAEBmAEwuAEXyAEM2AED6AEB-AEDiAIBmAICqAIDuALMrZiRBsACAdICJDA4MWM3ODVkLWU3YjYtNGUwNC1hOGMzLWJiMzJhYjZlODBhNdgCBOACAQ&sid=e12b90519bab632c3ffdcb360924a5c1&aid=304142&ucfs=1&arphpl=1&dest_id=97&dest_type=country&group_adults=2&req_adults=2&no_rooms=1&group_children=0&req_children=0&hpos=23&hapos=348&sr_order=popularity&srpvid=e74992fcebb600ae&srepoch=1646686507&from=searchresults#hotelTmpl': 16,\n",
       " 'https://www.booking.com/hotel/is/finnstadir.zh-tw.html?label=gen173bo-1DCAEoggI46AdIMFgDaOcBiAEBmAEwuAEXyAEM2AED6AEB-AEDiAIBmAICqAIDuALMrZiRBsACAdICJDA4MWM3ODVkLWU3YjYtNGUwNC1hOGMzLWJiMzJhYjZlODBhNdgCBOACAQ&sid=e12b90519bab632c3ffdcb360924a5c1&aid=304142&ucfs=1&arphpl=1&dest_id=97&dest_type=country&group_adults=2&req_adults=2&no_rooms=1&group_children=0&req_children=0&hpos=24&hapos=349&sr_order=popularity&srpvid=e74992fcebb600ae&srepoch=1646686507&from_sustainable_property_sr=1&from=searchresults#hotelTmpl': 69,\n",
       " 'https://www.booking.com/hotel/is/islandsbaerinn-47-old-farm.zh-tw.html?label=gen173bo-1DCAEoggI46AdIMFgDaOcBiAEBmAEwuAEXyAEM2AED6AEB-AEDiAIBmAICqAIDuALMrZiRBsACAdICJDA4MWM3ODVkLWU3YjYtNGUwNC1hOGMzLWJiMzJhYjZlODBhNdgCBOACAQ&sid=e12b90519bab632c3ffdcb360924a5c1&aid=304142&ucfs=1&arphpl=1&dest_id=97&dest_type=country&group_adults=2&req_adults=2&no_rooms=1&group_children=0&req_children=0&hpos=25&hapos=350&sr_order=popularity&srpvid=e74992fcebb600ae&srepoch=1646686507&from=searchresults#hotelTmpl': 23,\n",
       " 'https://www.booking.com/hotel/is/diamond-suites.zh-tw.html?label=gen173bo-1DCAEoggI46AdIMFgDaOcBiAEBmAEwuAEXyAEM2AED6AEB-AEDiAIBmAICqAIDuALMrZiRBsACAdICJDA4MWM3ODVkLWU3YjYtNGUwNC1hOGMzLWJiMzJhYjZlODBhNdgCBOACAQ&sid=e12b90519bab632c3ffdcb360924a5c1&aid=304142&ucfs=1&arphpl=1&dest_id=97&dest_type=country&group_adults=2&req_adults=2&no_rooms=1&group_children=0&req_children=0&hpos=1&hapos=351&sr_order=popularity&srpvid=e74992fcebb600ae&srepoch=1646686512&from=searchresults#hotelTmpl': 5,\n",
       " 'https://www.booking.com/hotel/is/fosshotelreykholt.zh-tw.html?label=gen173bo-1DCAEoggI46AdIMFgDaOcBiAEBmAEwuAEXyAEM2AED6AEB-AEDiAIBmAICqAIDuALMrZiRBsACAdICJDA4MWM3ODVkLWU3YjYtNGUwNC1hOGMzLWJiMzJhYjZlODBhNdgCBOACAQ&sid=e12b90519bab632c3ffdcb360924a5c1&aid=304142&ucfs=1&arphpl=1&dest_id=97&dest_type=country&group_adults=2&req_adults=2&no_rooms=1&group_children=0&req_children=0&hpos=2&hapos=352&sr_order=popularity&srpvid=e74992fcebb600ae&srepoch=1646686512&from=searchresults#hotelTmpl': 518,\n",
       " 'https://www.booking.com/hotel/is/tjarna.zh-tw.html?label=gen173bo-1DCAEoggI46AdIMFgDaOcBiAEBmAEwuAEXyAEM2AED6AEB-AEDiAIBmAICqAIDuALMrZiRBsACAdICJDA4MWM3ODVkLWU3YjYtNGUwNC1hOGMzLWJiMzJhYjZlODBhNdgCBOACAQ&sid=e12b90519bab632c3ffdcb360924a5c1&aid=304142&ucfs=1&arphpl=1&dest_id=97&dest_type=country&group_adults=2&req_adults=2&no_rooms=1&group_children=0&req_children=0&hpos=3&hapos=353&sr_order=popularity&srpvid=e74992fcebb600ae&srepoch=1646686512&from=searchresults#hotelTmpl': 439,\n",
       " 'https://www.booking.com/hotel/is/birkilauf.zh-tw.html?label=gen173bo-1DCAEoggI46AdIMFgDaOcBiAEBmAEwuAEXyAEM2AED6AEB-AEDiAIBmAICqAIDuALMrZiRBsACAdICJDA4MWM3ODVkLWU3YjYtNGUwNC1hOGMzLWJiMzJhYjZlODBhNdgCBOACAQ&sid=e12b90519bab632c3ffdcb360924a5c1&aid=304142&ucfs=1&arphpl=1&dest_id=97&dest_type=country&group_adults=2&req_adults=2&no_rooms=1&group_children=0&req_children=0&hpos=4&hapos=354&sr_order=popularity&srpvid=e74992fcebb600ae&srepoch=1646686512&from_sustainable_property_sr=1&from=searchresults#hotelTmpl': 161,\n",
       " 'https://www.booking.com/hotel/is/latrabjarg.zh-tw.html?label=gen173bo-1DCAEoggI46AdIMFgDaOcBiAEBmAEwuAEXyAEM2AED6AEB-AEDiAIBmAICqAIDuALMrZiRBsACAdICJDA4MWM3ODVkLWU3YjYtNGUwNC1hOGMzLWJiMzJhYjZlODBhNdgCBOACAQ&sid=e12b90519bab632c3ffdcb360924a5c1&aid=304142&ucfs=1&arphpl=1&dest_id=97&dest_type=country&group_adults=2&req_adults=2&no_rooms=1&group_children=0&req_children=0&hpos=5&hapos=355&sr_order=popularity&srpvid=e74992fcebb600ae&srepoch=1646686512&from=searchresults#hotelTmpl': 234,\n",
       " 'https://www.booking.com/hotel/is/north-west.zh-tw.html?label=gen173bo-1DCAEoggI46AdIMFgDaOcBiAEBmAEwuAEXyAEM2AED6AEB-AEDiAIBmAICqAIDuALMrZiRBsACAdICJDA4MWM3ODVkLWU3YjYtNGUwNC1hOGMzLWJiMzJhYjZlODBhNdgCBOACAQ&sid=e12b90519bab632c3ffdcb360924a5c1&aid=304142&ucfs=1&arphpl=1&dest_id=97&dest_type=country&group_adults=2&req_adults=2&no_rooms=1&group_children=0&req_children=0&hpos=6&hapos=356&sr_order=popularity&srpvid=e74992fcebb600ae&srepoch=1646686512&from=searchresults#hotelTmpl': 554,\n",
       " 'https://www.booking.com/hotel/is/varmaland.zh-tw.html?label=gen173bo-1DCAEoggI46AdIMFgDaOcBiAEBmAEwuAEXyAEM2AED6AEB-AEDiAIBmAICqAIDuALMrZiRBsACAdICJDA4MWM3ODVkLWU3YjYtNGUwNC1hOGMzLWJiMzJhYjZlODBhNdgCBOACAQ&sid=e12b90519bab632c3ffdcb360924a5c1&aid=304142&ucfs=1&arphpl=1&dest_id=97&dest_type=country&group_adults=2&req_adults=2&no_rooms=1&group_children=0&req_children=0&hpos=7&hapos=357&sr_order=popularity&srpvid=e74992fcebb600ae&srepoch=1646686512&from=searchresults#hotelTmpl': 396,\n",
       " 'https://www.booking.com/hotel/is/borealis.zh-tw.html?label=gen173bo-1DCAEoggI46AdIMFgDaOcBiAEBmAEwuAEXyAEM2AED6AEB-AEDiAIBmAICqAIDuALMrZiRBsACAdICJDA4MWM3ODVkLWU3YjYtNGUwNC1hOGMzLWJiMzJhYjZlODBhNdgCBOACAQ&sid=e12b90519bab632c3ffdcb360924a5c1&aid=304142&ucfs=1&arphpl=1&dest_id=97&dest_type=country&group_adults=2&req_adults=2&no_rooms=1&group_children=0&req_children=0&hpos=8&hapos=358&sr_order=popularity&srpvid=e74992fcebb600ae&srepoch=1646686512&from=searchresults#hotelTmpl': 830,\n",
       " 'https://www.booking.com/hotel/is/isafjordur.zh-tw.html?label=gen173bo-1DCAEoggI46AdIMFgDaOcBiAEBmAEwuAEXyAEM2AED6AEB-AEDiAIBmAICqAIDuALMrZiRBsACAdICJDA4MWM3ODVkLWU3YjYtNGUwNC1hOGMzLWJiMzJhYjZlODBhNdgCBOACAQ&sid=e12b90519bab632c3ffdcb360924a5c1&aid=304142&ucfs=1&arphpl=1&dest_id=97&dest_type=country&group_adults=2&req_adults=2&no_rooms=1&group_children=0&req_children=0&hpos=9&hapos=359&sr_order=popularity&srpvid=e74992fcebb600ae&srepoch=1646686512&from=searchresults#hotelTmpl': 671,\n",
       " 'https://www.booking.com/hotel/is/laugarholl.zh-tw.html?label=gen173bo-1DCAEoggI46AdIMFgDaOcBiAEBmAEwuAEXyAEM2AED6AEB-AEDiAIBmAICqAIDuALMrZiRBsACAdICJDA4MWM3ODVkLWU3YjYtNGUwNC1hOGMzLWJiMzJhYjZlODBhNdgCBOACAQ&sid=e12b90519bab632c3ffdcb360924a5c1&aid=304142&ucfs=1&arphpl=1&dest_id=97&dest_type=country&group_adults=2&req_adults=2&no_rooms=1&group_children=0&req_children=0&hpos=10&hapos=360&sr_order=popularity&srpvid=e74992fcebb600ae&srepoch=1646686512&from=searchresults#hotelTmpl': 310,\n",
       " 'https://www.booking.com/hotel/is/fosshotel-eastfjords.zh-tw.html?label=gen173bo-1DCAEoggI46AdIMFgDaOcBiAEBmAEwuAEXyAEM2AED6AEB-AEDiAIBmAICqAIDuALMrZiRBsACAdICJDA4MWM3ODVkLWU3YjYtNGUwNC1hOGMzLWJiMzJhYjZlODBhNdgCBOACAQ&sid=e12b90519bab632c3ffdcb360924a5c1&aid=304142&ucfs=1&arphpl=1&dest_id=97&dest_type=country&group_adults=2&req_adults=2&no_rooms=1&group_children=0&req_children=0&hpos=11&hapos=361&sr_order=popularity&srpvid=e74992fcebb600ae&srepoch=1646686512&from=searchresults#hotelTmpl': 285,\n",
       " 'https://www.booking.com/hotel/is/arnarstapi.zh-tw.html?label=gen173bo-1DCAEoggI46AdIMFgDaOcBiAEBmAEwuAEXyAEM2AED6AEB-AEDiAIBmAICqAIDuALMrZiRBsACAdICJDA4MWM3ODVkLWU3YjYtNGUwNC1hOGMzLWJiMzJhYjZlODBhNdgCBOACAQ&sid=e12b90519bab632c3ffdcb360924a5c1&aid=304142&ucfs=1&arphpl=1&dest_id=97&dest_type=country&group_adults=2&req_adults=2&no_rooms=1&group_children=0&req_children=0&hpos=12&hapos=362&sr_order=popularity&srpvid=e74992fcebb600ae&srepoch=1646686512&from=searchresults#hotelTmpl': 722,\n",
       " 'https://www.booking.com/hotel/is/hotel_vegamot.zh-tw.html?label=gen173bo-1DCAEoggI46AdIMFgDaOcBiAEBmAEwuAEXyAEM2AED6AEB-AEDiAIBmAICqAIDuALMrZiRBsACAdICJDA4MWM3ODVkLWU3YjYtNGUwNC1hOGMzLWJiMzJhYjZlODBhNdgCBOACAQ&sid=e12b90519bab632c3ffdcb360924a5c1&aid=304142&ucfs=1&arphpl=1&dest_id=97&dest_type=country&group_adults=2&req_adults=2&no_rooms=1&group_children=0&req_children=0&hpos=13&hapos=363&sr_order=popularity&srpvid=e74992fcebb600ae&srepoch=1646686512&from=searchresults#hotelTmpl': 272,\n",
       " 'https://www.booking.com/hotel/is/stormur-cottages.zh-tw.html?label=gen173bo-1DCAEoggI46AdIMFgDaOcBiAEBmAEwuAEXyAEM2AED6AEB-AEDiAIBmAICqAIDuALMrZiRBsACAdICJDA4MWM3ODVkLWU3YjYtNGUwNC1hOGMzLWJiMzJhYjZlODBhNdgCBOACAQ&sid=e12b90519bab632c3ffdcb360924a5c1&aid=304142&ucfs=1&arphpl=1&dest_id=97&dest_type=country&group_adults=2&req_adults=2&no_rooms=1&group_children=0&req_children=0&hpos=14&hapos=364&sr_order=popularity&srpvid=e74992fcebb600ae&srepoch=1646686512&from=searchresults#hotelTmpl': 166,\n",
       " 'https://www.booking.com/hotel/is/vos.zh-tw.html?label=gen173bo-1DCAEoggI46AdIMFgDaOcBiAEBmAEwuAEXyAEM2AED6AEB-AEDiAIBmAICqAIDuALMrZiRBsACAdICJDA4MWM3ODVkLWU3YjYtNGUwNC1hOGMzLWJiMzJhYjZlODBhNdgCBOACAQ&sid=e12b90519bab632c3ffdcb360924a5c1&aid=304142&ucfs=1&arphpl=1&dest_id=97&dest_type=country&group_adults=2&req_adults=2&no_rooms=1&group_children=0&req_children=0&hpos=15&hapos=365&sr_order=popularity&srpvid=e74992fcebb600ae&srepoch=1646686512&from=searchresults#hotelTmpl': 78,\n",
       " 'https://www.booking.com/hotel/is/guesthouse-trollaskagi.zh-tw.html?label=gen173bo-1DCAEoggI46AdIMFgDaOcBiAEBmAEwuAEXyAEM2AED6AEB-AEDiAIBmAICqAIDuALMrZiRBsACAdICJDA4MWM3ODVkLWU3YjYtNGUwNC1hOGMzLWJiMzJhYjZlODBhNdgCBOACAQ&sid=e12b90519bab632c3ffdcb360924a5c1&aid=304142&ucfs=1&arphpl=1&dest_id=97&dest_type=country&group_adults=2&req_adults=2&no_rooms=1&group_children=0&req_children=0&hpos=16&hapos=366&sr_order=popularity&srpvid=e74992fcebb600ae&srepoch=1646686512&from_sustainable_property_sr=1&from=searchresults#hotelTmpl': 379,\n",
       " 'https://www.booking.com/hotel/is/welcome-edinborg.zh-tw.html?label=gen173bo-1DCAEoggI46AdIMFgDaOcBiAEBmAEwuAEXyAEM2AED6AEB-AEDiAIBmAICqAIDuALMrZiRBsACAdICJDA4MWM3ODVkLWU3YjYtNGUwNC1hOGMzLWJiMzJhYjZlODBhNdgCBOACAQ&sid=e12b90519bab632c3ffdcb360924a5c1&aid=304142&ucfs=1&arphpl=1&dest_id=97&dest_type=country&group_adults=2&req_adults=2&no_rooms=1&group_children=0&req_children=0&hpos=17&hapos=367&sr_order=popularity&srpvid=e74992fcebb600ae&srepoch=1646686512&from=searchresults#hotelTmpl': 404,\n",
       " 'https://www.booking.com/hotel/is/guesthouse-hraunbaer.zh-tw.html?label=gen173bo-1DCAEoggI46AdIMFgDaOcBiAEBmAEwuAEXyAEM2AED6AEB-AEDiAIBmAICqAIDuALMrZiRBsACAdICJDA4MWM3ODVkLWU3YjYtNGUwNC1hOGMzLWJiMzJhYjZlODBhNdgCBOACAQ&sid=e12b90519bab632c3ffdcb360924a5c1&aid=304142&ucfs=1&arphpl=1&dest_id=97&dest_type=country&group_adults=2&req_adults=2&no_rooms=1&group_children=0&req_children=0&hpos=18&hapos=368&sr_order=popularity&srpvid=e74992fcebb600ae&srepoch=1646686512&from=searchresults#hotelTmpl': 122,\n",
       " 'https://www.booking.com/hotel/is/finna.zh-tw.html?label=gen173bo-1DCAEoggI46AdIMFgDaOcBiAEBmAEwuAEXyAEM2AED6AEB-AEDiAIBmAICqAIDuALMrZiRBsACAdICJDA4MWM3ODVkLWU3YjYtNGUwNC1hOGMzLWJiMzJhYjZlODBhNdgCBOACAQ&sid=e12b90519bab632c3ffdcb360924a5c1&aid=304142&ucfs=1&arphpl=1&dest_id=97&dest_type=country&group_adults=2&req_adults=2&no_rooms=1&group_children=0&req_children=0&hpos=19&hapos=369&sr_order=popularity&srpvid=e74992fcebb600ae&srepoch=1646686512&from=searchresults#hotelTmpl': 763,\n",
       " 'https://www.booking.com/hotel/is/isafjordur-hostel.zh-tw.html?label=gen173bo-1DCAEoggI46AdIMFgDaOcBiAEBmAEwuAEXyAEM2AED6AEB-AEDiAIBmAICqAIDuALMrZiRBsACAdICJDA4MWM3ODVkLWU3YjYtNGUwNC1hOGMzLWJiMzJhYjZlODBhNdgCBOACAQ&sid=e12b90519bab632c3ffdcb360924a5c1&aid=304142&ucfs=1&arphpl=1&dest_id=97&dest_type=country&group_adults=2&req_adults=2&no_rooms=1&group_children=0&req_children=0&hpos=20&hapos=370&sr_order=popularity&srpvid=e74992fcebb600ae&srepoch=1646686512&from=searchresults#hotelTmpl': 180,\n",
       " 'https://www.booking.com/hotel/is/north-star-steinsstadir.zh-tw.html?label=gen173bo-1DCAEoggI46AdIMFgDaOcBiAEBmAEwuAEXyAEM2AED6AEB-AEDiAIBmAICqAIDuALMrZiRBsACAdICJDA4MWM3ODVkLWU3YjYtNGUwNC1hOGMzLWJiMzJhYjZlODBhNdgCBOACAQ&sid=e12b90519bab632c3ffdcb360924a5c1&aid=304142&ucfs=1&arphpl=1&dest_id=97&dest_type=country&group_adults=2&req_adults=2&no_rooms=1&group_children=0&req_children=0&hpos=21&hapos=371&sr_order=popularity&srpvid=e74992fcebb600ae&srepoch=1646686512&from=searchresults#hotelTmpl': 190,\n",
       " 'https://www.booking.com/hotel/is/south-iceland-guesthouse.zh-tw.html?label=gen173bo-1DCAEoggI46AdIMFgDaOcBiAEBmAEwuAEXyAEM2AED6AEB-AEDiAIBmAICqAIDuALMrZiRBsACAdICJDA4MWM3ODVkLWU3YjYtNGUwNC1hOGMzLWJiMzJhYjZlODBhNdgCBOACAQ&sid=e12b90519bab632c3ffdcb360924a5c1&aid=304142&ucfs=1&arphpl=1&dest_id=97&dest_type=country&group_adults=2&req_adults=2&no_rooms=1&group_children=0&req_children=0&hpos=22&hapos=372&sr_order=popularity&srpvid=e74992fcebb600ae&srepoch=1646686512&from_sustainable_property_sr=1&from=searchresults#hotelTmpl': 474,\n",
       " 'https://www.booking.com/hotel/is/einarshusid-guesthouse.zh-tw.html?label=gen173bo-1DCAEoggI46AdIMFgDaOcBiAEBmAEwuAEXyAEM2AED6AEB-AEDiAIBmAICqAIDuALMrZiRBsACAdICJDA4MWM3ODVkLWU3YjYtNGUwNC1hOGMzLWJiMzJhYjZlODBhNdgCBOACAQ&sid=e12b90519bab632c3ffdcb360924a5c1&aid=304142&ucfs=1&arphpl=1&dest_id=97&dest_type=country&group_adults=2&req_adults=2&no_rooms=1&group_children=0&req_children=0&hpos=23&hapos=373&sr_order=popularity&srpvid=e74992fcebb600ae&srepoch=1646686512&from=searchresults#hotelTmpl': 173,\n",
       " 'https://www.booking.com/hotel/is/managisting-guesthouse.zh-tw.html?label=gen173bo-1DCAEoggI46AdIMFgDaOcBiAEBmAEwuAEXyAEM2AED6AEB-AEDiAIBmAICqAIDuALMrZiRBsACAdICJDA4MWM3ODVkLWU3YjYtNGUwNC1hOGMzLWJiMzJhYjZlODBhNdgCBOACAQ&sid=e12b90519bab632c3ffdcb360924a5c1&aid=304142&ucfs=1&arphpl=1&dest_id=97&dest_type=country&group_adults=2&req_adults=2&no_rooms=1&group_children=0&req_children=0&hpos=24&hapos=374&sr_order=popularity&srpvid=e74992fcebb600ae&srepoch=1646686512&from=searchresults#hotelTmpl': 643,\n",
       " 'https://www.booking.com/hotel/is/varmahlid.zh-tw.html?label=gen173bo-1DCAEoggI46AdIMFgDaOcBiAEBmAEwuAEXyAEM2AED6AEB-AEDiAIBmAICqAIDuALMrZiRBsACAdICJDA4MWM3ODVkLWU3YjYtNGUwNC1hOGMzLWJiMzJhYjZlODBhNdgCBOACAQ&sid=e12b90519bab632c3ffdcb360924a5c1&aid=304142&ucfs=1&arphpl=1&dest_id=97&dest_type=country&group_adults=2&req_adults=2&no_rooms=1&group_children=0&req_children=0&hpos=25&hapos=375&sr_order=popularity&srpvid=e74992fcebb600ae&srepoch=1646686512&from=searchresults#hotelTmpl': 105,\n",
       " 'https://www.booking.com/hotel/is/vogar.zh-tw.html?label=gen173bo-1DCAEoggI46AdIMFgDaOcBiAEBmAEwuAEXyAEM2AED6AEB-AEDiAIBmAICqAIDuALMrZiRBsACAdICJDA4MWM3ODVkLWU3YjYtNGUwNC1hOGMzLWJiMzJhYjZlODBhNdgCBOACAQ&sid=e12b90519bab632c3ffdcb360924a5c1&aid=304142&ucfs=1&arphpl=1&dest_id=97&dest_type=country&group_adults=2&req_adults=2&no_rooms=1&group_children=0&req_children=0&hpos=1&hapos=376&sr_order=popularity&srpvid=e74992fcebb600ae&srepoch=1646686515&from=searchresults#hotelTmpl': 228,\n",
       " 'https://www.booking.com/hotel/is/guesthouse-nyp.zh-tw.html?label=gen173bo-1DCAEoggI46AdIMFgDaOcBiAEBmAEwuAEXyAEM2AED6AEB-AEDiAIBmAICqAIDuALMrZiRBsACAdICJDA4MWM3ODVkLWU3YjYtNGUwNC1hOGMzLWJiMzJhYjZlODBhNdgCBOACAQ&sid=e12b90519bab632c3ffdcb360924a5c1&aid=304142&ucfs=1&arphpl=1&dest_id=97&dest_type=country&group_adults=2&req_adults=2&no_rooms=1&group_children=0&req_children=0&hpos=2&hapos=377&sr_order=popularity&srpvid=e74992fcebb600ae&srepoch=1646686515&from_sustainable_property_sr=1&from=searchresults#hotelTmpl': 96,\n",
       " 'https://www.booking.com/hotel/is/dalakot.zh-tw.html?label=gen173bo-1DCAEoggI46AdIMFgDaOcBiAEBmAEwuAEXyAEM2AED6AEB-AEDiAIBmAICqAIDuALMrZiRBsACAdICJDA4MWM3ODVkLWU3YjYtNGUwNC1hOGMzLWJiMzJhYjZlODBhNdgCBOACAQ&sid=e12b90519bab632c3ffdcb360924a5c1&aid=304142&ucfs=1&arphpl=1&dest_id=97&dest_type=country&group_adults=2&req_adults=2&no_rooms=1&group_children=0&req_children=0&hpos=3&hapos=378&sr_order=popularity&srpvid=e74992fcebb600ae&srepoch=1646686515&from=searchresults#hotelTmpl': 531,\n",
       " 'https://www.booking.com/hotel/is/raudsdalur.zh-tw.html?label=gen173bo-1DCAEoggI46AdIMFgDaOcBiAEBmAEwuAEXyAEM2AED6AEB-AEDiAIBmAICqAIDuALMrZiRBsACAdICJDA4MWM3ODVkLWU3YjYtNGUwNC1hOGMzLWJiMzJhYjZlODBhNdgCBOACAQ&sid=e12b90519bab632c3ffdcb360924a5c1&aid=304142&ucfs=1&arphpl=1&dest_id=97&dest_type=country&group_adults=2&req_adults=2&no_rooms=1&group_children=0&req_children=0&hpos=4&hapos=379&sr_order=popularity&srpvid=e74992fcebb600ae&srepoch=1646686515&from=searchresults#hotelTmpl': 302,\n",
       " 'https://www.booking.com/hotel/is/fossatun-camping-pods.zh-tw.html?label=gen173bo-1DCAEoggI46AdIMFgDaOcBiAEBmAEwuAEXyAEM2AED6AEB-AEDiAIBmAICqAIDuALMrZiRBsACAdICJDA4MWM3ODVkLWU3YjYtNGUwNC1hOGMzLWJiMzJhYjZlODBhNdgCBOACAQ&sid=e12b90519bab632c3ffdcb360924a5c1&aid=304142&ucfs=1&arphpl=1&dest_id=97&dest_type=country&group_adults=2&req_adults=2&no_rooms=1&group_children=0&req_children=0&hpos=5&hapos=380&sr_order=popularity&srpvid=e74992fcebb600ae&srepoch=1646686515&from=searchresults#hotelTmpl': 1299,\n",
       " 'https://www.booking.com/hotel/is/guesthouse-gamli-baer.zh-tw.html?label=gen173bo-1DCAEoggI46AdIMFgDaOcBiAEBmAEwuAEXyAEM2AED6AEB-AEDiAIBmAICqAIDuALMrZiRBsACAdICJDA4MWM3ODVkLWU3YjYtNGUwNC1hOGMzLWJiMzJhYjZlODBhNdgCBOACAQ&sid=e12b90519bab632c3ffdcb360924a5c1&aid=304142&ucfs=1&arphpl=1&dest_id=97&dest_type=country&group_adults=2&req_adults=2&no_rooms=1&group_children=0&req_children=0&hpos=6&hapos=381&sr_order=popularity&srpvid=e74992fcebb600ae&srepoch=1646686515&from=searchresults#hotelTmpl': 322,\n",
       " 'https://www.booking.com/hotel/is/akureyri-apartment.zh-tw.html?label=gen173bo-1DCAEoggI46AdIMFgDaOcBiAEBmAEwuAEXyAEM2AED6AEB-AEDiAIBmAICqAIDuALMrZiRBsACAdICJDA4MWM3ODVkLWU3YjYtNGUwNC1hOGMzLWJiMzJhYjZlODBhNdgCBOACAQ&sid=e12b90519bab632c3ffdcb360924a5c1&aid=304142&ucfs=1&arphpl=1&dest_id=97&dest_type=country&group_adults=2&req_adults=2&no_rooms=1&group_children=0&req_children=0&hpos=7&hapos=382&sr_order=popularity&srpvid=e74992fcebb600ae&srepoch=1646686515&from=searchresults#hotelTmpl': 34,\n",
       " 'https://www.booking.com/hotel/is/guesthouse-basar.zh-tw.html?label=gen173bo-1DCAEoggI46AdIMFgDaOcBiAEBmAEwuAEXyAEM2AED6AEB-AEDiAIBmAICqAIDuALMrZiRBsACAdICJDA4MWM3ODVkLWU3YjYtNGUwNC1hOGMzLWJiMzJhYjZlODBhNdgCBOACAQ&sid=e12b90519bab632c3ffdcb360924a5c1&aid=304142&ucfs=1&arphpl=1&dest_id=97&dest_type=country&group_adults=2&req_adults=2&no_rooms=1&group_children=0&req_children=0&hpos=8&hapos=383&sr_order=popularity&srpvid=e74992fcebb600ae&srepoch=1646686515&from=searchresults#hotelTmpl': 85,\n",
       " 'https://www.booking.com/hotel/is/tindastoll.zh-tw.html?label=gen173bo-1DCAEoggI46AdIMFgDaOcBiAEBmAEwuAEXyAEM2AED6AEB-AEDiAIBmAICqAIDuALMrZiRBsACAdICJDA4MWM3ODVkLWU3YjYtNGUwNC1hOGMzLWJiMzJhYjZlODBhNdgCBOACAQ&sid=e12b90519bab632c3ffdcb360924a5c1&aid=304142&ucfs=1&arphpl=1&dest_id=97&dest_type=country&group_adults=2&req_adults=2&no_rooms=1&group_children=0&req_children=0&hpos=9&hapos=384&sr_order=popularity&srpvid=e74992fcebb600ae&srepoch=1646686515&from_sustainable_property_sr=1&from=searchresults#hotelTmpl': 201,\n",
       " 'https://www.booking.com/hotel/is/guesthouse-malarhorn.zh-tw.html?label=gen173bo-1DCAEoggI46AdIMFgDaOcBiAEBmAEwuAEXyAEM2AED6AEB-AEDiAIBmAICqAIDuALMrZiRBsACAdICJDA4MWM3ODVkLWU3YjYtNGUwNC1hOGMzLWJiMzJhYjZlODBhNdgCBOACAQ&sid=e12b90519bab632c3ffdcb360924a5c1&aid=304142&ucfs=1&arphpl=1&dest_id=97&dest_type=country&group_adults=2&req_adults=2&no_rooms=1&group_children=0&req_children=0&hpos=10&hapos=385&sr_order=popularity&srpvid=e74992fcebb600ae&srepoch=1646686515&from=searchresults#hotelTmpl': 710,\n",
       " 'https://www.booking.com/hotel/is/husid-guesthouse.zh-tw.html?label=gen173bo-1DCAEoggI46AdIMFgDaOcBiAEBmAEwuAEXyAEM2AED6AEB-AEDiAIBmAICqAIDuALMrZiRBsACAdICJDA4MWM3ODVkLWU3YjYtNGUwNC1hOGMzLWJiMzJhYjZlODBhNdgCBOACAQ&sid=e12b90519bab632c3ffdcb360924a5c1&aid=304142&ucfs=1&arphpl=1&dest_id=97&dest_type=country&group_adults=2&req_adults=2&no_rooms=1&group_children=0&req_children=0&hpos=11&hapos=386&sr_order=popularity&srpvid=e74992fcebb600ae&srepoch=1646686515&from=searchresults#hotelTmpl': 103,\n",
       " 'https://www.booking.com/hotel/is/fosshotel-hekla.zh-tw.html?label=gen173bo-1DCAEoggI46AdIMFgDaOcBiAEBmAEwuAEXyAEM2AED6AEB-AEDiAIBmAICqAIDuALMrZiRBsACAdICJDA4MWM3ODVkLWU3YjYtNGUwNC1hOGMzLWJiMzJhYjZlODBhNdgCBOACAQ&sid=e12b90519bab632c3ffdcb360924a5c1&aid=304142&ucfs=1&arphpl=1&dest_id=97&dest_type=country&group_adults=2&req_adults=2&no_rooms=1&group_children=0&req_children=0&hpos=12&hapos=387&sr_order=popularity&srpvid=e74992fcebb600ae&srepoch=1646686515&from=searchresults#hotelTmpl': 57,\n",
       " 'https://www.booking.com/hotel/is/laugaras-homestay.zh-tw.html?label=gen173bo-1DCAEoggI46AdIMFgDaOcBiAEBmAEwuAEXyAEM2AED6AEB-AEDiAIBmAICqAIDuALMrZiRBsACAdICJDA4MWM3ODVkLWU3YjYtNGUwNC1hOGMzLWJiMzJhYjZlODBhNdgCBOACAQ&sid=e12b90519bab632c3ffdcb360924a5c1&aid=304142&ucfs=1&arphpl=1&dest_id=97&dest_type=country&group_adults=2&req_adults=2&no_rooms=1&group_children=0&req_children=0&hpos=13&hapos=388&sr_order=popularity&srpvid=e74992fcebb600ae&srepoch=1646686515&from=searchresults#hotelTmpl': 116,\n",
       " 'https://www.booking.com/hotel/is/gamla-rif.zh-tw.html?label=gen173bo-1DCAEoggI46AdIMFgDaOcBiAEBmAEwuAEXyAEM2AED6AEB-AEDiAIBmAICqAIDuALMrZiRBsACAdICJDA4MWM3ODVkLWU3YjYtNGUwNC1hOGMzLWJiMzJhYjZlODBhNdgCBOACAQ&sid=e12b90519bab632c3ffdcb360924a5c1&aid=304142&ucfs=1&arphpl=1&dest_id=97&dest_type=country&group_adults=2&req_adults=2&no_rooms=1&group_children=0&req_children=0&hpos=14&hapos=389&sr_order=popularity&srpvid=e74992fcebb600ae&srepoch=1646686515&from=searchresults#hotelTmpl': 228,\n",
       " 'https://www.booking.com/hotel/is/geysir-modern-log-cabin.zh-tw.html?label=gen173bo-1DCAEoggI46AdIMFgDaOcBiAEBmAEwuAEXyAEM2AED6AEB-AEDiAIBmAICqAIDuALMrZiRBsACAdICJDA4MWM3ODVkLWU3YjYtNGUwNC1hOGMzLWJiMzJhYjZlODBhNdgCBOACAQ&sid=e12b90519bab632c3ffdcb360924a5c1&aid=304142&ucfs=1&arphpl=1&dest_id=97&dest_type=country&group_adults=2&req_adults=2&no_rooms=1&group_children=0&req_children=0&hpos=15&hapos=390&sr_order=popularity&srpvid=e74992fcebb600ae&srepoch=1646686515&from=searchresults#hotelTmpl': 21,\n",
       " 'https://www.booking.com/hotel/is/fosshotel-dalvik.zh-tw.html?label=gen173bo-1DCAEoggI46AdIMFgDaOcBiAEBmAEwuAEXyAEM2AED6AEB-AEDiAIBmAICqAIDuALMrZiRBsACAdICJDA4MWM3ODVkLWU3YjYtNGUwNC1hOGMzLWJiMzJhYjZlODBhNdgCBOACAQ&sid=e12b90519bab632c3ffdcb360924a5c1&aid=304142&ucfs=1&arphpl=1&dest_id=97&dest_type=country&group_adults=2&req_adults=2&no_rooms=1&group_children=0&req_children=0&hpos=16&hapos=391&sr_order=popularity&srpvid=e74992fcebb600ae&srepoch=1646686515&from=searchresults#hotelTmpl': 118,\n",
       " 'https://www.booking.com/hotel/is/country-smyrlabjorg.zh-tw.html?label=gen173bo-1DCAEoggI46AdIMFgDaOcBiAEBmAEwuAEXyAEM2AED6AEB-AEDiAIBmAICqAIDuALMrZiRBsACAdICJDA4MWM3ODVkLWU3YjYtNGUwNC1hOGMzLWJiMzJhYjZlODBhNdgCBOACAQ&sid=e12b90519bab632c3ffdcb360924a5c1&aid=304142&ucfs=1&arphpl=1&dest_id=97&dest_type=country&group_adults=2&req_adults=2&no_rooms=1&group_children=0&req_children=0&hpos=17&hapos=392&sr_order=popularity&srpvid=e74992fcebb600ae&srepoch=1646686515&from_sustainable_property_sr=1&from=searchresults#hotelTmpl': 710,\n",
       " 'https://www.booking.com/hotel/is/fosshotel-skaftafell.zh-tw.html?label=gen173bo-1DCAEoggI46AdIMFgDaOcBiAEBmAEwuAEXyAEM2AED6AEB-AEDiAIBmAICqAIDuALMrZiRBsACAdICJDA4MWM3ODVkLWU3YjYtNGUwNC1hOGMzLWJiMzJhYjZlODBhNdgCBOACAQ&sid=e12b90519bab632c3ffdcb360924a5c1&aid=304142&ucfs=1&arphpl=1&dest_id=97&dest_type=country&group_adults=2&req_adults=2&no_rooms=1&group_children=0&req_children=0&hpos=18&hapos=393&sr_order=popularity&srpvid=e74992fcebb600ae&srepoch=1646686515&from=searchresults#hotelTmpl': 1772,\n",
       " 'https://www.booking.com/hotel/is/hrifunes-guesthouse.zh-tw.html?label=gen173bo-1DCAEoggI46AdIMFgDaOcBiAEBmAEwuAEXyAEM2AED6AEB-AEDiAIBmAICqAIDuALMrZiRBsACAdICJDA4MWM3ODVkLWU3YjYtNGUwNC1hOGMzLWJiMzJhYjZlODBhNdgCBOACAQ&sid=e12b90519bab632c3ffdcb360924a5c1&aid=304142&ucfs=1&arphpl=1&dest_id=97&dest_type=country&group_adults=2&req_adults=2&no_rooms=1&group_children=0&req_children=0&hpos=19&hapos=394&sr_order=popularity&srpvid=e74992fcebb600ae&srepoch=1646686515&from=searchresults#hotelTmpl': 494,\n",
       " 'https://www.booking.com/hotel/is/eyjafjallajokull.zh-tw.html?label=gen173bo-1DCAEoggI46AdIMFgDaOcBiAEBmAEwuAEXyAEM2AED6AEB-AEDiAIBmAICqAIDuALMrZiRBsACAdICJDA4MWM3ODVkLWU3YjYtNGUwNC1hOGMzLWJiMzJhYjZlODBhNdgCBOACAQ&sid=e12b90519bab632c3ffdcb360924a5c1&aid=304142&ucfs=1&arphpl=1&dest_id=97&dest_type=country&group_adults=2&req_adults=2&no_rooms=1&group_children=0&req_children=0&hpos=20&hapos=395&sr_order=popularity&srpvid=e74992fcebb600ae&srepoch=1646686515&from=searchresults#hotelTmpl': 196,\n",
       " 'https://www.booking.com/hotel/is/fisherman-sudureyri.zh-tw.html?label=gen173bo-1DCAEoggI46AdIMFgDaOcBiAEBmAEwuAEXyAEM2AED6AEB-AEDiAIBmAICqAIDuALMrZiRBsACAdICJDA4MWM3ODVkLWU3YjYtNGUwNC1hOGMzLWJiMzJhYjZlODBhNdgCBOACAQ&sid=e12b90519bab632c3ffdcb360924a5c1&aid=304142&ucfs=1&arphpl=1&dest_id=97&dest_type=country&group_adults=2&req_adults=2&no_rooms=1&group_children=0&req_children=0&hpos=21&hapos=396&sr_order=popularity&srpvid=e74992fcebb600ae&srepoch=1646686515&from=searchresults#hotelTmpl': 243,\n",
       " 'https://www.booking.com/hotel/is/guesthouse-steindorsstadir.zh-tw.html?label=gen173bo-1DCAEoggI46AdIMFgDaOcBiAEBmAEwuAEXyAEM2AED6AEB-AEDiAIBmAICqAIDuALMrZiRBsACAdICJDA4MWM3ODVkLWU3YjYtNGUwNC1hOGMzLWJiMzJhYjZlODBhNdgCBOACAQ&sid=e12b90519bab632c3ffdcb360924a5c1&aid=304142&ucfs=1&arphpl=1&dest_id=97&dest_type=country&group_adults=2&req_adults=2&no_rooms=1&group_children=0&req_children=0&hpos=22&hapos=397&sr_order=popularity&srpvid=e74992fcebb600ae&srepoch=1646686515&from=searchresults#hotelTmpl': 300,\n",
       " 'https://www.booking.com/hotel/is/gistihus-holmavikur.zh-tw.html?label=gen173bo-1DCAEoggI46AdIMFgDaOcBiAEBmAEwuAEXyAEM2AED6AEB-AEDiAIBmAICqAIDuALMrZiRBsACAdICJDA4MWM3ODVkLWU3YjYtNGUwNC1hOGMzLWJiMzJhYjZlODBhNdgCBOACAQ&sid=e12b90519bab632c3ffdcb360924a5c1&aid=304142&ucfs=1&arphpl=1&dest_id=97&dest_type=country&group_adults=2&req_adults=2&no_rooms=1&group_children=0&req_children=0&hpos=23&hapos=398&sr_order=popularity&srpvid=e74992fcebb600ae&srepoch=1646686515&from=searchresults#hotelTmpl': 172,\n",
       " 'https://www.booking.com/hotel/is/midjanes-reykholahrepp-reykholar.zh-tw.html?label=gen173bo-1DCAEoggI46AdIMFgDaOcBiAEBmAEwuAEXyAEM2AED6AEB-AEDiAIBmAICqAIDuALMrZiRBsACAdICJDA4MWM3ODVkLWU3YjYtNGUwNC1hOGMzLWJiMzJhYjZlODBhNdgCBOACAQ&sid=e12b90519bab632c3ffdcb360924a5c1&aid=304142&ucfs=1&arphpl=1&dest_id=97&dest_type=country&group_adults=2&req_adults=2&no_rooms=1&group_children=0&req_children=0&hpos=24&hapos=399&sr_order=popularity&srpvid=e74992fcebb600ae&srepoch=1646686515&from=searchresults#hotelTmpl': 246,\n",
       " 'https://www.booking.com/hotel/is/fosshotel-westfjords.zh-tw.html?label=gen173bo-1DCAEoggI46AdIMFgDaOcBiAEBmAEwuAEXyAEM2AED6AEB-AEDiAIBmAICqAIDuALMrZiRBsACAdICJDA4MWM3ODVkLWU3YjYtNGUwNC1hOGMzLWJiMzJhYjZlODBhNdgCBOACAQ&sid=e12b90519bab632c3ffdcb360924a5c1&aid=304142&ucfs=1&arphpl=1&dest_id=97&dest_type=country&group_adults=2&req_adults=2&no_rooms=1&group_children=0&req_children=0&hpos=25&hapos=400&sr_order=popularity&srpvid=e74992fcebb600ae&srepoch=1646686515&from=searchresults#hotelTmpl': 314,\n",
       " 'https://www.booking.com/hotel/is/tiny-house-cuddled-into-nature-in-husavik.zh-tw.html?label=gen173bo-1DCAEoggI46AdIMFgDaOcBiAEBmAEwuAEXyAEM2AED6AEB-AEDiAIBmAICqAIDuALMrZiRBsACAdICJDA4MWM3ODVkLWU3YjYtNGUwNC1hOGMzLWJiMzJhYjZlODBhNdgCBOACAQ&sid=e12b90519bab632c3ffdcb360924a5c1&aid=304142&ucfs=1&arphpl=1&dest_id=97&dest_type=country&group_adults=2&req_adults=2&no_rooms=1&group_children=0&req_children=0&hpos=1&hapos=401&sr_order=popularity&srpvid=e74992fcebb600ae&srepoch=1646686520&from=searchresults#hotelTmpl': 38,\n",
       " 'https://www.booking.com/hotel/is/hotel-flokalundur.zh-tw.html?label=gen173bo-1DCAEoggI46AdIMFgDaOcBiAEBmAEwuAEXyAEM2AED6AEB-AEDiAIBmAICqAIDuALMrZiRBsACAdICJDA4MWM3ODVkLWU3YjYtNGUwNC1hOGMzLWJiMzJhYjZlODBhNdgCBOACAQ&sid=e12b90519bab632c3ffdcb360924a5c1&aid=304142&ucfs=1&arphpl=1&dest_id=97&dest_type=country&group_adults=2&req_adults=2&no_rooms=1&group_children=0&req_children=0&hpos=2&hapos=402&sr_order=popularity&srpvid=e74992fcebb600ae&srepoch=1646686520&from=searchresults#hotelTmpl': 233,\n",
       " 'https://www.booking.com/hotel/is/hellnar.zh-tw.html?label=gen173bo-1DCAEoggI46AdIMFgDaOcBiAEBmAEwuAEXyAEM2AED6AEB-AEDiAIBmAICqAIDuALMrZiRBsACAdICJDA4MWM3ODVkLWU3YjYtNGUwNC1hOGMzLWJiMzJhYjZlODBhNdgCBOACAQ&sid=e12b90519bab632c3ffdcb360924a5c1&aid=304142&ucfs=1&arphpl=1&dest_id=97&dest_type=country&group_adults=2&req_adults=2&no_rooms=1&group_children=0&req_children=0&hpos=3&hapos=403&sr_order=popularity&srpvid=e74992fcebb600ae&srepoch=1646686520&from=searchresults#hotelTmpl': 342,\n",
       " 'https://www.booking.com/hotel/is/the-potato-storage-holiday-apartments.zh-tw.html?label=gen173bo-1DCAEoggI46AdIMFgDaOcBiAEBmAEwuAEXyAEM2AED6AEB-AEDiAIBmAICqAIDuALMrZiRBsACAdICJDA4MWM3ODVkLWU3YjYtNGUwNC1hOGMzLWJiMzJhYjZlODBhNdgCBOACAQ&sid=e12b90519bab632c3ffdcb360924a5c1&aid=304142&ucfs=1&arphpl=1&dest_id=97&dest_type=country&group_adults=2&req_adults=2&no_rooms=1&group_children=0&req_children=0&hpos=4&hapos=404&sr_order=popularity&srpvid=e74992fcebb600ae&srepoch=1646686520&from=searchresults#hotelTmpl': 607,\n",
       " 'https://www.booking.com/hotel/is/raudaskrida.zh-tw.html?label=gen173bo-1DCAEoggI46AdIMFgDaOcBiAEBmAEwuAEXyAEM2AED6AEB-AEDiAIBmAICqAIDuALMrZiRBsACAdICJDA4MWM3ODVkLWU3YjYtNGUwNC1hOGMzLWJiMzJhYjZlODBhNdgCBOACAQ&sid=e12b90519bab632c3ffdcb360924a5c1&aid=304142&ucfs=1&arphpl=1&dest_id=97&dest_type=country&group_adults=2&req_adults=2&no_rooms=1&group_children=0&req_children=0&hpos=5&hapos=405&sr_order=popularity&srpvid=e74992fcebb600ae&srepoch=1646686520&from_sustainable_property_sr=1&from=searchresults#hotelTmpl': 195,\n",
       " 'https://www.booking.com/hotel/is/asar-guesthouse.zh-tw.html?label=gen173bo-1DCAEoggI46AdIMFgDaOcBiAEBmAEwuAEXyAEM2AED6AEB-AEDiAIBmAICqAIDuALMrZiRBsACAdICJDA4MWM3ODVkLWU3YjYtNGUwNC1hOGMzLWJiMzJhYjZlODBhNdgCBOACAQ&sid=e12b90519bab632c3ffdcb360924a5c1&aid=304142&ucfs=1&arphpl=1&dest_id=97&dest_type=country&group_adults=2&req_adults=2&no_rooms=1&group_children=0&req_children=0&hpos=6&hapos=406&sr_order=popularity&srpvid=e74992fcebb600ae&srepoch=1646686520&from=searchresults#hotelTmpl': 46,\n",
       " 'https://www.booking.com/hotel/is/holt-inn.zh-tw.html?label=gen173bo-1DCAEoggI46AdIMFgDaOcBiAEBmAEwuAEXyAEM2AED6AEB-AEDiAIBmAICqAIDuALMrZiRBsACAdICJDA4MWM3ODVkLWU3YjYtNGUwNC1hOGMzLWJiMzJhYjZlODBhNdgCBOACAQ&sid=e12b90519bab632c3ffdcb360924a5c1&aid=304142&ucfs=1&arphpl=1&dest_id=97&dest_type=country&group_adults=2&req_adults=2&no_rooms=1&group_children=0&req_children=0&hpos=7&hapos=407&sr_order=popularity&srpvid=e74992fcebb600ae&srepoch=1646686520&from=searchresults#hotelTmpl': 262,\n",
       " 'https://www.booking.com/hotel/is/sunna-39-s-guesthouse.zh-tw.html?label=gen173bo-1DCAEoggI46AdIMFgDaOcBiAEBmAEwuAEXyAEM2AED6AEB-AEDiAIBmAICqAIDuALMrZiRBsACAdICJDA4MWM3ODVkLWU3YjYtNGUwNC1hOGMzLWJiMzJhYjZlODBhNdgCBOACAQ&sid=e12b90519bab632c3ffdcb360924a5c1&aid=304142&ucfs=1&arphpl=1&dest_id=97&dest_type=country&group_adults=2&req_adults=2&no_rooms=1&group_children=0&req_children=0&hpos=8&hapos=408&sr_order=popularity&srpvid=e74992fcebb600ae&srepoch=1646686520&from=searchresults#hotelTmpl': 121,\n",
       " 'https://www.booking.com/hotel/is/godaland-guesthouse.zh-tw.html?label=gen173bo-1DCAEoggI46AdIMFgDaOcBiAEBmAEwuAEXyAEM2AED6AEB-AEDiAIBmAICqAIDuALMrZiRBsACAdICJDA4MWM3ODVkLWU3YjYtNGUwNC1hOGMzLWJiMzJhYjZlODBhNdgCBOACAQ&sid=e12b90519bab632c3ffdcb360924a5c1&aid=304142&ucfs=1&arphpl=1&dest_id=97&dest_type=country&group_adults=2&req_adults=2&no_rooms=1&group_children=0&req_children=0&hpos=9&hapos=409&sr_order=popularity&srpvid=e74992fcebb600ae&srepoch=1646686520&from=searchresults#hotelTmpl': 78,\n",
       " 'https://www.booking.com/hotel/is/guesthouse-brunahlid.zh-tw.html?label=gen173bo-1DCAEoggI46AdIMFgDaOcBiAEBmAEwuAEXyAEM2AED6AEB-AEDiAIBmAICqAIDuALMrZiRBsACAdICJDA4MWM3ODVkLWU3YjYtNGUwNC1hOGMzLWJiMzJhYjZlODBhNdgCBOACAQ&sid=e12b90519bab632c3ffdcb360924a5c1&aid=304142&ucfs=1&arphpl=1&dest_id=97&dest_type=country&group_adults=2&req_adults=2&no_rooms=1&group_children=0&req_children=0&hpos=10&hapos=410&sr_order=popularity&srpvid=e74992fcebb600ae&srepoch=1646686520&from=searchresults#hotelTmpl': 257,\n",
       " 'https://www.booking.com/hotel/is/brimarsbru-sleep-inn-art-gallery.zh-tw.html?label=gen173bo-1DCAEoggI46AdIMFgDaOcBiAEBmAEwuAEXyAEM2AED6AEB-AEDiAIBmAICqAIDuALMrZiRBsACAdICJDA4MWM3ODVkLWU3YjYtNGUwNC1hOGMzLWJiMzJhYjZlODBhNdgCBOACAQ&sid=e12b90519bab632c3ffdcb360924a5c1&aid=304142&ucfs=1&arphpl=1&dest_id=97&dest_type=country&group_adults=2&req_adults=2&no_rooms=1&group_children=0&req_children=0&hpos=11&hapos=411&sr_order=popularity&srpvid=e74992fcebb600ae&srepoch=1646686520&from_sustainable_property_sr=1&from=searchresults#hotelTmpl': 171,\n",
       " 'https://www.booking.com/hotel/is/breidavik-latrabjarg.zh-tw.html?label=gen173bo-1DCAEoggI46AdIMFgDaOcBiAEBmAEwuAEXyAEM2AED6AEB-AEDiAIBmAICqAIDuALMrZiRBsACAdICJDA4MWM3ODVkLWU3YjYtNGUwNC1hOGMzLWJiMzJhYjZlODBhNdgCBOACAQ&sid=e12b90519bab632c3ffdcb360924a5c1&aid=304142&ucfs=1&arphpl=1&dest_id=97&dest_type=country&group_adults=2&req_adults=2&no_rooms=1&group_children=0&req_children=0&hpos=12&hapos=412&sr_order=popularity&srpvid=e74992fcebb600ae&srepoch=1646686520&from=searchresults#hotelTmpl': 196,\n",
       " 'https://www.booking.com/hotel/is/gerdi.zh-tw.html?label=gen173bo-1DCAEoggI46AdIMFgDaOcBiAEBmAEwuAEXyAEM2AED6AEB-AEDiAIBmAICqAIDuALMrZiRBsACAdICJDA4MWM3ODVkLWU3YjYtNGUwNC1hOGMzLWJiMzJhYjZlODBhNdgCBOACAQ&sid=e12b90519bab632c3ffdcb360924a5c1&aid=304142&ucfs=1&arphpl=1&dest_id=97&dest_type=country&group_adults=2&req_adults=2&no_rooms=1&group_children=0&req_children=0&hpos=13&hapos=413&sr_order=popularity&srpvid=e74992fcebb600ae&srepoch=1646686520&from=searchresults#hotelTmpl': 765,\n",
       " 'https://www.booking.com/hotel/is/bru-guesthouse.zh-tw.html?label=gen173bo-1DCAEoggI46AdIMFgDaOcBiAEBmAEwuAEXyAEM2AED6AEB-AEDiAIBmAICqAIDuALMrZiRBsACAdICJDA4MWM3ODVkLWU3YjYtNGUwNC1hOGMzLWJiMzJhYjZlODBhNdgCBOACAQ&sid=e12b90519bab632c3ffdcb360924a5c1&aid=304142&ucfs=1&arphpl=1&dest_id=97&dest_type=country&group_adults=2&req_adults=2&no_rooms=1&group_children=0&req_children=0&hpos=14&hapos=414&sr_order=popularity&srpvid=e74992fcebb600ae&srepoch=1646686520&from=searchresults#hotelTmpl': 680,\n",
       " 'https://www.booking.com/hotel/is/a.zh-tw.html?label=gen173bo-1DCAEoggI46AdIMFgDaOcBiAEBmAEwuAEXyAEM2AED6AEB-AEDiAIBmAICqAIDuALMrZiRBsACAdICJDA4MWM3ODVkLWU3YjYtNGUwNC1hOGMzLWJiMzJhYjZlODBhNdgCBOACAQ&sid=e12b90519bab632c3ffdcb360924a5c1&aid=304142&ucfs=1&arphpl=1&dest_id=97&dest_type=country&group_adults=2&req_adults=2&no_rooms=1&group_children=0&req_children=0&hpos=15&hapos=415&sr_order=popularity&srpvid=e74992fcebb600ae&srepoch=1646686520&from=searchresults#hotelTmpl': 257,\n",
       " 'https://www.booking.com/hotel/is/dalvik-hostel-gimli.zh-tw.html?label=gen173bo-1DCAEoggI46AdIMFgDaOcBiAEBmAEwuAEXyAEM2AED6AEB-AEDiAIBmAICqAIDuALMrZiRBsACAdICJDA4MWM3ODVkLWU3YjYtNGUwNC1hOGMzLWJiMzJhYjZlODBhNdgCBOACAQ&sid=e12b90519bab632c3ffdcb360924a5c1&aid=304142&ucfs=1&arphpl=1&dest_id=97&dest_type=country&group_adults=2&req_adults=2&no_rooms=1&group_children=0&req_children=0&hpos=16&hapos=416&sr_order=popularity&srpvid=e74992fcebb600ae&srepoch=1646686520&from=searchresults#hotelTmpl': 129,\n",
       " 'https://www.booking.com/hotel/is/the-castle.zh-tw.html?label=gen173bo-1DCAEoggI46AdIMFgDaOcBiAEBmAEwuAEXyAEM2AED6AEB-AEDiAIBmAICqAIDuALMrZiRBsACAdICJDA4MWM3ODVkLWU3YjYtNGUwNC1hOGMzLWJiMzJhYjZlODBhNdgCBOACAQ&sid=e12b90519bab632c3ffdcb360924a5c1&aid=304142&ucfs=1&arphpl=1&dest_id=97&dest_type=country&group_adults=2&req_adults=2&no_rooms=1&group_children=0&req_children=0&hpos=17&hapos=417&sr_order=popularity&srpvid=e74992fcebb600ae&srepoch=1646686520&from_sustainable_property_sr=1&from=searchresults#hotelTmpl': 594,\n",
       " 'https://www.booking.com/hotel/is/great-view-guesthouse.zh-tw.html?label=gen173bo-1DCAEoggI46AdIMFgDaOcBiAEBmAEwuAEXyAEM2AED6AEB-AEDiAIBmAICqAIDuALMrZiRBsACAdICJDA4MWM3ODVkLWU3YjYtNGUwNC1hOGMzLWJiMzJhYjZlODBhNdgCBOACAQ&sid=e12b90519bab632c3ffdcb360924a5c1&aid=304142&ucfs=1&arphpl=1&dest_id=97&dest_type=country&group_adults=2&req_adults=2&no_rooms=1&group_children=0&req_children=0&hpos=18&hapos=418&sr_order=popularity&srpvid=e74992fcebb600ae&srepoch=1646686520&from=searchresults#hotelTmpl': 63,\n",
       " 'https://www.booking.com/hotel/is/hostel-b47-reykjvik.zh-tw.html?label=gen173bo-1DCAEoggI46AdIMFgDaOcBiAEBmAEwuAEXyAEM2AED6AEB-AEDiAIBmAICqAIDuALMrZiRBsACAdICJDA4MWM3ODVkLWU3YjYtNGUwNC1hOGMzLWJiMzJhYjZlODBhNdgCBOACAQ&sid=e12b90519bab632c3ffdcb360924a5c1&aid=304142&ucfs=1&arphpl=1&dest_id=97&dest_type=country&group_adults=2&req_adults=2&no_rooms=1&group_children=0&req_children=0&hpos=19&hapos=419&sr_order=popularity&srpvid=e74992fcebb600ae&srepoch=1646686520&from=searchresults#hotelTmpl': 491,\n",
       " 'https://www.booking.com/hotel/is/west.zh-tw.html?label=gen173bo-1DCAEoggI46AdIMFgDaOcBiAEBmAEwuAEXyAEM2AED6AEB-AEDiAIBmAICqAIDuALMrZiRBsACAdICJDA4MWM3ODVkLWU3YjYtNGUwNC1hOGMzLWJiMzJhYjZlODBhNdgCBOACAQ&sid=e12b90519bab632c3ffdcb360924a5c1&aid=304142&ucfs=1&arphpl=1&dest_id=97&dest_type=country&group_adults=2&req_adults=2&no_rooms=1&group_children=0&req_children=0&hpos=20&hapos=420&sr_order=popularity&srpvid=e74992fcebb600ae&srepoch=1646686520&from=searchresults#hotelTmpl': 359,\n",
       " 'https://www.booking.com/hotel/is/the-herring-guesthouse.zh-tw.html?label=gen173bo-1DCAEoggI46AdIMFgDaOcBiAEBmAEwuAEXyAEM2AED6AEB-AEDiAIBmAICqAIDuALMrZiRBsACAdICJDA4MWM3ODVkLWU3YjYtNGUwNC1hOGMzLWJiMzJhYjZlODBhNdgCBOACAQ&sid=e12b90519bab632c3ffdcb360924a5c1&aid=304142&ucfs=1&arphpl=1&dest_id=97&dest_type=country&group_adults=2&req_adults=2&no_rooms=1&group_children=0&req_children=0&hpos=21&hapos=421&sr_order=popularity&srpvid=e74992fcebb600ae&srepoch=1646686520&from=searchresults#hotelTmpl': 55,\n",
       " 'https://www.booking.com/hotel/is/vagnsstaoir-hi-hostel.zh-tw.html?label=gen173bo-1DCAEoggI46AdIMFgDaOcBiAEBmAEwuAEXyAEM2AED6AEB-AEDiAIBmAICqAIDuALMrZiRBsACAdICJDA4MWM3ODVkLWU3YjYtNGUwNC1hOGMzLWJiMzJhYjZlODBhNdgCBOACAQ&sid=e12b90519bab632c3ffdcb360924a5c1&aid=304142&ucfs=1&arphpl=1&dest_id=97&dest_type=country&group_adults=2&req_adults=2&no_rooms=1&group_children=0&req_children=0&hpos=22&hapos=422&sr_order=popularity&srpvid=e74992fcebb600ae&srepoch=1646686520&from=searchresults#hotelTmpl': 872,\n",
       " 'https://www.booking.com/hotel/is/dalahyttur.zh-tw.html?label=gen173bo-1DCAEoggI46AdIMFgDaOcBiAEBmAEwuAEXyAEM2AED6AEB-AEDiAIBmAICqAIDuALMrZiRBsACAdICJDA4MWM3ODVkLWU3YjYtNGUwNC1hOGMzLWJiMzJhYjZlODBhNdgCBOACAQ&sid=e12b90519bab632c3ffdcb360924a5c1&aid=304142&ucfs=1&arphpl=1&dest_id=97&dest_type=country&group_adults=2&req_adults=2&no_rooms=1&group_children=0&req_children=0&hpos=23&hapos=423&sr_order=popularity&srpvid=e74992fcebb600ae&srepoch=1646686520&from=searchresults#hotelTmpl': 311,\n",
       " 'https://www.booking.com/hotel/is/guesthouse-holmur.zh-tw.html?label=gen173bo-1DCAEoggI46AdIMFgDaOcBiAEBmAEwuAEXyAEM2AED6AEB-AEDiAIBmAICqAIDuALMrZiRBsACAdICJDA4MWM3ODVkLWU3YjYtNGUwNC1hOGMzLWJiMzJhYjZlODBhNdgCBOACAQ&sid=e12b90519bab632c3ffdcb360924a5c1&aid=304142&ucfs=1&arphpl=1&dest_id=97&dest_type=country&group_adults=2&req_adults=2&no_rooms=1&group_children=0&req_children=0&hpos=24&hapos=424&sr_order=popularity&srpvid=e74992fcebb600ae&srepoch=1646686520&from=searchresults#hotelTmpl': 282,\n",
       " 'https://www.booking.com/hotel/is/soti-lodge-fljot.zh-tw.html?label=gen173bo-1DCAEoggI46AdIMFgDaOcBiAEBmAEwuAEXyAEM2AED6AEB-AEDiAIBmAICqAIDuALMrZiRBsACAdICJDA4MWM3ODVkLWU3YjYtNGUwNC1hOGMzLWJiMzJhYjZlODBhNdgCBOACAQ&sid=e12b90519bab632c3ffdcb360924a5c1&aid=304142&ucfs=1&arphpl=1&dest_id=97&dest_type=country&group_adults=2&req_adults=2&no_rooms=1&group_children=0&req_children=0&hpos=25&hapos=425&sr_order=popularity&srpvid=e74992fcebb600ae&srepoch=1646686520&from_sustainable_property_sr=1&from=searchresults#hotelTmpl': 58,\n",
       " 'https://www.booking.com/hotel/is/hrafnavellir-guest-house.zh-tw.html?label=gen173bo-1DCAEoggI46AdIMFgDaOcBiAEBmAEwuAEXyAEM2AED6AEB-AEDiAIBmAICqAIDuALMrZiRBsACAdICJDA4MWM3ODVkLWU3YjYtNGUwNC1hOGMzLWJiMzJhYjZlODBhNdgCBOACAQ&sid=e12b90519bab632c3ffdcb360924a5c1&aid=304142&ucfs=1&arphpl=1&dest_id=97&dest_type=country&group_adults=2&req_adults=2&no_rooms=1&group_children=0&req_children=0&hpos=1&hapos=426&sr_order=popularity&srpvid=e74992fcebb600ae&srepoch=1646686524&from=searchresults#hotelTmpl': 673,\n",
       " 'https://www.booking.com/hotel/is/korpudalur-hostel.zh-tw.html?label=gen173bo-1DCAEoggI46AdIMFgDaOcBiAEBmAEwuAEXyAEM2AED6AEB-AEDiAIBmAICqAIDuALMrZiRBsACAdICJDA4MWM3ODVkLWU3YjYtNGUwNC1hOGMzLWJiMzJhYjZlODBhNdgCBOACAQ&sid=e12b90519bab632c3ffdcb360924a5c1&aid=304142&ucfs=1&arphpl=1&dest_id=97&dest_type=country&group_adults=2&req_adults=2&no_rooms=1&group_children=0&req_children=0&hpos=2&hapos=427&sr_order=popularity&srpvid=e74992fcebb600ae&srepoch=1646686524&from=searchresults#hotelTmpl': 112,\n",
       " 'https://www.booking.com/hotel/is/grasteinn-guesthouse.zh-tw.html?label=gen173bo-1DCAEoggI46AdIMFgDaOcBiAEBmAEwuAEXyAEM2AED6AEB-AEDiAIBmAICqAIDuALMrZiRBsACAdICJDA4MWM3ODVkLWU3YjYtNGUwNC1hOGMzLWJiMzJhYjZlODBhNdgCBOACAQ&sid=e12b90519bab632c3ffdcb360924a5c1&aid=304142&ucfs=1&arphpl=1&dest_id=97&dest_type=country&group_adults=2&req_adults=2&no_rooms=1&group_children=0&req_children=0&hpos=3&hapos=428&sr_order=popularity&srpvid=e74992fcebb600ae&srepoch=1646686524&from=searchresults#hotelTmpl': 186,\n",
       " 'https://www.booking.com/hotel/is/kex-hostel-reykjavik1.zh-tw.html?label=gen173bo-1DCAEoggI46AdIMFgDaOcBiAEBmAEwuAEXyAEM2AED6AEB-AEDiAIBmAICqAIDuALMrZiRBsACAdICJDA4MWM3ODVkLWU3YjYtNGUwNC1hOGMzLWJiMzJhYjZlODBhNdgCBOACAQ&sid=e12b90519bab632c3ffdcb360924a5c1&aid=304142&ucfs=1&arphpl=1&dest_id=97&dest_type=country&group_adults=2&req_adults=2&no_rooms=1&group_children=0&req_children=0&hpos=4&hapos=429&sr_order=popularity&srpvid=e74992fcebb600ae&srepoch=1646686524&from=searchresults#hotelTmpl': 1706,\n",
       " 'https://www.booking.com/hotel/is/namshestar.zh-tw.html?label=gen173bo-1DCAEoggI46AdIMFgDaOcBiAEBmAEwuAEXyAEM2AED6AEB-AEDiAIBmAICqAIDuALMrZiRBsACAdICJDA4MWM3ODVkLWU3YjYtNGUwNC1hOGMzLWJiMzJhYjZlODBhNdgCBOACAQ&sid=e12b90519bab632c3ffdcb360924a5c1&aid=304142&ucfs=1&arphpl=1&dest_id=97&dest_type=country&group_adults=2&req_adults=2&no_rooms=1&group_children=0&req_children=0&hpos=5&hapos=430&sr_order=popularity&srpvid=e74992fcebb600ae&srepoch=1646686524&from_sustainable_property_sr=1&from=searchresults#hotelTmpl': 31,\n",
       " 'https://www.booking.com/hotel/is/guesthouse-svinavatn.zh-tw.html?label=gen173bo-1DCAEoggI46AdIMFgDaOcBiAEBmAEwuAEXyAEM2AED6AEB-AEDiAIBmAICqAIDuALMrZiRBsACAdICJDA4MWM3ODVkLWU3YjYtNGUwNC1hOGMzLWJiMzJhYjZlODBhNdgCBOACAQ&sid=e12b90519bab632c3ffdcb360924a5c1&aid=304142&ucfs=1&arphpl=1&dest_id=97&dest_type=country&group_adults=2&req_adults=2&no_rooms=1&group_children=0&req_children=0&hpos=6&hapos=431&sr_order=popularity&srpvid=e74992fcebb600ae&srepoch=1646686524&from=searchresults#hotelTmpl': 384,\n",
       " 'https://www.booking.com/hotel/is/hofsstaadegir-guesthouse.zh-tw.html?label=gen173bo-1DCAEoggI46AdIMFgDaOcBiAEBmAEwuAEXyAEM2AED6AEB-AEDiAIBmAICqAIDuALMrZiRBsACAdICJDA4MWM3ODVkLWU3YjYtNGUwNC1hOGMzLWJiMzJhYjZlODBhNdgCBOACAQ&sid=e12b90519bab632c3ffdcb360924a5c1&aid=304142&ucfs=1&arphpl=1&dest_id=97&dest_type=country&group_adults=2&req_adults=2&no_rooms=1&group_children=0&req_children=0&hpos=7&hapos=432&sr_order=popularity&srpvid=e74992fcebb600ae&srepoch=1646686524&from=searchresults#hotelTmpl': 309,\n",
       " 'https://www.booking.com/hotel/is/feradegaa3-4ja3nustan-sandfellsska3gi-travel-service-at-sandfellsska3gur.zh-tw.html?label=gen173bo-1DCAEoggI46AdIMFgDaOcBiAEBmAEwuAEXyAEM2AED6AEB-AEDiAIBmAICqAIDuALMrZiRBsACAdICJDA4MWM3ODVkLWU3YjYtNGUwNC1hOGMzLWJiMzJhYjZlODBhNdgCBOACAQ&sid=e12b90519bab632c3ffdcb360924a5c1&aid=304142&ucfs=1&arphpl=1&dest_id=97&dest_type=country&group_adults=2&req_adults=2&no_rooms=1&group_children=0&req_children=0&hpos=8&hapos=433&sr_order=popularity&srpvid=e74992fcebb600ae&srepoch=1646686524&from=searchresults#hotelTmpl': 530,\n",
       " 'https://www.booking.com/hotel/is/osar-hostel-hvammstangi.zh-tw.html?label=gen173bo-1DCAEoggI46AdIMFgDaOcBiAEBmAEwuAEXyAEM2AED6AEB-AEDiAIBmAICqAIDuALMrZiRBsACAdICJDA4MWM3ODVkLWU3YjYtNGUwNC1hOGMzLWJiMzJhYjZlODBhNdgCBOACAQ&sid=e12b90519bab632c3ffdcb360924a5c1&aid=304142&ucfs=1&arphpl=1&dest_id=97&dest_type=country&group_adults=2&req_adults=2&no_rooms=1&group_children=0&req_children=0&hpos=9&hapos=434&sr_order=popularity&srpvid=e74992fcebb600ae&srepoch=1646686524&from=searchresults#hotelTmpl': 187,\n",
       " 'https://www.booking.com/hotel/is/solvellir-holiday-home.zh-tw.html?label=gen173bo-1DCAEoggI46AdIMFgDaOcBiAEBmAEwuAEXyAEM2AED6AEB-AEDiAIBmAICqAIDuALMrZiRBsACAdICJDA4MWM3ODVkLWU3YjYtNGUwNC1hOGMzLWJiMzJhYjZlODBhNdgCBOACAQ&sid=e12b90519bab632c3ffdcb360924a5c1&aid=304142&ucfs=1&arphpl=1&dest_id=97&dest_type=country&group_adults=2&req_adults=2&no_rooms=1&group_children=0&req_children=0&hpos=10&hapos=435&sr_order=popularity&srpvid=e74992fcebb600ae&srepoch=1646686524&from=searchresults#hotelTmpl': 45,\n",
       " 'https://www.booking.com/hotel/is/twin-room-with-shared-bathroom.zh-tw.html?label=gen173bo-1DCAEoggI46AdIMFgDaOcBiAEBmAEwuAEXyAEM2AED6AEB-AEDiAIBmAICqAIDuALMrZiRBsACAdICJDA4MWM3ODVkLWU3YjYtNGUwNC1hOGMzLWJiMzJhYjZlODBhNdgCBOACAQ&sid=e12b90519bab632c3ffdcb360924a5c1&aid=304142&ucfs=1&arphpl=1&dest_id=97&dest_type=country&group_adults=2&req_adults=2&no_rooms=1&group_children=0&req_children=0&hpos=11&hapos=436&sr_order=popularity&srpvid=e74992fcebb600ae&srepoch=1646686524&from=searchresults#hotelTmpl': 77,\n",
       " 'https://www.booking.com/hotel/is/sandvatnsvegur-6.zh-tw.html?label=gen173bo-1DCAEoggI46AdIMFgDaOcBiAEBmAEwuAEXyAEM2AED6AEB-AEDiAIBmAICqAIDuALMrZiRBsACAdICJDA4MWM3ODVkLWU3YjYtNGUwNC1hOGMzLWJiMzJhYjZlODBhNdgCBOACAQ&sid=e12b90519bab632c3ffdcb360924a5c1&aid=304142&ucfs=1&arphpl=1&dest_id=97&dest_type=country&group_adults=2&req_adults=2&no_rooms=1&group_children=0&req_children=0&hpos=12&hapos=437&sr_order=popularity&srpvid=e74992fcebb600ae&srepoch=1646686524&from=searchresults#hotelTmpl': 10,\n",
       " 'https://www.booking.com/hotel/is/salthus-guesthouse-skagastrond1.zh-tw.html?label=gen173bo-1DCAEoggI46AdIMFgDaOcBiAEBmAEwuAEXyAEM2AED6AEB-AEDiAIBmAICqAIDuALMrZiRBsACAdICJDA4MWM3ODVkLWU3YjYtNGUwNC1hOGMzLWJiMzJhYjZlODBhNdgCBOACAQ&sid=e12b90519bab632c3ffdcb360924a5c1&aid=304142&ucfs=1&arphpl=1&dest_id=97&dest_type=country&group_adults=2&req_adults=2&no_rooms=1&group_children=0&req_children=0&hpos=13&hapos=438&sr_order=popularity&srpvid=e74992fcebb600ae&srepoch=1646686524&from_sustainable_property_sr=1&from=searchresults#hotelTmpl': 396,\n",
       " 'https://www.booking.com/hotel/is/saudafell-guesthouse.zh-tw.html?label=gen173bo-1DCAEoggI46AdIMFgDaOcBiAEBmAEwuAEXyAEM2AED6AEB-AEDiAIBmAICqAIDuALMrZiRBsACAdICJDA4MWM3ODVkLWU3YjYtNGUwNC1hOGMzLWJiMzJhYjZlODBhNdgCBOACAQ&sid=e12b90519bab632c3ffdcb360924a5c1&aid=304142&ucfs=1&arphpl=1&dest_id=97&dest_type=country&group_adults=2&req_adults=2&no_rooms=1&group_children=0&req_children=0&hpos=14&hapos=439&sr_order=popularity&srpvid=e74992fcebb600ae&srepoch=1646686524&from_sustainable_property_sr=1&from=searchresults#hotelTmpl': 207,\n",
       " 'https://www.booking.com/hotel/is/bolstaoarhlio-guesthouse-blonduos12345678910111213.zh-tw.html?label=gen173bo-1DCAEoggI46AdIMFgDaOcBiAEBmAEwuAEXyAEM2AED6AEB-AEDiAIBmAICqAIDuALMrZiRBsACAdICJDA4MWM3ODVkLWU3YjYtNGUwNC1hOGMzLWJiMzJhYjZlODBhNdgCBOACAQ&sid=e12b90519bab632c3ffdcb360924a5c1&aid=304142&ucfs=1&arphpl=1&dest_id=97&dest_type=country&group_adults=2&req_adults=2&no_rooms=1&group_children=0&req_children=0&hpos=15&hapos=440&sr_order=popularity&srpvid=e74992fcebb600ae&srepoch=1646686524&from=searchresults#hotelTmpl': 276,\n",
       " 'https://www.booking.com/hotel/is/heydalur.zh-tw.html?label=gen173bo-1DCAEoggI46AdIMFgDaOcBiAEBmAEwuAEXyAEM2AED6AEB-AEDiAIBmAICqAIDuALMrZiRBsACAdICJDA4MWM3ODVkLWU3YjYtNGUwNC1hOGMzLWJiMzJhYjZlODBhNdgCBOACAQ&sid=e12b90519bab632c3ffdcb360924a5c1&aid=304142&ucfs=1&arphpl=1&dest_id=97&dest_type=country&group_adults=2&req_adults=2&no_rooms=1&group_children=0&req_children=0&hpos=16&hapos=441&sr_order=popularity&srpvid=e74992fcebb600ae&srepoch=1646686524&from=searchresults#hotelTmpl': 514,\n",
       " 'https://www.booking.com/hotel/is/guesthouse-reykjarholl.zh-tw.html?label=gen173bo-1DCAEoggI46AdIMFgDaOcBiAEBmAEwuAEXyAEM2AED6AEB-AEDiAIBmAICqAIDuALMrZiRBsACAdICJDA4MWM3ODVkLWU3YjYtNGUwNC1hOGMzLWJiMzJhYjZlODBhNdgCBOACAQ&sid=e12b90519bab632c3ffdcb360924a5c1&aid=304142&ucfs=1&arphpl=1&dest_id=97&dest_type=country&group_adults=2&req_adults=2&no_rooms=1&group_children=0&req_children=0&hpos=17&hapos=442&sr_order=popularity&srpvid=e74992fcebb600ae&srepoch=1646686524&from=searchresults#hotelTmpl': 140,\n",
       " 'https://www.booking.com/hotel/is/julia-s-guesthouse.zh-tw.html?label=gen173bo-1DCAEoggI46AdIMFgDaOcBiAEBmAEwuAEXyAEM2AED6AEB-AEDiAIBmAICqAIDuALMrZiRBsACAdICJDA4MWM3ODVkLWU3YjYtNGUwNC1hOGMzLWJiMzJhYjZlODBhNdgCBOACAQ&sid=e12b90519bab632c3ffdcb360924a5c1&aid=304142&ucfs=1&arphpl=1&dest_id=97&dest_type=country&group_adults=2&req_adults=2&no_rooms=1&group_children=0&req_children=0&hpos=18&hapos=443&sr_order=popularity&srpvid=e74992fcebb600ae&srepoch=1646686524&from=searchresults#hotelTmpl': 245,\n",
       " 'https://www.booking.com/hotel/is/stekkar-23.zh-tw.html?label=gen173bo-1DCAEoggI46AdIMFgDaOcBiAEBmAEwuAEXyAEM2AED6AEB-AEDiAIBmAICqAIDuALMrZiRBsACAdICJDA4MWM3ODVkLWU3YjYtNGUwNC1hOGMzLWJiMzJhYjZlODBhNdgCBOACAQ&sid=e12b90519bab632c3ffdcb360924a5c1&aid=304142&ucfs=1&arphpl=1&dest_id=97&dest_type=country&group_adults=2&req_adults=2&no_rooms=1&group_children=0&req_children=0&hpos=19&hapos=444&sr_order=popularity&srpvid=e74992fcebb600ae&srepoch=1646686524&from=searchresults#hotelTmpl': 97,\n",
       " 'https://www.booking.com/hotel/is/ocean-beach-apartments.zh-tw.html?label=gen173bo-1DCAEoggI46AdIMFgDaOcBiAEBmAEwuAEXyAEM2AED6AEB-AEDiAIBmAICqAIDuALMrZiRBsACAdICJDA4MWM3ODVkLWU3YjYtNGUwNC1hOGMzLWJiMzJhYjZlODBhNdgCBOACAQ&sid=e12b90519bab632c3ffdcb360924a5c1&aid=304142&ucfs=1&arphpl=1&dest_id=97&dest_type=country&group_adults=2&req_adults=2&no_rooms=1&group_children=0&req_children=0&hpos=20&hapos=445&sr_order=popularity&srpvid=e74992fcebb600ae&srepoch=1646686524&from=searchresults#hotelTmpl': 362,\n",
       " 'https://www.booking.com/hotel/is/istay-cottages.zh-tw.html?label=gen173bo-1DCAEoggI46AdIMFgDaOcBiAEBmAEwuAEXyAEM2AED6AEB-AEDiAIBmAICqAIDuALMrZiRBsACAdICJDA4MWM3ODVkLWU3YjYtNGUwNC1hOGMzLWJiMzJhYjZlODBhNdgCBOACAQ&sid=e12b90519bab632c3ffdcb360924a5c1&aid=304142&ucfs=1&arphpl=1&dest_id=97&dest_type=country&group_adults=2&req_adults=2&no_rooms=1&group_children=0&req_children=0&hpos=21&hapos=446&sr_order=popularity&srpvid=e74992fcebb600ae&srepoch=1646686524&from=searchresults#hotelTmpl': 726,\n",
       " 'https://www.booking.com/hotel/is/tungulending-guesthouse.zh-tw.html?label=gen173bo-1DCAEoggI46AdIMFgDaOcBiAEBmAEwuAEXyAEM2AED6AEB-AEDiAIBmAICqAIDuALMrZiRBsACAdICJDA4MWM3ODVkLWU3YjYtNGUwNC1hOGMzLWJiMzJhYjZlODBhNdgCBOACAQ&sid=e12b90519bab632c3ffdcb360924a5c1&aid=304142&ucfs=1&arphpl=1&dest_id=97&dest_type=country&group_adults=2&req_adults=2&no_rooms=1&group_children=0&req_children=0&hpos=22&hapos=447&sr_order=popularity&srpvid=e74992fcebb600ae&srepoch=1646686524&from_sustainable_property_sr=1&from=searchresults#hotelTmpl': 202,\n",
       " 'https://www.booking.com/hotel/is/guesthouse-aurora.zh-tw.html?label=gen173bo-1DCAEoggI46AdIMFgDaOcBiAEBmAEwuAEXyAEM2AED6AEB-AEDiAIBmAICqAIDuALMrZiRBsACAdICJDA4MWM3ODVkLWU3YjYtNGUwNC1hOGMzLWJiMzJhYjZlODBhNdgCBOACAQ&sid=e12b90519bab632c3ffdcb360924a5c1&aid=304142&ucfs=1&arphpl=1&dest_id=97&dest_type=country&group_adults=2&req_adults=2&no_rooms=1&group_children=0&req_children=0&hpos=23&hapos=448&sr_order=popularity&srpvid=e74992fcebb600ae&srepoch=1646686524&from=searchresults#hotelTmpl': 1360,\n",
       " 'https://www.booking.com/hotel/is/guesthouse-stekkabol.zh-tw.html?label=gen173bo-1DCAEoggI46AdIMFgDaOcBiAEBmAEwuAEXyAEM2AED6AEB-AEDiAIBmAICqAIDuALMrZiRBsACAdICJDA4MWM3ODVkLWU3YjYtNGUwNC1hOGMzLWJiMzJhYjZlODBhNdgCBOACAQ&sid=e12b90519bab632c3ffdcb360924a5c1&aid=304142&ucfs=1&arphpl=1&dest_id=97&dest_type=country&group_adults=2&req_adults=2&no_rooms=1&group_children=0&req_children=0&hpos=24&hapos=449&sr_order=popularity&srpvid=e74992fcebb600ae&srepoch=1646686524&from=searchresults#hotelTmpl': 763,\n",
       " 'https://www.booking.com/hotel/is/arbakki-farmhouse-lodge.zh-tw.html?label=gen173bo-1DCAEoggI46AdIMFgDaOcBiAEBmAEwuAEXyAEM2AED6AEB-AEDiAIBmAICqAIDuALMrZiRBsACAdICJDA4MWM3ODVkLWU3YjYtNGUwNC1hOGMzLWJiMzJhYjZlODBhNdgCBOACAQ&sid=e12b90519bab632c3ffdcb360924a5c1&aid=304142&ucfs=1&arphpl=1&dest_id=97&dest_type=country&group_adults=2&req_adults=2&no_rooms=1&group_children=0&req_children=0&hpos=25&hapos=450&sr_order=popularity&srpvid=e74992fcebb600ae&srepoch=1646686524&from=searchresults#hotelTmpl': 280,\n",
       " 'https://www.booking.com/hotel/is/solbrekka-guesthouse.zh-tw.html?label=gen173bo-1DCAEoggI46AdIMFgDaOcBiAEBmAEwuAEXyAEM2AED6AEB-AEDiAIBmAICqAIDuALMrZiRBsACAdICJDA4MWM3ODVkLWU3YjYtNGUwNC1hOGMzLWJiMzJhYjZlODBhNdgCBOACAQ&sid=e12b90519bab632c3ffdcb360924a5c1&aid=304142&ucfs=1&arphpl=1&dest_id=97&dest_type=country&group_adults=2&req_adults=2&no_rooms=1&group_children=0&req_children=0&hpos=1&hapos=451&sr_order=popularity&srpvid=e74992fcebb600ae&srepoch=1646686527&from=searchresults#hotelTmpl': 24,\n",
       " 'https://www.booking.com/hotel/is/urdartindur-guesthouse-and-cottages.zh-tw.html?label=gen173bo-1DCAEoggI46AdIMFgDaOcBiAEBmAEwuAEXyAEM2AED6AEB-AEDiAIBmAICqAIDuALMrZiRBsACAdICJDA4MWM3ODVkLWU3YjYtNGUwNC1hOGMzLWJiMzJhYjZlODBhNdgCBOACAQ&sid=e12b90519bab632c3ffdcb360924a5c1&aid=304142&ucfs=1&arphpl=1&dest_id=97&dest_type=country&group_adults=2&req_adults=2&no_rooms=1&group_children=0&req_children=0&hpos=2&hapos=452&sr_order=popularity&srpvid=e74992fcebb600ae&srepoch=1646686527&from=searchresults#hotelTmpl': 138,\n",
       " 'https://www.booking.com/hotel/is/fjalladyrd-modrudalur-a-fjollum.zh-tw.html?label=gen173bo-1DCAEoggI46AdIMFgDaOcBiAEBmAEwuAEXyAEM2AED6AEB-AEDiAIBmAICqAIDuALMrZiRBsACAdICJDA4MWM3ODVkLWU3YjYtNGUwNC1hOGMzLWJiMzJhYjZlODBhNdgCBOACAQ&sid=e12b90519bab632c3ffdcb360924a5c1&aid=304142&ucfs=1&arphpl=1&dest_id=97&dest_type=country&group_adults=2&req_adults=2&no_rooms=1&group_children=0&req_children=0&hpos=3&hapos=453&sr_order=popularity&srpvid=e74992fcebb600ae&srepoch=1646686527&from=searchresults#hotelTmpl': 683,\n",
       " 'https://www.booking.com/hotel/is/drangar-country-guesthouse.zh-tw.html?label=gen173bo-1DCAEoggI46AdIMFgDaOcBiAEBmAEwuAEXyAEM2AED6AEB-AEDiAIBmAICqAIDuALMrZiRBsACAdICJDA4MWM3ODVkLWU3YjYtNGUwNC1hOGMzLWJiMzJhYjZlODBhNdgCBOACAQ&sid=e12b90519bab632c3ffdcb360924a5c1&aid=304142&ucfs=1&arphpl=1&dest_id=97&dest_type=country&group_adults=2&req_adults=2&no_rooms=1&group_children=0&req_children=0&hpos=4&hapos=454&sr_order=popularity&srpvid=e74992fcebb600ae&srepoch=1646686527&from_sustainable_property_sr=1&from=searchresults#hotelTmpl': 131,\n",
       " 'https://www.booking.com/hotel/is/dettifoss-guesthouse.zh-tw.html?label=gen173bo-1DCAEoggI46AdIMFgDaOcBiAEBmAEwuAEXyAEM2AED6AEB-AEDiAIBmAICqAIDuALMrZiRBsACAdICJDA4MWM3ODVkLWU3YjYtNGUwNC1hOGMzLWJiMzJhYjZlODBhNdgCBOACAQ&sid=e12b90519bab632c3ffdcb360924a5c1&aid=304142&ucfs=1&arphpl=1&dest_id=97&dest_type=country&group_adults=2&req_adults=2&no_rooms=1&group_children=0&req_children=0&hpos=5&hapos=455&sr_order=popularity&srpvid=e74992fcebb600ae&srepoch=1646686527&from=searchresults#hotelTmpl': 393,\n",
       " 'https://www.booking.com/hotel/is/guesthouse-hof.zh-tw.html?label=gen173bo-1DCAEoggI46AdIMFgDaOcBiAEBmAEwuAEXyAEM2AED6AEB-AEDiAIBmAICqAIDuALMrZiRBsACAdICJDA4MWM3ODVkLWU3YjYtNGUwNC1hOGMzLWJiMzJhYjZlODBhNdgCBOACAQ&sid=e12b90519bab632c3ffdcb360924a5c1&aid=304142&ucfs=1&arphpl=1&dest_id=97&dest_type=country&group_adults=2&req_adults=2&no_rooms=1&group_children=0&req_children=0&hpos=6&hapos=456&sr_order=popularity&srpvid=e74992fcebb600ae&srepoch=1646686527&from_sustainable_property_sr=1&from=searchresults#hotelTmpl': 735,\n",
       " 'https://www.booking.com/hotel/is/guesthouse-reynir.zh-tw.html?label=gen173bo-1DCAEoggI46AdIMFgDaOcBiAEBmAEwuAEXyAEM2AED6AEB-AEDiAIBmAICqAIDuALMrZiRBsACAdICJDA4MWM3ODVkLWU3YjYtNGUwNC1hOGMzLWJiMzJhYjZlODBhNdgCBOACAQ&sid=e12b90519bab632c3ffdcb360924a5c1&aid=304142&ucfs=1&arphpl=1&dest_id=97&dest_type=country&group_adults=2&req_adults=2&no_rooms=1&group_children=0&req_children=0&hpos=7&hapos=457&sr_order=popularity&srpvid=e74992fcebb600ae&srepoch=1646686527&from=searchresults#hotelTmpl': 726,\n",
       " 'https://www.booking.com/hotel/is/guesthouse-langafit.zh-tw.html?label=gen173bo-1DCAEoggI46AdIMFgDaOcBiAEBmAEwuAEXyAEM2AED6AEB-AEDiAIBmAICqAIDuALMrZiRBsACAdICJDA4MWM3ODVkLWU3YjYtNGUwNC1hOGMzLWJiMzJhYjZlODBhNdgCBOACAQ&sid=e12b90519bab632c3ffdcb360924a5c1&aid=304142&ucfs=1&arphpl=1&dest_id=97&dest_type=country&group_adults=2&req_adults=2&no_rooms=1&group_children=0&req_children=0&hpos=8&hapos=458&sr_order=popularity&srpvid=e74992fcebb600ae&srepoch=1646686527&from_sustainable_property_sr=1&from=searchresults#hotelTmpl': 74,\n",
       " 'https://www.booking.com/hotel/is/ravencliff-lodge.zh-tw.html?label=gen173bo-1DCAEoggI46AdIMFgDaOcBiAEBmAEwuAEXyAEM2AED6AEB-AEDiAIBmAICqAIDuALMrZiRBsACAdICJDA4MWM3ODVkLWU3YjYtNGUwNC1hOGMzLWJiMzJhYjZlODBhNdgCBOACAQ&sid=e12b90519bab632c3ffdcb360924a5c1&aid=304142&ucfs=1&arphpl=1&dest_id=97&dest_type=country&group_adults=2&req_adults=2&no_rooms=1&group_children=0&req_children=0&hpos=9&hapos=459&sr_order=popularity&srpvid=e74992fcebb600ae&srepoch=1646686527&from=searchresults#hotelTmpl': 320,\n",
       " 'https://www.booking.com/hotel/is/the-nest.zh-tw.html?label=gen173bo-1DCAEoggI46AdIMFgDaOcBiAEBmAEwuAEXyAEM2AED6AEB-AEDiAIBmAICqAIDuALMrZiRBsACAdICJDA4MWM3ODVkLWU3YjYtNGUwNC1hOGMzLWJiMzJhYjZlODBhNdgCBOACAQ&sid=e12b90519bab632c3ffdcb360924a5c1&aid=304142&ucfs=1&arphpl=1&dest_id=97&dest_type=country&group_adults=2&req_adults=2&no_rooms=1&group_children=0&req_children=0&hpos=10&hapos=460&sr_order=popularity&srpvid=e74992fcebb600ae&srepoch=1646686527&from=searchresults#hotelTmpl': 49,\n",
       " 'https://www.booking.com/hotel/is/smokey-bay-guesthouse.zh-tw.html?label=gen173bo-1DCAEoggI46AdIMFgDaOcBiAEBmAEwuAEXyAEM2AED6AEB-AEDiAIBmAICqAIDuALMrZiRBsACAdICJDA4MWM3ODVkLWU3YjYtNGUwNC1hOGMzLWJiMzJhYjZlODBhNdgCBOACAQ&sid=e12b90519bab632c3ffdcb360924a5c1&aid=304142&ucfs=1&arphpl=1&dest_id=97&dest_type=country&group_adults=2&req_adults=2&no_rooms=1&group_children=0&req_children=0&hpos=11&hapos=461&sr_order=popularity&srpvid=e74992fcebb600ae&srepoch=1646686527&from_sustainable_property_sr=1&from=searchresults#hotelTmpl': 487,\n",
       " 'https://www.booking.com/hotel/is/guesthouse-birkifell.zh-tw.html?label=gen173bo-1DCAEoggI46AdIMFgDaOcBiAEBmAEwuAEXyAEM2AED6AEB-AEDiAIBmAICqAIDuALMrZiRBsACAdICJDA4MWM3ODVkLWU3YjYtNGUwNC1hOGMzLWJiMzJhYjZlODBhNdgCBOACAQ&sid=e12b90519bab632c3ffdcb360924a5c1&aid=304142&ucfs=1&arphpl=1&dest_id=97&dest_type=country&group_adults=2&req_adults=2&no_rooms=1&group_children=0&req_children=0&hpos=12&hapos=462&sr_order=popularity&srpvid=e74992fcebb600ae&srepoch=1646686527&from=searchresults#hotelTmpl': 148,\n",
       " 'https://www.booking.com/hotel/is/jadar-tungufell.zh-tw.html?label=gen173bo-1DCAEoggI46AdIMFgDaOcBiAEBmAEwuAEXyAEM2AED6AEB-AEDiAIBmAICqAIDuALMrZiRBsACAdICJDA4MWM3ODVkLWU3YjYtNGUwNC1hOGMzLWJiMzJhYjZlODBhNdgCBOACAQ&sid=e12b90519bab632c3ffdcb360924a5c1&aid=304142&ucfs=1&arphpl=1&dest_id=97&dest_type=country&group_adults=2&req_adults=2&no_rooms=1&group_children=0&req_children=0&hpos=13&hapos=463&sr_order=popularity&srpvid=e74992fcebb600ae&srepoch=1646686527&from=searchresults#hotelTmpl': 158,\n",
       " 'https://www.booking.com/hotel/is/grimsstadir-guesthouse.zh-tw.html?label=gen173bo-1DCAEoggI46AdIMFgDaOcBiAEBmAEwuAEXyAEM2AED6AEB-AEDiAIBmAICqAIDuALMrZiRBsACAdICJDA4MWM3ODVkLWU3YjYtNGUwNC1hOGMzLWJiMzJhYjZlODBhNdgCBOACAQ&sid=e12b90519bab632c3ffdcb360924a5c1&aid=304142&ucfs=1&arphpl=1&dest_id=97&dest_type=country&group_adults=2&req_adults=2&no_rooms=1&group_children=0&req_children=0&hpos=14&hapos=464&sr_order=popularity&srpvid=e74992fcebb600ae&srepoch=1646686527&from=searchresults#hotelTmpl': 161,\n",
       " 'https://www.booking.com/hotel/is/solheimar-guesthouse.zh-tw.html?label=gen173bo-1DCAEoggI46AdIMFgDaOcBiAEBmAEwuAEXyAEM2AED6AEB-AEDiAIBmAICqAIDuALMrZiRBsACAdICJDA4MWM3ODVkLWU3YjYtNGUwNC1hOGMzLWJiMzJhYjZlODBhNdgCBOACAQ&sid=e12b90519bab632c3ffdcb360924a5c1&aid=304142&ucfs=1&arphpl=1&dest_id=97&dest_type=country&group_adults=2&req_adults=2&no_rooms=1&group_children=0&req_children=0&hpos=15&hapos=465&sr_order=popularity&srpvid=e74992fcebb600ae&srepoch=1646686527&from=searchresults#hotelTmpl': 302,\n",
       " 'https://www.booking.com/hotel/is/midsitja.zh-tw.html?label=gen173bo-1DCAEoggI46AdIMFgDaOcBiAEBmAEwuAEXyAEM2AED6AEB-AEDiAIBmAICqAIDuALMrZiRBsACAdICJDA4MWM3ODVkLWU3YjYtNGUwNC1hOGMzLWJiMzJhYjZlODBhNdgCBOACAQ&sid=e12b90519bab632c3ffdcb360924a5c1&aid=304142&ucfs=1&arphpl=1&dest_id=97&dest_type=country&group_adults=2&req_adults=2&no_rooms=1&group_children=0&req_children=0&hpos=16&hapos=466&sr_order=popularity&srpvid=e74992fcebb600ae&srepoch=1646686527&from=searchresults#hotelTmpl': 94,\n",
       " 'https://www.booking.com/hotel/is/rek-inn.zh-tw.html?label=gen173bo-1DCAEoggI46AdIMFgDaOcBiAEBmAEwuAEXyAEM2AED6AEB-AEDiAIBmAICqAIDuALMrZiRBsACAdICJDA4MWM3ODVkLWU3YjYtNGUwNC1hOGMzLWJiMzJhYjZlODBhNdgCBOACAQ&sid=e12b90519bab632c3ffdcb360924a5c1&aid=304142&ucfs=1&arphpl=1&dest_id=97&dest_type=country&group_adults=2&req_adults=2&no_rooms=1&group_children=0&req_children=0&hpos=17&hapos=467&sr_order=popularity&srpvid=e74992fcebb600ae&srepoch=1646686527&from=searchresults#hotelTmpl': 568,\n",
       " 'https://www.booking.com/hotel/is/baron.zh-tw.html?label=gen173bo-1DCAEoggI46AdIMFgDaOcBiAEBmAEwuAEXyAEM2AED6AEB-AEDiAIBmAICqAIDuALMrZiRBsACAdICJDA4MWM3ODVkLWU3YjYtNGUwNC1hOGMzLWJiMzJhYjZlODBhNdgCBOACAQ&sid=e12b90519bab632c3ffdcb360924a5c1&aid=304142&ucfs=1&arphpl=1&dest_id=97&dest_type=country&group_adults=2&req_adults=2&no_rooms=1&group_children=0&req_children=0&hpos=18&hapos=468&sr_order=popularity&srpvid=e74992fcebb600ae&srepoch=1646686527&from=searchresults#hotelTmpl': 508,\n",
       " 'https://www.booking.com/hotel/is/ha3tel-staadegarborg.zh-tw.html?label=gen173bo-1DCAEoggI46AdIMFgDaOcBiAEBmAEwuAEXyAEM2AED6AEB-AEDiAIBmAICqAIDuALMrZiRBsACAdICJDA4MWM3ODVkLWU3YjYtNGUwNC1hOGMzLWJiMzJhYjZlODBhNdgCBOACAQ&sid=e12b90519bab632c3ffdcb360924a5c1&aid=304142&ucfs=1&arphpl=1&dest_id=97&dest_type=country&group_adults=2&req_adults=2&no_rooms=1&group_children=0&req_children=0&hpos=19&hapos=469&sr_order=popularity&srpvid=e74992fcebb600ae&srepoch=1646686527&from=searchresults#hotelTmpl': 512,\n",
       " 'https://www.booking.com/hotel/is/hrauneyjar-guesthouse.zh-tw.html?label=gen173bo-1DCAEoggI46AdIMFgDaOcBiAEBmAEwuAEXyAEM2AED6AEB-AEDiAIBmAICqAIDuALMrZiRBsACAdICJDA4MWM3ODVkLWU3YjYtNGUwNC1hOGMzLWJiMzJhYjZlODBhNdgCBOACAQ&sid=e12b90519bab632c3ffdcb360924a5c1&aid=304142&ucfs=1&arphpl=1&dest_id=97&dest_type=country&group_adults=2&req_adults=2&no_rooms=1&group_children=0&req_children=0&hpos=20&hapos=470&sr_order=popularity&srpvid=e74992fcebb600ae&srepoch=1646686527&from=searchresults#hotelTmpl': 382,\n",
       " 'https://www.booking.com/hotel/is/skalholt.zh-tw.html?label=gen173bo-1DCAEoggI46AdIMFgDaOcBiAEBmAEwuAEXyAEM2AED6AEB-AEDiAIBmAICqAIDuALMrZiRBsACAdICJDA4MWM3ODVkLWU3YjYtNGUwNC1hOGMzLWJiMzJhYjZlODBhNdgCBOACAQ&sid=e12b90519bab632c3ffdcb360924a5c1&aid=304142&ucfs=1&arphpl=1&dest_id=97&dest_type=country&group_adults=2&req_adults=2&no_rooms=1&group_children=0&req_children=0&hpos=21&hapos=471&sr_order=popularity&srpvid=e74992fcebb600ae&srepoch=1646686527&from_sustainable_property_sr=1&from=searchresults#hotelTmpl': 169,\n",
       " 'https://www.booking.com/hotel/is/thorbrandsstair-farm-holidays.zh-tw.html?label=gen173bo-1DCAEoggI46AdIMFgDaOcBiAEBmAEwuAEXyAEM2AED6AEB-AEDiAIBmAICqAIDuALMrZiRBsACAdICJDA4MWM3ODVkLWU3YjYtNGUwNC1hOGMzLWJiMzJhYjZlODBhNdgCBOACAQ&sid=e12b90519bab632c3ffdcb360924a5c1&aid=304142&ucfs=1&arphpl=1&dest_id=97&dest_type=country&group_adults=2&req_adults=2&no_rooms=1&group_children=0&req_children=0&hpos=22&hapos=472&sr_order=popularity&srpvid=e74992fcebb600ae&srepoch=1646686527&from=searchresults#hotelTmpl': 78,\n",
       " 'https://www.booking.com/hotel/is/artun-guesthouse.zh-tw.html?label=gen173bo-1DCAEoggI46AdIMFgDaOcBiAEBmAEwuAEXyAEM2AED6AEB-AEDiAIBmAICqAIDuALMrZiRBsACAdICJDA4MWM3ODVkLWU3YjYtNGUwNC1hOGMzLWJiMzJhYjZlODBhNdgCBOACAQ&sid=e12b90519bab632c3ffdcb360924a5c1&aid=304142&ucfs=1&arphpl=1&dest_id=97&dest_type=country&group_adults=2&req_adults=2&no_rooms=1&group_children=0&req_children=0&hpos=23&hapos=473&sr_order=popularity&srpvid=e74992fcebb600ae&srepoch=1646686527&from=searchresults#hotelTmpl': 54,\n",
       " 'https://www.booking.com/hotel/is/litlabjarg-guesthouse.zh-tw.html?label=gen173bo-1DCAEoggI46AdIMFgDaOcBiAEBmAEwuAEXyAEM2AED6AEB-AEDiAIBmAICqAIDuALMrZiRBsACAdICJDA4MWM3ODVkLWU3YjYtNGUwNC1hOGMzLWJiMzJhYjZlODBhNdgCBOACAQ&sid=e12b90519bab632c3ffdcb360924a5c1&aid=304142&ucfs=1&arphpl=1&dest_id=97&dest_type=country&group_adults=2&req_adults=2&no_rooms=1&group_children=0&req_children=0&hpos=24&hapos=474&sr_order=popularity&srpvid=e74992fcebb600ae&srepoch=1646686527&from=searchresults#hotelTmpl': 409,\n",
       " 'https://www.booking.com/hotel/is/guesthouse-elin.zh-tw.html?label=gen173bo-1DCAEoggI46AdIMFgDaOcBiAEBmAEwuAEXyAEM2AED6AEB-AEDiAIBmAICqAIDuALMrZiRBsACAdICJDA4MWM3ODVkLWU3YjYtNGUwNC1hOGMzLWJiMzJhYjZlODBhNdgCBOACAQ&sid=e12b90519bab632c3ffdcb360924a5c1&aid=304142&ucfs=1&arphpl=1&dest_id=97&dest_type=country&group_adults=2&req_adults=2&no_rooms=1&group_children=0&req_children=0&hpos=25&hapos=475&sr_order=popularity&srpvid=e74992fcebb600ae&srepoch=1646686527&from=searchresults#hotelTmpl': 246,\n",
       " 'https://www.booking.com/hotel/is/laekjarhus-farm-holidays.zh-tw.html?label=gen173bo-1DCAEoggI46AdIMFgDaOcBiAEBmAEwuAEXyAEM2AED6AEB-AEDiAIBmAICqAIDuALMrZiRBsACAdICJDA4MWM3ODVkLWU3YjYtNGUwNC1hOGMzLWJiMzJhYjZlODBhNdgCBOACAQ&sid=e12b90519bab632c3ffdcb360924a5c1&aid=304142&ucfs=1&arphpl=1&dest_id=97&dest_type=country&group_adults=2&req_adults=2&no_rooms=1&group_children=0&req_children=0&hpos=1&hapos=476&sr_order=popularity&srpvid=e74992fcebb600ae&srepoch=1646686531&from=searchresults#hotelTmpl': 575,\n",
       " 'https://www.booking.com/hotel/is/arctic-wind.zh-tw.html?label=gen173bo-1DCAEoggI46AdIMFgDaOcBiAEBmAEwuAEXyAEM2AED6AEB-AEDiAIBmAICqAIDuALMrZiRBsACAdICJDA4MWM3ODVkLWU3YjYtNGUwNC1hOGMzLWJiMzJhYjZlODBhNdgCBOACAQ&sid=e12b90519bab632c3ffdcb360924a5c1&aid=304142&ucfs=1&arphpl=1&dest_id=97&dest_type=country&group_adults=2&req_adults=2&no_rooms=1&group_children=0&req_children=0&hpos=2&hapos=477&sr_order=popularity&srpvid=e74992fcebb600ae&srepoch=1646686531&from=searchresults#hotelTmpl': 469,\n",
       " 'https://www.booking.com/hotel/is/b-b-guesthouse.zh-tw.html?label=gen173bo-1DCAEoggI46AdIMFgDaOcBiAEBmAEwuAEXyAEM2AED6AEB-AEDiAIBmAICqAIDuALMrZiRBsACAdICJDA4MWM3ODVkLWU3YjYtNGUwNC1hOGMzLWJiMzJhYjZlODBhNdgCBOACAQ&sid=e12b90519bab632c3ffdcb360924a5c1&aid=304142&ucfs=1&arphpl=1&dest_id=97&dest_type=country&group_adults=2&req_adults=2&no_rooms=1&group_children=0&req_children=0&hpos=3&hapos=478&sr_order=popularity&srpvid=e74992fcebb600ae&srepoch=1646686531&from=searchresults#hotelTmpl': 1572,\n",
       " 'https://www.booking.com/hotel/is/akureyri-h-i-hostel.zh-tw.html?label=gen173bo-1DCAEoggI46AdIMFgDaOcBiAEBmAEwuAEXyAEM2AED6AEB-AEDiAIBmAICqAIDuALMrZiRBsACAdICJDA4MWM3ODVkLWU3YjYtNGUwNC1hOGMzLWJiMzJhYjZlODBhNdgCBOACAQ&sid=e12b90519bab632c3ffdcb360924a5c1&aid=304142&ucfs=1&arphpl=1&dest_id=97&dest_type=country&group_adults=2&req_adults=2&no_rooms=1&group_children=0&req_children=0&hpos=4&hapos=479&sr_order=popularity&srpvid=e74992fcebb600ae&srepoch=1646686531&from_sustainable_property_sr=1&from=searchresults#hotelTmpl': 1135,\n",
       " 'https://www.booking.com/hotel/is/rauduskridur-farm.zh-tw.html?label=gen173bo-1DCAEoggI46AdIMFgDaOcBiAEBmAEwuAEXyAEM2AED6AEB-AEDiAIBmAICqAIDuALMrZiRBsACAdICJDA4MWM3ODVkLWU3YjYtNGUwNC1hOGMzLWJiMzJhYjZlODBhNdgCBOACAQ&sid=e12b90519bab632c3ffdcb360924a5c1&aid=304142&ucfs=1&arphpl=1&dest_id=97&dest_type=country&group_adults=2&req_adults=2&no_rooms=1&group_children=0&req_children=0&hpos=5&hapos=480&sr_order=popularity&srpvid=e74992fcebb600ae&srepoch=1646686531&from=searchresults#hotelTmpl': 64,\n",
       " 'https://www.booking.com/hotel/is/welcome-lambafell.zh-tw.html?label=gen173bo-1DCAEoggI46AdIMFgDaOcBiAEBmAEwuAEXyAEM2AED6AEB-AEDiAIBmAICqAIDuALMrZiRBsACAdICJDA4MWM3ODVkLWU3YjYtNGUwNC1hOGMzLWJiMzJhYjZlODBhNdgCBOACAQ&sid=e12b90519bab632c3ffdcb360924a5c1&aid=304142&ucfs=1&arphpl=1&dest_id=97&dest_type=country&group_adults=2&req_adults=2&no_rooms=1&group_children=0&req_children=0&hpos=6&hapos=481&sr_order=popularity&srpvid=e74992fcebb600ae&srepoch=1646686531&from=searchresults#hotelTmpl': 458,\n",
       " 'https://www.booking.com/hotel/is/gusthouse-haosiadeg.zh-tw.html?label=gen173bo-1DCAEoggI46AdIMFgDaOcBiAEBmAEwuAEXyAEM2AED6AEB-AEDiAIBmAICqAIDuALMrZiRBsACAdICJDA4MWM3ODVkLWU3YjYtNGUwNC1hOGMzLWJiMzJhYjZlODBhNdgCBOACAQ&sid=e12b90519bab632c3ffdcb360924a5c1&aid=304142&ucfs=1&arphpl=1&dest_id=97&dest_type=country&group_adults=2&req_adults=2&no_rooms=1&group_children=0&req_children=0&hpos=7&hapos=482&sr_order=popularity&srpvid=e74992fcebb600ae&srepoch=1646686531&from=searchresults#hotelTmpl': 164,\n",
       " 'https://www.booking.com/hotel/is/gardur-guesthouse.zh-tw.html?label=gen173bo-1DCAEoggI46AdIMFgDaOcBiAEBmAEwuAEXyAEM2AED6AEB-AEDiAIBmAICqAIDuALMrZiRBsACAdICJDA4MWM3ODVkLWU3YjYtNGUwNC1hOGMzLWJiMzJhYjZlODBhNdgCBOACAQ&sid=e12b90519bab632c3ffdcb360924a5c1&aid=304142&ucfs=1&arphpl=1&dest_id=97&dest_type=country&group_adults=2&req_adults=2&no_rooms=1&group_children=0&req_children=0&hpos=8&hapos=483&sr_order=popularity&srpvid=e74992fcebb600ae&srepoch=1646686531&from=searchresults#hotelTmpl': 176,\n",
       " 'https://www.booking.com/hotel/is/blue-view-cabin-1b.zh-tw.html?label=gen173bo-1DCAEoggI46AdIMFgDaOcBiAEBmAEwuAEXyAEM2AED6AEB-AEDiAIBmAICqAIDuALMrZiRBsACAdICJDA4MWM3ODVkLWU3YjYtNGUwNC1hOGMzLWJiMzJhYjZlODBhNdgCBOACAQ&sid=e12b90519bab632c3ffdcb360924a5c1&aid=304142&ucfs=1&arphpl=1&dest_id=97&dest_type=country&group_adults=2&req_adults=2&no_rooms=1&group_children=0&req_children=0&hpos=9&hapos=484&sr_order=popularity&srpvid=e74992fcebb600ae&srepoch=1646686531&from=searchresults#hotelTmpl': 99,\n",
       " 'https://www.booking.com/hotel/is/northern-lights-igluhus.zh-tw.html?label=gen173bo-1DCAEoggI46AdIMFgDaOcBiAEBmAEwuAEXyAEM2AED6AEB-AEDiAIBmAICqAIDuALMrZiRBsACAdICJDA4MWM3ODVkLWU3YjYtNGUwNC1hOGMzLWJiMzJhYjZlODBhNdgCBOACAQ&sid=e12b90519bab632c3ffdcb360924a5c1&aid=304142&ucfs=1&arphpl=1&dest_id=97&dest_type=country&group_adults=2&req_adults=2&no_rooms=1&group_children=0&req_children=0&hpos=10&hapos=485&sr_order=popularity&srpvid=e74992fcebb600ae&srepoch=1646686531&from_sustainable_property_sr=1&from=searchresults#hotelTmpl': 44,\n",
       " 'https://www.booking.com/hotel/is/gentlespace-guesthouse.zh-tw.html?label=gen173bo-1DCAEoggI46AdIMFgDaOcBiAEBmAEwuAEXyAEM2AED6AEB-AEDiAIBmAICqAIDuALMrZiRBsACAdICJDA4MWM3ODVkLWU3YjYtNGUwNC1hOGMzLWJiMzJhYjZlODBhNdgCBOACAQ&sid=e12b90519bab632c3ffdcb360924a5c1&aid=304142&ucfs=1&arphpl=1&dest_id=97&dest_type=country&group_adults=2&req_adults=2&no_rooms=1&group_children=0&req_children=0&hpos=11&hapos=486&sr_order=popularity&srpvid=e74992fcebb600ae&srepoch=1646686531&from_sustainable_property_sr=1&from=searchresults#hotelTmpl': 167,\n",
       " 'https://www.booking.com/hotel/is/guesthouse-stong.zh-tw.html?label=gen173bo-1DCAEoggI46AdIMFgDaOcBiAEBmAEwuAEXyAEM2AED6AEB-AEDiAIBmAICqAIDuALMrZiRBsACAdICJDA4MWM3ODVkLWU3YjYtNGUwNC1hOGMzLWJiMzJhYjZlODBhNdgCBOACAQ&sid=e12b90519bab632c3ffdcb360924a5c1&aid=304142&ucfs=1&arphpl=1&dest_id=97&dest_type=country&group_adults=2&req_adults=2&no_rooms=1&group_children=0&req_children=0&hpos=12&hapos=487&sr_order=popularity&srpvid=e74992fcebb600ae&srepoch=1646686531&from=searchresults#hotelTmpl': 525,\n",
       " 'https://www.booking.com/hotel/is/guesthouse-denami.zh-tw.html?label=gen173bo-1DCAEoggI46AdIMFgDaOcBiAEBmAEwuAEXyAEM2AED6AEB-AEDiAIBmAICqAIDuALMrZiRBsACAdICJDA4MWM3ODVkLWU3YjYtNGUwNC1hOGMzLWJiMzJhYjZlODBhNdgCBOACAQ&sid=e12b90519bab632c3ffdcb360924a5c1&aid=304142&ucfs=1&arphpl=1&dest_id=97&dest_type=country&group_adults=2&req_adults=2&no_rooms=1&group_children=0&req_children=0&hpos=13&hapos=488&sr_order=popularity&srpvid=e74992fcebb600ae&srepoch=1646686531&from=searchresults#hotelTmpl': 235,\n",
       " 'https://www.booking.com/hotel/is/stora-vatnshorn.zh-tw.html?label=gen173bo-1DCAEoggI46AdIMFgDaOcBiAEBmAEwuAEXyAEM2AED6AEB-AEDiAIBmAICqAIDuALMrZiRBsACAdICJDA4MWM3ODVkLWU3YjYtNGUwNC1hOGMzLWJiMzJhYjZlODBhNdgCBOACAQ&sid=e12b90519bab632c3ffdcb360924a5c1&aid=304142&ucfs=1&arphpl=1&dest_id=97&dest_type=country&group_adults=2&req_adults=2&no_rooms=1&group_children=0&req_children=0&hpos=14&hapos=489&sr_order=popularity&srpvid=e74992fcebb600ae&srepoch=1646686531&from=searchresults#hotelTmpl': 440,\n",
       " 'https://www.booking.com/hotel/is/bjarnastadir-guesthouse.zh-tw.html?label=gen173bo-1DCAEoggI46AdIMFgDaOcBiAEBmAEwuAEXyAEM2AED6AEB-AEDiAIBmAICqAIDuALMrZiRBsACAdICJDA4MWM3ODVkLWU3YjYtNGUwNC1hOGMzLWJiMzJhYjZlODBhNdgCBOACAQ&sid=e12b90519bab632c3ffdcb360924a5c1&aid=304142&ucfs=1&arphpl=1&dest_id=97&dest_type=country&group_adults=2&req_adults=2&no_rooms=1&group_children=0&req_children=0&hpos=15&hapos=490&sr_order=popularity&srpvid=e74992fcebb600ae&srepoch=1646686531&from_sustainable_property_sr=1&from=searchresults#hotelTmpl': 35,\n",
       " 'https://www.booking.com/hotel/is/dalshofdi-guesthouse.zh-tw.html?label=gen173bo-1DCAEoggI46AdIMFgDaOcBiAEBmAEwuAEXyAEM2AED6AEB-AEDiAIBmAICqAIDuALMrZiRBsACAdICJDA4MWM3ODVkLWU3YjYtNGUwNC1hOGMzLWJiMzJhYjZlODBhNdgCBOACAQ&sid=e12b90519bab632c3ffdcb360924a5c1&aid=304142&ucfs=1&arphpl=1&dest_id=97&dest_type=country&group_adults=2&req_adults=2&no_rooms=1&group_children=0&req_children=0&hpos=16&hapos=491&sr_order=popularity&srpvid=e74992fcebb600ae&srepoch=1646686531&from=searchresults#hotelTmpl': 610,\n",
       " 'https://www.booking.com/hotel/is/baldursbra-guesthouse-laufasvegur.zh-tw.html?label=gen173bo-1DCAEoggI46AdIMFgDaOcBiAEBmAEwuAEXyAEM2AED6AEB-AEDiAIBmAICqAIDuALMrZiRBsACAdICJDA4MWM3ODVkLWU3YjYtNGUwNC1hOGMzLWJiMzJhYjZlODBhNdgCBOACAQ&sid=e12b90519bab632c3ffdcb360924a5c1&aid=304142&ucfs=1&arphpl=1&dest_id=97&dest_type=country&group_adults=2&req_adults=2&no_rooms=1&group_children=0&req_children=0&hpos=17&hapos=492&sr_order=popularity&srpvid=e74992fcebb600ae&srepoch=1646686531&from=searchresults#hotelTmpl': 1068,\n",
       " 'https://www.booking.com/hotel/is/kaldbakur-guesthouse-heimaland.zh-tw.html?label=gen173bo-1DCAEoggI46AdIMFgDaOcBiAEBmAEwuAEXyAEM2AED6AEB-AEDiAIBmAICqAIDuALMrZiRBsACAdICJDA4MWM3ODVkLWU3YjYtNGUwNC1hOGMzLWJiMzJhYjZlODBhNdgCBOACAQ&sid=e12b90519bab632c3ffdcb360924a5c1&aid=304142&ucfs=1&arphpl=1&dest_id=97&dest_type=country&group_adults=2&req_adults=2&no_rooms=1&group_children=0&req_children=0&hpos=18&hapos=493&sr_order=popularity&srpvid=e74992fcebb600ae&srepoch=1646686531&from=searchresults#hotelTmpl': 55,\n",
       " 'https://www.booking.com/hotel/is/wilderness-center-47-obyggdasetur-islands.zh-tw.html?label=gen173bo-1DCAEoggI46AdIMFgDaOcBiAEBmAEwuAEXyAEM2AED6AEB-AEDiAIBmAICqAIDuALMrZiRBsACAdICJDA4MWM3ODVkLWU3YjYtNGUwNC1hOGMzLWJiMzJhYjZlODBhNdgCBOACAQ&sid=e12b90519bab632c3ffdcb360924a5c1&aid=304142&ucfs=1&arphpl=1&dest_id=97&dest_type=country&group_adults=2&req_adults=2&no_rooms=1&group_children=0&req_children=0&hpos=19&hapos=494&sr_order=popularity&srpvid=e74992fcebb600ae&srepoch=1646686531&from=searchresults#hotelTmpl': 62,\n",
       " 'https://www.booking.com/hotel/is/steppin-stones-activity-house.zh-tw.html?label=gen173bo-1DCAEoggI46AdIMFgDaOcBiAEBmAEwuAEXyAEM2AED6AEB-AEDiAIBmAICqAIDuALMrZiRBsACAdICJDA4MWM3ODVkLWU3YjYtNGUwNC1hOGMzLWJiMzJhYjZlODBhNdgCBOACAQ&sid=e12b90519bab632c3ffdcb360924a5c1&aid=304142&ucfs=1&arphpl=1&dest_id=97&dest_type=country&group_adults=2&req_adults=2&no_rooms=1&group_children=0&req_children=0&hpos=20&hapos=495&sr_order=popularity&srpvid=e74992fcebb600ae&srepoch=1646686531&from=searchresults#hotelTmpl': 555,\n",
       " 'https://www.booking.com/hotel/is/seydisfjordur-hostel.zh-tw.html?label=gen173bo-1DCAEoggI46AdIMFgDaOcBiAEBmAEwuAEXyAEM2AED6AEB-AEDiAIBmAICqAIDuALMrZiRBsACAdICJDA4MWM3ODVkLWU3YjYtNGUwNC1hOGMzLWJiMzJhYjZlODBhNdgCBOACAQ&sid=e12b90519bab632c3ffdcb360924a5c1&aid=304142&ucfs=1&arphpl=1&dest_id=97&dest_type=country&group_adults=2&req_adults=2&no_rooms=1&group_children=0&req_children=0&hpos=21&hapos=496&sr_order=popularity&srpvid=e74992fcebb600ae&srepoch=1646686531&from=searchresults#hotelTmpl': 986,\n",
       " 'https://www.booking.com/hotel/is/solvanes-farmholidays.zh-tw.html?label=gen173bo-1DCAEoggI46AdIMFgDaOcBiAEBmAEwuAEXyAEM2AED6AEB-AEDiAIBmAICqAIDuALMrZiRBsACAdICJDA4MWM3ODVkLWU3YjYtNGUwNC1hOGMzLWJiMzJhYjZlODBhNdgCBOACAQ&sid=e12b90519bab632c3ffdcb360924a5c1&aid=304142&ucfs=1&arphpl=1&dest_id=97&dest_type=country&group_adults=2&req_adults=2&no_rooms=1&group_children=0&req_children=0&hpos=22&hapos=497&sr_order=popularity&srpvid=e74992fcebb600ae&srepoch=1646686531&from_sustainable_property_sr=1&from=searchresults#hotelTmpl': 89,\n",
       " 'https://www.booking.com/hotel/is/bakkaflot-guesthouse.zh-tw.html?label=gen173bo-1DCAEoggI46AdIMFgDaOcBiAEBmAEwuAEXyAEM2AED6AEB-AEDiAIBmAICqAIDuALMrZiRBsACAdICJDA4MWM3ODVkLWU3YjYtNGUwNC1hOGMzLWJiMzJhYjZlODBhNdgCBOACAQ&sid=e12b90519bab632c3ffdcb360924a5c1&aid=304142&ucfs=1&arphpl=1&dest_id=97&dest_type=country&group_adults=2&req_adults=2&no_rooms=1&group_children=0&req_children=0&hpos=23&hapos=498&sr_order=popularity&srpvid=e74992fcebb600ae&srepoch=1646686531&from=searchresults#hotelTmpl': 177,\n",
       " 'https://www.booking.com/hotel/is/hotel-muli.zh-tw.html?label=gen173bo-1DCAEoggI46AdIMFgDaOcBiAEBmAEwuAEXyAEM2AED6AEB-AEDiAIBmAICqAIDuALMrZiRBsACAdICJDA4MWM3ODVkLWU3YjYtNGUwNC1hOGMzLWJiMzJhYjZlODBhNdgCBOACAQ&sid=e12b90519bab632c3ffdcb360924a5c1&aid=304142&ucfs=1&arphpl=1&dest_id=97&dest_type=country&group_adults=2&req_adults=2&no_rooms=1&group_children=0&req_children=0&hpos=24&hapos=499&sr_order=popularity&srpvid=e74992fcebb600ae&srepoch=1646686531&from=searchresults#hotelTmpl': 399,\n",
       " 'https://www.booking.com/hotel/is/bandb-guesthouse.zh-tw.html?label=gen173bo-1DCAEoggI46AdIMFgDaOcBiAEBmAEwuAEXyAEM2AED6AEB-AEDiAIBmAICqAIDuALMrZiRBsACAdICJDA4MWM3ODVkLWU3YjYtNGUwNC1hOGMzLWJiMzJhYjZlODBhNdgCBOACAQ&sid=e12b90519bab632c3ffdcb360924a5c1&aid=304142&ucfs=1&arphpl=1&dest_id=97&dest_type=country&group_adults=2&req_adults=2&no_rooms=1&group_children=0&req_children=0&hpos=25&hapos=500&sr_order=popularity&srpvid=e74992fcebb600ae&srepoch=1646686531&from_sustainable_property_sr=1&from=searchresults#hotelTmpl': 222,\n",
       " 'https://www.booking.com/hotel/is/heidi-cabin.zh-tw.html?label=gen173bo-1DCAEoggI46AdIMFgDaOcBiAEBmAEwuAEXyAEM2AED6AEB-AEDiAIBmAICqAIDuALMrZiRBsACAdICJDA4MWM3ODVkLWU3YjYtNGUwNC1hOGMzLWJiMzJhYjZlODBhNdgCBOACAQ&sid=e12b90519bab632c3ffdcb360924a5c1&aid=304142&ucfs=1&arphpl=1&dest_id=97&dest_type=country&group_adults=2&req_adults=2&no_rooms=1&group_children=0&req_children=0&hpos=1&hapos=501&sr_order=popularity&srpvid=e74992fcebb600ae&srepoch=1646686534&from_sustainable_property_sr=1&from=searchresults#hotelTmpl': 36,\n",
       " 'https://www.booking.com/hotel/is/kolkuos.zh-tw.html?label=gen173bo-1DCAEoggI46AdIMFgDaOcBiAEBmAEwuAEXyAEM2AED6AEB-AEDiAIBmAICqAIDuALMrZiRBsACAdICJDA4MWM3ODVkLWU3YjYtNGUwNC1hOGMzLWJiMzJhYjZlODBhNdgCBOACAQ&sid=e12b90519bab632c3ffdcb360924a5c1&aid=304142&ucfs=1&arphpl=1&dest_id=97&dest_type=country&group_adults=2&req_adults=2&no_rooms=1&group_children=0&req_children=0&hpos=2&hapos=502&sr_order=popularity&srpvid=e74992fcebb600ae&srepoch=1646686534&from=searchresults#hotelTmpl': 98,\n",
       " 'https://www.booking.com/hotel/is/reykjavik-city-hostel.zh-tw.html?label=gen173bo-1DCAEoggI46AdIMFgDaOcBiAEBmAEwuAEXyAEM2AED6AEB-AEDiAIBmAICqAIDuALMrZiRBsACAdICJDA4MWM3ODVkLWU3YjYtNGUwNC1hOGMzLWJiMzJhYjZlODBhNdgCBOACAQ&sid=e12b90519bab632c3ffdcb360924a5c1&aid=304142&ucfs=1&arphpl=1&dest_id=97&dest_type=country&group_adults=2&req_adults=2&no_rooms=1&group_children=0&req_children=0&hpos=3&hapos=503&sr_order=popularity&srpvid=e74992fcebb600ae&srepoch=1646686534&from_sustainable_property_sr=1&from=searchresults#hotelTmpl': 957,\n",
       " 'https://www.booking.com/hotel/is/midhvammur-farm-stay.zh-tw.html?label=gen173bo-1DCAEoggI46AdIMFgDaOcBiAEBmAEwuAEXyAEM2AED6AEB-AEDiAIBmAICqAIDuALMrZiRBsACAdICJDA4MWM3ODVkLWU3YjYtNGUwNC1hOGMzLWJiMzJhYjZlODBhNdgCBOACAQ&sid=e12b90519bab632c3ffdcb360924a5c1&aid=304142&ucfs=1&arphpl=1&dest_id=97&dest_type=country&group_adults=2&req_adults=2&no_rooms=1&group_children=0&req_children=0&hpos=4&hapos=504&sr_order=popularity&srpvid=e74992fcebb600ae&srepoch=1646686534&from=searchresults#hotelTmpl': 184,\n",
       " 'https://www.booking.com/hotel/is/microbar-amp-bed.zh-tw.html?label=gen173bo-1DCAEoggI46AdIMFgDaOcBiAEBmAEwuAEXyAEM2AED6AEB-AEDiAIBmAICqAIDuALMrZiRBsACAdICJDA4MWM3ODVkLWU3YjYtNGUwNC1hOGMzLWJiMzJhYjZlODBhNdgCBOACAQ&sid=e12b90519bab632c3ffdcb360924a5c1&aid=304142&ucfs=1&arphpl=1&dest_id=97&dest_type=country&group_adults=2&req_adults=2&no_rooms=1&group_children=0&req_children=0&hpos=5&hapos=505&sr_order=popularity&srpvid=e74992fcebb600ae&srepoch=1646686534&from_sustainable_property_sr=1&from=searchresults#hotelTmpl': 52,\n",
       " 'https://www.booking.com/hotel/is/gamla-guesthouse.zh-tw.html?label=gen173bo-1DCAEoggI46AdIMFgDaOcBiAEBmAEwuAEXyAEM2AED6AEB-AEDiAIBmAICqAIDuALMrZiRBsACAdICJDA4MWM3ODVkLWU3YjYtNGUwNC1hOGMzLWJiMzJhYjZlODBhNdgCBOACAQ&sid=e12b90519bab632c3ffdcb360924a5c1&aid=304142&ucfs=1&arphpl=1&dest_id=97&dest_type=country&group_adults=2&req_adults=2&no_rooms=1&group_children=0&req_children=0&hpos=6&hapos=506&sr_order=popularity&srpvid=e74992fcebb600ae&srepoch=1646686534&from=searchresults#hotelTmpl': 201,\n",
       " 'https://www.booking.com/hotel/is/moar-guesthouse.zh-tw.html?label=gen173bo-1DCAEoggI46AdIMFgDaOcBiAEBmAEwuAEXyAEM2AED6AEB-AEDiAIBmAICqAIDuALMrZiRBsACAdICJDA4MWM3ODVkLWU3YjYtNGUwNC1hOGMzLWJiMzJhYjZlODBhNdgCBOACAQ&sid=e12b90519bab632c3ffdcb360924a5c1&aid=304142&ucfs=1&arphpl=1&dest_id=97&dest_type=country&group_adults=2&req_adults=2&no_rooms=1&group_children=0&req_children=0&hpos=7&hapos=507&sr_order=popularity&srpvid=e74992fcebb600ae&srepoch=1646686534&from=searchresults#hotelTmpl': 358,\n",
       " 'https://www.booking.com/hotel/is/teigur-guesthouse.zh-tw.html?label=gen173bo-1DCAEoggI46AdIMFgDaOcBiAEBmAEwuAEXyAEM2AED6AEB-AEDiAIBmAICqAIDuALMrZiRBsACAdICJDA4MWM3ODVkLWU3YjYtNGUwNC1hOGMzLWJiMzJhYjZlODBhNdgCBOACAQ&sid=e12b90519bab632c3ffdcb360924a5c1&aid=304142&ucfs=1&arphpl=1&dest_id=97&dest_type=country&group_adults=2&req_adults=2&no_rooms=1&group_children=0&req_children=0&hpos=8&hapos=508&sr_order=popularity&srpvid=e74992fcebb600ae&srepoch=1646686534&from=searchresults#hotelTmpl': 142,\n",
       " 'https://www.booking.com/hotel/is/efra-sel-hostel.zh-tw.html?label=gen173bo-1DCAEoggI46AdIMFgDaOcBiAEBmAEwuAEXyAEM2AED6AEB-AEDiAIBmAICqAIDuALMrZiRBsACAdICJDA4MWM3ODVkLWU3YjYtNGUwNC1hOGMzLWJiMzJhYjZlODBhNdgCBOACAQ&sid=e12b90519bab632c3ffdcb360924a5c1&aid=304142&ucfs=1&arphpl=1&dest_id=97&dest_type=country&group_adults=2&req_adults=2&no_rooms=1&group_children=0&req_children=0&hpos=9&hapos=509&sr_order=popularity&srpvid=e74992fcebb600ae&srepoch=1646686534&from=searchresults#hotelTmpl': 730,\n",
       " 'https://www.booking.com/hotel/is/stryta-apartment-2.zh-tw.html?label=gen173bo-1DCAEoggI46AdIMFgDaOcBiAEBmAEwuAEXyAEM2AED6AEB-AEDiAIBmAICqAIDuALMrZiRBsACAdICJDA4MWM3ODVkLWU3YjYtNGUwNC1hOGMzLWJiMzJhYjZlODBhNdgCBOACAQ&sid=e12b90519bab632c3ffdcb360924a5c1&aid=304142&ucfs=1&arphpl=1&dest_id=97&dest_type=country&group_adults=2&req_adults=2&no_rooms=1&group_children=0&req_children=0&hpos=10&hapos=510&sr_order=popularity&srpvid=e74992fcebb600ae&srepoch=1646686534&from_sustainable_property_sr=1&from=searchresults#hotelTmpl': 55,\n",
       " 'https://www.booking.com/hotel/is/dettifossvegur.zh-tw.html?label=gen173bo-1DCAEoggI46AdIMFgDaOcBiAEBmAEwuAEXyAEM2AED6AEB-AEDiAIBmAICqAIDuALMrZiRBsACAdICJDA4MWM3ODVkLWU3YjYtNGUwNC1hOGMzLWJiMzJhYjZlODBhNdgCBOACAQ&sid=e12b90519bab632c3ffdcb360924a5c1&aid=304142&ucfs=1&arphpl=1&dest_id=97&dest_type=country&group_adults=2&req_adults=2&no_rooms=1&group_children=0&req_children=0&hpos=11&hapos=511&sr_order=popularity&srpvid=e74992fcebb600ae&srepoch=1646686534&from=searchresults#hotelTmpl': 124,\n",
       " 'https://www.booking.com/hotel/is/castle-house-luxury-apartments.zh-tw.html?label=gen173bo-1DCAEoggI46AdIMFgDaOcBiAEBmAEwuAEXyAEM2AED6AEB-AEDiAIBmAICqAIDuALMrZiRBsACAdICJDA4MWM3ODVkLWU3YjYtNGUwNC1hOGMzLWJiMzJhYjZlODBhNdgCBOACAQ&sid=e12b90519bab632c3ffdcb360924a5c1&aid=304142&ucfs=1&arphpl=1&dest_id=97&dest_type=country&group_adults=2&req_adults=2&no_rooms=1&group_children=0&req_children=0&hpos=12&hapos=512&sr_order=popularity&srpvid=e74992fcebb600ae&srepoch=1646686534&from_sustainable_property_sr=1&from=searchresults#hotelTmpl': 549,\n",
       " 'https://www.booking.com/hotel/is/engimyri-guesthouse.zh-tw.html?label=gen173bo-1DCAEoggI46AdIMFgDaOcBiAEBmAEwuAEXyAEM2AED6AEB-AEDiAIBmAICqAIDuALMrZiRBsACAdICJDA4MWM3ODVkLWU3YjYtNGUwNC1hOGMzLWJiMzJhYjZlODBhNdgCBOACAQ&sid=e12b90519bab632c3ffdcb360924a5c1&aid=304142&ucfs=1&arphpl=1&dest_id=97&dest_type=country&group_adults=2&req_adults=2&no_rooms=1&group_children=0&req_children=0&hpos=13&hapos=513&sr_order=popularity&srpvid=e74992fcebb600ae&srepoch=1646686534&from_sustainable_property_sr=1&from=searchresults#hotelTmpl': 103,\n",
       " 'https://www.booking.com/hotel/is/guesthouse-borg.zh-tw.html?label=gen173bo-1DCAEoggI46AdIMFgDaOcBiAEBmAEwuAEXyAEM2AED6AEB-AEDiAIBmAICqAIDuALMrZiRBsACAdICJDA4MWM3ODVkLWU3YjYtNGUwNC1hOGMzLWJiMzJhYjZlODBhNdgCBOACAQ&sid=e12b90519bab632c3ffdcb360924a5c1&aid=304142&ucfs=1&arphpl=1&dest_id=97&dest_type=country&group_adults=2&req_adults=2&no_rooms=1&group_children=0&req_children=0&hpos=14&hapos=514&sr_order=popularity&srpvid=e74992fcebb600ae&srepoch=1646686534&from=searchresults#hotelTmpl': 488,\n",
       " 'https://www.booking.com/hotel/is/thverhamar-hostel-breiddalsvik.zh-tw.html?label=gen173bo-1DCAEoggI46AdIMFgDaOcBiAEBmAEwuAEXyAEM2AED6AEB-AEDiAIBmAICqAIDuALMrZiRBsACAdICJDA4MWM3ODVkLWU3YjYtNGUwNC1hOGMzLWJiMzJhYjZlODBhNdgCBOACAQ&sid=e12b90519bab632c3ffdcb360924a5c1&aid=304142&ucfs=1&arphpl=1&dest_id=97&dest_type=country&group_adults=2&req_adults=2&no_rooms=1&group_children=0&req_children=0&hpos=15&hapos=515&sr_order=popularity&srpvid=e74992fcebb600ae&srepoch=1646686534&from=searchresults#hotelTmpl': 45,\n",
       " 'https://www.booking.com/hotel/is/black-beach-guesthouse.zh-tw.html?label=gen173bo-1DCAEoggI46AdIMFgDaOcBiAEBmAEwuAEXyAEM2AED6AEB-AEDiAIBmAICqAIDuALMrZiRBsACAdICJDA4MWM3ODVkLWU3YjYtNGUwNC1hOGMzLWJiMzJhYjZlODBhNdgCBOACAQ&sid=e12b90519bab632c3ffdcb360924a5c1&aid=304142&ucfs=1&arphpl=1&dest_id=97&dest_type=country&group_adults=2&req_adults=2&no_rooms=1&group_children=0&req_children=0&hpos=16&hapos=516&sr_order=popularity&srpvid=e74992fcebb600ae&srepoch=1646686534&from=searchresults#hotelTmpl': 459,\n",
       " 'https://www.booking.com/hotel/is/10b-gamla-laeknishusid.zh-tw.html?label=gen173bo-1DCAEoggI46AdIMFgDaOcBiAEBmAEwuAEXyAEM2AED6AEB-AEDiAIBmAICqAIDuALMrZiRBsACAdICJDA4MWM3ODVkLWU3YjYtNGUwNC1hOGMzLWJiMzJhYjZlODBhNdgCBOACAQ&sid=e12b90519bab632c3ffdcb360924a5c1&aid=304142&ucfs=1&arphpl=1&dest_id=97&dest_type=country&group_adults=2&req_adults=2&no_rooms=1&group_children=0&req_children=0&hpos=17&hapos=517&sr_order=popularity&srpvid=e74992fcebb600ae&srepoch=1646686534&from=searchresults#hotelTmpl': 130,\n",
       " 'https://www.booking.com/hotel/is/hvolvollur.zh-tw.html?label=gen173bo-1DCAEoggI46AdIMFgDaOcBiAEBmAEwuAEXyAEM2AED6AEB-AEDiAIBmAICqAIDuALMrZiRBsACAdICJDA4MWM3ODVkLWU3YjYtNGUwNC1hOGMzLWJiMzJhYjZlODBhNdgCBOACAQ&sid=e12b90519bab632c3ffdcb360924a5c1&aid=304142&ucfs=1&arphpl=1&dest_id=97&dest_type=country&group_adults=2&req_adults=2&no_rooms=1&group_children=0&req_children=0&hpos=18&hapos=518&sr_order=popularity&srpvid=e74992fcebb600ae&srepoch=1646686534&from_sustainable_property_sr=1&from=searchresults#hotelTmpl': 781,\n",
       " 'https://www.booking.com/hotel/is/the-barn.zh-tw.html?label=gen173bo-1DCAEoggI46AdIMFgDaOcBiAEBmAEwuAEXyAEM2AED6AEB-AEDiAIBmAICqAIDuALMrZiRBsACAdICJDA4MWM3ODVkLWU3YjYtNGUwNC1hOGMzLWJiMzJhYjZlODBhNdgCBOACAQ&sid=e12b90519bab632c3ffdcb360924a5c1&aid=304142&ucfs=1&arphpl=1&dest_id=97&dest_type=country&group_adults=2&req_adults=2&no_rooms=1&group_children=0&req_children=0&hpos=19&hapos=519&sr_order=popularity&srpvid=e74992fcebb600ae&srepoch=1646686534&from=searchresults#hotelTmpl': 3734,\n",
       " 'https://www.booking.com/hotel/is/mikligaradegur-sauadega-rkra3kur.zh-tw.html?label=gen173bo-1DCAEoggI46AdIMFgDaOcBiAEBmAEwuAEXyAEM2AED6AEB-AEDiAIBmAICqAIDuALMrZiRBsACAdICJDA4MWM3ODVkLWU3YjYtNGUwNC1hOGMzLWJiMzJhYjZlODBhNdgCBOACAQ&sid=e12b90519bab632c3ffdcb360924a5c1&aid=304142&ucfs=1&arphpl=1&dest_id=97&dest_type=country&group_adults=2&req_adults=2&no_rooms=1&group_children=0&req_children=0&hpos=20&hapos=520&sr_order=popularity&srpvid=e74992fcebb600ae&srepoch=1646686534&from_sustainable_property_sr=1&from=searchresults#hotelTmpl': 136,\n",
       " 'https://www.booking.com/hotel/is/skutustadir-guesthouse.zh-tw.html?label=gen173bo-1DCAEoggI46AdIMFgDaOcBiAEBmAEwuAEXyAEM2AED6AEB-AEDiAIBmAICqAIDuALMrZiRBsACAdICJDA4MWM3ODVkLWU3YjYtNGUwNC1hOGMzLWJiMzJhYjZlODBhNdgCBOACAQ&sid=e12b90519bab632c3ffdcb360924a5c1&aid=304142&ucfs=1&arphpl=1&dest_id=97&dest_type=country&group_adults=2&req_adults=2&no_rooms=1&group_children=0&req_children=0&hpos=21&hapos=521&sr_order=popularity&srpvid=e74992fcebb600ae&srepoch=1646686534&from_sustainable_property_sr=1&from=searchresults#hotelTmpl': 1298,\n",
       " 'https://www.booking.com/hotel/is/south-central-motel.zh-tw.html?label=gen173bo-1DCAEoggI46AdIMFgDaOcBiAEBmAEwuAEXyAEM2AED6AEB-AEDiAIBmAICqAIDuALMrZiRBsACAdICJDA4MWM3ODVkLWU3YjYtNGUwNC1hOGMzLWJiMzJhYjZlODBhNdgCBOACAQ&sid=e12b90519bab632c3ffdcb360924a5c1&aid=304142&ucfs=1&arphpl=1&dest_id=97&dest_type=country&group_adults=2&req_adults=2&no_rooms=1&group_children=0&req_children=0&hpos=22&hapos=522&sr_order=popularity&srpvid=e74992fcebb600ae&srepoch=1646686534&from=searchresults#hotelTmpl': 216,\n",
       " 'https://www.booking.com/hotel/is/kanslarinn-hella.zh-tw.html?label=gen173bo-1DCAEoggI46AdIMFgDaOcBiAEBmAEwuAEXyAEM2AED6AEB-AEDiAIBmAICqAIDuALMrZiRBsACAdICJDA4MWM3ODVkLWU3YjYtNGUwNC1hOGMzLWJiMzJhYjZlODBhNdgCBOACAQ&sid=e12b90519bab632c3ffdcb360924a5c1&aid=304142&ucfs=1&arphpl=1&dest_id=97&dest_type=country&group_adults=2&req_adults=2&no_rooms=1&group_children=0&req_children=0&hpos=23&hapos=523&sr_order=popularity&srpvid=e74992fcebb600ae&srepoch=1646686534&from=searchresults#hotelTmpl': 710,\n",
       " 'https://www.booking.com/hotel/is/hofdabraut-46.zh-tw.html?label=gen173bo-1DCAEoggI46AdIMFgDaOcBiAEBmAEwuAEXyAEM2AED6AEB-AEDiAIBmAICqAIDuALMrZiRBsACAdICJDA4MWM3ODVkLWU3YjYtNGUwNC1hOGMzLWJiMzJhYjZlODBhNdgCBOACAQ&sid=e12b90519bab632c3ffdcb360924a5c1&aid=304142&ucfs=1&arphpl=1&dest_id=97&dest_type=country&group_adults=2&req_adults=2&no_rooms=1&group_children=0&req_children=0&hpos=24&hapos=524&sr_order=popularity&srpvid=e74992fcebb600ae&srepoch=1646686534&from=searchresults#hotelTmpl': 503,\n",
       " 'https://www.booking.com/hotel/is/the-little-cottage.zh-tw.html?label=gen173bo-1DCAEoggI46AdIMFgDaOcBiAEBmAEwuAEXyAEM2AED6AEB-AEDiAIBmAICqAIDuALMrZiRBsACAdICJDA4MWM3ODVkLWU3YjYtNGUwNC1hOGMzLWJiMzJhYjZlODBhNdgCBOACAQ&sid=e12b90519bab632c3ffdcb360924a5c1&aid=304142&ucfs=1&arphpl=1&dest_id=97&dest_type=country&group_adults=2&req_adults=2&no_rooms=1&group_children=0&req_children=0&hpos=25&hapos=525&sr_order=popularity&srpvid=e74992fcebb600ae&srepoch=1646686534&from=searchresults#hotelTmpl': 74,\n",
       " 'https://www.booking.com/hotel/is/skolavordustigur-apartment.zh-tw.html?label=gen173bo-1DCAEoggI46AdIMFgDaOcBiAEBmAEwuAEXyAEM2AED6AEB-AEDiAIBmAICqAIDuALMrZiRBsACAdICJDA4MWM3ODVkLWU3YjYtNGUwNC1hOGMzLWJiMzJhYjZlODBhNdgCBOACAQ&sid=e12b90519bab632c3ffdcb360924a5c1&aid=304142&ucfs=1&arphpl=1&dest_id=97&dest_type=country&group_adults=2&req_adults=2&no_rooms=1&group_children=0&req_children=0&hpos=1&hapos=526&sr_order=popularity&srpvid=e74992fcebb600ae&srepoch=1646686538&from_sustainable_property_sr=1&from=searchresults#hotelTmpl': 773,\n",
       " 'https://www.booking.com/hotel/is/frostastadir-apartment-room-1.zh-tw.html?label=gen173bo-1DCAEoggI46AdIMFgDaOcBiAEBmAEwuAEXyAEM2AED6AEB-AEDiAIBmAICqAIDuALMrZiRBsACAdICJDA4MWM3ODVkLWU3YjYtNGUwNC1hOGMzLWJiMzJhYjZlODBhNdgCBOACAQ&sid=e12b90519bab632c3ffdcb360924a5c1&aid=304142&ucfs=1&arphpl=1&dest_id=97&dest_type=country&group_adults=2&req_adults=2&no_rooms=1&group_children=0&req_children=0&hpos=2&hapos=527&sr_order=popularity&srpvid=e74992fcebb600ae&srepoch=1646686538&from=searchresults#hotelTmpl': 131,\n",
       " 'https://www.booking.com/hotel/is/flaga-2-guesthouse.zh-tw.html?label=gen173bo-1DCAEoggI46AdIMFgDaOcBiAEBmAEwuAEXyAEM2AED6AEB-AEDiAIBmAICqAIDuALMrZiRBsACAdICJDA4MWM3ODVkLWU3YjYtNGUwNC1hOGMzLWJiMzJhYjZlODBhNdgCBOACAQ&sid=e12b90519bab632c3ffdcb360924a5c1&aid=304142&ucfs=1&arphpl=1&dest_id=97&dest_type=country&group_adults=2&req_adults=2&no_rooms=1&group_children=0&req_children=0&hpos=3&hapos=528&sr_order=popularity&srpvid=e74992fcebb600ae&srepoch=1646686538&from=searchresults#hotelTmpl': 124,\n",
       " 'https://www.booking.com/hotel/is/road-62-hagi-2.zh-tw.html?label=gen173bo-1DCAEoggI46AdIMFgDaOcBiAEBmAEwuAEXyAEM2AED6AEB-AEDiAIBmAICqAIDuALMrZiRBsACAdICJDA4MWM3ODVkLWU3YjYtNGUwNC1hOGMzLWJiMzJhYjZlODBhNdgCBOACAQ&sid=e12b90519bab632c3ffdcb360924a5c1&aid=304142&ucfs=1&arphpl=1&dest_id=97&dest_type=country&group_adults=2&req_adults=2&no_rooms=1&group_children=0&req_children=0&hpos=4&hapos=529&sr_order=popularity&srpvid=e74992fcebb600ae&srepoch=1646686538&from=searchresults#hotelTmpl': 135,\n",
       " 'https://www.booking.com/hotel/is/steinhusid.zh-tw.html?label=gen173bo-1DCAEoggI46AdIMFgDaOcBiAEBmAEwuAEXyAEM2AED6AEB-AEDiAIBmAICqAIDuALMrZiRBsACAdICJDA4MWM3ODVkLWU3YjYtNGUwNC1hOGMzLWJiMzJhYjZlODBhNdgCBOACAQ&sid=e12b90519bab632c3ffdcb360924a5c1&aid=304142&ucfs=1&arphpl=1&dest_id=97&dest_type=country&group_adults=2&req_adults=2&no_rooms=1&group_children=0&req_children=0&hpos=5&hapos=530&sr_order=popularity&srpvid=e74992fcebb600ae&srepoch=1646686538&from=searchresults#hotelTmpl': 293,\n",
       " 'https://www.booking.com/hotel/is/reykholar-hostel.zh-tw.html?label=gen173bo-1DCAEoggI46AdIMFgDaOcBiAEBmAEwuAEXyAEM2AED6AEB-AEDiAIBmAICqAIDuALMrZiRBsACAdICJDA4MWM3ODVkLWU3YjYtNGUwNC1hOGMzLWJiMzJhYjZlODBhNdgCBOACAQ&sid=e12b90519bab632c3ffdcb360924a5c1&aid=304142&ucfs=1&arphpl=1&dest_id=97&dest_type=country&group_adults=2&req_adults=2&no_rooms=1&group_children=0&req_children=0&hpos=6&hapos=531&sr_order=popularity&srpvid=e74992fcebb600ae&srepoch=1646686538&from=searchresults#hotelTmpl': 287,\n",
       " 'https://www.booking.com/hotel/is/holiday-cottage-in-thingvellir.zh-tw.html?label=gen173bo-1DCAEoggI46AdIMFgDaOcBiAEBmAEwuAEXyAEM2AED6AEB-AEDiAIBmAICqAIDuALMrZiRBsACAdICJDA4MWM3ODVkLWU3YjYtNGUwNC1hOGMzLWJiMzJhYjZlODBhNdgCBOACAQ&sid=e12b90519bab632c3ffdcb360924a5c1&aid=304142&ucfs=1&arphpl=1&dest_id=97&dest_type=country&group_adults=2&req_adults=2&no_rooms=1&group_children=0&req_children=0&hpos=7&hapos=532&sr_order=popularity&srpvid=e74992fcebb600ae&srepoch=1646686538&from=searchresults#hotelTmpl': 60,\n",
       " 'https://www.booking.com/hotel/is/refurinn-reykjavik-guesthouse.zh-tw.html?label=gen173bo-1DCAEoggI46AdIMFgDaOcBiAEBmAEwuAEXyAEM2AED6AEB-AEDiAIBmAICqAIDuALMrZiRBsACAdICJDA4MWM3ODVkLWU3YjYtNGUwNC1hOGMzLWJiMzJhYjZlODBhNdgCBOACAQ&sid=e12b90519bab632c3ffdcb360924a5c1&aid=304142&ucfs=1&arphpl=1&dest_id=97&dest_type=country&group_adults=2&req_adults=2&no_rooms=1&group_children=0&req_children=0&hpos=8&hapos=533&sr_order=popularity&srpvid=e74992fcebb600ae&srepoch=1646686538&from_sustainable_property_sr=1&from=searchresults#hotelTmpl': 360,\n",
       " 'https://www.booking.com/hotel/is/a-10.zh-tw.html?label=gen173bo-1DCAEoggI46AdIMFgDaOcBiAEBmAEwuAEXyAEM2AED6AEB-AEDiAIBmAICqAIDuALMrZiRBsACAdICJDA4MWM3ODVkLWU3YjYtNGUwNC1hOGMzLWJiMzJhYjZlODBhNdgCBOACAQ&sid=e12b90519bab632c3ffdcb360924a5c1&aid=304142&ucfs=1&arphpl=1&dest_id=97&dest_type=country&group_adults=2&req_adults=2&no_rooms=1&group_children=0&req_children=0&hpos=9&hapos=534&sr_order=popularity&srpvid=e74992fcebb600ae&srepoch=1646686538&from_sustainable_property_sr=1&from=searchresults#hotelTmpl': 1649,\n",
       " 'https://www.booking.com/hotel/is/loft-hostel.zh-tw.html?label=gen173bo-1DCAEoggI46AdIMFgDaOcBiAEBmAEwuAEXyAEM2AED6AEB-AEDiAIBmAICqAIDuALMrZiRBsACAdICJDA4MWM3ODVkLWU3YjYtNGUwNC1hOGMzLWJiMzJhYjZlODBhNdgCBOACAQ&sid=e12b90519bab632c3ffdcb360924a5c1&aid=304142&ucfs=1&arphpl=1&dest_id=97&dest_type=country&group_adults=2&req_adults=2&no_rooms=1&group_children=0&req_children=0&hpos=10&hapos=535&sr_order=popularity&srpvid=e74992fcebb600ae&srepoch=1646686538&from_sustainable_property_sr=1&from=searchresults#hotelTmpl': 1128,\n",
       " 'https://www.booking.com/hotel/is/holt-storaborg.zh-tw.html?label=gen173bo-1DCAEoggI46AdIMFgDaOcBiAEBmAEwuAEXyAEM2AED6AEB-AEDiAIBmAICqAIDuALMrZiRBsACAdICJDA4MWM3ODVkLWU3YjYtNGUwNC1hOGMzLWJiMzJhYjZlODBhNdgCBOACAQ&sid=e12b90519bab632c3ffdcb360924a5c1&aid=304142&ucfs=1&arphpl=1&dest_id=97&dest_type=country&group_adults=2&req_adults=2&no_rooms=1&group_children=0&req_children=0&hpos=11&hapos=536&sr_order=popularity&srpvid=e74992fcebb600ae&srepoch=1646686538&from=searchresults#hotelTmpl': 13,\n",
       " 'https://www.booking.com/hotel/is/kverna-hvolsvollur.zh-tw.html?label=gen173bo-1DCAEoggI46AdIMFgDaOcBiAEBmAEwuAEXyAEM2AED6AEB-AEDiAIBmAICqAIDuALMrZiRBsACAdICJDA4MWM3ODVkLWU3YjYtNGUwNC1hOGMzLWJiMzJhYjZlODBhNdgCBOACAQ&sid=e12b90519bab632c3ffdcb360924a5c1&aid=304142&ucfs=1&arphpl=1&dest_id=97&dest_type=country&group_adults=2&req_adults=2&no_rooms=1&group_children=0&req_children=0&hpos=12&hapos=537&sr_order=popularity&srpvid=e74992fcebb600ae&srepoch=1646686538&from=searchresults#hotelTmpl': 195,\n",
       " 'https://www.booking.com/hotel/is/post.zh-tw.html?label=gen173bo-1DCAEoggI46AdIMFgDaOcBiAEBmAEwuAEXyAEM2AED6AEB-AEDiAIBmAICqAIDuALMrZiRBsACAdICJDA4MWM3ODVkLWU3YjYtNGUwNC1hOGMzLWJiMzJhYjZlODBhNdgCBOACAQ&sid=e12b90519bab632c3ffdcb360924a5c1&aid=304142&ucfs=1&arphpl=1&dest_id=97&dest_type=country&group_adults=2&req_adults=2&no_rooms=1&group_children=0&req_children=0&hpos=13&hapos=538&sr_order=popularity&srpvid=e74992fcebb600ae&srepoch=1646686538&from=searchresults#hotelTmpl': 74,\n",
       " 'https://www.booking.com/hotel/is/travel-inn.zh-tw.html?label=gen173bo-1DCAEoggI46AdIMFgDaOcBiAEBmAEwuAEXyAEM2AED6AEB-AEDiAIBmAICqAIDuALMrZiRBsACAdICJDA4MWM3ODVkLWU3YjYtNGUwNC1hOGMzLWJiMzJhYjZlODBhNdgCBOACAQ&sid=e12b90519bab632c3ffdcb360924a5c1&aid=304142&ucfs=1&arphpl=1&dest_id=97&dest_type=country&group_adults=2&req_adults=2&no_rooms=1&group_children=0&req_children=0&hpos=14&hapos=539&sr_order=popularity&srpvid=e74992fcebb600ae&srepoch=1646686538&from_sustainable_property_sr=1&from=searchresults#hotelTmpl': 961,\n",
       " 'https://www.booking.com/hotel/is/guesthouse-hja-marlin.zh-tw.html?label=gen173bo-1DCAEoggI46AdIMFgDaOcBiAEBmAEwuAEXyAEM2AED6AEB-AEDiAIBmAICqAIDuALMrZiRBsACAdICJDA4MWM3ODVkLWU3YjYtNGUwNC1hOGMzLWJiMzJhYjZlODBhNdgCBOACAQ&sid=e12b90519bab632c3ffdcb360924a5c1&aid=304142&ucfs=1&arphpl=1&dest_id=97&dest_type=country&group_adults=2&req_adults=2&no_rooms=1&group_children=0&req_children=0&hpos=15&hapos=540&sr_order=popularity&srpvid=e74992fcebb600ae&srepoch=1646686538&from=searchresults#hotelTmpl': 77,\n",
       " 'https://www.booking.com/hotel/is/barn-house-by-the-sea-stokkseyri.zh-tw.html?label=gen173bo-1DCAEoggI46AdIMFgDaOcBiAEBmAEwuAEXyAEM2AED6AEB-AEDiAIBmAICqAIDuALMrZiRBsACAdICJDA4MWM3ODVkLWU3YjYtNGUwNC1hOGMzLWJiMzJhYjZlODBhNdgCBOACAQ&sid=e12b90519bab632c3ffdcb360924a5c1&aid=304142&ucfs=1&arphpl=1&dest_id=97&dest_type=country&group_adults=2&req_adults=2&no_rooms=1&group_children=0&req_children=0&hpos=16&hapos=541&sr_order=popularity&srpvid=e74992fcebb600ae&srepoch=1646686538&from=searchresults#hotelTmpl': 21,\n",
       " 'https://www.booking.com/hotel/is/solvellir-13-guesthouse-and-apartments.zh-tw.html?label=gen173bo-1DCAEoggI46AdIMFgDaOcBiAEBmAEwuAEXyAEM2AED6AEB-AEDiAIBmAICqAIDuALMrZiRBsACAdICJDA4MWM3ODVkLWU3YjYtNGUwNC1hOGMzLWJiMzJhYjZlODBhNdgCBOACAQ&sid=e12b90519bab632c3ffdcb360924a5c1&aid=304142&ucfs=1&arphpl=1&dest_id=97&dest_type=country&group_adults=2&req_adults=2&no_rooms=1&group_children=0&req_children=0&hpos=17&hapos=542&sr_order=popularity&srpvid=e74992fcebb600ae&srepoch=1646686538&from_sustainable_property_sr=1&from=searchresults#hotelTmpl': 488,\n",
       " 'https://www.booking.com/hotel/is/mid-hvoll.zh-tw.html?label=gen173bo-1DCAEoggI46AdIMFgDaOcBiAEBmAEwuAEXyAEM2AED6AEB-AEDiAIBmAICqAIDuALMrZiRBsACAdICJDA4MWM3ODVkLWU3YjYtNGUwNC1hOGMzLWJiMzJhYjZlODBhNdgCBOACAQ&sid=e12b90519bab632c3ffdcb360924a5c1&aid=304142&ucfs=1&arphpl=1&dest_id=97&dest_type=country&group_adults=2&req_adults=2&no_rooms=1&group_children=0&req_children=0&hpos=18&hapos=543&sr_order=popularity&srpvid=e74992fcebb600ae&srepoch=1646686538&from=searchresults#hotelTmpl': 415,\n",
       " 'https://www.booking.com/hotel/is/keilir.zh-tw.html?label=gen173bo-1DCAEoggI46AdIMFgDaOcBiAEBmAEwuAEXyAEM2AED6AEB-AEDiAIBmAICqAIDuALMrZiRBsACAdICJDA4MWM3ODVkLWU3YjYtNGUwNC1hOGMzLWJiMzJhYjZlODBhNdgCBOACAQ&sid=e12b90519bab632c3ffdcb360924a5c1&aid=304142&ucfs=1&arphpl=1&dest_id=97&dest_type=country&group_adults=2&req_adults=2&no_rooms=1&group_children=0&req_children=0&hpos=19&hapos=544&sr_order=popularity&srpvid=e74992fcebb600ae&srepoch=1646686538&from=searchresults#hotelTmpl': 865,\n",
       " 'https://www.booking.com/hotel/is/northern-comfort-apartments.zh-tw.html?label=gen173bo-1DCAEoggI46AdIMFgDaOcBiAEBmAEwuAEXyAEM2AED6AEB-AEDiAIBmAICqAIDuALMrZiRBsACAdICJDA4MWM3ODVkLWU3YjYtNGUwNC1hOGMzLWJiMzJhYjZlODBhNdgCBOACAQ&sid=e12b90519bab632c3ffdcb360924a5c1&aid=304142&ucfs=1&arphpl=1&dest_id=97&dest_type=country&group_adults=2&req_adults=2&no_rooms=1&group_children=0&req_children=0&hpos=20&hapos=545&sr_order=popularity&srpvid=e74992fcebb600ae&srepoch=1646686538&from_sustainable_property_sr=1&from=searchresults#hotelTmpl': 374,\n",
       " 'https://www.booking.com/hotel/is/brimnes-bungalows.zh-tw.html?label=gen173bo-1DCAEoggI46AdIMFgDaOcBiAEBmAEwuAEXyAEM2AED6AEB-AEDiAIBmAICqAIDuALMrZiRBsACAdICJDA4MWM3ODVkLWU3YjYtNGUwNC1hOGMzLWJiMzJhYjZlODBhNdgCBOACAQ&sid=e12b90519bab632c3ffdcb360924a5c1&aid=304142&ucfs=1&arphpl=1&dest_id=97&dest_type=country&group_adults=2&req_adults=2&no_rooms=1&group_children=0&req_children=0&hpos=21&hapos=546&sr_order=popularity&srpvid=e74992fcebb600ae&srepoch=1646686538&from=searchresults#hotelTmpl': 311,\n",
       " 'https://www.booking.com/hotel/is/solbrekka-holiday-homes.zh-tw.html?label=gen173bo-1DCAEoggI46AdIMFgDaOcBiAEBmAEwuAEXyAEM2AED6AEB-AEDiAIBmAICqAIDuALMrZiRBsACAdICJDA4MWM3ODVkLWU3YjYtNGUwNC1hOGMzLWJiMzJhYjZlODBhNdgCBOACAQ&sid=e12b90519bab632c3ffdcb360924a5c1&aid=304142&ucfs=1&arphpl=1&dest_id=97&dest_type=country&group_adults=2&req_adults=2&no_rooms=1&group_children=0&req_children=0&hpos=22&hapos=547&sr_order=popularity&srpvid=e74992fcebb600ae&srepoch=1646686538&from=searchresults#hotelTmpl': 112,\n",
       " 'https://www.booking.com/hotel/is/reykjadalur-guesthouse.zh-tw.html?label=gen173bo-1DCAEoggI46AdIMFgDaOcBiAEBmAEwuAEXyAEM2AED6AEB-AEDiAIBmAICqAIDuALMrZiRBsACAdICJDA4MWM3ODVkLWU3YjYtNGUwNC1hOGMzLWJiMzJhYjZlODBhNdgCBOACAQ&sid=e12b90519bab632c3ffdcb360924a5c1&aid=304142&ucfs=1&arphpl=1&dest_id=97&dest_type=country&group_adults=2&req_adults=2&no_rooms=1&group_children=0&req_children=0&hpos=23&hapos=548&sr_order=popularity&srpvid=e74992fcebb600ae&srepoch=1646686538&from=searchresults#hotelTmpl': 700,\n",
       " 'https://www.booking.com/hotel/is/cozy-amp-comfy-cottage-geysir.zh-tw.html?label=gen173bo-1DCAEoggI46AdIMFgDaOcBiAEBmAEwuAEXyAEM2AED6AEB-AEDiAIBmAICqAIDuALMrZiRBsACAdICJDA4MWM3ODVkLWU3YjYtNGUwNC1hOGMzLWJiMzJhYjZlODBhNdgCBOACAQ&sid=e12b90519bab632c3ffdcb360924a5c1&aid=304142&ucfs=1&arphpl=1&dest_id=97&dest_type=country&group_adults=2&req_adults=2&no_rooms=1&group_children=0&req_children=0&hpos=24&hapos=549&sr_order=popularity&srpvid=e74992fcebb600ae&srepoch=1646686538&from=searchresults#hotelTmpl': 23,\n",
       " 'https://www.booking.com/hotel/is/klaustur.zh-tw.html?label=gen173bo-1DCAEoggI46AdIMFgDaOcBiAEBmAEwuAEXyAEM2AED6AEB-AEDiAIBmAICqAIDuALMrZiRBsACAdICJDA4MWM3ODVkLWU3YjYtNGUwNC1hOGMzLWJiMzJhYjZlODBhNdgCBOACAQ&sid=e12b90519bab632c3ffdcb360924a5c1&aid=304142&ucfs=1&arphpl=1&dest_id=97&dest_type=country&group_adults=2&req_adults=2&no_rooms=1&group_children=0&req_children=0&hpos=25&hapos=550&sr_order=popularity&srpvid=e74992fcebb600ae&srepoch=1646686538&from_sustainable_property_sr=1&from=searchresults#hotelTmpl': 1048,\n",
       " 'https://www.booking.com/hotel/is/modir-jord-organic-b-amp-b-in-vallanes.zh-tw.html?label=gen173bo-1DCAEoggI46AdIMFgDaOcBiAEBmAEwuAEXyAEM2AED6AEB-AEDiAIBmAICqAIDuALMrZiRBsACAdICJDA4MWM3ODVkLWU3YjYtNGUwNC1hOGMzLWJiMzJhYjZlODBhNdgCBOACAQ&sid=e12b90519bab632c3ffdcb360924a5c1&aid=304142&ucfs=1&arphpl=1&dest_id=97&dest_type=country&group_adults=2&req_adults=2&no_rooms=1&group_children=0&req_children=0&hpos=1&hapos=551&sr_order=popularity&srpvid=e74992fcebb600ae&srepoch=1646686542&from=searchresults#hotelTmpl': 104,\n",
       " 'https://www.booking.com/hotel/is/husavik.zh-tw.html?label=gen173bo-1DCAEoggI46AdIMFgDaOcBiAEBmAEwuAEXyAEM2AED6AEB-AEDiAIBmAICqAIDuALMrZiRBsACAdICJDA4MWM3ODVkLWU3YjYtNGUwNC1hOGMzLWJiMzJhYjZlODBhNdgCBOACAQ&sid=e12b90519bab632c3ffdcb360924a5c1&aid=304142&ucfs=1&arphpl=1&dest_id=97&dest_type=country&group_adults=2&req_adults=2&no_rooms=1&group_children=0&req_children=0&hpos=2&hapos=552&sr_order=popularity&srpvid=e74992fcebb600ae&srepoch=1646686542&from=searchresults#hotelTmpl': 849,\n",
       " 'https://www.booking.com/hotel/is/skuggi.zh-tw.html?label=gen173bo-1DCAEoggI46AdIMFgDaOcBiAEBmAEwuAEXyAEM2AED6AEB-AEDiAIBmAICqAIDuALMrZiRBsACAdICJDA4MWM3ODVkLWU3YjYtNGUwNC1hOGMzLWJiMzJhYjZlODBhNdgCBOACAQ&sid=e12b90519bab632c3ffdcb360924a5c1&aid=304142&ucfs=1&arphpl=1&dest_id=97&dest_type=country&group_adults=2&req_adults=2&no_rooms=1&group_children=0&req_children=0&hpos=3&hapos=553&sr_order=popularity&srpvid=e74992fcebb600ae&srepoch=1646686542&from=searchresults#hotelTmpl': 1236,\n",
       " 'https://www.booking.com/hotel/is/glamping-amp-camping.zh-tw.html?label=gen173bo-1DCAEoggI46AdIMFgDaOcBiAEBmAEwuAEXyAEM2AED6AEB-AEDiAIBmAICqAIDuALMrZiRBsACAdICJDA4MWM3ODVkLWU3YjYtNGUwNC1hOGMzLWJiMzJhYjZlODBhNdgCBOACAQ&sid=e12b90519bab632c3ffdcb360924a5c1&aid=304142&ucfs=1&arphpl=1&dest_id=97&dest_type=country&group_adults=2&req_adults=2&no_rooms=1&group_children=0&req_children=0&hpos=4&hapos=554&sr_order=popularity&srpvid=e74992fcebb600ae&srepoch=1646686542&from=searchresults#hotelTmpl': 640,\n",
       " 'https://www.booking.com/hotel/is/the-icelandic-health.zh-tw.html?label=gen173bo-1DCAEoggI46AdIMFgDaOcBiAEBmAEwuAEXyAEM2AED6AEB-AEDiAIBmAICqAIDuALMrZiRBsACAdICJDA4MWM3ODVkLWU3YjYtNGUwNC1hOGMzLWJiMzJhYjZlODBhNdgCBOACAQ&sid=e12b90519bab632c3ffdcb360924a5c1&aid=304142&ucfs=1&arphpl=1&dest_id=97&dest_type=country&group_adults=2&req_adults=2&no_rooms=1&group_children=0&req_children=0&hpos=5&hapos=555&sr_order=popularity&srpvid=e74992fcebb600ae&srepoch=1646686542&from=searchresults#hotelTmpl': 898,\n",
       " 'https://www.booking.com/hotel/is/guesthouse-ommubaer-skordugil.zh-tw.html?label=gen173bo-1DCAEoggI46AdIMFgDaOcBiAEBmAEwuAEXyAEM2AED6AEB-AEDiAIBmAICqAIDuALMrZiRBsACAdICJDA4MWM3ODVkLWU3YjYtNGUwNC1hOGMzLWJiMzJhYjZlODBhNdgCBOACAQ&sid=e12b90519bab632c3ffdcb360924a5c1&aid=304142&ucfs=1&arphpl=1&dest_id=97&dest_type=country&group_adults=2&req_adults=2&no_rooms=1&group_children=0&req_children=0&hpos=6&hapos=556&sr_order=popularity&srpvid=e74992fcebb600ae&srepoch=1646686542&from=searchresults#hotelTmpl': 195,\n",
       " 'https://www.booking.com/hotel/is/l-amp-l-guest-house.zh-tw.html?label=gen173bo-1DCAEoggI46AdIMFgDaOcBiAEBmAEwuAEXyAEM2AED6AEB-AEDiAIBmAICqAIDuALMrZiRBsACAdICJDA4MWM3ODVkLWU3YjYtNGUwNC1hOGMzLWJiMzJhYjZlODBhNdgCBOACAQ&sid=e12b90519bab632c3ffdcb360924a5c1&aid=304142&ucfs=1&arphpl=1&dest_id=97&dest_type=country&group_adults=2&req_adults=2&no_rooms=1&group_children=0&req_children=0&hpos=7&hapos=557&sr_order=popularity&srpvid=e74992fcebb600ae&srepoch=1646686542&from_sustainable_property_sr=1&from=searchresults#hotelTmpl': 71,\n",
       " 'https://www.booking.com/hotel/is/sandhotel.zh-tw.html?label=gen173bo-1DCAEoggI46AdIMFgDaOcBiAEBmAEwuAEXyAEM2AED6AEB-AEDiAIBmAICqAIDuALMrZiRBsACAdICJDA4MWM3ODVkLWU3YjYtNGUwNC1hOGMzLWJiMzJhYjZlODBhNdgCBOACAQ&sid=e12b90519bab632c3ffdcb360924a5c1&aid=304142&ucfs=1&arphpl=1&dest_id=97&dest_type=country&group_adults=2&req_adults=2&no_rooms=1&group_children=0&req_children=0&hpos=8&hapos=558&sr_order=popularity&srpvid=e74992fcebb600ae&srepoch=1646686542&from=searchresults#hotelTmpl': 990,\n",
       " 'https://www.booking.com/hotel/is/welcome-puffin-hostel.zh-tw.html?label=gen173bo-1DCAEoggI46AdIMFgDaOcBiAEBmAEwuAEXyAEM2AED6AEB-AEDiAIBmAICqAIDuALMrZiRBsACAdICJDA4MWM3ODVkLWU3YjYtNGUwNC1hOGMzLWJiMzJhYjZlODBhNdgCBOACAQ&sid=e12b90519bab632c3ffdcb360924a5c1&aid=304142&ucfs=1&arphpl=1&dest_id=97&dest_type=country&group_adults=2&req_adults=2&no_rooms=1&group_children=0&req_children=0&hpos=9&hapos=559&sr_order=popularity&srpvid=e74992fcebb600ae&srepoch=1646686542&from=searchresults#hotelTmpl': 1314,\n",
       " 'https://www.booking.com/hotel/is/reykjavik-styles.zh-tw.html?label=gen173bo-1DCAEoggI46AdIMFgDaOcBiAEBmAEwuAEXyAEM2AED6AEB-AEDiAIBmAICqAIDuALMrZiRBsACAdICJDA4MWM3ODVkLWU3YjYtNGUwNC1hOGMzLWJiMzJhYjZlODBhNdgCBOACAQ&sid=e12b90519bab632c3ffdcb360924a5c1&aid=304142&ucfs=1&arphpl=1&dest_id=97&dest_type=country&group_adults=2&req_adults=2&no_rooms=1&group_children=0&req_children=0&hpos=10&hapos=560&sr_order=popularity&srpvid=e74992fcebb600ae&srepoch=1646686542&from=searchresults#hotelTmpl': 949,\n",
       " 'https://www.booking.com/hotel/is/gistiheimilid-stekkatun-skalafelli-ll.zh-tw.html?label=gen173bo-1DCAEoggI46AdIMFgDaOcBiAEBmAEwuAEXyAEM2AED6AEB-AEDiAIBmAICqAIDuALMrZiRBsACAdICJDA4MWM3ODVkLWU3YjYtNGUwNC1hOGMzLWJiMzJhYjZlODBhNdgCBOACAQ&sid=e12b90519bab632c3ffdcb360924a5c1&aid=304142&ucfs=1&arphpl=1&dest_id=97&dest_type=country&group_adults=2&req_adults=2&no_rooms=1&group_children=0&req_children=0&hpos=11&hapos=561&sr_order=popularity&srpvid=e74992fcebb600ae&srepoch=1646686542&from_sustainable_property_sr=1&from=searchresults#hotelTmpl': 154,\n",
       " 'https://www.booking.com/hotel/is/guesthouse-andrea.zh-tw.html?label=gen173bo-1DCAEoggI46AdIMFgDaOcBiAEBmAEwuAEXyAEM2AED6AEB-AEDiAIBmAICqAIDuALMrZiRBsACAdICJDA4MWM3ODVkLWU3YjYtNGUwNC1hOGMzLWJiMzJhYjZlODBhNdgCBOACAQ&sid=e12b90519bab632c3ffdcb360924a5c1&aid=304142&ucfs=1&arphpl=1&dest_id=97&dest_type=country&group_adults=2&req_adults=2&no_rooms=1&group_children=0&req_children=0&hpos=12&hapos=562&sr_order=popularity&srpvid=e74992fcebb600ae&srepoch=1646686542&from=searchresults#hotelTmpl': 951,\n",
       " 'https://www.booking.com/hotel/is/hrafnabjorg4.zh-tw.html?label=gen173bo-1DCAEoggI46AdIMFgDaOcBiAEBmAEwuAEXyAEM2AED6AEB-AEDiAIBmAICqAIDuALMrZiRBsACAdICJDA4MWM3ODVkLWU3YjYtNGUwNC1hOGMzLWJiMzJhYjZlODBhNdgCBOACAQ&sid=e12b90519bab632c3ffdcb360924a5c1&aid=304142&ucfs=1&arphpl=1&dest_id=97&dest_type=country&group_adults=2&req_adults=2&no_rooms=1&group_children=0&req_children=0&hpos=13&hapos=563&sr_order=popularity&srpvid=e74992fcebb600ae&srepoch=1646686542&from=searchresults#hotelTmpl': 37,\n",
       " 'https://www.booking.com/hotel/is/brekkulaekur-guesthouse.zh-tw.html?label=gen173bo-1DCAEoggI46AdIMFgDaOcBiAEBmAEwuAEXyAEM2AED6AEB-AEDiAIBmAICqAIDuALMrZiRBsACAdICJDA4MWM3ODVkLWU3YjYtNGUwNC1hOGMzLWJiMzJhYjZlODBhNdgCBOACAQ&sid=e12b90519bab632c3ffdcb360924a5c1&aid=304142&ucfs=1&arphpl=1&dest_id=97&dest_type=country&group_adults=2&req_adults=2&no_rooms=1&group_children=0&req_children=0&hpos=14&hapos=564&sr_order=popularity&srpvid=e74992fcebb600ae&srepoch=1646686542&from=searchresults#hotelTmpl': 73,\n",
       " 'https://www.booking.com/hotel/is/airport-sma-ri.zh-tw.html?label=gen173bo-1DCAEoggI46AdIMFgDaOcBiAEBmAEwuAEXyAEM2AED6AEB-AEDiAIBmAICqAIDuALMrZiRBsACAdICJDA4MWM3ODVkLWU3YjYtNGUwNC1hOGMzLWJiMzJhYjZlODBhNdgCBOACAQ&sid=e12b90519bab632c3ffdcb360924a5c1&aid=304142&ucfs=1&arphpl=1&dest_id=97&dest_type=country&group_adults=2&req_adults=2&no_rooms=1&group_children=0&req_children=0&hpos=15&hapos=565&sr_order=popularity&srpvid=e74992fcebb600ae&srepoch=1646686542&from=searchresults#hotelTmpl': 4542,\n",
       " 'https://www.booking.com/hotel/is/fosshotel-nupar.zh-tw.html?label=gen173bo-1DCAEoggI46AdIMFgDaOcBiAEBmAEwuAEXyAEM2AED6AEB-AEDiAIBmAICqAIDuALMrZiRBsACAdICJDA4MWM3ODVkLWU3YjYtNGUwNC1hOGMzLWJiMzJhYjZlODBhNdgCBOACAQ&sid=e12b90519bab632c3ffdcb360924a5c1&aid=304142&ucfs=1&arphpl=1&dest_id=97&dest_type=country&group_adults=2&req_adults=2&no_rooms=1&group_children=0&req_children=0&hpos=16&hapos=566&sr_order=popularity&srpvid=e74992fcebb600ae&srepoch=1646686542&from=searchresults#hotelTmpl': 1876,\n",
       " 'https://www.booking.com/hotel/is/homluholt-holiday-homes.zh-tw.html?label=gen173bo-1DCAEoggI46AdIMFgDaOcBiAEBmAEwuAEXyAEM2AED6AEB-AEDiAIBmAICqAIDuALMrZiRBsACAdICJDA4MWM3ODVkLWU3YjYtNGUwNC1hOGMzLWJiMzJhYjZlODBhNdgCBOACAQ&sid=e12b90519bab632c3ffdcb360924a5c1&aid=304142&ucfs=1&arphpl=1&dest_id=97&dest_type=country&group_adults=2&req_adults=2&no_rooms=1&group_children=0&req_children=0&hpos=17&hapos=567&sr_order=popularity&srpvid=e74992fcebb600ae&srepoch=1646686542&from=searchresults#hotelTmpl': 94,\n",
       " 'https://www.booking.com/hotel/is/erpsstadir-cottage.zh-tw.html?label=gen173bo-1DCAEoggI46AdIMFgDaOcBiAEBmAEwuAEXyAEM2AED6AEB-AEDiAIBmAICqAIDuALMrZiRBsACAdICJDA4MWM3ODVkLWU3YjYtNGUwNC1hOGMzLWJiMzJhYjZlODBhNdgCBOACAQ&sid=e12b90519bab632c3ffdcb360924a5c1&aid=304142&ucfs=1&arphpl=1&dest_id=97&dest_type=country&group_adults=2&req_adults=2&no_rooms=1&group_children=0&req_children=0&hpos=18&hapos=568&sr_order=popularity&srpvid=e74992fcebb600ae&srepoch=1646686542&from=searchresults#hotelTmpl': 140,\n",
       " 'https://www.booking.com/hotel/is/sm-hostel.zh-tw.html?label=gen173bo-1DCAEoggI46AdIMFgDaOcBiAEBmAEwuAEXyAEM2AED6AEB-AEDiAIBmAICqAIDuALMrZiRBsACAdICJDA4MWM3ODVkLWU3YjYtNGUwNC1hOGMzLWJiMzJhYjZlODBhNdgCBOACAQ&sid=e12b90519bab632c3ffdcb360924a5c1&aid=304142&ucfs=1&arphpl=1&dest_id=97&dest_type=country&group_adults=2&req_adults=2&no_rooms=1&group_children=0&req_children=0&hpos=19&hapos=569&sr_order=popularity&srpvid=e74992fcebb600ae&srepoch=1646686542&from=searchresults#hotelTmpl': 195,\n",
       " 'https://www.booking.com/hotel/is/nordurland.zh-tw.html?label=gen173bo-1DCAEoggI46AdIMFgDaOcBiAEBmAEwuAEXyAEM2AED6AEB-AEDiAIBmAICqAIDuALMrZiRBsACAdICJDA4MWM3ODVkLWU3YjYtNGUwNC1hOGMzLWJiMzJhYjZlODBhNdgCBOACAQ&sid=e12b90519bab632c3ffdcb360924a5c1&aid=304142&ucfs=1&arphpl=1&dest_id=97&dest_type=country&group_adults=2&req_adults=2&no_rooms=1&group_children=0&req_children=0&hpos=20&hapos=570&sr_order=popularity&srpvid=e74992fcebb600ae&srepoch=1646686542&from=searchresults#hotelTmpl': 350,\n",
       " 'https://www.booking.com/hotel/is/reykholt-apartment-reykholt.zh-tw.html?label=gen173bo-1DCAEoggI46AdIMFgDaOcBiAEBmAEwuAEXyAEM2AED6AEB-AEDiAIBmAICqAIDuALMrZiRBsACAdICJDA4MWM3ODVkLWU3YjYtNGUwNC1hOGMzLWJiMzJhYjZlODBhNdgCBOACAQ&sid=e12b90519bab632c3ffdcb360924a5c1&aid=304142&ucfs=1&arphpl=1&dest_id=97&dest_type=country&group_adults=2&req_adults=2&no_rooms=1&group_children=0&req_children=0&hpos=21&hapos=571&sr_order=popularity&srpvid=e74992fcebb600ae&srepoch=1646686542&from=searchresults#hotelTmpl': 43,\n",
       " 'https://www.booking.com/hotel/is/hofn-hostel.zh-tw.html?label=gen173bo-1DCAEoggI46AdIMFgDaOcBiAEBmAEwuAEXyAEM2AED6AEB-AEDiAIBmAICqAIDuALMrZiRBsACAdICJDA4MWM3ODVkLWU3YjYtNGUwNC1hOGMzLWJiMzJhYjZlODBhNdgCBOACAQ&sid=e12b90519bab632c3ffdcb360924a5c1&aid=304142&ucfs=1&arphpl=1&dest_id=97&dest_type=country&group_adults=2&req_adults=2&no_rooms=1&group_children=0&req_children=0&hpos=22&hapos=572&sr_order=popularity&srpvid=e74992fcebb600ae&srepoch=1646686542&from=searchresults#hotelTmpl': 1169,\n",
       " 'https://www.booking.com/hotel/is/hofdi-cottages.zh-tw.html?label=gen173bo-1DCAEoggI46AdIMFgDaOcBiAEBmAEwuAEXyAEM2AED6AEB-AEDiAIBmAICqAIDuALMrZiRBsACAdICJDA4MWM3ODVkLWU3YjYtNGUwNC1hOGMzLWJiMzJhYjZlODBhNdgCBOACAQ&sid=e12b90519bab632c3ffdcb360924a5c1&aid=304142&ucfs=1&arphpl=1&dest_id=97&dest_type=country&group_adults=2&req_adults=2&no_rooms=1&group_children=0&req_children=0&hpos=23&hapos=573&sr_order=popularity&srpvid=e74992fcebb600ae&srepoch=1646686542&from=searchresults#hotelTmpl': 177,\n",
       " 'https://www.booking.com/hotel/is/blue-view-cabin-5b.zh-tw.html?label=gen173bo-1DCAEoggI46AdIMFgDaOcBiAEBmAEwuAEXyAEM2AED6AEB-AEDiAIBmAICqAIDuALMrZiRBsACAdICJDA4MWM3ODVkLWU3YjYtNGUwNC1hOGMzLWJiMzJhYjZlODBhNdgCBOACAQ&sid=e12b90519bab632c3ffdcb360924a5c1&aid=304142&ucfs=1&arphpl=1&dest_id=97&dest_type=country&group_adults=2&req_adults=2&no_rooms=1&group_children=0&req_children=0&hpos=24&hapos=574&sr_order=popularity&srpvid=e74992fcebb600ae&srepoch=1646686542&from=searchresults#hotelTmpl': 75,\n",
       " 'https://www.booking.com/hotel/is/lamb-inn-ongulsstadir.zh-tw.html?label=gen173bo-1DCAEoggI46AdIMFgDaOcBiAEBmAEwuAEXyAEM2AED6AEB-AEDiAIBmAICqAIDuALMrZiRBsACAdICJDA4MWM3ODVkLWU3YjYtNGUwNC1hOGMzLWJiMzJhYjZlODBhNdgCBOACAQ&sid=e12b90519bab632c3ffdcb360924a5c1&aid=304142&ucfs=1&arphpl=1&dest_id=97&dest_type=country&group_adults=2&req_adults=2&no_rooms=1&group_children=0&req_children=0&hpos=25&hapos=575&sr_order=popularity&srpvid=e74992fcebb600ae&srepoch=1646686542&from=searchresults#hotelTmpl': 429,\n",
       " 'https://www.booking.com/hotel/is/hunkubakkar-guesthouse.zh-tw.html?label=gen173bo-1DCAEoggI46AdIMFgDaOcBiAEBmAEwuAEXyAEM2AED6AEB-AEDiAIBmAICqAIDuALMrZiRBsACAdICJDA4MWM3ODVkLWU3YjYtNGUwNC1hOGMzLWJiMzJhYjZlODBhNdgCBOACAQ&sid=e12b90519bab632c3ffdcb360924a5c1&aid=304142&ucfs=1&arphpl=1&dest_id=97&dest_type=country&group_adults=2&req_adults=2&no_rooms=1&group_children=0&req_children=0&hpos=1&hapos=576&sr_order=popularity&srpvid=e74992fcebb600ae&srepoch=1646686546&from=searchresults#hotelTmpl': 964,\n",
       " 'https://www.booking.com/hotel/is/hotelkea.zh-tw.html?label=gen173bo-1DCAEoggI46AdIMFgDaOcBiAEBmAEwuAEXyAEM2AED6AEB-AEDiAIBmAICqAIDuALMrZiRBsACAdICJDA4MWM3ODVkLWU3YjYtNGUwNC1hOGMzLWJiMzJhYjZlODBhNdgCBOACAQ&sid=e12b90519bab632c3ffdcb360924a5c1&aid=304142&ucfs=1&arphpl=1&dest_id=97&dest_type=country&group_adults=2&req_adults=2&no_rooms=1&group_children=0&req_children=0&hpos=2&hapos=577&sr_order=popularity&srpvid=e74992fcebb600ae&srepoch=1646686546&from=searchresults#hotelTmpl': 1116,\n",
       " 'https://www.booking.com/hotel/is/kriukot.zh-tw.html?label=gen173bo-1DCAEoggI46AdIMFgDaOcBiAEBmAEwuAEXyAEM2AED6AEB-AEDiAIBmAICqAIDuALMrZiRBsACAdICJDA4MWM3ODVkLWU3YjYtNGUwNC1hOGMzLWJiMzJhYjZlODBhNdgCBOACAQ&sid=e12b90519bab632c3ffdcb360924a5c1&aid=304142&ucfs=1&arphpl=1&dest_id=97&dest_type=country&group_adults=2&req_adults=2&no_rooms=1&group_children=0&req_children=0&hpos=3&hapos=578&sr_order=popularity&srpvid=e74992fcebb600ae&srepoch=1646686546&from=searchresults#hotelTmpl': 153,\n",
       " 'https://www.booking.com/hotel/is/the-coffee-house.zh-tw.html?label=gen173bo-1DCAEoggI46AdIMFgDaOcBiAEBmAEwuAEXyAEM2AED6AEB-AEDiAIBmAICqAIDuALMrZiRBsACAdICJDA4MWM3ODVkLWU3YjYtNGUwNC1hOGMzLWJiMzJhYjZlODBhNdgCBOACAQ&sid=e12b90519bab632c3ffdcb360924a5c1&aid=304142&ucfs=1&arphpl=1&dest_id=97&dest_type=country&group_adults=2&req_adults=2&no_rooms=1&group_children=0&req_children=0&hpos=4&hapos=579&sr_order=popularity&srpvid=e74992fcebb600ae&srepoch=1646686546&from=searchresults#hotelTmpl': 192,\n",
       " 'https://www.booking.com/hotel/is/haosavak-cape.zh-tw.html?label=gen173bo-1DCAEoggI46AdIMFgDaOcBiAEBmAEwuAEXyAEM2AED6AEB-AEDiAIBmAICqAIDuALMrZiRBsACAdICJDA4MWM3ODVkLWU3YjYtNGUwNC1hOGMzLWJiMzJhYjZlODBhNdgCBOACAQ&sid=e12b90519bab632c3ffdcb360924a5c1&aid=304142&ucfs=1&arphpl=1&dest_id=97&dest_type=country&group_adults=2&req_adults=2&no_rooms=1&group_children=0&req_children=0&hpos=5&hapos=580&sr_order=popularity&srpvid=e74992fcebb600ae&srepoch=1646686546&from=searchresults#hotelTmpl': 503,\n",
       " 'https://www.booking.com/hotel/is/valhalla-yurts.zh-tw.html?label=gen173bo-1DCAEoggI46AdIMFgDaOcBiAEBmAEwuAEXyAEM2AED6AEB-AEDiAIBmAICqAIDuALMrZiRBsACAdICJDA4MWM3ODVkLWU3YjYtNGUwNC1hOGMzLWJiMzJhYjZlODBhNdgCBOACAQ&sid=e12b90519bab632c3ffdcb360924a5c1&aid=304142&ucfs=1&arphpl=1&dest_id=97&dest_type=country&group_adults=2&req_adults=2&no_rooms=1&group_children=0&req_children=0&hpos=6&hapos=581&sr_order=popularity&srpvid=e74992fcebb600ae&srepoch=1646686546&from=searchresults#hotelTmpl': 29,\n",
       " 'https://www.booking.com/hotel/is/mjoanes-accommodation.zh-tw.html?label=gen173bo-1DCAEoggI46AdIMFgDaOcBiAEBmAEwuAEXyAEM2AED6AEB-AEDiAIBmAICqAIDuALMrZiRBsACAdICJDA4MWM3ODVkLWU3YjYtNGUwNC1hOGMzLWJiMzJhYjZlODBhNdgCBOACAQ&sid=e12b90519bab632c3ffdcb360924a5c1&aid=304142&ucfs=1&arphpl=1&dest_id=97&dest_type=country&group_adults=2&req_adults=2&no_rooms=1&group_children=0&req_children=0&hpos=7&hapos=582&sr_order=popularity&srpvid=e74992fcebb600ae&srepoch=1646686546&from=searchresults#hotelTmpl': 356,\n",
       " 'https://www.booking.com/hotel/is/sjonarholl-cottage.zh-tw.html?label=gen173bo-1DCAEoggI46AdIMFgDaOcBiAEBmAEwuAEXyAEM2AED6AEB-AEDiAIBmAICqAIDuALMrZiRBsACAdICJDA4MWM3ODVkLWU3YjYtNGUwNC1hOGMzLWJiMzJhYjZlODBhNdgCBOACAQ&sid=e12b90519bab632c3ffdcb360924a5c1&aid=304142&ucfs=1&arphpl=1&dest_id=97&dest_type=country&group_adults=2&req_adults=2&no_rooms=1&group_children=0&req_children=0&hpos=8&hapos=583&sr_order=popularity&srpvid=e74992fcebb600ae&srepoch=1646686546&from=searchresults#hotelTmpl': 15,\n",
       " 'https://www.booking.com/hotel/is/grand-guesthouse-gardakot.zh-tw.html?label=gen173bo-1DCAEoggI46AdIMFgDaOcBiAEBmAEwuAEXyAEM2AED6AEB-AEDiAIBmAICqAIDuALMrZiRBsACAdICJDA4MWM3ODVkLWU3YjYtNGUwNC1hOGMzLWJiMzJhYjZlODBhNdgCBOACAQ&sid=e12b90519bab632c3ffdcb360924a5c1&aid=304142&ucfs=1&arphpl=1&dest_id=97&dest_type=country&group_adults=2&req_adults=2&no_rooms=1&group_children=0&req_children=0&hpos=9&hapos=584&sr_order=popularity&srpvid=e74992fcebb600ae&srepoch=1646686546&from_sustainable_property_sr=1&from=searchresults#hotelTmpl': 157,\n",
       " 'https://www.booking.com/hotel/is/kria.zh-tw.html?label=gen173bo-1DCAEoggI46AdIMFgDaOcBiAEBmAEwuAEXyAEM2AED6AEB-AEDiAIBmAICqAIDuALMrZiRBsACAdICJDA4MWM3ODVkLWU3YjYtNGUwNC1hOGMzLWJiMzJhYjZlODBhNdgCBOACAQ&sid=e12b90519bab632c3ffdcb360924a5c1&aid=304142&ucfs=1&arphpl=1&dest_id=97&dest_type=country&group_adults=2&req_adults=2&no_rooms=1&group_children=0&req_children=0&hpos=10&hapos=585&sr_order=popularity&srpvid=e74992fcebb600ae&srepoch=1646686546&from_sustainable_property_sr=1&from=searchresults#hotelTmpl': 2687,\n",
       " 'https://www.booking.com/hotel/is/hafaldan-hi-hostel-harbour-building.zh-tw.html?label=gen173bo-1DCAEoggI46AdIMFgDaOcBiAEBmAEwuAEXyAEM2AED6AEB-AEDiAIBmAICqAIDuALMrZiRBsACAdICJDA4MWM3ODVkLWU3YjYtNGUwNC1hOGMzLWJiMzJhYjZlODBhNdgCBOACAQ&sid=e12b90519bab632c3ffdcb360924a5c1&aid=304142&ucfs=1&arphpl=1&dest_id=97&dest_type=country&group_adults=2&req_adults=2&no_rooms=1&group_children=0&req_children=0&hpos=11&hapos=586&sr_order=popularity&srpvid=e74992fcebb600ae&srepoch=1646686546&from=searchresults#hotelTmpl': 294,\n",
       " 'https://www.booking.com/hotel/is/asahraun-guesthouse.zh-tw.html?label=gen173bo-1DCAEoggI46AdIMFgDaOcBiAEBmAEwuAEXyAEM2AED6AEB-AEDiAIBmAICqAIDuALMrZiRBsACAdICJDA4MWM3ODVkLWU3YjYtNGUwNC1hOGMzLWJiMzJhYjZlODBhNdgCBOACAQ&sid=e12b90519bab632c3ffdcb360924a5c1&aid=304142&ucfs=1&arphpl=1&dest_id=97&dest_type=country&group_adults=2&req_adults=2&no_rooms=1&group_children=0&req_children=0&hpos=12&hapos=587&sr_order=popularity&srpvid=e74992fcebb600ae&srepoch=1646686546&from=searchresults#hotelTmpl': 307,\n",
       " 'https://www.booking.com/hotel/is/berg-hostel.zh-tw.html?label=gen173bo-1DCAEoggI46AdIMFgDaOcBiAEBmAEwuAEXyAEM2AED6AEB-AEDiAIBmAICqAIDuALMrZiRBsACAdICJDA4MWM3ODVkLWU3YjYtNGUwNC1hOGMzLWJiMzJhYjZlODBhNdgCBOACAQ&sid=e12b90519bab632c3ffdcb360924a5c1&aid=304142&ucfs=1&arphpl=1&dest_id=97&dest_type=country&group_adults=2&req_adults=2&no_rooms=1&group_children=0&req_children=0&hpos=13&hapos=588&sr_order=popularity&srpvid=e74992fcebb600ae&srepoch=1646686546&from=searchresults#hotelTmpl': 296,\n",
       " 'https://www.booking.com/hotel/is/selfoss-hostel.zh-tw.html?label=gen173bo-1DCAEoggI46AdIMFgDaOcBiAEBmAEwuAEXyAEM2AED6AEB-AEDiAIBmAICqAIDuALMrZiRBsACAdICJDA4MWM3ODVkLWU3YjYtNGUwNC1hOGMzLWJiMzJhYjZlODBhNdgCBOACAQ&sid=e12b90519bab632c3ffdcb360924a5c1&aid=304142&ucfs=1&arphpl=1&dest_id=97&dest_type=country&group_adults=2&req_adults=2&no_rooms=1&group_children=0&req_children=0&hpos=14&hapos=589&sr_order=popularity&srpvid=e74992fcebb600ae&srepoch=1646686546&from=searchresults#hotelTmpl': 1320,\n",
       " 'https://www.booking.com/hotel/is/laekjarkot-mobile-homes-and-rooms.zh-tw.html?label=gen173bo-1DCAEoggI46AdIMFgDaOcBiAEBmAEwuAEXyAEM2AED6AEB-AEDiAIBmAICqAIDuALMrZiRBsACAdICJDA4MWM3ODVkLWU3YjYtNGUwNC1hOGMzLWJiMzJhYjZlODBhNdgCBOACAQ&sid=e12b90519bab632c3ffdcb360924a5c1&aid=304142&ucfs=1&arphpl=1&dest_id=97&dest_type=country&group_adults=2&req_adults=2&no_rooms=1&group_children=0&req_children=0&hpos=15&hapos=590&sr_order=popularity&srpvid=e74992fcebb600ae&srepoch=1646686546&from=searchresults#hotelTmpl': 733,\n",
       " 'https://www.booking.com/hotel/is/holmasel-riverside-cabin-2.zh-tw.html?label=gen173bo-1DCAEoggI46AdIMFgDaOcBiAEBmAEwuAEXyAEM2AED6AEB-AEDiAIBmAICqAIDuALMrZiRBsACAdICJDA4MWM3ODVkLWU3YjYtNGUwNC1hOGMzLWJiMzJhYjZlODBhNdgCBOACAQ&sid=e12b90519bab632c3ffdcb360924a5c1&aid=304142&ucfs=1&arphpl=1&dest_id=97&dest_type=country&group_adults=2&req_adults=2&no_rooms=1&group_children=0&req_children=0&hpos=16&hapos=591&sr_order=popularity&srpvid=e74992fcebb600ae&srepoch=1646686546&from=searchresults#hotelTmpl': 7,\n",
       " 'https://www.booking.com/hotel/is/ace-guesthouse.zh-tw.html?label=gen173bo-1DCAEoggI46AdIMFgDaOcBiAEBmAEwuAEXyAEM2AED6AEB-AEDiAIBmAICqAIDuALMrZiRBsACAdICJDA4MWM3ODVkLWU3YjYtNGUwNC1hOGMzLWJiMzJhYjZlODBhNdgCBOACAQ&sid=e12b90519bab632c3ffdcb360924a5c1&aid=304142&ucfs=1&arphpl=1&dest_id=97&dest_type=country&group_adults=2&req_adults=2&no_rooms=1&group_children=0&req_children=0&hpos=17&hapos=592&sr_order=popularity&srpvid=e74992fcebb600ae&srepoch=1646686546&from=searchresults#hotelTmpl': 503,\n",
       " 'https://www.booking.com/hotel/is/stryta-apartment-3.zh-tw.html?label=gen173bo-1DCAEoggI46AdIMFgDaOcBiAEBmAEwuAEXyAEM2AED6AEB-AEDiAIBmAICqAIDuALMrZiRBsACAdICJDA4MWM3ODVkLWU3YjYtNGUwNC1hOGMzLWJiMzJhYjZlODBhNdgCBOACAQ&sid=e12b90519bab632c3ffdcb360924a5c1&aid=304142&ucfs=1&arphpl=1&dest_id=97&dest_type=country&group_adults=2&req_adults=2&no_rooms=1&group_children=0&req_children=0&hpos=18&hapos=593&sr_order=popularity&srpvid=e74992fcebb600ae&srepoch=1646686546&from_sustainable_property_sr=1&from=searchresults#hotelTmpl': 35,\n",
       " 'https://www.booking.com/hotel/is/hotelreykjavikcentrum.zh-tw.html?label=gen173bo-1DCAEoggI46AdIMFgDaOcBiAEBmAEwuAEXyAEM2AED6AEB-AEDiAIBmAICqAIDuALMrZiRBsACAdICJDA4MWM3ODVkLWU3YjYtNGUwNC1hOGMzLWJiMzJhYjZlODBhNdgCBOACAQ&sid=e12b90519bab632c3ffdcb360924a5c1&aid=304142&ucfs=1&arphpl=1&dest_id=97&dest_type=country&group_adults=2&req_adults=2&no_rooms=1&group_children=0&req_children=0&hpos=19&hapos=594&sr_order=popularity&srpvid=e74992fcebb600ae&srepoch=1646686546&from_sustainable_property_sr=1&from=searchresults#hotelTmpl': 380,\n",
       " 'https://www.booking.com/hotel/is/bjarg-cottage-with-a-private-hot-tub.zh-tw.html?label=gen173bo-1DCAEoggI46AdIMFgDaOcBiAEBmAEwuAEXyAEM2AED6AEB-AEDiAIBmAICqAIDuALMrZiRBsACAdICJDA4MWM3ODVkLWU3YjYtNGUwNC1hOGMzLWJiMzJhYjZlODBhNdgCBOACAQ&sid=e12b90519bab632c3ffdcb360924a5c1&aid=304142&ucfs=1&arphpl=1&dest_id=97&dest_type=country&group_adults=2&req_adults=2&no_rooms=1&group_children=0&req_children=0&hpos=20&hapos=595&sr_order=popularity&srpvid=e74992fcebb600ae&srepoch=1646686546&from=searchresults#hotelTmpl': 112,\n",
       " 'https://www.booking.com/hotel/is/sodulsholt-cottages.zh-tw.html?label=gen173bo-1DCAEoggI46AdIMFgDaOcBiAEBmAEwuAEXyAEM2AED6AEB-AEDiAIBmAICqAIDuALMrZiRBsACAdICJDA4MWM3ODVkLWU3YjYtNGUwNC1hOGMzLWJiMzJhYjZlODBhNdgCBOACAQ&sid=e12b90519bab632c3ffdcb360924a5c1&aid=304142&ucfs=1&arphpl=1&dest_id=97&dest_type=country&group_adults=2&req_adults=2&no_rooms=1&group_children=0&req_children=0&hpos=21&hapos=596&sr_order=popularity&srpvid=e74992fcebb600ae&srepoch=1646686546&from=searchresults#hotelTmpl': 118,\n",
       " 'https://www.booking.com/hotel/is/skyggnir-hostel.zh-tw.html?label=gen173bo-1DCAEoggI46AdIMFgDaOcBiAEBmAEwuAEXyAEM2AED6AEB-AEDiAIBmAICqAIDuALMrZiRBsACAdICJDA4MWM3ODVkLWU3YjYtNGUwNC1hOGMzLWJiMzJhYjZlODBhNdgCBOACAQ&sid=e12b90519bab632c3ffdcb360924a5c1&aid=304142&ucfs=1&arphpl=1&dest_id=97&dest_type=country&group_adults=2&req_adults=2&no_rooms=1&group_children=0&req_children=0&hpos=22&hapos=597&sr_order=popularity&srpvid=e74992fcebb600ae&srepoch=1646686546&from_sustainable_property_sr=1&from=searchresults#hotelTmpl': 855,\n",
       " 'https://www.booking.com/hotel/is/brjanslaekur-gamli-baerinn.zh-tw.html?label=gen173bo-1DCAEoggI46AdIMFgDaOcBiAEBmAEwuAEXyAEM2AED6AEB-AEDiAIBmAICqAIDuALMrZiRBsACAdICJDA4MWM3ODVkLWU3YjYtNGUwNC1hOGMzLWJiMzJhYjZlODBhNdgCBOACAQ&sid=e12b90519bab632c3ffdcb360924a5c1&aid=304142&ucfs=1&arphpl=1&dest_id=97&dest_type=country&group_adults=2&req_adults=2&no_rooms=1&group_children=0&req_children=0&hpos=23&hapos=598&sr_order=popularity&srpvid=e74992fcebb600ae&srepoch=1646686546&from=searchresults#hotelTmpl': 99,\n",
       " 'https://www.booking.com/hotel/is/laugarvatn-hostel.zh-tw.html?label=gen173bo-1DCAEoggI46AdIMFgDaOcBiAEBmAEwuAEXyAEM2AED6AEB-AEDiAIBmAICqAIDuALMrZiRBsACAdICJDA4MWM3ODVkLWU3YjYtNGUwNC1hOGMzLWJiMzJhYjZlODBhNdgCBOACAQ&sid=e12b90519bab632c3ffdcb360924a5c1&aid=304142&ucfs=1&arphpl=1&dest_id=97&dest_type=country&group_adults=2&req_adults=2&no_rooms=1&group_children=0&req_children=0&hpos=24&hapos=599&sr_order=popularity&srpvid=e74992fcebb600ae&srepoch=1646686546&from=searchresults#hotelTmpl': 587,\n",
       " 'https://www.booking.com/hotel/is/baldursbra-apartment-hverfisgata.zh-tw.html?label=gen173bo-1DCAEoggI46AdIMFgDaOcBiAEBmAEwuAEXyAEM2AED6AEB-AEDiAIBmAICqAIDuALMrZiRBsACAdICJDA4MWM3ODVkLWU3YjYtNGUwNC1hOGMzLWJiMzJhYjZlODBhNdgCBOACAQ&sid=e12b90519bab632c3ffdcb360924a5c1&aid=304142&ucfs=1&arphpl=1&dest_id=97&dest_type=country&group_adults=2&req_adults=2&no_rooms=1&group_children=0&req_children=0&hpos=25&hapos=600&sr_order=popularity&srpvid=e74992fcebb600ae&srepoch=1646686546&from=searchresults#hotelTmpl': 92,\n",
       " 'https://www.booking.com/hotel/is/mjoeyri-travel-holiday-homes.zh-tw.html?label=gen173bo-1DCAEoggI46AdIMFgDaOcBiAEBmAEwuAEXyAEM2AED6AEB-AEDiAIBmAICqAIDuALMrZiRBsACAdICJDA4MWM3ODVkLWU3YjYtNGUwNC1hOGMzLWJiMzJhYjZlODBhNdgCBOACAQ&sid=e12b90519bab632c3ffdcb360924a5c1&aid=304142&ucfs=1&arphpl=1&dest_id=97&dest_type=country&group_adults=2&req_adults=2&no_rooms=1&group_children=0&req_children=0&hpos=1&hapos=601&sr_order=popularity&srpvid=e74992fcebb600ae&srepoch=1646686549&from=searchresults#hotelTmpl': 170,\n",
       " 'https://www.booking.com/hotel/is/puffin-hotel-vik.zh-tw.html?label=gen173bo-1DCAEoggI46AdIMFgDaOcBiAEBmAEwuAEXyAEM2AED6AEB-AEDiAIBmAICqAIDuALMrZiRBsACAdICJDA4MWM3ODVkLWU3YjYtNGUwNC1hOGMzLWJiMzJhYjZlODBhNdgCBOACAQ&sid=e12b90519bab632c3ffdcb360924a5c1&aid=304142&ucfs=1&arphpl=1&dest_id=97&dest_type=country&group_adults=2&req_adults=2&no_rooms=1&group_children=0&req_children=0&hpos=2&hapos=602&sr_order=popularity&srpvid=e74992fcebb600ae&srepoch=1646686549&from=searchresults#hotelTmpl': 1286,\n",
       " 'https://www.booking.com/hotel/is/grettir-guesthouse-reykjavik.zh-tw.html?label=gen173bo-1DCAEoggI46AdIMFgDaOcBiAEBmAEwuAEXyAEM2AED6AEB-AEDiAIBmAICqAIDuALMrZiRBsACAdICJDA4MWM3ODVkLWU3YjYtNGUwNC1hOGMzLWJiMzJhYjZlODBhNdgCBOACAQ&sid=e12b90519bab632c3ffdcb360924a5c1&aid=304142&ucfs=1&arphpl=1&dest_id=97&dest_type=country&group_adults=2&req_adults=2&no_rooms=1&group_children=0&req_children=0&hpos=3&hapos=603&sr_order=popularity&srpvid=e74992fcebb600ae&srepoch=1646686549&from_sustainable_property_sr=1&from=searchresults#hotelTmpl': 643,\n",
       " 'https://www.booking.com/hotel/is/spirit-farm.zh-tw.html?label=gen173bo-1DCAEoggI46AdIMFgDaOcBiAEBmAEwuAEXyAEM2AED6AEB-AEDiAIBmAICqAIDuALMrZiRBsACAdICJDA4MWM3ODVkLWU3YjYtNGUwNC1hOGMzLWJiMzJhYjZlODBhNdgCBOACAQ&sid=e12b90519bab632c3ffdcb360924a5c1&aid=304142&ucfs=1&arphpl=1&dest_id=97&dest_type=country&group_adults=2&req_adults=2&no_rooms=1&group_children=0&req_children=0&hpos=4&hapos=604&sr_order=popularity&srpvid=e74992fcebb600ae&srepoch=1646686549&from=searchresults#hotelTmpl': 525,\n",
       " 'https://www.booking.com/hotel/is/blue-mountain-apartments.zh-tw.html?label=gen173bo-1DCAEoggI46AdIMFgDaOcBiAEBmAEwuAEXyAEM2AED6AEB-AEDiAIBmAICqAIDuALMrZiRBsACAdICJDA4MWM3ODVkLWU3YjYtNGUwNC1hOGMzLWJiMzJhYjZlODBhNdgCBOACAQ&sid=e12b90519bab632c3ffdcb360924a5c1&aid=304142&ucfs=1&arphpl=1&dest_id=97&dest_type=country&group_adults=2&req_adults=2&no_rooms=1&group_children=0&req_children=0&hpos=5&hapos=605&sr_order=popularity&srpvid=e74992fcebb600ae&srepoch=1646686549&from=searchresults#hotelTmpl': 582,\n",
       " 'https://www.booking.com/hotel/is/lon-guesthouse.zh-tw.html?label=gen173bo-1DCAEoggI46AdIMFgDaOcBiAEBmAEwuAEXyAEM2AED6AEB-AEDiAIBmAICqAIDuALMrZiRBsACAdICJDA4MWM3ODVkLWU3YjYtNGUwNC1hOGMzLWJiMzJhYjZlODBhNdgCBOACAQ&sid=e12b90519bab632c3ffdcb360924a5c1&aid=304142&ucfs=1&arphpl=1&dest_id=97&dest_type=country&group_adults=2&req_adults=2&no_rooms=1&group_children=0&req_children=0&hpos=6&hapos=606&sr_order=popularity&srpvid=e74992fcebb600ae&srepoch=1646686549&from=searchresults#hotelTmpl': 129,\n",
       " 'https://www.booking.com/hotel/is/keldunes.zh-tw.html?label=gen173bo-1DCAEoggI46AdIMFgDaOcBiAEBmAEwuAEXyAEM2AED6AEB-AEDiAIBmAICqAIDuALMrZiRBsACAdICJDA4MWM3ODVkLWU3YjYtNGUwNC1hOGMzLWJiMzJhYjZlODBhNdgCBOACAQ&sid=e12b90519bab632c3ffdcb360924a5c1&aid=304142&ucfs=1&arphpl=1&dest_id=97&dest_type=country&group_adults=2&req_adults=2&no_rooms=1&group_children=0&req_children=0&hpos=7&hapos=607&sr_order=popularity&srpvid=e74992fcebb600ae&srepoch=1646686549&from=searchresults#hotelTmpl': 120,\n",
       " 'https://www.booking.com/hotel/is/hotel-hunavellir.zh-tw.html?label=gen173bo-1DCAEoggI46AdIMFgDaOcBiAEBmAEwuAEXyAEM2AED6AEB-AEDiAIBmAICqAIDuALMrZiRBsACAdICJDA4MWM3ODVkLWU3YjYtNGUwNC1hOGMzLWJiMzJhYjZlODBhNdgCBOACAQ&sid=e12b90519bab632c3ffdcb360924a5c1&aid=304142&ucfs=1&arphpl=1&dest_id=97&dest_type=country&group_adults=2&req_adults=2&no_rooms=1&group_children=0&req_children=0&hpos=8&hapos=608&sr_order=popularity&srpvid=e74992fcebb600ae&srepoch=1646686549&from=searchresults#hotelTmpl': 637,\n",
       " 'https://www.booking.com/hotel/is/helluland-guesthouse-saudarkrokur.zh-tw.html?label=gen173bo-1DCAEoggI46AdIMFgDaOcBiAEBmAEwuAEXyAEM2AED6AEB-AEDiAIBmAICqAIDuALMrZiRBsACAdICJDA4MWM3ODVkLWU3YjYtNGUwNC1hOGMzLWJiMzJhYjZlODBhNdgCBOACAQ&sid=e12b90519bab632c3ffdcb360924a5c1&aid=304142&ucfs=1&arphpl=1&dest_id=97&dest_type=country&group_adults=2&req_adults=2&no_rooms=1&group_children=0&req_children=0&hpos=9&hapos=609&sr_order=popularity&srpvid=e74992fcebb600ae&srepoch=1646686549&from=searchresults#hotelTmpl': 35,\n",
       " 'https://www.booking.com/hotel/is/asbru.zh-tw.html?label=gen173bo-1DCAEoggI46AdIMFgDaOcBiAEBmAEwuAEXyAEM2AED6AEB-AEDiAIBmAICqAIDuALMrZiRBsACAdICJDA4MWM3ODVkLWU3YjYtNGUwNC1hOGMzLWJiMzJhYjZlODBhNdgCBOACAQ&sid=e12b90519bab632c3ffdcb360924a5c1&aid=304142&ucfs=1&arphpl=1&dest_id=97&dest_type=country&group_adults=2&req_adults=2&no_rooms=1&group_children=0&req_children=0&hpos=10&hapos=610&sr_order=popularity&srpvid=e74992fcebb600ae&srepoch=1646686549&from=searchresults#hotelTmpl': 1081,\n",
       " 'https://www.booking.com/hotel/is/1a-guesthouse.zh-tw.html?label=gen173bo-1DCAEoggI46AdIMFgDaOcBiAEBmAEwuAEXyAEM2AED6AEB-AEDiAIBmAICqAIDuALMrZiRBsACAdICJDA4MWM3ODVkLWU3YjYtNGUwNC1hOGMzLWJiMzJhYjZlODBhNdgCBOACAQ&sid=e12b90519bab632c3ffdcb360924a5c1&aid=304142&ucfs=1&arphpl=1&dest_id=97&dest_type=country&group_adults=2&req_adults=2&no_rooms=1&group_children=0&req_children=0&hpos=11&hapos=611&sr_order=popularity&srpvid=e74992fcebb600ae&srepoch=1646686549&from=searchresults#hotelTmpl': 139,\n",
       " 'https://www.booking.com/hotel/is/grandhotelreykjavik.zh-tw.html?label=gen173bo-1DCAEoggI46AdIMFgDaOcBiAEBmAEwuAEXyAEM2AED6AEB-AEDiAIBmAICqAIDuALMrZiRBsACAdICJDA4MWM3ODVkLWU3YjYtNGUwNC1hOGMzLWJiMzJhYjZlODBhNdgCBOACAQ&sid=e12b90519bab632c3ffdcb360924a5c1&aid=304142&ucfs=1&arphpl=1&dest_id=97&dest_type=country&group_adults=2&req_adults=2&no_rooms=1&group_children=0&req_children=0&hpos=12&hapos=612&sr_order=popularity&srpvid=e74992fcebb600ae&srepoch=1646686549&from_sustainable_property_sr=1&from=searchresults#hotelTmpl': 1367,\n",
       " 'https://www.booking.com/hotel/is/blue-view-cabin-3b.zh-tw.html?label=gen173bo-1DCAEoggI46AdIMFgDaOcBiAEBmAEwuAEXyAEM2AED6AEB-AEDiAIBmAICqAIDuALMrZiRBsACAdICJDA4MWM3ODVkLWU3YjYtNGUwNC1hOGMzLWJiMzJhYjZlODBhNdgCBOACAQ&sid=e12b90519bab632c3ffdcb360924a5c1&aid=304142&ucfs=1&arphpl=1&dest_id=97&dest_type=country&group_adults=2&req_adults=2&no_rooms=1&group_children=0&req_children=0&hpos=13&hapos=613&sr_order=popularity&srpvid=e74992fcebb600ae&srepoch=1646686549&from=searchresults#hotelTmpl': 56,\n",
       " 'https://www.booking.com/hotel/is/harbour-hostel.zh-tw.html?label=gen173bo-1DCAEoggI46AdIMFgDaOcBiAEBmAEwuAEXyAEM2AED6AEB-AEDiAIBmAICqAIDuALMrZiRBsACAdICJDA4MWM3ODVkLWU3YjYtNGUwNC1hOGMzLWJiMzJhYjZlODBhNdgCBOACAQ&sid=e12b90519bab632c3ffdcb360924a5c1&aid=304142&ucfs=1&arphpl=1&dest_id=97&dest_type=country&group_adults=2&req_adults=2&no_rooms=1&group_children=0&req_children=0&hpos=14&hapos=614&sr_order=popularity&srpvid=e74992fcebb600ae&srepoch=1646686549&from=searchresults#hotelTmpl': 523,\n",
       " 'https://www.booking.com/hotel/is/birkikinn.zh-tw.html?label=gen173bo-1DCAEoggI46AdIMFgDaOcBiAEBmAEwuAEXyAEM2AED6AEB-AEDiAIBmAICqAIDuALMrZiRBsACAdICJDA4MWM3ODVkLWU3YjYtNGUwNC1hOGMzLWJiMzJhYjZlODBhNdgCBOACAQ&sid=e12b90519bab632c3ffdcb360924a5c1&aid=304142&ucfs=1&arphpl=1&dest_id=97&dest_type=country&group_adults=2&req_adults=2&no_rooms=1&group_children=0&req_children=0&hpos=15&hapos=615&sr_order=popularity&srpvid=e74992fcebb600ae&srepoch=1646686549&from=searchresults#hotelTmpl': 68,\n",
       " 'https://www.booking.com/hotel/is/hestasport-cottages.zh-tw.html?label=gen173bo-1DCAEoggI46AdIMFgDaOcBiAEBmAEwuAEXyAEM2AED6AEB-AEDiAIBmAICqAIDuALMrZiRBsACAdICJDA4MWM3ODVkLWU3YjYtNGUwNC1hOGMzLWJiMzJhYjZlODBhNdgCBOACAQ&sid=e12b90519bab632c3ffdcb360924a5c1&aid=304142&ucfs=1&arphpl=1&dest_id=97&dest_type=country&group_adults=2&req_adults=2&no_rooms=1&group_children=0&req_children=0&hpos=16&hapos=616&sr_order=popularity&srpvid=e74992fcebb600ae&srepoch=1646686549&from_sustainable_property_sr=1&from=searchresults#hotelTmpl': 424,\n",
       " 'https://www.booking.com/hotel/is/g19-boutique-apartments.zh-tw.html?label=gen173bo-1DCAEoggI46AdIMFgDaOcBiAEBmAEwuAEXyAEM2AED6AEB-AEDiAIBmAICqAIDuALMrZiRBsACAdICJDA4MWM3ODVkLWU3YjYtNGUwNC1hOGMzLWJiMzJhYjZlODBhNdgCBOACAQ&sid=e12b90519bab632c3ffdcb360924a5c1&aid=304142&ucfs=1&arphpl=1&dest_id=97&dest_type=country&group_adults=2&req_adults=2&no_rooms=1&group_children=0&req_children=0&hpos=17&hapos=617&sr_order=popularity&srpvid=e74992fcebb600ae&srepoch=1646686549&from=searchresults#hotelTmpl': 399,\n",
       " 'https://www.booking.com/hotel/is/fossatun-guesthouse.zh-tw.html?label=gen173bo-1DCAEoggI46AdIMFgDaOcBiAEBmAEwuAEXyAEM2AED6AEB-AEDiAIBmAICqAIDuALMrZiRBsACAdICJDA4MWM3ODVkLWU3YjYtNGUwNC1hOGMzLWJiMzJhYjZlODBhNdgCBOACAQ&sid=e12b90519bab632c3ffdcb360924a5c1&aid=304142&ucfs=1&arphpl=1&dest_id=97&dest_type=country&group_adults=2&req_adults=2&no_rooms=1&group_children=0&req_children=0&hpos=18&hapos=618&sr_order=popularity&srpvid=e74992fcebb600ae&srepoch=1646686549&from=searchresults#hotelTmpl': 162,\n",
       " 'https://www.booking.com/hotel/is/lyngas-guesthouse.zh-tw.html?label=gen173bo-1DCAEoggI46AdIMFgDaOcBiAEBmAEwuAEXyAEM2AED6AEB-AEDiAIBmAICqAIDuALMrZiRBsACAdICJDA4MWM3ODVkLWU3YjYtNGUwNC1hOGMzLWJiMzJhYjZlODBhNdgCBOACAQ&sid=e12b90519bab632c3ffdcb360924a5c1&aid=304142&ucfs=1&arphpl=1&dest_id=97&dest_type=country&group_adults=2&req_adults=2&no_rooms=1&group_children=0&req_children=0&hpos=19&hapos=619&sr_order=popularity&srpvid=e74992fcebb600ae&srepoch=1646686549&from_sustainable_property_sr=1&from=searchresults#hotelTmpl': 1337,\n",
       " 'https://www.booking.com/hotel/is/egilsstadir-1-guesthouse.zh-tw.html?label=gen173bo-1DCAEoggI46AdIMFgDaOcBiAEBmAEwuAEXyAEM2AED6AEB-AEDiAIBmAICqAIDuALMrZiRBsACAdICJDA4MWM3ODVkLWU3YjYtNGUwNC1hOGMzLWJiMzJhYjZlODBhNdgCBOACAQ&sid=e12b90519bab632c3ffdcb360924a5c1&aid=304142&ucfs=1&arphpl=1&dest_id=97&dest_type=country&group_adults=2&req_adults=2&no_rooms=1&group_children=0&req_children=0&hpos=20&hapos=620&sr_order=popularity&srpvid=e74992fcebb600ae&srepoch=1646686549&from=searchresults#hotelTmpl': 15,\n",
       " 'https://www.booking.com/hotel/is/klausturhof-guesthouse.zh-tw.html?label=gen173bo-1DCAEoggI46AdIMFgDaOcBiAEBmAEwuAEXyAEM2AED6AEB-AEDiAIBmAICqAIDuALMrZiRBsACAdICJDA4MWM3ODVkLWU3YjYtNGUwNC1hOGMzLWJiMzJhYjZlODBhNdgCBOACAQ&sid=e12b90519bab632c3ffdcb360924a5c1&aid=304142&ucfs=1&arphpl=1&dest_id=97&dest_type=country&group_adults=2&req_adults=2&no_rooms=1&group_children=0&req_children=0&hpos=21&hapos=621&sr_order=popularity&srpvid=e74992fcebb600ae&srepoch=1646686549&from=searchresults#hotelTmpl': 1550,\n",
       " 'https://www.booking.com/hotel/is/lucky-guesthouse-hvollsvolur.zh-tw.html?label=gen173bo-1DCAEoggI46AdIMFgDaOcBiAEBmAEwuAEXyAEM2AED6AEB-AEDiAIBmAICqAIDuALMrZiRBsACAdICJDA4MWM3ODVkLWU3YjYtNGUwNC1hOGMzLWJiMzJhYjZlODBhNdgCBOACAQ&sid=e12b90519bab632c3ffdcb360924a5c1&aid=304142&ucfs=1&arphpl=1&dest_id=97&dest_type=country&group_adults=2&req_adults=2&no_rooms=1&group_children=0&req_children=0&hpos=22&hapos=622&sr_order=popularity&srpvid=e74992fcebb600ae&srepoch=1646686549&from_sustainable_property_sr=1&from=searchresults#hotelTmpl': 28,\n",
       " 'https://www.booking.com/hotel/is/townhouse-41.zh-tw.html?label=gen173bo-1DCAEoggI46AdIMFgDaOcBiAEBmAEwuAEXyAEM2AED6AEB-AEDiAIBmAICqAIDuALMrZiRBsACAdICJDA4MWM3ODVkLWU3YjYtNGUwNC1hOGMzLWJiMzJhYjZlODBhNdgCBOACAQ&sid=e12b90519bab632c3ffdcb360924a5c1&aid=304142&ucfs=1&arphpl=1&dest_id=97&dest_type=country&group_adults=2&req_adults=2&no_rooms=1&group_children=0&req_children=0&hpos=23&hapos=623&sr_order=popularity&srpvid=e74992fcebb600ae&srepoch=1646686549&from=searchresults#hotelTmpl': 591,\n",
       " 'https://www.booking.com/hotel/is/kidafell-farmstay.zh-tw.html?label=gen173bo-1DCAEoggI46AdIMFgDaOcBiAEBmAEwuAEXyAEM2AED6AEB-AEDiAIBmAICqAIDuALMrZiRBsACAdICJDA4MWM3ODVkLWU3YjYtNGUwNC1hOGMzLWJiMzJhYjZlODBhNdgCBOACAQ&sid=e12b90519bab632c3ffdcb360924a5c1&aid=304142&ucfs=1&arphpl=1&dest_id=97&dest_type=country&group_adults=2&req_adults=2&no_rooms=1&group_children=0&req_children=0&hpos=24&hapos=624&sr_order=popularity&srpvid=e74992fcebb600ae&srepoch=1646686549&from=searchresults#hotelTmpl': 72,\n",
       " 'https://www.booking.com/hotel/is/gotuhus-sea-view-apartment.zh-tw.html?label=gen173bo-1DCAEoggI46AdIMFgDaOcBiAEBmAEwuAEXyAEM2AED6AEB-AEDiAIBmAICqAIDuALMrZiRBsACAdICJDA4MWM3ODVkLWU3YjYtNGUwNC1hOGMzLWJiMzJhYjZlODBhNdgCBOACAQ&sid=e12b90519bab632c3ffdcb360924a5c1&aid=304142&ucfs=1&arphpl=1&dest_id=97&dest_type=country&group_adults=2&req_adults=2&no_rooms=1&group_children=0&req_children=0&hpos=25&hapos=625&sr_order=popularity&srpvid=e74992fcebb600ae&srepoch=1646686549&from_sustainable_property_sr=1&from=searchresults#hotelTmpl': 93,\n",
       " 'https://www.booking.com/hotel/is/apotek-guesthouse-akureyri.zh-tw.html?label=gen173bo-1DCAEoggI46AdIMFgDaOcBiAEBmAEwuAEXyAEM2AED6AEB-AEDiAIBmAICqAIDuALMrZiRBsACAdICJDA4MWM3ODVkLWU3YjYtNGUwNC1hOGMzLWJiMzJhYjZlODBhNdgCBOACAQ&sid=e12b90519bab632c3ffdcb360924a5c1&aid=304142&ucfs=1&arphpl=1&dest_id=97&dest_type=country&group_adults=2&req_adults=2&no_rooms=1&group_children=0&req_children=0&hpos=1&hapos=626&sr_order=popularity&srpvid=e74992fcebb600ae&srepoch=1646686553&from=searchresults#hotelTmpl': 792,\n",
       " 'https://www.booking.com/hotel/is/icelandair-myvatn.zh-tw.html?label=gen173bo-1DCAEoggI46AdIMFgDaOcBiAEBmAEwuAEXyAEM2AED6AEB-AEDiAIBmAICqAIDuALMrZiRBsACAdICJDA4MWM3ODVkLWU3YjYtNGUwNC1hOGMzLWJiMzJhYjZlODBhNdgCBOACAQ&sid=e12b90519bab632c3ffdcb360924a5c1&aid=304142&ucfs=1&arphpl=1&dest_id=97&dest_type=country&group_adults=2&req_adults=2&no_rooms=1&group_children=0&req_children=0&hpos=2&hapos=627&sr_order=popularity&srpvid=e74992fcebb600ae&srepoch=1646686553&from_sustainable_property_sr=1&from=searchresults#hotelTmpl': 1377,\n",
       " 'https://www.booking.com/hotel/is/ha3tel-vestmannaeyjar.zh-tw.html?label=gen173bo-1DCAEoggI46AdIMFgDaOcBiAEBmAEwuAEXyAEM2AED6AEB-AEDiAIBmAICqAIDuALMrZiRBsACAdICJDA4MWM3ODVkLWU3YjYtNGUwNC1hOGMzLWJiMzJhYjZlODBhNdgCBOACAQ&sid=e12b90519bab632c3ffdcb360924a5c1&aid=304142&ucfs=1&arphpl=1&dest_id=97&dest_type=country&group_adults=2&req_adults=2&no_rooms=1&group_children=0&req_children=0&hpos=3&hapos=628&sr_order=popularity&srpvid=e74992fcebb600ae&srepoch=1646686553&from=searchresults#hotelTmpl': 287,\n",
       " 'https://www.booking.com/hotel/is/hvoll-guesthouse.zh-tw.html?label=gen173bo-1DCAEoggI46AdIMFgDaOcBiAEBmAEwuAEXyAEM2AED6AEB-AEDiAIBmAICqAIDuALMrZiRBsACAdICJDA4MWM3ODVkLWU3YjYtNGUwNC1hOGMzLWJiMzJhYjZlODBhNdgCBOACAQ&sid=e12b90519bab632c3ffdcb360924a5c1&aid=304142&ucfs=1&arphpl=1&dest_id=97&dest_type=country&group_adults=2&req_adults=2&no_rooms=1&group_children=0&req_children=0&hpos=4&hapos=629&sr_order=popularity&srpvid=e74992fcebb600ae&srepoch=1646686553&from=searchresults#hotelTmpl': 1296,\n",
       " 'https://www.booking.com/hotel/is/central-akureyri-accommodation.zh-tw.html?label=gen173bo-1DCAEoggI46AdIMFgDaOcBiAEBmAEwuAEXyAEM2AED6AEB-AEDiAIBmAICqAIDuALMrZiRBsACAdICJDA4MWM3ODVkLWU3YjYtNGUwNC1hOGMzLWJiMzJhYjZlODBhNdgCBOACAQ&sid=e12b90519bab632c3ffdcb360924a5c1&aid=304142&ucfs=1&arphpl=1&dest_id=97&dest_type=country&group_adults=2&req_adults=2&no_rooms=1&group_children=0&req_children=0&hpos=5&hapos=630&sr_order=popularity&srpvid=e74992fcebb600ae&srepoch=1646686553&from=searchresults#hotelTmpl': 475,\n",
       " 'https://www.booking.com/hotel/is/laki.zh-tw.html?label=gen173bo-1DCAEoggI46AdIMFgDaOcBiAEBmAEwuAEXyAEM2AED6AEB-AEDiAIBmAICqAIDuALMrZiRBsACAdICJDA4MWM3ODVkLWU3YjYtNGUwNC1hOGMzLWJiMzJhYjZlODBhNdgCBOACAQ&sid=e12b90519bab632c3ffdcb360924a5c1&aid=304142&ucfs=1&arphpl=1&dest_id=97&dest_type=country&group_adults=2&req_adults=2&no_rooms=1&group_children=0&req_children=0&hpos=6&hapos=631&sr_order=popularity&srpvid=e74992fcebb600ae&srepoch=1646686553&from=searchresults#hotelTmpl': 1062,\n",
       " 'https://www.booking.com/hotel/is/arbol-guesthouse.zh-tw.html?label=gen173bo-1DCAEoggI46AdIMFgDaOcBiAEBmAEwuAEXyAEM2AED6AEB-AEDiAIBmAICqAIDuALMrZiRBsACAdICJDA4MWM3ODVkLWU3YjYtNGUwNC1hOGMzLWJiMzJhYjZlODBhNdgCBOACAQ&sid=e12b90519bab632c3ffdcb360924a5c1&aid=304142&ucfs=1&arphpl=1&dest_id=97&dest_type=country&group_adults=2&req_adults=2&no_rooms=1&group_children=0&req_children=0&hpos=7&hapos=632&sr_order=popularity&srpvid=e74992fcebb600ae&srepoch=1646686553&from_sustainable_property_sr=1&from=searchresults#hotelTmpl': 592,\n",
       " 'https://www.booking.com/hotel/is/vid-hafid-guesthouse.zh-tw.html?label=gen173bo-1DCAEoggI46AdIMFgDaOcBiAEBmAEwuAEXyAEM2AED6AEB-AEDiAIBmAICqAIDuALMrZiRBsACAdICJDA4MWM3ODVkLWU3YjYtNGUwNC1hOGMzLWJiMzJhYjZlODBhNdgCBOACAQ&sid=e12b90519bab632c3ffdcb360924a5c1&aid=304142&ucfs=1&arphpl=1&dest_id=97&dest_type=country&group_adults=2&req_adults=2&no_rooms=1&group_children=0&req_children=0&hpos=8&hapos=633&sr_order=popularity&srpvid=e74992fcebb600ae&srepoch=1646686553&from=searchresults#hotelTmpl': 1114,\n",
       " 'https://www.booking.com/hotel/is/kanslarinn-hostel.zh-tw.html?label=gen173bo-1DCAEoggI46AdIMFgDaOcBiAEBmAEwuAEXyAEM2AED6AEB-AEDiAIBmAICqAIDuALMrZiRBsACAdICJDA4MWM3ODVkLWU3YjYtNGUwNC1hOGMzLWJiMzJhYjZlODBhNdgCBOACAQ&sid=e12b90519bab632c3ffdcb360924a5c1&aid=304142&ucfs=1&arphpl=1&dest_id=97&dest_type=country&group_adults=2&req_adults=2&no_rooms=1&group_children=0&req_children=0&hpos=9&hapos=634&sr_order=popularity&srpvid=e74992fcebb600ae&srepoch=1646686553&from=searchresults#hotelTmpl': 42,\n",
       " 'https://www.booking.com/hotel/is/stundarfridur.zh-tw.html?label=gen173bo-1DCAEoggI46AdIMFgDaOcBiAEBmAEwuAEXyAEM2AED6AEB-AEDiAIBmAICqAIDuALMrZiRBsACAdICJDA4MWM3ODVkLWU3YjYtNGUwNC1hOGMzLWJiMzJhYjZlODBhNdgCBOACAQ&sid=e12b90519bab632c3ffdcb360924a5c1&aid=304142&ucfs=1&arphpl=1&dest_id=97&dest_type=country&group_adults=2&req_adults=2&no_rooms=1&group_children=0&req_children=0&hpos=10&hapos=635&sr_order=popularity&srpvid=e74992fcebb600ae&srepoch=1646686553&from_sustainable_property_sr=1&from=searchresults#hotelTmpl': 821,\n",
       " 'https://www.booking.com/hotel/is/grundarfjordur-bed-and-breakfast.zh-tw.html?label=gen173bo-1DCAEoggI46AdIMFgDaOcBiAEBmAEwuAEXyAEM2AED6AEB-AEDiAIBmAICqAIDuALMrZiRBsACAdICJDA4MWM3ODVkLWU3YjYtNGUwNC1hOGMzLWJiMzJhYjZlODBhNdgCBOACAQ&sid=e12b90519bab632c3ffdcb360924a5c1&aid=304142&ucfs=1&arphpl=1&dest_id=97&dest_type=country&group_adults=2&req_adults=2&no_rooms=1&group_children=0&req_children=0&hpos=11&hapos=636&sr_order=popularity&srpvid=e74992fcebb600ae&srepoch=1646686553&from=searchresults#hotelTmpl': 772,\n",
       " 'https://www.booking.com/hotel/is/klettur.zh-tw.html?label=gen173bo-1DCAEoggI46AdIMFgDaOcBiAEBmAEwuAEXyAEM2AED6AEB-AEDiAIBmAICqAIDuALMrZiRBsACAdICJDA4MWM3ODVkLWU3YjYtNGUwNC1hOGMzLWJiMzJhYjZlODBhNdgCBOACAQ&sid=e12b90519bab632c3ffdcb360924a5c1&aid=304142&ucfs=1&arphpl=1&dest_id=97&dest_type=country&group_adults=2&req_adults=2&no_rooms=1&group_children=0&req_children=0&hpos=12&hapos=637&sr_order=popularity&srpvid=e74992fcebb600ae&srepoch=1646686553&from=searchresults#hotelTmpl': 988,\n",
       " 'https://www.booking.com/hotel/is/stay-iceland-apartments-a-14.zh-tw.html?label=gen173bo-1DCAEoggI46AdIMFgDaOcBiAEBmAEwuAEXyAEM2AED6AEB-AEDiAIBmAICqAIDuALMrZiRBsACAdICJDA4MWM3ODVkLWU3YjYtNGUwNC1hOGMzLWJiMzJhYjZlODBhNdgCBOACAQ&sid=e12b90519bab632c3ffdcb360924a5c1&aid=304142&ucfs=1&arphpl=1&dest_id=97&dest_type=country&group_adults=2&req_adults=2&no_rooms=1&group_children=0&req_children=0&hpos=13&hapos=638&sr_order=popularity&srpvid=e74992fcebb600ae&srepoch=1646686553&from=searchresults#hotelTmpl': 3,\n",
       " 'https://www.booking.com/hotel/is/guesthouse-fludum.zh-tw.html?label=gen173bo-1DCAEoggI46AdIMFgDaOcBiAEBmAEwuAEXyAEM2AED6AEB-AEDiAIBmAICqAIDuALMrZiRBsACAdICJDA4MWM3ODVkLWU3YjYtNGUwNC1hOGMzLWJiMzJhYjZlODBhNdgCBOACAQ&sid=e12b90519bab632c3ffdcb360924a5c1&aid=304142&ucfs=1&arphpl=1&dest_id=97&dest_type=country&group_adults=2&req_adults=2&no_rooms=1&group_children=0&req_children=0&hpos=14&hapos=639&sr_order=popularity&srpvid=e74992fcebb600ae&srepoch=1646686553&from=searchresults#hotelTmpl': 1004,\n",
       " 'https://www.booking.com/hotel/is/stora-asgeirsa.zh-tw.html?label=gen173bo-1DCAEoggI46AdIMFgDaOcBiAEBmAEwuAEXyAEM2AED6AEB-AEDiAIBmAICqAIDuALMrZiRBsACAdICJDA4MWM3ODVkLWU3YjYtNGUwNC1hOGMzLWJiMzJhYjZlODBhNdgCBOACAQ&sid=e12b90519bab632c3ffdcb360924a5c1&aid=304142&ucfs=1&arphpl=1&dest_id=97&dest_type=country&group_adults=2&req_adults=2&no_rooms=1&group_children=0&req_children=0&hpos=15&hapos=640&sr_order=popularity&srpvid=e74992fcebb600ae&srepoch=1646686553&from=searchresults#hotelTmpl': 160,\n",
       " 'https://www.booking.com/hotel/is/guesthouse-asbrandsstadir.zh-tw.html?label=gen173bo-1DCAEoggI46AdIMFgDaOcBiAEBmAEwuAEXyAEM2AED6AEB-AEDiAIBmAICqAIDuALMrZiRBsACAdICJDA4MWM3ODVkLWU3YjYtNGUwNC1hOGMzLWJiMzJhYjZlODBhNdgCBOACAQ&sid=e12b90519bab632c3ffdcb360924a5c1&aid=304142&ucfs=1&arphpl=1&dest_id=97&dest_type=country&group_adults=2&req_adults=2&no_rooms=1&group_children=0&req_children=0&hpos=16&hapos=641&sr_order=popularity&srpvid=e74992fcebb600ae&srepoch=1646686553&from_sustainable_property_sr=1&from=searchresults#hotelTmpl': 214,\n",
       " 'https://www.booking.com/hotel/is/kerhraun-c-97.zh-tw.html?label=gen173bo-1DCAEoggI46AdIMFgDaOcBiAEBmAEwuAEXyAEM2AED6AEB-AEDiAIBmAICqAIDuALMrZiRBsACAdICJDA4MWM3ODVkLWU3YjYtNGUwNC1hOGMzLWJiMzJhYjZlODBhNdgCBOACAQ&sid=e12b90519bab632c3ffdcb360924a5c1&aid=304142&ucfs=1&arphpl=1&dest_id=97&dest_type=country&group_adults=2&req_adults=2&no_rooms=1&group_children=0&req_children=0&hpos=17&hapos=642&sr_order=popularity&srpvid=e74992fcebb600ae&srepoch=1646686553&from_sustainable_property_sr=1&from=searchresults#hotelTmpl': 15,\n",
       " 'https://www.booking.com/hotel/is/grundarfjordur-hostel.zh-tw.html?label=gen173bo-1DCAEoggI46AdIMFgDaOcBiAEBmAEwuAEXyAEM2AED6AEB-AEDiAIBmAICqAIDuALMrZiRBsACAdICJDA4MWM3ODVkLWU3YjYtNGUwNC1hOGMzLWJiMzJhYjZlODBhNdgCBOACAQ&sid=e12b90519bab632c3ffdcb360924a5c1&aid=304142&ucfs=1&arphpl=1&dest_id=97&dest_type=country&group_adults=2&req_adults=2&no_rooms=1&group_children=0&req_children=0&hpos=18&hapos=643&sr_order=popularity&srpvid=e74992fcebb600ae&srepoch=1646686553&from=searchresults#hotelTmpl': 364,\n",
       " 'https://www.booking.com/hotel/is/heima-holiday-homes.zh-tw.html?label=gen173bo-1DCAEoggI46AdIMFgDaOcBiAEBmAEwuAEXyAEM2AED6AEB-AEDiAIBmAICqAIDuALMrZiRBsACAdICJDA4MWM3ODVkLWU3YjYtNGUwNC1hOGMzLWJiMzJhYjZlODBhNdgCBOACAQ&sid=e12b90519bab632c3ffdcb360924a5c1&aid=304142&ucfs=1&arphpl=1&dest_id=97&dest_type=country&group_adults=2&req_adults=2&no_rooms=1&group_children=0&req_children=0&hpos=19&hapos=644&sr_order=popularity&srpvid=e74992fcebb600ae&srepoch=1646686553&from_sustainable_property_sr=1&from=searchresults#hotelTmpl': 531,\n",
       " 'https://www.booking.com/hotel/is/4th-floor.zh-tw.html?label=gen173bo-1DCAEoggI46AdIMFgDaOcBiAEBmAEwuAEXyAEM2AED6AEB-AEDiAIBmAICqAIDuALMrZiRBsACAdICJDA4MWM3ODVkLWU3YjYtNGUwNC1hOGMzLWJiMzJhYjZlODBhNdgCBOACAQ&sid=e12b90519bab632c3ffdcb360924a5c1&aid=304142&ucfs=1&arphpl=1&dest_id=97&dest_type=country&group_adults=2&req_adults=2&no_rooms=1&group_children=0&req_children=0&hpos=20&hapos=645&sr_order=popularity&srpvid=e74992fcebb600ae&srepoch=1646686553&from=searchresults#hotelTmpl': 906,\n",
       " 'https://www.booking.com/hotel/is/gistihaosiadeg-garadegur.zh-tw.html?label=gen173bo-1DCAEoggI46AdIMFgDaOcBiAEBmAEwuAEXyAEM2AED6AEB-AEDiAIBmAICqAIDuALMrZiRBsACAdICJDA4MWM3ODVkLWU3YjYtNGUwNC1hOGMzLWJiMzJhYjZlODBhNdgCBOACAQ&sid=e12b90519bab632c3ffdcb360924a5c1&aid=304142&ucfs=1&arphpl=1&dest_id=97&dest_type=country&group_adults=2&req_adults=2&no_rooms=1&group_children=0&req_children=0&hpos=21&hapos=646&sr_order=popularity&srpvid=e74992fcebb600ae&srepoch=1646686553&from=searchresults#hotelTmpl': 398,\n",
       " 'https://www.booking.com/hotel/is/phoenix.zh-tw.html?label=gen173bo-1DCAEoggI46AdIMFgDaOcBiAEBmAEwuAEXyAEM2AED6AEB-AEDiAIBmAICqAIDuALMrZiRBsACAdICJDA4MWM3ODVkLWU3YjYtNGUwNC1hOGMzLWJiMzJhYjZlODBhNdgCBOACAQ&sid=e12b90519bab632c3ffdcb360924a5c1&aid=304142&ucfs=1&arphpl=1&dest_id=97&dest_type=country&group_adults=2&req_adults=2&no_rooms=1&group_children=0&req_children=0&hpos=22&hapos=647&sr_order=popularity&srpvid=e74992fcebb600ae&srepoch=1646686553&from=searchresults#hotelTmpl': 138,\n",
       " 'https://www.booking.com/hotel/is/reykjavik-guesthouse.zh-tw.html?label=gen173bo-1DCAEoggI46AdIMFgDaOcBiAEBmAEwuAEXyAEM2AED6AEB-AEDiAIBmAICqAIDuALMrZiRBsACAdICJDA4MWM3ODVkLWU3YjYtNGUwNC1hOGMzLWJiMzJhYjZlODBhNdgCBOACAQ&sid=e12b90519bab632c3ffdcb360924a5c1&aid=304142&ucfs=1&arphpl=1&dest_id=97&dest_type=country&group_adults=2&req_adults=2&no_rooms=1&group_children=0&req_children=0&hpos=23&hapos=648&sr_order=popularity&srpvid=e74992fcebb600ae&srepoch=1646686553&from=searchresults#hotelTmpl': 482,\n",
       " 'https://www.booking.com/hotel/is/next-apartment-bergstadastraeti.zh-tw.html?label=gen173bo-1DCAEoggI46AdIMFgDaOcBiAEBmAEwuAEXyAEM2AED6AEB-AEDiAIBmAICqAIDuALMrZiRBsACAdICJDA4MWM3ODVkLWU3YjYtNGUwNC1hOGMzLWJiMzJhYjZlODBhNdgCBOACAQ&sid=e12b90519bab632c3ffdcb360924a5c1&aid=304142&ucfs=1&arphpl=1&dest_id=97&dest_type=country&group_adults=2&req_adults=2&no_rooms=1&group_children=0&req_children=0&hpos=24&hapos=649&sr_order=popularity&srpvid=e74992fcebb600ae&srepoch=1646686553&from=searchresults#hotelTmpl': 194,\n",
       " 'https://www.booking.com/hotel/is/holmavad-guesthouse.zh-tw.html?label=gen173bo-1DCAEoggI46AdIMFgDaOcBiAEBmAEwuAEXyAEM2AED6AEB-AEDiAIBmAICqAIDuALMrZiRBsACAdICJDA4MWM3ODVkLWU3YjYtNGUwNC1hOGMzLWJiMzJhYjZlODBhNdgCBOACAQ&sid=e12b90519bab632c3ffdcb360924a5c1&aid=304142&ucfs=1&arphpl=1&dest_id=97&dest_type=country&group_adults=2&req_adults=2&no_rooms=1&group_children=0&req_children=0&hpos=25&hapos=650&sr_order=popularity&srpvid=e74992fcebb600ae&srepoch=1646686553&from=searchresults#hotelTmpl': 28,\n",
       " 'https://www.booking.com/hotel/is/cja-guesthouse.zh-tw.html?label=gen173bo-1DCAEoggI46AdIMFgDaOcBiAEBmAEwuAEXyAEM2AED6AEB-AEDiAIBmAICqAIDuALMrZiRBsACAdICJDA4MWM3ODVkLWU3YjYtNGUwNC1hOGMzLWJiMzJhYjZlODBhNdgCBOACAQ&sid=e12b90519bab632c3ffdcb360924a5c1&aid=304142&ucfs=1&arphpl=1&dest_id=97&dest_type=country&group_adults=2&req_adults=2&no_rooms=1&group_children=0&req_children=0&hpos=1&hapos=651&sr_order=popularity&srpvid=e74992fcebb600ae&srepoch=1646686557&from_sustainable_property_sr=1&from=searchresults#hotelTmpl': 209,\n",
       " 'https://www.booking.com/hotel/is/sif-apartments-reykjavik.zh-tw.html?label=gen173bo-1DCAEoggI46AdIMFgDaOcBiAEBmAEwuAEXyAEM2AED6AEB-AEDiAIBmAICqAIDuALMrZiRBsACAdICJDA4MWM3ODVkLWU3YjYtNGUwNC1hOGMzLWJiMzJhYjZlODBhNdgCBOACAQ&sid=e12b90519bab632c3ffdcb360924a5c1&aid=304142&ucfs=1&arphpl=1&dest_id=97&dest_type=country&group_adults=2&req_adults=2&no_rooms=1&group_children=0&req_children=0&hpos=2&hapos=652&sr_order=popularity&srpvid=e74992fcebb600ae&srepoch=1646686557&from=searchresults#hotelTmpl': 751,\n",
       " 'https://www.booking.com/hotel/is/welcome-holiday-home.zh-tw.html?label=gen173bo-1DCAEoggI46AdIMFgDaOcBiAEBmAEwuAEXyAEM2AED6AEB-AEDiAIBmAICqAIDuALMrZiRBsACAdICJDA4MWM3ODVkLWU3YjYtNGUwNC1hOGMzLWJiMzJhYjZlODBhNdgCBOACAQ&sid=e12b90519bab632c3ffdcb360924a5c1&aid=304142&ucfs=1&arphpl=1&dest_id=97&dest_type=country&group_adults=2&req_adults=2&no_rooms=1&group_children=0&req_children=0&hpos=3&hapos=653&sr_order=popularity&srpvid=e74992fcebb600ae&srepoch=1646686557&from=searchresults#hotelTmpl': 380,\n",
       " 'https://www.booking.com/hotel/is/reynivellir.zh-tw.html?label=gen173bo-1DCAEoggI46AdIMFgDaOcBiAEBmAEwuAEXyAEM2AED6AEB-AEDiAIBmAICqAIDuALMrZiRBsACAdICJDA4MWM3ODVkLWU3YjYtNGUwNC1hOGMzLWJiMzJhYjZlODBhNdgCBOACAQ&sid=e12b90519bab632c3ffdcb360924a5c1&aid=304142&ucfs=1&arphpl=1&dest_id=97&dest_type=country&group_adults=2&req_adults=2&no_rooms=1&group_children=0&req_children=0&hpos=4&hapos=654&sr_order=popularity&srpvid=e74992fcebb600ae&srepoch=1646686557&from=searchresults#hotelTmpl': 533,\n",
       " 'https://www.booking.com/hotel/is/vik-hostel.zh-tw.html?label=gen173bo-1DCAEoggI46AdIMFgDaOcBiAEBmAEwuAEXyAEM2AED6AEB-AEDiAIBmAICqAIDuALMrZiRBsACAdICJDA4MWM3ODVkLWU3YjYtNGUwNC1hOGMzLWJiMzJhYjZlODBhNdgCBOACAQ&sid=e12b90519bab632c3ffdcb360924a5c1&aid=304142&ucfs=1&arphpl=1&dest_id=97&dest_type=country&group_adults=2&req_adults=2&no_rooms=1&group_children=0&req_children=0&hpos=5&hapos=655&sr_order=popularity&srpvid=e74992fcebb600ae&srepoch=1646686557&from=searchresults#hotelTmpl': 718,\n",
       " 'https://www.booking.com/hotel/is/bank-guesthouse-reykjanesbaer.zh-tw.html?label=gen173bo-1DCAEoggI46AdIMFgDaOcBiAEBmAEwuAEXyAEM2AED6AEB-AEDiAIBmAICqAIDuALMrZiRBsACAdICJDA4MWM3ODVkLWU3YjYtNGUwNC1hOGMzLWJiMzJhYjZlODBhNdgCBOACAQ&sid=e12b90519bab632c3ffdcb360924a5c1&aid=304142&ucfs=1&arphpl=1&dest_id=97&dest_type=country&group_adults=2&req_adults=2&no_rooms=1&group_children=0&req_children=0&hpos=6&hapos=656&sr_order=popularity&srpvid=e74992fcebb600ae&srepoch=1646686557&from=searchresults#hotelTmpl': 243,\n",
       " 'https://www.booking.com/hotel/is/hofn-cottages.zh-tw.html?label=gen173bo-1DCAEoggI46AdIMFgDaOcBiAEBmAEwuAEXyAEM2AED6AEB-AEDiAIBmAICqAIDuALMrZiRBsACAdICJDA4MWM3ODVkLWU3YjYtNGUwNC1hOGMzLWJiMzJhYjZlODBhNdgCBOACAQ&sid=e12b90519bab632c3ffdcb360924a5c1&aid=304142&ucfs=1&arphpl=1&dest_id=97&dest_type=country&group_adults=2&req_adults=2&no_rooms=1&group_children=0&req_children=0&hpos=7&hapos=657&sr_order=popularity&srpvid=e74992fcebb600ae&srepoch=1646686557&from=searchresults#hotelTmpl': 814,\n",
       " 'https://www.booking.com/hotel/is/north-star-apartments.zh-tw.html?label=gen173bo-1DCAEoggI46AdIMFgDaOcBiAEBmAEwuAEXyAEM2AED6AEB-AEDiAIBmAICqAIDuALMrZiRBsACAdICJDA4MWM3ODVkLWU3YjYtNGUwNC1hOGMzLWJiMzJhYjZlODBhNdgCBOACAQ&sid=e12b90519bab632c3ffdcb360924a5c1&aid=304142&ucfs=1&arphpl=1&dest_id=97&dest_type=country&group_adults=2&req_adults=2&no_rooms=1&group_children=0&req_children=0&hpos=8&hapos=658&sr_order=popularity&srpvid=e74992fcebb600ae&srepoch=1646686557&from=searchresults#hotelTmpl': 1682,\n",
       " 'https://www.booking.com/hotel/is/dimmuborgir-guesthouse.zh-tw.html?label=gen173bo-1DCAEoggI46AdIMFgDaOcBiAEBmAEwuAEXyAEM2AED6AEB-AEDiAIBmAICqAIDuALMrZiRBsACAdICJDA4MWM3ODVkLWU3YjYtNGUwNC1hOGMzLWJiMzJhYjZlODBhNdgCBOACAQ&sid=e12b90519bab632c3ffdcb360924a5c1&aid=304142&ucfs=1&arphpl=1&dest_id=97&dest_type=country&group_adults=2&req_adults=2&no_rooms=1&group_children=0&req_children=0&hpos=9&hapos=659&sr_order=popularity&srpvid=e74992fcebb600ae&srepoch=1646686557&from_sustainable_property_sr=1&from=searchresults#hotelTmpl': 998,\n",
       " 'https://www.booking.com/hotel/is/grund-i-grundarfirdi.zh-tw.html?label=gen173bo-1DCAEoggI46AdIMFgDaOcBiAEBmAEwuAEXyAEM2AED6AEB-AEDiAIBmAICqAIDuALMrZiRBsACAdICJDA4MWM3ODVkLWU3YjYtNGUwNC1hOGMzLWJiMzJhYjZlODBhNdgCBOACAQ&sid=e12b90519bab632c3ffdcb360924a5c1&aid=304142&ucfs=1&arphpl=1&dest_id=97&dest_type=country&group_adults=2&req_adults=2&no_rooms=1&group_children=0&req_children=0&hpos=10&hapos=660&sr_order=popularity&srpvid=e74992fcebb600ae&srepoch=1646686557&from=searchresults#hotelTmpl': 514,\n",
       " 'https://www.booking.com/hotel/is/fludir.zh-tw.html?label=gen173bo-1DCAEoggI46AdIMFgDaOcBiAEBmAEwuAEXyAEM2AED6AEB-AEDiAIBmAICqAIDuALMrZiRBsACAdICJDA4MWM3ODVkLWU3YjYtNGUwNC1hOGMzLWJiMzJhYjZlODBhNdgCBOACAQ&sid=e12b90519bab632c3ffdcb360924a5c1&aid=304142&ucfs=1&arphpl=1&dest_id=97&dest_type=country&group_adults=2&req_adults=2&no_rooms=1&group_children=0&req_children=0&hpos=11&hapos=661&sr_order=popularity&srpvid=e74992fcebb600ae&srepoch=1646686557&from_sustainable_property_sr=1&from=searchresults#hotelTmpl': 356,\n",
       " 'https://www.booking.com/hotel/is/nattura-yurtel.zh-tw.html?label=gen173bo-1DCAEoggI46AdIMFgDaOcBiAEBmAEwuAEXyAEM2AED6AEB-AEDiAIBmAICqAIDuALMrZiRBsACAdICJDA4MWM3ODVkLWU3YjYtNGUwNC1hOGMzLWJiMzJhYjZlODBhNdgCBOACAQ&sid=e12b90519bab632c3ffdcb360924a5c1&aid=304142&ucfs=1&arphpl=1&dest_id=97&dest_type=country&group_adults=2&req_adults=2&no_rooms=1&group_children=0&req_children=0&hpos=12&hapos=662&sr_order=popularity&srpvid=e74992fcebb600ae&srepoch=1646686557&from=searchresults#hotelTmpl': 359,\n",
       " 'https://www.booking.com/hotel/is/borg.zh-tw.html?label=gen173bo-1DCAEoggI46AdIMFgDaOcBiAEBmAEwuAEXyAEM2AED6AEB-AEDiAIBmAICqAIDuALMrZiRBsACAdICJDA4MWM3ODVkLWU3YjYtNGUwNC1hOGMzLWJiMzJhYjZlODBhNdgCBOACAQ&sid=e12b90519bab632c3ffdcb360924a5c1&aid=304142&ucfs=1&arphpl=1&dest_id=97&dest_type=country&group_adults=2&req_adults=2&no_rooms=1&group_children=0&req_children=0&hpos=13&hapos=663&sr_order=popularity&srpvid=e74992fcebb600ae&srepoch=1646686557&from=searchresults#hotelTmpl': 589,\n",
       " 'https://www.booking.com/hotel/is/haenuvik-rooms-and-cottages.zh-tw.html?label=gen173bo-1DCAEoggI46AdIMFgDaOcBiAEBmAEwuAEXyAEM2AED6AEB-AEDiAIBmAICqAIDuALMrZiRBsACAdICJDA4MWM3ODVkLWU3YjYtNGUwNC1hOGMzLWJiMzJhYjZlODBhNdgCBOACAQ&sid=e12b90519bab632c3ffdcb360924a5c1&aid=304142&ucfs=1&arphpl=1&dest_id=97&dest_type=country&group_adults=2&req_adults=2&no_rooms=1&group_children=0&req_children=0&hpos=14&hapos=664&sr_order=popularity&srpvid=e74992fcebb600ae&srepoch=1646686557&from_sustainable_property_sr=1&from=searchresults#hotelTmpl': 178,\n",
       " 'https://www.booking.com/hotel/is/husavik-green-hostel.zh-tw.html?label=gen173bo-1DCAEoggI46AdIMFgDaOcBiAEBmAEwuAEXyAEM2AED6AEB-AEDiAIBmAICqAIDuALMrZiRBsACAdICJDA4MWM3ODVkLWU3YjYtNGUwNC1hOGMzLWJiMzJhYjZlODBhNdgCBOACAQ&sid=e12b90519bab632c3ffdcb360924a5c1&aid=304142&ucfs=1&arphpl=1&dest_id=97&dest_type=country&group_adults=2&req_adults=2&no_rooms=1&group_children=0&req_children=0&hpos=15&hapos=665&sr_order=popularity&srpvid=e74992fcebb600ae&srepoch=1646686557&from_sustainable_property_sr=1&from=searchresults#hotelTmpl': 139,\n",
       " 'https://www.booking.com/hotel/is/north-star-cottage.zh-tw.html?label=gen173bo-1DCAEoggI46AdIMFgDaOcBiAEBmAEwuAEXyAEM2AED6AEB-AEDiAIBmAICqAIDuALMrZiRBsACAdICJDA4MWM3ODVkLWU3YjYtNGUwNC1hOGMzLWJiMzJhYjZlODBhNdgCBOACAQ&sid=e12b90519bab632c3ffdcb360924a5c1&aid=304142&ucfs=1&arphpl=1&dest_id=97&dest_type=country&group_adults=2&req_adults=2&no_rooms=1&group_children=0&req_children=0&hpos=16&hapos=666&sr_order=popularity&srpvid=e74992fcebb600ae&srepoch=1646686557&from=searchresults#hotelTmpl': 168,\n",
       " 'https://www.booking.com/hotel/is/armuli.zh-tw.html?label=gen173bo-1DCAEoggI46AdIMFgDaOcBiAEBmAEwuAEXyAEM2AED6AEB-AEDiAIBmAICqAIDuALMrZiRBsACAdICJDA4MWM3ODVkLWU3YjYtNGUwNC1hOGMzLWJiMzJhYjZlODBhNdgCBOACAQ&sid=e12b90519bab632c3ffdcb360924a5c1&aid=304142&ucfs=1&arphpl=1&dest_id=97&dest_type=country&group_adults=2&req_adults=2&no_rooms=1&group_children=0&req_children=0&hpos=17&hapos=667&sr_order=popularity&srpvid=e74992fcebb600ae&srepoch=1646686557&from=searchresults#hotelTmpl': 369,\n",
       " 'https://www.booking.com/hotel/is/cafa-c-arhaos-hellu.zh-tw.html?label=gen173bo-1DCAEoggI46AdIMFgDaOcBiAEBmAEwuAEXyAEM2AED6AEB-AEDiAIBmAICqAIDuALMrZiRBsACAdICJDA4MWM3ODVkLWU3YjYtNGUwNC1hOGMzLWJiMzJhYjZlODBhNdgCBOACAQ&sid=e12b90519bab632c3ffdcb360924a5c1&aid=304142&ucfs=1&arphpl=1&dest_id=97&dest_type=country&group_adults=2&req_adults=2&no_rooms=1&group_children=0&req_children=0&hpos=18&hapos=668&sr_order=popularity&srpvid=e74992fcebb600ae&srepoch=1646686557&from=searchresults#hotelTmpl': 1128,\n",
       " 'https://www.booking.com/hotel/is/hrimland-apartments.zh-tw.html?label=gen173bo-1DCAEoggI46AdIMFgDaOcBiAEBmAEwuAEXyAEM2AED6AEB-AEDiAIBmAICqAIDuALMrZiRBsACAdICJDA4MWM3ODVkLWU3YjYtNGUwNC1hOGMzLWJiMzJhYjZlODBhNdgCBOACAQ&sid=e12b90519bab632c3ffdcb360924a5c1&aid=304142&ucfs=1&arphpl=1&dest_id=97&dest_type=country&group_adults=2&req_adults=2&no_rooms=1&group_children=0&req_children=0&hpos=19&hapos=669&sr_order=popularity&srpvid=e74992fcebb600ae&srepoch=1646686557&from=searchresults#hotelTmpl': 439,\n",
       " 'https://www.booking.com/hotel/is/vik-cottages.zh-tw.html?label=gen173bo-1DCAEoggI46AdIMFgDaOcBiAEBmAEwuAEXyAEM2AED6AEB-AEDiAIBmAICqAIDuALMrZiRBsACAdICJDA4MWM3ODVkLWU3YjYtNGUwNC1hOGMzLWJiMzJhYjZlODBhNdgCBOACAQ&sid=e12b90519bab632c3ffdcb360924a5c1&aid=304142&ucfs=1&arphpl=1&dest_id=97&dest_type=country&group_adults=2&req_adults=2&no_rooms=1&group_children=0&req_children=0&hpos=20&hapos=670&sr_order=popularity&srpvid=e74992fcebb600ae&srepoch=1646686557&from=searchresults#hotelTmpl': 765,\n",
       " 'https://www.booking.com/hotel/is/jadar.zh-tw.html?label=gen173bo-1DCAEoggI46AdIMFgDaOcBiAEBmAEwuAEXyAEM2AED6AEB-AEDiAIBmAICqAIDuALMrZiRBsACAdICJDA4MWM3ODVkLWU3YjYtNGUwNC1hOGMzLWJiMzJhYjZlODBhNdgCBOACAQ&sid=e12b90519bab632c3ffdcb360924a5c1&aid=304142&ucfs=1&arphpl=1&dest_id=97&dest_type=country&group_adults=2&req_adults=2&no_rooms=1&group_children=0&req_children=0&hpos=21&hapos=671&sr_order=popularity&srpvid=e74992fcebb600ae&srepoch=1646686557&from=searchresults#hotelTmpl': 84,\n",
       " 'https://www.booking.com/hotel/is/solheimagerdi-guesthouse.zh-tw.html?label=gen173bo-1DCAEoggI46AdIMFgDaOcBiAEBmAEwuAEXyAEM2AED6AEB-AEDiAIBmAICqAIDuALMrZiRBsACAdICJDA4MWM3ODVkLWU3YjYtNGUwNC1hOGMzLWJiMzJhYjZlODBhNdgCBOACAQ&sid=e12b90519bab632c3ffdcb360924a5c1&aid=304142&ucfs=1&arphpl=1&dest_id=97&dest_type=country&group_adults=2&req_adults=2&no_rooms=1&group_children=0&req_children=0&hpos=22&hapos=672&sr_order=popularity&srpvid=e74992fcebb600ae&srepoch=1646686557&from=searchresults#hotelTmpl': 65,\n",
       " 'https://www.booking.com/hotel/is/akkeri-guesthouse.zh-tw.html?label=gen173bo-1DCAEoggI46AdIMFgDaOcBiAEBmAEwuAEXyAEM2AED6AEB-AEDiAIBmAICqAIDuALMrZiRBsACAdICJDA4MWM3ODVkLWU3YjYtNGUwNC1hOGMzLWJiMzJhYjZlODBhNdgCBOACAQ&sid=e12b90519bab632c3ffdcb360924a5c1&aid=304142&ucfs=1&arphpl=1&dest_id=97&dest_type=country&group_adults=2&req_adults=2&no_rooms=1&group_children=0&req_children=0&hpos=23&hapos=673&sr_order=popularity&srpvid=e74992fcebb600ae&srepoch=1646686557&from=searchresults#hotelTmpl': 771,\n",
       " 'https://www.booking.com/hotel/is/fosshotel-reykjavik.zh-tw.html?label=gen173bo-1DCAEoggI46AdIMFgDaOcBiAEBmAEwuAEXyAEM2AED6AEB-AEDiAIBmAICqAIDuALMrZiRBsACAdICJDA4MWM3ODVkLWU3YjYtNGUwNC1hOGMzLWJiMzJhYjZlODBhNdgCBOACAQ&sid=e12b90519bab632c3ffdcb360924a5c1&aid=304142&ucfs=1&arphpl=1&dest_id=97&dest_type=country&group_adults=2&req_adults=2&no_rooms=1&group_children=0&req_children=0&hpos=24&hapos=674&sr_order=popularity&srpvid=e74992fcebb600ae&srepoch=1646686557&from=searchresults#hotelTmpl': 756,\n",
       " 'https://www.booking.com/hotel/is/ranargata23.zh-tw.html?label=gen173bo-1DCAEoggI46AdIMFgDaOcBiAEBmAEwuAEXyAEM2AED6AEB-AEDiAIBmAICqAIDuALMrZiRBsACAdICJDA4MWM3ODVkLWU3YjYtNGUwNC1hOGMzLWJiMzJhYjZlODBhNdgCBOACAQ&sid=e12b90519bab632c3ffdcb360924a5c1&aid=304142&ucfs=1&arphpl=1&dest_id=97&dest_type=country&group_adults=2&req_adults=2&no_rooms=1&group_children=0&req_children=0&hpos=25&hapos=675&sr_order=popularity&srpvid=e74992fcebb600ae&srepoch=1646686557&from_sustainable_property_sr=1&from=searchresults#hotelTmpl': 72,\n",
       " 'https://www.booking.com/hotel/is/the-old-post-office.zh-tw.html?label=gen173bo-1DCAEoggI46AdIMFgDaOcBiAEBmAEwuAEXyAEM2AED6AEB-AEDiAIBmAICqAIDuALMrZiRBsACAdICJDA4MWM3ODVkLWU3YjYtNGUwNC1hOGMzLWJiMzJhYjZlODBhNdgCBOACAQ&sid=e12b90519bab632c3ffdcb360924a5c1&aid=304142&ucfs=1&arphpl=1&dest_id=97&dest_type=country&group_adults=2&req_adults=2&no_rooms=1&group_children=0&req_children=0&hpos=1&hapos=676&sr_order=popularity&srpvid=e74992fcebb600ae&srepoch=1646686561&from=searchresults#hotelTmpl': 429,\n",
       " 'https://www.booking.com/hotel/is/lindarbrekka.zh-tw.html?label=gen173bo-1DCAEoggI46AdIMFgDaOcBiAEBmAEwuAEXyAEM2AED6AEB-AEDiAIBmAICqAIDuALMrZiRBsACAdICJDA4MWM3ODVkLWU3YjYtNGUwNC1hOGMzLWJiMzJhYjZlODBhNdgCBOACAQ&sid=e12b90519bab632c3ffdcb360924a5c1&aid=304142&ucfs=1&arphpl=1&dest_id=97&dest_type=country&group_adults=2&req_adults=2&no_rooms=1&group_children=0&req_children=0&hpos=2&hapos=677&sr_order=popularity&srpvid=e74992fcebb600ae&srepoch=1646686561&from=searchresults#hotelTmpl': 273,\n",
       " 'https://www.booking.com/hotel/is/nefsholt.zh-tw.html?label=gen173bo-1DCAEoggI46AdIMFgDaOcBiAEBmAEwuAEXyAEM2AED6AEB-AEDiAIBmAICqAIDuALMrZiRBsACAdICJDA4MWM3ODVkLWU3YjYtNGUwNC1hOGMzLWJiMzJhYjZlODBhNdgCBOACAQ&sid=e12b90519bab632c3ffdcb360924a5c1&aid=304142&ucfs=1&arphpl=1&dest_id=97&dest_type=country&group_adults=2&req_adults=2&no_rooms=1&group_children=0&req_children=0&hpos=3&hapos=678&sr_order=popularity&srpvid=e74992fcebb600ae&srepoch=1646686561&from=searchresults#hotelTmpl': 145,\n",
       " 'https://www.booking.com/hotel/is/ok.zh-tw.html?label=gen173bo-1DCAEoggI46AdIMFgDaOcBiAEBmAEwuAEXyAEM2AED6AEB-AEDiAIBmAICqAIDuALMrZiRBsACAdICJDA4MWM3ODVkLWU3YjYtNGUwNC1hOGMzLWJiMzJhYjZlODBhNdgCBOACAQ&sid=e12b90519bab632c3ffdcb360924a5c1&aid=304142&ucfs=1&arphpl=1&dest_id=97&dest_type=country&group_adults=2&req_adults=2&no_rooms=1&group_children=0&req_children=0&hpos=4&hapos=679&sr_order=popularity&srpvid=e74992fcebb600ae&srepoch=1646686561&from=searchresults#hotelTmpl': 722,\n",
       " 'https://www.booking.com/hotel/is/baldursbra-apartment.zh-tw.html?label=gen173bo-1DCAEoggI46AdIMFgDaOcBiAEBmAEwuAEXyAEM2AED6AEB-AEDiAIBmAICqAIDuALMrZiRBsACAdICJDA4MWM3ODVkLWU3YjYtNGUwNC1hOGMzLWJiMzJhYjZlODBhNdgCBOACAQ&sid=e12b90519bab632c3ffdcb360924a5c1&aid=304142&ucfs=1&arphpl=1&dest_id=97&dest_type=country&group_adults=2&req_adults=2&no_rooms=1&group_children=0&req_children=0&hpos=5&hapos=680&sr_order=popularity&srpvid=e74992fcebb600ae&srepoch=1646686561&from=searchresults#hotelTmpl': 204,\n",
       " 'https://www.booking.com/hotel/is/the-garage.zh-tw.html?label=gen173bo-1DCAEoggI46AdIMFgDaOcBiAEBmAEwuAEXyAEM2AED6AEB-AEDiAIBmAICqAIDuALMrZiRBsACAdICJDA4MWM3ODVkLWU3YjYtNGUwNC1hOGMzLWJiMzJhYjZlODBhNdgCBOACAQ&sid=e12b90519bab632c3ffdcb360924a5c1&aid=304142&ucfs=1&arphpl=1&dest_id=97&dest_type=country&group_adults=2&req_adults=2&no_rooms=1&group_children=0&req_children=0&hpos=6&hapos=681&sr_order=popularity&srpvid=e74992fcebb600ae&srepoch=1646686561&from_sustainable_property_sr=1&from=searchresults#hotelTmpl': 784,\n",
       " 'https://www.booking.com/hotel/is/vogahraun-guesthouse.zh-tw.html?label=gen173bo-1DCAEoggI46AdIMFgDaOcBiAEBmAEwuAEXyAEM2AED6AEB-AEDiAIBmAICqAIDuALMrZiRBsACAdICJDA4MWM3ODVkLWU3YjYtNGUwNC1hOGMzLWJiMzJhYjZlODBhNdgCBOACAQ&sid=e12b90519bab632c3ffdcb360924a5c1&aid=304142&ucfs=1&arphpl=1&dest_id=97&dest_type=country&group_adults=2&req_adults=2&no_rooms=1&group_children=0&req_children=0&hpos=7&hapos=682&sr_order=popularity&srpvid=e74992fcebb600ae&srepoch=1646686561&from_sustainable_property_sr=1&from=searchresults#hotelTmpl': 1072,\n",
       " 'https://www.booking.com/hotel/is/skardheimar.zh-tw.html?label=gen173bo-1DCAEoggI46AdIMFgDaOcBiAEBmAEwuAEXyAEM2AED6AEB-AEDiAIBmAICqAIDuALMrZiRBsACAdICJDA4MWM3ODVkLWU3YjYtNGUwNC1hOGMzLWJiMzJhYjZlODBhNdgCBOACAQ&sid=e12b90519bab632c3ffdcb360924a5c1&aid=304142&ucfs=1&arphpl=1&dest_id=97&dest_type=country&group_adults=2&req_adults=2&no_rooms=1&group_children=0&req_children=0&hpos=8&hapos=683&sr_order=popularity&srpvid=e74992fcebb600ae&srepoch=1646686561&from_sustainable_property_sr=1&from=searchresults#hotelTmpl': 9,\n",
       " 'https://www.booking.com/hotel/is/private-and-peaceful-one-bedroom-apartments.zh-tw.html?label=gen173bo-1DCAEoggI46AdIMFgDaOcBiAEBmAEwuAEXyAEM2AED6AEB-AEDiAIBmAICqAIDuALMrZiRBsACAdICJDA4MWM3ODVkLWU3YjYtNGUwNC1hOGMzLWJiMzJhYjZlODBhNdgCBOACAQ&sid=e12b90519bab632c3ffdcb360924a5c1&aid=304142&ucfs=1&arphpl=1&dest_id=97&dest_type=country&group_adults=2&req_adults=2&no_rooms=1&group_children=0&req_children=0&hpos=9&hapos=684&sr_order=popularity&srpvid=e74992fcebb600ae&srepoch=1646686561&from=searchresults#hotelTmpl': 202,\n",
       " 'https://www.booking.com/hotel/is/sulur-apartment.zh-tw.html?label=gen173bo-1DCAEoggI46AdIMFgDaOcBiAEBmAEwuAEXyAEM2AED6AEB-AEDiAIBmAICqAIDuALMrZiRBsACAdICJDA4MWM3ODVkLWU3YjYtNGUwNC1hOGMzLWJiMzJhYjZlODBhNdgCBOACAQ&sid=e12b90519bab632c3ffdcb360924a5c1&aid=304142&ucfs=1&arphpl=1&dest_id=97&dest_type=country&group_adults=2&req_adults=2&no_rooms=1&group_children=0&req_children=0&hpos=10&hapos=685&sr_order=popularity&srpvid=e74992fcebb600ae&srepoch=1646686561&from_sustainable_property_sr=1&from=searchresults#hotelTmpl': 189,\n",
       " 'https://www.booking.com/hotel/is/heidi-guesthouse-selfoss.zh-tw.html?label=gen173bo-1DCAEoggI46AdIMFgDaOcBiAEBmAEwuAEXyAEM2AED6AEB-AEDiAIBmAICqAIDuALMrZiRBsACAdICJDA4MWM3ODVkLWU3YjYtNGUwNC1hOGMzLWJiMzJhYjZlODBhNdgCBOACAQ&sid=e12b90519bab632c3ffdcb360924a5c1&aid=304142&ucfs=1&arphpl=1&dest_id=97&dest_type=country&group_adults=2&req_adults=2&no_rooms=1&group_children=0&req_children=0&hpos=11&hapos=686&sr_order=popularity&srpvid=e74992fcebb600ae&srepoch=1646686561&from=searchresults#hotelTmpl': 96,\n",
       " 'https://www.booking.com/hotel/is/duus.zh-tw.html?label=gen173bo-1DCAEoggI46AdIMFgDaOcBiAEBmAEwuAEXyAEM2AED6AEB-AEDiAIBmAICqAIDuALMrZiRBsACAdICJDA4MWM3ODVkLWU3YjYtNGUwNC1hOGMzLWJiMzJhYjZlODBhNdgCBOACAQ&sid=e12b90519bab632c3ffdcb360924a5c1&aid=304142&ucfs=1&arphpl=1&dest_id=97&dest_type=country&group_adults=2&req_adults=2&no_rooms=1&group_children=0&req_children=0&hpos=12&hapos=687&sr_order=popularity&srpvid=e74992fcebb600ae&srepoch=1646686561&from=searchresults#hotelTmpl': 755,\n",
       " 'https://www.booking.com/hotel/is/eidhus-apartments.zh-tw.html?label=gen173bo-1DCAEoggI46AdIMFgDaOcBiAEBmAEwuAEXyAEM2AED6AEB-AEDiAIBmAICqAIDuALMrZiRBsACAdICJDA4MWM3ODVkLWU3YjYtNGUwNC1hOGMzLWJiMzJhYjZlODBhNdgCBOACAQ&sid=e12b90519bab632c3ffdcb360924a5c1&aid=304142&ucfs=1&arphpl=1&dest_id=97&dest_type=country&group_adults=2&req_adults=2&no_rooms=1&group_children=0&req_children=0&hpos=13&hapos=688&sr_order=popularity&srpvid=e74992fcebb600ae&srepoch=1646686561&from=searchresults#hotelTmpl': 120,\n",
       " 'https://www.booking.com/hotel/is/apotek.zh-tw.html?label=gen173bo-1DCAEoggI46AdIMFgDaOcBiAEBmAEwuAEXyAEM2AED6AEB-AEDiAIBmAICqAIDuALMrZiRBsACAdICJDA4MWM3ODVkLWU3YjYtNGUwNC1hOGMzLWJiMzJhYjZlODBhNdgCBOACAQ&sid=e12b90519bab632c3ffdcb360924a5c1&aid=304142&ucfs=1&arphpl=1&dest_id=97&dest_type=country&group_adults=2&req_adults=2&no_rooms=1&group_children=0&req_children=0&hpos=14&hapos=689&sr_order=popularity&srpvid=e74992fcebb600ae&srepoch=1646686561&from=searchresults#hotelTmpl': 357,\n",
       " 'https://www.booking.com/hotel/is/blue-house.zh-tw.html?label=gen173bo-1DCAEoggI46AdIMFgDaOcBiAEBmAEwuAEXyAEM2AED6AEB-AEDiAIBmAICqAIDuALMrZiRBsACAdICJDA4MWM3ODVkLWU3YjYtNGUwNC1hOGMzLWJiMzJhYjZlODBhNdgCBOACAQ&sid=e12b90519bab632c3ffdcb360924a5c1&aid=304142&ucfs=1&arphpl=1&dest_id=97&dest_type=country&group_adults=2&req_adults=2&no_rooms=1&group_children=0&req_children=0&hpos=15&hapos=690&sr_order=popularity&srpvid=e74992fcebb600ae&srepoch=1646686561&from_sustainable_property_sr=1&from=searchresults#hotelTmpl': 562,\n",
       " 'https://www.booking.com/hotel/is/farmhotel-efstidalur.zh-tw.html?label=gen173bo-1DCAEoggI46AdIMFgDaOcBiAEBmAEwuAEXyAEM2AED6AEB-AEDiAIBmAICqAIDuALMrZiRBsACAdICJDA4MWM3ODVkLWU3YjYtNGUwNC1hOGMzLWJiMzJhYjZlODBhNdgCBOACAQ&sid=e12b90519bab632c3ffdcb360924a5c1&aid=304142&ucfs=1&arphpl=1&dest_id=97&dest_type=country&group_adults=2&req_adults=2&no_rooms=1&group_children=0&req_children=0&hpos=16&hapos=691&sr_order=popularity&srpvid=e74992fcebb600ae&srepoch=1646686561&from=searchresults#hotelTmpl': 608,\n",
       " 'https://www.booking.com/hotel/is/borg-apartments.zh-tw.html?label=gen173bo-1DCAEoggI46AdIMFgDaOcBiAEBmAEwuAEXyAEM2AED6AEB-AEDiAIBmAICqAIDuALMrZiRBsACAdICJDA4MWM3ODVkLWU3YjYtNGUwNC1hOGMzLWJiMzJhYjZlODBhNdgCBOACAQ&sid=e12b90519bab632c3ffdcb360924a5c1&aid=304142&ucfs=1&arphpl=1&dest_id=97&dest_type=country&group_adults=2&req_adults=2&no_rooms=1&group_children=0&req_children=0&hpos=17&hapos=692&sr_order=popularity&srpvid=e74992fcebb600ae&srepoch=1646686561&from_sustainable_property_sr=1&from=searchresults#hotelTmpl': 620,\n",
       " 'https://www.booking.com/hotel/is/guesthouse-sunnuholl.zh-tw.html?label=gen173bo-1DCAEoggI46AdIMFgDaOcBiAEBmAEwuAEXyAEM2AED6AEB-AEDiAIBmAICqAIDuALMrZiRBsACAdICJDA4MWM3ODVkLWU3YjYtNGUwNC1hOGMzLWJiMzJhYjZlODBhNdgCBOACAQ&sid=e12b90519bab632c3ffdcb360924a5c1&aid=304142&ucfs=1&arphpl=1&dest_id=97&dest_type=country&group_adults=2&req_adults=2&no_rooms=1&group_children=0&req_children=0&hpos=18&hapos=693&sr_order=popularity&srpvid=e74992fcebb600ae&srepoch=1646686561&from=searchresults#hotelTmpl': 80,\n",
       " 'https://www.booking.com/hotel/is/lind.zh-tw.html?label=gen173bo-1DCAEoggI46AdIMFgDaOcBiAEBmAEwuAEXyAEM2AED6AEB-AEDiAIBmAICqAIDuALMrZiRBsACAdICJDA4MWM3ODVkLWU3YjYtNGUwNC1hOGMzLWJiMzJhYjZlODBhNdgCBOACAQ&sid=e12b90519bab632c3ffdcb360924a5c1&aid=304142&ucfs=1&arphpl=1&dest_id=97&dest_type=country&group_adults=2&req_adults=2&no_rooms=1&group_children=0&req_children=0&hpos=19&hapos=694&sr_order=popularity&srpvid=e74992fcebb600ae&srepoch=1646686561&from=searchresults#hotelTmpl': 329,\n",
       " 'https://www.booking.com/hotel/is/austurey-cottages.zh-tw.html?label=gen173bo-1DCAEoggI46AdIMFgDaOcBiAEBmAEwuAEXyAEM2AED6AEB-AEDiAIBmAICqAIDuALMrZiRBsACAdICJDA4MWM3ODVkLWU3YjYtNGUwNC1hOGMzLWJiMzJhYjZlODBhNdgCBOACAQ&sid=e12b90519bab632c3ffdcb360924a5c1&aid=304142&ucfs=1&arphpl=1&dest_id=97&dest_type=country&group_adults=2&req_adults=2&no_rooms=1&group_children=0&req_children=0&hpos=20&hapos=695&sr_order=popularity&srpvid=e74992fcebb600ae&srepoch=1646686561&from_sustainable_property_sr=1&from=searchresults#hotelTmpl': 496,\n",
       " 'https://www.booking.com/hotel/is/hofn.zh-tw.html?label=gen173bo-1DCAEoggI46AdIMFgDaOcBiAEBmAEwuAEXyAEM2AED6AEB-AEDiAIBmAICqAIDuALMrZiRBsACAdICJDA4MWM3ODVkLWU3YjYtNGUwNC1hOGMzLWJiMzJhYjZlODBhNdgCBOACAQ&sid=e12b90519bab632c3ffdcb360924a5c1&aid=304142&ucfs=1&arphpl=1&dest_id=97&dest_type=country&group_adults=2&req_adults=2&no_rooms=1&group_children=0&req_children=0&hpos=21&hapos=696&sr_order=popularity&srpvid=e74992fcebb600ae&srepoch=1646686561&from_sustainable_property_sr=1&from=searchresults#hotelTmpl': 1124,\n",
       " 'https://www.booking.com/hotel/is/vid-lonid.zh-tw.html?label=gen173bo-1DCAEoggI46AdIMFgDaOcBiAEBmAEwuAEXyAEM2AED6AEB-AEDiAIBmAICqAIDuALMrZiRBsACAdICJDA4MWM3ODVkLWU3YjYtNGUwNC1hOGMzLWJiMzJhYjZlODBhNdgCBOACAQ&sid=e12b90519bab632c3ffdcb360924a5c1&aid=304142&ucfs=1&arphpl=1&dest_id=97&dest_type=country&group_adults=2&req_adults=2&no_rooms=1&group_children=0&req_children=0&hpos=22&hapos=697&sr_order=popularity&srpvid=e74992fcebb600ae&srepoch=1646686561&from_sustainable_property_sr=1&from=searchresults#hotelTmpl': 574,\n",
       " 'https://www.booking.com/hotel/is/solbakki.zh-tw.html?label=gen173bo-1DCAEoggI46AdIMFgDaOcBiAEBmAEwuAEXyAEM2AED6AEB-AEDiAIBmAICqAIDuALMrZiRBsACAdICJDA4MWM3ODVkLWU3YjYtNGUwNC1hOGMzLWJiMzJhYjZlODBhNdgCBOACAQ&sid=e12b90519bab632c3ffdcb360924a5c1&aid=304142&ucfs=1&arphpl=1&dest_id=97&dest_type=country&group_adults=2&req_adults=2&no_rooms=1&group_children=0&req_children=0&hpos=23&hapos=698&sr_order=popularity&srpvid=e74992fcebb600ae&srepoch=1646686561&from=searchresults#hotelTmpl': 9,\n",
       " 'https://www.booking.com/hotel/is/lambhus-cabins.zh-tw.html?label=gen173bo-1DCAEoggI46AdIMFgDaOcBiAEBmAEwuAEXyAEM2AED6AEB-AEDiAIBmAICqAIDuALMrZiRBsACAdICJDA4MWM3ODVkLWU3YjYtNGUwNC1hOGMzLWJiMzJhYjZlODBhNdgCBOACAQ&sid=e12b90519bab632c3ffdcb360924a5c1&aid=304142&ucfs=1&arphpl=1&dest_id=97&dest_type=country&group_adults=2&req_adults=2&no_rooms=1&group_children=0&req_children=0&hpos=24&hapos=699&sr_order=popularity&srpvid=e74992fcebb600ae&srepoch=1646686561&from=searchresults#hotelTmpl': 240,\n",
       " 'https://www.booking.com/hotel/is/vinland-guesthouse-egilsstadir.zh-tw.html?label=gen173bo-1DCAEoggI46AdIMFgDaOcBiAEBmAEwuAEXyAEM2AED6AEB-AEDiAIBmAICqAIDuALMrZiRBsACAdICJDA4MWM3ODVkLWU3YjYtNGUwNC1hOGMzLWJiMzJhYjZlODBhNdgCBOACAQ&sid=e12b90519bab632c3ffdcb360924a5c1&aid=304142&ucfs=1&arphpl=1&dest_id=97&dest_type=country&group_adults=2&req_adults=2&no_rooms=1&group_children=0&req_children=0&hpos=25&hapos=700&sr_order=popularity&srpvid=e74992fcebb600ae&srepoch=1646686561&from=searchresults#hotelTmpl': 460,\n",
       " 'https://www.booking.com/hotel/is/apotek-guesthouse.zh-tw.html?label=gen173bo-1DCAEoggI46AdIMFgDaOcBiAEBmAEwuAEXyAEM2AED6AEB-AEDiAIBmAICqAIDuALMrZiRBsACAdICJDA4MWM3ODVkLWU3YjYtNGUwNC1hOGMzLWJiMzJhYjZlODBhNdgCBOACAQ&sid=e12b90519bab632c3ffdcb360924a5c1&aid=304142&ucfs=1&arphpl=1&dest_id=97&dest_type=country&group_adults=2&req_adults=2&no_rooms=1&group_children=0&req_children=0&hpos=1&hapos=701&sr_order=popularity&srpvid=e74992fcebb600ae&srepoch=1646686564&from=searchresults#hotelTmpl': 1177,\n",
       " 'https://www.booking.com/hotel/is/bikers-paradise.zh-tw.html?label=gen173bo-1DCAEoggI46AdIMFgDaOcBiAEBmAEwuAEXyAEM2AED6AEB-AEDiAIBmAICqAIDuALMrZiRBsACAdICJDA4MWM3ODVkLWU3YjYtNGUwNC1hOGMzLWJiMzJhYjZlODBhNdgCBOACAQ&sid=e12b90519bab632c3ffdcb360924a5c1&aid=304142&ucfs=1&arphpl=1&dest_id=97&dest_type=country&group_adults=2&req_adults=2&no_rooms=1&group_children=0&req_children=0&hpos=2&hapos=702&sr_order=popularity&srpvid=e74992fcebb600ae&srepoch=1646686564&from=searchresults#hotelTmpl': 415,\n",
       " 'https://www.booking.com/hotel/is/a-bernhard-bed-and-breakfast.zh-tw.html?label=gen173bo-1DCAEoggI46AdIMFgDaOcBiAEBmAEwuAEXyAEM2AED6AEB-AEDiAIBmAICqAIDuALMrZiRBsACAdICJDA4MWM3ODVkLWU3YjYtNGUwNC1hOGMzLWJiMzJhYjZlODBhNdgCBOACAQ&sid=e12b90519bab632c3ffdcb360924a5c1&aid=304142&ucfs=1&arphpl=1&dest_id=97&dest_type=country&group_adults=2&req_adults=2&no_rooms=1&group_children=0&req_children=0&hpos=3&hapos=703&sr_order=popularity&srpvid=e74992fcebb600ae&srepoch=1646686564&from=searchresults#hotelTmpl': 660,\n",
       " 'https://www.booking.com/hotel/is/fljotasel.zh-tw.html?label=gen173bo-1DCAEoggI46AdIMFgDaOcBiAEBmAEwuAEXyAEM2AED6AEB-AEDiAIBmAICqAIDuALMrZiRBsACAdICJDA4MWM3ODVkLWU3YjYtNGUwNC1hOGMzLWJiMzJhYjZlODBhNdgCBOACAQ&sid=e12b90519bab632c3ffdcb360924a5c1&aid=304142&ucfs=1&arphpl=1&dest_id=97&dest_type=country&group_adults=2&req_adults=2&no_rooms=1&group_children=0&req_children=0&hpos=4&hapos=704&sr_order=popularity&srpvid=e74992fcebb600ae&srepoch=1646686564&from=searchresults#hotelTmpl': 202,\n",
       " 'https://www.booking.com/hotel/is/country-hofdabrekka.zh-tw.html?label=gen173bo-1DCAEoggI46AdIMFgDaOcBiAEBmAEwuAEXyAEM2AED6AEB-AEDiAIBmAICqAIDuALMrZiRBsACAdICJDA4MWM3ODVkLWU3YjYtNGUwNC1hOGMzLWJiMzJhYjZlODBhNdgCBOACAQ&sid=e12b90519bab632c3ffdcb360924a5c1&aid=304142&ucfs=1&arphpl=1&dest_id=97&dest_type=country&group_adults=2&req_adults=2&no_rooms=1&group_children=0&req_children=0&hpos=5&hapos=705&sr_order=popularity&srpvid=e74992fcebb600ae&srepoch=1646686564&from_sustainable_property_sr=1&from=searchresults#hotelTmpl': 1839,\n",
       " 'https://www.booking.com/hotel/is/harbour-cottages-grindavik.zh-tw.html?label=gen173bo-1DCAEoggI46AdIMFgDaOcBiAEBmAEwuAEXyAEM2AED6AEB-AEDiAIBmAICqAIDuALMrZiRBsACAdICJDA4MWM3ODVkLWU3YjYtNGUwNC1hOGMzLWJiMzJhYjZlODBhNdgCBOACAQ&sid=e12b90519bab632c3ffdcb360924a5c1&aid=304142&ucfs=1&arphpl=1&dest_id=97&dest_type=country&group_adults=2&req_adults=2&no_rooms=1&group_children=0&req_children=0&hpos=6&hapos=706&sr_order=popularity&srpvid=e74992fcebb600ae&srepoch=1646686564&from=searchresults#hotelTmpl': 833,\n",
       " 'https://www.booking.com/hotel/is/lava-guesthouse.zh-tw.html?label=gen173bo-1DCAEoggI46AdIMFgDaOcBiAEBmAEwuAEXyAEM2AED6AEB-AEDiAIBmAICqAIDuALMrZiRBsACAdICJDA4MWM3ODVkLWU3YjYtNGUwNC1hOGMzLWJiMzJhYjZlODBhNdgCBOACAQ&sid=e12b90519bab632c3ffdcb360924a5c1&aid=304142&ucfs=1&arphpl=1&dest_id=97&dest_type=country&group_adults=2&req_adults=2&no_rooms=1&group_children=0&req_children=0&hpos=7&hapos=707&sr_order=popularity&srpvid=e74992fcebb600ae&srepoch=1646686564&from=searchresults#hotelTmpl': 322,\n",
       " 'https://www.booking.com/hotel/is/guesthouse-akureyri.zh-tw.html?label=gen173bo-1DCAEoggI46AdIMFgDaOcBiAEBmAEwuAEXyAEM2AED6AEB-AEDiAIBmAICqAIDuALMrZiRBsACAdICJDA4MWM3ODVkLWU3YjYtNGUwNC1hOGMzLWJiMzJhYjZlODBhNdgCBOACAQ&sid=e12b90519bab632c3ffdcb360924a5c1&aid=304142&ucfs=1&arphpl=1&dest_id=97&dest_type=country&group_adults=2&req_adults=2&no_rooms=1&group_children=0&req_children=0&hpos=8&hapos=708&sr_order=popularity&srpvid=e74992fcebb600ae&srepoch=1646686564&from_sustainable_property_sr=1&from=searchresults#hotelTmpl': 416,\n",
       " 'https://www.booking.com/hotel/is/saltvik-farm-guesthouse.zh-tw.html?label=gen173bo-1DCAEoggI46AdIMFgDaOcBiAEBmAEwuAEXyAEM2AED6AEB-AEDiAIBmAICqAIDuALMrZiRBsACAdICJDA4MWM3ODVkLWU3YjYtNGUwNC1hOGMzLWJiMzJhYjZlODBhNdgCBOACAQ&sid=e12b90519bab632c3ffdcb360924a5c1&aid=304142&ucfs=1&arphpl=1&dest_id=97&dest_type=country&group_adults=2&req_adults=2&no_rooms=1&group_children=0&req_children=0&hpos=9&hapos=709&sr_order=popularity&srpvid=e74992fcebb600ae&srepoch=1646686564&from=searchresults#hotelTmpl': 194,\n",
       " 'https://www.booking.com/hotel/is/millhouse-river-front.zh-tw.html?label=gen173bo-1DCAEoggI46AdIMFgDaOcBiAEBmAEwuAEXyAEM2AED6AEB-AEDiAIBmAICqAIDuALMrZiRBsACAdICJDA4MWM3ODVkLWU3YjYtNGUwNC1hOGMzLWJiMzJhYjZlODBhNdgCBOACAQ&sid=e12b90519bab632c3ffdcb360924a5c1&aid=304142&ucfs=1&arphpl=1&dest_id=97&dest_type=country&group_adults=2&req_adults=2&no_rooms=1&group_children=0&req_children=0&hpos=10&hapos=710&sr_order=popularity&srpvid=e74992fcebb600ae&srepoch=1646686564&from=searchresults#hotelTmpl': 52,\n",
       " 'https://www.booking.com/hotel/is/hamrahlid-9.zh-tw.html?label=gen173bo-1DCAEoggI46AdIMFgDaOcBiAEBmAEwuAEXyAEM2AED6AEB-AEDiAIBmAICqAIDuALMrZiRBsACAdICJDA4MWM3ODVkLWU3YjYtNGUwNC1hOGMzLWJiMzJhYjZlODBhNdgCBOACAQ&sid=e12b90519bab632c3ffdcb360924a5c1&aid=304142&ucfs=1&arphpl=1&dest_id=97&dest_type=country&group_adults=2&req_adults=2&no_rooms=1&group_children=0&req_children=0&hpos=11&hapos=711&sr_order=popularity&srpvid=e74992fcebb600ae&srepoch=1646686564&from_sustainable_property_sr=1&from=searchresults#hotelTmpl': 211,\n",
       " 'https://www.booking.com/hotel/is/north-star-guesthouse-olafsvik.zh-tw.html?label=gen173bo-1DCAEoggI46AdIMFgDaOcBiAEBmAEwuAEXyAEM2AED6AEB-AEDiAIBmAICqAIDuALMrZiRBsACAdICJDA4MWM3ODVkLWU3YjYtNGUwNC1hOGMzLWJiMzJhYjZlODBhNdgCBOACAQ&sid=e12b90519bab632c3ffdcb360924a5c1&aid=304142&ucfs=1&arphpl=1&dest_id=97&dest_type=country&group_adults=2&req_adults=2&no_rooms=1&group_children=0&req_children=0&hpos=12&hapos=712&sr_order=popularity&srpvid=e74992fcebb600ae&srepoch=1646686564&from=searchresults#hotelTmpl': 415,\n",
       " 'https://www.booking.com/hotel/is/boutique-by-the-harbour-apartments-akureyri.zh-tw.html?label=gen173bo-1DCAEoggI46AdIMFgDaOcBiAEBmAEwuAEXyAEM2AED6AEB-AEDiAIBmAICqAIDuALMrZiRBsACAdICJDA4MWM3ODVkLWU3YjYtNGUwNC1hOGMzLWJiMzJhYjZlODBhNdgCBOACAQ&sid=e12b90519bab632c3ffdcb360924a5c1&aid=304142&ucfs=1&arphpl=1&dest_id=97&dest_type=country&group_adults=2&req_adults=2&no_rooms=1&group_children=0&req_children=0&hpos=13&hapos=713&sr_order=popularity&srpvid=e74992fcebb600ae&srepoch=1646686564&from=searchresults#hotelTmpl': 8,\n",
       " 'https://www.booking.com/hotel/is/guesthouse-henia-bed-amp-spas.zh-tw.html?label=gen173bo-1DCAEoggI46AdIMFgDaOcBiAEBmAEwuAEXyAEM2AED6AEB-AEDiAIBmAICqAIDuALMrZiRBsACAdICJDA4MWM3ODVkLWU3YjYtNGUwNC1hOGMzLWJiMzJhYjZlODBhNdgCBOACAQ&sid=e12b90519bab632c3ffdcb360924a5c1&aid=304142&ucfs=1&arphpl=1&dest_id=97&dest_type=country&group_adults=2&req_adults=2&no_rooms=1&group_children=0&req_children=0&hpos=14&hapos=714&sr_order=popularity&srpvid=e74992fcebb600ae&srepoch=1646686564&from=searchresults#hotelTmpl': 51,\n",
       " 'https://www.booking.com/hotel/is/blue-luxury-apartments.zh-tw.html?label=gen173bo-1DCAEoggI46AdIMFgDaOcBiAEBmAEwuAEXyAEM2AED6AEB-AEDiAIBmAICqAIDuALMrZiRBsACAdICJDA4MWM3ODVkLWU3YjYtNGUwNC1hOGMzLWJiMzJhYjZlODBhNdgCBOACAQ&sid=e12b90519bab632c3ffdcb360924a5c1&aid=304142&ucfs=1&arphpl=1&dest_id=97&dest_type=country&group_adults=2&req_adults=2&no_rooms=1&group_children=0&req_children=0&hpos=15&hapos=715&sr_order=popularity&srpvid=e74992fcebb600ae&srepoch=1646686564&from=searchresults#hotelTmpl': 617,\n",
       " 'https://www.booking.com/hotel/is/hvammur-2-guesthouse.zh-tw.html?label=gen173bo-1DCAEoggI46AdIMFgDaOcBiAEBmAEwuAEXyAEM2AED6AEB-AEDiAIBmAICqAIDuALMrZiRBsACAdICJDA4MWM3ODVkLWU3YjYtNGUwNC1hOGMzLWJiMzJhYjZlODBhNdgCBOACAQ&sid=e12b90519bab632c3ffdcb360924a5c1&aid=304142&ucfs=1&arphpl=1&dest_id=97&dest_type=country&group_adults=2&req_adults=2&no_rooms=1&group_children=0&req_children=0&hpos=16&hapos=716&sr_order=popularity&srpvid=e74992fcebb600ae&srepoch=1646686564&from=searchresults#hotelTmpl': 209,\n",
       " 'https://www.booking.com/hotel/is/skorrahestar-guesthouse.zh-tw.html?label=gen173bo-1DCAEoggI46AdIMFgDaOcBiAEBmAEwuAEXyAEM2AED6AEB-AEDiAIBmAICqAIDuALMrZiRBsACAdICJDA4MWM3ODVkLWU3YjYtNGUwNC1hOGMzLWJiMzJhYjZlODBhNdgCBOACAQ&sid=e12b90519bab632c3ffdcb360924a5c1&aid=304142&ucfs=1&arphpl=1&dest_id=97&dest_type=country&group_adults=2&req_adults=2&no_rooms=1&group_children=0&req_children=0&hpos=17&hapos=717&sr_order=popularity&srpvid=e74992fcebb600ae&srepoch=1646686564&from=searchresults#hotelTmpl': 167,\n",
       " 'https://www.booking.com/hotel/is/hvammur-hrakholar-with-a-private-hot-tub.zh-tw.html?label=gen173bo-1DCAEoggI46AdIMFgDaOcBiAEBmAEwuAEXyAEM2AED6AEB-AEDiAIBmAICqAIDuALMrZiRBsACAdICJDA4MWM3ODVkLWU3YjYtNGUwNC1hOGMzLWJiMzJhYjZlODBhNdgCBOACAQ&sid=e12b90519bab632c3ffdcb360924a5c1&aid=304142&ucfs=1&arphpl=1&dest_id=97&dest_type=country&group_adults=2&req_adults=2&no_rooms=1&group_children=0&req_children=0&hpos=18&hapos=718&sr_order=popularity&srpvid=e74992fcebb600ae&srepoch=1646686564&from=searchresults#hotelTmpl': 120,\n",
       " 'https://www.booking.com/hotel/is/blue-view-cabin-5a.zh-tw.html?label=gen173bo-1DCAEoggI46AdIMFgDaOcBiAEBmAEwuAEXyAEM2AED6AEB-AEDiAIBmAICqAIDuALMrZiRBsACAdICJDA4MWM3ODVkLWU3YjYtNGUwNC1hOGMzLWJiMzJhYjZlODBhNdgCBOACAQ&sid=e12b90519bab632c3ffdcb360924a5c1&aid=304142&ucfs=1&arphpl=1&dest_id=97&dest_type=country&group_adults=2&req_adults=2&no_rooms=1&group_children=0&req_children=0&hpos=19&hapos=719&sr_order=popularity&srpvid=e74992fcebb600ae&srepoch=1646686564&from=searchresults#hotelTmpl': 74,\n",
       " 'https://www.booking.com/hotel/is/guesthouse-brenna.zh-tw.html?label=gen173bo-1DCAEoggI46AdIMFgDaOcBiAEBmAEwuAEXyAEM2AED6AEB-AEDiAIBmAICqAIDuALMrZiRBsACAdICJDA4MWM3ODVkLWU3YjYtNGUwNC1hOGMzLWJiMzJhYjZlODBhNdgCBOACAQ&sid=e12b90519bab632c3ffdcb360924a5c1&aid=304142&ucfs=1&arphpl=1&dest_id=97&dest_type=country&group_adults=2&req_adults=2&no_rooms=1&group_children=0&req_children=0&hpos=20&hapos=720&sr_order=popularity&srpvid=e74992fcebb600ae&srepoch=1646686564&from=searchresults#hotelTmpl': 452,\n",
       " 'https://www.booking.com/hotel/is/steinaskjol-apartment.zh-tw.html?label=gen173bo-1DCAEoggI46AdIMFgDaOcBiAEBmAEwuAEXyAEM2AED6AEB-AEDiAIBmAICqAIDuALMrZiRBsACAdICJDA4MWM3ODVkLWU3YjYtNGUwNC1hOGMzLWJiMzJhYjZlODBhNdgCBOACAQ&sid=e12b90519bab632c3ffdcb360924a5c1&aid=304142&ucfs=1&arphpl=1&dest_id=97&dest_type=country&group_adults=2&req_adults=2&no_rooms=1&group_children=0&req_children=0&hpos=21&hapos=721&sr_order=popularity&srpvid=e74992fcebb600ae&srepoch=1646686564&from=searchresults#hotelTmpl': 284,\n",
       " 'https://www.booking.com/hotel/is/skipala-kur-guesthouse.zh-tw.html?label=gen173bo-1DCAEoggI46AdIMFgDaOcBiAEBmAEwuAEXyAEM2AED6AEB-AEDiAIBmAICqAIDuALMrZiRBsACAdICJDA4MWM3ODVkLWU3YjYtNGUwNC1hOGMzLWJiMzJhYjZlODBhNdgCBOACAQ&sid=e12b90519bab632c3ffdcb360924a5c1&aid=304142&ucfs=1&arphpl=1&dest_id=97&dest_type=country&group_adults=2&req_adults=2&no_rooms=1&group_children=0&req_children=0&hpos=22&hapos=722&sr_order=popularity&srpvid=e74992fcebb600ae&srepoch=1646686564&from=searchresults#hotelTmpl': 307,\n",
       " 'https://www.booking.com/hotel/is/reykjavik-lights.zh-tw.html?label=gen173bo-1DCAEoggI46AdIMFgDaOcBiAEBmAEwuAEXyAEM2AED6AEB-AEDiAIBmAICqAIDuALMrZiRBsACAdICJDA4MWM3ODVkLWU3YjYtNGUwNC1hOGMzLWJiMzJhYjZlODBhNdgCBOACAQ&sid=e12b90519bab632c3ffdcb360924a5c1&aid=304142&ucfs=1&arphpl=1&dest_id=97&dest_type=country&group_adults=2&req_adults=2&no_rooms=1&group_children=0&req_children=0&hpos=23&hapos=723&sr_order=popularity&srpvid=e74992fcebb600ae&srepoch=1646686564&from=searchresults#hotelTmpl': 587,\n",
       " 'https://www.booking.com/hotel/is/guesthouse-hvita-husid.zh-tw.html?label=gen173bo-1DCAEoggI46AdIMFgDaOcBiAEBmAEwuAEXyAEM2AED6AEB-AEDiAIBmAICqAIDuALMrZiRBsACAdICJDA4MWM3ODVkLWU3YjYtNGUwNC1hOGMzLWJiMzJhYjZlODBhNdgCBOACAQ&sid=e12b90519bab632c3ffdcb360924a5c1&aid=304142&ucfs=1&arphpl=1&dest_id=97&dest_type=country&group_adults=2&req_adults=2&no_rooms=1&group_children=0&req_children=0&hpos=24&hapos=724&sr_order=popularity&srpvid=e74992fcebb600ae&srepoch=1646686564&from=searchresults#hotelTmpl': 102,\n",
       " 'https://www.booking.com/hotel/is/hvammur-4-with-private-hot-tub-fagurgali.zh-tw.html?label=gen173bo-1DCAEoggI46AdIMFgDaOcBiAEBmAEwuAEXyAEM2AED6AEB-AEDiAIBmAICqAIDuALMrZiRBsACAdICJDA4MWM3ODVkLWU3YjYtNGUwNC1hOGMzLWJiMzJhYjZlODBhNdgCBOACAQ&sid=e12b90519bab632c3ffdcb360924a5c1&aid=304142&ucfs=1&arphpl=1&dest_id=97&dest_type=country&group_adults=2&req_adults=2&no_rooms=1&group_children=0&req_children=0&hpos=25&hapos=725&sr_order=popularity&srpvid=e74992fcebb600ae&srepoch=1646686564&from=searchresults#hotelTmpl': 55,\n",
       " 'https://www.booking.com/hotel/is/gistiheimilid-petursborg.zh-tw.html?label=gen173bo-1DCAEoggI46AdIMFgDaOcBiAEBmAEwuAEXyAEM2AED6AEB-AEDiAIBmAICqAIDuALMrZiRBsACAdICJDA4MWM3ODVkLWU3YjYtNGUwNC1hOGMzLWJiMzJhYjZlODBhNdgCBOACAQ&sid=e12b90519bab632c3ffdcb360924a5c1&aid=304142&ucfs=1&arphpl=1&dest_id=97&dest_type=country&group_adults=2&req_adults=2&no_rooms=1&group_children=0&req_children=0&hpos=1&hapos=726&sr_order=popularity&srpvid=e74992fcebb600ae&srepoch=1646686569&from=searchresults#hotelTmpl': 192,\n",
       " 'https://www.booking.com/hotel/is/aska-apartment.zh-tw.html?label=gen173bo-1DCAEoggI46AdIMFgDaOcBiAEBmAEwuAEXyAEM2AED6AEB-AEDiAIBmAICqAIDuALMrZiRBsACAdICJDA4MWM3ODVkLWU3YjYtNGUwNC1hOGMzLWJiMzJhYjZlODBhNdgCBOACAQ&sid=e12b90519bab632c3ffdcb360924a5c1&aid=304142&ucfs=1&arphpl=1&dest_id=97&dest_type=country&group_adults=2&req_adults=2&no_rooms=1&group_children=0&req_children=0&hpos=2&hapos=727&sr_order=popularity&srpvid=e74992fcebb600ae&srepoch=1646686569&from=searchresults#hotelTmpl': 113,\n",
       " 'https://www.booking.com/hotel/is/guesthouse-hvitafell.zh-tw.html?label=gen173bo-1DCAEoggI46AdIMFgDaOcBiAEBmAEwuAEXyAEM2AED6AEB-AEDiAIBmAICqAIDuALMrZiRBsACAdICJDA4MWM3ODVkLWU3YjYtNGUwNC1hOGMzLWJiMzJhYjZlODBhNdgCBOACAQ&sid=e12b90519bab632c3ffdcb360924a5c1&aid=304142&ucfs=1&arphpl=1&dest_id=97&dest_type=country&group_adults=2&req_adults=2&no_rooms=1&group_children=0&req_children=0&hpos=3&hapos=728&sr_order=popularity&srpvid=e74992fcebb600ae&srepoch=1646686569&from=searchresults#hotelTmpl': 140,\n",
       " 'https://www.booking.com/hotel/is/arngrimslundur-fludir.zh-tw.html?label=gen173bo-1DCAEoggI46AdIMFgDaOcBiAEBmAEwuAEXyAEM2AED6AEB-AEDiAIBmAICqAIDuALMrZiRBsACAdICJDA4MWM3ODVkLWU3YjYtNGUwNC1hOGMzLWJiMzJhYjZlODBhNdgCBOACAQ&sid=e12b90519bab632c3ffdcb360924a5c1&aid=304142&ucfs=1&arphpl=1&dest_id=97&dest_type=country&group_adults=2&req_adults=2&no_rooms=1&group_children=0&req_children=0&hpos=4&hapos=729&sr_order=popularity&srpvid=e74992fcebb600ae&srepoch=1646686569&from=searchresults#hotelTmpl': 292,\n",
       " 'https://www.booking.com/hotel/is/welcome-hvammstangi.zh-tw.html?label=gen173bo-1DCAEoggI46AdIMFgDaOcBiAEBmAEwuAEXyAEM2AED6AEB-AEDiAIBmAICqAIDuALMrZiRBsACAdICJDA4MWM3ODVkLWU3YjYtNGUwNC1hOGMzLWJiMzJhYjZlODBhNdgCBOACAQ&sid=e12b90519bab632c3ffdcb360924a5c1&aid=304142&ucfs=1&arphpl=1&dest_id=97&dest_type=country&group_adults=2&req_adults=2&no_rooms=1&group_children=0&req_children=0&hpos=5&hapos=730&sr_order=popularity&srpvid=e74992fcebb600ae&srepoch=1646686569&from=searchresults#hotelTmpl': 421,\n",
       " 'https://www.booking.com/hotel/is/stykkisholmur.zh-tw.html?label=gen173bo-1DCAEoggI46AdIMFgDaOcBiAEBmAEwuAEXyAEM2AED6AEB-AEDiAIBmAICqAIDuALMrZiRBsACAdICJDA4MWM3ODVkLWU3YjYtNGUwNC1hOGMzLWJiMzJhYjZlODBhNdgCBOACAQ&sid=e12b90519bab632c3ffdcb360924a5c1&aid=304142&ucfs=1&arphpl=1&dest_id=97&dest_type=country&group_adults=2&req_adults=2&no_rooms=1&group_children=0&req_children=0&hpos=6&hapos=731&sr_order=popularity&srpvid=e74992fcebb600ae&srepoch=1646686569&from=searchresults#hotelTmpl': 333,\n",
       " 'https://www.booking.com/hotel/is/ulfarsfellsvegur-20-rvk.zh-tw.html?label=gen173bo-1DCAEoggI46AdIMFgDaOcBiAEBmAEwuAEXyAEM2AED6AEB-AEDiAIBmAICqAIDuALMrZiRBsACAdICJDA4MWM3ODVkLWU3YjYtNGUwNC1hOGMzLWJiMzJhYjZlODBhNdgCBOACAQ&sid=e12b90519bab632c3ffdcb360924a5c1&aid=304142&ucfs=1&arphpl=1&dest_id=97&dest_type=country&group_adults=2&req_adults=2&no_rooms=1&group_children=0&req_children=0&hpos=7&hapos=732&sr_order=popularity&srpvid=e74992fcebb600ae&srepoch=1646686569&from=searchresults#hotelTmpl': 63,\n",
       " 'https://www.booking.com/hotel/is/langholt-holiday-home.zh-tw.html?label=gen173bo-1DCAEoggI46AdIMFgDaOcBiAEBmAEwuAEXyAEM2AED6AEB-AEDiAIBmAICqAIDuALMrZiRBsACAdICJDA4MWM3ODVkLWU3YjYtNGUwNC1hOGMzLWJiMzJhYjZlODBhNdgCBOACAQ&sid=e12b90519bab632c3ffdcb360924a5c1&aid=304142&ucfs=1&arphpl=1&dest_id=97&dest_type=country&group_adults=2&req_adults=2&no_rooms=1&group_children=0&req_children=0&hpos=8&hapos=733&sr_order=popularity&srpvid=e74992fcebb600ae&srepoch=1646686569&from=searchresults#hotelTmpl': 504,\n",
       " 'https://www.booking.com/hotel/is/ondolfsstadir-b-amp-b.zh-tw.html?label=gen173bo-1DCAEoggI46AdIMFgDaOcBiAEBmAEwuAEXyAEM2AED6AEB-AEDiAIBmAICqAIDuALMrZiRBsACAdICJDA4MWM3ODVkLWU3YjYtNGUwNC1hOGMzLWJiMzJhYjZlODBhNdgCBOACAQ&sid=e12b90519bab632c3ffdcb360924a5c1&aid=304142&ucfs=1&arphpl=1&dest_id=97&dest_type=country&group_adults=2&req_adults=2&no_rooms=1&group_children=0&req_children=0&hpos=9&hapos=734&sr_order=popularity&srpvid=e74992fcebb600ae&srepoch=1646686569&from_sustainable_property_sr=1&from=searchresults#hotelTmpl': 314,\n",
       " 'https://www.booking.com/hotel/is/elda-guesthouse.zh-tw.html?label=gen173bo-1DCAEoggI46AdIMFgDaOcBiAEBmAEwuAEXyAEM2AED6AEB-AEDiAIBmAICqAIDuALMrZiRBsACAdICJDA4MWM3ODVkLWU3YjYtNGUwNC1hOGMzLWJiMzJhYjZlODBhNdgCBOACAQ&sid=e12b90519bab632c3ffdcb360924a5c1&aid=304142&ucfs=1&arphpl=1&dest_id=97&dest_type=country&group_adults=2&req_adults=2&no_rooms=1&group_children=0&req_children=0&hpos=10&hapos=735&sr_order=popularity&srpvid=e74992fcebb600ae&srepoch=1646686569&from_sustainable_property_sr=1&from=searchresults#hotelTmpl': 942,\n",
       " 'https://www.booking.com/hotel/is/moar-cottage.zh-tw.html?label=gen173bo-1DCAEoggI46AdIMFgDaOcBiAEBmAEwuAEXyAEM2AED6AEB-AEDiAIBmAICqAIDuALMrZiRBsACAdICJDA4MWM3ODVkLWU3YjYtNGUwNC1hOGMzLWJiMzJhYjZlODBhNdgCBOACAQ&sid=e12b90519bab632c3ffdcb360924a5c1&aid=304142&ucfs=1&arphpl=1&dest_id=97&dest_type=country&group_adults=2&req_adults=2&no_rooms=1&group_children=0&req_children=0&hpos=11&hapos=736&sr_order=popularity&srpvid=e74992fcebb600ae&srepoch=1646686569&from_sustainable_property_sr=1&from=searchresults#hotelTmpl': 199,\n",
       " 'https://www.booking.com/hotel/is/south-central-hostel.zh-tw.html?label=gen173bo-1DCAEoggI46AdIMFgDaOcBiAEBmAEwuAEXyAEM2AED6AEB-AEDiAIBmAICqAIDuALMrZiRBsACAdICJDA4MWM3ODVkLWU3YjYtNGUwNC1hOGMzLWJiMzJhYjZlODBhNdgCBOACAQ&sid=e12b90519bab632c3ffdcb360924a5c1&aid=304142&ucfs=1&arphpl=1&dest_id=97&dest_type=country&group_adults=2&req_adults=2&no_rooms=1&group_children=0&req_children=0&hpos=12&hapos=737&sr_order=popularity&srpvid=e74992fcebb600ae&srepoch=1646686569&from=searchresults#hotelTmpl': 125,\n",
       " 'https://www.booking.com/hotel/is/fosshotel-myvatn.zh-tw.html?label=gen173bo-1DCAEoggI46AdIMFgDaOcBiAEBmAEwuAEXyAEM2AED6AEB-AEDiAIBmAICqAIDuALMrZiRBsACAdICJDA4MWM3ODVkLWU3YjYtNGUwNC1hOGMzLWJiMzJhYjZlODBhNdgCBOACAQ&sid=e12b90519bab632c3ffdcb360924a5c1&aid=304142&ucfs=1&arphpl=1&dest_id=97&dest_type=country&group_adults=2&req_adults=2&no_rooms=1&group_children=0&req_children=0&hpos=13&hapos=738&sr_order=popularity&srpvid=e74992fcebb600ae&srepoch=1646686569&from=searchresults#hotelTmpl': 894,\n",
       " 'https://www.booking.com/hotel/is/gardur-fludir.zh-tw.html?label=gen173bo-1DCAEoggI46AdIMFgDaOcBiAEBmAEwuAEXyAEM2AED6AEB-AEDiAIBmAICqAIDuALMrZiRBsACAdICJDA4MWM3ODVkLWU3YjYtNGUwNC1hOGMzLWJiMzJhYjZlODBhNdgCBOACAQ&sid=e12b90519bab632c3ffdcb360924a5c1&aid=304142&ucfs=1&arphpl=1&dest_id=97&dest_type=country&group_adults=2&req_adults=2&no_rooms=1&group_children=0&req_children=0&hpos=14&hapos=739&sr_order=popularity&srpvid=e74992fcebb600ae&srepoch=1646686569&from=searchresults#hotelTmpl': 243,\n",
       " 'https://www.booking.com/hotel/is/lotus.zh-tw.html?label=gen173bo-1DCAEoggI46AdIMFgDaOcBiAEBmAEwuAEXyAEM2AED6AEB-AEDiAIBmAICqAIDuALMrZiRBsACAdICJDA4MWM3ODVkLWU3YjYtNGUwNC1hOGMzLWJiMzJhYjZlODBhNdgCBOACAQ&sid=e12b90519bab632c3ffdcb360924a5c1&aid=304142&ucfs=1&arphpl=1&dest_id=97&dest_type=country&group_adults=2&req_adults=2&no_rooms=1&group_children=0&req_children=0&hpos=15&hapos=740&sr_order=popularity&srpvid=e74992fcebb600ae&srepoch=1646686569&from=searchresults#hotelTmpl': 279,\n",
       " 'https://www.booking.com/hotel/is/reykjavik-domes.zh-tw.html?label=gen173bo-1DCAEoggI46AdIMFgDaOcBiAEBmAEwuAEXyAEM2AED6AEB-AEDiAIBmAICqAIDuALMrZiRBsACAdICJDA4MWM3ODVkLWU3YjYtNGUwNC1hOGMzLWJiMzJhYjZlODBhNdgCBOACAQ&sid=e12b90519bab632c3ffdcb360924a5c1&aid=304142&ucfs=1&arphpl=1&dest_id=97&dest_type=country&group_adults=2&req_adults=2&no_rooms=1&group_children=0&req_children=0&hpos=16&hapos=741&sr_order=popularity&srpvid=e74992fcebb600ae&srepoch=1646686569&from=searchresults#hotelTmpl': 162,\n",
       " 'https://www.booking.com/hotel/is/bjarkarholt-guesthouse.zh-tw.html?label=gen173bo-1DCAEoggI46AdIMFgDaOcBiAEBmAEwuAEXyAEM2AED6AEB-AEDiAIBmAICqAIDuALMrZiRBsACAdICJDA4MWM3ODVkLWU3YjYtNGUwNC1hOGMzLWJiMzJhYjZlODBhNdgCBOACAQ&sid=e12b90519bab632c3ffdcb360924a5c1&aid=304142&ucfs=1&arphpl=1&dest_id=97&dest_type=country&group_adults=2&req_adults=2&no_rooms=1&group_children=0&req_children=0&hpos=17&hapos=742&sr_order=popularity&srpvid=e74992fcebb600ae&srepoch=1646686569&from=searchresults#hotelTmpl': 501,\n",
       " 'https://www.booking.com/hotel/is/hvammbol-guesthouse.zh-tw.html?label=gen173bo-1DCAEoggI46AdIMFgDaOcBiAEBmAEwuAEXyAEM2AED6AEB-AEDiAIBmAICqAIDuALMrZiRBsACAdICJDA4MWM3ODVkLWU3YjYtNGUwNC1hOGMzLWJiMzJhYjZlODBhNdgCBOACAQ&sid=e12b90519bab632c3ffdcb360924a5c1&aid=304142&ucfs=1&arphpl=1&dest_id=97&dest_type=country&group_adults=2&req_adults=2&no_rooms=1&group_children=0&req_children=0&hpos=18&hapos=743&sr_order=popularity&srpvid=e74992fcebb600ae&srepoch=1646686569&from=searchresults#hotelTmpl': 531,\n",
       " 'https://www.booking.com/hotel/is/fraendgardur.zh-tw.html?label=gen173bo-1DCAEoggI46AdIMFgDaOcBiAEBmAEwuAEXyAEM2AED6AEB-AEDiAIBmAICqAIDuALMrZiRBsACAdICJDA4MWM3ODVkLWU3YjYtNGUwNC1hOGMzLWJiMzJhYjZlODBhNdgCBOACAQ&sid=e12b90519bab632c3ffdcb360924a5c1&aid=304142&ucfs=1&arphpl=1&dest_id=97&dest_type=country&group_adults=2&req_adults=2&no_rooms=1&group_children=0&req_children=0&hpos=19&hapos=744&sr_order=popularity&srpvid=e74992fcebb600ae&srepoch=1646686569&from=searchresults#hotelTmpl': 85,\n",
       " 'https://www.booking.com/hotel/is/black-beach-suites.zh-tw.html?label=gen173bo-1DCAEoggI46AdIMFgDaOcBiAEBmAEwuAEXyAEM2AED6AEB-AEDiAIBmAICqAIDuALMrZiRBsACAdICJDA4MWM3ODVkLWU3YjYtNGUwNC1hOGMzLWJiMzJhYjZlODBhNdgCBOACAQ&sid=e12b90519bab632c3ffdcb360924a5c1&aid=304142&ucfs=1&arphpl=1&dest_id=97&dest_type=country&group_adults=2&req_adults=2&no_rooms=1&group_children=0&req_children=0&hpos=20&hapos=745&sr_order=popularity&srpvid=e74992fcebb600ae&srepoch=1646686569&from=searchresults#hotelTmpl': 2356,\n",
       " 'https://www.booking.com/hotel/is/guesthouse-hvammur.zh-tw.html?label=gen173bo-1DCAEoggI46AdIMFgDaOcBiAEBmAEwuAEXyAEM2AED6AEB-AEDiAIBmAICqAIDuALMrZiRBsACAdICJDA4MWM3ODVkLWU3YjYtNGUwNC1hOGMzLWJiMzJhYjZlODBhNdgCBOACAQ&sid=e12b90519bab632c3ffdcb360924a5c1&aid=304142&ucfs=1&arphpl=1&dest_id=97&dest_type=country&group_adults=2&req_adults=2&no_rooms=1&group_children=0&req_children=0&hpos=21&hapos=746&sr_order=popularity&srpvid=e74992fcebb600ae&srepoch=1646686569&from=searchresults#hotelTmpl': 463,\n",
       " 'https://www.booking.com/hotel/is/breidafjordur.zh-tw.html?label=gen173bo-1DCAEoggI46AdIMFgDaOcBiAEBmAEwuAEXyAEM2AED6AEB-AEDiAIBmAICqAIDuALMrZiRBsACAdICJDA4MWM3ODVkLWU3YjYtNGUwNC1hOGMzLWJiMzJhYjZlODBhNdgCBOACAQ&sid=e12b90519bab632c3ffdcb360924a5c1&aid=304142&ucfs=1&arphpl=1&dest_id=97&dest_type=country&group_adults=2&req_adults=2&no_rooms=1&group_children=0&req_children=0&hpos=22&hapos=747&sr_order=popularity&srpvid=e74992fcebb600ae&srepoch=1646686569&from=searchresults#hotelTmpl': 321,\n",
       " 'https://www.booking.com/hotel/is/sudur-bar.zh-tw.html?label=gen173bo-1DCAEoggI46AdIMFgDaOcBiAEBmAEwuAEXyAEM2AED6AEB-AEDiAIBmAICqAIDuALMrZiRBsACAdICJDA4MWM3ODVkLWU3YjYtNGUwNC1hOGMzLWJiMzJhYjZlODBhNdgCBOACAQ&sid=e12b90519bab632c3ffdcb360924a5c1&aid=304142&ucfs=1&arphpl=1&dest_id=97&dest_type=country&group_adults=2&req_adults=2&no_rooms=1&group_children=0&req_children=0&hpos=23&hapos=748&sr_order=popularity&srpvid=e74992fcebb600ae&srepoch=1646686569&from=searchresults#hotelTmpl': 260,\n",
       " 'https://www.booking.com/hotel/is/krakhamar-apartments.zh-tw.html?label=gen173bo-1DCAEoggI46AdIMFgDaOcBiAEBmAEwuAEXyAEM2AED6AEB-AEDiAIBmAICqAIDuALMrZiRBsACAdICJDA4MWM3ODVkLWU3YjYtNGUwNC1hOGMzLWJiMzJhYjZlODBhNdgCBOACAQ&sid=e12b90519bab632c3ffdcb360924a5c1&aid=304142&ucfs=1&arphpl=1&dest_id=97&dest_type=country&group_adults=2&req_adults=2&no_rooms=1&group_children=0&req_children=0&hpos=24&hapos=749&sr_order=popularity&srpvid=e74992fcebb600ae&srepoch=1646686569&from=searchresults#hotelTmpl': 359,\n",
       " 'https://www.booking.com/hotel/is/laxa.zh-tw.html?label=gen173bo-1DCAEoggI46AdIMFgDaOcBiAEBmAEwuAEXyAEM2AED6AEB-AEDiAIBmAICqAIDuALMrZiRBsACAdICJDA4MWM3ODVkLWU3YjYtNGUwNC1hOGMzLWJiMzJhYjZlODBhNdgCBOACAQ&sid=e12b90519bab632c3ffdcb360924a5c1&aid=304142&ucfs=1&arphpl=1&dest_id=97&dest_type=country&group_adults=2&req_adults=2&no_rooms=1&group_children=0&req_children=0&hpos=25&hapos=750&sr_order=popularity&srpvid=e74992fcebb600ae&srepoch=1646686569&from_sustainable_property_sr=1&from=searchresults#hotelTmpl': 1900,\n",
       " 'https://www.booking.com/hotel/is/guesthouse-nordheimar.zh-tw.html?label=gen173bo-1DCAEoggI46AdIMFgDaOcBiAEBmAEwuAEXyAEM2AED6AEB-AEDiAIBmAICqAIDuALMrZiRBsACAdICJDA4MWM3ODVkLWU3YjYtNGUwNC1hOGMzLWJiMzJhYjZlODBhNdgCBOACAQ&sid=e12b90519bab632c3ffdcb360924a5c1&aid=304142&ucfs=1&arphpl=1&dest_id=97&dest_type=country&group_adults=2&req_adults=2&no_rooms=1&group_children=0&req_children=0&hpos=1&hapos=751&sr_order=popularity&srpvid=e74992fcebb600ae&srepoch=1646686573&from=searchresults#hotelTmpl': 98,\n",
       " 'https://www.booking.com/hotel/is/central-apartment-next-to-central-station-bsi.zh-tw.html?label=gen173bo-1DCAEoggI46AdIMFgDaOcBiAEBmAEwuAEXyAEM2AED6AEB-AEDiAIBmAICqAIDuALMrZiRBsACAdICJDA4MWM3ODVkLWU3YjYtNGUwNC1hOGMzLWJiMzJhYjZlODBhNdgCBOACAQ&sid=e12b90519bab632c3ffdcb360924a5c1&aid=304142&ucfs=1&arphpl=1&dest_id=97&dest_type=country&group_adults=2&req_adults=2&no_rooms=1&group_children=0&req_children=0&hpos=2&hapos=752&sr_order=popularity&srpvid=e74992fcebb600ae&srepoch=1646686573&from_sustainable_property_sr=1&from=searchresults#hotelTmpl': 83,\n",
       " 'https://www.booking.com/hotel/is/framtid-camping-lodging-barrels.zh-tw.html?label=gen173bo-1DCAEoggI46AdIMFgDaOcBiAEBmAEwuAEXyAEM2AED6AEB-AEDiAIBmAICqAIDuALMrZiRBsACAdICJDA4MWM3ODVkLWU3YjYtNGUwNC1hOGMzLWJiMzJhYjZlODBhNdgCBOACAQ&sid=e12b90519bab632c3ffdcb360924a5c1&aid=304142&ucfs=1&arphpl=1&dest_id=97&dest_type=country&group_adults=2&req_adults=2&no_rooms=1&group_children=0&req_children=0&hpos=3&hapos=753&sr_order=popularity&srpvid=e74992fcebb600ae&srepoch=1646686573&from=searchresults#hotelTmpl': 138,\n",
       " 'https://www.booking.com/hotel/is/reydarfjordur-apartment.zh-tw.html?label=gen173bo-1DCAEoggI46AdIMFgDaOcBiAEBmAEwuAEXyAEM2AED6AEB-AEDiAIBmAICqAIDuALMrZiRBsACAdICJDA4MWM3ODVkLWU3YjYtNGUwNC1hOGMzLWJiMzJhYjZlODBhNdgCBOACAQ&sid=e12b90519bab632c3ffdcb360924a5c1&aid=304142&ucfs=1&arphpl=1&dest_id=97&dest_type=country&group_adults=2&req_adults=2&no_rooms=1&group_children=0&req_children=0&hpos=4&hapos=754&sr_order=popularity&srpvid=e74992fcebb600ae&srepoch=1646686573&from_sustainable_property_sr=1&from=searchresults#hotelTmpl': 91,\n",
       " 'https://www.booking.com/hotel/is/guest-house-hammersminni.zh-tw.html?label=gen173bo-1DCAEoggI46AdIMFgDaOcBiAEBmAEwuAEXyAEM2AED6AEB-AEDiAIBmAICqAIDuALMrZiRBsACAdICJDA4MWM3ODVkLWU3YjYtNGUwNC1hOGMzLWJiMzJhYjZlODBhNdgCBOACAQ&sid=e12b90519bab632c3ffdcb360924a5c1&aid=304142&ucfs=1&arphpl=1&dest_id=97&dest_type=country&group_adults=2&req_adults=2&no_rooms=1&group_children=0&req_children=0&hpos=5&hapos=755&sr_order=popularity&srpvid=e74992fcebb600ae&srepoch=1646686573&from=searchresults#hotelTmpl': 439,\n",
       " 'https://www.booking.com/hotel/is/guesthouse-4-akurgerdi-country-life-style.zh-tw.html?label=gen173bo-1DCAEoggI46AdIMFgDaOcBiAEBmAEwuAEXyAEM2AED6AEB-AEDiAIBmAICqAIDuALMrZiRBsACAdICJDA4MWM3ODVkLWU3YjYtNGUwNC1hOGMzLWJiMzJhYjZlODBhNdgCBOACAQ&sid=e12b90519bab632c3ffdcb360924a5c1&aid=304142&ucfs=1&arphpl=1&dest_id=97&dest_type=country&group_adults=2&req_adults=2&no_rooms=1&group_children=0&req_children=0&hpos=6&hapos=756&sr_order=popularity&srpvid=e74992fcebb600ae&srepoch=1646686573&from=searchresults#hotelTmpl': 59,\n",
       " 'https://www.booking.com/hotel/is/b-amp-b-solheimar-9.zh-tw.html?label=gen173bo-1DCAEoggI46AdIMFgDaOcBiAEBmAEwuAEXyAEM2AED6AEB-AEDiAIBmAICqAIDuALMrZiRBsACAdICJDA4MWM3ODVkLWU3YjYtNGUwNC1hOGMzLWJiMzJhYjZlODBhNdgCBOACAQ&sid=e12b90519bab632c3ffdcb360924a5c1&aid=304142&ucfs=1&arphpl=1&dest_id=97&dest_type=country&group_adults=2&req_adults=2&no_rooms=1&group_children=0&req_children=0&hpos=7&hapos=757&sr_order=popularity&srpvid=e74992fcebb600ae&srepoch=1646686573&from=searchresults#hotelTmpl': 20,\n",
       " 'https://www.booking.com/hotel/is/hoepfner-historical-house.zh-tw.html?label=gen173bo-1DCAEoggI46AdIMFgDaOcBiAEBmAEwuAEXyAEM2AED6AEB-AEDiAIBmAICqAIDuALMrZiRBsACAdICJDA4MWM3ODVkLWU3YjYtNGUwNC1hOGMzLWJiMzJhYjZlODBhNdgCBOACAQ&sid=e12b90519bab632c3ffdcb360924a5c1&aid=304142&ucfs=1&arphpl=1&dest_id=97&dest_type=country&group_adults=2&req_adults=2&no_rooms=1&group_children=0&req_children=0&hpos=8&hapos=758&sr_order=popularity&srpvid=e74992fcebb600ae&srepoch=1646686573&from=searchresults#hotelTmpl': 106,\n",
       " 'https://www.booking.com/hotel/is/guesthouse-dyngja.zh-tw.html?label=gen173bo-1DCAEoggI46AdIMFgDaOcBiAEBmAEwuAEXyAEM2AED6AEB-AEDiAIBmAICqAIDuALMrZiRBsACAdICJDA4MWM3ODVkLWU3YjYtNGUwNC1hOGMzLWJiMzJhYjZlODBhNdgCBOACAQ&sid=e12b90519bab632c3ffdcb360924a5c1&aid=304142&ucfs=1&arphpl=1&dest_id=97&dest_type=country&group_adults=2&req_adults=2&no_rooms=1&group_children=0&req_children=0&hpos=9&hapos=759&sr_order=popularity&srpvid=e74992fcebb600ae&srepoch=1646686573&from=searchresults#hotelTmpl': 424,\n",
       " 'https://www.booking.com/hotel/is/gullfoss.zh-tw.html?label=gen173bo-1DCAEoggI46AdIMFgDaOcBiAEBmAEwuAEXyAEM2AED6AEB-AEDiAIBmAICqAIDuALMrZiRBsACAdICJDA4MWM3ODVkLWU3YjYtNGUwNC1hOGMzLWJiMzJhYjZlODBhNdgCBOACAQ&sid=e12b90519bab632c3ffdcb360924a5c1&aid=304142&ucfs=1&arphpl=1&dest_id=97&dest_type=country&group_adults=2&req_adults=2&no_rooms=1&group_children=0&req_children=0&hpos=10&hapos=760&sr_order=popularity&srpvid=e74992fcebb600ae&srepoch=1646686573&from=searchresults#hotelTmpl': 963,\n",
       " 'https://www.booking.com/hotel/is/myri-guesthouse-stay-for-a-tree.zh-tw.html?label=gen173bo-1DCAEoggI46AdIMFgDaOcBiAEBmAEwuAEXyAEM2AED6AEB-AEDiAIBmAICqAIDuALMrZiRBsACAdICJDA4MWM3ODVkLWU3YjYtNGUwNC1hOGMzLWJiMzJhYjZlODBhNdgCBOACAQ&sid=e12b90519bab632c3ffdcb360924a5c1&aid=304142&ucfs=1&arphpl=1&dest_id=97&dest_type=country&group_adults=2&req_adults=2&no_rooms=1&group_children=0&req_children=0&hpos=11&hapos=761&sr_order=popularity&srpvid=e74992fcebb600ae&srepoch=1646686573&from=searchresults#hotelTmpl': 166,\n",
       " 'https://www.booking.com/hotel/is/ferdathjonustan-bardastrond.zh-tw.html?label=gen173bo-1DCAEoggI46AdIMFgDaOcBiAEBmAEwuAEXyAEM2AED6AEB-AEDiAIBmAICqAIDuALMrZiRBsACAdICJDA4MWM3ODVkLWU3YjYtNGUwNC1hOGMzLWJiMzJhYjZlODBhNdgCBOACAQ&sid=e12b90519bab632c3ffdcb360924a5c1&aid=304142&ucfs=1&arphpl=1&dest_id=97&dest_type=country&group_adults=2&req_adults=2&no_rooms=1&group_children=0&req_children=0&hpos=12&hapos=762&sr_order=popularity&srpvid=e74992fcebb600ae&srepoch=1646686573&from=searchresults#hotelTmpl': 175,\n",
       " 'https://www.booking.com/hotel/is/brimnes-hotel-and-bungalows.zh-tw.html?label=gen173bo-1DCAEoggI46AdIMFgDaOcBiAEBmAEwuAEXyAEM2AED6AEB-AEDiAIBmAICqAIDuALMrZiRBsACAdICJDA4MWM3ODVkLWU3YjYtNGUwNC1hOGMzLWJiMzJhYjZlODBhNdgCBOACAQ&sid=e12b90519bab632c3ffdcb360924a5c1&aid=304142&ucfs=1&arphpl=1&dest_id=97&dest_type=country&group_adults=2&req_adults=2&no_rooms=1&group_children=0&req_children=0&hpos=13&hapos=763&sr_order=popularity&srpvid=e74992fcebb600ae&srepoch=1646686573&from=searchresults#hotelTmpl': 151,\n",
       " 'https://www.booking.com/hotel/is/guesthouse-skogafoss.zh-tw.html?label=gen173bo-1DCAEoggI46AdIMFgDaOcBiAEBmAEwuAEXyAEM2AED6AEB-AEDiAIBmAICqAIDuALMrZiRBsACAdICJDA4MWM3ODVkLWU3YjYtNGUwNC1hOGMzLWJiMzJhYjZlODBhNdgCBOACAQ&sid=e12b90519bab632c3ffdcb360924a5c1&aid=304142&ucfs=1&arphpl=1&dest_id=97&dest_type=country&group_adults=2&req_adults=2&no_rooms=1&group_children=0&req_children=0&hpos=14&hapos=764&sr_order=popularity&srpvid=e74992fcebb600ae&srepoch=1646686573&from=searchresults#hotelTmpl': 461,\n",
       " 'https://www.booking.com/hotel/is/brimslod-atelier-guesthouse.zh-tw.html?label=gen173bo-1DCAEoggI46AdIMFgDaOcBiAEBmAEwuAEXyAEM2AED6AEB-AEDiAIBmAICqAIDuALMrZiRBsACAdICJDA4MWM3ODVkLWU3YjYtNGUwNC1hOGMzLWJiMzJhYjZlODBhNdgCBOACAQ&sid=e12b90519bab632c3ffdcb360924a5c1&aid=304142&ucfs=1&arphpl=1&dest_id=97&dest_type=country&group_adults=2&req_adults=2&no_rooms=1&group_children=0&req_children=0&hpos=15&hapos=765&sr_order=popularity&srpvid=e74992fcebb600ae&srepoch=1646686573&from_sustainable_property_sr=1&from=searchresults#hotelTmpl': 594,\n",
       " 'https://www.booking.com/hotel/is/hlidarendi-guesthouse.zh-tw.html?label=gen173bo-1DCAEoggI46AdIMFgDaOcBiAEBmAEwuAEXyAEM2AED6AEB-AEDiAIBmAICqAIDuALMrZiRBsACAdICJDA4MWM3ODVkLWU3YjYtNGUwNC1hOGMzLWJiMzJhYjZlODBhNdgCBOACAQ&sid=e12b90519bab632c3ffdcb360924a5c1&aid=304142&ucfs=1&arphpl=1&dest_id=97&dest_type=country&group_adults=2&req_adults=2&no_rooms=1&group_children=0&req_children=0&hpos=16&hapos=766&sr_order=popularity&srpvid=e74992fcebb600ae&srepoch=1646686573&from=searchresults#hotelTmpl': 12,\n",
       " 'https://www.booking.com/hotel/is/steinn-guesthouse.zh-tw.html?label=gen173bo-1DCAEoggI46AdIMFgDaOcBiAEBmAEwuAEXyAEM2AED6AEB-AEDiAIBmAICqAIDuALMrZiRBsACAdICJDA4MWM3ODVkLWU3YjYtNGUwNC1hOGMzLWJiMzJhYjZlODBhNdgCBOACAQ&sid=e12b90519bab632c3ffdcb360924a5c1&aid=304142&ucfs=1&arphpl=1&dest_id=97&dest_type=country&group_adults=2&req_adults=2&no_rooms=1&group_children=0&req_children=0&hpos=17&hapos=767&sr_order=popularity&srpvid=e74992fcebb600ae&srepoch=1646686573&from=searchresults#hotelTmpl': 107,\n",
       " 'https://www.booking.com/hotel/is/vogafjos-guesthouse.zh-tw.html?label=gen173bo-1DCAEoggI46AdIMFgDaOcBiAEBmAEwuAEXyAEM2AED6AEB-AEDiAIBmAICqAIDuALMrZiRBsACAdICJDA4MWM3ODVkLWU3YjYtNGUwNC1hOGMzLWJiMzJhYjZlODBhNdgCBOACAQ&sid=e12b90519bab632c3ffdcb360924a5c1&aid=304142&ucfs=1&arphpl=1&dest_id=97&dest_type=country&group_adults=2&req_adults=2&no_rooms=1&group_children=0&req_children=0&hpos=18&hapos=768&sr_order=popularity&srpvid=e74992fcebb600ae&srepoch=1646686573&from_sustainable_property_sr=1&from=searchresults#hotelTmpl': 1493,\n",
       " 'https://www.booking.com/hotel/is/anitas-guest-house.zh-tw.html?label=gen173bo-1DCAEoggI46AdIMFgDaOcBiAEBmAEwuAEXyAEM2AED6AEB-AEDiAIBmAICqAIDuALMrZiRBsACAdICJDA4MWM3ODVkLWU3YjYtNGUwNC1hOGMzLWJiMzJhYjZlODBhNdgCBOACAQ&sid=e12b90519bab632c3ffdcb360924a5c1&aid=304142&ucfs=1&arphpl=1&dest_id=97&dest_type=country&group_adults=2&req_adults=2&no_rooms=1&group_children=0&req_children=0&hpos=19&hapos=769&sr_order=popularity&srpvid=e74992fcebb600ae&srepoch=1646686573&from=searchresults#hotelTmpl': 486,\n",
       " 'https://www.booking.com/hotel/is/north-star-stadarflot.zh-tw.html?label=gen173bo-1DCAEoggI46AdIMFgDaOcBiAEBmAEwuAEXyAEM2AED6AEB-AEDiAIBmAICqAIDuALMrZiRBsACAdICJDA4MWM3ODVkLWU3YjYtNGUwNC1hOGMzLWJiMzJhYjZlODBhNdgCBOACAQ&sid=e12b90519bab632c3ffdcb360924a5c1&aid=304142&ucfs=1&arphpl=1&dest_id=97&dest_type=country&group_adults=2&req_adults=2&no_rooms=1&group_children=0&req_children=0&hpos=20&hapos=770&sr_order=popularity&srpvid=e74992fcebb600ae&srepoch=1646686573&from=searchresults#hotelTmpl': 543,\n",
       " 'https://www.booking.com/hotel/is/ferdathjonustan-fossardal.zh-tw.html?label=gen173bo-1DCAEoggI46AdIMFgDaOcBiAEBmAEwuAEXyAEM2AED6AEB-AEDiAIBmAICqAIDuALMrZiRBsACAdICJDA4MWM3ODVkLWU3YjYtNGUwNC1hOGMzLWJiMzJhYjZlODBhNdgCBOACAQ&sid=e12b90519bab632c3ffdcb360924a5c1&aid=304142&ucfs=1&arphpl=1&dest_id=97&dest_type=country&group_adults=2&req_adults=2&no_rooms=1&group_children=0&req_children=0&hpos=21&hapos=771&sr_order=popularity&srpvid=e74992fcebb600ae&srepoch=1646686573&from=searchresults#hotelTmpl': 127,\n",
       " 'https://www.booking.com/hotel/is/ormurinn-guesthouse.zh-tw.html?label=gen173bo-1DCAEoggI46AdIMFgDaOcBiAEBmAEwuAEXyAEM2AED6AEB-AEDiAIBmAICqAIDuALMrZiRBsACAdICJDA4MWM3ODVkLWU3YjYtNGUwNC1hOGMzLWJiMzJhYjZlODBhNdgCBOACAQ&sid=e12b90519bab632c3ffdcb360924a5c1&aid=304142&ucfs=1&arphpl=1&dest_id=97&dest_type=country&group_adults=2&req_adults=2&no_rooms=1&group_children=0&req_children=0&hpos=22&hapos=772&sr_order=popularity&srpvid=e74992fcebb600ae&srepoch=1646686573&from=searchresults#hotelTmpl': 288,\n",
       " 'https://www.booking.com/hotel/is/hagi-1-guesthouse.zh-tw.html?label=gen173bo-1DCAEoggI46AdIMFgDaOcBiAEBmAEwuAEXyAEM2AED6AEB-AEDiAIBmAICqAIDuALMrZiRBsACAdICJDA4MWM3ODVkLWU3YjYtNGUwNC1hOGMzLWJiMzJhYjZlODBhNdgCBOACAQ&sid=e12b90519bab632c3ffdcb360924a5c1&aid=304142&ucfs=1&arphpl=1&dest_id=97&dest_type=country&group_adults=2&req_adults=2&no_rooms=1&group_children=0&req_children=0&hpos=23&hapos=773&sr_order=popularity&srpvid=e74992fcebb600ae&srepoch=1646686573&from=searchresults#hotelTmpl': 50,\n",
       " 'https://www.booking.com/hotel/is/vad-1.zh-tw.html?label=gen173bo-1DCAEoggI46AdIMFgDaOcBiAEBmAEwuAEXyAEM2AED6AEB-AEDiAIBmAICqAIDuALMrZiRBsACAdICJDA4MWM3ODVkLWU3YjYtNGUwNC1hOGMzLWJiMzJhYjZlODBhNdgCBOACAQ&sid=e12b90519bab632c3ffdcb360924a5c1&aid=304142&ucfs=1&arphpl=1&dest_id=97&dest_type=country&group_adults=2&req_adults=2&no_rooms=1&group_children=0&req_children=0&hpos=24&hapos=774&sr_order=popularity&srpvid=e74992fcebb600ae&srepoch=1646686573&from=searchresults#hotelTmpl': 13,\n",
       " 'https://www.booking.com/hotel/is/hagi-2-holiday-home.zh-tw.html?label=gen173bo-1DCAEoggI46AdIMFgDaOcBiAEBmAEwuAEXyAEM2AED6AEB-AEDiAIBmAICqAIDuALMrZiRBsACAdICJDA4MWM3ODVkLWU3YjYtNGUwNC1hOGMzLWJiMzJhYjZlODBhNdgCBOACAQ&sid=e12b90519bab632c3ffdcb360924a5c1&aid=304142&ucfs=1&arphpl=1&dest_id=97&dest_type=country&group_adults=2&req_adults=2&no_rooms=1&group_children=0&req_children=0&hpos=25&hapos=775&sr_order=popularity&srpvid=e74992fcebb600ae&srepoch=1646686573&from=searchresults#hotelTmpl': 33,\n",
       " 'https://www.booking.com/hotel/is/apartment-fiflholt.zh-tw.html?label=gen173bo-1DCAEoggI46AdIMFgDaOcBiAEBmAEwuAEXyAEM2AED6AEB-AEDiAIBmAICqAIDuALMrZiRBsACAdICJDA4MWM3ODVkLWU3YjYtNGUwNC1hOGMzLWJiMzJhYjZlODBhNdgCBOACAQ&sid=e12b90519bab632c3ffdcb360924a5c1&aid=304142&ucfs=1&arphpl=1&dest_id=97&dest_type=country&group_adults=2&req_adults=2&no_rooms=1&group_children=0&req_children=0&hpos=1&hapos=776&sr_order=popularity&srpvid=e74992fcebb600ae&srepoch=1646686577&from=searchresults#hotelTmpl': 11,\n",
       " 'https://www.booking.com/hotel/is/bakkakot-2-cozy-cabins-in-the-woods.zh-tw.html?label=gen173bo-1DCAEoggI46AdIMFgDaOcBiAEBmAEwuAEXyAEM2AED6AEB-AEDiAIBmAICqAIDuALMrZiRBsACAdICJDA4MWM3ODVkLWU3YjYtNGUwNC1hOGMzLWJiMzJhYjZlODBhNdgCBOACAQ&sid=e12b90519bab632c3ffdcb360924a5c1&aid=304142&ucfs=1&arphpl=1&dest_id=97&dest_type=country&group_adults=2&req_adults=2&no_rooms=1&group_children=0&req_children=0&hpos=2&hapos=777&sr_order=popularity&srpvid=e74992fcebb600ae&srepoch=1646686577&from_sustainable_property_sr=1&from=searchresults#hotelTmpl': 75,\n",
       " 'https://www.booking.com/hotel/is/varmi-guesthouse.zh-tw.html?label=gen173bo-1DCAEoggI46AdIMFgDaOcBiAEBmAEwuAEXyAEM2AED6AEB-AEDiAIBmAICqAIDuALMrZiRBsACAdICJDA4MWM3ODVkLWU3YjYtNGUwNC1hOGMzLWJiMzJhYjZlODBhNdgCBOACAQ&sid=e12b90519bab632c3ffdcb360924a5c1&aid=304142&ucfs=1&arphpl=1&dest_id=97&dest_type=country&group_adults=2&req_adults=2&no_rooms=1&group_children=0&req_children=0&hpos=3&hapos=778&sr_order=popularity&srpvid=e74992fcebb600ae&srepoch=1646686577&from=searchresults#hotelTmpl': 233,\n",
       " 'https://www.booking.com/hotel/is/litla-hof-guesthouse.zh-tw.html?label=gen173bo-1DCAEoggI46AdIMFgDaOcBiAEBmAEwuAEXyAEM2AED6AEB-AEDiAIBmAICqAIDuALMrZiRBsACAdICJDA4MWM3ODVkLWU3YjYtNGUwNC1hOGMzLWJiMzJhYjZlODBhNdgCBOACAQ&sid=e12b90519bab632c3ffdcb360924a5c1&aid=304142&ucfs=1&arphpl=1&dest_id=97&dest_type=country&group_adults=2&req_adults=2&no_rooms=1&group_children=0&req_children=0&hpos=4&hapos=779&sr_order=popularity&srpvid=e74992fcebb600ae&srepoch=1646686577&from_sustainable_property_sr=1&from=searchresults#hotelTmpl': 68,\n",
       " 'https://www.booking.com/hotel/is/laekjarbakki-11.zh-tw.html?label=gen173bo-1DCAEoggI46AdIMFgDaOcBiAEBmAEwuAEXyAEM2AED6AEB-AEDiAIBmAICqAIDuALMrZiRBsACAdICJDA4MWM3ODVkLWU3YjYtNGUwNC1hOGMzLWJiMzJhYjZlODBhNdgCBOACAQ&sid=e12b90519bab632c3ffdcb360924a5c1&aid=304142&ucfs=1&arphpl=1&dest_id=97&dest_type=country&group_adults=2&req_adults=2&no_rooms=1&group_children=0&req_children=0&hpos=5&hapos=780&sr_order=popularity&srpvid=e74992fcebb600ae&srepoch=1646686577&from=searchresults#hotelTmpl': 61,\n",
       " 'https://www.booking.com/hotel/is/mikligaradegur.zh-tw.html?label=gen173bo-1DCAEoggI46AdIMFgDaOcBiAEBmAEwuAEXyAEM2AED6AEB-AEDiAIBmAICqAIDuALMrZiRBsACAdICJDA4MWM3ODVkLWU3YjYtNGUwNC1hOGMzLWJiMzJhYjZlODBhNdgCBOACAQ&sid=e12b90519bab632c3ffdcb360924a5c1&aid=304142&ucfs=1&arphpl=1&dest_id=97&dest_type=country&group_adults=2&req_adults=2&no_rooms=1&group_children=0&req_children=0&hpos=6&hapos=781&sr_order=popularity&srpvid=e74992fcebb600ae&srepoch=1646686577&from_sustainable_property_sr=1&from=searchresults#hotelTmpl': 100,\n",
       " 'https://www.booking.com/hotel/is/tyr-apartments.zh-tw.html?label=gen173bo-1DCAEoggI46AdIMFgDaOcBiAEBmAEwuAEXyAEM2AED6AEB-AEDiAIBmAICqAIDuALMrZiRBsACAdICJDA4MWM3ODVkLWU3YjYtNGUwNC1hOGMzLWJiMzJhYjZlODBhNdgCBOACAQ&sid=e12b90519bab632c3ffdcb360924a5c1&aid=304142&ucfs=1&arphpl=1&dest_id=97&dest_type=country&group_adults=2&req_adults=2&no_rooms=1&group_children=0&req_children=0&hpos=7&hapos=782&sr_order=popularity&srpvid=e74992fcebb600ae&srepoch=1646686577&from=searchresults#hotelTmpl': 136,\n",
       " 'https://www.booking.com/hotel/is/tangs.zh-tw.html?label=gen173bo-1DCAEoggI46AdIMFgDaOcBiAEBmAEwuAEXyAEM2AED6AEB-AEDiAIBmAICqAIDuALMrZiRBsACAdICJDA4MWM3ODVkLWU3YjYtNGUwNC1hOGMzLWJiMzJhYjZlODBhNdgCBOACAQ&sid=e12b90519bab632c3ffdcb360924a5c1&aid=304142&ucfs=1&arphpl=1&dest_id=97&dest_type=country&group_adults=2&req_adults=2&no_rooms=1&group_children=0&req_children=0&hpos=8&hapos=783&sr_order=popularity&srpvid=e74992fcebb600ae&srepoch=1646686577&from=searchresults#hotelTmpl': 181,\n",
       " 'https://www.booking.com/hotel/is/husey-hostel-amp-horsefarm.zh-tw.html?label=gen173bo-1DCAEoggI46AdIMFgDaOcBiAEBmAEwuAEXyAEM2AED6AEB-AEDiAIBmAICqAIDuALMrZiRBsACAdICJDA4MWM3ODVkLWU3YjYtNGUwNC1hOGMzLWJiMzJhYjZlODBhNdgCBOACAQ&sid=e12b90519bab632c3ffdcb360924a5c1&aid=304142&ucfs=1&arphpl=1&dest_id=97&dest_type=country&group_adults=2&req_adults=2&no_rooms=1&group_children=0&req_children=0&hpos=9&hapos=784&sr_order=popularity&srpvid=e74992fcebb600ae&srepoch=1646686577&from_sustainable_property_sr=1&from=searchresults#hotelTmpl': 75,\n",
       " 'https://www.booking.com/hotel/is/midleiti-cottage.zh-tw.html?label=gen173bo-1DCAEoggI46AdIMFgDaOcBiAEBmAEwuAEXyAEM2AED6AEB-AEDiAIBmAICqAIDuALMrZiRBsACAdICJDA4MWM3ODVkLWU3YjYtNGUwNC1hOGMzLWJiMzJhYjZlODBhNdgCBOACAQ&sid=e12b90519bab632c3ffdcb360924a5c1&aid=304142&ucfs=1&arphpl=1&dest_id=97&dest_type=country&group_adults=2&req_adults=2&no_rooms=1&group_children=0&req_children=0&hpos=10&hapos=785&sr_order=popularity&srpvid=e74992fcebb600ae&srepoch=1646686577&from=searchresults#hotelTmpl': 172,\n",
       " 'https://www.booking.com/hotel/is/cosy-cottage-alfabakki-with-hot-tub.zh-tw.html?label=gen173bo-1DCAEoggI46AdIMFgDaOcBiAEBmAEwuAEXyAEM2AED6AEB-AEDiAIBmAICqAIDuALMrZiRBsACAdICJDA4MWM3ODVkLWU3YjYtNGUwNC1hOGMzLWJiMzJhYjZlODBhNdgCBOACAQ&sid=e12b90519bab632c3ffdcb360924a5c1&aid=304142&ucfs=1&arphpl=1&dest_id=97&dest_type=country&group_adults=2&req_adults=2&no_rooms=1&group_children=0&req_children=0&hpos=11&hapos=786&sr_order=popularity&srpvid=e74992fcebb600ae&srepoch=1646686577&from=searchresults#hotelTmpl': 17,\n",
       " 'https://www.booking.com/hotel/is/laxhus.zh-tw.html?label=gen173bo-1DCAEoggI46AdIMFgDaOcBiAEBmAEwuAEXyAEM2AED6AEB-AEDiAIBmAICqAIDuALMrZiRBsACAdICJDA4MWM3ODVkLWU3YjYtNGUwNC1hOGMzLWJiMzJhYjZlODBhNdgCBOACAQ&sid=e12b90519bab632c3ffdcb360924a5c1&aid=304142&ucfs=1&arphpl=1&dest_id=97&dest_type=country&group_adults=2&req_adults=2&no_rooms=1&group_children=0&req_children=0&hpos=12&hapos=787&sr_order=popularity&srpvid=e74992fcebb600ae&srepoch=1646686577&from=searchresults#hotelTmpl': 282,\n",
       " 'https://www.booking.com/hotel/is/siggas-home.zh-tw.html?label=gen173bo-1DCAEoggI46AdIMFgDaOcBiAEBmAEwuAEXyAEM2AED6AEB-AEDiAIBmAICqAIDuALMrZiRBsACAdICJDA4MWM3ODVkLWU3YjYtNGUwNC1hOGMzLWJiMzJhYjZlODBhNdgCBOACAQ&sid=e12b90519bab632c3ffdcb360924a5c1&aid=304142&ucfs=1&arphpl=1&dest_id=97&dest_type=country&group_adults=2&req_adults=2&no_rooms=1&group_children=0&req_children=0&hpos=13&hapos=788&sr_order=popularity&srpvid=e74992fcebb600ae&srepoch=1646686577&from=searchresults#hotelTmpl': 79,\n",
       " 'https://www.booking.com/hotel/is/guesthouse-dalbaer.zh-tw.html?label=gen173bo-1DCAEoggI46AdIMFgDaOcBiAEBmAEwuAEXyAEM2AED6AEB-AEDiAIBmAICqAIDuALMrZiRBsACAdICJDA4MWM3ODVkLWU3YjYtNGUwNC1hOGMzLWJiMzJhYjZlODBhNdgCBOACAQ&sid=e12b90519bab632c3ffdcb360924a5c1&aid=304142&ucfs=1&arphpl=1&dest_id=97&dest_type=country&group_adults=2&req_adults=2&no_rooms=1&group_children=0&req_children=0&hpos=14&hapos=789&sr_order=popularity&srpvid=e74992fcebb600ae&srepoch=1646686577&from=searchresults#hotelTmpl': 166,\n",
       " 'https://www.booking.com/hotel/is/solheimar-studio-apartment.zh-tw.html?label=gen173bo-1DCAEoggI46AdIMFgDaOcBiAEBmAEwuAEXyAEM2AED6AEB-AEDiAIBmAICqAIDuALMrZiRBsACAdICJDA4MWM3ODVkLWU3YjYtNGUwNC1hOGMzLWJiMzJhYjZlODBhNdgCBOACAQ&sid=e12b90519bab632c3ffdcb360924a5c1&aid=304142&ucfs=1&arphpl=1&dest_id=97&dest_type=country&group_adults=2&req_adults=2&no_rooms=1&group_children=0&req_children=0&hpos=15&hapos=790&sr_order=popularity&srpvid=e74992fcebb600ae&srepoch=1646686577&from=searchresults#hotelTmpl': 136,\n",
       " 'https://www.booking.com/hotel/is/comfort-and-rest.zh-tw.html?label=gen173bo-1DCAEoggI46AdIMFgDaOcBiAEBmAEwuAEXyAEM2AED6AEB-AEDiAIBmAICqAIDuALMrZiRBsACAdICJDA4MWM3ODVkLWU3YjYtNGUwNC1hOGMzLWJiMzJhYjZlODBhNdgCBOACAQ&sid=e12b90519bab632c3ffdcb360924a5c1&aid=304142&ucfs=1&arphpl=1&dest_id=97&dest_type=country&group_adults=2&req_adults=2&no_rooms=1&group_children=0&req_children=0&hpos=16&hapos=791&sr_order=popularity&srpvid=e74992fcebb600ae&srepoch=1646686577&from=searchresults#hotelTmpl': 258,\n",
       " 'https://www.booking.com/hotel/is/bergas-guesthouse.zh-tw.html?label=gen173bo-1DCAEoggI46AdIMFgDaOcBiAEBmAEwuAEXyAEM2AED6AEB-AEDiAIBmAICqAIDuALMrZiRBsACAdICJDA4MWM3ODVkLWU3YjYtNGUwNC1hOGMzLWJiMzJhYjZlODBhNdgCBOACAQ&sid=e12b90519bab632c3ffdcb360924a5c1&aid=304142&ucfs=1&arphpl=1&dest_id=97&dest_type=country&group_adults=2&req_adults=2&no_rooms=1&group_children=0&req_children=0&hpos=17&hapos=792&sr_order=popularity&srpvid=e74992fcebb600ae&srepoch=1646686577&from=searchresults#hotelTmpl': 680,\n",
       " 'https://www.booking.com/hotel/is/spoi-guesthouse.zh-tw.html?label=gen173bo-1DCAEoggI46AdIMFgDaOcBiAEBmAEwuAEXyAEM2AED6AEB-AEDiAIBmAICqAIDuALMrZiRBsACAdICJDA4MWM3ODVkLWU3YjYtNGUwNC1hOGMzLWJiMzJhYjZlODBhNdgCBOACAQ&sid=e12b90519bab632c3ffdcb360924a5c1&aid=304142&ucfs=1&arphpl=1&dest_id=97&dest_type=country&group_adults=2&req_adults=2&no_rooms=1&group_children=0&req_children=0&hpos=18&hapos=793&sr_order=popularity&srpvid=e74992fcebb600ae&srepoch=1646686577&from=searchresults#hotelTmpl': 165,\n",
       " 'https://www.booking.com/hotel/is/ekra.zh-tw.html?label=gen173bo-1DCAEoggI46AdIMFgDaOcBiAEBmAEwuAEXyAEM2AED6AEB-AEDiAIBmAICqAIDuALMrZiRBsACAdICJDA4MWM3ODVkLWU3YjYtNGUwNC1hOGMzLWJiMzJhYjZlODBhNdgCBOACAQ&sid=e12b90519bab632c3ffdcb360924a5c1&aid=304142&ucfs=1&arphpl=1&dest_id=97&dest_type=country&group_adults=2&req_adults=2&no_rooms=1&group_children=0&req_children=0&hpos=19&hapos=794&sr_order=popularity&srpvid=e74992fcebb600ae&srepoch=1646686577&from=searchresults#hotelTmpl': 254,\n",
       " 'https://www.booking.com/hotel/is/south-central-country-apartment.zh-tw.html?label=gen173bo-1DCAEoggI46AdIMFgDaOcBiAEBmAEwuAEXyAEM2AED6AEB-AEDiAIBmAICqAIDuALMrZiRBsACAdICJDA4MWM3ODVkLWU3YjYtNGUwNC1hOGMzLWJiMzJhYjZlODBhNdgCBOACAQ&sid=e12b90519bab632c3ffdcb360924a5c1&aid=304142&ucfs=1&arphpl=1&dest_id=97&dest_type=country&group_adults=2&req_adults=2&no_rooms=1&group_children=0&req_children=0&hpos=20&hapos=795&sr_order=popularity&srpvid=e74992fcebb600ae&srepoch=1646686577&from=searchresults#hotelTmpl': 73,\n",
       " 'https://www.booking.com/hotel/is/hostel-framtid.zh-tw.html?label=gen173bo-1DCAEoggI46AdIMFgDaOcBiAEBmAEwuAEXyAEM2AED6AEB-AEDiAIBmAICqAIDuALMrZiRBsACAdICJDA4MWM3ODVkLWU3YjYtNGUwNC1hOGMzLWJiMzJhYjZlODBhNdgCBOACAQ&sid=e12b90519bab632c3ffdcb360924a5c1&aid=304142&ucfs=1&arphpl=1&dest_id=97&dest_type=country&group_adults=2&req_adults=2&no_rooms=1&group_children=0&req_children=0&hpos=21&hapos=796&sr_order=popularity&srpvid=e74992fcebb600ae&srepoch=1646686577&from=searchresults#hotelTmpl': 306,\n",
       " 'https://www.booking.com/hotel/is/1001-nott.zh-tw.html?label=gen173bo-1DCAEoggI46AdIMFgDaOcBiAEBmAEwuAEXyAEM2AED6AEB-AEDiAIBmAICqAIDuALMrZiRBsACAdICJDA4MWM3ODVkLWU3YjYtNGUwNC1hOGMzLWJiMzJhYjZlODBhNdgCBOACAQ&sid=e12b90519bab632c3ffdcb360924a5c1&aid=304142&ucfs=1&arphpl=1&dest_id=97&dest_type=country&group_adults=2&req_adults=2&no_rooms=1&group_children=0&req_children=0&hpos=22&hapos=797&sr_order=popularity&srpvid=e74992fcebb600ae&srepoch=1646686577&from=searchresults#hotelTmpl': 493,\n",
       " 'https://www.booking.com/hotel/is/ghk-guesthouse-kef.zh-tw.html?label=gen173bo-1DCAEoggI46AdIMFgDaOcBiAEBmAEwuAEXyAEM2AED6AEB-AEDiAIBmAICqAIDuALMrZiRBsACAdICJDA4MWM3ODVkLWU3YjYtNGUwNC1hOGMzLWJiMzJhYjZlODBhNdgCBOACAQ&sid=e12b90519bab632c3ffdcb360924a5c1&aid=304142&ucfs=1&arphpl=1&dest_id=97&dest_type=country&group_adults=2&req_adults=2&no_rooms=1&group_children=0&req_children=0&hpos=23&hapos=798&sr_order=popularity&srpvid=e74992fcebb600ae&srepoch=1646686577&from=searchresults#hotelTmpl': 846,\n",
       " 'https://www.booking.com/hotel/is/geysir-hestar.zh-tw.html?label=gen173bo-1DCAEoggI46AdIMFgDaOcBiAEBmAEwuAEXyAEM2AED6AEB-AEDiAIBmAICqAIDuALMrZiRBsACAdICJDA4MWM3ODVkLWU3YjYtNGUwNC1hOGMzLWJiMzJhYjZlODBhNdgCBOACAQ&sid=e12b90519bab632c3ffdcb360924a5c1&aid=304142&ucfs=1&arphpl=1&dest_id=97&dest_type=country&group_adults=2&req_adults=2&no_rooms=1&group_children=0&req_children=0&hpos=24&hapos=799&sr_order=popularity&srpvid=e74992fcebb600ae&srepoch=1646686577&from_sustainable_property_sr=1&from=searchresults#hotelTmpl': 301,\n",
       " 'https://www.booking.com/hotel/is/selja.zh-tw.html?label=gen173bo-1DCAEoggI46AdIMFgDaOcBiAEBmAEwuAEXyAEM2AED6AEB-AEDiAIBmAICqAIDuALMrZiRBsACAdICJDA4MWM3ODVkLWU3YjYtNGUwNC1hOGMzLWJiMzJhYjZlODBhNdgCBOACAQ&sid=e12b90519bab632c3ffdcb360924a5c1&aid=304142&ucfs=1&arphpl=1&dest_id=97&dest_type=country&group_adults=2&req_adults=2&no_rooms=1&group_children=0&req_children=0&hpos=25&hapos=800&sr_order=popularity&srpvid=e74992fcebb600ae&srepoch=1646686577&from=searchresults#hotelTmpl': 274,\n",
       " 'https://www.booking.com/hotel/is/farmhouse-lodge-vik-i-myrdal.zh-tw.html?label=gen173bo-1DCAEoggI46AdIMFgDaOcBiAEBmAEwuAEXyAEM2AED6AEB-AEDiAIBmAICqAIDuALMrZiRBsACAdICJDA4MWM3ODVkLWU3YjYtNGUwNC1hOGMzLWJiMzJhYjZlODBhNdgCBOACAQ&sid=e12b90519bab632c3ffdcb360924a5c1&aid=304142&ucfs=1&arphpl=1&dest_id=97&dest_type=country&group_adults=2&req_adults=2&no_rooms=1&group_children=0&req_children=0&hpos=1&hapos=801&sr_order=popularity&srpvid=e74992fcebb600ae&srepoch=1646686581&from=searchresults#hotelTmpl': 117,\n",
       " 'https://www.booking.com/hotel/is/ak-apartments.zh-tw.html?label=gen173bo-1DCAEoggI46AdIMFgDaOcBiAEBmAEwuAEXyAEM2AED6AEB-AEDiAIBmAICqAIDuALMrZiRBsACAdICJDA4MWM3ODVkLWU3YjYtNGUwNC1hOGMzLWJiMzJhYjZlODBhNdgCBOACAQ&sid=e12b90519bab632c3ffdcb360924a5c1&aid=304142&ucfs=1&arphpl=1&dest_id=97&dest_type=country&group_adults=2&req_adults=2&no_rooms=1&group_children=0&req_children=0&hpos=2&hapos=802&sr_order=popularity&srpvid=e74992fcebb600ae&srepoch=1646686581&from_sustainable_property_sr=1&from=searchresults#hotelTmpl': 313,\n",
       " 'https://www.booking.com/hotel/is/helgrindur.zh-tw.html?label=gen173bo-1DCAEoggI46AdIMFgDaOcBiAEBmAEwuAEXyAEM2AED6AEB-AEDiAIBmAICqAIDuALMrZiRBsACAdICJDA4MWM3ODVkLWU3YjYtNGUwNC1hOGMzLWJiMzJhYjZlODBhNdgCBOACAQ&sid=e12b90519bab632c3ffdcb360924a5c1&aid=304142&ucfs=1&arphpl=1&dest_id=97&dest_type=country&group_adults=2&req_adults=2&no_rooms=1&group_children=0&req_children=0&hpos=3&hapos=803&sr_order=popularity&srpvid=e74992fcebb600ae&srepoch=1646686581&from_sustainable_property_sr=1&from=searchresults#hotelTmpl': 57,\n",
       " 'https://www.booking.com/hotel/is/b14-hostel.zh-tw.html?label=gen173bo-1DCAEoggI46AdIMFgDaOcBiAEBmAEwuAEXyAEM2AED6AEB-AEDiAIBmAICqAIDuALMrZiRBsACAdICJDA4MWM3ODVkLWU3YjYtNGUwNC1hOGMzLWJiMzJhYjZlODBhNdgCBOACAQ&sid=e12b90519bab632c3ffdcb360924a5c1&aid=304142&ucfs=1&arphpl=1&dest_id=97&dest_type=country&group_adults=2&req_adults=2&no_rooms=1&group_children=0&req_children=0&hpos=4&hapos=804&sr_order=popularity&srpvid=e74992fcebb600ae&srepoch=1646686581&from=searchresults#hotelTmpl': 186,\n",
       " 'https://www.booking.com/hotel/is/dynjandi-guesthouse.zh-tw.html?label=gen173bo-1DCAEoggI46AdIMFgDaOcBiAEBmAEwuAEXyAEM2AED6AEB-AEDiAIBmAICqAIDuALMrZiRBsACAdICJDA4MWM3ODVkLWU3YjYtNGUwNC1hOGMzLWJiMzJhYjZlODBhNdgCBOACAQ&sid=e12b90519bab632c3ffdcb360924a5c1&aid=304142&ucfs=1&arphpl=1&dest_id=97&dest_type=country&group_adults=2&req_adults=2&no_rooms=1&group_children=0&req_children=0&hpos=5&hapos=805&sr_order=popularity&srpvid=e74992fcebb600ae&srepoch=1646686581&from=searchresults#hotelTmpl': 338,\n",
       " 'https://www.booking.com/hotel/is/guesthouse-arny.zh-tw.html?label=gen173bo-1DCAEoggI46AdIMFgDaOcBiAEBmAEwuAEXyAEM2AED6AEB-AEDiAIBmAICqAIDuALMrZiRBsACAdICJDA4MWM3ODVkLWU3YjYtNGUwNC1hOGMzLWJiMzJhYjZlODBhNdgCBOACAQ&sid=e12b90519bab632c3ffdcb360924a5c1&aid=304142&ucfs=1&arphpl=1&dest_id=97&dest_type=country&group_adults=2&req_adults=2&no_rooms=1&group_children=0&req_children=0&hpos=6&hapos=806&sr_order=popularity&srpvid=e74992fcebb600ae&srepoch=1646686581&from=searchresults#hotelTmpl': 177,\n",
       " 'https://www.booking.com/hotel/is/sandgerdi-cottages.zh-tw.html?label=gen173bo-1DCAEoggI46AdIMFgDaOcBiAEBmAEwuAEXyAEM2AED6AEB-AEDiAIBmAICqAIDuALMrZiRBsACAdICJDA4MWM3ODVkLWU3YjYtNGUwNC1hOGMzLWJiMzJhYjZlODBhNdgCBOACAQ&sid=e12b90519bab632c3ffdcb360924a5c1&aid=304142&ucfs=1&arphpl=1&dest_id=97&dest_type=country&group_adults=2&req_adults=2&no_rooms=1&group_children=0&req_children=0&hpos=7&hapos=807&sr_order=popularity&srpvid=e74992fcebb600ae&srepoch=1646686581&from=searchresults#hotelTmpl': 793,\n",
       " 'https://www.booking.com/hotel/is/reykjavik-peace-center.zh-tw.html?label=gen173bo-1DCAEoggI46AdIMFgDaOcBiAEBmAEwuAEXyAEM2AED6AEB-AEDiAIBmAICqAIDuALMrZiRBsACAdICJDA4MWM3ODVkLWU3YjYtNGUwNC1hOGMzLWJiMzJhYjZlODBhNdgCBOACAQ&sid=e12b90519bab632c3ffdcb360924a5c1&aid=304142&ucfs=1&arphpl=1&dest_id=97&dest_type=country&group_adults=2&req_adults=2&no_rooms=1&group_children=0&req_children=0&hpos=8&hapos=808&sr_order=popularity&srpvid=e74992fcebb600ae&srepoch=1646686581&from=searchresults#hotelTmpl': 79,\n",
       " 'https://www.booking.com/hotel/is/luxury-private-villa.zh-tw.html?label=gen173bo-1DCAEoggI46AdIMFgDaOcBiAEBmAEwuAEXyAEM2AED6AEB-AEDiAIBmAICqAIDuALMrZiRBsACAdICJDA4MWM3ODVkLWU3YjYtNGUwNC1hOGMzLWJiMzJhYjZlODBhNdgCBOACAQ&sid=e12b90519bab632c3ffdcb360924a5c1&aid=304142&ucfs=1&arphpl=1&dest_id=97&dest_type=country&group_adults=2&req_adults=2&no_rooms=1&group_children=0&req_children=0&hpos=9&hapos=809&sr_order=popularity&srpvid=e74992fcebb600ae&srepoch=1646686581&from=searchresults#hotelTmpl': 59,\n",
       " 'https://www.booking.com/hotel/is/budget-apartment-with-ocean-view.zh-tw.html?label=gen173bo-1DCAEoggI46AdIMFgDaOcBiAEBmAEwuAEXyAEM2AED6AEB-AEDiAIBmAICqAIDuALMrZiRBsACAdICJDA4MWM3ODVkLWU3YjYtNGUwNC1hOGMzLWJiMzJhYjZlODBhNdgCBOACAQ&sid=e12b90519bab632c3ffdcb360924a5c1&aid=304142&ucfs=1&arphpl=1&dest_id=97&dest_type=country&group_adults=2&req_adults=2&no_rooms=1&group_children=0&req_children=0&hpos=10&hapos=810&sr_order=popularity&srpvid=e74992fcebb600ae&srepoch=1646686581&from=searchresults#hotelTmpl': 426,\n",
       " 'https://www.booking.com/hotel/is/giljur-guesthouse.zh-tw.html?label=gen173bo-1DCAEoggI46AdIMFgDaOcBiAEBmAEwuAEXyAEM2AED6AEB-AEDiAIBmAICqAIDuALMrZiRBsACAdICJDA4MWM3ODVkLWU3YjYtNGUwNC1hOGMzLWJiMzJhYjZlODBhNdgCBOACAQ&sid=e12b90519bab632c3ffdcb360924a5c1&aid=304142&ucfs=1&arphpl=1&dest_id=97&dest_type=country&group_adults=2&req_adults=2&no_rooms=1&group_children=0&req_children=0&hpos=11&hapos=811&sr_order=popularity&srpvid=e74992fcebb600ae&srepoch=1646686581&from_sustainable_property_sr=1&from=searchresults#hotelTmpl': 74,\n",
       " 'https://www.booking.com/hotel/is/guesthouse-tilraun.zh-tw.html?label=gen173bo-1DCAEoggI46AdIMFgDaOcBiAEBmAEwuAEXyAEM2AED6AEB-AEDiAIBmAICqAIDuALMrZiRBsACAdICJDA4MWM3ODVkLWU3YjYtNGUwNC1hOGMzLWJiMzJhYjZlODBhNdgCBOACAQ&sid=e12b90519bab632c3ffdcb360924a5c1&aid=304142&ucfs=1&arphpl=1&dest_id=97&dest_type=country&group_adults=2&req_adults=2&no_rooms=1&group_children=0&req_children=0&hpos=12&hapos=812&sr_order=popularity&srpvid=e74992fcebb600ae&srepoch=1646686581&from=searchresults#hotelTmpl': 60,\n",
       " 'https://www.booking.com/hotel/is/akurgerdi-guesthouse.zh-tw.html?label=gen173bo-1DCAEoggI46AdIMFgDaOcBiAEBmAEwuAEXyAEM2AED6AEB-AEDiAIBmAICqAIDuALMrZiRBsACAdICJDA4MWM3ODVkLWU3YjYtNGUwNC1hOGMzLWJiMzJhYjZlODBhNdgCBOACAQ&sid=e12b90519bab632c3ffdcb360924a5c1&aid=304142&ucfs=1&arphpl=1&dest_id=97&dest_type=country&group_adults=2&req_adults=2&no_rooms=1&group_children=0&req_children=0&hpos=13&hapos=813&sr_order=popularity&srpvid=e74992fcebb600ae&srepoch=1646686581&from=searchresults#hotelTmpl': 267,\n",
       " 'https://www.booking.com/hotel/is/laekur-guesthouse.zh-tw.html?label=gen173bo-1DCAEoggI46AdIMFgDaOcBiAEBmAEwuAEXyAEM2AED6AEB-AEDiAIBmAICqAIDuALMrZiRBsACAdICJDA4MWM3ODVkLWU3YjYtNGUwNC1hOGMzLWJiMzJhYjZlODBhNdgCBOACAQ&sid=e12b90519bab632c3ffdcb360924a5c1&aid=304142&ucfs=1&arphpl=1&dest_id=97&dest_type=country&group_adults=2&req_adults=2&no_rooms=1&group_children=0&req_children=0&hpos=14&hapos=814&sr_order=popularity&srpvid=e74992fcebb600ae&srepoch=1646686581&from_sustainable_property_sr=1&from=searchresults#hotelTmpl': 516,\n",
       " 'https://www.booking.com/hotel/is/hlid-hostel.zh-tw.html?label=gen173bo-1DCAEoggI46AdIMFgDaOcBiAEBmAEwuAEXyAEM2AED6AEB-AEDiAIBmAICqAIDuALMrZiRBsACAdICJDA4MWM3ODVkLWU3YjYtNGUwNC1hOGMzLWJiMzJhYjZlODBhNdgCBOACAQ&sid=e12b90519bab632c3ffdcb360924a5c1&aid=304142&ucfs=1&arphpl=1&dest_id=97&dest_type=country&group_adults=2&req_adults=2&no_rooms=1&group_children=0&req_children=0&hpos=15&hapos=815&sr_order=popularity&srpvid=e74992fcebb600ae&srepoch=1646686581&from_sustainable_property_sr=1&from=searchresults#hotelTmpl': 685,\n",
       " 'https://www.booking.com/hotel/is/frost-and-fire.zh-tw.html?label=gen173bo-1DCAEoggI46AdIMFgDaOcBiAEBmAEwuAEXyAEM2AED6AEB-AEDiAIBmAICqAIDuALMrZiRBsACAdICJDA4MWM3ODVkLWU3YjYtNGUwNC1hOGMzLWJiMzJhYjZlODBhNdgCBOACAQ&sid=e12b90519bab632c3ffdcb360924a5c1&aid=304142&ucfs=1&arphpl=1&dest_id=97&dest_type=country&group_adults=2&req_adults=2&no_rooms=1&group_children=0&req_children=0&hpos=16&hapos=816&sr_order=popularity&srpvid=e74992fcebb600ae&srepoch=1646686581&from=searchresults#hotelTmpl': 51,\n",
       " 'https://www.booking.com/hotel/is/black-beach-cottage-small.zh-tw.html?label=gen173bo-1DCAEoggI46AdIMFgDaOcBiAEBmAEwuAEXyAEM2AED6AEB-AEDiAIBmAICqAIDuALMrZiRBsACAdICJDA4MWM3ODVkLWU3YjYtNGUwNC1hOGMzLWJiMzJhYjZlODBhNdgCBOACAQ&sid=e12b90519bab632c3ffdcb360924a5c1&aid=304142&ucfs=1&arphpl=1&dest_id=97&dest_type=country&group_adults=2&req_adults=2&no_rooms=1&group_children=0&req_children=0&hpos=17&hapos=817&sr_order=popularity&srpvid=e74992fcebb600ae&srepoch=1646686581&from=searchresults#hotelTmpl': 74,\n",
       " 'https://www.booking.com/hotel/is/akurgerdi-guesthouse-8-country-life-style.zh-tw.html?label=gen173bo-1DCAEoggI46AdIMFgDaOcBiAEBmAEwuAEXyAEM2AED6AEB-AEDiAIBmAICqAIDuALMrZiRBsACAdICJDA4MWM3ODVkLWU3YjYtNGUwNC1hOGMzLWJiMzJhYjZlODBhNdgCBOACAQ&sid=e12b90519bab632c3ffdcb360924a5c1&aid=304142&ucfs=1&arphpl=1&dest_id=97&dest_type=country&group_adults=2&req_adults=2&no_rooms=1&group_children=0&req_children=0&hpos=18&hapos=818&sr_order=popularity&srpvid=e74992fcebb600ae&srepoch=1646686581&from=searchresults#hotelTmpl': 290,\n",
       " 'https://www.booking.com/hotel/is/svala-apartments.zh-tw.html?label=gen173bo-1DCAEoggI46AdIMFgDaOcBiAEBmAEwuAEXyAEM2AED6AEB-AEDiAIBmAICqAIDuALMrZiRBsACAdICJDA4MWM3ODVkLWU3YjYtNGUwNC1hOGMzLWJiMzJhYjZlODBhNdgCBOACAQ&sid=e12b90519bab632c3ffdcb360924a5c1&aid=304142&ucfs=1&arphpl=1&dest_id=97&dest_type=country&group_adults=2&req_adults=2&no_rooms=1&group_children=0&req_children=0&hpos=19&hapos=819&sr_order=popularity&srpvid=e74992fcebb600ae&srepoch=1646686581&from_sustainable_property_sr=1&from=searchresults#hotelTmpl': 103,\n",
       " 'https://www.booking.com/hotel/is/jadar-the-old-house.zh-tw.html?label=gen173bo-1DCAEoggI46AdIMFgDaOcBiAEBmAEwuAEXyAEM2AED6AEB-AEDiAIBmAICqAIDuALMrZiRBsACAdICJDA4MWM3ODVkLWU3YjYtNGUwNC1hOGMzLWJiMzJhYjZlODBhNdgCBOACAQ&sid=e12b90519bab632c3ffdcb360924a5c1&aid=304142&ucfs=1&arphpl=1&dest_id=97&dest_type=country&group_adults=2&req_adults=2&no_rooms=1&group_children=0&req_children=0&hpos=20&hapos=820&sr_order=popularity&srpvid=e74992fcebb600ae&srepoch=1646686581&from=searchresults#hotelTmpl': 11,\n",
       " 'https://www.booking.com/hotel/is/bjarkarbraut-6.zh-tw.html?label=gen173bo-1DCAEoggI46AdIMFgDaOcBiAEBmAEwuAEXyAEM2AED6AEB-AEDiAIBmAICqAIDuALMrZiRBsACAdICJDA4MWM3ODVkLWU3YjYtNGUwNC1hOGMzLWJiMzJhYjZlODBhNdgCBOACAQ&sid=e12b90519bab632c3ffdcb360924a5c1&aid=304142&ucfs=1&arphpl=1&dest_id=97&dest_type=country&group_adults=2&req_adults=2&no_rooms=1&group_children=0&req_children=0&hpos=21&hapos=821&sr_order=popularity&srpvid=e74992fcebb600ae&srepoch=1646686581&from=searchresults#hotelTmpl': 37,\n",
       " 'https://www.booking.com/hotel/is/studlagil-canyon-country-home.zh-tw.html?label=gen173bo-1DCAEoggI46AdIMFgDaOcBiAEBmAEwuAEXyAEM2AED6AEB-AEDiAIBmAICqAIDuALMrZiRBsACAdICJDA4MWM3ODVkLWU3YjYtNGUwNC1hOGMzLWJiMzJhYjZlODBhNdgCBOACAQ&sid=e12b90519bab632c3ffdcb360924a5c1&aid=304142&ucfs=1&arphpl=1&dest_id=97&dest_type=country&group_adults=2&req_adults=2&no_rooms=1&group_children=0&req_children=0&hpos=22&hapos=822&sr_order=popularity&srpvid=e74992fcebb600ae&srepoch=1646686581&from=searchresults#hotelTmpl': 48,\n",
       " 'https://www.booking.com/hotel/is/hlid-huts.zh-tw.html?label=gen173bo-1DCAEoggI46AdIMFgDaOcBiAEBmAEwuAEXyAEM2AED6AEB-AEDiAIBmAICqAIDuALMrZiRBsACAdICJDA4MWM3ODVkLWU3YjYtNGUwNC1hOGMzLWJiMzJhYjZlODBhNdgCBOACAQ&sid=e12b90519bab632c3ffdcb360924a5c1&aid=304142&ucfs=1&arphpl=1&dest_id=97&dest_type=country&group_adults=2&req_adults=2&no_rooms=1&group_children=0&req_children=0&hpos=23&hapos=823&sr_order=popularity&srpvid=e74992fcebb600ae&srepoch=1646686581&from_sustainable_property_sr=1&from=searchresults#hotelTmpl': 104,\n",
       " 'https://www.booking.com/hotel/is/sydri-thvera.zh-tw.html?label=gen173bo-1DCAEoggI46AdIMFgDaOcBiAEBmAEwuAEXyAEM2AED6AEB-AEDiAIBmAICqAIDuALMrZiRBsACAdICJDA4MWM3ODVkLWU3YjYtNGUwNC1hOGMzLWJiMzJhYjZlODBhNdgCBOACAQ&sid=e12b90519bab632c3ffdcb360924a5c1&aid=304142&ucfs=1&arphpl=1&dest_id=97&dest_type=country&group_adults=2&req_adults=2&no_rooms=1&group_children=0&req_children=0&hpos=24&hapos=824&sr_order=popularity&srpvid=e74992fcebb600ae&srepoch=1646686581&from=searchresults#hotelTmpl': 74,\n",
       " 'https://www.booking.com/hotel/is/holiday-guesthouse.zh-tw.html?label=gen173bo-1DCAEoggI46AdIMFgDaOcBiAEBmAEwuAEXyAEM2AED6AEB-AEDiAIBmAICqAIDuALMrZiRBsACAdICJDA4MWM3ODVkLWU3YjYtNGUwNC1hOGMzLWJiMzJhYjZlODBhNdgCBOACAQ&sid=e12b90519bab632c3ffdcb360924a5c1&aid=304142&ucfs=1&arphpl=1&dest_id=97&dest_type=country&group_adults=2&req_adults=2&no_rooms=1&group_children=0&req_children=0&hpos=25&hapos=825&sr_order=popularity&srpvid=e74992fcebb600ae&srepoch=1646686581&from_sustainable_property_sr=1&from=searchresults#hotelTmpl': 85,\n",
       " 'https://www.booking.com/hotel/is/odinn-reykjavik-skolavordustigur-apartments.zh-tw.html?label=gen173bo-1DCAEoggI46AdIMFgDaOcBiAEBmAEwuAEXyAEM2AED6AEB-AEDiAIBmAICqAIDuALMrZiRBsACAdICJDA4MWM3ODVkLWU3YjYtNGUwNC1hOGMzLWJiMzJhYjZlODBhNdgCBOACAQ&sid=e12b90519bab632c3ffdcb360924a5c1&aid=304142&ucfs=1&arphpl=1&dest_id=97&dest_type=country&group_adults=2&req_adults=2&no_rooms=1&group_children=0&req_children=0&hpos=1&hapos=826&sr_order=popularity&srpvid=e74992fcebb600ae&srepoch=1646686585&from=searchresults#hotelTmpl': 1269,\n",
       " 'https://www.booking.com/hotel/is/horgsland-guesthouse.zh-tw.html?label=gen173bo-1DCAEoggI46AdIMFgDaOcBiAEBmAEwuAEXyAEM2AED6AEB-AEDiAIBmAICqAIDuALMrZiRBsACAdICJDA4MWM3ODVkLWU3YjYtNGUwNC1hOGMzLWJiMzJhYjZlODBhNdgCBOACAQ&sid=e12b90519bab632c3ffdcb360924a5c1&aid=304142&ucfs=1&arphpl=1&dest_id=97&dest_type=country&group_adults=2&req_adults=2&no_rooms=1&group_children=0&req_children=0&hpos=2&hapos=827&sr_order=popularity&srpvid=e74992fcebb600ae&srepoch=1646686585&from=searchresults#hotelTmpl': 764,\n",
       " 'https://www.booking.com/hotel/is/volcano.zh-tw.html?label=gen173bo-1DCAEoggI46AdIMFgDaOcBiAEBmAEwuAEXyAEM2AED6AEB-AEDiAIBmAICqAIDuALMrZiRBsACAdICJDA4MWM3ODVkLWU3YjYtNGUwNC1hOGMzLWJiMzJhYjZlODBhNdgCBOACAQ&sid=e12b90519bab632c3ffdcb360924a5c1&aid=304142&ucfs=1&arphpl=1&dest_id=97&dest_type=country&group_adults=2&req_adults=2&no_rooms=1&group_children=0&req_children=0&hpos=3&hapos=828&sr_order=popularity&srpvid=e74992fcebb600ae&srepoch=1646686585&from=searchresults#hotelTmpl': 239,\n",
       " 'https://www.booking.com/hotel/is/sumarhusin-signyjarstodum.zh-tw.html?label=gen173bo-1DCAEoggI46AdIMFgDaOcBiAEBmAEwuAEXyAEM2AED6AEB-AEDiAIBmAICqAIDuALMrZiRBsACAdICJDA4MWM3ODVkLWU3YjYtNGUwNC1hOGMzLWJiMzJhYjZlODBhNdgCBOACAQ&sid=e12b90519bab632c3ffdcb360924a5c1&aid=304142&ucfs=1&arphpl=1&dest_id=97&dest_type=country&group_adults=2&req_adults=2&no_rooms=1&group_children=0&req_children=0&hpos=4&hapos=829&sr_order=popularity&srpvid=e74992fcebb600ae&srepoch=1646686585&from=searchresults#hotelTmpl': 804,\n",
       " 'https://www.booking.com/hotel/is/hotel-geirland.zh-tw.html?label=gen173bo-1DCAEoggI46AdIMFgDaOcBiAEBmAEwuAEXyAEM2AED6AEB-AEDiAIBmAICqAIDuALMrZiRBsACAdICJDA4MWM3ODVkLWU3YjYtNGUwNC1hOGMzLWJiMzJhYjZlODBhNdgCBOACAQ&sid=e12b90519bab632c3ffdcb360924a5c1&aid=304142&ucfs=1&arphpl=1&dest_id=97&dest_type=country&group_adults=2&req_adults=2&no_rooms=1&group_children=0&req_children=0&hpos=5&hapos=830&sr_order=popularity&srpvid=e74992fcebb600ae&srepoch=1646686585&from_sustainable_property_sr=1&from=searchresults#hotelTmpl': 227,\n",
       " 'https://www.booking.com/hotel/is/media-luna-guesthouse.zh-tw.html?label=gen173bo-1DCAEoggI46AdIMFgDaOcBiAEBmAEwuAEXyAEM2AED6AEB-AEDiAIBmAICqAIDuALMrZiRBsACAdICJDA4MWM3ODVkLWU3YjYtNGUwNC1hOGMzLWJiMzJhYjZlODBhNdgCBOACAQ&sid=e12b90519bab632c3ffdcb360924a5c1&aid=304142&ucfs=1&arphpl=1&dest_id=97&dest_type=country&group_adults=2&req_adults=2&no_rooms=1&group_children=0&req_children=0&hpos=6&hapos=831&sr_order=popularity&srpvid=e74992fcebb600ae&srepoch=1646686585&from=searchresults#hotelTmpl': 20,\n",
       " 'https://www.booking.com/hotel/is/fell-cottages.zh-tw.html?label=gen173bo-1DCAEoggI46AdIMFgDaOcBiAEBmAEwuAEXyAEM2AED6AEB-AEDiAIBmAICqAIDuALMrZiRBsACAdICJDA4MWM3ODVkLWU3YjYtNGUwNC1hOGMzLWJiMzJhYjZlODBhNdgCBOACAQ&sid=e12b90519bab632c3ffdcb360924a5c1&aid=304142&ucfs=1&arphpl=1&dest_id=97&dest_type=country&group_adults=2&req_adults=2&no_rooms=1&group_children=0&req_children=0&hpos=7&hapos=832&sr_order=popularity&srpvid=e74992fcebb600ae&srepoch=1646686585&from=searchresults#hotelTmpl': 153,\n",
       " 'https://www.booking.com/hotel/is/vegamot-cottages-and-the-old-farmhouse.zh-tw.html?label=gen173bo-1DCAEoggI46AdIMFgDaOcBiAEBmAEwuAEXyAEM2AED6AEB-AEDiAIBmAICqAIDuALMrZiRBsACAdICJDA4MWM3ODVkLWU3YjYtNGUwNC1hOGMzLWJiMzJhYjZlODBhNdgCBOACAQ&sid=e12b90519bab632c3ffdcb360924a5c1&aid=304142&ucfs=1&arphpl=1&dest_id=97&dest_type=country&group_adults=2&req_adults=2&no_rooms=1&group_children=0&req_children=0&hpos=8&hapos=833&sr_order=popularity&srpvid=e74992fcebb600ae&srepoch=1646686585&from=searchresults#hotelTmpl': 133,\n",
       " 'https://www.booking.com/hotel/is/skipalaekur-farm-apartments.zh-tw.html?label=gen173bo-1DCAEoggI46AdIMFgDaOcBiAEBmAEwuAEXyAEM2AED6AEB-AEDiAIBmAICqAIDuALMrZiRBsACAdICJDA4MWM3ODVkLWU3YjYtNGUwNC1hOGMzLWJiMzJhYjZlODBhNdgCBOACAQ&sid=e12b90519bab632c3ffdcb360924a5c1&aid=304142&ucfs=1&arphpl=1&dest_id=97&dest_type=country&group_adults=2&req_adults=2&no_rooms=1&group_children=0&req_children=0&hpos=9&hapos=834&sr_order=popularity&srpvid=e74992fcebb600ae&srepoch=1646686585&from=searchresults#hotelTmpl': 853,\n",
       " 'https://www.booking.com/hotel/is/laekjaborgir-guesthouse.zh-tw.html?label=gen173bo-1DCAEoggI46AdIMFgDaOcBiAEBmAEwuAEXyAEM2AED6AEB-AEDiAIBmAICqAIDuALMrZiRBsACAdICJDA4MWM3ODVkLWU3YjYtNGUwNC1hOGMzLWJiMzJhYjZlODBhNdgCBOACAQ&sid=e12b90519bab632c3ffdcb360924a5c1&aid=304142&ucfs=1&arphpl=1&dest_id=97&dest_type=country&group_adults=2&req_adults=2&no_rooms=1&group_children=0&req_children=0&hpos=10&hapos=835&sr_order=popularity&srpvid=e74992fcebb600ae&srepoch=1646686585&from=searchresults#hotelTmpl': 873,\n",
       " 'https://www.booking.com/hotel/is/northern-light-inn.zh-tw.html?label=gen173bo-1DCAEoggI46AdIMFgDaOcBiAEBmAEwuAEXyAEM2AED6AEB-AEDiAIBmAICqAIDuALMrZiRBsACAdICJDA4MWM3ODVkLWU3YjYtNGUwNC1hOGMzLWJiMzJhYjZlODBhNdgCBOACAQ&sid=e12b90519bab632c3ffdcb360924a5c1&aid=304142&ucfs=1&arphpl=1&dest_id=97&dest_type=country&group_adults=2&req_adults=2&no_rooms=1&group_children=0&req_children=0&hpos=11&hapos=836&sr_order=popularity&srpvid=e74992fcebb600ae&srepoch=1646686585&from_sustainable_property_sr=1&from=searchresults#hotelTmpl': 104,\n",
       " 'https://www.booking.com/hotel/is/lovely-apartment-with-mountain-view.zh-tw.html?label=gen173bo-1DCAEoggI46AdIMFgDaOcBiAEBmAEwuAEXyAEM2AED6AEB-AEDiAIBmAICqAIDuALMrZiRBsACAdICJDA4MWM3ODVkLWU3YjYtNGUwNC1hOGMzLWJiMzJhYjZlODBhNdgCBOACAQ&sid=e12b90519bab632c3ffdcb360924a5c1&aid=304142&ucfs=1&arphpl=1&dest_id=97&dest_type=country&group_adults=2&req_adults=2&no_rooms=1&group_children=0&req_children=0&hpos=12&hapos=837&sr_order=popularity&srpvid=e74992fcebb600ae&srepoch=1646686585&from=searchresults#hotelTmpl': 144,\n",
       " 'https://www.booking.com/hotel/is/guesthouse-baegisa-is.zh-tw.html?label=gen173bo-1DCAEoggI46AdIMFgDaOcBiAEBmAEwuAEXyAEM2AED6AEB-AEDiAIBmAICqAIDuALMrZiRBsACAdICJDA4MWM3ODVkLWU3YjYtNGUwNC1hOGMzLWJiMzJhYjZlODBhNdgCBOACAQ&sid=e12b90519bab632c3ffdcb360924a5c1&aid=304142&ucfs=1&arphpl=1&dest_id=97&dest_type=country&group_adults=2&req_adults=2&no_rooms=1&group_children=0&req_children=0&hpos=13&hapos=838&sr_order=popularity&srpvid=e74992fcebb600ae&srepoch=1646686585&from_sustainable_property_sr=1&from=searchresults#hotelTmpl': 244,\n",
       " 'https://www.booking.com/hotel/is/egils-apartments.zh-tw.html?label=gen173bo-1DCAEoggI46AdIMFgDaOcBiAEBmAEwuAEXyAEM2AED6AEB-AEDiAIBmAICqAIDuALMrZiRBsACAdICJDA4MWM3ODVkLWU3YjYtNGUwNC1hOGMzLWJiMzJhYjZlODBhNdgCBOACAQ&sid=e12b90519bab632c3ffdcb360924a5c1&aid=304142&ucfs=1&arphpl=1&dest_id=97&dest_type=country&group_adults=2&req_adults=2&no_rooms=1&group_children=0&req_children=0&hpos=14&hapos=839&sr_order=popularity&srpvid=e74992fcebb600ae&srepoch=1646686585&from=searchresults#hotelTmpl': 345,\n",
       " 'https://www.booking.com/hotel/is/happy-cove-guesthouse.zh-tw.html?label=gen173bo-1DCAEoggI46AdIMFgDaOcBiAEBmAEwuAEXyAEM2AED6AEB-AEDiAIBmAICqAIDuALMrZiRBsACAdICJDA4MWM3ODVkLWU3YjYtNGUwNC1hOGMzLWJiMzJhYjZlODBhNdgCBOACAQ&sid=e12b90519bab632c3ffdcb360924a5c1&aid=304142&ucfs=1&arphpl=1&dest_id=97&dest_type=country&group_adults=2&req_adults=2&no_rooms=1&group_children=0&req_children=0&hpos=15&hapos=840&sr_order=popularity&srpvid=e74992fcebb600ae&srepoch=1646686585&from_sustainable_property_sr=1&from=searchresults#hotelTmpl': 210,\n",
       " 'https://www.booking.com/hotel/is/magma.zh-tw.html?label=gen173bo-1DCAEoggI46AdIMFgDaOcBiAEBmAEwuAEXyAEM2AED6AEB-AEDiAIBmAICqAIDuALMrZiRBsACAdICJDA4MWM3ODVkLWU3YjYtNGUwNC1hOGMzLWJiMzJhYjZlODBhNdgCBOACAQ&sid=e12b90519bab632c3ffdcb360924a5c1&aid=304142&ucfs=1&arphpl=1&dest_id=97&dest_type=country&group_adults=2&req_adults=2&no_rooms=1&group_children=0&req_children=0&hpos=16&hapos=841&sr_order=popularity&srpvid=e74992fcebb600ae&srepoch=1646686585&from=searchresults#hotelTmpl': 8,\n",
       " 'https://www.booking.com/hotel/is/kosy-vik.zh-tw.html?label=gen173bo-1DCAEoggI46AdIMFgDaOcBiAEBmAEwuAEXyAEM2AED6AEB-AEDiAIBmAICqAIDuALMrZiRBsACAdICJDA4MWM3ODVkLWU3YjYtNGUwNC1hOGMzLWJiMzJhYjZlODBhNdgCBOACAQ&sid=e12b90519bab632c3ffdcb360924a5c1&aid=304142&ucfs=1&arphpl=1&dest_id=97&dest_type=country&group_adults=2&req_adults=2&no_rooms=1&group_children=0&req_children=0&hpos=17&hapos=842&sr_order=popularity&srpvid=e74992fcebb600ae&srepoch=1646686585&from=searchresults#hotelTmpl': 100,\n",
       " 'https://www.booking.com/hotel/is/hvammur-farm.zh-tw.html?label=gen173bo-1DCAEoggI46AdIMFgDaOcBiAEBmAEwuAEXyAEM2AED6AEB-AEDiAIBmAICqAIDuALMrZiRBsACAdICJDA4MWM3ODVkLWU3YjYtNGUwNC1hOGMzLWJiMzJhYjZlODBhNdgCBOACAQ&sid=e12b90519bab632c3ffdcb360924a5c1&aid=304142&ucfs=1&arphpl=1&dest_id=97&dest_type=country&group_adults=2&req_adults=2&no_rooms=1&group_children=0&req_children=0&hpos=18&hapos=843&sr_order=popularity&srpvid=e74992fcebb600ae&srepoch=1646686585&from=searchresults#hotelTmpl': 72,\n",
       " 'https://www.booking.com/hotel/is/guesthouse-at-hvammur-farm.zh-tw.html?label=gen173bo-1DCAEoggI46AdIMFgDaOcBiAEBmAEwuAEXyAEM2AED6AEB-AEDiAIBmAICqAIDuALMrZiRBsACAdICJDA4MWM3ODVkLWU3YjYtNGUwNC1hOGMzLWJiMzJhYjZlODBhNdgCBOACAQ&sid=e12b90519bab632c3ffdcb360924a5c1&aid=304142&ucfs=1&arphpl=1&dest_id=97&dest_type=country&group_adults=2&req_adults=2&no_rooms=1&group_children=0&req_children=0&hpos=19&hapos=844&sr_order=popularity&srpvid=e74992fcebb600ae&srepoch=1646686585&from=searchresults#hotelTmpl': 181,\n",
       " 'https://www.booking.com/hotel/is/vogahraun-4-myvatn1.zh-tw.html?label=gen173bo-1DCAEoggI46AdIMFgDaOcBiAEBmAEwuAEXyAEM2AED6AEB-AEDiAIBmAICqAIDuALMrZiRBsACAdICJDA4MWM3ODVkLWU3YjYtNGUwNC1hOGMzLWJiMzJhYjZlODBhNdgCBOACAQ&sid=e12b90519bab632c3ffdcb360924a5c1&aid=304142&ucfs=1&arphpl=1&dest_id=97&dest_type=country&group_adults=2&req_adults=2&no_rooms=1&group_children=0&req_children=0&hpos=20&hapos=845&sr_order=popularity&srpvid=e74992fcebb600ae&srepoch=1646686585&from_sustainable_property_sr=1&from=searchresults#hotelTmpl': 108,\n",
       " 'https://www.booking.com/hotel/is/vallakot-farm-guesthouse.zh-tw.html?label=gen173bo-1DCAEoggI46AdIMFgDaOcBiAEBmAEwuAEXyAEM2AED6AEB-AEDiAIBmAICqAIDuALMrZiRBsACAdICJDA4MWM3ODVkLWU3YjYtNGUwNC1hOGMzLWJiMzJhYjZlODBhNdgCBOACAQ&sid=e12b90519bab632c3ffdcb360924a5c1&aid=304142&ucfs=1&arphpl=1&dest_id=97&dest_type=country&group_adults=2&req_adults=2&no_rooms=1&group_children=0&req_children=0&hpos=21&hapos=846&sr_order=popularity&srpvid=e74992fcebb600ae&srepoch=1646686585&from=searchresults#hotelTmpl': 110,\n",
       " 'https://www.booking.com/hotel/is/granastadir-guesthouse.zh-tw.html?label=gen173bo-1DCAEoggI46AdIMFgDaOcBiAEBmAEwuAEXyAEM2AED6AEB-AEDiAIBmAICqAIDuALMrZiRBsACAdICJDA4MWM3ODVkLWU3YjYtNGUwNC1hOGMzLWJiMzJhYjZlODBhNdgCBOACAQ&sid=e12b90519bab632c3ffdcb360924a5c1&aid=304142&ucfs=1&arphpl=1&dest_id=97&dest_type=country&group_adults=2&req_adults=2&no_rooms=1&group_children=0&req_children=0&hpos=22&hapos=847&sr_order=popularity&srpvid=e74992fcebb600ae&srepoch=1646686585&from=searchresults#hotelTmpl': 276,\n",
       " 'https://www.booking.com/hotel/is/hafursa-vid-hallormsstad.zh-tw.html?label=gen173bo-1DCAEoggI46AdIMFgDaOcBiAEBmAEwuAEXyAEM2AED6AEB-AEDiAIBmAICqAIDuALMrZiRBsACAdICJDA4MWM3ODVkLWU3YjYtNGUwNC1hOGMzLWJiMzJhYjZlODBhNdgCBOACAQ&sid=e12b90519bab632c3ffdcb360924a5c1&aid=304142&ucfs=1&arphpl=1&dest_id=97&dest_type=country&group_adults=2&req_adults=2&no_rooms=1&group_children=0&req_children=0&hpos=23&hapos=848&sr_order=popularity&srpvid=e74992fcebb600ae&srepoch=1646686585&from=searchresults#hotelTmpl': 503,\n",
       " 'https://www.booking.com/hotel/is/alfred-39-s-studio-apartments.zh-tw.html?label=gen173bo-1DCAEoggI46AdIMFgDaOcBiAEBmAEwuAEXyAEM2AED6AEB-AEDiAIBmAICqAIDuALMrZiRBsACAdICJDA4MWM3ODVkLWU3YjYtNGUwNC1hOGMzLWJiMzJhYjZlODBhNdgCBOACAQ&sid=e12b90519bab632c3ffdcb360924a5c1&aid=304142&ucfs=1&arphpl=1&dest_id=97&dest_type=country&group_adults=2&req_adults=2&no_rooms=1&group_children=0&req_children=0&hpos=24&hapos=849&sr_order=popularity&srpvid=e74992fcebb600ae&srepoch=1646686585&from_sustainable_property_sr=1&from=searchresults#hotelTmpl': 33,\n",
       " 'https://www.booking.com/hotel/is/guesthouse-steig.zh-tw.html?label=gen173bo-1DCAEoggI46AdIMFgDaOcBiAEBmAEwuAEXyAEM2AED6AEB-AEDiAIBmAICqAIDuALMrZiRBsACAdICJDA4MWM3ODVkLWU3YjYtNGUwNC1hOGMzLWJiMzJhYjZlODBhNdgCBOACAQ&sid=e12b90519bab632c3ffdcb360924a5c1&aid=304142&ucfs=1&arphpl=1&dest_id=97&dest_type=country&group_adults=2&req_adults=2&no_rooms=1&group_children=0&req_children=0&hpos=25&hapos=850&sr_order=popularity&srpvid=e74992fcebb600ae&srepoch=1646686585&from_sustainable_property_sr=1&from=searchresults#hotelTmpl': 77,\n",
       " 'https://www.booking.com/hotel/is/ekra-reykjavik-apartment.zh-tw.html?label=gen173bo-1DCAEoggI46AdIMFgDaOcBiAEBmAEwuAEXyAEM2AED6AEB-AEDiAIBmAICqAIDuALMrZiRBsACAdICJDA4MWM3ODVkLWU3YjYtNGUwNC1hOGMzLWJiMzJhYjZlODBhNdgCBOACAQ&sid=e12b90519bab632c3ffdcb360924a5c1&aid=304142&ucfs=1&arphpl=1&dest_id=97&dest_type=country&group_adults=2&req_adults=2&no_rooms=1&group_children=0&req_children=0&hpos=1&hapos=851&sr_order=popularity&srpvid=e74992fcebb600ae&srepoch=1646686588&from_sustainable_property_sr=1&from=searchresults#hotelTmpl': 285,\n",
       " 'https://www.booking.com/hotel/is/sudavik-apartment.zh-tw.html?label=gen173bo-1DCAEoggI46AdIMFgDaOcBiAEBmAEwuAEXyAEM2AED6AEB-AEDiAIBmAICqAIDuALMrZiRBsACAdICJDA4MWM3ODVkLWU3YjYtNGUwNC1hOGMzLWJiMzJhYjZlODBhNdgCBOACAQ&sid=e12b90519bab632c3ffdcb360924a5c1&aid=304142&ucfs=1&arphpl=1&dest_id=97&dest_type=country&group_adults=2&req_adults=2&no_rooms=1&group_children=0&req_children=0&hpos=2&hapos=852&sr_order=popularity&srpvid=e74992fcebb600ae&srepoch=1646686588&from=searchresults#hotelTmpl': 36,\n",
       " 'https://www.booking.com/hotel/is/kviholmi.zh-tw.html?label=gen173bo-1DCAEoggI46AdIMFgDaOcBiAEBmAEwuAEXyAEM2AED6AEB-AEDiAIBmAICqAIDuALMrZiRBsACAdICJDA4MWM3ODVkLWU3YjYtNGUwNC1hOGMzLWJiMzJhYjZlODBhNdgCBOACAQ&sid=e12b90519bab632c3ffdcb360924a5c1&aid=304142&ucfs=1&arphpl=1&dest_id=97&dest_type=country&group_adults=2&req_adults=2&no_rooms=1&group_children=0&req_children=0&hpos=3&hapos=853&sr_order=popularity&srpvid=e74992fcebb600ae&srepoch=1646686588&from=searchresults#hotelTmpl': 108,\n",
       " 'https://www.booking.com/hotel/is/cabin-at-lundar-farm.zh-tw.html?label=gen173bo-1DCAEoggI46AdIMFgDaOcBiAEBmAEwuAEXyAEM2AED6AEB-AEDiAIBmAICqAIDuALMrZiRBsACAdICJDA4MWM3ODVkLWU3YjYtNGUwNC1hOGMzLWJiMzJhYjZlODBhNdgCBOACAQ&sid=e12b90519bab632c3ffdcb360924a5c1&aid=304142&ucfs=1&arphpl=1&dest_id=97&dest_type=country&group_adults=2&req_adults=2&no_rooms=1&group_children=0&req_children=0&hpos=4&hapos=854&sr_order=popularity&srpvid=e74992fcebb600ae&srepoch=1646686588&from=searchresults#hotelTmpl': 12,\n",
       " 'https://www.booking.com/hotel/is/vorsabaer-1.zh-tw.html?label=gen173bo-1DCAEoggI46AdIMFgDaOcBiAEBmAEwuAEXyAEM2AED6AEB-AEDiAIBmAICqAIDuALMrZiRBsACAdICJDA4MWM3ODVkLWU3YjYtNGUwNC1hOGMzLWJiMzJhYjZlODBhNdgCBOACAQ&sid=e12b90519bab632c3ffdcb360924a5c1&aid=304142&ucfs=1&arphpl=1&dest_id=97&dest_type=country&group_adults=2&req_adults=2&no_rooms=1&group_children=0&req_children=0&hpos=5&hapos=855&sr_order=popularity&srpvid=e74992fcebb600ae&srepoch=1646686588&from=searchresults#hotelTmpl': 138,\n",
       " 'https://www.booking.com/hotel/is/warm-and-welcoming-flat-downtown-akureyri.zh-tw.html?label=gen173bo-1DCAEoggI46AdIMFgDaOcBiAEBmAEwuAEXyAEM2AED6AEB-AEDiAIBmAICqAIDuALMrZiRBsACAdICJDA4MWM3ODVkLWU3YjYtNGUwNC1hOGMzLWJiMzJhYjZlODBhNdgCBOACAQ&sid=e12b90519bab632c3ffdcb360924a5c1&aid=304142&ucfs=1&arphpl=1&dest_id=97&dest_type=country&group_adults=2&req_adults=2&no_rooms=1&group_children=0&req_children=0&hpos=6&hapos=856&sr_order=popularity&srpvid=e74992fcebb600ae&srepoch=1646686588&from=searchresults#hotelTmpl': 145,\n",
       " 'https://www.booking.com/hotel/is/ubak-guesthouse.zh-tw.html?label=gen173bo-1DCAEoggI46AdIMFgDaOcBiAEBmAEwuAEXyAEM2AED6AEB-AEDiAIBmAICqAIDuALMrZiRBsACAdICJDA4MWM3ODVkLWU3YjYtNGUwNC1hOGMzLWJiMzJhYjZlODBhNdgCBOACAQ&sid=e12b90519bab632c3ffdcb360924a5c1&aid=304142&ucfs=1&arphpl=1&dest_id=97&dest_type=country&group_adults=2&req_adults=2&no_rooms=1&group_children=0&req_children=0&hpos=7&hapos=857&sr_order=popularity&srpvid=e74992fcebb600ae&srepoch=1646686588&from=searchresults#hotelTmpl': 66,\n",
       " 'https://www.booking.com/hotel/is/hekla-cabin-hella.zh-tw.html?label=gen173bo-1DCAEoggI46AdIMFgDaOcBiAEBmAEwuAEXyAEM2AED6AEB-AEDiAIBmAICqAIDuALMrZiRBsACAdICJDA4MWM3ODVkLWU3YjYtNGUwNC1hOGMzLWJiMzJhYjZlODBhNdgCBOACAQ&sid=e12b90519bab632c3ffdcb360924a5c1&aid=304142&ucfs=1&arphpl=1&dest_id=97&dest_type=country&group_adults=2&req_adults=2&no_rooms=1&group_children=0&req_children=0&hpos=8&hapos=858&sr_order=popularity&srpvid=e74992fcebb600ae&srepoch=1646686588&from=searchresults#hotelTmpl': 66,\n",
       " 'https://www.booking.com/hotel/is/heart-of-reykjavik-old-charm-luxury-apartment.zh-tw.html?label=gen173bo-1DCAEoggI46AdIMFgDaOcBiAEBmAEwuAEXyAEM2AED6AEB-AEDiAIBmAICqAIDuALMrZiRBsACAdICJDA4MWM3ODVkLWU3YjYtNGUwNC1hOGMzLWJiMzJhYjZlODBhNdgCBOACAQ&sid=e12b90519bab632c3ffdcb360924a5c1&aid=304142&ucfs=1&arphpl=1&dest_id=97&dest_type=country&group_adults=2&req_adults=2&no_rooms=1&group_children=0&req_children=0&hpos=9&hapos=859&sr_order=popularity&srpvid=e74992fcebb600ae&srepoch=1646686588&from=searchresults#hotelTmpl': 430,\n",
       " 'https://www.booking.com/hotel/is/butterfly-guesthouse.zh-tw.html?label=gen173bo-1DCAEoggI46AdIMFgDaOcBiAEBmAEwuAEXyAEM2AED6AEB-AEDiAIBmAICqAIDuALMrZiRBsACAdICJDA4MWM3ODVkLWU3YjYtNGUwNC1hOGMzLWJiMzJhYjZlODBhNdgCBOACAQ&sid=e12b90519bab632c3ffdcb360924a5c1&aid=304142&ucfs=1&arphpl=1&dest_id=97&dest_type=country&group_adults=2&req_adults=2&no_rooms=1&group_children=0&req_children=0&hpos=10&hapos=860&sr_order=popularity&srpvid=e74992fcebb600ae&srepoch=1646686588&from=searchresults#hotelTmpl': 28,\n",
       " 'https://www.booking.com/hotel/is/lagarfell-homestay.zh-tw.html?label=gen173bo-1DCAEoggI46AdIMFgDaOcBiAEBmAEwuAEXyAEM2AED6AEB-AEDiAIBmAICqAIDuALMrZiRBsACAdICJDA4MWM3ODVkLWU3YjYtNGUwNC1hOGMzLWJiMzJhYjZlODBhNdgCBOACAQ&sid=e12b90519bab632c3ffdcb360924a5c1&aid=304142&ucfs=1&arphpl=1&dest_id=97&dest_type=country&group_adults=2&req_adults=2&no_rooms=1&group_children=0&req_children=0&hpos=11&hapos=861&sr_order=popularity&srpvid=e74992fcebb600ae&srepoch=1646686588&from_sustainable_property_sr=1&from=searchresults#hotelTmpl': 452,\n",
       " 'https://www.booking.com/hotel/is/laufasvegur-apartment.zh-tw.html?label=gen173bo-1DCAEoggI46AdIMFgDaOcBiAEBmAEwuAEXyAEM2AED6AEB-AEDiAIBmAICqAIDuALMrZiRBsACAdICJDA4MWM3ODVkLWU3YjYtNGUwNC1hOGMzLWJiMzJhYjZlODBhNdgCBOACAQ&sid=e12b90519bab632c3ffdcb360924a5c1&aid=304142&ucfs=1&arphpl=1&dest_id=97&dest_type=country&group_adults=2&req_adults=2&no_rooms=1&group_children=0&req_children=0&hpos=12&hapos=862&sr_order=popularity&srpvid=e74992fcebb600ae&srepoch=1646686588&from_sustainable_property_sr=1&from=searchresults#hotelTmpl': 211,\n",
       " 'https://www.booking.com/hotel/is/icelandic-apartments.zh-tw.html?label=gen173bo-1DCAEoggI46AdIMFgDaOcBiAEBmAEwuAEXyAEM2AED6AEB-AEDiAIBmAICqAIDuALMrZiRBsACAdICJDA4MWM3ODVkLWU3YjYtNGUwNC1hOGMzLWJiMzJhYjZlODBhNdgCBOACAQ&sid=e12b90519bab632c3ffdcb360924a5c1&aid=304142&ucfs=1&arphpl=1&dest_id=97&dest_type=country&group_adults=2&req_adults=2&no_rooms=1&group_children=0&req_children=0&hpos=13&hapos=863&sr_order=popularity&srpvid=e74992fcebb600ae&srepoch=1646686588&from_sustainable_property_sr=1&from=searchresults#hotelTmpl': 267,\n",
       " 'https://www.booking.com/hotel/is/mengi-apartments.zh-tw.html?label=gen173bo-1DCAEoggI46AdIMFgDaOcBiAEBmAEwuAEXyAEM2AED6AEB-AEDiAIBmAICqAIDuALMrZiRBsACAdICJDA4MWM3ODVkLWU3YjYtNGUwNC1hOGMzLWJiMzJhYjZlODBhNdgCBOACAQ&sid=e12b90519bab632c3ffdcb360924a5c1&aid=304142&ucfs=1&arphpl=1&dest_id=97&dest_type=country&group_adults=2&req_adults=2&no_rooms=1&group_children=0&req_children=0&hpos=14&hapos=864&sr_order=popularity&srpvid=e74992fcebb600ae&srepoch=1646686588&from=searchresults#hotelTmpl': 224,\n",
       " 'https://www.booking.com/hotel/is/skogar-sunset-guesthouse.zh-tw.html?label=gen173bo-1DCAEoggI46AdIMFgDaOcBiAEBmAEwuAEXyAEM2AED6AEB-AEDiAIBmAICqAIDuALMrZiRBsACAdICJDA4MWM3ODVkLWU3YjYtNGUwNC1hOGMzLWJiMzJhYjZlODBhNdgCBOACAQ&sid=e12b90519bab632c3ffdcb360924a5c1&aid=304142&ucfs=1&arphpl=1&dest_id=97&dest_type=country&group_adults=2&req_adults=2&no_rooms=1&group_children=0&req_children=0&hpos=15&hapos=865&sr_order=popularity&srpvid=e74992fcebb600ae&srepoch=1646686588&from=searchresults#hotelTmpl': 27,\n",
       " 'https://www.booking.com/hotel/is/laekur-hostel.zh-tw.html?label=gen173bo-1DCAEoggI46AdIMFgDaOcBiAEBmAEwuAEXyAEM2AED6AEB-AEDiAIBmAICqAIDuALMrZiRBsACAdICJDA4MWM3ODVkLWU3YjYtNGUwNC1hOGMzLWJiMzJhYjZlODBhNdgCBOACAQ&sid=e12b90519bab632c3ffdcb360924a5c1&aid=304142&ucfs=1&arphpl=1&dest_id=97&dest_type=country&group_adults=2&req_adults=2&no_rooms=1&group_children=0&req_children=0&hpos=16&hapos=866&sr_order=popularity&srpvid=e74992fcebb600ae&srepoch=1646686588&from_sustainable_property_sr=1&from=searchresults#hotelTmpl': 410,\n",
       " 'https://www.booking.com/hotel/is/bakkakot-3-cozy-cabin-in-the-woods.zh-tw.html?label=gen173bo-1DCAEoggI46AdIMFgDaOcBiAEBmAEwuAEXyAEM2AED6AEB-AEDiAIBmAICqAIDuALMrZiRBsACAdICJDA4MWM3ODVkLWU3YjYtNGUwNC1hOGMzLWJiMzJhYjZlODBhNdgCBOACAQ&sid=e12b90519bab632c3ffdcb360924a5c1&aid=304142&ucfs=1&arphpl=1&dest_id=97&dest_type=country&group_adults=2&req_adults=2&no_rooms=1&group_children=0&req_children=0&hpos=17&hapos=867&sr_order=popularity&srpvid=e74992fcebb600ae&srepoch=1646686588&from_sustainable_property_sr=1&from=searchresults#hotelTmpl': 130,\n",
       " 'https://www.booking.com/hotel/is/oldairline-guesthouse.zh-tw.html?label=gen173bo-1DCAEoggI46AdIMFgDaOcBiAEBmAEwuAEXyAEM2AED6AEB-AEDiAIBmAICqAIDuALMrZiRBsACAdICJDA4MWM3ODVkLWU3YjYtNGUwNC1hOGMzLWJiMzJhYjZlODBhNdgCBOACAQ&sid=e12b90519bab632c3ffdcb360924a5c1&aid=304142&ucfs=1&arphpl=1&dest_id=97&dest_type=country&group_adults=2&req_adults=2&no_rooms=1&group_children=0&req_children=0&hpos=18&hapos=868&sr_order=popularity&srpvid=e74992fcebb600ae&srepoch=1646686588&from_sustainable_property_sr=1&from=searchresults#hotelTmpl': 9,\n",
       " 'https://www.booking.com/hotel/is/asolfsstadir.zh-tw.html?label=gen173bo-1DCAEoggI46AdIMFgDaOcBiAEBmAEwuAEXyAEM2AED6AEB-AEDiAIBmAICqAIDuALMrZiRBsACAdICJDA4MWM3ODVkLWU3YjYtNGUwNC1hOGMzLWJiMzJhYjZlODBhNdgCBOACAQ&sid=e12b90519bab632c3ffdcb360924a5c1&aid=304142&ucfs=1&arphpl=1&dest_id=97&dest_type=country&group_adults=2&req_adults=2&no_rooms=1&group_children=0&req_children=0&hpos=19&hapos=869&sr_order=popularity&srpvid=e74992fcebb600ae&srepoch=1646686588&from=searchresults#hotelTmpl': 41,\n",
       " 'https://www.booking.com/hotel/is/lava-house-with-hot-tub-and-extensive-ocean-views.zh-tw.html?label=gen173bo-1DCAEoggI46AdIMFgDaOcBiAEBmAEwuAEXyAEM2AED6AEB-AEDiAIBmAICqAIDuALMrZiRBsACAdICJDA4MWM3ODVkLWU3YjYtNGUwNC1hOGMzLWJiMzJhYjZlODBhNdgCBOACAQ&sid=e12b90519bab632c3ffdcb360924a5c1&aid=304142&ucfs=1&arphpl=1&dest_id=97&dest_type=country&group_adults=2&req_adults=2&no_rooms=1&group_children=0&req_children=0&hpos=20&hapos=870&sr_order=popularity&srpvid=e74992fcebb600ae&srepoch=1646686588&from=searchresults#hotelTmpl': 23,\n",
       " 'https://www.booking.com/hotel/is/icelandic-lake-house.zh-tw.html?label=gen173bo-1DCAEoggI46AdIMFgDaOcBiAEBmAEwuAEXyAEM2AED6AEB-AEDiAIBmAICqAIDuALMrZiRBsACAdICJDA4MWM3ODVkLWU3YjYtNGUwNC1hOGMzLWJiMzJhYjZlODBhNdgCBOACAQ&sid=e12b90519bab632c3ffdcb360924a5c1&aid=304142&ucfs=1&arphpl=1&dest_id=97&dest_type=country&group_adults=2&req_adults=2&no_rooms=1&group_children=0&req_children=0&hpos=21&hapos=871&sr_order=popularity&srpvid=e74992fcebb600ae&srepoch=1646686588&from=searchresults#hotelTmpl': 219,\n",
       " 'https://www.booking.com/hotel/is/hamrar.zh-tw.html?label=gen173bo-1DCAEoggI46AdIMFgDaOcBiAEBmAEwuAEXyAEM2AED6AEB-AEDiAIBmAICqAIDuALMrZiRBsACAdICJDA4MWM3ODVkLWU3YjYtNGUwNC1hOGMzLWJiMzJhYjZlODBhNdgCBOACAQ&sid=e12b90519bab632c3ffdcb360924a5c1&aid=304142&ucfs=1&arphpl=1&dest_id=97&dest_type=country&group_adults=2&req_adults=2&no_rooms=1&group_children=0&req_children=0&hpos=22&hapos=872&sr_order=popularity&srpvid=e74992fcebb600ae&srepoch=1646686588&from=searchresults#hotelTmpl': 32,\n",
       " 'https://www.booking.com/hotel/is/nordurey-guesthouse.zh-tw.html?label=gen173bo-1DCAEoggI46AdIMFgDaOcBiAEBmAEwuAEXyAEM2AED6AEB-AEDiAIBmAICqAIDuALMrZiRBsACAdICJDA4MWM3ODVkLWU3YjYtNGUwNC1hOGMzLWJiMzJhYjZlODBhNdgCBOACAQ&sid=e12b90519bab632c3ffdcb360924a5c1&aid=304142&ucfs=1&arphpl=1&dest_id=97&dest_type=country&group_adults=2&req_adults=2&no_rooms=1&group_children=0&req_children=0&hpos=23&hapos=873&sr_order=popularity&srpvid=e74992fcebb600ae&srepoch=1646686588&from=searchresults#hotelTmpl': 15,\n",
       " 'https://www.booking.com/hotel/is/eyjasol-apartments-cottages.zh-tw.html?label=gen173bo-1DCAEoggI46AdIMFgDaOcBiAEBmAEwuAEXyAEM2AED6AEB-AEDiAIBmAICqAIDuALMrZiRBsACAdICJDA4MWM3ODVkLWU3YjYtNGUwNC1hOGMzLWJiMzJhYjZlODBhNdgCBOACAQ&sid=e12b90519bab632c3ffdcb360924a5c1&aid=304142&ucfs=1&arphpl=1&dest_id=97&dest_type=country&group_adults=2&req_adults=2&no_rooms=1&group_children=0&req_children=0&hpos=24&hapos=874&sr_order=popularity&srpvid=e74992fcebb600ae&srepoch=1646686588&from=searchresults#hotelTmpl': 59,\n",
       " 'https://www.booking.com/hotel/is/thorshammer.zh-tw.html?label=gen173bo-1DCAEoggI46AdIMFgDaOcBiAEBmAEwuAEXyAEM2AED6AEB-AEDiAIBmAICqAIDuALMrZiRBsACAdICJDA4MWM3ODVkLWU3YjYtNGUwNC1hOGMzLWJiMzJhYjZlODBhNdgCBOACAQ&sid=e12b90519bab632c3ffdcb360924a5c1&aid=304142&ucfs=1&arphpl=1&dest_id=97&dest_type=country&group_adults=2&req_adults=2&no_rooms=1&group_children=0&req_children=0&hpos=25&hapos=875&sr_order=popularity&srpvid=e74992fcebb600ae&srepoch=1646686588&from_sustainable_property_sr=1&from=searchresults#hotelTmpl': 23,\n",
       " 'https://www.booking.com/hotel/is/bakkakot-1-cozy-cabins-in-the-woods.zh-tw.html?label=gen173bo-1DCAEoggI46AdIMFgDaOcBiAEBmAEwuAEXyAEM2AED6AEB-AEDiAIBmAICqAIDuALMrZiRBsACAdICJDA4MWM3ODVkLWU3YjYtNGUwNC1hOGMzLWJiMzJhYjZlODBhNdgCBOACAQ&sid=e12b90519bab632c3ffdcb360924a5c1&aid=304142&ucfs=1&arphpl=1&dest_id=97&dest_type=country&group_adults=2&req_adults=2&no_rooms=1&group_children=0&req_children=0&hpos=1&hapos=876&sr_order=popularity&srpvid=e74992fcebb600ae&srepoch=1646686592&from=searchresults#hotelTmpl': 319,\n",
       " 'https://www.booking.com/hotel/is/kaffi-holar.zh-tw.html?label=gen173bo-1DCAEoggI46AdIMFgDaOcBiAEBmAEwuAEXyAEM2AED6AEB-AEDiAIBmAICqAIDuALMrZiRBsACAdICJDA4MWM3ODVkLWU3YjYtNGUwNC1hOGMzLWJiMzJhYjZlODBhNdgCBOACAQ&sid=e12b90519bab632c3ffdcb360924a5c1&aid=304142&ucfs=1&arphpl=1&dest_id=97&dest_type=country&group_adults=2&req_adults=2&no_rooms=1&group_children=0&req_children=0&hpos=2&hapos=877&sr_order=popularity&srpvid=e74992fcebb600ae&srepoch=1646686592&from_sustainable_property_sr=1&from=searchresults#hotelTmpl': 406,\n",
       " 'https://www.booking.com/hotel/is/bjork-guesthouse-laugarvatn.zh-tw.html?label=gen173bo-1DCAEoggI46AdIMFgDaOcBiAEBmAEwuAEXyAEM2AED6AEB-AEDiAIBmAICqAIDuALMrZiRBsACAdICJDA4MWM3ODVkLWU3YjYtNGUwNC1hOGMzLWJiMzJhYjZlODBhNdgCBOACAQ&sid=e12b90519bab632c3ffdcb360924a5c1&aid=304142&ucfs=1&arphpl=1&dest_id=97&dest_type=country&group_adults=2&req_adults=2&no_rooms=1&group_children=0&req_children=0&hpos=3&hapos=878&sr_order=popularity&srpvid=e74992fcebb600ae&srepoch=1646686592&from=searchresults#hotelTmpl': 154,\n",
       " 'https://www.booking.com/hotel/is/reykjavik-treasure.zh-tw.html?label=gen173bo-1DCAEoggI46AdIMFgDaOcBiAEBmAEwuAEXyAEM2AED6AEB-AEDiAIBmAICqAIDuALMrZiRBsACAdICJDA4MWM3ODVkLWU3YjYtNGUwNC1hOGMzLWJiMzJhYjZlODBhNdgCBOACAQ&sid=e12b90519bab632c3ffdcb360924a5c1&aid=304142&ucfs=1&arphpl=1&dest_id=97&dest_type=country&group_adults=2&req_adults=2&no_rooms=1&group_children=0&req_children=0&hpos=4&hapos=879&sr_order=popularity&srpvid=e74992fcebb600ae&srepoch=1646686592&from=searchresults#hotelTmpl': 385,\n",
       " 'https://www.booking.com/hotel/is/holaskjol-cabin-1.zh-tw.html?label=gen173bo-1DCAEoggI46AdIMFgDaOcBiAEBmAEwuAEXyAEM2AED6AEB-AEDiAIBmAICqAIDuALMrZiRBsACAdICJDA4MWM3ODVkLWU3YjYtNGUwNC1hOGMzLWJiMzJhYjZlODBhNdgCBOACAQ&sid=e12b90519bab632c3ffdcb360924a5c1&aid=304142&ucfs=1&arphpl=1&dest_id=97&dest_type=country&group_adults=2&req_adults=2&no_rooms=1&group_children=0&req_children=0&hpos=5&hapos=880&sr_order=popularity&srpvid=e74992fcebb600ae&srepoch=1646686592&from=searchresults#hotelTmpl': 217,\n",
       " 'https://www.booking.com/hotel/is/dilksnes-guesthouse.zh-tw.html?label=gen173bo-1DCAEoggI46AdIMFgDaOcBiAEBmAEwuAEXyAEM2AED6AEB-AEDiAIBmAICqAIDuALMrZiRBsACAdICJDA4MWM3ODVkLWU3YjYtNGUwNC1hOGMzLWJiMzJhYjZlODBhNdgCBOACAQ&sid=e12b90519bab632c3ffdcb360924a5c1&aid=304142&ucfs=1&arphpl=1&dest_id=97&dest_type=country&group_adults=2&req_adults=2&no_rooms=1&group_children=0&req_children=0&hpos=6&hapos=881&sr_order=popularity&srpvid=e74992fcebb600ae&srepoch=1646686592&from=searchresults#hotelTmpl': 299,\n",
       " 'https://www.booking.com/hotel/is/hestheimar.zh-tw.html?label=gen173bo-1DCAEoggI46AdIMFgDaOcBiAEBmAEwuAEXyAEM2AED6AEB-AEDiAIBmAICqAIDuALMrZiRBsACAdICJDA4MWM3ODVkLWU3YjYtNGUwNC1hOGMzLWJiMzJhYjZlODBhNdgCBOACAQ&sid=e12b90519bab632c3ffdcb360924a5c1&aid=304142&ucfs=1&arphpl=1&dest_id=97&dest_type=country&group_adults=2&req_adults=2&no_rooms=1&group_children=0&req_children=0&hpos=7&hapos=882&sr_order=popularity&srpvid=e74992fcebb600ae&srepoch=1646686592&from=searchresults#hotelTmpl': 225,\n",
       " 'https://www.booking.com/hotel/is/viking-cottages-akureyri.zh-tw.html?label=gen173bo-1DCAEoggI46AdIMFgDaOcBiAEBmAEwuAEXyAEM2AED6AEB-AEDiAIBmAICqAIDuALMrZiRBsACAdICJDA4MWM3ODVkLWU3YjYtNGUwNC1hOGMzLWJiMzJhYjZlODBhNdgCBOACAQ&sid=e12b90519bab632c3ffdcb360924a5c1&aid=304142&ucfs=1&arphpl=1&dest_id=97&dest_type=country&group_adults=2&req_adults=2&no_rooms=1&group_children=0&req_children=0&hpos=8&hapos=883&sr_order=popularity&srpvid=e74992fcebb600ae&srepoch=1646686592&from_sustainable_property_sr=1&from=searchresults#hotelTmpl': 118,\n",
       " 'https://www.booking.com/hotel/is/bed4u-keflavik.zh-tw.html?label=gen173bo-1DCAEoggI46AdIMFgDaOcBiAEBmAEwuAEXyAEM2AED6AEB-AEDiAIBmAICqAIDuALMrZiRBsACAdICJDA4MWM3ODVkLWU3YjYtNGUwNC1hOGMzLWJiMzJhYjZlODBhNdgCBOACAQ&sid=e12b90519bab632c3ffdcb360924a5c1&aid=304142&ucfs=1&arphpl=1&dest_id=97&dest_type=country&group_adults=2&req_adults=2&no_rooms=1&group_children=0&req_children=0&hpos=9&hapos=884&sr_order=popularity&srpvid=e74992fcebb600ae&srepoch=1646686592&from=searchresults#hotelTmpl': 112,\n",
       " 'https://www.booking.com/hotel/is/centrum-apartment.zh-tw.html?label=gen173bo-1DCAEoggI46AdIMFgDaOcBiAEBmAEwuAEXyAEM2AED6AEB-AEDiAIBmAICqAIDuALMrZiRBsACAdICJDA4MWM3ODVkLWU3YjYtNGUwNC1hOGMzLWJiMzJhYjZlODBhNdgCBOACAQ&sid=e12b90519bab632c3ffdcb360924a5c1&aid=304142&ucfs=1&arphpl=1&dest_id=97&dest_type=country&group_adults=2&req_adults=2&no_rooms=1&group_children=0&req_children=0&hpos=10&hapos=885&sr_order=popularity&srpvid=e74992fcebb600ae&srepoch=1646686592&from=searchresults#hotelTmpl': 13,\n",
       " 'https://www.booking.com/hotel/is/laugar-guesthouse.zh-tw.html?label=gen173bo-1DCAEoggI46AdIMFgDaOcBiAEBmAEwuAEXyAEM2AED6AEB-AEDiAIBmAICqAIDuALMrZiRBsACAdICJDA4MWM3ODVkLWU3YjYtNGUwNC1hOGMzLWJiMzJhYjZlODBhNdgCBOACAQ&sid=e12b90519bab632c3ffdcb360924a5c1&aid=304142&ucfs=1&arphpl=1&dest_id=97&dest_type=country&group_adults=2&req_adults=2&no_rooms=1&group_children=0&req_children=0&hpos=11&hapos=886&sr_order=popularity&srpvid=e74992fcebb600ae&srepoch=1646686592&from=searchresults#hotelTmpl': 81,\n",
       " 'https://www.booking.com/hotel/is/hestaland-cabin.zh-tw.html?label=gen173bo-1DCAEoggI46AdIMFgDaOcBiAEBmAEwuAEXyAEM2AED6AEB-AEDiAIBmAICqAIDuALMrZiRBsACAdICJDA4MWM3ODVkLWU3YjYtNGUwNC1hOGMzLWJiMzJhYjZlODBhNdgCBOACAQ&sid=e12b90519bab632c3ffdcb360924a5c1&aid=304142&ucfs=1&arphpl=1&dest_id=97&dest_type=country&group_adults=2&req_adults=2&no_rooms=1&group_children=0&req_children=0&hpos=12&hapos=887&sr_order=popularity&srpvid=e74992fcebb600ae&srepoch=1646686592&from=searchresults#hotelTmpl': 296,\n",
       " 'https://www.booking.com/hotel/is/grund-cabin.zh-tw.html?label=gen173bo-1DCAEoggI46AdIMFgDaOcBiAEBmAEwuAEXyAEM2AED6AEB-AEDiAIBmAICqAIDuALMrZiRBsACAdICJDA4MWM3ODVkLWU3YjYtNGUwNC1hOGMzLWJiMzJhYjZlODBhNdgCBOACAQ&sid=e12b90519bab632c3ffdcb360924a5c1&aid=304142&ucfs=1&arphpl=1&dest_id=97&dest_type=country&group_adults=2&req_adults=2&no_rooms=1&group_children=0&req_children=0&hpos=13&hapos=888&sr_order=popularity&srpvid=e74992fcebb600ae&srepoch=1646686592&from=searchresults#hotelTmpl': 36,\n",
       " 'https://www.booking.com/hotel/is/guesthouse-1x6.zh-tw.html?label=gen173bo-1DCAEoggI46AdIMFgDaOcBiAEBmAEwuAEXyAEM2AED6AEB-AEDiAIBmAICqAIDuALMrZiRBsACAdICJDA4MWM3ODVkLWU3YjYtNGUwNC1hOGMzLWJiMzJhYjZlODBhNdgCBOACAQ&sid=e12b90519bab632c3ffdcb360924a5c1&aid=304142&ucfs=1&arphpl=1&dest_id=97&dest_type=country&group_adults=2&req_adults=2&no_rooms=1&group_children=0&req_children=0&hpos=14&hapos=889&sr_order=popularity&srpvid=e74992fcebb600ae&srepoch=1646686592&from_sustainable_property_sr=1&from=searchresults#hotelTmpl': 83,\n",
       " 'https://www.booking.com/hotel/is/skolo-reykjavik-apartment.zh-tw.html?label=gen173bo-1DCAEoggI46AdIMFgDaOcBiAEBmAEwuAEXyAEM2AED6AEB-AEDiAIBmAICqAIDuALMrZiRBsACAdICJDA4MWM3ODVkLWU3YjYtNGUwNC1hOGMzLWJiMzJhYjZlODBhNdgCBOACAQ&sid=e12b90519bab632c3ffdcb360924a5c1&aid=304142&ucfs=1&arphpl=1&dest_id=97&dest_type=country&group_adults=2&req_adults=2&no_rooms=1&group_children=0&req_children=0&hpos=15&hapos=890&sr_order=popularity&srpvid=e74992fcebb600ae&srepoch=1646686592&from=searchresults#hotelTmpl': 51,\n",
       " 'https://www.booking.com/hotel/is/hekla-cabin-3.zh-tw.html?label=gen173bo-1DCAEoggI46AdIMFgDaOcBiAEBmAEwuAEXyAEM2AED6AEB-AEDiAIBmAICqAIDuALMrZiRBsACAdICJDA4MWM3ODVkLWU3YjYtNGUwNC1hOGMzLWJiMzJhYjZlODBhNdgCBOACAQ&sid=e12b90519bab632c3ffdcb360924a5c1&aid=304142&ucfs=1&arphpl=1&dest_id=97&dest_type=country&group_adults=2&req_adults=2&no_rooms=1&group_children=0&req_children=0&hpos=16&hapos=891&sr_order=popularity&srpvid=e74992fcebb600ae&srepoch=1646686592&from=searchresults#hotelTmpl': 119,\n",
       " 'https://www.booking.com/hotel/is/e18-apartments.zh-tw.html?label=gen173bo-1DCAEoggI46AdIMFgDaOcBiAEBmAEwuAEXyAEM2AED6AEB-AEDiAIBmAICqAIDuALMrZiRBsACAdICJDA4MWM3ODVkLWU3YjYtNGUwNC1hOGMzLWJiMzJhYjZlODBhNdgCBOACAQ&sid=e12b90519bab632c3ffdcb360924a5c1&aid=304142&ucfs=1&arphpl=1&dest_id=97&dest_type=country&group_adults=2&req_adults=2&no_rooms=1&group_children=0&req_children=0&hpos=17&hapos=892&sr_order=popularity&srpvid=e74992fcebb600ae&srepoch=1646686592&from=searchresults#hotelTmpl': 168,\n",
       " 'https://www.booking.com/hotel/is/asubud-apartments.zh-tw.html?label=gen173bo-1DCAEoggI46AdIMFgDaOcBiAEBmAEwuAEXyAEM2AED6AEB-AEDiAIBmAICqAIDuALMrZiRBsACAdICJDA4MWM3ODVkLWU3YjYtNGUwNC1hOGMzLWJiMzJhYjZlODBhNdgCBOACAQ&sid=e12b90519bab632c3ffdcb360924a5c1&aid=304142&ucfs=1&arphpl=1&dest_id=97&dest_type=country&group_adults=2&req_adults=2&no_rooms=1&group_children=0&req_children=0&hpos=18&hapos=893&sr_order=popularity&srpvid=e74992fcebb600ae&srepoch=1646686592&from=searchresults#hotelTmpl': 132,\n",
       " 'https://www.booking.com/hotel/is/manahlid-apartment.zh-tw.html?label=gen173bo-1DCAEoggI46AdIMFgDaOcBiAEBmAEwuAEXyAEM2AED6AEB-AEDiAIBmAICqAIDuALMrZiRBsACAdICJDA4MWM3ODVkLWU3YjYtNGUwNC1hOGMzLWJiMzJhYjZlODBhNdgCBOACAQ&sid=e12b90519bab632c3ffdcb360924a5c1&aid=304142&ucfs=1&arphpl=1&dest_id=97&dest_type=country&group_adults=2&req_adults=2&no_rooms=1&group_children=0&req_children=0&hpos=19&hapos=894&sr_order=popularity&srpvid=e74992fcebb600ae&srepoch=1646686592&from=searchresults#hotelTmpl': 407,\n",
       " 'https://www.booking.com/hotel/is/skjolsteinar.zh-tw.html?label=gen173bo-1DCAEoggI46AdIMFgDaOcBiAEBmAEwuAEXyAEM2AED6AEB-AEDiAIBmAICqAIDuALMrZiRBsACAdICJDA4MWM3ODVkLWU3YjYtNGUwNC1hOGMzLWJiMzJhYjZlODBhNdgCBOACAQ&sid=e12b90519bab632c3ffdcb360924a5c1&aid=304142&ucfs=1&arphpl=1&dest_id=97&dest_type=country&group_adults=2&req_adults=2&no_rooms=1&group_children=0&req_children=0&hpos=20&hapos=895&sr_order=popularity&srpvid=e74992fcebb600ae&srepoch=1646686592&from=searchresults#hotelTmpl': 117,\n",
       " 'https://www.booking.com/hotel/is/akureyri-fp-apartments.zh-tw.html?label=gen173bo-1DCAEoggI46AdIMFgDaOcBiAEBmAEwuAEXyAEM2AED6AEB-AEDiAIBmAICqAIDuALMrZiRBsACAdICJDA4MWM3ODVkLWU3YjYtNGUwNC1hOGMzLWJiMzJhYjZlODBhNdgCBOACAQ&sid=e12b90519bab632c3ffdcb360924a5c1&aid=304142&ucfs=1&arphpl=1&dest_id=97&dest_type=country&group_adults=2&req_adults=2&no_rooms=1&group_children=0&req_children=0&hpos=21&hapos=896&sr_order=popularity&srpvid=e74992fcebb600ae&srepoch=1646686592&from=searchresults#hotelTmpl': 160,\n",
       " 'https://www.booking.com/hotel/is/eyvindartunga-farm-cottage.zh-tw.html?label=gen173bo-1DCAEoggI46AdIMFgDaOcBiAEBmAEwuAEXyAEM2AED6AEB-AEDiAIBmAICqAIDuALMrZiRBsACAdICJDA4MWM3ODVkLWU3YjYtNGUwNC1hOGMzLWJiMzJhYjZlODBhNdgCBOACAQ&sid=e12b90519bab632c3ffdcb360924a5c1&aid=304142&ucfs=1&arphpl=1&dest_id=97&dest_type=country&group_adults=2&req_adults=2&no_rooms=1&group_children=0&req_children=0&hpos=22&hapos=897&sr_order=popularity&srpvid=e74992fcebb600ae&srepoch=1646686592&from=searchresults#hotelTmpl': 118,\n",
       " 'https://www.booking.com/hotel/is/snaefellsnes-farmhouse.zh-tw.html?label=gen173bo-1DCAEoggI46AdIMFgDaOcBiAEBmAEwuAEXyAEM2AED6AEB-AEDiAIBmAICqAIDuALMrZiRBsACAdICJDA4MWM3ODVkLWU3YjYtNGUwNC1hOGMzLWJiMzJhYjZlODBhNdgCBOACAQ&sid=e12b90519bab632c3ffdcb360924a5c1&aid=304142&ucfs=1&arphpl=1&dest_id=97&dest_type=country&group_adults=2&req_adults=2&no_rooms=1&group_children=0&req_children=0&hpos=23&hapos=898&sr_order=popularity&srpvid=e74992fcebb600ae&srepoch=1646686592&from=searchresults#hotelTmpl': 84,\n",
       " 'https://www.booking.com/hotel/is/sunnuhlid-houses-akureyri.zh-tw.html?label=gen173bo-1DCAEoggI46AdIMFgDaOcBiAEBmAEwuAEXyAEM2AED6AEB-AEDiAIBmAICqAIDuALMrZiRBsACAdICJDA4MWM3ODVkLWU3YjYtNGUwNC1hOGMzLWJiMzJhYjZlODBhNdgCBOACAQ&sid=e12b90519bab632c3ffdcb360924a5c1&aid=304142&ucfs=1&arphpl=1&dest_id=97&dest_type=country&group_adults=2&req_adults=2&no_rooms=1&group_children=0&req_children=0&hpos=24&hapos=899&sr_order=popularity&srpvid=e74992fcebb600ae&srepoch=1646686592&from=searchresults#hotelTmpl': 119,\n",
       " 'https://www.booking.com/hotel/is/skalakot-manor-hote.zh-tw.html?label=gen173bo-1DCAEoggI46AdIMFgDaOcBiAEBmAEwuAEXyAEM2AED6AEB-AEDiAIBmAICqAIDuALMrZiRBsACAdICJDA4MWM3ODVkLWU3YjYtNGUwNC1hOGMzLWJiMzJhYjZlODBhNdgCBOACAQ&sid=e12b90519bab632c3ffdcb360924a5c1&aid=304142&ucfs=1&arphpl=1&dest_id=97&dest_type=country&group_adults=2&req_adults=2&no_rooms=1&group_children=0&req_children=0&hpos=25&hapos=900&sr_order=popularity&srpvid=e74992fcebb600ae&srepoch=1646686592&from=searchresults#hotelTmpl': 20,\n",
       " 'https://www.booking.com/hotel/is/sigtun-4.zh-tw.html?label=gen173bo-1DCAEoggI46AdIMFgDaOcBiAEBmAEwuAEXyAEM2AED6AEB-AEDiAIBmAICqAIDuALMrZiRBsACAdICJDA4MWM3ODVkLWU3YjYtNGUwNC1hOGMzLWJiMzJhYjZlODBhNdgCBOACAQ&sid=e12b90519bab632c3ffdcb360924a5c1&aid=304142&ucfs=1&arphpl=1&dest_id=97&dest_type=country&group_adults=2&req_adults=2&no_rooms=1&group_children=0&req_children=0&hpos=1&hapos=901&sr_order=popularity&srpvid=e74992fcebb600ae&srepoch=1646686596&from=searchresults#hotelTmpl': 2913,\n",
       " 'https://www.booking.com/hotel/is/hagi-2-road-62.zh-tw.html?label=gen173bo-1DCAEoggI46AdIMFgDaOcBiAEBmAEwuAEXyAEM2AED6AEB-AEDiAIBmAICqAIDuALMrZiRBsACAdICJDA4MWM3ODVkLWU3YjYtNGUwNC1hOGMzLWJiMzJhYjZlODBhNdgCBOACAQ&sid=e12b90519bab632c3ffdcb360924a5c1&aid=304142&ucfs=1&arphpl=1&dest_id=97&dest_type=country&group_adults=2&req_adults=2&no_rooms=1&group_children=0&req_children=0&hpos=2&hapos=902&sr_order=popularity&srpvid=e74992fcebb600ae&srepoch=1646686596&from=searchresults#hotelTmpl': 121,\n",
       " 'https://www.booking.com/hotel/is/fosshotel-glacier-lagoon.zh-tw.html?label=gen173bo-1DCAEoggI46AdIMFgDaOcBiAEBmAEwuAEXyAEM2AED6AEB-AEDiAIBmAICqAIDuALMrZiRBsACAdICJDA4MWM3ODVkLWU3YjYtNGUwNC1hOGMzLWJiMzJhYjZlODBhNdgCBOACAQ&sid=e12b90519bab632c3ffdcb360924a5c1&aid=304142&ucfs=1&arphpl=1&dest_id=97&dest_type=country&group_adults=2&req_adults=2&no_rooms=1&group_children=0&req_children=0&hpos=3&hapos=903&sr_order=popularity&srpvid=e74992fcebb600ae&srepoch=1646686596&from=searchresults#hotelTmpl': 387,\n",
       " 'https://www.booking.com/hotel/is/dalssel-guesthouse.zh-tw.html?label=gen173bo-1DCAEoggI46AdIMFgDaOcBiAEBmAEwuAEXyAEM2AED6AEB-AEDiAIBmAICqAIDuALMrZiRBsACAdICJDA4MWM3ODVkLWU3YjYtNGUwNC1hOGMzLWJiMzJhYjZlODBhNdgCBOACAQ&sid=e12b90519bab632c3ffdcb360924a5c1&aid=304142&ucfs=1&arphpl=1&dest_id=97&dest_type=country&group_adults=2&req_adults=2&no_rooms=1&group_children=0&req_children=0&hpos=4&hapos=904&sr_order=popularity&srpvid=e74992fcebb600ae&srepoch=1646686596&from=searchresults#hotelTmpl': 26,\n",
       " 'https://www.booking.com/hotel/is/reykjavik4you-apartments.zh-tw.html?label=gen173bo-1DCAEoggI46AdIMFgDaOcBiAEBmAEwuAEXyAEM2AED6AEB-AEDiAIBmAICqAIDuALMrZiRBsACAdICJDA4MWM3ODVkLWU3YjYtNGUwNC1hOGMzLWJiMzJhYjZlODBhNdgCBOACAQ&sid=e12b90519bab632c3ffdcb360924a5c1&aid=304142&ucfs=1&arphpl=1&dest_id=97&dest_type=country&group_adults=2&req_adults=2&no_rooms=1&group_children=0&req_children=0&hpos=5&hapos=905&sr_order=popularity&srpvid=e74992fcebb600ae&srepoch=1646686596&from=searchresults#hotelTmpl': 94,\n",
       " 'https://www.booking.com/hotel/is/ocean-front-villa.zh-tw.html?label=gen173bo-1DCAEoggI46AdIMFgDaOcBiAEBmAEwuAEXyAEM2AED6AEB-AEDiAIBmAICqAIDuALMrZiRBsACAdICJDA4MWM3ODVkLWU3YjYtNGUwNC1hOGMzLWJiMzJhYjZlODBhNdgCBOACAQ&sid=e12b90519bab632c3ffdcb360924a5c1&aid=304142&ucfs=1&arphpl=1&dest_id=97&dest_type=country&group_adults=2&req_adults=2&no_rooms=1&group_children=0&req_children=0&hpos=6&hapos=906&sr_order=popularity&srpvid=e74992fcebb600ae&srepoch=1646686596&from_sustainable_property_sr=1&from=searchresults#hotelTmpl': 83,\n",
       " 'https://www.booking.com/hotel/is/the-cliff.zh-tw.html?label=gen173bo-1DCAEoggI46AdIMFgDaOcBiAEBmAEwuAEXyAEM2AED6AEB-AEDiAIBmAICqAIDuALMrZiRBsACAdICJDA4MWM3ODVkLWU3YjYtNGUwNC1hOGMzLWJiMzJhYjZlODBhNdgCBOACAQ&sid=e12b90519bab632c3ffdcb360924a5c1&aid=304142&ucfs=1&arphpl=1&dest_id=97&dest_type=country&group_adults=2&req_adults=2&no_rooms=1&group_children=0&req_children=0&hpos=7&hapos=907&sr_order=popularity&srpvid=e74992fcebb600ae&srepoch=1646686596&from=searchresults#hotelTmpl': 388,\n",
       " 'https://www.booking.com/hotel/is/private-house-with-private-garden.zh-tw.html?label=gen173bo-1DCAEoggI46AdIMFgDaOcBiAEBmAEwuAEXyAEM2AED6AEB-AEDiAIBmAICqAIDuALMrZiRBsACAdICJDA4MWM3ODVkLWU3YjYtNGUwNC1hOGMzLWJiMzJhYjZlODBhNdgCBOACAQ&sid=e12b90519bab632c3ffdcb360924a5c1&aid=304142&ucfs=1&arphpl=1&dest_id=97&dest_type=country&group_adults=2&req_adults=2&no_rooms=1&group_children=0&req_children=0&hpos=8&hapos=908&sr_order=popularity&srpvid=e74992fcebb600ae&srepoch=1646686596&from=searchresults#hotelTmpl': 527,\n",
       " 'https://www.booking.com/hotel/is/skammidalur-guesthouse.zh-tw.html?label=gen173bo-1DCAEoggI46AdIMFgDaOcBiAEBmAEwuAEXyAEM2AED6AEB-AEDiAIBmAICqAIDuALMrZiRBsACAdICJDA4MWM3ODVkLWU3YjYtNGUwNC1hOGMzLWJiMzJhYjZlODBhNdgCBOACAQ&sid=e12b90519bab632c3ffdcb360924a5c1&aid=304142&ucfs=1&arphpl=1&dest_id=97&dest_type=country&group_adults=2&req_adults=2&no_rooms=1&group_children=0&req_children=0&hpos=9&hapos=909&sr_order=popularity&srpvid=e74992fcebb600ae&srepoch=1646686596&from=searchresults#hotelTmpl': 30,\n",
       " 'https://www.booking.com/hotel/is/arsalir.zh-tw.html?label=gen173bo-1DCAEoggI46AdIMFgDaOcBiAEBmAEwuAEXyAEM2AED6AEB-AEDiAIBmAICqAIDuALMrZiRBsACAdICJDA4MWM3ODVkLWU3YjYtNGUwNC1hOGMzLWJiMzJhYjZlODBhNdgCBOACAQ&sid=e12b90519bab632c3ffdcb360924a5c1&aid=304142&ucfs=1&arphpl=1&dest_id=97&dest_type=country&group_adults=2&req_adults=2&no_rooms=1&group_children=0&req_children=0&hpos=10&hapos=910&sr_order=popularity&srpvid=e74992fcebb600ae&srepoch=1646686596&from=searchresults#hotelTmpl': 81,\n",
       " 'https://www.booking.com/hotel/is/grand-luxury-villa.zh-tw.html?label=gen173bo-1DCAEoggI46AdIMFgDaOcBiAEBmAEwuAEXyAEM2AED6AEB-AEDiAIBmAICqAIDuALMrZiRBsACAdICJDA4MWM3ODVkLWU3YjYtNGUwNC1hOGMzLWJiMzJhYjZlODBhNdgCBOACAQ&sid=e12b90519bab632c3ffdcb360924a5c1&aid=304142&ucfs=1&arphpl=1&dest_id=97&dest_type=country&group_adults=2&req_adults=2&no_rooms=1&group_children=0&req_children=0&hpos=11&hapos=911&sr_order=popularity&srpvid=e74992fcebb600ae&srepoch=1646686596&from=searchresults#hotelTmpl': 45,\n",
       " 'https://www.booking.com/hotel/is/landhotel-hella.zh-tw.html?label=gen173bo-1DCAEoggI46AdIMFgDaOcBiAEBmAEwuAEXyAEM2AED6AEB-AEDiAIBmAICqAIDuALMrZiRBsACAdICJDA4MWM3ODVkLWU3YjYtNGUwNC1hOGMzLWJiMzJhYjZlODBhNdgCBOACAQ&sid=e12b90519bab632c3ffdcb360924a5c1&aid=304142&ucfs=1&arphpl=1&dest_id=97&dest_type=country&group_adults=2&req_adults=2&no_rooms=1&group_children=0&req_children=0&hpos=12&hapos=912&sr_order=popularity&srpvid=e74992fcebb600ae&srepoch=1646686596&from_sustainable_property_sr=1&from=searchresults#hotelTmpl': 15,\n",
       " 'https://www.booking.com/hotel/is/tryggvabraut-24.zh-tw.html?label=gen173bo-1DCAEoggI46AdIMFgDaOcBiAEBmAEwuAEXyAEM2AED6AEB-AEDiAIBmAICqAIDuALMrZiRBsACAdICJDA4MWM3ODVkLWU3YjYtNGUwNC1hOGMzLWJiMzJhYjZlODBhNdgCBOACAQ&sid=e12b90519bab632c3ffdcb360924a5c1&aid=304142&ucfs=1&arphpl=1&dest_id=97&dest_type=country&group_adults=2&req_adults=2&no_rooms=1&group_children=0&req_children=0&hpos=13&hapos=913&sr_order=popularity&srpvid=e74992fcebb600ae&srepoch=1646686596&from=searchresults#hotelTmpl': 207,\n",
       " 'https://www.booking.com/hotel/is/brim.zh-tw.html?label=gen173bo-1DCAEoggI46AdIMFgDaOcBiAEBmAEwuAEXyAEM2AED6AEB-AEDiAIBmAICqAIDuALMrZiRBsACAdICJDA4MWM3ODVkLWU3YjYtNGUwNC1hOGMzLWJiMzJhYjZlODBhNdgCBOACAQ&sid=e12b90519bab632c3ffdcb360924a5c1&aid=304142&ucfs=1&arphpl=1&dest_id=97&dest_type=country&group_adults=2&req_adults=2&no_rooms=1&group_children=0&req_children=0&hpos=14&hapos=914&sr_order=popularity&srpvid=e74992fcebb600ae&srepoch=1646686596&from=searchresults#hotelTmpl': 1245,\n",
       " 'https://www.booking.com/hotel/is/kidagil.zh-tw.html?label=gen173bo-1DCAEoggI46AdIMFgDaOcBiAEBmAEwuAEXyAEM2AED6AEB-AEDiAIBmAICqAIDuALMrZiRBsACAdICJDA4MWM3ODVkLWU3YjYtNGUwNC1hOGMzLWJiMzJhYjZlODBhNdgCBOACAQ&sid=e12b90519bab632c3ffdcb360924a5c1&aid=304142&ucfs=1&arphpl=1&dest_id=97&dest_type=country&group_adults=2&req_adults=2&no_rooms=1&group_children=0&req_children=0&hpos=15&hapos=915&sr_order=popularity&srpvid=e74992fcebb600ae&srepoch=1646686596&from=searchresults#hotelTmpl': 108,\n",
       " 'https://www.booking.com/hotel/is/skyrhusid-guesthouse.zh-tw.html?label=gen173bo-1DCAEoggI46AdIMFgDaOcBiAEBmAEwuAEXyAEM2AED6AEB-AEDiAIBmAICqAIDuALMrZiRBsACAdICJDA4MWM3ODVkLWU3YjYtNGUwNC1hOGMzLWJiMzJhYjZlODBhNdgCBOACAQ&sid=e12b90519bab632c3ffdcb360924a5c1&aid=304142&ucfs=1&arphpl=1&dest_id=97&dest_type=country&group_adults=2&req_adults=2&no_rooms=1&group_children=0&req_children=0&hpos=16&hapos=916&sr_order=popularity&srpvid=e74992fcebb600ae&srepoch=1646686596&from=searchresults#hotelTmpl': 76,\n",
       " 'https://www.booking.com/hotel/is/skjalfandi.zh-tw.html?label=gen173bo-1DCAEoggI46AdIMFgDaOcBiAEBmAEwuAEXyAEM2AED6AEB-AEDiAIBmAICqAIDuALMrZiRBsACAdICJDA4MWM3ODVkLWU3YjYtNGUwNC1hOGMzLWJiMzJhYjZlODBhNdgCBOACAQ&sid=e12b90519bab632c3ffdcb360924a5c1&aid=304142&ucfs=1&arphpl=1&dest_id=97&dest_type=country&group_adults=2&req_adults=2&no_rooms=1&group_children=0&req_children=0&hpos=17&hapos=917&sr_order=popularity&srpvid=e74992fcebb600ae&srepoch=1646686596&from=searchresults#hotelTmpl': 48,\n",
       " 'https://www.booking.com/hotel/is/gerdur-apartments.zh-tw.html?label=gen173bo-1DCAEoggI46AdIMFgDaOcBiAEBmAEwuAEXyAEM2AED6AEB-AEDiAIBmAICqAIDuALMrZiRBsACAdICJDA4MWM3ODVkLWU3YjYtNGUwNC1hOGMzLWJiMzJhYjZlODBhNdgCBOACAQ&sid=e12b90519bab632c3ffdcb360924a5c1&aid=304142&ucfs=1&arphpl=1&dest_id=97&dest_type=country&group_adults=2&req_adults=2&no_rooms=1&group_children=0&req_children=0&hpos=18&hapos=918&sr_order=popularity&srpvid=e74992fcebb600ae&srepoch=1646686596&from=searchresults#hotelTmpl': 75,\n",
       " 'https://www.booking.com/hotel/is/downtown-apartment-with-a-great-view.zh-tw.html?label=gen173bo-1DCAEoggI46AdIMFgDaOcBiAEBmAEwuAEXyAEM2AED6AEB-AEDiAIBmAICqAIDuALMrZiRBsACAdICJDA4MWM3ODVkLWU3YjYtNGUwNC1hOGMzLWJiMzJhYjZlODBhNdgCBOACAQ&sid=e12b90519bab632c3ffdcb360924a5c1&aid=304142&ucfs=1&arphpl=1&dest_id=97&dest_type=country&group_adults=2&req_adults=2&no_rooms=1&group_children=0&req_children=0&hpos=19&hapos=919&sr_order=popularity&srpvid=e74992fcebb600ae&srepoch=1646686596&from_sustainable_property_sr=1&from=searchresults#hotelTmpl': 61,\n",
       " 'https://www.booking.com/hotel/is/asaskoli.zh-tw.html?label=gen173bo-1DCAEoggI46AdIMFgDaOcBiAEBmAEwuAEXyAEM2AED6AEB-AEDiAIBmAICqAIDuALMrZiRBsACAdICJDA4MWM3ODVkLWU3YjYtNGUwNC1hOGMzLWJiMzJhYjZlODBhNdgCBOACAQ&sid=e12b90519bab632c3ffdcb360924a5c1&aid=304142&ucfs=1&arphpl=1&dest_id=97&dest_type=country&group_adults=2&req_adults=2&no_rooms=1&group_children=0&req_children=0&hpos=20&hapos=920&sr_order=popularity&srpvid=e74992fcebb600ae&srepoch=1646686596&from=searchresults#hotelTmpl': 70,\n",
       " 'https://www.booking.com/hotel/is/harbor-apartment-with-ocean-and-mountain-views.zh-tw.html?label=gen173bo-1DCAEoggI46AdIMFgDaOcBiAEBmAEwuAEXyAEM2AED6AEB-AEDiAIBmAICqAIDuALMrZiRBsACAdICJDA4MWM3ODVkLWU3YjYtNGUwNC1hOGMzLWJiMzJhYjZlODBhNdgCBOACAQ&sid=e12b90519bab632c3ffdcb360924a5c1&aid=304142&ucfs=1&arphpl=1&dest_id=97&dest_type=country&group_adults=2&req_adults=2&no_rooms=1&group_children=0&req_children=0&hpos=21&hapos=921&sr_order=popularity&srpvid=e74992fcebb600ae&srepoch=1646686596&from_sustainable_property_sr=1&from=searchresults#hotelTmpl': 96,\n",
       " 'https://www.booking.com/hotel/is/comfortable-bungalow.zh-tw.html?label=gen173bo-1DCAEoggI46AdIMFgDaOcBiAEBmAEwuAEXyAEM2AED6AEB-AEDiAIBmAICqAIDuALMrZiRBsACAdICJDA4MWM3ODVkLWU3YjYtNGUwNC1hOGMzLWJiMzJhYjZlODBhNdgCBOACAQ&sid=e12b90519bab632c3ffdcb360924a5c1&aid=304142&ucfs=1&arphpl=1&dest_id=97&dest_type=country&group_adults=2&req_adults=2&no_rooms=1&group_children=0&req_children=0&hpos=22&hapos=922&sr_order=popularity&srpvid=e74992fcebb600ae&srepoch=1646686596&from_sustainable_property_sr=1&from=searchresults#hotelTmpl': 21,\n",
       " 'https://www.booking.com/hotel/is/briet-apartments-akureyri.zh-tw.html?label=gen173bo-1DCAEoggI46AdIMFgDaOcBiAEBmAEwuAEXyAEM2AED6AEB-AEDiAIBmAICqAIDuALMrZiRBsACAdICJDA4MWM3ODVkLWU3YjYtNGUwNC1hOGMzLWJiMzJhYjZlODBhNdgCBOACAQ&sid=e12b90519bab632c3ffdcb360924a5c1&aid=304142&ucfs=1&arphpl=1&dest_id=97&dest_type=country&group_adults=2&req_adults=2&no_rooms=1&group_children=0&req_children=0&hpos=23&hapos=923&sr_order=popularity&srpvid=e74992fcebb600ae&srepoch=1646686596&from=searchresults#hotelTmpl': 28,\n",
       " 'https://www.booking.com/hotel/is/oseyri-holiday-home.zh-tw.html?label=gen173bo-1DCAEoggI46AdIMFgDaOcBiAEBmAEwuAEXyAEM2AED6AEB-AEDiAIBmAICqAIDuALMrZiRBsACAdICJDA4MWM3ODVkLWU3YjYtNGUwNC1hOGMzLWJiMzJhYjZlODBhNdgCBOACAQ&sid=e12b90519bab632c3ffdcb360924a5c1&aid=304142&ucfs=1&arphpl=1&dest_id=97&dest_type=country&group_adults=2&req_adults=2&no_rooms=1&group_children=0&req_children=0&hpos=24&hapos=924&sr_order=popularity&srpvid=e74992fcebb600ae&srepoch=1646686596&from=searchresults#hotelTmpl': 104,\n",
       " 'https://www.booking.com/hotel/is/gladheimar-guest-house.zh-tw.html?label=gen173bo-1DCAEoggI46AdIMFgDaOcBiAEBmAEwuAEXyAEM2AED6AEB-AEDiAIBmAICqAIDuALMrZiRBsACAdICJDA4MWM3ODVkLWU3YjYtNGUwNC1hOGMzLWJiMzJhYjZlODBhNdgCBOACAQ&sid=e12b90519bab632c3ffdcb360924a5c1&aid=304142&ucfs=1&arphpl=1&dest_id=97&dest_type=country&group_adults=2&req_adults=2&no_rooms=1&group_children=0&req_children=0&hpos=25&hapos=925&sr_order=popularity&srpvid=e74992fcebb600ae&srepoch=1646686596&from=searchresults#hotelTmpl': 143,\n",
       " 'https://www.booking.com/hotel/is/lighthouse-apartments.zh-tw.html?label=gen173bo-1DCAEoggI46AdIMFgDaOcBiAEBmAEwuAEXyAEM2AED6AEB-AEDiAIBmAICqAIDuALMrZiRBsACAdICJDA4MWM3ODVkLWU3YjYtNGUwNC1hOGMzLWJiMzJhYjZlODBhNdgCBOACAQ&sid=e12b90519bab632c3ffdcb360924a5c1&aid=304142&ucfs=1&arphpl=1&dest_id=97&dest_type=country&group_adults=2&req_adults=2&no_rooms=1&group_children=0&req_children=0&hpos=1&hapos=926&sr_order=popularity&srpvid=e74992fcebb600ae&srepoch=1646686600&from_sustainable_property_sr=1&from=searchresults#hotelTmpl': 22,\n",
       " 'https://www.booking.com/hotel/is/gardur.zh-tw.html?label=gen173bo-1DCAEoggI46AdIMFgDaOcBiAEBmAEwuAEXyAEM2AED6AEB-AEDiAIBmAICqAIDuALMrZiRBsACAdICJDA4MWM3ODVkLWU3YjYtNGUwNC1hOGMzLWJiMzJhYjZlODBhNdgCBOACAQ&sid=e12b90519bab632c3ffdcb360924a5c1&aid=304142&ucfs=1&arphpl=1&dest_id=97&dest_type=country&group_adults=2&req_adults=2&no_rooms=1&group_children=0&req_children=0&hpos=2&hapos=927&sr_order=popularity&srpvid=e74992fcebb600ae&srepoch=1646686600&from=searchresults#hotelTmpl': 69,\n",
       " 'https://www.booking.com/hotel/is/the-red-house-near-the-sea.zh-tw.html?label=gen173bo-1DCAEoggI46AdIMFgDaOcBiAEBmAEwuAEXyAEM2AED6AEB-AEDiAIBmAICqAIDuALMrZiRBsACAdICJDA4MWM3ODVkLWU3YjYtNGUwNC1hOGMzLWJiMzJhYjZlODBhNdgCBOACAQ&sid=e12b90519bab632c3ffdcb360924a5c1&aid=304142&ucfs=1&arphpl=1&dest_id=97&dest_type=country&group_adults=2&req_adults=2&no_rooms=1&group_children=0&req_children=0&hpos=3&hapos=928&sr_order=popularity&srpvid=e74992fcebb600ae&srepoch=1646686600&from_sustainable_property_sr=1&from=searchresults#hotelTmpl': 34,\n",
       " 'https://www.booking.com/hotel/is/mulakot.zh-tw.html?label=gen173bo-1DCAEoggI46AdIMFgDaOcBiAEBmAEwuAEXyAEM2AED6AEB-AEDiAIBmAICqAIDuALMrZiRBsACAdICJDA4MWM3ODVkLWU3YjYtNGUwNC1hOGMzLWJiMzJhYjZlODBhNdgCBOACAQ&sid=e12b90519bab632c3ffdcb360924a5c1&aid=304142&ucfs=1&arphpl=1&dest_id=97&dest_type=country&group_adults=2&req_adults=2&no_rooms=1&group_children=0&req_children=0&hpos=4&hapos=929&sr_order=popularity&srpvid=e74992fcebb600ae&srepoch=1646686600&from=searchresults#hotelTmpl': 6,\n",
       " 'https://www.booking.com/hotel/is/akurbraut-16.zh-tw.html?label=gen173bo-1DCAEoggI46AdIMFgDaOcBiAEBmAEwuAEXyAEM2AED6AEB-AEDiAIBmAICqAIDuALMrZiRBsACAdICJDA4MWM3ODVkLWU3YjYtNGUwNC1hOGMzLWJiMzJhYjZlODBhNdgCBOACAQ&sid=e12b90519bab632c3ffdcb360924a5c1&aid=304142&ucfs=1&arphpl=1&dest_id=97&dest_type=country&group_adults=2&req_adults=2&no_rooms=1&group_children=0&req_children=0&hpos=5&hapos=930&sr_order=popularity&srpvid=e74992fcebb600ae&srepoch=1646686600&from=searchresults#hotelTmpl': 12,\n",
       " 'https://www.booking.com/hotel/is/helluskogur-10.zh-tw.html?label=gen173bo-1DCAEoggI46AdIMFgDaOcBiAEBmAEwuAEXyAEM2AED6AEB-AEDiAIBmAICqAIDuALMrZiRBsACAdICJDA4MWM3ODVkLWU3YjYtNGUwNC1hOGMzLWJiMzJhYjZlODBhNdgCBOACAQ&sid=e12b90519bab632c3ffdcb360924a5c1&aid=304142&ucfs=1&arphpl=1&dest_id=97&dest_type=country&group_adults=2&req_adults=2&no_rooms=1&group_children=0&req_children=0&hpos=6&hapos=931&sr_order=popularity&srpvid=e74992fcebb600ae&srepoch=1646686600&from=searchresults#hotelTmpl': 129,\n",
       " 'https://www.booking.com/hotel/is/heytjorn.zh-tw.html?label=gen173bo-1DCAEoggI46AdIMFgDaOcBiAEBmAEwuAEXyAEM2AED6AEB-AEDiAIBmAICqAIDuALMrZiRBsACAdICJDA4MWM3ODVkLWU3YjYtNGUwNC1hOGMzLWJiMzJhYjZlODBhNdgCBOACAQ&sid=e12b90519bab632c3ffdcb360924a5c1&aid=304142&ucfs=1&arphpl=1&dest_id=97&dest_type=country&group_adults=2&req_adults=2&no_rooms=1&group_children=0&req_children=0&hpos=7&hapos=932&sr_order=popularity&srpvid=e74992fcebb600ae&srepoch=1646686600&from=searchresults#hotelTmpl': 18,\n",
       " 'https://www.booking.com/hotel/is/sea-view-guesthouse.zh-tw.html?label=gen173bo-1DCAEoggI46AdIMFgDaOcBiAEBmAEwuAEXyAEM2AED6AEB-AEDiAIBmAICqAIDuALMrZiRBsACAdICJDA4MWM3ODVkLWU3YjYtNGUwNC1hOGMzLWJiMzJhYjZlODBhNdgCBOACAQ&sid=e12b90519bab632c3ffdcb360924a5c1&aid=304142&ucfs=1&arphpl=1&dest_id=97&dest_type=country&group_adults=2&req_adults=2&no_rooms=1&group_children=0&req_children=0&hpos=8&hapos=933&sr_order=popularity&srpvid=e74992fcebb600ae&srepoch=1646686600&from=searchresults#hotelTmpl': 327,\n",
       " 'https://www.booking.com/hotel/is/husafell-holiday-homes.zh-tw.html?label=gen173bo-1DCAEoggI46AdIMFgDaOcBiAEBmAEwuAEXyAEM2AED6AEB-AEDiAIBmAICqAIDuALMrZiRBsACAdICJDA4MWM3ODVkLWU3YjYtNGUwNC1hOGMzLWJiMzJhYjZlODBhNdgCBOACAQ&sid=e12b90519bab632c3ffdcb360924a5c1&aid=304142&ucfs=1&arphpl=1&dest_id=97&dest_type=country&group_adults=2&req_adults=2&no_rooms=1&group_children=0&req_children=0&hpos=9&hapos=934&sr_order=popularity&srpvid=e74992fcebb600ae&srepoch=1646686600&from=searchresults#hotelTmpl': 82,\n",
       " 'https://www.booking.com/hotel/is/arnanes-sveitagisting.zh-tw.html?label=gen173bo-1DCAEoggI46AdIMFgDaOcBiAEBmAEwuAEXyAEM2AED6AEB-AEDiAIBmAICqAIDuALMrZiRBsACAdICJDA4MWM3ODVkLWU3YjYtNGUwNC1hOGMzLWJiMzJhYjZlODBhNdgCBOACAQ&sid=e12b90519bab632c3ffdcb360924a5c1&aid=304142&ucfs=1&arphpl=1&dest_id=97&dest_type=country&group_adults=2&req_adults=2&no_rooms=1&group_children=0&req_children=0&hpos=10&hapos=935&sr_order=popularity&srpvid=e74992fcebb600ae&srepoch=1646686600&from=searchresults#hotelTmpl': 45,\n",
       " 'https://www.booking.com/hotel/is/tower-apartments.zh-tw.html?label=gen173bo-1DCAEoggI46AdIMFgDaOcBiAEBmAEwuAEXyAEM2AED6AEB-AEDiAIBmAICqAIDuALMrZiRBsACAdICJDA4MWM3ODVkLWU3YjYtNGUwNC1hOGMzLWJiMzJhYjZlODBhNdgCBOACAQ&sid=e12b90519bab632c3ffdcb360924a5c1&aid=304142&ucfs=1&arphpl=1&dest_id=97&dest_type=country&group_adults=2&req_adults=2&no_rooms=1&group_children=0&req_children=0&hpos=11&hapos=936&sr_order=popularity&srpvid=e74992fcebb600ae&srepoch=1646686600&from=searchresults#hotelTmpl': 8,\n",
       " 'https://www.booking.com/hotel/is/the-old-westman-island-house.zh-tw.html?label=gen173bo-1DCAEoggI46AdIMFgDaOcBiAEBmAEwuAEXyAEM2AED6AEB-AEDiAIBmAICqAIDuALMrZiRBsACAdICJDA4MWM3ODVkLWU3YjYtNGUwNC1hOGMzLWJiMzJhYjZlODBhNdgCBOACAQ&sid=e12b90519bab632c3ffdcb360924a5c1&aid=304142&ucfs=1&arphpl=1&dest_id=97&dest_type=country&group_adults=2&req_adults=2&no_rooms=1&group_children=0&req_children=0&hpos=12&hapos=937&sr_order=popularity&srpvid=e74992fcebb600ae&srepoch=1646686600&from_sustainable_property_sr=1&from=searchresults#hotelTmpl': 74,\n",
       " 'https://www.booking.com/hotel/is/cabin-in-the-lava-near-husavik.zh-tw.html?label=gen173bo-1DCAEoggI46AdIMFgDaOcBiAEBmAEwuAEXyAEM2AED6AEB-AEDiAIBmAICqAIDuALMrZiRBsACAdICJDA4MWM3ODVkLWU3YjYtNGUwNC1hOGMzLWJiMzJhYjZlODBhNdgCBOACAQ&sid=e12b90519bab632c3ffdcb360924a5c1&aid=304142&ucfs=1&arphpl=1&dest_id=97&dest_type=country&group_adults=2&req_adults=2&no_rooms=1&group_children=0&req_children=0&hpos=13&hapos=938&sr_order=popularity&srpvid=e74992fcebb600ae&srepoch=1646686600&from=searchresults#hotelTmpl': 161,\n",
       " 'https://www.booking.com/hotel/is/private-scandinavian-apartment.zh-tw.html?label=gen173bo-1DCAEoggI46AdIMFgDaOcBiAEBmAEwuAEXyAEM2AED6AEB-AEDiAIBmAICqAIDuALMrZiRBsACAdICJDA4MWM3ODVkLWU3YjYtNGUwNC1hOGMzLWJiMzJhYjZlODBhNdgCBOACAQ&sid=e12b90519bab632c3ffdcb360924a5c1&aid=304142&ucfs=1&arphpl=1&dest_id=97&dest_type=country&group_adults=2&req_adults=2&no_rooms=1&group_children=0&req_children=0&hpos=14&hapos=939&sr_order=popularity&srpvid=e74992fcebb600ae&srepoch=1646686600&from=searchresults#hotelTmpl': 428,\n",
       " 'https://www.booking.com/hotel/is/akureyri-cottages.zh-tw.html?label=gen173bo-1DCAEoggI46AdIMFgDaOcBiAEBmAEwuAEXyAEM2AED6AEB-AEDiAIBmAICqAIDuALMrZiRBsACAdICJDA4MWM3ODVkLWU3YjYtNGUwNC1hOGMzLWJiMzJhYjZlODBhNdgCBOACAQ&sid=e12b90519bab632c3ffdcb360924a5c1&aid=304142&ucfs=1&arphpl=1&dest_id=97&dest_type=country&group_adults=2&req_adults=2&no_rooms=1&group_children=0&req_children=0&hpos=15&hapos=940&sr_order=popularity&srpvid=e74992fcebb600ae&srepoch=1646686600&from_sustainable_property_sr=1&from=searchresults#hotelTmpl': 16,\n",
       " 'https://www.booking.com/hotel/is/hvammstangi-hill-homes.zh-tw.html?label=gen173bo-1DCAEoggI46AdIMFgDaOcBiAEBmAEwuAEXyAEM2AED6AEB-AEDiAIBmAICqAIDuALMrZiRBsACAdICJDA4MWM3ODVkLWU3YjYtNGUwNC1hOGMzLWJiMzJhYjZlODBhNdgCBOACAQ&sid=e12b90519bab632c3ffdcb360924a5c1&aid=304142&ucfs=1&arphpl=1&dest_id=97&dest_type=country&group_adults=2&req_adults=2&no_rooms=1&group_children=0&req_children=0&hpos=16&hapos=941&sr_order=popularity&srpvid=e74992fcebb600ae&srepoch=1646686600&from=searchresults#hotelTmpl': 32,\n",
       " 'https://www.booking.com/hotel/is/kosy-ibud-a-brekkunni.zh-tw.html?label=gen173bo-1DCAEoggI46AdIMFgDaOcBiAEBmAEwuAEXyAEM2AED6AEB-AEDiAIBmAICqAIDuALMrZiRBsACAdICJDA4MWM3ODVkLWU3YjYtNGUwNC1hOGMzLWJiMzJhYjZlODBhNdgCBOACAQ&sid=e12b90519bab632c3ffdcb360924a5c1&aid=304142&ucfs=1&arphpl=1&dest_id=97&dest_type=country&group_adults=2&req_adults=2&no_rooms=1&group_children=0&req_children=0&hpos=17&hapos=942&sr_order=popularity&srpvid=e74992fcebb600ae&srepoch=1646686600&from=searchresults#hotelTmpl': 99,\n",
       " 'https://www.booking.com/hotel/is/vesturgata-reykjavik.zh-tw.html?label=gen173bo-1DCAEoggI46AdIMFgDaOcBiAEBmAEwuAEXyAEM2AED6AEB-AEDiAIBmAICqAIDuALMrZiRBsACAdICJDA4MWM3ODVkLWU3YjYtNGUwNC1hOGMzLWJiMzJhYjZlODBhNdgCBOACAQ&sid=e12b90519bab632c3ffdcb360924a5c1&aid=304142&ucfs=1&arphpl=1&dest_id=97&dest_type=country&group_adults=2&req_adults=2&no_rooms=1&group_children=0&req_children=0&hpos=18&hapos=943&sr_order=popularity&srpvid=e74992fcebb600ae&srepoch=1646686600&from=searchresults#hotelTmpl': 47,\n",
       " 'https://www.booking.com/hotel/is/river-apartments.zh-tw.html?label=gen173bo-1DCAEoggI46AdIMFgDaOcBiAEBmAEwuAEXyAEM2AED6AEB-AEDiAIBmAICqAIDuALMrZiRBsACAdICJDA4MWM3ODVkLWU3YjYtNGUwNC1hOGMzLWJiMzJhYjZlODBhNdgCBOACAQ&sid=e12b90519bab632c3ffdcb360924a5c1&aid=304142&ucfs=1&arphpl=1&dest_id=97&dest_type=country&group_adults=2&req_adults=2&no_rooms=1&group_children=0&req_children=0&hpos=19&hapos=944&sr_order=popularity&srpvid=e74992fcebb600ae&srepoch=1646686600&from=searchresults#hotelTmpl': 51,\n",
       " 'https://www.booking.com/hotel/is/cozy-cabin-in-the-woods.zh-tw.html?label=gen173bo-1DCAEoggI46AdIMFgDaOcBiAEBmAEwuAEXyAEM2AED6AEB-AEDiAIBmAICqAIDuALMrZiRBsACAdICJDA4MWM3ODVkLWU3YjYtNGUwNC1hOGMzLWJiMzJhYjZlODBhNdgCBOACAQ&sid=e12b90519bab632c3ffdcb360924a5c1&aid=304142&ucfs=1&arphpl=1&dest_id=97&dest_type=country&group_adults=2&req_adults=2&no_rooms=1&group_children=0&req_children=0&hpos=20&hapos=945&sr_order=popularity&srpvid=e74992fcebb600ae&srepoch=1646686600&from=searchresults#hotelTmpl': 116,\n",
       " 'https://www.booking.com/hotel/is/kefbed-town-center.zh-tw.html?label=gen173bo-1DCAEoggI46AdIMFgDaOcBiAEBmAEwuAEXyAEM2AED6AEB-AEDiAIBmAICqAIDuALMrZiRBsACAdICJDA4MWM3ODVkLWU3YjYtNGUwNC1hOGMzLWJiMzJhYjZlODBhNdgCBOACAQ&sid=e12b90519bab632c3ffdcb360924a5c1&aid=304142&ucfs=1&arphpl=1&dest_id=97&dest_type=country&group_adults=2&req_adults=2&no_rooms=1&group_children=0&req_children=0&hpos=21&hapos=946&sr_order=popularity&srpvid=e74992fcebb600ae&srepoch=1646686600&from=searchresults#hotelTmpl': 276,\n",
       " 'https://www.booking.com/hotel/is/hrimland-cottages.zh-tw.html?label=gen173bo-1DCAEoggI46AdIMFgDaOcBiAEBmAEwuAEXyAEM2AED6AEB-AEDiAIBmAICqAIDuALMrZiRBsACAdICJDA4MWM3ODVkLWU3YjYtNGUwNC1hOGMzLWJiMzJhYjZlODBhNdgCBOACAQ&sid=e12b90519bab632c3ffdcb360924a5c1&aid=304142&ucfs=1&arphpl=1&dest_id=97&dest_type=country&group_adults=2&req_adults=2&no_rooms=1&group_children=0&req_children=0&hpos=22&hapos=947&sr_order=popularity&srpvid=e74992fcebb600ae&srepoch=1646686600&from=searchresults#hotelTmpl': 63,\n",
       " 'https://www.booking.com/hotel/is/gljufurbustadir-holiday-homes.zh-tw.html?label=gen173bo-1DCAEoggI46AdIMFgDaOcBiAEBmAEwuAEXyAEM2AED6AEB-AEDiAIBmAICqAIDuALMrZiRBsACAdICJDA4MWM3ODVkLWU3YjYtNGUwNC1hOGMzLWJiMzJhYjZlODBhNdgCBOACAQ&sid=e12b90519bab632c3ffdcb360924a5c1&aid=304142&ucfs=1&arphpl=1&dest_id=97&dest_type=country&group_adults=2&req_adults=2&no_rooms=1&group_children=0&req_children=0&hpos=23&hapos=948&sr_order=popularity&srpvid=e74992fcebb600ae&srepoch=1646686600&from=searchresults#hotelTmpl': 346,\n",
       " 'https://www.booking.com/hotel/is/house-overlooking-the-bay-in-borgarnesi.zh-tw.html?label=gen173bo-1DCAEoggI46AdIMFgDaOcBiAEBmAEwuAEXyAEM2AED6AEB-AEDiAIBmAICqAIDuALMrZiRBsACAdICJDA4MWM3ODVkLWU3YjYtNGUwNC1hOGMzLWJiMzJhYjZlODBhNdgCBOACAQ&sid=e12b90519bab632c3ffdcb360924a5c1&aid=304142&ucfs=1&arphpl=1&dest_id=97&dest_type=country&group_adults=2&req_adults=2&no_rooms=1&group_children=0&req_children=0&hpos=24&hapos=949&sr_order=popularity&srpvid=e74992fcebb600ae&srepoch=1646686600&from=searchresults#hotelTmpl': 46,\n",
       " 'https://www.booking.com/hotel/is/skyjaborg.zh-tw.html?label=gen173bo-1DCAEoggI46AdIMFgDaOcBiAEBmAEwuAEXyAEM2AED6AEB-AEDiAIBmAICqAIDuALMrZiRBsACAdICJDA4MWM3ODVkLWU3YjYtNGUwNC1hOGMzLWJiMzJhYjZlODBhNdgCBOACAQ&sid=e12b90519bab632c3ffdcb360924a5c1&aid=304142&ucfs=1&arphpl=1&dest_id=97&dest_type=country&group_adults=2&req_adults=2&no_rooms=1&group_children=0&req_children=0&hpos=25&hapos=950&sr_order=popularity&srpvid=e74992fcebb600ae&srepoch=1646686600&from=searchresults#hotelTmpl': 51,\n",
       " 'https://www.booking.com/hotel/is/brenna-cliffside-apartment.zh-tw.html?label=gen173bo-1DCAEoggI46AdIMFgDaOcBiAEBmAEwuAEXyAEM2AED6AEB-AEDiAIBmAICqAIDuALMrZiRBsACAdICJDA4MWM3ODVkLWU3YjYtNGUwNC1hOGMzLWJiMzJhYjZlODBhNdgCBOACAQ&sid=e12b90519bab632c3ffdcb360924a5c1&aid=304142&ucfs=1&arphpl=1&dest_id=97&dest_type=country&group_adults=2&req_adults=2&no_rooms=1&group_children=0&req_children=0&hpos=1&hapos=951&sr_order=popularity&srpvid=e74992fcebb600ae&srepoch=1646686604&from_sustainable_property_sr=1&from=searchresults#hotelTmpl': 103,\n",
       " 'https://www.booking.com/hotel/is/v54-harbour-apartments.zh-tw.html?label=gen173bo-1DCAEoggI46AdIMFgDaOcBiAEBmAEwuAEXyAEM2AED6AEB-AEDiAIBmAICqAIDuALMrZiRBsACAdICJDA4MWM3ODVkLWU3YjYtNGUwNC1hOGMzLWJiMzJhYjZlODBhNdgCBOACAQ&sid=e12b90519bab632c3ffdcb360924a5c1&aid=304142&ucfs=1&arphpl=1&dest_id=97&dest_type=country&group_adults=2&req_adults=2&no_rooms=1&group_children=0&req_children=0&hpos=2&hapos=952&sr_order=popularity&srpvid=e74992fcebb600ae&srepoch=1646686604&from=searchresults#hotelTmpl': 7,\n",
       " 'https://www.booking.com/hotel/is/gljasteinn-skalinn.zh-tw.html?label=gen173bo-1DCAEoggI46AdIMFgDaOcBiAEBmAEwuAEXyAEM2AED6AEB-AEDiAIBmAICqAIDuALMrZiRBsACAdICJDA4MWM3ODVkLWU3YjYtNGUwNC1hOGMzLWJiMzJhYjZlODBhNdgCBOACAQ&sid=e12b90519bab632c3ffdcb360924a5c1&aid=304142&ucfs=1&arphpl=1&dest_id=97&dest_type=country&group_adults=2&req_adults=2&no_rooms=1&group_children=0&req_children=0&hpos=3&hapos=953&sr_order=popularity&srpvid=e74992fcebb600ae&srepoch=1646686604&from=searchresults#hotelTmpl': 20,\n",
       " 'https://www.booking.com/hotel/is/perfect-apartment-in-the-heart-of-reykjavik.zh-tw.html?label=gen173bo-1DCAEoggI46AdIMFgDaOcBiAEBmAEwuAEXyAEM2AED6AEB-AEDiAIBmAICqAIDuALMrZiRBsACAdICJDA4MWM3ODVkLWU3YjYtNGUwNC1hOGMzLWJiMzJhYjZlODBhNdgCBOACAQ&sid=e12b90519bab632c3ffdcb360924a5c1&aid=304142&ucfs=1&arphpl=1&dest_id=97&dest_type=country&group_adults=2&req_adults=2&no_rooms=1&group_children=0&req_children=0&hpos=4&hapos=954&sr_order=popularity&srpvid=e74992fcebb600ae&srepoch=1646686604&from=searchresults#hotelTmpl': 29,\n",
       " 'https://www.booking.com/hotel/is/saga-apartments-akureyri.zh-tw.html?label=gen173bo-1DCAEoggI46AdIMFgDaOcBiAEBmAEwuAEXyAEM2AED6AEB-AEDiAIBmAICqAIDuALMrZiRBsACAdICJDA4MWM3ODVkLWU3YjYtNGUwNC1hOGMzLWJiMzJhYjZlODBhNdgCBOACAQ&sid=e12b90519bab632c3ffdcb360924a5c1&aid=304142&ucfs=1&arphpl=1&dest_id=97&dest_type=country&group_adults=2&req_adults=2&no_rooms=1&group_children=0&req_children=0&hpos=5&hapos=955&sr_order=popularity&srpvid=e74992fcebb600ae&srepoch=1646686604&from_sustainable_property_sr=1&from=searchresults#hotelTmpl': 34,\n",
       " 'https://www.booking.com/hotel/is/strandgata-9-two-bedroom-apartment.zh-tw.html?label=gen173bo-1DCAEoggI46AdIMFgDaOcBiAEBmAEwuAEXyAEM2AED6AEB-AEDiAIBmAICqAIDuALMrZiRBsACAdICJDA4MWM3ODVkLWU3YjYtNGUwNC1hOGMzLWJiMzJhYjZlODBhNdgCBOACAQ&sid=e12b90519bab632c3ffdcb360924a5c1&aid=304142&ucfs=1&arphpl=1&dest_id=97&dest_type=country&group_adults=2&req_adults=2&no_rooms=1&group_children=0&req_children=0&hpos=6&hapos=956&sr_order=popularity&srpvid=e74992fcebb600ae&srepoch=1646686604&from=searchresults#hotelTmpl': 46,\n",
       " 'https://www.booking.com/hotel/is/bergstadastraeti-apartment.zh-tw.html?label=gen173bo-1DCAEoggI46AdIMFgDaOcBiAEBmAEwuAEXyAEM2AED6AEB-AEDiAIBmAICqAIDuALMrZiRBsACAdICJDA4MWM3ODVkLWU3YjYtNGUwNC1hOGMzLWJiMzJhYjZlODBhNdgCBOACAQ&sid=e12b90519bab632c3ffdcb360924a5c1&aid=304142&ucfs=1&arphpl=1&dest_id=97&dest_type=country&group_adults=2&req_adults=2&no_rooms=1&group_children=0&req_children=0&hpos=7&hapos=957&sr_order=popularity&srpvid=e74992fcebb600ae&srepoch=1646686604&from=searchresults#hotelTmpl': 87,\n",
       " 'https://www.booking.com/hotel/is/highland-lodge-egilsstadir.zh-tw.html?label=gen173bo-1DCAEoggI46AdIMFgDaOcBiAEBmAEwuAEXyAEM2AED6AEB-AEDiAIBmAICqAIDuALMrZiRBsACAdICJDA4MWM3ODVkLWU3YjYtNGUwNC1hOGMzLWJiMzJhYjZlODBhNdgCBOACAQ&sid=e12b90519bab632c3ffdcb360924a5c1&aid=304142&ucfs=1&arphpl=1&dest_id=97&dest_type=country&group_adults=2&req_adults=2&no_rooms=1&group_children=0&req_children=0&hpos=8&hapos=958&sr_order=popularity&srpvid=e74992fcebb600ae&srepoch=1646686604&from=searchresults#hotelTmpl': 240,\n",
       " 'https://www.booking.com/hotel/is/sol-apartment.zh-tw.html?label=gen173bo-1DCAEoggI46AdIMFgDaOcBiAEBmAEwuAEXyAEM2AED6AEB-AEDiAIBmAICqAIDuALMrZiRBsACAdICJDA4MWM3ODVkLWU3YjYtNGUwNC1hOGMzLWJiMzJhYjZlODBhNdgCBOACAQ&sid=e12b90519bab632c3ffdcb360924a5c1&aid=304142&ucfs=1&arphpl=1&dest_id=97&dest_type=country&group_adults=2&req_adults=2&no_rooms=1&group_children=0&req_children=0&hpos=9&hapos=959&sr_order=popularity&srpvid=e74992fcebb600ae&srepoch=1646686604&from=searchresults#hotelTmpl': 90,\n",
       " 'https://www.booking.com/hotel/is/d-amp-e-great-location-for-family-or-couple.zh-tw.html?label=gen173bo-1DCAEoggI46AdIMFgDaOcBiAEBmAEwuAEXyAEM2AED6AEB-AEDiAIBmAICqAIDuALMrZiRBsACAdICJDA4MWM3ODVkLWU3YjYtNGUwNC1hOGMzLWJiMzJhYjZlODBhNdgCBOACAQ&sid=e12b90519bab632c3ffdcb360924a5c1&aid=304142&ucfs=1&arphpl=1&dest_id=97&dest_type=country&group_adults=2&req_adults=2&no_rooms=1&group_children=0&req_children=0&hpos=10&hapos=960&sr_order=popularity&srpvid=e74992fcebb600ae&srepoch=1646686604&from=searchresults#hotelTmpl': 151,\n",
       " 'https://www.booking.com/hotel/is/kerbyggd.zh-tw.html?label=gen173bo-1DCAEoggI46AdIMFgDaOcBiAEBmAEwuAEXyAEM2AED6AEB-AEDiAIBmAICqAIDuALMrZiRBsACAdICJDA4MWM3ODVkLWU3YjYtNGUwNC1hOGMzLWJiMzJhYjZlODBhNdgCBOACAQ&sid=e12b90519bab632c3ffdcb360924a5c1&aid=304142&ucfs=1&arphpl=1&dest_id=97&dest_type=country&group_adults=2&req_adults=2&no_rooms=1&group_children=0&req_children=0&hpos=11&hapos=961&sr_order=popularity&srpvid=e74992fcebb600ae&srepoch=1646686604&from=searchresults#hotelTmpl': 55,\n",
       " 'https://www.booking.com/hotel/is/hvammur.zh-tw.html?label=gen173bo-1DCAEoggI46AdIMFgDaOcBiAEBmAEwuAEXyAEM2AED6AEB-AEDiAIBmAICqAIDuALMrZiRBsACAdICJDA4MWM3ODVkLWU3YjYtNGUwNC1hOGMzLWJiMzJhYjZlODBhNdgCBOACAQ&sid=e12b90519bab632c3ffdcb360924a5c1&aid=304142&ucfs=1&arphpl=1&dest_id=97&dest_type=country&group_adults=2&req_adults=2&no_rooms=1&group_children=0&req_children=0&hpos=12&hapos=962&sr_order=popularity&srpvid=e74992fcebb600ae&srepoch=1646686604&from=searchresults#hotelTmpl': 50,\n",
       " 'https://www.booking.com/hotel/is/beautiful-house-just-50-m-from-the-sea.zh-tw.html?label=gen173bo-1DCAEoggI46AdIMFgDaOcBiAEBmAEwuAEXyAEM2AED6AEB-AEDiAIBmAICqAIDuALMrZiRBsACAdICJDA4MWM3ODVkLWU3YjYtNGUwNC1hOGMzLWJiMzJhYjZlODBhNdgCBOACAQ&sid=e12b90519bab632c3ffdcb360924a5c1&aid=304142&ucfs=1&arphpl=1&dest_id=97&dest_type=country&group_adults=2&req_adults=2&no_rooms=1&group_children=0&req_children=0&hpos=13&hapos=963&sr_order=popularity&srpvid=e74992fcebb600ae&srepoch=1646686604&from=searchresults#hotelTmpl': 87,\n",
       " 'https://www.booking.com/hotel/is/apartment-in-the-country-great-view-apt-a.zh-tw.html?label=gen173bo-1DCAEoggI46AdIMFgDaOcBiAEBmAEwuAEXyAEM2AED6AEB-AEDiAIBmAICqAIDuALMrZiRBsACAdICJDA4MWM3ODVkLWU3YjYtNGUwNC1hOGMzLWJiMzJhYjZlODBhNdgCBOACAQ&sid=e12b90519bab632c3ffdcb360924a5c1&aid=304142&ucfs=1&arphpl=1&dest_id=97&dest_type=country&group_adults=2&req_adults=2&no_rooms=1&group_children=0&req_children=0&hpos=14&hapos=964&sr_order=popularity&srpvid=e74992fcebb600ae&srepoch=1646686604&from=searchresults#hotelTmpl': 25,\n",
       " 'https://www.booking.com/hotel/is/saurbaer-apartment.zh-tw.html?label=gen173bo-1DCAEoggI46AdIMFgDaOcBiAEBmAEwuAEXyAEM2AED6AEB-AEDiAIBmAICqAIDuALMrZiRBsACAdICJDA4MWM3ODVkLWU3YjYtNGUwNC1hOGMzLWJiMzJhYjZlODBhNdgCBOACAQ&sid=e12b90519bab632c3ffdcb360924a5c1&aid=304142&ucfs=1&arphpl=1&dest_id=97&dest_type=country&group_adults=2&req_adults=2&no_rooms=1&group_children=0&req_children=0&hpos=15&hapos=965&sr_order=popularity&srpvid=e74992fcebb600ae&srepoch=1646686604&from=searchresults#hotelTmpl': 87,\n",
       " 'https://www.booking.com/hotel/is/live-as-locals-apartments-downtown-reykjavik.zh-tw.html?label=gen173bo-1DCAEoggI46AdIMFgDaOcBiAEBmAEwuAEXyAEM2AED6AEB-AEDiAIBmAICqAIDuALMrZiRBsACAdICJDA4MWM3ODVkLWU3YjYtNGUwNC1hOGMzLWJiMzJhYjZlODBhNdgCBOACAQ&sid=e12b90519bab632c3ffdcb360924a5c1&aid=304142&ucfs=1&arphpl=1&dest_id=97&dest_type=country&group_adults=2&req_adults=2&no_rooms=1&group_children=0&req_children=0&hpos=16&hapos=966&sr_order=popularity&srpvid=e74992fcebb600ae&srepoch=1646686604&from_sustainable_property_sr=1&from=searchresults#hotelTmpl': 12,\n",
       " 'https://www.booking.com/hotel/is/luxury-villa-with-river-view.zh-tw.html?label=gen173bo-1DCAEoggI46AdIMFgDaOcBiAEBmAEwuAEXyAEM2AED6AEB-AEDiAIBmAICqAIDuALMrZiRBsACAdICJDA4MWM3ODVkLWU3YjYtNGUwNC1hOGMzLWJiMzJhYjZlODBhNdgCBOACAQ&sid=e12b90519bab632c3ffdcb360924a5c1&aid=304142&ucfs=1&arphpl=1&dest_id=97&dest_type=country&group_adults=2&req_adults=2&no_rooms=1&group_children=0&req_children=0&hpos=17&hapos=967&sr_order=popularity&srpvid=e74992fcebb600ae&srepoch=1646686604&from=searchresults#hotelTmpl': 16,\n",
       " 'https://www.booking.com/hotel/is/tungata-seydisfjordur.zh-tw.html?label=gen173bo-1DCAEoggI46AdIMFgDaOcBiAEBmAEwuAEXyAEM2AED6AEB-AEDiAIBmAICqAIDuALMrZiRBsACAdICJDA4MWM3ODVkLWU3YjYtNGUwNC1hOGMzLWJiMzJhYjZlODBhNdgCBOACAQ&sid=e12b90519bab632c3ffdcb360924a5c1&aid=304142&ucfs=1&arphpl=1&dest_id=97&dest_type=country&group_adults=2&req_adults=2&no_rooms=1&group_children=0&req_children=0&hpos=18&hapos=968&sr_order=popularity&srpvid=e74992fcebb600ae&srepoch=1646686604&from=searchresults#hotelTmpl': 90,\n",
       " 'https://www.booking.com/hotel/is/central-and-cosy-apartment-with-free-parking.zh-tw.html?label=gen173bo-1DCAEoggI46AdIMFgDaOcBiAEBmAEwuAEXyAEM2AED6AEB-AEDiAIBmAICqAIDuALMrZiRBsACAdICJDA4MWM3ODVkLWU3YjYtNGUwNC1hOGMzLWJiMzJhYjZlODBhNdgCBOACAQ&sid=e12b90519bab632c3ffdcb360924a5c1&aid=304142&ucfs=1&arphpl=1&dest_id=97&dest_type=country&group_adults=2&req_adults=2&no_rooms=1&group_children=0&req_children=0&hpos=19&hapos=969&sr_order=popularity&srpvid=e74992fcebb600ae&srepoch=1646686604&from=searchresults#hotelTmpl': 30,\n",
       " 'https://www.booking.com/hotel/is/cozy-on-the-strip.zh-tw.html?label=gen173bo-1DCAEoggI46AdIMFgDaOcBiAEBmAEwuAEXyAEM2AED6AEB-AEDiAIBmAICqAIDuALMrZiRBsACAdICJDA4MWM3ODVkLWU3YjYtNGUwNC1hOGMzLWJiMzJhYjZlODBhNdgCBOACAQ&sid=e12b90519bab632c3ffdcb360924a5c1&aid=304142&ucfs=1&arphpl=1&dest_id=97&dest_type=country&group_adults=2&req_adults=2&no_rooms=1&group_children=0&req_children=0&hpos=20&hapos=970&sr_order=popularity&srpvid=e74992fcebb600ae&srepoch=1646686604&from_sustainable_property_sr=1&from=searchresults#hotelTmpl': 75,\n",
       " 'https://www.booking.com/hotel/is/hekla-cabin-2.zh-tw.html?label=gen173bo-1DCAEoggI46AdIMFgDaOcBiAEBmAEwuAEXyAEM2AED6AEB-AEDiAIBmAICqAIDuALMrZiRBsACAdICJDA4MWM3ODVkLWU3YjYtNGUwNC1hOGMzLWJiMzJhYjZlODBhNdgCBOACAQ&sid=e12b90519bab632c3ffdcb360924a5c1&aid=304142&ucfs=1&arphpl=1&dest_id=97&dest_type=country&group_adults=2&req_adults=2&no_rooms=1&group_children=0&req_children=0&hpos=21&hapos=971&sr_order=popularity&srpvid=e74992fcebb600ae&srepoch=1646686604&from=searchresults#hotelTmpl': 69,\n",
       " 'https://www.booking.com/hotel/is/einarsstadir-cozy-cabin-with-excellent-view.zh-tw.html?label=gen173bo-1DCAEoggI46AdIMFgDaOcBiAEBmAEwuAEXyAEM2AED6AEB-AEDiAIBmAICqAIDuALMrZiRBsACAdICJDA4MWM3ODVkLWU3YjYtNGUwNC1hOGMzLWJiMzJhYjZlODBhNdgCBOACAQ&sid=e12b90519bab632c3ffdcb360924a5c1&aid=304142&ucfs=1&arphpl=1&dest_id=97&dest_type=country&group_adults=2&req_adults=2&no_rooms=1&group_children=0&req_children=0&hpos=22&hapos=972&sr_order=popularity&srpvid=e74992fcebb600ae&srepoch=1646686604&from_sustainable_property_sr=1&from=searchresults#hotelTmpl': 369,\n",
       " 'https://www.booking.com/hotel/is/bardi-cottage.zh-tw.html?label=gen173bo-1DCAEoggI46AdIMFgDaOcBiAEBmAEwuAEXyAEM2AED6AEB-AEDiAIBmAICqAIDuALMrZiRBsACAdICJDA4MWM3ODVkLWU3YjYtNGUwNC1hOGMzLWJiMzJhYjZlODBhNdgCBOACAQ&sid=e12b90519bab632c3ffdcb360924a5c1&aid=304142&ucfs=1&arphpl=1&dest_id=97&dest_type=country&group_adults=2&req_adults=2&no_rooms=1&group_children=0&req_children=0&hpos=23&hapos=973&sr_order=popularity&srpvid=e74992fcebb600ae&srepoch=1646686604&from=searchresults#hotelTmpl': 60,\n",
       " 'https://www.booking.com/hotel/is/nortia-luxury-apartments.zh-tw.html?label=gen173bo-1DCAEoggI46AdIMFgDaOcBiAEBmAEwuAEXyAEM2AED6AEB-AEDiAIBmAICqAIDuALMrZiRBsACAdICJDA4MWM3ODVkLWU3YjYtNGUwNC1hOGMzLWJiMzJhYjZlODBhNdgCBOACAQ&sid=e12b90519bab632c3ffdcb360924a5c1&aid=304142&ucfs=1&arphpl=1&dest_id=97&dest_type=country&group_adults=2&req_adults=2&no_rooms=1&group_children=0&req_children=0&hpos=24&hapos=974&sr_order=popularity&srpvid=e74992fcebb600ae&srepoch=1646686604&from=searchresults#hotelTmpl': 56,\n",
       " 'https://www.booking.com/hotel/is/welcome-apartment.zh-tw.html?label=gen173bo-1DCAEoggI46AdIMFgDaOcBiAEBmAEwuAEXyAEM2AED6AEB-AEDiAIBmAICqAIDuALMrZiRBsACAdICJDA4MWM3ODVkLWU3YjYtNGUwNC1hOGMzLWJiMzJhYjZlODBhNdgCBOACAQ&sid=e12b90519bab632c3ffdcb360924a5c1&aid=304142&ucfs=1&arphpl=1&dest_id=97&dest_type=country&group_adults=2&req_adults=2&no_rooms=1&group_children=0&req_children=0&hpos=25&hapos=975&sr_order=popularity&srpvid=e74992fcebb600ae&srepoch=1646686604&from=searchresults#hotelTmpl': 26,\n",
       " 'https://www.booking.com/hotel/is/prestshus-2-guesthouse.zh-tw.html?label=gen173bo-1DCAEoggI46AdIMFgDaOcBiAEBmAEwuAEXyAEM2AED6AEB-AEDiAIBmAICqAIDuALMrZiRBsACAdICJDA4MWM3ODVkLWU3YjYtNGUwNC1hOGMzLWJiMzJhYjZlODBhNdgCBOACAQ&sid=e12b90519bab632c3ffdcb360924a5c1&aid=304142&ucfs=1&arphpl=1&dest_id=97&dest_type=country&group_adults=2&req_adults=2&no_rooms=1&group_children=0&req_children=0&hpos=1&hapos=976&sr_order=popularity&srpvid=e74992fcebb600ae&srepoch=1646686607&from=searchresults#hotelTmpl': 119,\n",
       " 'https://www.booking.com/hotel/is/akurgerdi-guesthouse-6-country-life-style.zh-tw.html?label=gen173bo-1DCAEoggI46AdIMFgDaOcBiAEBmAEwuAEXyAEM2AED6AEB-AEDiAIBmAICqAIDuALMrZiRBsACAdICJDA4MWM3ODVkLWU3YjYtNGUwNC1hOGMzLWJiMzJhYjZlODBhNdgCBOACAQ&sid=e12b90519bab632c3ffdcb360924a5c1&aid=304142&ucfs=1&arphpl=1&dest_id=97&dest_type=country&group_adults=2&req_adults=2&no_rooms=1&group_children=0&req_children=0&hpos=2&hapos=977&sr_order=popularity&srpvid=e74992fcebb600ae&srepoch=1646686607&from=searchresults#hotelTmpl': 35,\n",
       " 'https://www.booking.com/hotel/is/tjorn-1.zh-tw.html?label=gen173bo-1DCAEoggI46AdIMFgDaOcBiAEBmAEwuAEXyAEM2AED6AEB-AEDiAIBmAICqAIDuALMrZiRBsACAdICJDA4MWM3ODVkLWU3YjYtNGUwNC1hOGMzLWJiMzJhYjZlODBhNdgCBOACAQ&sid=e12b90519bab632c3ffdcb360924a5c1&aid=304142&ucfs=1&arphpl=1&dest_id=97&dest_type=country&group_adults=2&req_adults=2&no_rooms=1&group_children=0&req_children=0&hpos=3&hapos=978&sr_order=popularity&srpvid=e74992fcebb600ae&srepoch=1646686607&from=searchresults#hotelTmpl': 67,\n",
       " 'https://www.booking.com/hotel/is/hvammstangi-hostel.zh-tw.html?label=gen173bo-1DCAEoggI46AdIMFgDaOcBiAEBmAEwuAEXyAEM2AED6AEB-AEDiAIBmAICqAIDuALMrZiRBsACAdICJDA4MWM3ODVkLWU3YjYtNGUwNC1hOGMzLWJiMzJhYjZlODBhNdgCBOACAQ&sid=e12b90519bab632c3ffdcb360924a5c1&aid=304142&ucfs=1&arphpl=1&dest_id=97&dest_type=country&group_adults=2&req_adults=2&no_rooms=1&group_children=0&req_children=0&hpos=4&hapos=979&sr_order=popularity&srpvid=e74992fcebb600ae&srepoch=1646686607&from=searchresults#hotelTmpl': 9,\n",
       " 'https://www.booking.com/hotel/is/hestasport-apartment.zh-tw.html?label=gen173bo-1DCAEoggI46AdIMFgDaOcBiAEBmAEwuAEXyAEM2AED6AEB-AEDiAIBmAICqAIDuALMrZiRBsACAdICJDA4MWM3ODVkLWU3YjYtNGUwNC1hOGMzLWJiMzJhYjZlODBhNdgCBOACAQ&sid=e12b90519bab632c3ffdcb360924a5c1&aid=304142&ucfs=1&arphpl=1&dest_id=97&dest_type=country&group_adults=2&req_adults=2&no_rooms=1&group_children=0&req_children=0&hpos=5&hapos=980&sr_order=popularity&srpvid=e74992fcebb600ae&srepoch=1646686607&from=searchresults#hotelTmpl': 250,\n",
       " 'https://www.booking.com/hotel/is/apartment-tungata.zh-tw.html?label=gen173bo-1DCAEoggI46AdIMFgDaOcBiAEBmAEwuAEXyAEM2AED6AEB-AEDiAIBmAICqAIDuALMrZiRBsACAdICJDA4MWM3ODVkLWU3YjYtNGUwNC1hOGMzLWJiMzJhYjZlODBhNdgCBOACAQ&sid=e12b90519bab632c3ffdcb360924a5c1&aid=304142&ucfs=1&arphpl=1&dest_id=97&dest_type=country&group_adults=2&req_adults=2&no_rooms=1&group_children=0&req_children=0&hpos=6&hapos=981&sr_order=popularity&srpvid=e74992fcebb600ae&srepoch=1646686607&from=searchresults#hotelTmpl': 30,\n",
       " 'https://www.booking.com/hotel/is/townhall-square.zh-tw.html?label=gen173bo-1DCAEoggI46AdIMFgDaOcBiAEBmAEwuAEXyAEM2AED6AEB-AEDiAIBmAICqAIDuALMrZiRBsACAdICJDA4MWM3ODVkLWU3YjYtNGUwNC1hOGMzLWJiMzJhYjZlODBhNdgCBOACAQ&sid=e12b90519bab632c3ffdcb360924a5c1&aid=304142&ucfs=1&arphpl=1&dest_id=97&dest_type=country&group_adults=2&req_adults=2&no_rooms=1&group_children=0&req_children=0&hpos=7&hapos=982&sr_order=popularity&srpvid=e74992fcebb600ae&srepoch=1646686607&from=searchresults#hotelTmpl': 134,\n",
       " 'https://www.booking.com/hotel/is/olafsvik.zh-tw.html?label=gen173bo-1DCAEoggI46AdIMFgDaOcBiAEBmAEwuAEXyAEM2AED6AEB-AEDiAIBmAICqAIDuALMrZiRBsACAdICJDA4MWM3ODVkLWU3YjYtNGUwNC1hOGMzLWJiMzJhYjZlODBhNdgCBOACAQ&sid=e12b90519bab632c3ffdcb360924a5c1&aid=304142&ucfs=1&arphpl=1&dest_id=97&dest_type=country&group_adults=2&req_adults=2&no_rooms=1&group_children=0&req_children=0&hpos=8&hapos=983&sr_order=popularity&srpvid=e74992fcebb600ae&srepoch=1646686607&from=searchresults#hotelTmpl': 101,\n",
       " 'https://www.booking.com/hotel/is/the-apartment-obbuhus.zh-tw.html?label=gen173bo-1DCAEoggI46AdIMFgDaOcBiAEBmAEwuAEXyAEM2AED6AEB-AEDiAIBmAICqAIDuALMrZiRBsACAdICJDA4MWM3ODVkLWU3YjYtNGUwNC1hOGMzLWJiMzJhYjZlODBhNdgCBOACAQ&sid=e12b90519bab632c3ffdcb360924a5c1&aid=304142&ucfs=1&arphpl=1&dest_id=97&dest_type=country&group_adults=2&req_adults=2&no_rooms=1&group_children=0&req_children=0&hpos=9&hapos=984&sr_order=popularity&srpvid=e74992fcebb600ae&srepoch=1646686607&from=searchresults#hotelTmpl': 132,\n",
       " 'https://www.booking.com/hotel/is/dima-studio-apartments.zh-tw.html?label=gen173bo-1DCAEoggI46AdIMFgDaOcBiAEBmAEwuAEXyAEM2AED6AEB-AEDiAIBmAICqAIDuALMrZiRBsACAdICJDA4MWM3ODVkLWU3YjYtNGUwNC1hOGMzLWJiMzJhYjZlODBhNdgCBOACAQ&sid=e12b90519bab632c3ffdcb360924a5c1&aid=304142&ucfs=1&arphpl=1&dest_id=97&dest_type=country&group_adults=2&req_adults=2&no_rooms=1&group_children=0&req_children=0&hpos=10&hapos=985&sr_order=popularity&srpvid=e74992fcebb600ae&srepoch=1646686607&from=searchresults#hotelTmpl': 154,\n",
       " 'https://www.booking.com/hotel/is/audsholt-2.zh-tw.html?label=gen173bo-1DCAEoggI46AdIMFgDaOcBiAEBmAEwuAEXyAEM2AED6AEB-AEDiAIBmAICqAIDuALMrZiRBsACAdICJDA4MWM3ODVkLWU3YjYtNGUwNC1hOGMzLWJiMzJhYjZlODBhNdgCBOACAQ&sid=e12b90519bab632c3ffdcb360924a5c1&aid=304142&ucfs=1&arphpl=1&dest_id=97&dest_type=country&group_adults=2&req_adults=2&no_rooms=1&group_children=0&req_children=0&hpos=11&hapos=986&sr_order=popularity&srpvid=e74992fcebb600ae&srepoch=1646686607&from=searchresults#hotelTmpl': 277,\n",
       " 'https://www.booking.com/hotel/is/guesthouse-neadegra-vatnshorn.zh-tw.html?label=gen173bo-1DCAEoggI46AdIMFgDaOcBiAEBmAEwuAEXyAEM2AED6AEB-AEDiAIBmAICqAIDuALMrZiRBsACAdICJDA4MWM3ODVkLWU3YjYtNGUwNC1hOGMzLWJiMzJhYjZlODBhNdgCBOACAQ&sid=e12b90519bab632c3ffdcb360924a5c1&aid=304142&ucfs=1&arphpl=1&dest_id=97&dest_type=country&group_adults=2&req_adults=2&no_rooms=1&group_children=0&req_children=0&hpos=12&hapos=987&sr_order=popularity&srpvid=e74992fcebb600ae&srepoch=1646686607&from=searchresults#hotelTmpl': 319,\n",
       " 'https://www.booking.com/hotel/is/reynisstadir.zh-tw.html?label=gen173bo-1DCAEoggI46AdIMFgDaOcBiAEBmAEwuAEXyAEM2AED6AEB-AEDiAIBmAICqAIDuALMrZiRBsACAdICJDA4MWM3ODVkLWU3YjYtNGUwNC1hOGMzLWJiMzJhYjZlODBhNdgCBOACAQ&sid=e12b90519bab632c3ffdcb360924a5c1&aid=304142&ucfs=1&arphpl=1&dest_id=97&dest_type=country&group_adults=2&req_adults=2&no_rooms=1&group_children=0&req_children=0&hpos=13&hapos=988&sr_order=popularity&srpvid=e74992fcebb600ae&srepoch=1646686607&from=searchresults#hotelTmpl': 36,\n",
       " 'https://www.booking.com/hotel/is/black-pearl-reykjavik-finest-apartments.zh-tw.html?label=gen173bo-1DCAEoggI46AdIMFgDaOcBiAEBmAEwuAEXyAEM2AED6AEB-AEDiAIBmAICqAIDuALMrZiRBsACAdICJDA4MWM3ODVkLWU3YjYtNGUwNC1hOGMzLWJiMzJhYjZlODBhNdgCBOACAQ&sid=e12b90519bab632c3ffdcb360924a5c1&aid=304142&ucfs=1&arphpl=1&dest_id=97&dest_type=country&group_adults=2&req_adults=2&no_rooms=1&group_children=0&req_children=0&hpos=14&hapos=989&sr_order=popularity&srpvid=e74992fcebb600ae&srepoch=1646686607&from=searchresults#hotelTmpl': 25,\n",
       " 'https://www.booking.com/hotel/is/midsker-1.zh-tw.html?label=gen173bo-1DCAEoggI46AdIMFgDaOcBiAEBmAEwuAEXyAEM2AED6AEB-AEDiAIBmAICqAIDuALMrZiRBsACAdICJDA4MWM3ODVkLWU3YjYtNGUwNC1hOGMzLWJiMzJhYjZlODBhNdgCBOACAQ&sid=e12b90519bab632c3ffdcb360924a5c1&aid=304142&ucfs=1&arphpl=1&dest_id=97&dest_type=country&group_adults=2&req_adults=2&no_rooms=1&group_children=0&req_children=0&hpos=15&hapos=990&sr_order=popularity&srpvid=e74992fcebb600ae&srepoch=1646686607&from=searchresults#hotelTmpl': 444,\n",
       " 'https://www.booking.com/hotel/is/gunnlaugsgata-3.zh-tw.html?label=gen173bo-1DCAEoggI46AdIMFgDaOcBiAEBmAEwuAEXyAEM2AED6AEB-AEDiAIBmAICqAIDuALMrZiRBsACAdICJDA4MWM3ODVkLWU3YjYtNGUwNC1hOGMzLWJiMzJhYjZlODBhNdgCBOACAQ&sid=e12b90519bab632c3ffdcb360924a5c1&aid=304142&ucfs=1&arphpl=1&dest_id=97&dest_type=country&group_adults=2&req_adults=2&no_rooms=1&group_children=0&req_children=0&hpos=16&hapos=991&sr_order=popularity&srpvid=e74992fcebb600ae&srepoch=1646686607&from=searchresults#hotelTmpl': 36,\n",
       " 'https://www.booking.com/hotel/is/siddy-apartment.zh-tw.html?label=gen173bo-1DCAEoggI46AdIMFgDaOcBiAEBmAEwuAEXyAEM2AED6AEB-AEDiAIBmAICqAIDuALMrZiRBsACAdICJDA4MWM3ODVkLWU3YjYtNGUwNC1hOGMzLWJiMzJhYjZlODBhNdgCBOACAQ&sid=e12b90519bab632c3ffdcb360924a5c1&aid=304142&ucfs=1&arphpl=1&dest_id=97&dest_type=country&group_adults=2&req_adults=2&no_rooms=1&group_children=0&req_children=0&hpos=17&hapos=992&sr_order=popularity&srpvid=e74992fcebb600ae&srepoch=1646686607&from_sustainable_property_sr=1&from=searchresults#hotelTmpl': 76,\n",
       " 'https://www.booking.com/hotel/is/bjarnabud.zh-tw.html?label=gen173bo-1DCAEoggI46AdIMFgDaOcBiAEBmAEwuAEXyAEM2AED6AEB-AEDiAIBmAICqAIDuALMrZiRBsACAdICJDA4MWM3ODVkLWU3YjYtNGUwNC1hOGMzLWJiMzJhYjZlODBhNdgCBOACAQ&sid=e12b90519bab632c3ffdcb360924a5c1&aid=304142&ucfs=1&arphpl=1&dest_id=97&dest_type=country&group_adults=2&req_adults=2&no_rooms=1&group_children=0&req_children=0&hpos=18&hapos=993&sr_order=popularity&srpvid=e74992fcebb600ae&srepoch=1646686607&from=searchresults#hotelTmpl': 172,\n",
       " 'https://www.booking.com/hotel/is/marbakki-luxury-ocean-retreat.zh-tw.html?label=gen173bo-1DCAEoggI46AdIMFgDaOcBiAEBmAEwuAEXyAEM2AED6AEB-AEDiAIBmAICqAIDuALMrZiRBsACAdICJDA4MWM3ODVkLWU3YjYtNGUwNC1hOGMzLWJiMzJhYjZlODBhNdgCBOACAQ&sid=e12b90519bab632c3ffdcb360924a5c1&aid=304142&ucfs=1&arphpl=1&dest_id=97&dest_type=country&group_adults=2&req_adults=2&no_rooms=1&group_children=0&req_children=0&hpos=19&hapos=994&sr_order=popularity&srpvid=e74992fcebb600ae&srepoch=1646686607&from_sustainable_property_sr=1&from=searchresults#hotelTmpl': 111,\n",
       " 'https://www.booking.com/hotel/is/blue-view-cabin-4a.zh-tw.html?label=gen173bo-1DCAEoggI46AdIMFgDaOcBiAEBmAEwuAEXyAEM2AED6AEB-AEDiAIBmAICqAIDuALMrZiRBsACAdICJDA4MWM3ODVkLWU3YjYtNGUwNC1hOGMzLWJiMzJhYjZlODBhNdgCBOACAQ&sid=e12b90519bab632c3ffdcb360924a5c1&aid=304142&ucfs=1&arphpl=1&dest_id=97&dest_type=country&group_adults=2&req_adults=2&no_rooms=1&group_children=0&req_children=0&hpos=20&hapos=995&sr_order=popularity&srpvid=e74992fcebb600ae&srepoch=1646686607&from=searchresults#hotelTmpl': 21,\n",
       " 'https://www.booking.com/hotel/is/hrismoar-4.zh-tw.html?label=gen173bo-1DCAEoggI46AdIMFgDaOcBiAEBmAEwuAEXyAEM2AED6AEB-AEDiAIBmAICqAIDuALMrZiRBsACAdICJDA4MWM3ODVkLWU3YjYtNGUwNC1hOGMzLWJiMzJhYjZlODBhNdgCBOACAQ&sid=e12b90519bab632c3ffdcb360924a5c1&aid=304142&ucfs=1&arphpl=1&dest_id=97&dest_type=country&group_adults=2&req_adults=2&no_rooms=1&group_children=0&req_children=0&hpos=21&hapos=996&sr_order=popularity&srpvid=e74992fcebb600ae&srepoch=1646686607&from=searchresults#hotelTmpl': 49}"
      ]
     },
     "execution_count": 347,
     "metadata": {},
     "output_type": "execute_result"
    }
   ],
   "source": [
    "urls"
   ]
  },
  {
   "cell_type": "code",
   "execution_count": 266,
   "metadata": {},
   "outputs": [],
   "source": [
    "def one_page_data(self,url):\n",
    "    \n",
    "    driver = webdriver.Chrome(self.path) #開啟\n",
    "    driver.get(url)\n",
    "\n",
    "    html = BeautifulSoup(driver.page_source, 'html.parser')\n",
    "    time.sleep(2)\n",
    "    WebDriverWait(driver, 3).until(EC.presence_of_element_located((By.ID,\"hp_hotel_name\")))\n",
    "\n",
    "    #旅館類型\n",
    "    category = html.select(\"h2.hp__hotel-name span\")[0].text\n",
    "\n",
    "    #旅館名稱\n",
    "    name = html.select_one(\"h2#hp_hotel_name\")\n",
    "    [s.extract() for s in name.select_one(\"span\")] ##移除某標籤\n",
    "    name = re.sub(\"\\n\",\"\",name.text)\n",
    "\n",
    "\n",
    "    ### 點擊Ajax評論\n",
    "    driver.find_element_by_xpath('//*[@id=\"guest-featured_reviews__horizontal-block\"]/div/div[8]/button/span').click()\n",
    "    time.sleep(3)\n",
    "    WebDriverWait(driver, 5).until(EC.presence_of_element_located((By.CLASS_NAME,\"bui-f-font-heading\")))\n",
    "\n",
    "\n",
    "    df = []\n",
    "    while(True):\n",
    "        try:\n",
    "            k = 0 \n",
    "            html = BeautifulSoup(driver.page_source, 'html.parser') #翻頁後 初始化 html 介面內容\n",
    "            while(True):\n",
    "                try:\n",
    "                    #旅客國家\n",
    "                    country = html.select(\"#review_list_page_container > ul > li\")[k].select(\"span.bui-avatar-block__subtitle\")[0].text\n",
    "                    pattern = re.compile(r'\\w+')\n",
    "                    country = pattern.findall(country)[0]\n",
    "\n",
    "                    #旅客評論時間\n",
    "                    reviews_time = html.select(\"#review_list_page_container > ul > li\")[k].select(\"span.c-review-block__date\")[1].text\n",
    "                    pattern = re.compile(r'(\\d+) 年 (\\d+) 月 (\\d+) 日')\n",
    "                    pattern.search(reviews_time).group(0)\n",
    "                    reviews_time = arrow.get(int(pattern.search(reviews_time).group(1)),int(pattern.search(reviews_time).group(2)),int(pattern.search(reviews_time).group(3))).format(\"YYYY-MM-DD\")\n",
    "\n",
    "                    #旅客評論標題\n",
    "                    title = html.select(\"#review_list_page_container > ul > li\")[k].select(\"h3.c-review-block__title\")[0].text\n",
    "                    title = re.sub(\"\\n\",\"\",title)\n",
    "                    \n",
    "                    #旅客評論\n",
    "                    language = html.select(\"#review_list_page_container > ul > li\")[k].select('span.c-review__body')[0].get(\"lang\")\n",
    "                    \n",
    "                    if (language==\"zh\" or language==\"zh-tw\"): #評論為中文\n",
    "                        try:\n",
    "                            a = html.select(\"#review_list_page_container > ul > li\")[k].select('span.c-review__body')[0].text\n",
    "                            b = html.select(\"#review_list_page_container > ul > li\")[k].select('span.c-review__body')[1].text\n",
    "                            reviews = a + \" \" +  b\n",
    "                        except:\n",
    "                            a = html.select(\"#review_list_page_container > ul > li\")[k].select('span.c-review__body')[0].text\n",
    "                            reviews = a\n",
    "                    else:\n",
    "                        try:\n",
    "                            a = html.select(\"#review_list_page_container > ul > li\")[k].select('span.c-review__body--original')[0].text\n",
    "                            b = html.select(\"#review_list_page_container > ul > li\")[k].select('span.c-review__body--original')[1].text\n",
    "                            reviews = a + \" \" +  b\n",
    "                        except:\n",
    "                            a = html.select(\"#review_list_page_container > ul > li\")[k].select('span.c-review__body--original')[0].text\n",
    "                            reviews = a\n",
    "\n",
    "\n",
    "                    if reviews==[]:\n",
    "                        break\n",
    "\n",
    "                    #旅客評分\n",
    "                    score = html.select(\"#review_list_page_container > ul > li\")[k].select('div.bui-review-score__badge')[0].text\n",
    "                    \n",
    "                    \n",
    "                    df.extend([name,category,country,reviews_time,title,reviews,score])\n",
    "\n",
    "                    k+=1\n",
    "\n",
    "                except:\n",
    "                    break\n",
    "\n",
    "            \n",
    "            driver.find_element_by_xpath('//*[@id=\"review_list_page_container\"]/div[4]/div/div[1]/div/div[3]/a').click() \n",
    "            time.sleep(2)\n",
    "            WebDriverWait(driver,3).until(EC.presence_of_element_located((By.CLASS_NAME,\"bui-f-font-heading\")))\n",
    "        \n",
    "        except:\n",
    "            break\n",
    "\n",
    "    return pd.DataFrame(np.array(df).reshape(-1,7),columns=[\"name\",\"category\",\"from_country\",\"reviews_time\",\"title\",\"reviews\",\"score\"])\n",
    "\n"
   ]
  },
  {
   "cell_type": "code",
   "execution_count": 11,
   "metadata": {},
   "outputs": [
    {
     "name": "stderr",
     "output_type": "stream",
     "text": [
      "<ipython-input-10-0249503989ec>:3: DeprecationWarning: executable_path has been deprecated, please pass in a Service object\n",
      "  driver = webdriver.Chrome(path) #開啟\n",
      "<ipython-input-10-0249503989ec>:18: DeprecationWarning: find_element_by_* commands are deprecated. Please use find_element() instead\n",
      "  driver.find_element_by_xpath('//*[@id=\"guest-featured_reviews__horizontal-block\"]/div/div[8]/button/span').click()\n"
     ]
    }
   ],
   "source": [
    "url = 'https://www.booking.com/hotel/is/grandi-by-center-hotels.html?aid=304142;label=gen173bo-1DCAEoggI46AdIMFgDaOcBiAEBmAEwuAEXyAEM2AED6AEB-AEDiAIBmAICqAIDuALMrZiRBsACAdICJDA4MWM3ODVkLWU3YjYtNGUwNC1hOGMzLWJiMzJhYjZlODBhNdgCBOACAQ;sid=e12b90519bab632c3ffdcb360924a5c1;dest_id=97;dest_type=country;dist=0;group_adults=2;group_children=0;hapos=1;hpos=1;no_rooms=1;req_adults=2;req_children=0;room1=A%2CA;sb_price_type=total;sr_order=popularity;srepoch=1646668500;srpvid=f96c6fe9d0dd0096;type=total;ucfs=1&#hotelTmpl'\n",
    "data = one_page_data(url)"
   ]
  },
  {
   "cell_type": "code",
   "execution_count": 207,
   "metadata": {},
   "outputs": [
    {
     "data": {
      "text/html": [
       "<div>\n",
       "<style scoped>\n",
       "    .dataframe tbody tr th:only-of-type {\n",
       "        vertical-align: middle;\n",
       "    }\n",
       "\n",
       "    .dataframe tbody tr th {\n",
       "        vertical-align: top;\n",
       "    }\n",
       "\n",
       "    .dataframe thead th {\n",
       "        text-align: right;\n",
       "    }\n",
       "</style>\n",
       "<table border=\"1\" class=\"dataframe\">\n",
       "  <thead>\n",
       "    <tr style=\"text-align: right;\">\n",
       "      <th></th>\n",
       "      <th>name</th>\n",
       "      <th>category</th>\n",
       "      <th>from_country</th>\n",
       "      <th>reviews_time</th>\n",
       "      <th>title</th>\n",
       "      <th>reviews</th>\n",
       "      <th>score</th>\n",
       "    </tr>\n",
       "  </thead>\n",
       "  <tbody>\n",
       "    <tr>\n",
       "      <th>0</th>\n",
       "      <td>Grandi by Center Hotels</td>\n",
       "      <td>飯店</td>\n",
       "      <td>美國</td>\n",
       "      <td>2021-10-16</td>\n",
       "      <td>Exceptional visit!</td>\n",
       "      <td>This was a high service experience staying in ...</td>\n",
       "      <td>10</td>\n",
       "    </tr>\n",
       "    <tr>\n",
       "      <th>1</th>\n",
       "      <td>Grandi by Center Hotels</td>\n",
       "      <td>飯店</td>\n",
       "      <td>德國</td>\n",
       "      <td>2022-03-06</td>\n",
       "      <td>好極了</td>\n",
       "      <td>modern, cooler Style, tolles Restaurant</td>\n",
       "      <td>9.0</td>\n",
       "    </tr>\n",
       "    <tr>\n",
       "      <th>2</th>\n",
       "      <td>Grandi by Center Hotels</td>\n",
       "      <td>飯店</td>\n",
       "      <td>英國</td>\n",
       "      <td>2022-03-06</td>\n",
       "      <td>Excellent hotel</td>\n",
       "      <td>Great location, quiet, clean, spacious, comfy ...</td>\n",
       "      <td>10</td>\n",
       "    </tr>\n",
       "    <tr>\n",
       "      <th>3</th>\n",
       "      <td>Grandi by Center Hotels</td>\n",
       "      <td>飯店</td>\n",
       "      <td>愛爾蘭</td>\n",
       "      <td>2022-03-06</td>\n",
       "      <td>Nice hotel, very good base for all of the acti...</td>\n",
       "      <td>Hotel was fine, its a great base just 10-15 mi...</td>\n",
       "      <td>8.0</td>\n",
       "    </tr>\n",
       "    <tr>\n",
       "      <th>4</th>\n",
       "      <td>Grandi by Center Hotels</td>\n",
       "      <td>飯店</td>\n",
       "      <td>冰島</td>\n",
       "      <td>2022-03-05</td>\n",
       "      <td>非常好</td>\n",
       "      <td>Comfortable bed, friendly staff and great loca...</td>\n",
       "      <td>8.0</td>\n",
       "    </tr>\n",
       "    <tr>\n",
       "      <th>...</th>\n",
       "      <td>...</td>\n",
       "      <td>...</td>\n",
       "      <td>...</td>\n",
       "      <td>...</td>\n",
       "      <td>...</td>\n",
       "      <td>...</td>\n",
       "      <td>...</td>\n",
       "    </tr>\n",
       "    <tr>\n",
       "      <th>305</th>\n",
       "      <td>Grandi by Center Hotels</td>\n",
       "      <td>飯店</td>\n",
       "      <td>英國</td>\n",
       "      <td>2021-07-31</td>\n",
       "      <td>好</td>\n",
       "      <td>Fengum nýtt herbergi þegar fyrra herbergið var...</td>\n",
       "      <td>7.0</td>\n",
       "    </tr>\n",
       "    <tr>\n",
       "      <th>306</th>\n",
       "      <td>Grandi by Center Hotels</td>\n",
       "      <td>飯店</td>\n",
       "      <td>拉脫維亞</td>\n",
       "      <td>2021-09-07</td>\n",
       "      <td>傑出</td>\n",
       "      <td>У отеля невероятно хорошее местоположение , ря...</td>\n",
       "      <td>10</td>\n",
       "    </tr>\n",
       "    <tr>\n",
       "      <th>307</th>\n",
       "      <td>Grandi by Center Hotels</td>\n",
       "      <td>飯店</td>\n",
       "      <td>奧地利</td>\n",
       "      <td>2021-08-28</td>\n",
       "      <td>Super Unterkunft in Islands Hauptstadt</td>\n",
       "      <td>Das Personal war ausgesprochen freundlich und ...</td>\n",
       "      <td>10</td>\n",
       "    </tr>\n",
       "    <tr>\n",
       "      <th>308</th>\n",
       "      <td>Grandi by Center Hotels</td>\n",
       "      <td>飯店</td>\n",
       "      <td>德國</td>\n",
       "      <td>2021-09-30</td>\n",
       "      <td>好</td>\n",
       "      <td>Das Bad war schönDas Frühstück</td>\n",
       "      <td>7.0</td>\n",
       "    </tr>\n",
       "    <tr>\n",
       "      <th>309</th>\n",
       "      <td>Grandi by Center Hotels</td>\n",
       "      <td>飯店</td>\n",
       "      <td>西班牙</td>\n",
       "      <td>2021-09-24</td>\n",
       "      <td>Muy correcto</td>\n",
       "      <td>Muy limpio y cómodoEl precio, aunque es el hab...</td>\n",
       "      <td>7.0</td>\n",
       "    </tr>\n",
       "  </tbody>\n",
       "</table>\n",
       "<p>310 rows × 7 columns</p>\n",
       "</div>"
      ],
      "text/plain": [
       "                        name category from_country reviews_time  \\\n",
       "0    Grandi by Center Hotels       飯店           美國   2021-10-16   \n",
       "1    Grandi by Center Hotels       飯店           德國   2022-03-06   \n",
       "2    Grandi by Center Hotels       飯店           英國   2022-03-06   \n",
       "3    Grandi by Center Hotels       飯店          愛爾蘭   2022-03-06   \n",
       "4    Grandi by Center Hotels       飯店           冰島   2022-03-05   \n",
       "..                       ...      ...          ...          ...   \n",
       "305  Grandi by Center Hotels       飯店           英國   2021-07-31   \n",
       "306  Grandi by Center Hotels       飯店         拉脫維亞   2021-09-07   \n",
       "307  Grandi by Center Hotels       飯店          奧地利   2021-08-28   \n",
       "308  Grandi by Center Hotels       飯店           德國   2021-09-30   \n",
       "309  Grandi by Center Hotels       飯店          西班牙   2021-09-24   \n",
       "\n",
       "                                                 title  \\\n",
       "0                                   Exceptional visit!   \n",
       "1                                                  好極了   \n",
       "2                                      Excellent hotel   \n",
       "3    Nice hotel, very good base for all of the acti...   \n",
       "4                                                  非常好   \n",
       "..                                                 ...   \n",
       "305                                                  好   \n",
       "306                                                 傑出   \n",
       "307             Super Unterkunft in Islands Hauptstadt   \n",
       "308                                                  好   \n",
       "309                                       Muy correcto   \n",
       "\n",
       "                                               reviews  score  \n",
       "0    This was a high service experience staying in ...    10   \n",
       "1              modern, cooler Style, tolles Restaurant   9.0   \n",
       "2    Great location, quiet, clean, spacious, comfy ...    10   \n",
       "3    Hotel was fine, its a great base just 10-15 mi...   8.0   \n",
       "4    Comfortable bed, friendly staff and great loca...   8.0   \n",
       "..                                                 ...    ...  \n",
       "305  Fengum nýtt herbergi þegar fyrra herbergið var...   7.0   \n",
       "306  У отеля невероятно хорошее местоположение , ря...    10   \n",
       "307  Das Personal war ausgesprochen freundlich und ...    10   \n",
       "308                     Das Bad war schönDas Frühstück   7.0   \n",
       "309  Muy limpio y cómodoEl precio, aunque es el hab...   7.0   \n",
       "\n",
       "[310 rows x 7 columns]"
      ]
     },
     "execution_count": 207,
     "metadata": {},
     "output_type": "execute_result"
    }
   ],
   "source": [
    "data"
   ]
  },
  {
   "cell_type": "markdown",
   "metadata": {},
   "source": [
    "# 包成物件導向class"
   ]
  },
  {
   "cell_type": "code",
   "execution_count": 6,
   "metadata": {},
   "outputs": [],
   "source": [
    "class booking_crawler:\n",
    "\n",
    "    def __init__(self,path,country_url):\n",
    "        self.path = path \n",
    "        self.country_url = country_url\n",
    "\n",
    "    def hotel_url(self):\n",
    "    \n",
    "        driver = webdriver.Chrome(self.path) #開啟\n",
    "        driver.get(self.country_url)\n",
    "        \n",
    "        hrefs = []\n",
    "        n_reviews = []\n",
    "        hotel_data = {}\n",
    "        for i in range(40):\n",
    "            try:\n",
    "                html = BeautifulSoup(driver.page_source, 'html.parser')\n",
    "\n",
    "                for i in html.select(\"div[data-testid='property-card']\"):\n",
    "                    if i.select(\"div._f8ff3180e div._4abc4c3d5\")!=[]:\n",
    "                        hrefs.append(i.select(\"h3._23bf57b84 a\")[0].attrs[\"href\"])\n",
    "\n",
    "\n",
    "                pattern = re.compile(r'(\\d+)')\n",
    "                for i in html.select(\"div._f8ff3180e div._4abc4c3d5\"):\n",
    "                    if len(pattern.findall(i.text))>1:\n",
    "                        n_reviews.append(int(pattern.findall(i.text)[0])*1000 + int(pattern.findall(i.text)[1]))\n",
    "                    else:\n",
    "                        n_reviews.append(int(pattern.findall(i.text)[0]))\n",
    "\n",
    "\n",
    "\n",
    "\n",
    "                hotel_data.update(dict(zip(hrefs,n_reviews)))\n",
    "\n",
    "                driver.find_element_by_xpath('//*[@id=\"search_results_table\"]/div/div/div/div/div[7]/div[2]/nav/div/div[3]/button/span').click()\n",
    "                time.sleep(3)\n",
    "            except:\n",
    "                break\n",
    "        \n",
    "        return  hotel_data\n",
    "\n",
    "    def one_page_data(self,url):\n",
    "    \n",
    "        driver = webdriver.Chrome(self.path) #開啟\n",
    "        driver.get(url)\n",
    "\n",
    "        html = BeautifulSoup(driver.page_source, 'html.parser')\n",
    "        time.sleep(2)\n",
    "        WebDriverWait(driver, 3).until(EC.presence_of_element_located((By.ID,\"hp_hotel_name\")))\n",
    "\n",
    "        #旅館類型\n",
    "        category = html.select(\"h2.hp__hotel-name span\")[0].text\n",
    "\n",
    "        #旅館名稱\n",
    "        name = html.select_one(\"h2#hp_hotel_name\")\n",
    "        [s.extract() for s in name.select_one(\"span\")] ##移除某標籤\n",
    "        name = re.sub(\"\\n\",\"\",name.text)\n",
    "\n",
    "\n",
    "        ### 點擊Ajax評論\n",
    "        driver.find_element_by_xpath('//*[@id=\"guest-featured_reviews__horizontal-block\"]/div/div[8]/button/span').click()\n",
    "        time.sleep(3)\n",
    "        WebDriverWait(driver, 5).until(EC.presence_of_element_located((By.CLASS_NAME,\"bui-f-font-heading\")))\n",
    "    \n",
    "\n",
    "        df = []\n",
    "        while(True):\n",
    "            try:\n",
    "                k = 0 \n",
    "                html = BeautifulSoup(driver.page_source, 'html.parser') #翻頁後 初始化 html 介面內容\n",
    "                while(True):\n",
    "                    try:\n",
    "                        #旅客國家\n",
    "                        country = html.select(\"#review_list_page_container > ul > li\")[k].select(\"span.bui-avatar-block__subtitle\")[0].text\n",
    "                        pattern = re.compile(r'\\w+')\n",
    "                        country = pattern.findall(country)[0]\n",
    "\n",
    "                        #旅客評論時間\n",
    "                        reviews_time = html.select(\"#review_list_page_container > ul > li\")[k].select(\"span.c-review-block__date\")[1].text\n",
    "                        pattern = re.compile(r'(\\d+) 年 (\\d+) 月 (\\d+) 日')\n",
    "                        pattern.search(reviews_time).group(0)\n",
    "                        reviews_time = arrow.get(int(pattern.search(reviews_time).group(1)),int(pattern.search(reviews_time).group(2)),int(pattern.search(reviews_time).group(3))).format(\"YYYY-MM-DD\")\n",
    "\n",
    "                        #旅客評論標題\n",
    "                        title = html.select(\"#review_list_page_container > ul > li\")[k].select(\"h3.c-review-block__title\")[0].text\n",
    "                        title = re.sub(\"\\n\",\"\",title)\n",
    "                        \n",
    "                        #旅客評論\n",
    "                        language = html.select(\"#review_list_page_container > ul > li\")[k].select('span.c-review__body')[0].get(\"lang\")\n",
    "                        \n",
    "                        if (language==\"zh\" or language==\"zh-tw\"): #評論為中文\n",
    "                            try:\n",
    "                                a = html.select(\"#review_list_page_container > ul > li\")[k].select('span.c-review__body')[0].text\n",
    "                                b = html.select(\"#review_list_page_container > ul > li\")[k].select('span.c-review__body')[1].text\n",
    "                                reviews = a + \" \" +  b\n",
    "                            except:\n",
    "                                a = html.select(\"#review_list_page_container > ul > li\")[k].select('span.c-review__body')[0].text\n",
    "                                reviews = a\n",
    "                        else:\n",
    "                            try:\n",
    "                                a = html.select(\"#review_list_page_container > ul > li\")[k].select('span.c-review__body--original')[0].text\n",
    "                                b = html.select(\"#review_list_page_container > ul > li\")[k].select('span.c-review__body--original')[1].text\n",
    "                                reviews = a + \" \" +  b\n",
    "                            except:\n",
    "                                a = html.select(\"#review_list_page_container > ul > li\")[k].select('span.c-review__body--original')[0].text\n",
    "                                reviews = a\n",
    "\n",
    "\n",
    "                        if (reviews==[] or reviews==\"客人沒有留下任何評語。\") :\n",
    "                            break\n",
    "\n",
    "\n",
    "                        #旅客評分\n",
    "                        score = html.select(\"#review_list_page_container > ul > li\")[k].select('div.bui-review-score__badge')[0].text\n",
    "\n",
    "                        df.extend([name,category,country,reviews_time,title,reviews,score])\n",
    "                                    \n",
    "                        k+=1\n",
    "                    except:\n",
    "                        break\n",
    "\n",
    "                \n",
    "                driver.find_element_by_xpath('//*[@id=\"review_list_page_container\"]/div[4]/div/div[1]/div/div[3]/a').click() \n",
    "                time.sleep(2)\n",
    "                WebDriverWait(driver,3).until(EC.presence_of_element_located((By.CLASS_NAME,\"bui-f-font-heading\")))\n",
    "            \n",
    "            except:\n",
    "                break\n",
    "\n",
    "        return pd.DataFrame(np.array(df).reshape(-1,7),columns=[\"name\",\"category\",\"from_country\",\"reviews_time\",\"title\",\"reviews\",\"score\"])\n",
    "\n",
    "    "
   ]
  },
  {
   "cell_type": "markdown",
   "metadata": {},
   "source": [
    "# 冰島"
   ]
  },
  {
   "cell_type": "code",
   "execution_count": 13,
   "metadata": {},
   "outputs": [],
   "source": [
    "path = 'C:/Users/s0970/python/701網路爬蟲/chromedriver.exe'\n",
    "url = \"https://www.booking.com/searchresults.zh-tw.html?label=gen173bo-1DCAEoggI46AdIMFgDaOcBiAEBmAEwuAEXyAEM2AED6AEB-AEDiAIBmAICqAIDuALMrZiRBsACAdICJDA4MWM3ODVkLWU3YjYtNGUwNC1hOGMzLWJiMzJhYjZlODBhNdgCBOACAQ&sid=e12b90519bab632c3ffdcb360924a5c1&tmpl=searchresults&ac_click_type=b&ac_position=0&class_interval=1&dest_id=97&dest_type=country&dtdisc=0&from_sf=1&group_adults=2&group_children=0&inac=0&index_postcard=0&label_click=undef&lang=zh-tw&no_rooms=1&offset=0&postcard=0&raw_dest_type=country&room1=A%2CA&sb_price_type=total&search_selected=1&shw_aparth=1&slp_r_match=0&soz=1&src=index&src_elem=sb&srpvid=f96c6fe9d0dd0096&ss=Iceland&ss_all=0&ss_raw=iceland&ssb=empty&sshis=0&lang_click=other;cdl=en-us;lang_changed=1\"\n",
    "\n",
    "crawler_ = booking_crawler(path,url)"
   ]
  },
  {
   "cell_type": "code",
   "execution_count": 5,
   "metadata": {},
   "outputs": [
    {
     "name": "stderr",
     "output_type": "stream",
     "text": [
      "<ipython-input-3-d28c702f67e0>:9: DeprecationWarning: executable_path has been deprecated, please pass in a Service object\n",
      "  driver = webdriver.Chrome(self.path) #開啟\n",
      "<ipython-input-3-d28c702f67e0>:36: DeprecationWarning: find_element_by_* commands are deprecated. Please use find_element() instead\n",
      "  driver.find_element_by_xpath('//*[@id=\"search_results_table\"]/div/div/div/div/div[7]/div[2]/nav/div/div[3]/button/span').click()\n"
     ]
    }
   ],
   "source": [
    "n_url = crawler_.hotel_url()"
   ]
  },
  {
   "cell_type": "code",
   "execution_count": 7,
   "metadata": {},
   "outputs": [
    {
     "data": {
      "text/plain": [
       "90"
      ]
     },
     "execution_count": 7,
     "metadata": {},
     "output_type": "execute_result"
    }
   ],
   "source": [
    "key_hotel = []\n",
    "for url,n_click in n_url.items():\n",
    "    if n_click>1000:\n",
    "        key_hotel.append(url)\n",
    "\n",
    "len(key_hotel)"
   ]
  },
  {
   "cell_type": "code",
   "execution_count": null,
   "metadata": {},
   "outputs": [],
   "source": [
    "pd.DataFrame(key_hotel).to_csv(\"ice_url.csv\",encoding=\"utf-8-sig\")"
   ]
  },
  {
   "cell_type": "markdown",
   "metadata": {},
   "source": [
    "### 旅館url"
   ]
  },
  {
   "cell_type": "code",
   "execution_count": 14,
   "metadata": {},
   "outputs": [],
   "source": [
    "ice_url = pd.read_csv(\"ice_url.csv\",encoding=\"utf-8\",index_col=0)\n",
    "ice_url = ice_url[\"0\"]"
   ]
  },
  {
   "cell_type": "code",
   "execution_count": 15,
   "metadata": {},
   "outputs": [
    {
     "data": {
      "text/plain": [
       "0     https://www.booking.com/hotel/is/oddsson.zh-tw...\n",
       "1     https://www.booking.com/hotel/is/reykjavik-res...\n",
       "2     https://www.booking.com/hotel/is/von.zh-tw.htm...\n",
       "3     https://www.booking.com/hotel/is/siglo.zh-tw.h...\n",
       "4     https://www.booking.com/hotel/is/bakki-hostel-...\n",
       "                            ...                        \n",
       "85    https://www.booking.com/hotel/is/laxa.zh-tw.ht...\n",
       "86    https://www.booking.com/hotel/is/horgsland-gue...\n",
       "87    https://www.booking.com/hotel/is/fosshotel-gla...\n",
       "88    https://www.booking.com/hotel/is/skyrhusid-gue...\n",
       "89    https://www.booking.com/hotel/is/horgsland-cot...\n",
       "Name: 0, Length: 90, dtype: object"
      ]
     },
     "execution_count": 15,
     "metadata": {},
     "output_type": "execute_result"
    }
   ],
   "source": [
    "ice_url"
   ]
  },
  {
   "cell_type": "markdown",
   "metadata": {},
   "source": [
    "### 0~9"
   ]
  },
  {
   "cell_type": "code",
   "execution_count": 16,
   "metadata": {},
   "outputs": [
    {
     "name": "stderr",
     "output_type": "stream",
     "text": [
      "<ipython-input-6-7d9b770ca938>:45: DeprecationWarning: executable_path has been deprecated, please pass in a Service object\n",
      "  driver = webdriver.Chrome(self.path) #開啟\n",
      "<ipython-input-6-7d9b770ca938>:62: DeprecationWarning: find_element_by_* commands are deprecated. Please use find_element() instead\n",
      "  driver.find_element_by_xpath('//*[@id=\"guest-featured_reviews__horizontal-block\"]/div/div[8]/button/span').click()\n",
      "<ipython-input-6-7d9b770ca938>:124: DeprecationWarning: find_element_by_* commands are deprecated. Please use find_element() instead\n",
      "  driver.find_element_by_xpath('//*[@id=\"review_list_page_container\"]/div[4]/div/div[1]/div/div[3]/a').click()\n"
     ]
    },
    {
     "name": "stdout",
     "output_type": "stream",
     "text": [
      "第0筆資料成功新增\n",
      "第1筆資料成功新增\n",
      "第2筆資料成功新增\n",
      "第3筆資料成功新增\n",
      "第4筆資料成功新增\n",
      "第5筆資料成功新增\n",
      "第6筆資料成功新增\n",
      "第7筆資料成功新增\n",
      "第8筆資料成功新增\n",
      "第9筆資料成功新增\n"
     ]
    }
   ],
   "source": [
    "ice_land = pd.DataFrame([])\n",
    "\n",
    "for i,url in enumerate(ice_url[:10]):\n",
    "    i+1\n",
    "    try:\n",
    "        ice_land = ice_land.append(crawler_.one_page_data(url),ignore_index=True) \n",
    "        print(\"第{}筆資料成功新增\".format(i))\n",
    "    except:\n",
    "        continue"
   ]
  },
  {
   "cell_type": "code",
   "execution_count": 17,
   "metadata": {},
   "outputs": [],
   "source": [
    "ice_land.to_csv(\"ice_land_10.csv\",encoding=\"utf-8-sig\")"
   ]
  },
  {
   "cell_type": "code",
   "execution_count": 43,
   "metadata": {},
   "outputs": [
    {
     "data": {
      "text/plain": [
       "Center Hotels Plaza                               1996\n",
       "201 Hotel                                         1629\n",
       "ODDSSON Hotel                                     1184\n",
       "Reykjavik Residence Apartment Hotel（雷克雅未克公寓酒店）     925\n",
       "Hotel Kjarnalundur（賈爾納倫杜酒店）                        896\n",
       "Reykjavik Downtown Hotel                           800\n",
       "Bakki Apartments & Hostel                          772\n",
       "Sólheimahjáleiga Guesthouse（索爾海馬夏列卡農家樂）            760\n",
       "Lighthouse-Inn（燈塔旅館）                               663\n",
       "Siglo Hotel by Keahotels                           550\n",
       "Name: name, dtype: int64"
      ]
     },
     "execution_count": 43,
     "metadata": {},
     "output_type": "execute_result"
    }
   ],
   "source": [
    "pd.read_csv(\"ice_land_10.csv\",encoding=\"utf-8\",index_col=0)[\"name\"].value_counts()"
   ]
  },
  {
   "cell_type": "code",
   "execution_count": 44,
   "metadata": {},
   "outputs": [
    {
     "data": {
      "text/plain": [
       "10"
      ]
     },
     "execution_count": 44,
     "metadata": {},
     "output_type": "execute_result"
    }
   ],
   "source": [
    "len(pd.read_csv(\"ice_land_10.csv\",encoding=\"utf-8\",index_col=0)[\"name\"].unique())"
   ]
  },
  {
   "cell_type": "markdown",
   "metadata": {},
   "source": [
    "### 10~19"
   ]
  },
  {
   "cell_type": "code",
   "execution_count": 20,
   "metadata": {},
   "outputs": [
    {
     "name": "stderr",
     "output_type": "stream",
     "text": [
      "<ipython-input-6-7d9b770ca938>:45: DeprecationWarning: executable_path has been deprecated, please pass in a Service object\n",
      "  driver = webdriver.Chrome(self.path) #開啟\n",
      "<ipython-input-6-7d9b770ca938>:62: DeprecationWarning: find_element_by_* commands are deprecated. Please use find_element() instead\n",
      "  driver.find_element_by_xpath('//*[@id=\"guest-featured_reviews__horizontal-block\"]/div/div[8]/button/span').click()\n",
      "<ipython-input-6-7d9b770ca938>:124: DeprecationWarning: find_element_by_* commands are deprecated. Please use find_element() instead\n",
      "  driver.find_element_by_xpath('//*[@id=\"review_list_page_container\"]/div[4]/div/div[1]/div/div[3]/a').click()\n"
     ]
    },
    {
     "name": "stdout",
     "output_type": "stream",
     "text": [
      "第0筆資料成功新增\n",
      "第1筆資料成功新增\n",
      "第3筆資料成功新增\n",
      "第4筆資料成功新增\n",
      "第5筆資料成功新增\n",
      "第6筆資料成功新增\n",
      "第7筆資料成功新增\n",
      "第8筆資料成功新增\n",
      "第9筆資料成功新增\n"
     ]
    }
   ],
   "source": [
    "ice_land = pd.DataFrame([])\n",
    "\n",
    "for i,url in enumerate(ice_url[10:20]):\n",
    "    i+1\n",
    "    try:\n",
    "        ice_land = ice_land.append(crawler_.one_page_data(url),ignore_index=True) \n",
    "        print(\"第{}筆資料成功新增\".format(i))\n",
    "    except:\n",
    "        continue"
   ]
  },
  {
   "cell_type": "code",
   "execution_count": 21,
   "metadata": {},
   "outputs": [],
   "source": [
    "ice_land.to_csv(\"ice_land_20.csv\",encoding=\"utf-8-sig\")"
   ]
  },
  {
   "cell_type": "code",
   "execution_count": 86,
   "metadata": {},
   "outputs": [
    {
     "data": {
      "text/plain": [
       "Midgardur by Center Hotels          1550\n",
       "Guesthouse Nypugardar（尼部卡搭賓館）       1169\n",
       "Hotel Frón（芙蓉酒店）                    1160\n",
       "Hotel Hafnarfjall（哈芬納爾福爾酒店）          975\n",
       "Center Hotels Arnarhvoll             937\n",
       "Eyja Guldsmeden Hotel（艾加古斯米登酒店）      796\n",
       "Hotel South Coast                    787\n",
       "Centrum Hotel                        703\n",
       "Icelandair Hotel Herad（赫德冰島航空酒店）     569\n",
       "Name: name, dtype: int64"
      ]
     },
     "execution_count": 86,
     "metadata": {},
     "output_type": "execute_result"
    }
   ],
   "source": [
    "pd.read_csv(\"ice_land_20.csv\",encoding=\"utf-8\",index_col=0)[\"name\"].value_counts()"
   ]
  },
  {
   "cell_type": "code",
   "execution_count": 87,
   "metadata": {},
   "outputs": [
    {
     "data": {
      "text/plain": [
       "9"
      ]
     },
     "execution_count": 87,
     "metadata": {},
     "output_type": "execute_result"
    }
   ],
   "source": [
    "len(pd.read_csv(\"ice_land_20.csv\",encoding=\"utf-8\",index_col=0)[\"name\"].unique()) ##失敗(12)"
   ]
  },
  {
   "cell_type": "markdown",
   "metadata": {},
   "source": [
    "### 20~29"
   ]
  },
  {
   "cell_type": "code",
   "execution_count": 9,
   "metadata": {},
   "outputs": [
    {
     "name": "stderr",
     "output_type": "stream",
     "text": [
      "<ipython-input-4-8b4df1bb4acd>:45: DeprecationWarning: executable_path has been deprecated, please pass in a Service object\n",
      "  driver = webdriver.Chrome(self.path) #開啟\n",
      "<ipython-input-4-8b4df1bb4acd>:62: DeprecationWarning: find_element_by_* commands are deprecated. Please use find_element() instead\n",
      "  driver.find_element_by_xpath('//*[@id=\"guest-featured_reviews__horizontal-block\"]/div/div[8]/button/span').click()\n",
      "<ipython-input-4-8b4df1bb4acd>:124: DeprecationWarning: find_element_by_* commands are deprecated. Please use find_element() instead\n",
      "  driver.find_element_by_xpath('//*[@id=\"review_list_page_container\"]/div[4]/div/div[1]/div/div[3]/a').click()\n"
     ]
    },
    {
     "name": "stdout",
     "output_type": "stream",
     "text": [
      "第0筆資料成功新增\n",
      "第1筆資料成功新增\n",
      "第2筆資料成功新增\n",
      "第3筆資料成功新增\n",
      "第4筆資料成功新增\n",
      "第5筆資料成功新增\n",
      "第6筆資料成功新增\n",
      "第7筆資料成功新增\n",
      "第8筆資料成功新增\n",
      "第9筆資料成功新增\n"
     ]
    }
   ],
   "source": [
    "ice_land = pd.DataFrame([])\n",
    "\n",
    "for i,url in enumerate(ice_url[20:30]):\n",
    "    i+1\n",
    "    try:\n",
    "        ice_land = ice_land.append(crawler_.one_page_data(url),ignore_index=True) \n",
    "        print(\"第{}筆資料成功新增\".format(i))\n",
    "    except:\n",
    "        continue"
   ]
  },
  {
   "cell_type": "code",
   "execution_count": 42,
   "metadata": {},
   "outputs": [],
   "source": [
    "ice_land.to_csv(\"ice_land_30.csv\",encoding=\"utf-8-sig\")"
   ]
  },
  {
   "cell_type": "code",
   "execution_count": 9,
   "metadata": {},
   "outputs": [
    {
     "data": {
      "text/plain": [
       "BB Hótel by Reykjavik Keflavik Airport               2056\n",
       "Icelandair Hotel Reykjavik Natura（雷克雅未克納圖拉冰島航空酒店）     975\n",
       "Eric the Red Guesthouse（埃里克紅旅館）                       835\n",
       "Galaxy Pod Hostel（銀河波德旅舍）                             824\n",
       "Hotel Vík í Mýrdal                                    697\n",
       "Sel - Hótel Mývatn（賽爾-米瓦特酒店）                          682\n",
       "Icelandair Hotel Reykjavik Marina（冰島雷克雅未克濱海酒店）        663\n",
       "Igdlo Guesthouse（伊格德羅旅館）                              586\n",
       "Hotel Kea by Keahotels（凱亞凱亞酒店）                        566\n",
       "B59 Hotel（B59酒店）                                      564\n",
       "Name: name, dtype: int64"
      ]
     },
     "execution_count": 9,
     "metadata": {},
     "output_type": "execute_result"
    }
   ],
   "source": [
    "pd.read_csv(\"ice_land_30.csv\",encoding=\"utf-8\",index_col=0)[\"name\"].value_counts()"
   ]
  },
  {
   "cell_type": "code",
   "execution_count": 11,
   "metadata": {},
   "outputs": [
    {
     "data": {
      "text/plain": [
       "10"
      ]
     },
     "execution_count": 11,
     "metadata": {},
     "output_type": "execute_result"
    }
   ],
   "source": [
    "len(pd.read_csv(\"ice_land_30.csv\",encoding=\"utf-8\",index_col=0)[\"name\"].unique())"
   ]
  },
  {
   "cell_type": "markdown",
   "metadata": {},
   "source": [
    "### 30~49"
   ]
  },
  {
   "cell_type": "code",
   "execution_count": 43,
   "metadata": {},
   "outputs": [
    {
     "name": "stderr",
     "output_type": "stream",
     "text": [
      "<ipython-input-12-7d9b770ca938>:45: DeprecationWarning: executable_path has been deprecated, please pass in a Service object\n",
      "  driver = webdriver.Chrome(self.path) #開啟\n",
      "<ipython-input-12-7d9b770ca938>:62: DeprecationWarning: find_element_by_* commands are deprecated. Please use find_element() instead\n",
      "  driver.find_element_by_xpath('//*[@id=\"guest-featured_reviews__horizontal-block\"]/div/div[8]/button/span').click()\n",
      "<ipython-input-12-7d9b770ca938>:124: DeprecationWarning: find_element_by_* commands are deprecated. Please use find_element() instead\n",
      "  driver.find_element_by_xpath('//*[@id=\"review_list_page_container\"]/div[4]/div/div[1]/div/div[3]/a').click()\n"
     ]
    },
    {
     "name": "stdout",
     "output_type": "stream",
     "text": [
      "第0筆資料成功新增\n",
      "第1筆資料成功新增\n",
      "第2筆資料成功新增\n",
      "第4筆資料成功新增\n",
      "第5筆資料成功新增\n",
      "第7筆資料成功新增\n",
      "第8筆資料成功新增\n",
      "第9筆資料成功新增\n",
      "第10筆資料成功新增\n",
      "第11筆資料成功新增\n",
      "第12筆資料成功新增\n",
      "第13筆資料成功新增\n",
      "第14筆資料成功新增\n",
      "第15筆資料成功新增\n",
      "第16筆資料成功新增\n",
      "第17筆資料成功新增\n",
      "第18筆資料成功新增\n",
      "第19筆資料成功新增\n"
     ]
    }
   ],
   "source": [
    "ice_land = pd.DataFrame([])\n",
    "\n",
    "for i,url in enumerate(ice_url[30:50]):\n",
    "    i+1\n",
    "    try:\n",
    "        ice_land = ice_land.append(crawler_.one_page_data(url),ignore_index=True) \n",
    "        print(\"第{}筆資料成功新增\".format(i))\n",
    "    except:\n",
    "        continue"
   ]
  },
  {
   "cell_type": "code",
   "execution_count": 44,
   "metadata": {},
   "outputs": [],
   "source": [
    "ice_land.to_csv(\"ice_land_50.csv\",encoding=\"utf-8-sig\")"
   ]
  },
  {
   "cell_type": "code",
   "execution_count": 12,
   "metadata": {},
   "outputs": [
    {
     "data": {
      "text/plain": [
       "Adventure Hotel Hof                         1526\n",
       "Hotel Katla by Keahotels                    1135\n",
       "Stay Apartments Bolholt（博爾霍爾特公寓酒店）          1114\n",
       "Downtown Reykjavík Apartments（雷克雅未克中心公寓）    1099\n",
       "Guesthouse Carina（卡瑞納旅館）                    1000\n",
       "Hotel Ísland – Spa & Wellness Hotel          971\n",
       "Lilja Guesthouse（麗杰旅館）                       922\n",
       "Seljavellir Guesthouse（瑟爾杰維利酒店）              891\n",
       "Stay Apartments Einholt（埃因霍特公寓酒店）            806\n",
       "Hotel Jökull（冰川酒店）                           783\n",
       "Kirkjufell Guesthouse and Apartments         763\n",
       "Milk Factory（牛奶廠住宿加早餐旅館）                     749\n",
       "KEF Guesthouse by Keflavík airport           717\n",
       "22 Hill Hotel（22山酒店）                         698\n",
       "Guesthouse Galtafell（加爾塔弗爾酒店）                688\n",
       "Guesthouse Bitra B&B（比特拉住宿加早餐旅館）             646\n",
       "Hotel Viking（維京酒店）                           623\n",
       "Nordurey Hotel City Garden（北歐城市花園酒店）         621\n",
       "Name: name, dtype: int64"
      ]
     },
     "execution_count": 12,
     "metadata": {},
     "output_type": "execute_result"
    }
   ],
   "source": [
    "pd.read_csv(\"ice_land_50.csv\",encoding=\"utf-8\",index_col=0)[\"name\"].value_counts()"
   ]
  },
  {
   "cell_type": "code",
   "execution_count": 13,
   "metadata": {},
   "outputs": [
    {
     "data": {
      "text/plain": [
       "18"
      ]
     },
     "execution_count": 13,
     "metadata": {},
     "output_type": "execute_result"
    }
   ],
   "source": [
    "len(pd.read_csv(\"ice_land_50.csv\",encoding=\"utf-8\",index_col=0)[\"name\"].unique()) ##失敗(33,36)"
   ]
  },
  {
   "cell_type": "markdown",
   "metadata": {},
   "source": [
    "### 50~59"
   ]
  },
  {
   "cell_type": "code",
   "execution_count": 27,
   "metadata": {},
   "outputs": [
    {
     "name": "stderr",
     "output_type": "stream",
     "text": [
      "<ipython-input-3-7d9b770ca938>:45: DeprecationWarning: executable_path has been deprecated, please pass in a Service object\n",
      "  driver = webdriver.Chrome(self.path) #開啟\n",
      "<ipython-input-3-7d9b770ca938>:62: DeprecationWarning: find_element_by_* commands are deprecated. Please use find_element() instead\n",
      "  driver.find_element_by_xpath('//*[@id=\"guest-featured_reviews__horizontal-block\"]/div/div[8]/button/span').click()\n",
      "<ipython-input-3-7d9b770ca938>:124: DeprecationWarning: find_element_by_* commands are deprecated. Please use find_element() instead\n",
      "  driver.find_element_by_xpath('//*[@id=\"review_list_page_container\"]/div[4]/div/div[1]/div/div[3]/a').click()\n"
     ]
    },
    {
     "name": "stdout",
     "output_type": "stream",
     "text": [
      "第0筆資料成功新增\n",
      "第1筆資料成功新增\n",
      "第2筆資料成功新增\n",
      "第3筆資料成功新增\n",
      "第4筆資料成功新增\n",
      "第5筆資料成功新增\n",
      "第6筆資料成功新增\n",
      "第7筆資料成功新增\n",
      "第8筆資料成功新增\n",
      "第9筆資料成功新增\n"
     ]
    }
   ],
   "source": [
    "ice_land = pd.DataFrame([])\n",
    "\n",
    "for i,url in enumerate(ice_url[50:60]):\n",
    "    i+1\n",
    "    try:\n",
    "        ice_land = ice_land.append(crawler_.one_page_data(url),ignore_index=True) \n",
    "        print(\"第{}筆資料成功新增\".format(i))\n",
    "    except:\n",
    "        continue"
   ]
  },
  {
   "cell_type": "code",
   "execution_count": 28,
   "metadata": {},
   "outputs": [],
   "source": [
    "ice_land.to_csv(\"ice_land_60.csv\",encoding=\"utf-8-sig\")"
   ]
  },
  {
   "cell_type": "code",
   "execution_count": 29,
   "metadata": {},
   "outputs": [
    {
     "data": {
      "text/plain": [
       "The Barn                                                                   2141\n",
       "Hali Country Hotel（哈利鄉村酒店）                                                 1080\n",
       "B&B Guesthouse - Bed and Breakfast Keflavik Centre（凱夫拉維克中心食宿酒店）             856\n",
       "Kex Hostel（客可思旅舍）                                                           825\n",
       "Skútustadir Guesthouse（斯庫圖斯塔德農家樂）                                           794\n",
       "Guesthouse Aurora（極光賓館）                                                     767\n",
       "Fossatun Camping Pods & Cottages - Sleeping Bag Accommodation（福薩頓睡袋露營地）     762\n",
       "Hotel Berg by Keflavik Airport                                              666\n",
       "Baldursbrá Guesthouse Laufásvegur（樂法維格寶德斯巴旅館）                               610\n",
       "Akureyri Hostel                                                             547\n",
       "Name: name, dtype: int64"
      ]
     },
     "execution_count": 29,
     "metadata": {},
     "output_type": "execute_result"
    }
   ],
   "source": [
    "pd.read_csv(\"ice_land_60.csv\",encoding=\"utf-8\",index_col=0)[\"name\"].value_counts()"
   ]
  },
  {
   "cell_type": "code",
   "execution_count": 30,
   "metadata": {},
   "outputs": [
    {
     "data": {
      "text/plain": [
       "10"
      ]
     },
     "execution_count": 30,
     "metadata": {},
     "output_type": "execute_result"
    }
   ],
   "source": [
    "len(pd.read_csv(\"ice_land_60.csv\",encoding=\"utf-8\",index_col=0)[\"name\"].unique())"
   ]
  },
  {
   "cell_type": "markdown",
   "metadata": {},
   "source": [
    "### 60~89"
   ]
  },
  {
   "cell_type": "code",
   "execution_count": 53,
   "metadata": {},
   "outputs": [
    {
     "name": "stderr",
     "output_type": "stream",
     "text": [
      "<ipython-input-12-7d9b770ca938>:45: DeprecationWarning: executable_path has been deprecated, please pass in a Service object\n",
      "  driver = webdriver.Chrome(self.path) #開啟\n",
      "<ipython-input-12-7d9b770ca938>:62: DeprecationWarning: find_element_by_* commands are deprecated. Please use find_element() instead\n",
      "  driver.find_element_by_xpath('//*[@id=\"guest-featured_reviews__horizontal-block\"]/div/div[8]/button/span').click()\n",
      "<ipython-input-12-7d9b770ca938>:124: DeprecationWarning: find_element_by_* commands are deprecated. Please use find_element() instead\n",
      "  driver.find_element_by_xpath('//*[@id=\"review_list_page_container\"]/div[4]/div/div[1]/div/div[3]/a').click()\n"
     ]
    },
    {
     "name": "stdout",
     "output_type": "stream",
     "text": [
      "第0筆資料成功新增\n",
      "第1筆資料成功新增\n",
      "第2筆資料成功新增\n",
      "第3筆資料成功新增\n",
      "第5筆資料成功新增\n",
      "第6筆資料成功新增\n",
      "第7筆資料成功新增\n",
      "第8筆資料成功新增\n",
      "第9筆資料成功新增\n",
      "第10筆資料成功新增\n",
      "第11筆資料成功新增\n",
      "第12筆資料成功新增\n",
      "第13筆資料成功新增\n",
      "第14筆資料成功新增\n",
      "第15筆資料成功新增\n",
      "第16筆資料成功新增\n",
      "第17筆資料成功新增\n",
      "第18筆資料成功新增\n",
      "第19筆資料成功新增\n",
      "第21筆資料成功新增\n",
      "第22筆資料成功新增\n",
      "第23筆資料成功新增\n",
      "第24筆資料成功新增\n",
      "第25筆資料成功新增\n",
      "第27筆資料成功新增\n",
      "第28筆資料成功新增\n",
      "第29筆資料成功新增\n"
     ]
    }
   ],
   "source": [
    "ice_land = pd.DataFrame([])\n",
    "\n",
    "for i,url in enumerate(ice_url[60:90]):\n",
    "    i+1\n",
    "    try:\n",
    "        ice_land = ice_land.append(crawler_.one_page_data(url),ignore_index=True) \n",
    "        print(\"第{}筆資料成功新增\".format(i))\n",
    "    except:\n",
    "        continue"
   ]
  },
  {
   "cell_type": "code",
   "execution_count": 54,
   "metadata": {},
   "outputs": [],
   "source": [
    "ice_land.to_csv(\"ice_land_90.csv\",encoding=\"utf-8-sig\")"
   ]
  },
  {
   "cell_type": "code",
   "execution_count": 26,
   "metadata": {},
   "outputs": [
    {
     "data": {
      "text/plain": [
       "Aurora Hotel at Reykjavik-Keflavik Airport Terminal KEF    2412\n",
       "Fosshotel Glacier Lagoon（冰河潟湖福斯酒店）                         1764\n",
       "Hótel Kría（科里亞酒店）                                          1527\n",
       "Black Beach Suites（黑色海灘套房公寓式酒店）                            1379\n",
       "Hótel Laxá（拉夏酒店）                                           1120\n",
       "Nupan Deluxe（豪華努潘住宿加早餐旅館）                                   995\n",
       "Hörgsland Cottages（霍斯蘭德度假屋）                                 906\n",
       "Klausturhof Guesthouse（克勞斯托霍夫旅館）                            877\n",
       "Icelandair Hotel Myvatn（米湖冰島之空酒店）                           822\n",
       "Skyrhúsid Guest House（斯吉琥西旅館）                               769\n",
       "Skuggi Hotel by Keahotels                                   748\n",
       "Hvoll Hostel                                                745\n",
       "Selfoss Hostel（塞爾福斯旅館）                                      714\n",
       "Lyngás Guesthouse（林佳斯賓館）                                    714\n",
       "Puffin Hotel Vík（維克普費因酒店）                                   713\n",
       "Hotel Höfn（赫本酒店）                                            684\n",
       "Hotel Laki（拉基酒店）                                            656\n",
       "Apotek Guesthouse（阿伯特科賓館）                                   649\n",
       "Dimmuborgir Guesthouse（迪姆波賈尼賓館）                             623\n",
       "Við Hafið Guesthouse（維德哈菲德旅館）                               621\n",
       "Guesthouse Fludir - Grund（弗洛蒂爾大地旅館）                         617\n",
       "Loft - HI Hostel（閣樓- HI旅舍）                                  611\n",
       "Vogar Travel Service（沃加爾旅行服務旅館）                             607\n",
       "Hotel Klaustur                                              599\n",
       "Hotel Asbru by Reykjavik Keflavik Airport                   560\n",
       "Höfn Hostel（霍芬旅館）                                           553\n",
       "Grand Hotel Reykjavík（雷克雅未克大酒店）                             546\n",
       "Name: name, dtype: int64"
      ]
     },
     "execution_count": 26,
     "metadata": {},
     "output_type": "execute_result"
    }
   ],
   "source": [
    "pd.read_csv(\"ice_land_90.csv\",encoding=\"utf-8\",index_col=0)[\"name\"].value_counts()"
   ]
  },
  {
   "cell_type": "code",
   "execution_count": 25,
   "metadata": {},
   "outputs": [
    {
     "data": {
      "text/plain": [
       "27"
      ]
     },
     "execution_count": 25,
     "metadata": {},
     "output_type": "execute_result"
    }
   ],
   "source": [
    "len(pd.read_csv(\"ice_land_90.csv\",encoding=\"utf-8\",index_col=0)[\"name\"].unique()) ##失敗(64,80,86)"
   ]
  },
  {
   "cell_type": "markdown",
   "metadata": {},
   "source": [
    "# 希臘"
   ]
  },
  {
   "cell_type": "code",
   "execution_count": 7,
   "metadata": {},
   "outputs": [],
   "source": [
    "path = 'C:/Users/s0970/python/701網路爬蟲/chromedriver.exe'\n",
    "url2 =\"https://www.booking.com/searchresults.zh-tw.html?label=gen173nr-1DCAEoggI46AdIMFgEaOcBiAEBmAEwuAEXyAEM2AED6AEB-AECiAIBqAIDuAKggZqRBsACAdICJGI4NmI0ZjIwLTU3MWYtNGE0Ny05ZWQ2LTM0NWQ0MjEzZTY0NNgCBOACAQ&sid=e12b90519bab632c3ffdcb360924a5c1&sb=1&sb_lp=1&src=index&src_elem=sb&error_url=https%3A%2F%2Fwww.booking.com%2Findex.zh-tw.html%3Flabel%3Dgen173nr-1DCAEoggI46AdIMFgEaOcBiAEBmAEwuAEXyAEM2AED6AEB-AECiAIBqAIDuAKggZqRBsACAdICJGI4NmI0ZjIwLTU3MWYtNGE0Ny05ZWQ2LTM0NWQ0MjEzZTY0NNgCBOACAQ%3Bsid%3De12b90519bab632c3ffdcb360924a5c1%3Bsb_price_type%3Dtotal%26%3B&ss=Greece&is_ski_area=&checkin_year=&checkin_month=&checkout_year=&checkout_month=&group_adults=2&group_children=0&no_rooms=1&b_h4u_keep_filters=&from_sf=1&ss_raw=Greece&ac_position=0&ac_langcode=en&ac_click_type=b&dest_id=83&dest_type=country&place_id_lat=38.4727&place_id_lon=22.9792&search_pageview_id=6f5e9ad069c100f8&search_selected=true&search_pageview_id=6f5e9ad069c100f8&ac_suggestion_list_length=5&ac_suggestion_theme_list_length=0\"\n",
    "\n",
    "crawler_2 = booking_crawler(path,url2)"
   ]
  },
  {
   "cell_type": "code",
   "execution_count": 7,
   "metadata": {},
   "outputs": [
    {
     "name": "stderr",
     "output_type": "stream",
     "text": [
      "<ipython-input-5-7d9b770ca938>:9: DeprecationWarning: executable_path has been deprecated, please pass in a Service object\n",
      "  driver = webdriver.Chrome(self.path) #開啟\n",
      "<ipython-input-5-7d9b770ca938>:36: DeprecationWarning: find_element_by_* commands are deprecated. Please use find_element() instead\n",
      "  driver.find_element_by_xpath('//*[@id=\"search_results_table\"]/div/div/div/div/div[7]/div[2]/nav/div/div[3]/button/span').click()\n"
     ]
    }
   ],
   "source": [
    "n2_url = crawler_2.hotel_url()"
   ]
  },
  {
   "cell_type": "code",
   "execution_count": 8,
   "metadata": {},
   "outputs": [
    {
     "data": {
      "text/plain": [
       "74"
      ]
     },
     "execution_count": 8,
     "metadata": {},
     "output_type": "execute_result"
    }
   ],
   "source": [
    "key_hotel2 = []\n",
    "for url,n_click in n2_url.items():\n",
    "    if n_click>1000:\n",
    "        key_hotel2.append(url)\n",
    "\n",
    "len(key_hotel2)"
   ]
  },
  {
   "cell_type": "code",
   "execution_count": 96,
   "metadata": {},
   "outputs": [],
   "source": [
    "pd.DataFrame(key_hotel2).to_csv(\"greece_url.csv\",encoding=\"utf-8-sig\")"
   ]
  },
  {
   "cell_type": "code",
   "execution_count": 8,
   "metadata": {},
   "outputs": [],
   "source": [
    "greece_url = pd.read_csv(\"greece_url.csv\",encoding=\"utf-8\",index_col=0)\n",
    "greece_url = greece_url[\"0\"]"
   ]
  },
  {
   "cell_type": "code",
   "execution_count": 9,
   "metadata": {},
   "outputs": [
    {
     "data": {
      "text/plain": [
       "0     https://www.booking.com/hotel/gr/metropolis.zh...\n",
       "1     https://www.booking.com/hotel/gr/athens-backpa...\n",
       "2     https://www.booking.com/hotel/gr/lozenge.zh-tw...\n",
       "3     https://www.booking.com/hotel/gr/the-athens-ga...\n",
       "4     https://www.booking.com/hotel/gr/raise-acropol...\n",
       "                            ...                        \n",
       "70    https://www.booking.com/hotel/gr/hotellondonat...\n",
       "71    https://www.booking.com/hotel/gr/coco-mat-athe...\n",
       "72    https://www.booking.com/hotel/gr/athenscentreh...\n",
       "73    https://www.booking.com/hotel/gr/faros1.zh-tw....\n",
       "74    https://www.booking.com/hotel/gr/31-doors.zh-t...\n",
       "Name: 0, Length: 75, dtype: object"
      ]
     },
     "execution_count": 9,
     "metadata": {},
     "output_type": "execute_result"
    }
   ],
   "source": [
    "greece_url "
   ]
  },
  {
   "cell_type": "markdown",
   "metadata": {},
   "source": [
    "### 0~19"
   ]
  },
  {
   "cell_type": "code",
   "execution_count": 34,
   "metadata": {},
   "outputs": [
    {
     "name": "stderr",
     "output_type": "stream",
     "text": [
      "<ipython-input-3-7d9b770ca938>:45: DeprecationWarning: executable_path has been deprecated, please pass in a Service object\n",
      "  driver = webdriver.Chrome(self.path) #開啟\n",
      "<ipython-input-3-7d9b770ca938>:62: DeprecationWarning: find_element_by_* commands are deprecated. Please use find_element() instead\n",
      "  driver.find_element_by_xpath('//*[@id=\"guest-featured_reviews__horizontal-block\"]/div/div[8]/button/span').click()\n",
      "<ipython-input-3-7d9b770ca938>:124: DeprecationWarning: find_element_by_* commands are deprecated. Please use find_element() instead\n",
      "  driver.find_element_by_xpath('//*[@id=\"review_list_page_container\"]/div[4]/div/div[1]/div/div[3]/a').click()\n"
     ]
    },
    {
     "name": "stdout",
     "output_type": "stream",
     "text": [
      "第0筆資料成功新增\n",
      "第1筆資料成功新增\n",
      "第2筆資料成功新增\n",
      "第3筆資料成功新增\n",
      "第4筆資料成功新增\n",
      "第5筆資料成功新增\n",
      "第6筆資料成功新增\n",
      "第8筆資料成功新增\n",
      "第9筆資料成功新增\n",
      "第10筆資料成功新增\n",
      "第11筆資料成功新增\n",
      "第12筆資料成功新增\n",
      "第13筆資料成功新增\n",
      "第14筆資料成功新增\n",
      "第15筆資料成功新增\n",
      "第16筆資料成功新增\n",
      "第17筆資料成功新增\n",
      "第18筆資料成功新增\n",
      "第19筆資料成功新增\n"
     ]
    }
   ],
   "source": [
    "greece = pd.DataFrame([])\n",
    "\n",
    "for i,url in enumerate(greece_url[:20]):\n",
    "    i+1\n",
    "    try:\n",
    "        greece = greece.append(crawler_2.one_page_data(url),ignore_index=True) \n",
    "        print(\"第{}筆資料成功新增\".format(i))\n",
    "    except:\n",
    "        continue"
   ]
  },
  {
   "cell_type": "code",
   "execution_count": 35,
   "metadata": {},
   "outputs": [],
   "source": [
    "greece.to_csv(\"greece_20.csv\",encoding=\"utf-8-sig\")"
   ]
  },
  {
   "cell_type": "code",
   "execution_count": 19,
   "metadata": {},
   "outputs": [
    {
     "data": {
      "text/plain": [
       "Evripides Hotel（艾弗瑞派德酒店）          1948\n",
       "Omiros Hotel（奧米洛斯酒店）              1799\n",
       "Arethusa Hotel（阿瑞圖薩酒店）            1565\n",
       "Plaka Hotel（普拉卡酒店）                1533\n",
       "Athens Studios（雅典一室公寓）            1529\n",
       "Athens Choice（艾森查爾斯旅館）            1428\n",
       "Minoa Athens Hotel（雅典彌諾阿酒店）       1364\n",
       "Hotel Lozenge（菱形酒店）               1171\n",
       "Tempi Hotel（坦普酒店）                 1069\n",
       "The Athens Gate Hotel（雅典門酒店）      1057\n",
       "Piraeus Acropole Hotel            1014\n",
       "Mandrino Hotel（曼德利諾酒店）             977\n",
       "Mosaikon                           770\n",
       "Athens Raise Acropolis Project     770\n",
       "The Pinnacle Athens                756\n",
       "Athens Mirabello（雅典米蘭貝洛酒店）         724\n",
       "The Modernist Thessaloniki         636\n",
       "Metropolis Hotel（大都市酒店）            630\n",
       "Anita Hotel（安尼塔酒店）                 498\n",
       "Name: name, dtype: int64"
      ]
     },
     "execution_count": 19,
     "metadata": {},
     "output_type": "execute_result"
    }
   ],
   "source": [
    "pd.read_csv(\"greece_20.csv\",encoding=\"utf-8\",index_col=0)[\"name\"].value_counts()"
   ]
  },
  {
   "cell_type": "code",
   "execution_count": 20,
   "metadata": {},
   "outputs": [
    {
     "data": {
      "text/plain": [
       "19"
      ]
     },
     "execution_count": 20,
     "metadata": {},
     "output_type": "execute_result"
    }
   ],
   "source": [
    "len(pd.read_csv(\"greece_20.csv\",encoding=\"utf-8\",index_col=0)[\"name\"].unique()) ##失敗(7)"
   ]
  },
  {
   "cell_type": "markdown",
   "metadata": {},
   "source": [
    "### 20~49"
   ]
  },
  {
   "cell_type": "code",
   "execution_count": 11,
   "metadata": {},
   "outputs": [
    {
     "name": "stderr",
     "output_type": "stream",
     "text": [
      "<ipython-input-6-7d9b770ca938>:45: DeprecationWarning: executable_path has been deprecated, please pass in a Service object\n",
      "  driver = webdriver.Chrome(self.path) #開啟\n",
      "<ipython-input-6-7d9b770ca938>:62: DeprecationWarning: find_element_by_* commands are deprecated. Please use find_element() instead\n",
      "  driver.find_element_by_xpath('//*[@id=\"guest-featured_reviews__horizontal-block\"]/div/div[8]/button/span').click()\n",
      "<ipython-input-6-7d9b770ca938>:124: DeprecationWarning: find_element_by_* commands are deprecated. Please use find_element() instead\n",
      "  driver.find_element_by_xpath('//*[@id=\"review_list_page_container\"]/div[4]/div/div[1]/div/div[3]/a').click()\n"
     ]
    },
    {
     "name": "stdout",
     "output_type": "stream",
     "text": [
      "第0筆資料成功新增\n",
      "第1筆資料成功新增\n",
      "第2筆資料成功新增\n",
      "第3筆資料成功新增\n",
      "第4筆資料成功新增\n",
      "第5筆資料成功新增\n",
      "第6筆資料成功新增\n",
      "第7筆資料成功新增\n",
      "第8筆資料成功新增\n",
      "第9筆資料成功新增\n",
      "第10筆資料成功新增\n",
      "第11筆資料成功新增\n",
      "第12筆資料成功新增\n",
      "第13筆資料成功新增\n",
      "第14筆資料成功新增\n",
      "第15筆資料成功新增\n",
      "第16筆資料成功新增\n",
      "第17筆資料成功新增\n",
      "第18筆資料成功新增\n",
      "第21筆資料成功新增\n",
      "第22筆資料成功新增\n",
      "第23筆資料成功新增\n",
      "第24筆資料成功新增\n",
      "第25筆資料成功新增\n",
      "第26筆資料成功新增\n",
      "第27筆資料成功新增\n",
      "第28筆資料成功新增\n",
      "第29筆資料成功新增\n"
     ]
    }
   ],
   "source": [
    "greece = pd.DataFrame([])\n",
    "\n",
    "for i,url in enumerate(greece_url[20:50]):\n",
    "    i+1\n",
    "    try:\n",
    "        greece = greece.append(crawler_2.one_page_data(url),ignore_index=True) \n",
    "        print(\"第{}筆資料成功新增\".format(i))\n",
    "    except:\n",
    "        continue"
   ]
  },
  {
   "cell_type": "code",
   "execution_count": 12,
   "metadata": {},
   "outputs": [],
   "source": [
    "greece.to_csv(\"greece_50.csv\",encoding=\"utf-8-sig\")"
   ]
  },
  {
   "cell_type": "code",
   "execution_count": 96,
   "metadata": {},
   "outputs": [
    {
     "data": {
      "text/plain": [
       "Phidias Piraeus Hotel（菲迪亞斯比雷埃弗斯酒店）       2402\n",
       "Infinity City Boutique Hotel（無限城精品酒店）    1877\n",
       "Piraeus City Hotel                       1664\n",
       "Hotel Orfeas（奧菲斯酒店）                      1630\n",
       "Hotel El Greco（埃爾格雷柯酒店）                  1623\n",
       "Amalia Hotel（阿瑪里亞酒店）                     1598\n",
       "Amazon Hotel                             1505\n",
       "Attalos Hotel（阿塔洛斯酒店）                    1449\n",
       "Triton Hotel Piraeus（特里同比雷埃弗斯酒店）         1403\n",
       "Blue Bottle Boutique Hotel（藍瓶精品酒店）       1389\n",
       "Pella Inn Hostel（佩拉旅館）                   1348\n",
       "Acropolis View Hotel（衛城景色酒店）             1342\n",
       "Electra Hotel Athens（雅典伊萊克特拉酒店）          1310\n",
       "El Greco Hotel（格列柯酒店）                    1070\n",
       "Cecil Hotel（塞西爾酒店）                       1058\n",
       "Adam's Hotel（亞當酒店）                        873\n",
       "Agamemnon Hotel（阿伽門農酒店）                   868\n",
       "Volos Palace（沃洛斯宮殿酒店）                     866\n",
       "BED in Athens（雅典美宿酒店）                     851\n",
       "Pyrgos Adrachti（皮爾格斯阿達奇迪酒店）               782\n",
       "Lilia Hotel（莉利亞酒店）                        777\n",
       "Crafoord Place Hostel Athens              758\n",
       "Mediterranee（地中海酒店）                       756\n",
       "Babis Hotel（巴比酒店）                         736\n",
       "OKU Kos                                   661\n",
       "Pan Hotel（泛酒店）                            614\n",
       "Moxy Patra Marina                         571\n",
       "Kentrikon（肯翠康酒店）                          527\n",
       "Name: name, dtype: int64"
      ]
     },
     "execution_count": 96,
     "metadata": {},
     "output_type": "execute_result"
    }
   ],
   "source": [
    "pd.read_csv(\"greece_50.csv\",encoding=\"utf-8\",index_col=0)[\"name\"].value_counts()"
   ]
  },
  {
   "cell_type": "code",
   "execution_count": 97,
   "metadata": {},
   "outputs": [
    {
     "data": {
      "text/plain": [
       "28"
      ]
     },
     "execution_count": 97,
     "metadata": {},
     "output_type": "execute_result"
    }
   ],
   "source": [
    "len(pd.read_csv(\"greece_50.csv\",encoding=\"utf-8\",index_col=0)[\"name\"].unique()) ##失敗(39,40)"
   ]
  },
  {
   "cell_type": "markdown",
   "metadata": {},
   "source": [
    "### 50~74"
   ]
  },
  {
   "cell_type": "code",
   "execution_count": 9,
   "metadata": {},
   "outputs": [
    {
     "name": "stderr",
     "output_type": "stream",
     "text": [
      "<ipython-input-6-7d9b770ca938>:45: DeprecationWarning: executable_path has been deprecated, please pass in a Service object\n",
      "  driver = webdriver.Chrome(self.path) #開啟\n",
      "<ipython-input-6-7d9b770ca938>:62: DeprecationWarning: find_element_by_* commands are deprecated. Please use find_element() instead\n",
      "  driver.find_element_by_xpath('//*[@id=\"guest-featured_reviews__horizontal-block\"]/div/div[8]/button/span').click()\n",
      "<ipython-input-6-7d9b770ca938>:124: DeprecationWarning: find_element_by_* commands are deprecated. Please use find_element() instead\n",
      "  driver.find_element_by_xpath('//*[@id=\"review_list_page_container\"]/div[4]/div/div[1]/div/div[3]/a').click()\n"
     ]
    },
    {
     "name": "stdout",
     "output_type": "stream",
     "text": [
      "第0筆資料成功新增\n",
      "第1筆資料成功新增\n",
      "第2筆資料成功新增\n",
      "第3筆資料成功新增\n",
      "第4筆資料成功新增\n",
      "第5筆資料成功新增\n",
      "第6筆資料成功新增\n",
      "第8筆資料成功新增\n",
      "第10筆資料成功新增\n",
      "第11筆資料成功新增\n",
      "第12筆資料成功新增\n",
      "第13筆資料成功新增\n",
      "第14筆資料成功新增\n",
      "第15筆資料成功新增\n",
      "第16筆資料成功新增\n",
      "第17筆資料成功新增\n",
      "第18筆資料成功新增\n",
      "第19筆資料成功新增\n",
      "第20筆資料成功新增\n",
      "第21筆資料成功新增\n",
      "第22筆資料成功新增\n",
      "第23筆資料成功新增\n",
      "第24筆資料成功新增\n"
     ]
    }
   ],
   "source": [
    "greece = pd.DataFrame([])\n",
    "for i,url in enumerate(greece_url[50:75]):\n",
    "    i+1\n",
    "    try:\n",
    "        greece = greece.append(crawler_2.one_page_data(url),ignore_index=True) \n",
    "        print(\"第{}筆資料成功新增\".format(i))\n",
    "    except:\n",
    "        continue"
   ]
  },
  {
   "cell_type": "code",
   "execution_count": 10,
   "metadata": {},
   "outputs": [],
   "source": [
    "greece.to_csv(\"greece_75.csv\",encoding=\"utf-8-sig\")"
   ]
  },
  {
   "cell_type": "code",
   "execution_count": 11,
   "metadata": {},
   "outputs": [
    {
     "data": {
      "text/plain": [
       "The Stanley（斯坦利酒店）                                                      3759\n",
       "Plaza Hotel, Philian Hotels and Resorts（廣場酒店、菲律賓酒店及度假村）                 1857\n",
       "Athinaiko Hotel（阿西恩尼克酒店）                                                1633\n",
       "Infinity Blue Boutique Hotel & Spa - Adults Only（無限藍精品酒店及Spa - 僅限成人）    1328\n",
       "Cosmopolit（凱帆酒店）                                                        1312\n",
       "Athens Hawks                                                            1309\n",
       "Titania Hotel（泰坦尼亞酒店）                                                   1188\n",
       "Centrotel Hotel（薩特洛泰酒店）                                                 1068\n",
       "Adrian Hotel（阿德里安酒店）                                                    1062\n",
       "Athens21                                                                 862\n",
       "Airotel Alexandros（愛若特亞里山德斯酒店）                                           816\n",
       "Acropolis House（衛城酒店）                                                    775\n",
       "City Hotel Thessaloniki（城市酒店）                                            749\n",
       "Apollo Hotel（阿波羅酒店）                                                      741\n",
       "Hotel London（倫敦酒店）                                                       737\n",
       "Coco-Mat Hotel Athens（雅典可可瑪特酒店）                                          719\n",
       "Hotel Fresh（弗萊士酒店）                                                       700\n",
       "Ambrosia Suites（豚草套房酒店）                                                  696\n",
       "Faros I（法洛一世酒店）                                                          654\n",
       "Nea Metropolis（尼梅特波利斯酒店）                                                 569\n",
       "31 Doors Hotel                                                           542\n",
       "Anemoni Piraeus Hotel                                                    533\n",
       "Golden Age Athens Hotel（雅典黃金時代酒店）                                        482\n",
       "Name: name, dtype: int64"
      ]
     },
     "execution_count": 11,
     "metadata": {},
     "output_type": "execute_result"
    }
   ],
   "source": [
    "pd.read_csv(\"greece_75.csv\",encoding=\"utf-8\",index_col=0)[\"name\"].value_counts()"
   ]
  },
  {
   "cell_type": "code",
   "execution_count": 12,
   "metadata": {},
   "outputs": [
    {
     "data": {
      "text/plain": [
       "23"
      ]
     },
     "execution_count": 12,
     "metadata": {},
     "output_type": "execute_result"
    }
   ],
   "source": [
    "len(pd.read_csv(\"greece_75.csv\",encoding=\"utf-8\",index_col=0)[\"name\"].unique()) ##失敗(57,59)"
   ]
  }
 ],
 "metadata": {
  "interpreter": {
   "hash": "e880b6a5c7a5f4b142d9f445d0f040070dabb42b7abdaabc6906731dc44ddb78"
  },
  "kernelspec": {
   "display_name": "Python 3.8.10 ('tensorflow')",
   "language": "python",
   "name": "python3"
  },
  "language_info": {
   "codemirror_mode": {
    "name": "ipython",
    "version": 3
   },
   "file_extension": ".py",
   "mimetype": "text/x-python",
   "name": "python",
   "nbconvert_exporter": "python",
   "pygments_lexer": "ipython3",
   "version": "3.8.10"
  },
  "orig_nbformat": 4
 },
 "nbformat": 4,
 "nbformat_minor": 2
}
