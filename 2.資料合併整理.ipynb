{
 "cells": [
  {
   "cell_type": "code",
   "execution_count": 14,
   "metadata": {},
   "outputs": [],
   "source": [
    "import numpy as np\n",
    "import pandas as pd\n",
    "\n",
    "from time import process_time\n",
    "import time\n",
    "\n",
    "import datetime \n",
    "import arrow\n",
    "\n",
    "import sys\n",
    "import os\n",
    "import re "
   ]
  },
  {
   "cell_type": "code",
   "execution_count": 15,
   "metadata": {},
   "outputs": [],
   "source": [
    "data1 = pd.read_csv(\"ice_land_10.csv\",index_col=0)\n",
    "data2 = pd.read_csv(\"ice_land_20.csv\",index_col=0)\n",
    "data3 = pd.read_csv(\"ice_land_30.csv\",index_col=0)\n",
    "data4 = pd.read_csv(\"ice_land_50.csv\",index_col=0)\n",
    "data5 = pd.read_csv(\"ice_land_60.csv\",index_col=0)\n",
    "data6 = pd.read_csv(\"ice_land_90.csv\",index_col=0)"
   ]
  },
  {
   "cell_type": "code",
   "execution_count": 16,
   "metadata": {},
   "outputs": [],
   "source": [
    "iceland_data = pd.concat([data1,data2,data3,data4,data5,data6])"
   ]
  },
  {
   "cell_type": "code",
   "execution_count": 17,
   "metadata": {},
   "outputs": [],
   "source": [
    "iceland_data.reset_index(drop=True,inplace=True)"
   ]
  },
  {
   "cell_type": "code",
   "execution_count": 18,
   "metadata": {},
   "outputs": [
    {
     "data": {
      "text/plain": [
       "Aurora Hotel at Reykjavik-Keflavik Airport Terminal KEF    2412\n",
       "The Barn                                                   2141\n",
       "BB Hótel by Reykjavik Keflavik Airport                     2056\n",
       "Center Hotels Plaza                                        1996\n",
       "Fosshotel Glacier Lagoon（冰河潟湖福斯酒店）                         1764\n",
       "                                                           ... \n",
       "Hotel Asbru by Reykjavik Keflavik Airport                   560\n",
       "Höfn Hostel（霍芬旅館）                                           553\n",
       "Siglo Hotel by Keahotels                                    550\n",
       "Akureyri Hostel                                             547\n",
       "Grand Hotel Reykjavík（雷克雅未克大酒店）                             546\n",
       "Name: name, Length: 84, dtype: int64"
      ]
     },
     "execution_count": 18,
     "metadata": {},
     "output_type": "execute_result"
    }
   ],
   "source": [
    "iceland_data[\"name\"].value_counts()"
   ]
  },
  {
   "cell_type": "code",
   "execution_count": 20,
   "metadata": {},
   "outputs": [
    {
     "data": {
      "text/plain": [
       "84"
      ]
     },
     "execution_count": 20,
     "metadata": {},
     "output_type": "execute_result"
    }
   ],
   "source": [
    "len(iceland_data[\"name\"].unique())"
   ]
  },
  {
   "cell_type": "code",
   "execution_count": 21,
   "metadata": {},
   "outputs": [],
   "source": [
    "iceland_data.to_csv(\"iceland.csv\",encoding=\"utf-8-sig\")"
   ]
  },
  {
   "cell_type": "code",
   "execution_count": 22,
   "metadata": {},
   "outputs": [],
   "source": [
    "data7 = pd.read_csv(\"greece_20.csv\",index_col=0)\n",
    "data8 = pd.read_csv(\"greece_50.csv\",index_col=0)\n",
    "data9 = pd.read_csv(\"greece_75.csv\",index_col=0)\n"
   ]
  },
  {
   "cell_type": "code",
   "execution_count": 23,
   "metadata": {},
   "outputs": [],
   "source": [
    "greece_data = pd.concat([data7,data8,data9])"
   ]
  },
  {
   "cell_type": "code",
   "execution_count": 24,
   "metadata": {},
   "outputs": [],
   "source": [
    "greece_data.reset_index(drop=True,inplace=True)"
   ]
  },
  {
   "cell_type": "code",
   "execution_count": 25,
   "metadata": {},
   "outputs": [
    {
     "data": {
      "text/plain": [
       "The Stanley（斯坦利酒店）                                         3759\n",
       "Phidias Piraeus Hotel（菲迪亞斯比雷埃弗斯酒店）                         2402\n",
       "Evripides Hotel（艾弗瑞派德酒店）                                   1948\n",
       "Infinity City Boutique Hotel（無限城精品酒店）                      1877\n",
       "Plaza Hotel, Philian Hotels and Resorts（廣場酒店、菲律賓酒店及度假村）    1857\n",
       "                                                           ... \n",
       "31 Doors Hotel                                              542\n",
       "Anemoni Piraeus Hotel                                       533\n",
       "Kentrikon（肯翠康酒店）                                            527\n",
       "Anita Hotel（安尼塔酒店）                                          498\n",
       "Golden Age Athens Hotel（雅典黃金時代酒店）                           482\n",
       "Name: name, Length: 70, dtype: int64"
      ]
     },
     "execution_count": 25,
     "metadata": {},
     "output_type": "execute_result"
    }
   ],
   "source": [
    "greece_data[\"name\"].value_counts()"
   ]
  },
  {
   "cell_type": "code",
   "execution_count": 26,
   "metadata": {},
   "outputs": [
    {
     "data": {
      "text/plain": [
       "70"
      ]
     },
     "execution_count": 26,
     "metadata": {},
     "output_type": "execute_result"
    }
   ],
   "source": [
    "len(greece_data[\"name\"].unique())"
   ]
  },
  {
   "cell_type": "code",
   "execution_count": 27,
   "metadata": {},
   "outputs": [],
   "source": [
    "greece_data.to_csv(\"greece.csv\",encoding=\"utf-8-sig\")"
   ]
  },
  {
   "cell_type": "code",
   "execution_count": null,
   "metadata": {},
   "outputs": [],
   "source": []
  }
 ],
 "metadata": {
  "interpreter": {
   "hash": "e880b6a5c7a5f4b142d9f445d0f040070dabb42b7abdaabc6906731dc44ddb78"
  },
  "kernelspec": {
   "display_name": "Python 3.8.10 ('tensorflow')",
   "language": "python",
   "name": "python3"
  },
  "language_info": {
   "codemirror_mode": {
    "name": "ipython",
    "version": 3
   },
   "file_extension": ".py",
   "mimetype": "text/x-python",
   "name": "python",
   "nbconvert_exporter": "python",
   "pygments_lexer": "ipython3",
   "version": "3.8.10"
  },
  "orig_nbformat": 4
 },
 "nbformat": 4,
 "nbformat_minor": 2
}
